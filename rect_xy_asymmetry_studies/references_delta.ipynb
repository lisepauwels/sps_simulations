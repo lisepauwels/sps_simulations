{
 "cells": [
  {
   "cell_type": "code",
   "execution_count": 1,
   "metadata": {},
   "outputs": [],
   "source": [
    "import xtrack as xt\n",
    "import xobjects as xo\n",
    "import xcoll as xc\n",
    "import xpart as xp\n",
    "import numpy as np\n",
    "import matplotlib.pyplot as plt\n",
    "import matplotlib.colors as colors\n",
    "from mpl_toolkits.mplot3d import Axes3D"
   ]
  },
  {
   "cell_type": "code",
   "execution_count": null,
   "metadata": {},
   "outputs": [
    {
     "data": {
      "application/vnd.jupyter.widget-view+json": {
       "model_id": "e2f0dd130efc4c92adbb03e3081d1435",
       "version_major": 2,
       "version_minor": 0
      },
      "text/plain": [
       "Loading line from dict:   0%|          | 0/31362 [00:00<?, ?it/s]"
      ]
     },
     "metadata": {},
     "output_type": "display_data"
    },
    {
     "name": "stdout",
     "output_type": "stream",
     "text": [
      "Done loading line from dict.           \n"
     ]
    }
   ],
   "source": [
    "line = xt.Line.from_json('../injection_lines/injection_thin_approx_ap_with_deferred_expressions.json')\n",
    "\n",
    "#Set cavitiy voltages correctly\n",
    "line['acl.31735'].frequency = 800e6\n",
    "line['acl.31735'].voltage = 2 * 0.18e6\n",
    "line['acl.31735'].lag = 180\n",
    "\n",
    "line['actcse.31632'].frequency = 200e6\n",
    "line['actcse.31632'].voltage = 4.5e6\n",
    "line['actcse.31632'].lag = 180\n",
    "\n",
    "#Add displacment of vertical dogleg in LSS5\n",
    "line['qd.51710']._shift_y = -5.273e-3\n",
    "line['qfa.51810']._shift_y = -17.369e-3\n",
    "line['qd.51910']._shift_y = -5.273e-3\n",
    "\n",
    "tab = line.get_table()\n",
    "mask = [el.startswith('Limit') for el in tab.element_type]\n",
    "\n",
    "for name in tab.name[mask]:\n",
    "    if 'qd.51710' in name:\n",
    "        line[name]._shift_y = -5.273e-3\n",
    "    elif 'qfa.51810' in name:\n",
    "        line[name]._shift_y = -17.369e-3\n",
    "    elif 'qd.51910' in name:\n",
    "        line[name]._shift_y = -5.273e-3\n",
    "tw = line.twiss()"
   ]
  },
  {
   "cell_type": "code",
   "execution_count": 36,
   "metadata": {},
   "outputs": [],
   "source": [
    "particle_on_co = tw.particle_on_co.copy()\n",
    "particle_ref = line.particle_ref.copy()\n",
    "R_matrix = tw.R_matrix.copy()\n",
    "tw2 = line.twiss(particle_on_co=particle_on_co,\n",
    "                                    particle_ref=particle_ref,\n",
    "                                    R_matrix=R_matrix)"
   ]
  },
  {
   "cell_type": "code",
   "execution_count": 46,
   "metadata": {},
   "outputs": [],
   "source": [
    "from xtrack.twiss import find_closed_orbit_line"
   ]
  },
  {
   "cell_type": "code",
   "execution_count": 47,
   "metadata": {},
   "outputs": [],
   "source": [
    "particle_on_co2 = find_closed_orbit_line(line)"
   ]
  },
  {
   "cell_type": "code",
   "execution_count": 2,
   "metadata": {},
   "outputs": [],
   "source": [
    "num_turns = 1000\n",
    "num_particles = 1000\n",
    "\n",
    "nemitt_x = 3.5e-6\n",
    "nemitt_y = 3.5e-6"
   ]
  },
  {
   "cell_type": "code",
   "execution_count": 14,
   "metadata": {},
   "outputs": [
    {
     "data": {
      "application/vnd.jupyter.widget-view+json": {
       "model_id": "15280ff8927e42c1a29e36be5b751647",
       "version_major": 2,
       "version_minor": 0
      },
      "text/plain": [
       "Checking aperture:   0%|          | 0/30210 [00:00<?, ?it/s]"
      ]
     },
     "metadata": {},
     "output_type": "display_data"
    },
    {
     "name": "stdout",
     "output_type": "stream",
     "text": [
      "Done checking aperture.           \n",
      "0 thin elements miss associated aperture (upstream):\n",
      "[]\n",
      "0 thick elements miss associated aperture (upstream or downstream):\n",
      "[]\n",
      "Disable xdeps expressions\n",
      "Replace slices with equivalent elements\n",
      "Remove markers\n",
      "Remove inactive multipoles\n",
      "Merge consecutive multipoles\n",
      "Remove redundant apertures\n",
      "Remove zero length drifts\n",
      "Merge consecutive drifts\n",
      "Use simple bends\n",
      "Use simple quadrupoles\n",
      "Rebuild tracker data\n"
     ]
    }
   ],
   "source": [
    "#Check aperture\n",
    "df_with_coll = line.check_aperture()\n",
    "\n",
    "#OPtimize line and optics\n",
    "# line.build_tracker()\n",
    "# tw = line.twiss()\n",
    "line.collimators.assign_optics(twiss=tw, nemitt_x=nemitt_x, nemitt_y=nemitt_y)\n",
    "line.optimize_for_tracking()"
   ]
  },
  {
   "cell_type": "code",
   "execution_count": 15,
   "metadata": {},
   "outputs": [],
   "source": [
    "#x and y on closed orbit\n",
    "part = line.build_particles(\n",
    "    x_norm = np.zeros(num_particles),\n",
    "    y_norm = np.zeros(num_particles),\n",
    "    px_norm = np.zeros(num_particles),\n",
    "    py_norm = np.zeros(num_particles),\n",
    "    zeta= np.zeros(num_particles),\n",
    "    delta = np.linspace(-5e-3, 5e-3, num_particles),\n",
    "    nemitt_x=3.5e-6, nemitt_y=3.5e-6\n",
    ")\n",
    "#variations for close to bottleneck\n",
    "# x_sigma = 12\n",
    "# y_sigma = 5.5\n",
    "# angle = 0 #np.pi/4, np.pi/2, np.pi*3/4, np.pi, np.pi*5/4, np.pi*3/2, np.pi*7/4\n",
    "\n",
    "# part = xt.Particles(\n",
    "#     x_norm = np.ones(num_particles)*x_sigma*np.cos(angle),\n",
    "#     y_norm = np.ones(num_particles)*y_sigma*np.cos(angle),\n",
    "#     px_norm = np.ones(num_particles)*x_sigma*np.sin(angle),\n",
    "#     py_norm = np.ones(num_particles)*y_sigma*np.sin(angle),\n",
    "#     zeta= np.zeros(num_particles),\n",
    "#     delta = np.linspace(-5e-3, 5e-3, num_particles),\n",
    "# )"
   ]
  },
  {
   "cell_type": "code",
   "execution_count": 7,
   "metadata": {},
   "outputs": [
    {
     "name": "stdout",
     "output_type": "stream",
     "text": [
      "\n",
      "\n",
      "Could not find point within tolerance.\n",
      "\n",
      "\n",
      "Warning! Need second attempt on closed orbit search\n",
      "\n",
      "\n",
      "Could not find point within tolerance.\n",
      "\n",
      "\n"
     ]
    },
    {
     "ename": "ClosedOrbitSearchError",
     "evalue": "",
     "output_type": "error",
     "traceback": [
      "\u001b[0;31m---------------------------------------------------------------------------\u001b[0m",
      "\u001b[0;31mClosedOrbitSearchError\u001b[0m                    Traceback (most recent call last)",
      "Cell \u001b[0;32mIn[7], line 1\u001b[0m\n\u001b[0;32m----> 1\u001b[0m tw \u001b[38;5;241m=\u001b[39m \u001b[43mline\u001b[49m\u001b[38;5;241;43m.\u001b[39;49m\u001b[43mtwiss\u001b[49m\u001b[43m(\u001b[49m\u001b[43m)\u001b[49m\n",
      "File \u001b[0;32m~/Xsuite/xtrack/xtrack/line.py:1324\u001b[0m, in \u001b[0;36mLine.twiss\u001b[0;34m(self, particle_ref, method, particle_on_co, R_matrix, W_matrix, delta0, zeta0, r_sigma, nemitt_x, nemitt_y, delta_disp, delta_chrom, zeta_disp, co_guess, steps_r_matrix, co_search_settings, at_elements, at_s, continue_on_closed_orbit_error, freeze_longitudinal, freeze_energy, values_at_element_exit, radiation_method, eneloss_and_damping, radiation_integrals, start, end, init, num_turns, skip_global_quantities, matrix_responsiveness_tol, matrix_stability_tol, symplectify, reverse, use_full_inverse, strengths, hide_thin_groups, search_for_t_rev, num_turns_search_t_rev, only_twiss_init, only_markers, only_orbit, compute_R_element_by_element, compute_lattice_functions, compute_chromatic_properties, init_at, x, px, y, py, zeta, delta, betx, alfx, bety, alfy, bets, dx, dpx, dy, dpy, dzeta, mux, muy, muzeta, ax_chrom, bx_chrom, ay_chrom, by_chrom, ddx, ddpx, ddy, ddpy, zero_at, co_search_at, include_collective, _continue_if_lost, _keep_tracking_data, _keep_initial_particles, _initial_particles, _ebe_monitor, ele_start, ele_stop, ele_init, twiss_init)\u001b[0m\n\u001b[1;32m   1321\u001b[0m         tw_kwargs[kk] \u001b[38;5;241m=\u001b[39m vv\n\u001b[1;32m   1323\u001b[0m tw_kwargs\u001b[38;5;241m.\u001b[39mpop(\u001b[38;5;124m'\u001b[39m\u001b[38;5;124mself\u001b[39m\u001b[38;5;124m'\u001b[39m)\n\u001b[0;32m-> 1324\u001b[0m \u001b[38;5;28;01mreturn\u001b[39;00m \u001b[43mtwiss_line\u001b[49m\u001b[43m(\u001b[49m\u001b[38;5;28;43mself\u001b[39;49m\u001b[43m,\u001b[49m\u001b[43m \u001b[49m\u001b[38;5;241;43m*\u001b[39;49m\u001b[38;5;241;43m*\u001b[39;49m\u001b[43mtw_kwargs\u001b[49m\u001b[43m)\u001b[49m\n",
      "File \u001b[0;32m~/Xsuite/xtrack/xtrack/twiss.py:625\u001b[0m, in \u001b[0;36mtwiss_line\u001b[0;34m(line, particle_ref, method, particle_on_co, R_matrix, W_matrix, delta0, zeta0, r_sigma, nemitt_x, nemitt_y, delta_disp, delta_chrom, zeta_disp, co_guess, steps_r_matrix, co_search_settings, at_elements, at_s, continue_on_closed_orbit_error, freeze_longitudinal, freeze_energy, values_at_element_exit, radiation_method, eneloss_and_damping, radiation_integrals, start, end, init, num_turns, skip_global_quantities, matrix_responsiveness_tol, matrix_stability_tol, symplectify, reverse, use_full_inverse, strengths, hide_thin_groups, search_for_t_rev, num_turns_search_t_rev, only_twiss_init, only_orbit, compute_R_element_by_element, compute_lattice_functions, compute_chromatic_properties, init_at, x, px, y, py, zeta, delta, betx, alfx, bety, alfy, bets, dx, dpx, dy, dpy, dzeta, mux, muy, muzeta, ax_chrom, bx_chrom, ay_chrom, by_chrom, ddx, ddpx, ddy, ddpy, zero_at, co_search_at, include_collective, _continue_if_lost, _keep_tracking_data, _keep_initial_particles, _initial_particles, _ebe_monitor, only_markers)\u001b[0m\n\u001b[1;32m    621\u001b[0m     \u001b[38;5;28;01massert\u001b[39;00m \u001b[38;5;129;01mnot\u001b[39;00m _initial_particles\n\u001b[1;32m    623\u001b[0m     steps_r_matrix \u001b[38;5;241m=\u001b[39m _complete_steps_r_matrix_with_default(steps_r_matrix)\n\u001b[0;32m--> 625\u001b[0m     init, R_matrix, steps_r_matrix, eigenvalues, Rot, RR_ebe \u001b[38;5;241m=\u001b[39m \u001b[43m_find_periodic_solution\u001b[49m\u001b[43m(\u001b[49m\n\u001b[1;32m    626\u001b[0m \u001b[43m        \u001b[49m\u001b[43mline\u001b[49m\u001b[38;5;241;43m=\u001b[39;49m\u001b[43mline\u001b[49m\u001b[43m,\u001b[49m\u001b[43m \u001b[49m\u001b[43mparticle_on_co\u001b[49m\u001b[38;5;241;43m=\u001b[39;49m\u001b[43mparticle_on_co\u001b[49m\u001b[43m,\u001b[49m\n\u001b[1;32m    627\u001b[0m \u001b[43m        \u001b[49m\u001b[43mparticle_ref\u001b[49m\u001b[38;5;241;43m=\u001b[39;49m\u001b[43mparticle_ref\u001b[49m\u001b[43m,\u001b[49m\u001b[43m \u001b[49m\u001b[43mmethod\u001b[49m\u001b[38;5;241;43m=\u001b[39;49m\u001b[43mmethod\u001b[49m\u001b[43m,\u001b[49m\n\u001b[1;32m    628\u001b[0m \u001b[43m        \u001b[49m\u001b[43mco_search_settings\u001b[49m\u001b[38;5;241;43m=\u001b[39;49m\u001b[43mco_search_settings\u001b[49m\u001b[43m,\u001b[49m\n\u001b[1;32m    629\u001b[0m \u001b[43m        \u001b[49m\u001b[43mcontinue_on_closed_orbit_error\u001b[49m\u001b[38;5;241;43m=\u001b[39;49m\u001b[43mcontinue_on_closed_orbit_error\u001b[49m\u001b[43m,\u001b[49m\n\u001b[1;32m    630\u001b[0m \u001b[43m        \u001b[49m\u001b[43mdelta0\u001b[49m\u001b[38;5;241;43m=\u001b[39;49m\u001b[43mdelta0\u001b[49m\u001b[43m,\u001b[49m\u001b[43m \u001b[49m\u001b[43mzeta0\u001b[49m\u001b[38;5;241;43m=\u001b[39;49m\u001b[43mzeta0\u001b[49m\u001b[43m,\u001b[49m\u001b[43m \u001b[49m\u001b[43msteps_r_matrix\u001b[49m\u001b[38;5;241;43m=\u001b[39;49m\u001b[43msteps_r_matrix\u001b[49m\u001b[43m,\u001b[49m\n\u001b[1;32m    631\u001b[0m \u001b[43m        \u001b[49m\u001b[43mW_matrix\u001b[49m\u001b[38;5;241;43m=\u001b[39;49m\u001b[43mW_matrix\u001b[49m\u001b[43m,\u001b[49m\u001b[43m \u001b[49m\u001b[43mR_matrix\u001b[49m\u001b[38;5;241;43m=\u001b[39;49m\u001b[43mR_matrix\u001b[49m\u001b[43m,\u001b[49m\n\u001b[1;32m    632\u001b[0m \u001b[43m        \u001b[49m\u001b[43mco_guess\u001b[49m\u001b[38;5;241;43m=\u001b[39;49m\u001b[43mco_guess\u001b[49m\u001b[43m,\u001b[49m\n\u001b[1;32m    633\u001b[0m \u001b[43m        \u001b[49m\u001b[43mdelta_disp\u001b[49m\u001b[38;5;241;43m=\u001b[39;49m\u001b[43mdelta_disp\u001b[49m\u001b[43m,\u001b[49m\u001b[43m \u001b[49m\u001b[43msymplectify\u001b[49m\u001b[38;5;241;43m=\u001b[39;49m\u001b[43msymplectify\u001b[49m\u001b[43m,\u001b[49m\n\u001b[1;32m    634\u001b[0m \u001b[43m        \u001b[49m\u001b[43mmatrix_responsiveness_tol\u001b[49m\u001b[38;5;241;43m=\u001b[39;49m\u001b[43mmatrix_responsiveness_tol\u001b[49m\u001b[43m,\u001b[49m\n\u001b[1;32m    635\u001b[0m \u001b[43m        \u001b[49m\u001b[43mmatrix_stability_tol\u001b[49m\u001b[38;5;241;43m=\u001b[39;49m\u001b[43mmatrix_stability_tol\u001b[49m\u001b[43m,\u001b[49m\n\u001b[1;32m    636\u001b[0m \u001b[43m        \u001b[49m\u001b[43mstart\u001b[49m\u001b[38;5;241;43m=\u001b[39;49m\u001b[43mstart\u001b[49m\u001b[43m,\u001b[49m\u001b[43m \u001b[49m\u001b[43mend\u001b[49m\u001b[38;5;241;43m=\u001b[39;49m\u001b[43mend\u001b[49m\u001b[43m,\u001b[49m\n\u001b[1;32m    637\u001b[0m \u001b[43m        \u001b[49m\u001b[43mnum_turns\u001b[49m\u001b[38;5;241;43m=\u001b[39;49m\u001b[43mnum_turns\u001b[49m\u001b[43m,\u001b[49m\n\u001b[1;32m    638\u001b[0m \u001b[43m        \u001b[49m\u001b[43mco_search_at\u001b[49m\u001b[38;5;241;43m=\u001b[39;49m\u001b[43mco_search_at\u001b[49m\u001b[43m,\u001b[49m\n\u001b[1;32m    639\u001b[0m \u001b[43m        \u001b[49m\u001b[43msearch_for_t_rev\u001b[49m\u001b[38;5;241;43m=\u001b[39;49m\u001b[43msearch_for_t_rev\u001b[49m\u001b[43m,\u001b[49m\n\u001b[1;32m    640\u001b[0m \u001b[43m        \u001b[49m\u001b[43mnum_turns_search_t_rev\u001b[49m\u001b[38;5;241;43m=\u001b[39;49m\u001b[43mnum_turns_search_t_rev\u001b[49m\u001b[43m,\u001b[49m\n\u001b[1;32m    641\u001b[0m \u001b[43m        \u001b[49m\u001b[43mnemitt_x\u001b[49m\u001b[38;5;241;43m=\u001b[39;49m\u001b[43mnemitt_x\u001b[49m\u001b[43m,\u001b[49m\u001b[43m \u001b[49m\u001b[43mnemitt_y\u001b[49m\u001b[38;5;241;43m=\u001b[39;49m\u001b[43mnemitt_y\u001b[49m\u001b[43m,\u001b[49m\u001b[43m \u001b[49m\u001b[43mr_sigma\u001b[49m\u001b[38;5;241;43m=\u001b[39;49m\u001b[43mr_sigma\u001b[49m\u001b[43m,\u001b[49m\n\u001b[1;32m    642\u001b[0m \u001b[43m        \u001b[49m\u001b[43mcompute_R_element_by_element\u001b[49m\u001b[38;5;241;43m=\u001b[39;49m\u001b[43mcompute_R_element_by_element\u001b[49m\u001b[43m,\u001b[49m\n\u001b[1;32m    643\u001b[0m \u001b[43m        \u001b[49m\u001b[43monly_markers\u001b[49m\u001b[38;5;241;43m=\u001b[39;49m\u001b[43monly_markers\u001b[49m\u001b[43m,\u001b[49m\n\u001b[1;32m    644\u001b[0m \u001b[43m        \u001b[49m\u001b[43monly_orbit\u001b[49m\u001b[38;5;241;43m=\u001b[39;49m\u001b[43monly_orbit\u001b[49m\u001b[43m,\u001b[49m\n\u001b[1;32m    645\u001b[0m \u001b[43m        \u001b[49m\u001b[43mperiodic_mode\u001b[49m\u001b[38;5;241;43m=\u001b[39;49m\u001b[43mperiodic_mode\u001b[49m\u001b[43m,\u001b[49m\n\u001b[1;32m    646\u001b[0m \u001b[43m        \u001b[49m\u001b[43minclude_collective\u001b[49m\u001b[38;5;241;43m=\u001b[39;49m\u001b[43minclude_collective\u001b[49m\u001b[43m,\u001b[49m\n\u001b[1;32m    647\u001b[0m \u001b[43m        \u001b[49m\u001b[43m)\u001b[49m\n\u001b[1;32m    648\u001b[0m \u001b[38;5;28;01melse\u001b[39;00m:\n\u001b[1;32m    649\u001b[0m     \u001b[38;5;66;03m# force\u001b[39;00m\n\u001b[1;32m    650\u001b[0m     skip_global_quantities \u001b[38;5;241m=\u001b[39m \u001b[38;5;28;01mTrue\u001b[39;00m\n",
      "File \u001b[0;32m~/Xsuite/xtrack/xtrack/twiss.py:1849\u001b[0m, in \u001b[0;36m_find_periodic_solution\u001b[0;34m(line, particle_on_co, particle_ref, method, co_search_settings, continue_on_closed_orbit_error, delta0, zeta0, steps_r_matrix, W_matrix, R_matrix, co_guess, delta_disp, symplectify, matrix_responsiveness_tol, matrix_stability_tol, nemitt_x, nemitt_y, r_sigma, start, end, num_turns, co_search_at, search_for_t_rev, num_turns_search_t_rev, compute_R_element_by_element, only_markers, only_orbit, periodic_mode, include_collective)\u001b[0m\n\u001b[1;32m   1847\u001b[0m     \u001b[38;5;28;01mif\u001b[39;00m search_for_t_rev:\n\u001b[1;32m   1848\u001b[0m         \u001b[38;5;28;01massert\u001b[39;00m method \u001b[38;5;241m==\u001b[39m \u001b[38;5;124m'\u001b[39m\u001b[38;5;124m6d\u001b[39m\u001b[38;5;124m'\u001b[39m, \u001b[38;5;124m'\u001b[39m\u001b[38;5;124msearch_for_t_rev possible when `method` is \u001b[39m\u001b[38;5;124m\"\u001b[39m\u001b[38;5;124m6d\u001b[39m\u001b[38;5;124m\"\u001b[39m\u001b[38;5;124m'\u001b[39m\n\u001b[0;32m-> 1849\u001b[0m     part_on_co \u001b[38;5;241m=\u001b[39m \u001b[43mline\u001b[49m\u001b[38;5;241;43m.\u001b[39;49m\u001b[43mfind_closed_orbit\u001b[49m\u001b[43m(\u001b[49m\n\u001b[1;32m   1850\u001b[0m \u001b[43m                            \u001b[49m\u001b[43mco_guess\u001b[49m\u001b[38;5;241;43m=\u001b[39;49m\u001b[43mco_guess\u001b[49m\u001b[43m,\u001b[49m\n\u001b[1;32m   1851\u001b[0m \u001b[43m                            \u001b[49m\u001b[43mparticle_ref\u001b[49m\u001b[38;5;241;43m=\u001b[39;49m\u001b[43mparticle_ref\u001b[49m\u001b[43m,\u001b[49m\n\u001b[1;32m   1852\u001b[0m \u001b[43m                            \u001b[49m\u001b[43mco_search_settings\u001b[49m\u001b[38;5;241;43m=\u001b[39;49m\u001b[43mco_search_settings\u001b[49m\u001b[43m,\u001b[49m\n\u001b[1;32m   1853\u001b[0m \u001b[43m                            \u001b[49m\u001b[43mcontinue_on_closed_orbit_error\u001b[49m\u001b[38;5;241;43m=\u001b[39;49m\u001b[43mcontinue_on_closed_orbit_error\u001b[49m\u001b[43m,\u001b[49m\n\u001b[1;32m   1854\u001b[0m \u001b[43m                            \u001b[49m\u001b[43mdelta0\u001b[49m\u001b[38;5;241;43m=\u001b[39;49m\u001b[43mdelta0\u001b[49m\u001b[43m,\u001b[49m\n\u001b[1;32m   1855\u001b[0m \u001b[43m                            \u001b[49m\u001b[43mzeta0\u001b[49m\u001b[38;5;241;43m=\u001b[39;49m\u001b[43mzeta0\u001b[49m\u001b[43m,\u001b[49m\n\u001b[1;32m   1856\u001b[0m \u001b[43m                            \u001b[49m\u001b[43mstart\u001b[49m\u001b[38;5;241;43m=\u001b[39;49m\u001b[43mstart\u001b[49m\u001b[43m,\u001b[49m\n\u001b[1;32m   1857\u001b[0m \u001b[43m                            \u001b[49m\u001b[43mend\u001b[49m\u001b[38;5;241;43m=\u001b[39;49m\u001b[43mend\u001b[49m\u001b[43m,\u001b[49m\n\u001b[1;32m   1858\u001b[0m \u001b[43m                            \u001b[49m\u001b[43mnum_turns\u001b[49m\u001b[38;5;241;43m=\u001b[39;49m\u001b[43mnum_turns\u001b[49m\u001b[43m,\u001b[49m\n\u001b[1;32m   1859\u001b[0m \u001b[43m                            \u001b[49m\u001b[43mco_search_at\u001b[49m\u001b[38;5;241;43m=\u001b[39;49m\u001b[43mco_search_at\u001b[49m\u001b[43m,\u001b[49m\n\u001b[1;32m   1860\u001b[0m \u001b[43m                            \u001b[49m\u001b[43msearch_for_t_rev\u001b[49m\u001b[38;5;241;43m=\u001b[39;49m\u001b[43msearch_for_t_rev\u001b[49m\u001b[43m,\u001b[49m\n\u001b[1;32m   1861\u001b[0m \u001b[43m                            \u001b[49m\u001b[43mnum_turns_search_t_rev\u001b[49m\u001b[38;5;241;43m=\u001b[39;49m\u001b[43mnum_turns_search_t_rev\u001b[49m\u001b[43m,\u001b[49m\n\u001b[1;32m   1862\u001b[0m \u001b[43m                            \u001b[49m\u001b[43msymmetrize\u001b[49m\u001b[38;5;241;43m=\u001b[39;49m\u001b[43m(\u001b[49m\u001b[43mperiodic_mode\u001b[49m\u001b[43m \u001b[49m\u001b[38;5;241;43m==\u001b[39;49m\u001b[43m \u001b[49m\u001b[38;5;124;43m'\u001b[39;49m\u001b[38;5;124;43mperiodic_symmetric\u001b[39;49m\u001b[38;5;124;43m'\u001b[39;49m\u001b[43m)\u001b[49m\u001b[43m,\u001b[49m\n\u001b[1;32m   1863\u001b[0m \u001b[43m                            \u001b[49m\u001b[43minclude_collective\u001b[49m\u001b[38;5;241;43m=\u001b[39;49m\u001b[43minclude_collective\u001b[49m\n\u001b[1;32m   1864\u001b[0m \u001b[43m                            \u001b[49m\u001b[43m)\u001b[49m\n\u001b[1;32m   1865\u001b[0m \u001b[38;5;28;01mif\u001b[39;00m only_orbit:\n\u001b[1;32m   1866\u001b[0m     W_matrix \u001b[38;5;241m=\u001b[39m np\u001b[38;5;241m.\u001b[39meye(\u001b[38;5;241m6\u001b[39m)\n",
      "File \u001b[0;32m~/Xsuite/xtrack/xtrack/line.py:1757\u001b[0m, in \u001b[0;36mLine.find_closed_orbit\u001b[0;34m(self, co_guess, particle_ref, co_search_settings, delta_zeta, delta0, zeta0, continue_on_closed_orbit_error, freeze_longitudinal, start, end, num_turns, co_search_at, search_for_t_rev, num_turns_search_t_rev, symmetrize, include_collective)\u001b[0m\n\u001b[1;32m   1754\u001b[0m \u001b[38;5;28;01melse\u001b[39;00m:\n\u001b[1;32m   1755\u001b[0m     line \u001b[38;5;241m=\u001b[39m \u001b[38;5;28mself\u001b[39m\n\u001b[0;32m-> 1757\u001b[0m \u001b[38;5;28;01mreturn\u001b[39;00m \u001b[43mfind_closed_orbit_line\u001b[49m\u001b[43m(\u001b[49m\u001b[43mline\u001b[49m\u001b[43m,\u001b[49m\u001b[43m \u001b[49m\u001b[43mco_guess\u001b[49m\u001b[38;5;241;43m=\u001b[39;49m\u001b[43mco_guess\u001b[49m\u001b[43m,\u001b[49m\n\u001b[1;32m   1758\u001b[0m \u001b[43m                         \u001b[49m\u001b[43mparticle_ref\u001b[49m\u001b[38;5;241;43m=\u001b[39;49m\u001b[43mparticle_ref\u001b[49m\u001b[43m,\u001b[49m\u001b[43m \u001b[49m\u001b[43mdelta0\u001b[49m\u001b[38;5;241;43m=\u001b[39;49m\u001b[43mdelta0\u001b[49m\u001b[43m,\u001b[49m\u001b[43m \u001b[49m\u001b[43mzeta0\u001b[49m\u001b[38;5;241;43m=\u001b[39;49m\u001b[43mzeta0\u001b[49m\u001b[43m,\u001b[49m\n\u001b[1;32m   1759\u001b[0m \u001b[43m                         \u001b[49m\u001b[43mco_search_settings\u001b[49m\u001b[38;5;241;43m=\u001b[39;49m\u001b[43mco_search_settings\u001b[49m\u001b[43m,\u001b[49m\u001b[43m \u001b[49m\u001b[43mdelta_zeta\u001b[49m\u001b[38;5;241;43m=\u001b[39;49m\u001b[43mdelta_zeta\u001b[49m\u001b[43m,\u001b[49m\n\u001b[1;32m   1760\u001b[0m \u001b[43m                         \u001b[49m\u001b[43mcontinue_on_closed_orbit_error\u001b[49m\u001b[38;5;241;43m=\u001b[39;49m\u001b[43mcontinue_on_closed_orbit_error\u001b[49m\u001b[43m,\u001b[49m\n\u001b[1;32m   1761\u001b[0m \u001b[43m                         \u001b[49m\u001b[43mstart\u001b[49m\u001b[38;5;241;43m=\u001b[39;49m\u001b[43mstart\u001b[49m\u001b[43m,\u001b[49m\u001b[43m \u001b[49m\u001b[43mend\u001b[49m\u001b[38;5;241;43m=\u001b[39;49m\u001b[43mend\u001b[49m\u001b[43m,\u001b[49m\u001b[43m \u001b[49m\u001b[43mnum_turns\u001b[49m\u001b[38;5;241;43m=\u001b[39;49m\u001b[43mnum_turns\u001b[49m\u001b[43m,\u001b[49m\n\u001b[1;32m   1762\u001b[0m \u001b[43m                         \u001b[49m\u001b[43mco_search_at\u001b[49m\u001b[38;5;241;43m=\u001b[39;49m\u001b[43mco_search_at\u001b[49m\u001b[43m,\u001b[49m\n\u001b[1;32m   1763\u001b[0m \u001b[43m                         \u001b[49m\u001b[43msearch_for_t_rev\u001b[49m\u001b[38;5;241;43m=\u001b[39;49m\u001b[43msearch_for_t_rev\u001b[49m\u001b[43m,\u001b[49m\n\u001b[1;32m   1764\u001b[0m \u001b[43m                         \u001b[49m\u001b[43mnum_turns_search_t_rev\u001b[49m\u001b[38;5;241;43m=\u001b[39;49m\u001b[43mnum_turns_search_t_rev\u001b[49m\u001b[43m,\u001b[49m\n\u001b[1;32m   1765\u001b[0m \u001b[43m                         \u001b[49m\u001b[43msymmetrize\u001b[49m\u001b[38;5;241;43m=\u001b[39;49m\u001b[43msymmetrize\u001b[49m\u001b[43m)\u001b[49m\n",
      "File \u001b[0;32m~/Xsuite/xtrack/xtrack/twiss.py:2259\u001b[0m, in \u001b[0;36mfind_closed_orbit_line\u001b[0;34m(line, co_guess, particle_ref, co_search_settings, delta_zeta, delta0, zeta0, start, end, num_turns, co_search_at, search_for_t_rev, continue_on_closed_orbit_error, num_turns_search_t_rev, symmetrize)\u001b[0m\n\u001b[1;32m   2256\u001b[0m         \u001b[38;5;28;01mbreak\u001b[39;00m\n\u001b[1;32m   2258\u001b[0m \u001b[38;5;28;01mif\u001b[39;00m ier \u001b[38;5;241m!=\u001b[39m \u001b[38;5;241m1\u001b[39m \u001b[38;5;129;01mand\u001b[39;00m \u001b[38;5;129;01mnot\u001b[39;00m(continue_on_closed_orbit_error):\n\u001b[0;32m-> 2259\u001b[0m     \u001b[38;5;28;01mraise\u001b[39;00m ClosedOrbitSearchError\n\u001b[1;32m   2261\u001b[0m particle_on_co \u001b[38;5;241m=\u001b[39m co_guess\u001b[38;5;241m.\u001b[39mcopy()\n\u001b[1;32m   2262\u001b[0m particle_on_co\u001b[38;5;241m.\u001b[39mx \u001b[38;5;241m=\u001b[39m res[\u001b[38;5;241m0\u001b[39m]\n",
      "\u001b[0;31mClosedOrbitSearchError\u001b[0m: "
     ]
    }
   ],
   "source": [
    "tw = line.twiss()"
   ]
  },
  {
   "cell_type": "code",
   "execution_count": 11,
   "metadata": {},
   "outputs": [
    {
     "data": {
      "text/plain": [
       "30212"
      ]
     },
     "execution_count": 11,
     "metadata": {},
     "output_type": "execute_result"
    }
   ],
   "source": [
    "len(line.element_names)"
   ]
  },
  {
   "cell_type": "code",
   "execution_count": 16,
   "metadata": {},
   "outputs": [
    {
     "data": {
      "application/vnd.jupyter.widget-view+json": {
       "model_id": "be6b77a9c5fb4291a7c391173f6920ee",
       "version_major": 2,
       "version_minor": 0
      },
      "text/plain": [
       "Loading line from dict:   0%|          | 0/31362 [00:00<?, ?it/s]"
      ]
     },
     "metadata": {},
     "output_type": "display_data"
    },
    {
     "name": "stdout",
     "output_type": "stream",
     "text": [
      "Done loading line from dict.           \n"
     ]
    }
   ],
   "source": [
    "line_no_opt = xt.Line.from_json('../injection_lines/injection_thin_approx_ap_with_deferred_expressions.json')\n",
    "\n",
    "#Set cavitiy voltages correctly\n",
    "line_no_opt['acl.31735'].frequency = 800e6\n",
    "line_no_opt['acl.31735'].voltage = 2 * 0.18e6\n",
    "line_no_opt['acl.31735'].lag = 180\n",
    "\n",
    "line_no_opt['actcse.31632'].frequency = 200e6\n",
    "line_no_opt['actcse.31632'].voltage = 4.5e6\n",
    "line_no_opt['actcse.31632'].lag = 180\n",
    "\n",
    "#Add displacment of vertical dogleg in LSS5\n",
    "line_no_opt['qd.51710'].shift_y = -5.273e-3\n",
    "line_no_opt['qfa.51810'].shift_y = -17.369e-3\n",
    "line_no_opt['qd.51910'].shift_y = -5.273e-3\n",
    "\n",
    "tab = line_no_opt.get_table()\n",
    "mask = [el.startswith('Limit') for el in tab.element_type]\n",
    "\n",
    "for name in tab.name[mask]:\n",
    "    if 'qd.51710' in name:\n",
    "        line_no_opt[name].shift_y = -5.273e-3\n",
    "    elif 'qfa.51810' in name:\n",
    "        line_no_opt[name].shift_y = -17.369e-3\n",
    "    elif 'qd.51910' in name:\n",
    "        line_no_opt[name].shift_y = -5.273e-3"
   ]
  },
  {
   "cell_type": "code",
   "execution_count": 17,
   "metadata": {},
   "outputs": [],
   "source": [
    "tw = line_no_opt.twiss()"
   ]
  },
  {
   "cell_type": "code",
   "execution_count": 22,
   "metadata": {},
   "outputs": [
    {
     "data": {
      "text/plain": [
       "[<matplotlib.lines.Line2D at 0x7f7350949850>]"
      ]
     },
     "execution_count": 22,
     "metadata": {},
     "output_type": "execute_result"
    },
    {
     "data": {
      "image/png": "[encoded data removed]",
      "text/plain": [
       "<Figure size 640x480 with 1 Axes>"
      ]
     },
     "metadata": {},
     "output_type": "display_data"
    }
   ],
   "source": [
    "plt.figure()\n",
    "plt.plot(tw.s, tw.x)"
   ]
  },
  {
   "cell_type": "code",
   "execution_count": 23,
   "metadata": {},
   "outputs": [
    {
     "data": {
      "text/plain": [
       "[<matplotlib.lines.Line2D at 0x7f734ec47510>]"
      ]
     },
     "execution_count": 23,
     "metadata": {},
     "output_type": "execute_result"
    },
    {
     "data": {
      "image/png": "[encoded data removed]",
      "text/plain": [
       "<Figure size 640x480 with 1 Axes>"
      ]
     },
     "metadata": {},
     "output_type": "display_data"
    }
   ],
   "source": [
    "plt.figure()\n",
    "plt.plot(tw2.s, tw2.x)"
   ]
  },
  {
   "cell_type": "code",
   "execution_count": 19,
   "metadata": {},
   "outputs": [
    {
     "data": {
      "application/vnd.jupyter.widget-view+json": {
       "model_id": "28458dbb0281494e9978dc4b953576f1",
       "version_major": 2,
       "version_minor": 0
      },
      "text/plain": [
       "Loading line from dict:   0%|          | 0/31362 [00:00<?, ?it/s]"
      ]
     },
     "metadata": {},
     "output_type": "display_data"
    },
    {
     "name": "stdout",
     "output_type": "stream",
     "text": [
      "Done loading line from dict.           \n",
      "Disable xdeps expressions\n",
      "Replace slices with equivalent elements\n",
      "Remove markers\n",
      "Remove inactive multipoles\n",
      "Merge consecutive multipoles\n",
      "Remove redundant apertures\n",
      "Remove zero length drifts\n",
      "Merge consecutive drifts\n",
      "Use simple bends\n",
      "Use simple quadrupoles\n",
      "Rebuild tracker data\n"
     ]
    }
   ],
   "source": [
    "line_opt = xt.Line.from_json('../injection_lines/injection_thin_approx_ap_with_deferred_expressions.json')\n",
    "\n",
    "#Set cavitiy voltages correctly\n",
    "line_opt['acl.31735'].frequency = 800e6\n",
    "line_opt['acl.31735'].voltage = 2 * 0.18e6\n",
    "line_opt['acl.31735'].lag = 180\n",
    "\n",
    "line_opt['actcse.31632'].frequency = 200e6\n",
    "line_opt['actcse.31632'].voltage = 4.5e6\n",
    "line_opt['actcse.31632'].lag = 180\n",
    "\n",
    "#Add displacment of vertical dogleg in LSS5\n",
    "line_no_opt['qd.51710'].shift_y = -5.273e-3\n",
    "line_no_opt['qfa.51810'].shift_y = -17.369e-3\n",
    "line_no_opt['qd.51910'].shift_y = -5.273e-3\n",
    "\n",
    "tab = line_no_opt.get_table()\n",
    "mask = [el.startswith('Limit') for el in tab.element_type]\n",
    "\n",
    "for name in tab.name[mask]:\n",
    "    if 'qd.51710' in name:\n",
    "        line_no_opt[name].shift_y = -5.273e-3\n",
    "    elif 'qfa.51810' in name:\n",
    "        line_no_opt[name].shift_y = -17.369e-3\n",
    "    elif 'qd.51910' in name:\n",
    "        line_no_opt[name].shift_y = -5.273e-3\n",
    "\n",
    "tw1 = line_opt.twiss()\n",
    "line_opt.optimize_for_tracking()\n",
    "#tw2 = line_opt.twiss()"
   ]
  },
  {
   "cell_type": "code",
   "execution_count": 20,
   "metadata": {},
   "outputs": [],
   "source": [
    "tw2 = line_opt.twiss()"
   ]
  },
  {
   "cell_type": "code",
   "execution_count": 82,
   "metadata": {},
   "outputs": [],
   "source": [
    "from xtrack.twiss import find_closed_orbit_line"
   ]
  },
  {
   "cell_type": "code",
   "execution_count": 83,
   "metadata": {},
   "outputs": [
    {
     "name": "stdout",
     "output_type": "stream",
     "text": [
      "\n",
      "\n",
      "Could not find point within tolerance.\n",
      "\n",
      "\n",
      "Warning! Need second attempt on closed orbit search\n",
      "\n",
      "\n",
      "Could not find point within tolerance.\n",
      "\n",
      "\n"
     ]
    },
    {
     "ename": "ClosedOrbitSearchError",
     "evalue": "",
     "output_type": "error",
     "traceback": [
      "\u001b[0;31m---------------------------------------------------------------------------\u001b[0m",
      "\u001b[0;31mClosedOrbitSearchError\u001b[0m                    Traceback (most recent call last)",
      "Cell \u001b[0;32mIn[83], line 1\u001b[0m\n\u001b[0;32m----> 1\u001b[0m part_on_co_opt \u001b[38;5;241m=\u001b[39m \u001b[43mfind_closed_orbit_line\u001b[49m\u001b[43m(\u001b[49m\u001b[43mline_opt\u001b[49m\u001b[43m)\u001b[49m\n",
      "File \u001b[0;32m~/Xsuite/xtrack/xtrack/twiss.py:2259\u001b[0m, in \u001b[0;36mfind_closed_orbit_line\u001b[0;34m(line, co_guess, particle_ref, co_search_settings, delta_zeta, delta0, zeta0, start, end, num_turns, co_search_at, search_for_t_rev, continue_on_closed_orbit_error, num_turns_search_t_rev, symmetrize)\u001b[0m\n\u001b[1;32m   2256\u001b[0m         \u001b[38;5;28;01mbreak\u001b[39;00m\n\u001b[1;32m   2258\u001b[0m \u001b[38;5;28;01mif\u001b[39;00m ier \u001b[38;5;241m!=\u001b[39m \u001b[38;5;241m1\u001b[39m \u001b[38;5;129;01mand\u001b[39;00m \u001b[38;5;129;01mnot\u001b[39;00m(continue_on_closed_orbit_error):\n\u001b[0;32m-> 2259\u001b[0m     \u001b[38;5;28;01mraise\u001b[39;00m ClosedOrbitSearchError\n\u001b[1;32m   2261\u001b[0m particle_on_co \u001b[38;5;241m=\u001b[39m co_guess\u001b[38;5;241m.\u001b[39mcopy()\n\u001b[1;32m   2262\u001b[0m particle_on_co\u001b[38;5;241m.\u001b[39mx \u001b[38;5;241m=\u001b[39m res[\u001b[38;5;241m0\u001b[39m]\n",
      "\u001b[0;31mClosedOrbitSearchError\u001b[0m: "
     ]
    }
   ],
   "source": [
    "part_on_co_opt = find_closed_orbit_line(line_opt)"
   ]
  },
  {
   "cell_type": "code",
   "execution_count": 79,
   "metadata": {},
   "outputs": [
    {
     "ename": "AttributeError",
     "evalue": "'Line' object has no attribute 'particle_on_co'",
     "output_type": "error",
     "traceback": [
      "\u001b[0;31m---------------------------------------------------------------------------\u001b[0m",
      "\u001b[0;31mAttributeError\u001b[0m                            Traceback (most recent call last)",
      "Cell \u001b[0;32mIn[79], line 1\u001b[0m\n\u001b[0;32m----> 1\u001b[0m \u001b[43mline_no_opt\u001b[49m\u001b[38;5;241;43m.\u001b[39;49m\u001b[43mparticle_on_co\u001b[49m\n",
      "\u001b[0;31mAttributeError\u001b[0m: 'Line' object has no attribute 'particle_on_co'"
     ]
    }
   ],
   "source": [
    "line_no_opt.particle_on_co"
   ]
  },
  {
   "cell_type": "code",
   "execution_count": 70,
   "metadata": {},
   "outputs": [
    {
     "data": {
      "text/plain": [
       "array([0.])"
      ]
     },
     "execution_count": 70,
     "metadata": {},
     "output_type": "execute_result"
    }
   ],
   "source": [
    "line_opt.particle_ref.y"
   ]
  },
  {
   "cell_type": "code",
   "execution_count": 66,
   "metadata": {},
   "outputs": [],
   "source": [
    "line_opt.particle_ref.start_tracking_at_element=np.int64(0)"
   ]
  },
  {
   "cell_type": "code",
   "execution_count": 52,
   "metadata": {},
   "outputs": [],
   "source": [
    "opt_names = line_opt.element_names\n",
    "no_opt_names = line_no_opt.element_names\n",
    "rem_names = {}\n",
    "prev = no_opt_names[0]\n",
    "for name in no_opt_names[1:]:\n",
    "    if 'qd.51710' in name or 'qfa.51810' in name or 'qd.51910' in name:\n",
    "        if name not in opt_names:\n",
    "            rem_names[name] = line_no_opt[name]\n",
    "            idx = line_opt.element_names.index(prev)\n",
    "            line_opt.insert_element(name=name, element=line_no_opt[name], at=idx+1)\n",
    "    prev = name"
   ]
  },
  {
   "cell_type": "code",
   "execution_count": 53,
   "metadata": {},
   "outputs": [
    {
     "name": "stdout",
     "output_type": "stream",
     "text": [
      "qd.51710_entry_aper_upstream\n",
      "qd.51710_entry\n",
      "qd.51710_entry_aper_downstream\n",
      "drift_qd.51710..0\n",
      "qd.51710..0_aper_upstream\n",
      "qd.51710..0\n",
      "qd.51710..0_aper_downstream\n",
      "drift_qd.51710..1\n",
      "qd.51710..1_aper_upstream\n",
      "qd.51710..1\n",
      "qd.51710..1_aper_downstream\n",
      "drift_qd.51710..2\n",
      "qd.51710..2_aper_upstream\n",
      "qd.51710..2\n",
      "qd.51710..2_aper_downstream\n",
      "drift_qd.51710..3\n",
      "qd.51710..3_aper_upstream\n",
      "qd.51710..3\n",
      "qd.51710..3_aper_downstream\n",
      "drift_qd.51710..4\n",
      "qd.51710..4_aper_upstream\n",
      "qd.51710..4\n",
      "qd.51710..4_aper_downstream\n",
      "drift_qd.51710..5\n",
      "qd.51710..5_aper_upstream\n",
      "qd.51710..5\n",
      "qd.51710..5_aper_downstream\n",
      "drift_qd.51710..6\n",
      "qd.51710..6_aper_upstream\n",
      "qd.51710..6\n",
      "qd.51710..6_aper_downstream\n",
      "drift_qd.51710..7\n",
      "qd.51710..7_aper_upstream\n",
      "qd.51710..7\n",
      "qd.51710..7_aper_downstream\n",
      "drift_qd.51710..8\n",
      "qd.51710_exit_aper_upstream\n",
      "qd.51710_exit\n",
      "qd.51710_exit_aper_downstream\n",
      "qfa.51810_aper_upstream\n",
      "qfa.51810\n",
      "qfa.51810_aper_downstream\n",
      "qd.51910_entry_aper_upstream\n",
      "qd.51910_entry\n",
      "qd.51910_entry_aper_downstream\n",
      "drift_qd.51910..0\n",
      "qd.51910..0_aper_upstream\n",
      "qd.51910..0\n",
      "qd.51910..0_aper_downstream\n",
      "drift_qd.51910..1\n",
      "qd.51910..1_aper_upstream\n",
      "qd.51910..1\n",
      "qd.51910..1_aper_downstream\n",
      "drift_qd.51910..2\n",
      "qd.51910..2_aper_upstream\n",
      "qd.51910..2\n",
      "qd.51910..2_aper_downstream\n",
      "drift_qd.51910..3\n",
      "qd.51910..3_aper_upstream\n",
      "qd.51910..3\n",
      "qd.51910..3_aper_downstream\n",
      "drift_qd.51910..4\n",
      "qd.51910..4_aper_upstream\n",
      "qd.51910..4\n",
      "qd.51910..4_aper_downstream\n",
      "drift_qd.51910..5\n",
      "qd.51910..5_aper_upstream\n",
      "qd.51910..5\n",
      "qd.51910..5_aper_downstream\n",
      "drift_qd.51910..6\n",
      "qd.51910..6_aper_upstream\n",
      "qd.51910..6\n",
      "qd.51910..6_aper_downstream\n",
      "drift_qd.51910..7\n",
      "qd.51910..7_aper_upstream\n",
      "qd.51910..7\n",
      "qd.51910..7_aper_downstream\n",
      "drift_qd.51910..8\n",
      "qd.51910_exit_aper_upstream\n",
      "qd.51910_exit\n",
      "qd.51910_exit_aper_downstream\n"
     ]
    }
   ],
   "source": [
    "l2 = []\n",
    "for name in line_opt.element_names:\n",
    "    if 'qd.51710' in name or 'qfa.51810' in name or 'qd.51910' in name:\n",
    "        print(name)\n",
    "        l2.append(name)"
   ]
  },
  {
   "cell_type": "code",
   "execution_count": 54,
   "metadata": {},
   "outputs": [
    {
     "name": "stdout",
     "output_type": "stream",
     "text": [
      "qd.51710_entry_aper_upstream\n",
      "qd.51710_entry\n",
      "qd.51710_entry_aper_downstream\n",
      "drift_qd.51710..0\n",
      "qd.51710..0_aper_upstream\n",
      "qd.51710..0\n",
      "qd.51710..0_aper_downstream\n",
      "drift_qd.51710..1\n",
      "qd.51710..1_aper_upstream\n",
      "qd.51710..1\n",
      "qd.51710..1_aper_downstream\n",
      "drift_qd.51710..2\n",
      "qd.51710..2_aper_upstream\n",
      "qd.51710..2\n",
      "qd.51710..2_aper_downstream\n",
      "drift_qd.51710..3\n",
      "qd.51710..3_aper_upstream\n",
      "qd.51710..3\n",
      "qd.51710..3_aper_downstream\n",
      "drift_qd.51710..4\n",
      "qd.51710..4_aper_upstream\n",
      "qd.51710..4\n",
      "qd.51710..4_aper_downstream\n",
      "drift_qd.51710..5\n",
      "qd.51710..5_aper_upstream\n",
      "qd.51710..5\n",
      "qd.51710..5_aper_downstream\n",
      "drift_qd.51710..6\n",
      "qd.51710..6_aper_upstream\n",
      "qd.51710..6\n",
      "qd.51710..6_aper_downstream\n",
      "drift_qd.51710..7\n",
      "qd.51710..7_aper_upstream\n",
      "qd.51710..7\n",
      "qd.51710..7_aper_downstream\n",
      "drift_qd.51710..8\n",
      "qd.51710_exit_aper_upstream\n",
      "qd.51710_exit\n",
      "qd.51710_exit_aper_downstream\n",
      "qfa.51810_aper_upstream\n",
      "qfa.51810\n",
      "qfa.51810_aper_downstream\n",
      "qd.51910_entry_aper_upstream\n",
      "qd.51910_entry\n",
      "qd.51910_entry_aper_downstream\n",
      "drift_qd.51910..0\n",
      "qd.51910..0_aper_upstream\n",
      "qd.51910..0\n",
      "qd.51910..0_aper_downstream\n",
      "drift_qd.51910..1\n",
      "qd.51910..1_aper_upstream\n",
      "qd.51910..1\n",
      "qd.51910..1_aper_downstream\n",
      "drift_qd.51910..2\n",
      "qd.51910..2_aper_upstream\n",
      "qd.51910..2\n",
      "qd.51910..2_aper_downstream\n",
      "drift_qd.51910..3\n",
      "qd.51910..3_aper_upstream\n",
      "qd.51910..3\n",
      "qd.51910..3_aper_downstream\n",
      "drift_qd.51910..4\n",
      "qd.51910..4_aper_upstream\n",
      "qd.51910..4\n",
      "qd.51910..4_aper_downstream\n",
      "drift_qd.51910..5\n",
      "qd.51910..5_aper_upstream\n",
      "qd.51910..5\n",
      "qd.51910..5_aper_downstream\n",
      "drift_qd.51910..6\n",
      "qd.51910..6_aper_upstream\n",
      "qd.51910..6\n",
      "qd.51910..6_aper_downstream\n",
      "drift_qd.51910..7\n",
      "qd.51910..7_aper_upstream\n",
      "qd.51910..7\n",
      "qd.51910..7_aper_downstream\n",
      "drift_qd.51910..8\n",
      "qd.51910_exit_aper_upstream\n",
      "qd.51910_exit\n",
      "qd.51910_exit_aper_downstream\n"
     ]
    }
   ],
   "source": [
    "l1 = []\n",
    "for name in no_opt_names:\n",
    "    if 'qd.51710' in name or 'qfa.51810' in name or 'qd.51910' in name:\n",
    "        print(name)\n",
    "        l1.append(name)"
   ]
  },
  {
   "cell_type": "code",
   "execution_count": 15,
   "metadata": {},
   "outputs": [
    {
     "name": "stdout",
     "output_type": "stream",
     "text": [
      "qd.51710_entry_aper_upstream\n",
      "qd.51710_entry\n",
      "qd.51710_entry_aper_downstream\n",
      "drift_qd.51710..0\n",
      "qd.51710..0_aper_upstream\n",
      "qd.51710..0\n",
      "qd.51710..0_aper_downstream\n",
      "drift_qd.51710..1\n",
      "qd.51710..1_aper_upstream\n",
      "qd.51710..1\n",
      "qd.51710..1_aper_downstream\n",
      "drift_qd.51710..2\n",
      "qd.51710..2_aper_upstream\n",
      "qd.51710..2\n",
      "qd.51710..2_aper_downstream\n",
      "drift_qd.51710..3\n",
      "qd.51710..3_aper_upstream\n",
      "qd.51710..3\n",
      "qd.51710..3_aper_downstream\n",
      "drift_qd.51710..4\n",
      "qd.51710..4_aper_upstream\n",
      "qd.51710..4\n",
      "qd.51710..4_aper_downstream\n",
      "drift_qd.51710..5\n",
      "qd.51710..5_aper_upstream\n",
      "qd.51710..5\n",
      "qd.51710..5_aper_downstream\n",
      "drift_qd.51710..6\n",
      "qd.51710..6_aper_upstream\n",
      "qd.51710..6\n",
      "qd.51710..6_aper_downstream\n",
      "drift_qd.51710..7\n",
      "qd.51710..7_aper_upstream\n",
      "qd.51710..7\n",
      "qd.51710..7_aper_downstream\n",
      "drift_qd.51710..8\n",
      "qd.51710_exit_aper_upstream\n",
      "qd.51710_exit\n",
      "qd.51710_exit_aper_downstream\n",
      "qfa.51810_aper_upstream\n",
      "qfa.51810\n",
      "qfa.51810_aper_downstream\n",
      "qd.51910_entry_aper_upstream\n",
      "qd.51910_entry\n",
      "qd.51910_entry_aper_downstream\n",
      "drift_qd.51910..0\n",
      "qd.51910..0_aper_upstream\n",
      "qd.51910..0\n",
      "qd.51910..0_aper_downstream\n",
      "drift_qd.51910..1\n",
      "qd.51910..1_aper_upstream\n",
      "qd.51910..1\n",
      "qd.51910..1_aper_downstream\n",
      "drift_qd.51910..2\n",
      "qd.51910..2_aper_upstream\n",
      "qd.51910..2\n",
      "qd.51910..2_aper_downstream\n",
      "drift_qd.51910..3\n",
      "qd.51910..3_aper_upstream\n",
      "qd.51910..3\n",
      "qd.51910..3_aper_downstream\n",
      "drift_qd.51910..4\n",
      "qd.51910..4_aper_upstream\n",
      "qd.51910..4\n",
      "qd.51910..4_aper_downstream\n",
      "drift_qd.51910..5\n",
      "qd.51910..5_aper_upstream\n",
      "qd.51910..5\n",
      "qd.51910..5_aper_downstream\n",
      "drift_qd.51910..6\n",
      "qd.51910..6_aper_upstream\n",
      "qd.51910..6\n",
      "qd.51910..6_aper_downstream\n",
      "drift_qd.51910..7\n",
      "qd.51910..7_aper_upstream\n",
      "qd.51910..7\n",
      "qd.51910..7_aper_downstream\n",
      "drift_qd.51910..8\n",
      "qd.51910_exit_aper_upstream\n",
      "qd.51910_exit\n",
      "qd.51910_exit_aper_downstream\n"
     ]
    }
   ],
   "source": [
    "for name in no_opt_names:\n",
    "    if 'qd.51710' in name or 'qfa.51810' in name or 'qd.51910' in name:\n",
    "        print(name)"
   ]
  },
  {
   "cell_type": "code",
   "execution_count": 56,
   "metadata": {},
   "outputs": [
    {
     "name": "stdout",
     "output_type": "stream",
     "text": [
      "\n",
      "\n",
      "Could not find point within tolerance.\n",
      "\n",
      "\n",
      "Warning! Need second attempt on closed orbit search\n",
      "\n",
      "\n",
      "Could not find point within tolerance.\n",
      "\n",
      "\n"
     ]
    },
    {
     "ename": "ClosedOrbitSearchError",
     "evalue": "",
     "output_type": "error",
     "traceback": [
      "\u001b[0;31m---------------------------------------------------------------------------\u001b[0m",
      "\u001b[0;31mClosedOrbitSearchError\u001b[0m                    Traceback (most recent call last)",
      "Cell \u001b[0;32mIn[56], line 1\u001b[0m\n\u001b[0;32m----> 1\u001b[0m \u001b[43mline_opt\u001b[49m\u001b[38;5;241;43m.\u001b[39;49m\u001b[43mtwiss\u001b[49m\u001b[43m(\u001b[49m\u001b[43m)\u001b[49m\n",
      "File \u001b[0;32m~/Xsuite/xtrack/xtrack/line.py:1324\u001b[0m, in \u001b[0;36mLine.twiss\u001b[0;34m(self, particle_ref, method, particle_on_co, R_matrix, W_matrix, delta0, zeta0, r_sigma, nemitt_x, nemitt_y, delta_disp, delta_chrom, zeta_disp, co_guess, steps_r_matrix, co_search_settings, at_elements, at_s, continue_on_closed_orbit_error, freeze_longitudinal, freeze_energy, values_at_element_exit, radiation_method, eneloss_and_damping, radiation_integrals, start, end, init, num_turns, skip_global_quantities, matrix_responsiveness_tol, matrix_stability_tol, symplectify, reverse, use_full_inverse, strengths, hide_thin_groups, search_for_t_rev, num_turns_search_t_rev, only_twiss_init, only_markers, only_orbit, compute_R_element_by_element, compute_lattice_functions, compute_chromatic_properties, init_at, x, px, y, py, zeta, delta, betx, alfx, bety, alfy, bets, dx, dpx, dy, dpy, dzeta, mux, muy, muzeta, ax_chrom, bx_chrom, ay_chrom, by_chrom, ddx, ddpx, ddy, ddpy, zero_at, co_search_at, include_collective, _continue_if_lost, _keep_tracking_data, _keep_initial_particles, _initial_particles, _ebe_monitor, ele_start, ele_stop, ele_init, twiss_init)\u001b[0m\n\u001b[1;32m   1321\u001b[0m         tw_kwargs[kk] \u001b[38;5;241m=\u001b[39m vv\n\u001b[1;32m   1323\u001b[0m tw_kwargs\u001b[38;5;241m.\u001b[39mpop(\u001b[38;5;124m'\u001b[39m\u001b[38;5;124mself\u001b[39m\u001b[38;5;124m'\u001b[39m)\n\u001b[0;32m-> 1324\u001b[0m \u001b[38;5;28;01mreturn\u001b[39;00m \u001b[43mtwiss_line\u001b[49m\u001b[43m(\u001b[49m\u001b[38;5;28;43mself\u001b[39;49m\u001b[43m,\u001b[49m\u001b[43m \u001b[49m\u001b[38;5;241;43m*\u001b[39;49m\u001b[38;5;241;43m*\u001b[39;49m\u001b[43mtw_kwargs\u001b[49m\u001b[43m)\u001b[49m\n",
      "File \u001b[0;32m~/Xsuite/xtrack/xtrack/twiss.py:625\u001b[0m, in \u001b[0;36mtwiss_line\u001b[0;34m(line, particle_ref, method, particle_on_co, R_matrix, W_matrix, delta0, zeta0, r_sigma, nemitt_x, nemitt_y, delta_disp, delta_chrom, zeta_disp, co_guess, steps_r_matrix, co_search_settings, at_elements, at_s, continue_on_closed_orbit_error, freeze_longitudinal, freeze_energy, values_at_element_exit, radiation_method, eneloss_and_damping, radiation_integrals, start, end, init, num_turns, skip_global_quantities, matrix_responsiveness_tol, matrix_stability_tol, symplectify, reverse, use_full_inverse, strengths, hide_thin_groups, search_for_t_rev, num_turns_search_t_rev, only_twiss_init, only_orbit, compute_R_element_by_element, compute_lattice_functions, compute_chromatic_properties, init_at, x, px, y, py, zeta, delta, betx, alfx, bety, alfy, bets, dx, dpx, dy, dpy, dzeta, mux, muy, muzeta, ax_chrom, bx_chrom, ay_chrom, by_chrom, ddx, ddpx, ddy, ddpy, zero_at, co_search_at, include_collective, _continue_if_lost, _keep_tracking_data, _keep_initial_particles, _initial_particles, _ebe_monitor, only_markers)\u001b[0m\n\u001b[1;32m    621\u001b[0m     \u001b[38;5;28;01massert\u001b[39;00m \u001b[38;5;129;01mnot\u001b[39;00m _initial_particles\n\u001b[1;32m    623\u001b[0m     steps_r_matrix \u001b[38;5;241m=\u001b[39m _complete_steps_r_matrix_with_default(steps_r_matrix)\n\u001b[0;32m--> 625\u001b[0m     init, R_matrix, steps_r_matrix, eigenvalues, Rot, RR_ebe \u001b[38;5;241m=\u001b[39m \u001b[43m_find_periodic_solution\u001b[49m\u001b[43m(\u001b[49m\n\u001b[1;32m    626\u001b[0m \u001b[43m        \u001b[49m\u001b[43mline\u001b[49m\u001b[38;5;241;43m=\u001b[39;49m\u001b[43mline\u001b[49m\u001b[43m,\u001b[49m\u001b[43m \u001b[49m\u001b[43mparticle_on_co\u001b[49m\u001b[38;5;241;43m=\u001b[39;49m\u001b[43mparticle_on_co\u001b[49m\u001b[43m,\u001b[49m\n\u001b[1;32m    627\u001b[0m \u001b[43m        \u001b[49m\u001b[43mparticle_ref\u001b[49m\u001b[38;5;241;43m=\u001b[39;49m\u001b[43mparticle_ref\u001b[49m\u001b[43m,\u001b[49m\u001b[43m \u001b[49m\u001b[43mmethod\u001b[49m\u001b[38;5;241;43m=\u001b[39;49m\u001b[43mmethod\u001b[49m\u001b[43m,\u001b[49m\n\u001b[1;32m    628\u001b[0m \u001b[43m        \u001b[49m\u001b[43mco_search_settings\u001b[49m\u001b[38;5;241;43m=\u001b[39;49m\u001b[43mco_search_settings\u001b[49m\u001b[43m,\u001b[49m\n\u001b[1;32m    629\u001b[0m \u001b[43m        \u001b[49m\u001b[43mcontinue_on_closed_orbit_error\u001b[49m\u001b[38;5;241;43m=\u001b[39;49m\u001b[43mcontinue_on_closed_orbit_error\u001b[49m\u001b[43m,\u001b[49m\n\u001b[1;32m    630\u001b[0m \u001b[43m        \u001b[49m\u001b[43mdelta0\u001b[49m\u001b[38;5;241;43m=\u001b[39;49m\u001b[43mdelta0\u001b[49m\u001b[43m,\u001b[49m\u001b[43m \u001b[49m\u001b[43mzeta0\u001b[49m\u001b[38;5;241;43m=\u001b[39;49m\u001b[43mzeta0\u001b[49m\u001b[43m,\u001b[49m\u001b[43m \u001b[49m\u001b[43msteps_r_matrix\u001b[49m\u001b[38;5;241;43m=\u001b[39;49m\u001b[43msteps_r_matrix\u001b[49m\u001b[43m,\u001b[49m\n\u001b[1;32m    631\u001b[0m \u001b[43m        \u001b[49m\u001b[43mW_matrix\u001b[49m\u001b[38;5;241;43m=\u001b[39;49m\u001b[43mW_matrix\u001b[49m\u001b[43m,\u001b[49m\u001b[43m \u001b[49m\u001b[43mR_matrix\u001b[49m\u001b[38;5;241;43m=\u001b[39;49m\u001b[43mR_matrix\u001b[49m\u001b[43m,\u001b[49m\n\u001b[1;32m    632\u001b[0m \u001b[43m        \u001b[49m\u001b[43mco_guess\u001b[49m\u001b[38;5;241;43m=\u001b[39;49m\u001b[43mco_guess\u001b[49m\u001b[43m,\u001b[49m\n\u001b[1;32m    633\u001b[0m \u001b[43m        \u001b[49m\u001b[43mdelta_disp\u001b[49m\u001b[38;5;241;43m=\u001b[39;49m\u001b[43mdelta_disp\u001b[49m\u001b[43m,\u001b[49m\u001b[43m \u001b[49m\u001b[43msymplectify\u001b[49m\u001b[38;5;241;43m=\u001b[39;49m\u001b[43msymplectify\u001b[49m\u001b[43m,\u001b[49m\n\u001b[1;32m    634\u001b[0m \u001b[43m        \u001b[49m\u001b[43mmatrix_responsiveness_tol\u001b[49m\u001b[38;5;241;43m=\u001b[39;49m\u001b[43mmatrix_responsiveness_tol\u001b[49m\u001b[43m,\u001b[49m\n\u001b[1;32m    635\u001b[0m \u001b[43m        \u001b[49m\u001b[43mmatrix_stability_tol\u001b[49m\u001b[38;5;241;43m=\u001b[39;49m\u001b[43mmatrix_stability_tol\u001b[49m\u001b[43m,\u001b[49m\n\u001b[1;32m    636\u001b[0m \u001b[43m        \u001b[49m\u001b[43mstart\u001b[49m\u001b[38;5;241;43m=\u001b[39;49m\u001b[43mstart\u001b[49m\u001b[43m,\u001b[49m\u001b[43m \u001b[49m\u001b[43mend\u001b[49m\u001b[38;5;241;43m=\u001b[39;49m\u001b[43mend\u001b[49m\u001b[43m,\u001b[49m\n\u001b[1;32m    637\u001b[0m \u001b[43m        \u001b[49m\u001b[43mnum_turns\u001b[49m\u001b[38;5;241;43m=\u001b[39;49m\u001b[43mnum_turns\u001b[49m\u001b[43m,\u001b[49m\n\u001b[1;32m    638\u001b[0m \u001b[43m        \u001b[49m\u001b[43mco_search_at\u001b[49m\u001b[38;5;241;43m=\u001b[39;49m\u001b[43mco_search_at\u001b[49m\u001b[43m,\u001b[49m\n\u001b[1;32m    639\u001b[0m \u001b[43m        \u001b[49m\u001b[43msearch_for_t_rev\u001b[49m\u001b[38;5;241;43m=\u001b[39;49m\u001b[43msearch_for_t_rev\u001b[49m\u001b[43m,\u001b[49m\n\u001b[1;32m    640\u001b[0m \u001b[43m        \u001b[49m\u001b[43mnum_turns_search_t_rev\u001b[49m\u001b[38;5;241;43m=\u001b[39;49m\u001b[43mnum_turns_search_t_rev\u001b[49m\u001b[43m,\u001b[49m\n\u001b[1;32m    641\u001b[0m \u001b[43m        \u001b[49m\u001b[43mnemitt_x\u001b[49m\u001b[38;5;241;43m=\u001b[39;49m\u001b[43mnemitt_x\u001b[49m\u001b[43m,\u001b[49m\u001b[43m \u001b[49m\u001b[43mnemitt_y\u001b[49m\u001b[38;5;241;43m=\u001b[39;49m\u001b[43mnemitt_y\u001b[49m\u001b[43m,\u001b[49m\u001b[43m \u001b[49m\u001b[43mr_sigma\u001b[49m\u001b[38;5;241;43m=\u001b[39;49m\u001b[43mr_sigma\u001b[49m\u001b[43m,\u001b[49m\n\u001b[1;32m    642\u001b[0m \u001b[43m        \u001b[49m\u001b[43mcompute_R_element_by_element\u001b[49m\u001b[38;5;241;43m=\u001b[39;49m\u001b[43mcompute_R_element_by_element\u001b[49m\u001b[43m,\u001b[49m\n\u001b[1;32m    643\u001b[0m \u001b[43m        \u001b[49m\u001b[43monly_markers\u001b[49m\u001b[38;5;241;43m=\u001b[39;49m\u001b[43monly_markers\u001b[49m\u001b[43m,\u001b[49m\n\u001b[1;32m    644\u001b[0m \u001b[43m        \u001b[49m\u001b[43monly_orbit\u001b[49m\u001b[38;5;241;43m=\u001b[39;49m\u001b[43monly_orbit\u001b[49m\u001b[43m,\u001b[49m\n\u001b[1;32m    645\u001b[0m \u001b[43m        \u001b[49m\u001b[43mperiodic_mode\u001b[49m\u001b[38;5;241;43m=\u001b[39;49m\u001b[43mperiodic_mode\u001b[49m\u001b[43m,\u001b[49m\n\u001b[1;32m    646\u001b[0m \u001b[43m        \u001b[49m\u001b[43minclude_collective\u001b[49m\u001b[38;5;241;43m=\u001b[39;49m\u001b[43minclude_collective\u001b[49m\u001b[43m,\u001b[49m\n\u001b[1;32m    647\u001b[0m \u001b[43m        \u001b[49m\u001b[43m)\u001b[49m\n\u001b[1;32m    648\u001b[0m \u001b[38;5;28;01melse\u001b[39;00m:\n\u001b[1;32m    649\u001b[0m     \u001b[38;5;66;03m# force\u001b[39;00m\n\u001b[1;32m    650\u001b[0m     skip_global_quantities \u001b[38;5;241m=\u001b[39m \u001b[38;5;28;01mTrue\u001b[39;00m\n",
      "File \u001b[0;32m~/Xsuite/xtrack/xtrack/twiss.py:1849\u001b[0m, in \u001b[0;36m_find_periodic_solution\u001b[0;34m(line, particle_on_co, particle_ref, method, co_search_settings, continue_on_closed_orbit_error, delta0, zeta0, steps_r_matrix, W_matrix, R_matrix, co_guess, delta_disp, symplectify, matrix_responsiveness_tol, matrix_stability_tol, nemitt_x, nemitt_y, r_sigma, start, end, num_turns, co_search_at, search_for_t_rev, num_turns_search_t_rev, compute_R_element_by_element, only_markers, only_orbit, periodic_mode, include_collective)\u001b[0m\n\u001b[1;32m   1847\u001b[0m     \u001b[38;5;28;01mif\u001b[39;00m search_for_t_rev:\n\u001b[1;32m   1848\u001b[0m         \u001b[38;5;28;01massert\u001b[39;00m method \u001b[38;5;241m==\u001b[39m \u001b[38;5;124m'\u001b[39m\u001b[38;5;124m6d\u001b[39m\u001b[38;5;124m'\u001b[39m, \u001b[38;5;124m'\u001b[39m\u001b[38;5;124msearch_for_t_rev possible when `method` is \u001b[39m\u001b[38;5;124m\"\u001b[39m\u001b[38;5;124m6d\u001b[39m\u001b[38;5;124m\"\u001b[39m\u001b[38;5;124m'\u001b[39m\n\u001b[0;32m-> 1849\u001b[0m     part_on_co \u001b[38;5;241m=\u001b[39m \u001b[43mline\u001b[49m\u001b[38;5;241;43m.\u001b[39;49m\u001b[43mfind_closed_orbit\u001b[49m\u001b[43m(\u001b[49m\n\u001b[1;32m   1850\u001b[0m \u001b[43m                            \u001b[49m\u001b[43mco_guess\u001b[49m\u001b[38;5;241;43m=\u001b[39;49m\u001b[43mco_guess\u001b[49m\u001b[43m,\u001b[49m\n\u001b[1;32m   1851\u001b[0m \u001b[43m                            \u001b[49m\u001b[43mparticle_ref\u001b[49m\u001b[38;5;241;43m=\u001b[39;49m\u001b[43mparticle_ref\u001b[49m\u001b[43m,\u001b[49m\n\u001b[1;32m   1852\u001b[0m \u001b[43m                            \u001b[49m\u001b[43mco_search_settings\u001b[49m\u001b[38;5;241;43m=\u001b[39;49m\u001b[43mco_search_settings\u001b[49m\u001b[43m,\u001b[49m\n\u001b[1;32m   1853\u001b[0m \u001b[43m                            \u001b[49m\u001b[43mcontinue_on_closed_orbit_error\u001b[49m\u001b[38;5;241;43m=\u001b[39;49m\u001b[43mcontinue_on_closed_orbit_error\u001b[49m\u001b[43m,\u001b[49m\n\u001b[1;32m   1854\u001b[0m \u001b[43m                            \u001b[49m\u001b[43mdelta0\u001b[49m\u001b[38;5;241;43m=\u001b[39;49m\u001b[43mdelta0\u001b[49m\u001b[43m,\u001b[49m\n\u001b[1;32m   1855\u001b[0m \u001b[43m                            \u001b[49m\u001b[43mzeta0\u001b[49m\u001b[38;5;241;43m=\u001b[39;49m\u001b[43mzeta0\u001b[49m\u001b[43m,\u001b[49m\n\u001b[1;32m   1856\u001b[0m \u001b[43m                            \u001b[49m\u001b[43mstart\u001b[49m\u001b[38;5;241;43m=\u001b[39;49m\u001b[43mstart\u001b[49m\u001b[43m,\u001b[49m\n\u001b[1;32m   1857\u001b[0m \u001b[43m                            \u001b[49m\u001b[43mend\u001b[49m\u001b[38;5;241;43m=\u001b[39;49m\u001b[43mend\u001b[49m\u001b[43m,\u001b[49m\n\u001b[1;32m   1858\u001b[0m \u001b[43m                            \u001b[49m\u001b[43mnum_turns\u001b[49m\u001b[38;5;241;43m=\u001b[39;49m\u001b[43mnum_turns\u001b[49m\u001b[43m,\u001b[49m\n\u001b[1;32m   1859\u001b[0m \u001b[43m                            \u001b[49m\u001b[43mco_search_at\u001b[49m\u001b[38;5;241;43m=\u001b[39;49m\u001b[43mco_search_at\u001b[49m\u001b[43m,\u001b[49m\n\u001b[1;32m   1860\u001b[0m \u001b[43m                            \u001b[49m\u001b[43msearch_for_t_rev\u001b[49m\u001b[38;5;241;43m=\u001b[39;49m\u001b[43msearch_for_t_rev\u001b[49m\u001b[43m,\u001b[49m\n\u001b[1;32m   1861\u001b[0m \u001b[43m                            \u001b[49m\u001b[43mnum_turns_search_t_rev\u001b[49m\u001b[38;5;241;43m=\u001b[39;49m\u001b[43mnum_turns_search_t_rev\u001b[49m\u001b[43m,\u001b[49m\n\u001b[1;32m   1862\u001b[0m \u001b[43m                            \u001b[49m\u001b[43msymmetrize\u001b[49m\u001b[38;5;241;43m=\u001b[39;49m\u001b[43m(\u001b[49m\u001b[43mperiodic_mode\u001b[49m\u001b[43m \u001b[49m\u001b[38;5;241;43m==\u001b[39;49m\u001b[43m \u001b[49m\u001b[38;5;124;43m'\u001b[39;49m\u001b[38;5;124;43mperiodic_symmetric\u001b[39;49m\u001b[38;5;124;43m'\u001b[39;49m\u001b[43m)\u001b[49m\u001b[43m,\u001b[49m\n\u001b[1;32m   1863\u001b[0m \u001b[43m                            \u001b[49m\u001b[43minclude_collective\u001b[49m\u001b[38;5;241;43m=\u001b[39;49m\u001b[43minclude_collective\u001b[49m\n\u001b[1;32m   1864\u001b[0m \u001b[43m                            \u001b[49m\u001b[43m)\u001b[49m\n\u001b[1;32m   1865\u001b[0m \u001b[38;5;28;01mif\u001b[39;00m only_orbit:\n\u001b[1;32m   1866\u001b[0m     W_matrix \u001b[38;5;241m=\u001b[39m np\u001b[38;5;241m.\u001b[39meye(\u001b[38;5;241m6\u001b[39m)\n",
      "File \u001b[0;32m~/Xsuite/xtrack/xtrack/line.py:1757\u001b[0m, in \u001b[0;36mLine.find_closed_orbit\u001b[0;34m(self, co_guess, particle_ref, co_search_settings, delta_zeta, delta0, zeta0, continue_on_closed_orbit_error, freeze_longitudinal, start, end, num_turns, co_search_at, search_for_t_rev, num_turns_search_t_rev, symmetrize, include_collective)\u001b[0m\n\u001b[1;32m   1754\u001b[0m \u001b[38;5;28;01melse\u001b[39;00m:\n\u001b[1;32m   1755\u001b[0m     line \u001b[38;5;241m=\u001b[39m \u001b[38;5;28mself\u001b[39m\n\u001b[0;32m-> 1757\u001b[0m \u001b[38;5;28;01mreturn\u001b[39;00m \u001b[43mfind_closed_orbit_line\u001b[49m\u001b[43m(\u001b[49m\u001b[43mline\u001b[49m\u001b[43m,\u001b[49m\u001b[43m \u001b[49m\u001b[43mco_guess\u001b[49m\u001b[38;5;241;43m=\u001b[39;49m\u001b[43mco_guess\u001b[49m\u001b[43m,\u001b[49m\n\u001b[1;32m   1758\u001b[0m \u001b[43m                         \u001b[49m\u001b[43mparticle_ref\u001b[49m\u001b[38;5;241;43m=\u001b[39;49m\u001b[43mparticle_ref\u001b[49m\u001b[43m,\u001b[49m\u001b[43m \u001b[49m\u001b[43mdelta0\u001b[49m\u001b[38;5;241;43m=\u001b[39;49m\u001b[43mdelta0\u001b[49m\u001b[43m,\u001b[49m\u001b[43m \u001b[49m\u001b[43mzeta0\u001b[49m\u001b[38;5;241;43m=\u001b[39;49m\u001b[43mzeta0\u001b[49m\u001b[43m,\u001b[49m\n\u001b[1;32m   1759\u001b[0m \u001b[43m                         \u001b[49m\u001b[43mco_search_settings\u001b[49m\u001b[38;5;241;43m=\u001b[39;49m\u001b[43mco_search_settings\u001b[49m\u001b[43m,\u001b[49m\u001b[43m \u001b[49m\u001b[43mdelta_zeta\u001b[49m\u001b[38;5;241;43m=\u001b[39;49m\u001b[43mdelta_zeta\u001b[49m\u001b[43m,\u001b[49m\n\u001b[1;32m   1760\u001b[0m \u001b[43m                         \u001b[49m\u001b[43mcontinue_on_closed_orbit_error\u001b[49m\u001b[38;5;241;43m=\u001b[39;49m\u001b[43mcontinue_on_closed_orbit_error\u001b[49m\u001b[43m,\u001b[49m\n\u001b[1;32m   1761\u001b[0m \u001b[43m                         \u001b[49m\u001b[43mstart\u001b[49m\u001b[38;5;241;43m=\u001b[39;49m\u001b[43mstart\u001b[49m\u001b[43m,\u001b[49m\u001b[43m \u001b[49m\u001b[43mend\u001b[49m\u001b[38;5;241;43m=\u001b[39;49m\u001b[43mend\u001b[49m\u001b[43m,\u001b[49m\u001b[43m \u001b[49m\u001b[43mnum_turns\u001b[49m\u001b[38;5;241;43m=\u001b[39;49m\u001b[43mnum_turns\u001b[49m\u001b[43m,\u001b[49m\n\u001b[1;32m   1762\u001b[0m \u001b[43m                         \u001b[49m\u001b[43mco_search_at\u001b[49m\u001b[38;5;241;43m=\u001b[39;49m\u001b[43mco_search_at\u001b[49m\u001b[43m,\u001b[49m\n\u001b[1;32m   1763\u001b[0m \u001b[43m                         \u001b[49m\u001b[43msearch_for_t_rev\u001b[49m\u001b[38;5;241;43m=\u001b[39;49m\u001b[43msearch_for_t_rev\u001b[49m\u001b[43m,\u001b[49m\n\u001b[1;32m   1764\u001b[0m \u001b[43m                         \u001b[49m\u001b[43mnum_turns_search_t_rev\u001b[49m\u001b[38;5;241;43m=\u001b[39;49m\u001b[43mnum_turns_search_t_rev\u001b[49m\u001b[43m,\u001b[49m\n\u001b[1;32m   1765\u001b[0m \u001b[43m                         \u001b[49m\u001b[43msymmetrize\u001b[49m\u001b[38;5;241;43m=\u001b[39;49m\u001b[43msymmetrize\u001b[49m\u001b[43m)\u001b[49m\n",
      "File \u001b[0;32m~/Xsuite/xtrack/xtrack/twiss.py:2259\u001b[0m, in \u001b[0;36mfind_closed_orbit_line\u001b[0;34m(line, co_guess, particle_ref, co_search_settings, delta_zeta, delta0, zeta0, start, end, num_turns, co_search_at, search_for_t_rev, continue_on_closed_orbit_error, num_turns_search_t_rev, symmetrize)\u001b[0m\n\u001b[1;32m   2256\u001b[0m         \u001b[38;5;28;01mbreak\u001b[39;00m\n\u001b[1;32m   2258\u001b[0m \u001b[38;5;28;01mif\u001b[39;00m ier \u001b[38;5;241m!=\u001b[39m \u001b[38;5;241m1\u001b[39m \u001b[38;5;129;01mand\u001b[39;00m \u001b[38;5;129;01mnot\u001b[39;00m(continue_on_closed_orbit_error):\n\u001b[0;32m-> 2259\u001b[0m     \u001b[38;5;28;01mraise\u001b[39;00m ClosedOrbitSearchError\n\u001b[1;32m   2261\u001b[0m particle_on_co \u001b[38;5;241m=\u001b[39m co_guess\u001b[38;5;241m.\u001b[39mcopy()\n\u001b[1;32m   2262\u001b[0m particle_on_co\u001b[38;5;241m.\u001b[39mx \u001b[38;5;241m=\u001b[39m res[\u001b[38;5;241m0\u001b[39m]\n",
      "\u001b[0;31mClosedOrbitSearchError\u001b[0m: "
     ]
    }
   ],
   "source": [
    "line_opt.twiss()"
   ]
  },
  {
   "cell_type": "code",
   "execution_count": null,
   "metadata": {},
   "outputs": [],
   "source": []
  }
 ],
 "metadata": {
  "kernelspec": {
   "display_name": "xsuite_dev",
   "language": "python",
   "name": "python3"
  },
  "language_info": {
   "codemirror_mode": {
    "name": "ipython",
    "version": 3
   },
   "file_extension": ".py",
   "mimetype": "text/x-python",
   "name": "python",
   "nbconvert_exporter": "python",
   "pygments_lexer": "ipython3",
   "version": "3.11.10"
  }
 },
 "nbformat": 4,
 "nbformat_minor": 2
}
