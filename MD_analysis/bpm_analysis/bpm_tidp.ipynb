{
 "cells": [
  {
   "cell_type": "markdown",
   "id": "3f0bfcbd",
   "metadata": {},
   "source": [
    "# Import and classes bpm"
   ]
  },
  {
   "cell_type": "code",
   "execution_count": 1,
   "id": "2ec92bf8",
   "metadata": {},
   "outputs": [],
   "source": [
    "import numpy as np\n",
    "from pathlib import Path\n",
    "import time\n",
    "import matplotlib.pyplot as plt\n",
    "start_time = time.time()\n",
    "\n",
    "import xobjects as xo\n",
    "import xtrack as xt\n",
    "import xpart as xp\n",
    "import xobjects as xo\n",
    "import xcoll as xc\n",
    "\n",
    "# import apertls\n",
    "from matplotlib.colors import LogNorm\n",
    "\n",
    "import gzip\n",
    "from typing import Union\n",
    "\n",
    "import awkward as ak\n",
    "import pandas as pd"
   ]
  },
  {
   "cell_type": "code",
   "execution_count": 2,
   "id": "8f3d6f92",
   "metadata": {},
   "outputs": [],
   "source": [
    "from typing import Optional, Tuple, Union, Set, List\n",
    "import re\n",
    "\n",
    "class BPMBehavior(ak.Record):\n",
    "    pass\n",
    "\n",
    "class BPMCollectionBehavior(ak.Array):\n",
    "\n",
    "    @property \n",
    "    def index(self):\n",
    "        if not hasattr(self, '_index'):\n",
    "            self._build_index()\n",
    "        return self._index\n",
    "    \n",
    "    @property\n",
    "    def bpms_hor(self):\n",
    "        #return self[\"orbit\", \"name\"]\n",
    "        return ak.Array([bpm for i, bpm in enumerate(self['name']) if self['plane'][i] == 'H'])\n",
    "    \n",
    "    @property\n",
    "    def bpms_ver(self):\n",
    "        return ak.Array([bpm for i, bpm in enumerate(self['name']) if self['plane'][i] == 'V'])\n",
    "    \n",
    "    def orbit_plane(self, plane: str = \"H\"):\n",
    "        if plane == 'H':\n",
    "            return ak.Array([self['position'][self.index[bpm]] for bpm in self.bpms_hor])\n",
    "        elif plane == 'V':\n",
    "            return ak.Array([self['position'][self.index[bpm]] for bpm in self.bpms_ver])\n",
    "        else:\n",
    "            ValueError('No valid plane was given !')\n",
    "\n",
    "    def orbit_position(self, name: str):\n",
    "        # Return position for a given BPM name\n",
    "        return self['position'][self.index[name]]\n",
    "    \n",
    "    def restr_orbit_plane(self, bpm_list_restr):\n",
    "        return ak.Array([self['position'][self.index[bpm]] for bpm in bpm_list_restr])\n",
    "\n",
    "    \n",
    "    def _build_index(self):\n",
    "        self._index = {}\n",
    "        for i, bpm in enumerate(self['name']):\n",
    "            self._index[bpm] = i\n",
    "    \n",
    "    \n",
    "ak.behavior[\"*\", \"BPMCollection\"] = BPMCollectionBehavior\n"
   ]
  },
  {
   "cell_type": "code",
   "execution_count": 3,
   "id": "efc68b12",
   "metadata": {},
   "outputs": [],
   "source": [
    "class CorrectorsCollectionBehavior(ak.Array):\n",
    "    @property \n",
    "    def index(self):\n",
    "        if not hasattr(self, '_index'):\n",
    "            self._build_index()\n",
    "        return self._index\n",
    "    \n",
    "    @property\n",
    "    def corr_hor(self):\n",
    "        #return self[\"orbit\", \"name\"]\n",
    "        return ak.Array([corr for i, corr in enumerate(self['name']) if self['plane'][i] == 'H'])\n",
    "    \n",
    "    @property\n",
    "    def corr_ver(self):\n",
    "        return ak.Array([corr for i, corr in enumerate(self['name']) if self['plane'][i] == 'V'])\n",
    "    \n",
    "    def kick_plane(self, plane: str = \"H\"):\n",
    "        if plane == 'H':\n",
    "            return ak.Array([self['kick'][self.index[corr]] for corr in self.corr_hor])\n",
    "        elif plane == 'V':\n",
    "            return ak.Array([self['kick'][self.index[corr]] for corr in self.corr_ver])\n",
    "        else:\n",
    "            ValueError('No valid plane was given !')\n",
    "\n",
    "    def kick_position(self, name: str):\n",
    "        # Return position for a given BPM name\n",
    "        return self['kick'][self.index[name]]\n",
    "\n",
    "    def _build_index(self):\n",
    "        self._index = {}\n",
    "        for i, corr in enumerate(self['name']):\n",
    "            self._index[corr] = i\n",
    "\n",
    "ak.behavior[\"*\", \"CorrectorsCollection\"] = CorrectorsCollectionBehavior"
   ]
  },
  {
   "cell_type": "code",
   "execution_count": 4,
   "id": "c910aaab",
   "metadata": {},
   "outputs": [],
   "source": [
    "def load_bpm_file_data(path: Union[str, Path]) -> ak.Array:\n",
    "    \"\"\"\n",
    "    Load a .data or .data.gz file into an Awkward Array with BPMCollection behavior.\n",
    "    \"\"\"\n",
    "\n",
    "    #file opening with different compression\n",
    "    path = Path(path)\n",
    "    opener = gzip.open if path.suffix == \".gz\" else open\n",
    "    with opener(path, \"rt\") as f:\n",
    "        lines = f.readlines()\n",
    "\n",
    "    #Sections of file\n",
    "    header_lines = []\n",
    "    orbit_lines = []\n",
    "    corrector_lines = []\n",
    "\n",
    "    mode = \"header\"\n",
    "    for line in lines:\n",
    "        if line.startswith(\"# MONITOR\"):\n",
    "            mode = \"orbit\"\n",
    "            continue\n",
    "        elif line.startswith(\"# CORRECTOR\"):\n",
    "            mode = \"corrector\"\n",
    "            continue\n",
    "\n",
    "        if mode == \"header\":\n",
    "            header_lines.append(line)\n",
    "        elif mode == \"orbit\":\n",
    "            if not line.startswith('*'):\n",
    "                orbit_lines.append(line)\n",
    "        elif mode == \"corrector\":\n",
    "            if not line.startswith('*'):\n",
    "                corrector_lines.append(line)\n",
    "\n",
    "    #Metadata\n",
    "    meta = {}  # <-- parse @ DATE, @ DPP, etc.\n",
    "    for line in header_lines:\n",
    "        if not line.startswith('@'):\n",
    "            continue\n",
    "        parts = line.strip().split(maxsplit=3)\n",
    "        if len(parts) < 4:\n",
    "            continue\n",
    "        _, key, dtype, value = parts\n",
    "        if dtype == \"%d\":\n",
    "            value = int(value)\n",
    "        elif dtype == \"%f\":\n",
    "            value = float(value)\n",
    "        elif dtype == \"%s\":\n",
    "            value = value.strip('\"')\n",
    "        meta[key] = ak.Array([value])\n",
    "    \n",
    "    \n",
    "    #Orbit\n",
    "    orbit = {\n",
    "        \"name\": [], \"plane\": [], \"beam\": [], \"position\": [],\n",
    "        \"rms\": [], \"sum\": [], 'hw-status': [], 'status' : [], \"status_tag\": [],\n",
    "    }\n",
    "    # Fill orbit[...] from orbit_lines\n",
    "    for line in orbit_lines:\n",
    "        parts = line.strip().split(maxsplit=9)\n",
    "        assert len(parts)==9\n",
    "        for i, key in enumerate(list(orbit.keys())):\n",
    "            value = parts[i]\n",
    "            # Simple type inference\n",
    "            try:\n",
    "                if \".\" in value:\n",
    "                    orbit[key].append(float(value))\n",
    "                else:\n",
    "                    orbit[key].append(int(value))\n",
    "            except ValueError:\n",
    "                if key == 'name':\n",
    "                    orbit[key].append(value.lower())\n",
    "                else:\n",
    "                    orbit[key].append(value)\n",
    "    \n",
    "    for key in orbit:\n",
    "        orbit[key]=ak.Array(orbit[key])\n",
    "    \n",
    "    #Correctors\n",
    "    correctors = {\n",
    "        \"name\": [], \"plane\": [], \"beam\": [], 'strength_name' : [], \"kick\": [], \"rt_kick\": [],\n",
    "    }\n",
    "    # Fill correctors[...] from corrector_lines\n",
    "    for line in corrector_lines:\n",
    "        parts = line.strip().split(maxsplit=6)\n",
    "        assert len(parts)==6\n",
    "        for i, key in enumerate(list(correctors.keys())):\n",
    "            value = parts[i]\n",
    "            # Simple type inference\n",
    "            try:\n",
    "                if \".\" in value:\n",
    "                    correctors[key].append(float(value))\n",
    "                else:\n",
    "                    correctors[key].append(int(value))\n",
    "            except ValueError:\n",
    "                if key=='name':\n",
    "                    correctors[key].append(value.lower())\n",
    "                else:\n",
    "                    correctors[key].append(value)\n",
    "    \n",
    "    for key in correctors:\n",
    "        correctors[key]=ak.Array(correctors[key])\n",
    "\n",
    "    #Total dictionary data, idk how to make awkward array out of it\n",
    "    data = {\n",
    "        \"orbit\": ak.Array(orbit, with_name='BPMCollection'),\n",
    "        \"correctors\": ak.Array(correctors, with_name='CorrectorsCollection'),\n",
    "        \"meta\": ak.Array(meta),\n",
    "    }\n",
    "\n",
    "    return data\n"
   ]
  },
  {
   "cell_type": "code",
   "execution_count": 5,
   "id": "5d45766f",
   "metadata": {},
   "outputs": [],
   "source": [
    "def load_all_bpm_files(directory_coll):\n",
    "    bpm_files_by_timestamp = {}\n",
    "\n",
    "    pattern = re.compile(r\"ORBIT_SPSRING_(\\d{4}-\\d{2}-\\d{2}_\\d{2}-\\d{2}-\\d{2})_.*\\.data\\.gz\")\n",
    "\n",
    "    for file in Path(directory_coll).glob(\"ORBIT_SPSRING_*.data.gz\"):\n",
    "        match = pattern.match(file.name)\n",
    "        if match:\n",
    "            timestamp_raw = match.group(1)\n",
    "            timestamp = timestamp_raw.replace('_', ' ', 1)  # Convert to 'YYYY-MM-DD HH-MM-SS'\n",
    "            try:\n",
    "                bpm_files_by_timestamp[timestamp] = load_bpm_file_data(file)\n",
    "            except (AssertionError, EOFError, OSError, ValueError) as e:\n",
    "                print(f\"Skipping file due to error ({type(e).__name__}): {file}\")\n",
    "                continue\n",
    "\n",
    "    return bpm_files_by_timestamp"
   ]
  },
  {
   "cell_type": "markdown",
   "id": "50007765",
   "metadata": {},
   "source": [
    "# Loading data with timestamp"
   ]
  },
  {
   "cell_type": "code",
   "execution_count": 6,
   "id": "18f2a871",
   "metadata": {},
   "outputs": [],
   "source": [
    "directory_coll = Path('/eos/project-c/collimation-team/acquisition_data/SPS/20250430')\n",
    "directory_coll = Path('/Users/lisepauwels/sps_simulations/MD_analysis/20250430/')"
   ]
  },
  {
   "cell_type": "code",
   "execution_count": 8,
   "id": "9e29a6a7",
   "metadata": {},
   "outputs": [
    {
     "data": {
      "application/vnd.jupyter.widget-view+json": {
       "model_id": "16b8ff0cd5e54242b29ad7f04010fb5f",
       "version_major": 2,
       "version_minor": 0
      },
      "text/plain": [
       "Loading line from dict:   0%|          | 0/36381 [00:00<?, ?it/s]"
      ]
     },
     "metadata": {},
     "output_type": "display_data"
    },
    {
     "name": "stdout",
     "output_type": "stream",
     "text": [
      "Done loading line from dict.           \n"
     ]
    }
   ],
   "source": [
    "data_test = load_bpm_file_data(Path(directory_coll, 'ORBIT_SPSRING_2025-04-30_11-00-12_MD5_CY12_TR0.data.gz'))\n",
    "\n",
    "line = xt.Line.from_json('../injection_lines/sps_with_aperture_inj_q20_beam_sagitta.json')\n",
    "tt=line.get_table()\n",
    "tw = line.twiss()\n",
    "\n",
    "bpms_hor_in_line = []\n",
    "s_arr = []\n",
    "for bpm in data_test['orbit'].bpms_hor:\n",
    "    if len(tt.rows[f'.*{bpm}.*'].name)>0:\n",
    "        bpms_hor_in_line.append(bpm)\n",
    "        if bpm in tt.rows[f'.*{bpm}.*'].name:\n",
    "            s_arr.append(line.get_s_position(bpm))\n",
    "        else:\n",
    "            s_arr.append(line.get_s_position(f'{bpm}..0') + line[f'{bpm}..0']._parent.length/2)"
   ]
  },
  {
   "cell_type": "code",
   "execution_count": 9,
   "id": "258beb1b",
   "metadata": {},
   "outputs": [
    {
     "name": "stdout",
     "output_type": "stream",
     "text": [
      "Skipping file due to error (AssertionError): /Users/lisepauwels/sps_simulations/MD_analysis/20250430/ORBIT_SPSRING_2025-04-30_12-20-14_MD5_CY186_TR0.data.gz\n",
      "Skipping file due to error (AssertionError): /Users/lisepauwels/sps_simulations/MD_analysis/20250430/ORBIT_SPSRING_2025-04-30_12-19-47_MD5_CY185_TR0.data.gz\n",
      "Skipping file due to error (AssertionError): /Users/lisepauwels/sps_simulations/MD_analysis/20250430/ORBIT_SPSRING_2025-04-30_11-25-30_MD5_CY67_TR0.data.gz\n",
      "Skipping file due to error (AssertionError): /Users/lisepauwels/sps_simulations/MD_analysis/20250430/ORBIT_SPSRING_2025-04-30_11-26-25_MD5_CY69_TR0.data.gz\n"
     ]
    }
   ],
   "source": [
    "bpm_dict = load_all_bpm_files(directory_coll)\n",
    "hor_pos = {time : bpm_dict[time]['orbit'].restr_orbit_plane(bpms_hor_in_line) for time in bpm_dict}"
   ]
  },
  {
   "cell_type": "code",
   "execution_count": 12,
   "id": "e8111896",
   "metadata": {},
   "outputs": [
    {
     "data": {
      "text/plain": [
       "Table: 0 rows, 11 cols"
      ]
     },
     "execution_count": 12,
     "metadata": {},
     "output_type": "execute_result"
    }
   ],
   "source": [
    "tt.rows['.*11834.*']"
   ]
  },
  {
   "cell_type": "code",
   "execution_count": 24,
   "id": "643ff61c",
   "metadata": {},
   "outputs": [
    {
     "data": {
      "text/plain": [
       "Table: 3 rows, 11 cols\n",
       "name                          s element_type isthick isreplica parent_name iscollective ...\n",
       "veqd.10110.a_aper       31.9033 LimitEllipse   False     False None               False\n",
       "qd.10110                31.9977 Quadrupole      True     False None               False\n",
       "veqd.10110.b_aper       35.2481 LimitEllipse   False     False None               False"
      ]
     },
     "execution_count": 24,
     "metadata": {},
     "output_type": "execute_result"
    }
   ],
   "source": [
    "tt.rows['.*10110.*']"
   ]
  },
  {
   "cell_type": "code",
   "execution_count": 25,
   "id": "e8dd189d",
   "metadata": {},
   "outputs": [
    {
     "data": {
      "text/plain": [
       "380"
      ]
     },
     "execution_count": 25,
     "metadata": {},
     "output_type": "execute_result"
    }
   ],
   "source": [
    "line.element_names.index('veqd.10110.a_aper')"
   ]
  },
  {
   "cell_type": "code",
   "execution_count": 19,
   "id": "cddab3d8",
   "metadata": {},
   "outputs": [
    {
     "data": {
      "application/vnd.jupyter.widget-view+json": {
       "model_id": "edd7b796b5274709945308680dc7284c",
       "version_major": 2,
       "version_minor": 0
      },
      "text/plain": [
       "Loading line from dict:   0%|          | 0/36381 [00:00<?, ?it/s]"
      ]
     },
     "metadata": {},
     "output_type": "display_data"
    },
    {
     "name": "stdout",
     "output_type": "stream",
     "text": [
      "Done loading line from dict.           \n"
     ]
    }
   ],
   "source": [
    "line = xt.Line.from_json('../injection_lines/sps_with_aperture_inj_q20_beam_sagitta.json')"
   ]
  },
  {
   "cell_type": "code",
   "execution_count": 20,
   "id": "f1d29092",
   "metadata": {},
   "outputs": [],
   "source": [
    "tt = line.get_table()"
   ]
  },
  {
   "cell_type": "code",
   "execution_count": 26,
   "id": "c2bc91eb",
   "metadata": {},
   "outputs": [
    {
     "data": {
      "text/plain": [
       "['drift_mdv.10107..2..0',\n",
       " 'mdv.10107.b_aper',\n",
       " 'drift_mdv.10107..2..1',\n",
       " 'drift_7',\n",
       " 'bpv.10108..0',\n",
       " 'bpv.10108.a_aper',\n",
       " 'bpv.10108..1',\n",
       " 'bpv.10108.b_aper',\n",
       " 'bpv.10108..2',\n",
       " 'drift_8..0',\n",
       " 'veqd.10110.a_aper',\n",
       " 'drift_8..1',\n",
       " 'qd.10110',\n",
       " 'drift_9..0',\n",
       " 'veqd.10110.b_aper',\n",
       " 'drift_9..1',\n",
       " 'vebb.10130.a_aper',\n",
       " 'drift_9..2',\n",
       " 'mbb.10130_entry',\n",
       " 'mbb.10130..entry_map']"
      ]
     },
     "execution_count": 26,
     "metadata": {},
     "output_type": "execute_result"
    }
   ],
   "source": [
    "line.element_names[370:390]"
   ]
  },
  {
   "cell_type": "code",
   "execution_count": null,
   "id": "84399b0a",
   "metadata": {},
   "outputs": [],
   "source": []
  }
 ],
 "metadata": {
  "kernelspec": {
   "display_name": "xcoll",
   "language": "python",
   "name": "python3"
  },
  "language_info": {
   "codemirror_mode": {
    "name": "ipython",
    "version": 3
   },
   "file_extension": ".py",
   "mimetype": "text/x-python",
   "name": "python",
   "nbconvert_exporter": "python",
   "pygments_lexer": "ipython3",
   "version": "3.13.3"
  }
 },
 "nbformat": 4,
 "nbformat_minor": 5
}
