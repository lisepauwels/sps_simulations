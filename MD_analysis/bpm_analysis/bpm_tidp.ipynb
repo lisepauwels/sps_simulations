{
 "cells": [
  {
   "cell_type": "markdown",
   "id": "3f0bfcbd",
   "metadata": {},
   "source": [
    "# Import and classes bpm"
   ]
  },
  {
   "cell_type": "code",
   "execution_count": 22,
   "id": "2ec92bf8",
   "metadata": {},
   "outputs": [],
   "source": [
    "import numpy as np\n",
    "from pathlib import Path\n",
    "import time\n",
    "import matplotlib.pyplot as plt\n",
    "start_time = time.time()\n",
    "\n",
    "import xobjects as xo\n",
    "import xtrack as xt\n",
    "import xpart as xp\n",
    "import xobjects as xo\n",
    "import xcoll as xc\n",
    "\n",
    "# import apertls\n",
    "from matplotlib.colors import LogNorm\n",
    "\n",
    "import gzip\n",
    "from typing import Union\n",
    "import json\n",
    "\n",
    "import awkward as ak\n",
    "import pandas as pd"
   ]
  },
  {
   "cell_type": "code",
   "execution_count": 2,
   "id": "8f3d6f92",
   "metadata": {},
   "outputs": [],
   "source": [
    "from typing import Optional, Tuple, Union, Set, List\n",
    "import re\n",
    "\n",
    "class BPMBehavior(ak.Record):\n",
    "    pass\n",
    "\n",
    "class BPMCollectionBehavior(ak.Array):\n",
    "\n",
    "    @property \n",
    "    def index(self):\n",
    "        if not hasattr(self, '_index'):\n",
    "            self._build_index()\n",
    "        return self._index\n",
    "    \n",
    "    @property\n",
    "    def bpms_hor(self):\n",
    "        #return self[\"orbit\", \"name\"]\n",
    "        return ak.Array([bpm for i, bpm in enumerate(self['name']) if self['plane'][i] == 'H'])\n",
    "    \n",
    "    @property\n",
    "    def bpms_ver(self):\n",
    "        return ak.Array([bpm for i, bpm in enumerate(self['name']) if self['plane'][i] == 'V'])\n",
    "    \n",
    "    def orbit_plane(self, plane: str = \"H\"):\n",
    "        if plane == 'H':\n",
    "            return ak.Array([self['position'][self.index[bpm]] for bpm in self.bpms_hor])\n",
    "        elif plane == 'V':\n",
    "            return ak.Array([self['position'][self.index[bpm]] for bpm in self.bpms_ver])\n",
    "        else:\n",
    "            ValueError('No valid plane was given !')\n",
    "\n",
    "    def orbit_position(self, name: str):\n",
    "        # Return position for a given BPM name\n",
    "        return self['position'][self.index[name]]\n",
    "    \n",
    "    def restr_orbit_plane(self, bpm_list_restr):\n",
    "        return ak.Array([self['position'][self.index[bpm]] for bpm in bpm_list_restr])\n",
    "\n",
    "    \n",
    "    def _build_index(self):\n",
    "        self._index = {}\n",
    "        for i, bpm in enumerate(self['name']):\n",
    "            self._index[bpm] = i\n",
    "    \n",
    "    \n",
    "ak.behavior[\"*\", \"BPMCollection\"] = BPMCollectionBehavior\n"
   ]
  },
  {
   "cell_type": "code",
   "execution_count": 3,
   "id": "efc68b12",
   "metadata": {},
   "outputs": [],
   "source": [
    "class CorrectorsCollectionBehavior(ak.Array):\n",
    "    @property \n",
    "    def index(self):\n",
    "        if not hasattr(self, '_index'):\n",
    "            self._build_index()\n",
    "        return self._index\n",
    "    \n",
    "    @property\n",
    "    def corr_hor(self):\n",
    "        #return self[\"orbit\", \"name\"]\n",
    "        return ak.Array([corr for i, corr in enumerate(self['name']) if self['plane'][i] == 'H'])\n",
    "    \n",
    "    @property\n",
    "    def corr_ver(self):\n",
    "        return ak.Array([corr for i, corr in enumerate(self['name']) if self['plane'][i] == 'V'])\n",
    "    \n",
    "    def kick_plane(self, plane: str = \"H\"):\n",
    "        if plane == 'H':\n",
    "            return ak.Array([self['kick'][self.index[corr]] for corr in self.corr_hor])\n",
    "        elif plane == 'V':\n",
    "            return ak.Array([self['kick'][self.index[corr]] for corr in self.corr_ver])\n",
    "        else:\n",
    "            ValueError('No valid plane was given !')\n",
    "\n",
    "    def kick_position(self, name: str):\n",
    "        # Return position for a given BPM name\n",
    "        return self['kick'][self.index[name]]\n",
    "\n",
    "    def _build_index(self):\n",
    "        self._index = {}\n",
    "        for i, corr in enumerate(self['name']):\n",
    "            self._index[corr] = i\n",
    "\n",
    "ak.behavior[\"*\", \"CorrectorsCollection\"] = CorrectorsCollectionBehavior"
   ]
  },
  {
   "cell_type": "code",
   "execution_count": 4,
   "id": "c910aaab",
   "metadata": {},
   "outputs": [],
   "source": [
    "def load_bpm_file_data(path: Union[str, Path]) -> ak.Array:\n",
    "    \"\"\"\n",
    "    Load a .data or .data.gz file into an Awkward Array with BPMCollection behavior.\n",
    "    \"\"\"\n",
    "\n",
    "    #file opening with different compression\n",
    "    path = Path(path)\n",
    "    opener = gzip.open if path.suffix == \".gz\" else open\n",
    "    with opener(path, \"rt\") as f:\n",
    "        lines = f.readlines()\n",
    "\n",
    "    #Sections of file\n",
    "    header_lines = []\n",
    "    orbit_lines = []\n",
    "    corrector_lines = []\n",
    "\n",
    "    mode = \"header\"\n",
    "    for line in lines:\n",
    "        if line.startswith(\"# MONITOR\"):\n",
    "            mode = \"orbit\"\n",
    "            continue\n",
    "        elif line.startswith(\"# CORRECTOR\"):\n",
    "            mode = \"corrector\"\n",
    "            continue\n",
    "\n",
    "        if mode == \"header\":\n",
    "            header_lines.append(line)\n",
    "        elif mode == \"orbit\":\n",
    "            if not line.startswith('*'):\n",
    "                orbit_lines.append(line)\n",
    "        elif mode == \"corrector\":\n",
    "            if not line.startswith('*'):\n",
    "                corrector_lines.append(line)\n",
    "\n",
    "    #Metadata\n",
    "    meta = {}  # <-- parse @ DATE, @ DPP, etc.\n",
    "    for line in header_lines:\n",
    "        if not line.startswith('@'):\n",
    "            continue\n",
    "        parts = line.strip().split(maxsplit=3)\n",
    "        if len(parts) < 4:\n",
    "            continue\n",
    "        _, key, dtype, value = parts\n",
    "        if dtype == \"%d\":\n",
    "            value = int(value)\n",
    "        elif dtype == \"%f\":\n",
    "            value = float(value)\n",
    "        elif dtype == \"%s\":\n",
    "            value = value.strip('\"')\n",
    "        meta[key] = ak.Array([value])\n",
    "    \n",
    "    \n",
    "    #Orbit\n",
    "    orbit = {\n",
    "        \"name\": [], \"plane\": [], \"beam\": [], \"position\": [],\n",
    "        \"rms\": [], \"sum\": [], 'hw-status': [], 'status' : [], \"status_tag\": [],\n",
    "    }\n",
    "    # Fill orbit[...] from orbit_lines\n",
    "    for line in orbit_lines:\n",
    "        parts = line.strip().split(maxsplit=9)\n",
    "        assert len(parts)==9\n",
    "        for i, key in enumerate(list(orbit.keys())):\n",
    "            value = parts[i]\n",
    "            # Simple type inference\n",
    "            try:\n",
    "                if \".\" in value:\n",
    "                    orbit[key].append(float(value))\n",
    "                else:\n",
    "                    orbit[key].append(int(value))\n",
    "            except ValueError:\n",
    "                if key == 'name':\n",
    "                    orbit[key].append(value.lower())\n",
    "                else:\n",
    "                    orbit[key].append(value)\n",
    "    \n",
    "    for key in orbit:\n",
    "        orbit[key]=ak.Array(orbit[key])\n",
    "    \n",
    "    #Correctors\n",
    "    correctors = {\n",
    "        \"name\": [], \"plane\": [], \"beam\": [], 'strength_name' : [], \"kick\": [], \"rt_kick\": [],\n",
    "    }\n",
    "    # Fill correctors[...] from corrector_lines\n",
    "    for line in corrector_lines:\n",
    "        parts = line.strip().split(maxsplit=6)\n",
    "        assert len(parts)==6\n",
    "        for i, key in enumerate(list(correctors.keys())):\n",
    "            value = parts[i]\n",
    "            # Simple type inference\n",
    "            try:\n",
    "                if \".\" in value:\n",
    "                    correctors[key].append(float(value))\n",
    "                else:\n",
    "                    correctors[key].append(int(value))\n",
    "            except ValueError:\n",
    "                if key=='name':\n",
    "                    correctors[key].append(value.lower())\n",
    "                else:\n",
    "                    correctors[key].append(value)\n",
    "    \n",
    "    for key in correctors:\n",
    "        correctors[key]=ak.Array(correctors[key])\n",
    "\n",
    "    #Total dictionary data, idk how to make awkward array out of it\n",
    "    data = {\n",
    "        \"orbit\": ak.Array(orbit, with_name='BPMCollection'),\n",
    "        \"correctors\": ak.Array(correctors, with_name='CorrectorsCollection'),\n",
    "        \"meta\": ak.Array(meta),\n",
    "    }\n",
    "\n",
    "    return data\n"
   ]
  },
  {
   "cell_type": "code",
   "execution_count": 48,
   "id": "5d45766f",
   "metadata": {},
   "outputs": [],
   "source": [
    "def load_all_bpm_files(directory_coll):\n",
    "    bpm_files_by_timestamp = {}\n",
    "\n",
    "    pattern = re.compile(r\"ORBIT_SPSRING_(\\d{4}-\\d{2}-\\d{2}_\\d{2}-\\d{2}-\\d{2})_.*\\.data\\.gz\")\n",
    "\n",
    "    for file in Path(directory_coll).glob(\"ORBIT_SPSRING_*.data.gz\"):\n",
    "        match = pattern.match(file.name)\n",
    "        if match:\n",
    "            timestamp_raw = match.group(1)\n",
    "            timestamp = timestamp_raw.replace('_', ' ', 1) # Convert to 'YYYY-MM-DD HH-MM-SS'\n",
    "            date, time = timestamp.split(\" \")\n",
    "            fixed_time = time.replace(\"-\", \":\")\n",
    "            timestamp = f\"{date} {fixed_time}\"\n",
    "            try:\n",
    "                bpm_files_by_timestamp[timestamp] = load_bpm_file_data(file)\n",
    "            except (AssertionError, EOFError, OSError, ValueError) as e:\n",
    "                print(f\"Skipping file due to error ({type(e).__name__}): {file}\")\n",
    "                continue\n",
    "\n",
    "    return bpm_files_by_timestamp"
   ]
  },
  {
   "cell_type": "code",
   "execution_count": null,
   "id": "95c4a506",
   "metadata": {},
   "outputs": [],
   "source": [
    "# Working with timezones\n",
    "def to_timestamp_CET(tstamp):\n",
    "    if tstamp is None:\n",
    "        return None\n",
    "    else:\n",
    "        if isinstance(tstamp,int):\n",
    "            # UNIX timestamps are always UTC\n",
    "            ts = to_timestamp_UTC(tstamp)\n",
    "        else:\n",
    "            ts = pd.Timestamp(tstamp)\n",
    "        if ts.tz is None:\n",
    "            return ts.tz_localize('CET')\n",
    "        else:\n",
    "            return ts.astimezone('CET')\n",
    "\n",
    "\n",
    "def to_timestamp_UTC(tstamp):\n",
    "    if tstamp is None:\n",
    "        return None\n",
    "    else:\n",
    "        ts = pd.Timestamp(tstamp)\n",
    "        if ts.tz is None:\n",
    "            return ts.tz_localize('UTC')\n",
    "        else:\n",
    "            return ts.astimezone('UTC')\n"
   ]
  },
  {
   "cell_type": "code",
   "execution_count": null,
   "id": "8cc96ba0",
   "metadata": {},
   "outputs": [],
   "source": [
    "_DATA_PATH = Path('/Users/lisepauwels/sps_simulations/MD_analysis/20250430/')\n",
    "\n",
    "def get_tidp_bump(t):\n",
    "    if not hasattr(t, '__iter__') or isinstance(t, str):\n",
    "        t = [t]\n",
    "    t = [to_timestamp_CET(tt) for tt in t]\n",
    "    if len(np.unique([tt.strftime('%Y%m%d') for tt in t])) > 1:\n",
    "        raise NotImplementedError\n",
    "    #path = _DATA_PATH / t[0].strftime('%Y%m%d') / \"tidp.json\"\n",
    "    path = _DATA_PATH / \"tidp.json\"\n",
    "    if not path.exists():\n",
    "        return []\n",
    "    else:\n",
    "        with path.open('r') as fid:\n",
    "            data = {to_timestamp_CET(tt): vv for tt, vv in json.load(fid).items()}\n",
    "        res = []\n",
    "        for tt in t:\n",
    "            ts = np.array(list(data.keys()))\n",
    "            ts = sorted(ts[ts <= to_timestamp_CET(tt)])\n",
    "            if len(ts) == 0:\n",
    "                res.append(0.)  # Time is before first logged bump, hence 0mm\n",
    "            else:\n",
    "                ts = ts[-1] # Last timestamp with TIDP bump info before tt\n",
    "                res.append(data[ts])\n",
    "        return res"
   ]
  },
  {
   "cell_type": "code",
   "execution_count": 47,
   "id": "6ec987a0",
   "metadata": {},
   "outputs": [],
   "source": [
    "def fix_timestamp(ts):\n",
    "    date, time = ts.split(\" \")\n",
    "    fixed_time = time.replace(\"-\", \":\")\n",
    "    return f\"{date} {fixed_time}\""
   ]
  },
  {
   "cell_type": "markdown",
   "id": "50007765",
   "metadata": {},
   "source": [
    "# Loading data with timestamp"
   ]
  },
  {
   "cell_type": "code",
   "execution_count": 6,
   "id": "18f2a871",
   "metadata": {},
   "outputs": [],
   "source": [
    "directory_coll = Path('/eos/project-c/collimation-team/acquisition_data/SPS/20250430')\n",
    "directory_coll = Path('/Users/lisepauwels/sps_simulations/MD_analysis/20250430/')"
   ]
  },
  {
   "cell_type": "code",
   "execution_count": null,
   "id": "9e29a6a7",
   "metadata": {},
   "outputs": [
    {
     "data": {
      "application/vnd.jupyter.widget-view+json": {
       "model_id": "66db877fb7644d368d332bcf292c507d",
       "version_major": 2,
       "version_minor": 0
      },
      "text/plain": [
       "Loading line from dict:   0%|          | 0/36381 [00:00<?, ?it/s]"
      ]
     },
     "metadata": {},
     "output_type": "display_data"
    },
    {
     "name": "stdout",
     "output_type": "stream",
     "text": [
      "Done loading line from dict.           \n"
     ]
    },
    {
     "data": {
      "application/vnd.jupyter.widget-view+json": {
       "model_id": "4e8a39adbb884216957ec184579bc744",
       "version_major": 2,
       "version_minor": 0
      },
      "text/plain": [
       "Slicing line:   0%|          | 0/75278 [00:00<?, ?it/s]"
      ]
     },
     "metadata": {},
     "output_type": "display_data"
    }
   ],
   "source": [
    "data_test = load_bpm_file_data(Path(directory_coll, 'ORBIT_SPSRING_2025-04-30_11-00-12_MD5_CY12_TR0.data.gz'))\n",
    "\n",
    "line = xt.Line.from_json('../../injection_lines/sps_with_aperture_inj_q20_beam_sagitta.json')\n",
    "tt=line.get_table()\n",
    "tw = line.twiss()\n",
    "#tidp drift replacement\n",
    "env = line.env\n",
    "s_start_tidp = line.get_s_position('tidp.11434..0')\n",
    "line.remove(tt.rows['tidp.*'].name)\n",
    "line.insert(env.place('tidp.11434', at=s_start_tidp), s_tol=1e-6)\n",
    "\n",
    "tt=line.get_table()\n",
    "tw = line.twiss()\n",
    "\n",
    "bpms_hor_in_line = []\n",
    "s_arr = []\n",
    "for bpm in data_test['orbit'].bpms_hor:\n",
    "    if len(tt.rows[f'.*{bpm}.*'].name)>0:\n",
    "        bpms_hor_in_line.append(bpm)\n",
    "        if bpm in tt.rows[f'.*{bpm}.*'].name:\n",
    "            s_arr.append(line.get_s_position(bpm))\n",
    "        else:\n",
    "            s_arr.append(line.get_s_position(f'{bpm}..0') + line[f'{bpm}..0']._parent.length/2)"
   ]
  },
  {
   "cell_type": "code",
   "execution_count": 124,
   "id": "258beb1b",
   "metadata": {},
   "outputs": [
    {
     "name": "stdout",
     "output_type": "stream",
     "text": [
      "Skipping file due to error (AssertionError): /Users/lisepauwels/sps_simulations/MD_analysis/20250430/ORBIT_SPSRING_2025-04-30_12-20-14_MD5_CY186_TR0.data.gz\n",
      "Skipping file due to error (AssertionError): /Users/lisepauwels/sps_simulations/MD_analysis/20250430/ORBIT_SPSRING_2025-04-30_12-19-47_MD5_CY185_TR0.data.gz\n",
      "Skipping file due to error (AssertionError): /Users/lisepauwels/sps_simulations/MD_analysis/20250430/ORBIT_SPSRING_2025-04-30_11-25-30_MD5_CY67_TR0.data.gz\n",
      "Skipping file due to error (AssertionError): /Users/lisepauwels/sps_simulations/MD_analysis/20250430/ORBIT_SPSRING_2025-04-30_11-26-25_MD5_CY69_TR0.data.gz\n"
     ]
    }
   ],
   "source": [
    "bpm_dict = load_all_bpm_files(directory_coll)\n",
    "hor_pos = {to_timestamp_CET(time) : bpm_dict[time]['orbit'].restr_orbit_plane(bpms_hor_in_line) for time in bpm_dict}"
   ]
  },
  {
   "cell_type": "code",
   "execution_count": 125,
   "id": "1a30a97b",
   "metadata": {},
   "outputs": [],
   "source": [
    "md_information = {'coast1' : {'timestamps' : [to_timestamp_CET('2025-04-30 10:37:41'),to_timestamp_CET('2025-04-30 10:46:25')], 'energy': 26},\n",
    "                     'coast2' : {'timestamps' : [to_timestamp_CET('2025-04-30 10:51:01'),to_timestamp_CET('2025-04-30 11:02:03')], 'energy': 26},\n",
    "                     'coast3' : {'timestamps' : [to_timestamp_CET('2025-04-30 11:04:49'),to_timestamp_CET('2025-04-30 11:16:46')], 'energy': 26},\n",
    "                     'coast4' : {'timestamps' : [to_timestamp_CET('2025-04-30 11:19:32'),to_timestamp_CET('2025-04-30 11:35:10')], 'energy': 26},\n",
    "                     'coast5' : {'timestamps' : [to_timestamp_CET('2025-04-30 11:37:56'),to_timestamp_CET('2025-04-30 11:42:04')], 'energy': 26},\n",
    "                     'coast6' : {'timestamps' : [to_timestamp_CET('2025-04-30 11:44:23'),to_timestamp_CET('2025-04-30 11:46:40')], 'energy': 26},\n",
    "                     'coast7' : {'timestamps' : [to_timestamp_CET('2025-04-30 11:50:21'),to_timestamp_CET('2025-04-30 11:54:57')], 'energy': 26},\n",
    "                     'coast8' : {'timestamps' : [to_timestamp_CET('2025-04-30 12:00:56'),to_timestamp_CET('2025-04-30 12:04:37')], 'energy': 26},\n",
    "                     'coast9' : {'timestamps' : [to_timestamp_CET('2025-04-30 12:08:18'),to_timestamp_CET('2025-04-30 12:12:26')], 'energy': 26},\n",
    "                     'coast10' : {'timestamps' : [to_timestamp_CET('2025-04-30 12:15:39'),to_timestamp_CET('2025-04-30 12:28:04')], 'energy': 30},\n",
    "                     'coast11' : {'timestamps' : [to_timestamp_CET('2025-04-30 12:30:50'),to_timestamp_CET('2025-04-30 12:43:15')], 'energy': 30},\n",
    "                     'coast12' : {'timestamps' : [to_timestamp_CET('2025-04-30 12:45:33'),to_timestamp_CET('2025-04-30 12:51:04')], 'energy': 26},\n",
    "                     'coast13' : {'timestamps' : [to_timestamp_CET('2025-04-30 12:53:23'),to_timestamp_CET('2025-04-30 13:00:18')], 'energy': 26},\n",
    "                     'coast14' : {'timestamps' : [to_timestamp_CET('2025-04-30 13:03:02'),to_timestamp_CET('2025-04-30 13:08:06')], 'energy': 26},\n",
    "                     'coast15' : {'timestamps' : [to_timestamp_CET('2025-04-30 13:19:36'),to_timestamp_CET('2025-04-30 13:23:16')], 'energy': 26},\n",
    "                     'coast16' : {'timestamps' : [to_timestamp_CET('2025-04-30 13:26:02'),to_timestamp_CET('2025-04-30 13:29:15')], 'energy': 26},\n",
    "                     'betatron_cycles1' : {'timestamps' : [to_timestamp_CET('2025-04-30 14:59:56'),to_timestamp_CET('2025-04-30 15:06:58')], 'energy': 26},\n",
    "                     'off_momentum_cycles1' : {'timestamps' : [to_timestamp_CET('2025-04-30 15:07:58'),to_timestamp_CET('2025-04-30 15:15:00')], 'energy' : 26},\n",
    "                     'coast17' : {'timestamps' : [to_timestamp_CET('2025-04-30 16:30:39'),to_timestamp_CET('2025-04-30 16:34:48')], 'energy': 30},\n",
    "                     'coast18' : {'timestamps' : [to_timestamp_CET('2025-04-30 16:38:29'),to_timestamp_CET('2025-04-30 16:41:42')], 'energy': 30},\n",
    "                     'coast19' : {'timestamps' : [to_timestamp_CET('2025-04-30 16:47:41'),to_timestamp_CET('2025-04-30 16:52:16')], 'energy': 30},\n",
    "                     'coast20' : {'timestamps' : [to_timestamp_CET('2025-04-30 16:56:25'),to_timestamp_CET('2025-04-30 17:00:06')], 'energy': 30},\n",
    "                     'betatron_cycles2' : {'timestamps' : [to_timestamp_CET('2025-04-30 17:14:17'),to_timestamp_CET('2025-04-30 17:54:30')], 'energy': 26},\n",
    "                     'off_momentum_cycles2' : {'timestamps' : [to_timestamp_CET('2025-04-30 17:54:42'),to_timestamp_CET('2025-04-30 18:10:00')], 'energy': 26},\n",
    "                     }\n",
    "\n",
    "def get_timestamps_orbit_within_interval(t_start, t_end, timestamps_orbits):\n",
    "    return [ts for ts in timestamps_orbits if t_start <= ts <= t_end]\n",
    "\n",
    "for key in md_information:\n",
    "    md_information[key]['orbit_ts_files'] = get_timestamps_orbit_within_interval(md_information[key]['timestamps'][0],\n",
    "                                                   md_information[key]['timestamps'][1],\n",
    "                                                   sorted(list(hor_pos.keys())))"
   ]
  },
  {
   "cell_type": "code",
   "execution_count": 62,
   "id": "460e14b0",
   "metadata": {},
   "outputs": [],
   "source": [
    "blm_tidp = 'SP.BLML.11451.ILS_TIDP'\n",
    "s_blm_tidp = 458.67188304\n",
    "s_tidp = line.get_s_position('tidp.11434')"
   ]
  },
  {
   "cell_type": "markdown",
   "id": "d25947d3",
   "metadata": {},
   "source": [
    "# Linear interpolation"
   ]
  },
  {
   "cell_type": "code",
   "execution_count": 177,
   "id": "cdd8e5ec",
   "metadata": {},
   "outputs": [],
   "source": [
    "for key in md_information:\n",
    "    md_information[key]['tidp_bump_theoretical'] = np.array(get_tidp_bump(md_information[key]['orbit_ts_files']))\n",
    "    md_information[key]['tidp_bump_md'] = np.array([bpm_dict[str(ts).split('+')[0]]['orbit'].orbit_position('bph.11408') for ts in md_information[key]['orbit_ts_files']])*1e-6\n",
    "    md_information[key]['tidp_bump_md2'] = np.array([bpm_dict[str(ts).split('+')[0]]['orbit'].orbit_position('bph.11608') for ts in md_information[key]['orbit_ts_files']])*1e-6"
   ]
  },
  {
   "cell_type": "code",
   "execution_count": 91,
   "id": "6f306dc3",
   "metadata": {},
   "outputs": [],
   "source": [
    "timestamps_md_energy = {26 : {'begin' : [pd.Timestamp('2025-04-30 10:37:41', tz='Europe/Paris'), pd.Timestamp('2025-04-30 12:45:33', tz='Europe/Paris'), \n",
    "                                         pd.Timestamp('2025-04-30 14:59:56', tz='Europe/Paris'), pd.Timestamp('2025-04-30 15:07:58', tz='Europe/Paris'),\n",
    "                                         pd.Timestamp('2025-04-30 17:14:17', tz='Europe/Paris')],\n",
    "                              'end' : [pd.Timestamp('2025-04-30 12:12:26', tz='Europe/Paris'), pd.Timestamp('2025-04-30 13:29:15', tz='Europe/Paris'), \n",
    "                                       pd.Timestamp('2025-04-30 15:06:58', tz='Europe/Paris'), pd.Timestamp('2025-04-30 15:15:00', tz='Europe/Paris'),\n",
    "                                       pd.Timestamp('2025-04-30 17:54:30', tz='Europe/Paris')]},\n",
    "                        30 : {'begin' : [pd.Timestamp('2025-04-30 12:15:39', tz='Europe/Paris'), pd.Timestamp('2025-04-30 16:30:39', tz='Europe/Paris')],\n",
    "                              'end' : [pd.Timestamp('2025-04-30 12:43:15', tz='Europe/Paris'), pd.Timestamp('2025-04-30 17:00:06', tz='Europe/Paris')]}}"
   ]
  },
  {
   "cell_type": "code",
   "execution_count": 162,
   "id": "9b441a19",
   "metadata": {},
   "outputs": [],
   "source": [
    "# coast = 'coast4'\n",
    "# plt.close()\n",
    "# plt.figure()\n",
    "# plt.plot(md_information[coast]['orbit_ts_files'], md_information[coast]['tidp_bump_theoretical'], '*-', color='blue', label='TIDP bump theoretical')\n",
    "# plt.plot(md_information[coast]['orbit_ts_files'], md_information[coast]['tidp_bump_md'], '*-', color='red', label='TIDP bump measured')"
   ]
  },
  {
   "cell_type": "code",
   "execution_count": 178,
   "id": "e34223d4",
   "metadata": {},
   "outputs": [
    {
     "data": {
      "text/plain": [
       "(np.float64(20208.388564814813), np.float64(20208.399421296297))"
      ]
     },
     "execution_count": 178,
     "metadata": {},
     "output_type": "execute_result"
    },
    {
     "data": {
      "image/png": "[encoded data removed]",
      "text/plain": [
       "<Figure size 640x480 with 1 Axes>"
      ]
     },
     "metadata": {},
     "output_type": "display_data"
    }
   ],
   "source": [
    "plt.close()\n",
    "plt.figure()\n",
    "for key in md_information:\n",
    "    plt.plot(md_information[key]['orbit_ts_files'], md_information[key]['tidp_bump_md'], '*-', color='red')\n",
    "    plt.plot(md_information[key]['orbit_ts_files'], md_information[key]['tidp_bump_md2'], '*-', color='green')\n",
    "    plt.plot(md_information[key]['orbit_ts_files'], md_information[key]['tidp_bump_theoretical'], '*-', color='blue')\n",
    "\n",
    "plt.xlim(md_information['coast4']['timestamps'][0], md_information['coast4']['timestamps'][1])"
   ]
  },
  {
   "cell_type": "code",
   "execution_count": 185,
   "id": "4e72ae4d",
   "metadata": {},
   "outputs": [],
   "source": [
    "def get_straigth(s, x1, x2, s1, s2):\n",
    "    \"\"\"\n",
    "    Get the line equation y = mx + b\n",
    "    \"\"\"\n",
    "    m = (x2 - x1) / (s2 - s1)\n",
    "    b = x1 - m * s1\n",
    "    return m * s + b"
   ]
  },
  {
   "cell_type": "code",
   "execution_count": null,
   "id": "be13f6e1",
   "metadata": {},
   "outputs": [
    {
     "data": {
      "text/plain": [
       "(np.float64(20208.388564814813), np.float64(20208.399421296297))"
      ]
     },
     "execution_count": 244,
     "metadata": {},
     "output_type": "execute_result"
    },
    {
     "data": {
      "image/png": "[encoded data removed]",
      "text/plain": [
       "<Figure size 640x480 with 1 Axes>"
      ]
     },
     "metadata": {},
     "output_type": "display_data"
    }
   ],
   "source": [
    "#Linear fit with fitting factor chosen by hand\n",
    "plt.close()\n",
    "plt.figure()\n",
    "coast = 'coast4'\n",
    "\n",
    "tidp_pos_interp = line.get_s_position('tidp.11434') + line['tidp.11434'].length/2\n",
    "bph_11408_pos_interp = line.get_s_position('bph.11408..0') + line['bph.11408..0']._parent.length/2\n",
    "bph_11608_pos_interp = line.get_s_position('bph.11608..0') + line['bph.11608..0']._parent.length/2\n",
    "\n",
    "fitting_factor = 0.87\n",
    "for key in md_information:\n",
    "    #plt.plot(md_information[key]['orbit_ts_files'], md_information[key]['tidp_bump_md'], '*-')\n",
    "    plt.plot(md_information[key]['orbit_ts_files'], \n",
    "             get_straigth(tidp_pos_interp, md_information[key]['tidp_bump_md'], md_information[key]['tidp_bump_md2'], \n",
    "                          bph_11408_pos_interp, bph_11608_pos_interp)*fitting_factor, \n",
    "            '*-', color='red')\n",
    "    plt.plot()\n",
    "    plt.plot(md_information[key]['orbit_ts_files'], \n",
    "             md_information[key]['tidp_bump_theoretical'], '*-', color='blue')\n",
    "\n",
    "plt.xlim(md_information[coast]['timestamps'][0], md_information[coast]['timestamps'][1])"
   ]
  },
  {
   "cell_type": "markdown",
   "id": "cad083d4",
   "metadata": {},
   "source": [
    "There is a discrepency that looks dependant on the bump.\n",
    "\n",
    "I added a fitting factor but adjusted manually"
   ]
  },
  {
   "cell_type": "markdown",
   "id": "f2bced14",
   "metadata": {},
   "source": [
    "# Bump fitting based on simulation"
   ]
  },
  {
   "cell_type": "code",
   "execution_count": 292,
   "id": "1e59cc70",
   "metadata": {},
   "outputs": [],
   "source": [
    "bump_vals = np.linspace(0, -30e-3, num=int(30/0.25 + 1))"
   ]
  },
  {
   "cell_type": "code",
   "execution_count": 294,
   "id": "7a15c551",
   "metadata": {},
   "outputs": [
    {
     "data": {
      "text/plain": [
       "array([ 0.     , -0.00025, -0.0005 , -0.00075, -0.001  , -0.00125,\n",
       "       -0.0015 , -0.00175, -0.002  , -0.00225, -0.0025 , -0.00275,\n",
       "       -0.003  , -0.00325, -0.0035 , -0.00375, -0.004  , -0.00425,\n",
       "       -0.0045 , -0.00475, -0.005  , -0.00525, -0.0055 , -0.00575,\n",
       "       -0.006  , -0.00625, -0.0065 , -0.00675, -0.007  , -0.00725,\n",
       "       -0.0075 , -0.00775, -0.008  , -0.00825, -0.0085 , -0.00875,\n",
       "       -0.009  , -0.00925, -0.0095 , -0.00975, -0.01   , -0.01025,\n",
       "       -0.0105 , -0.01075, -0.011  , -0.01125, -0.0115 , -0.01175,\n",
       "       -0.012  , -0.01225, -0.0125 , -0.01275, -0.013  , -0.01325,\n",
       "       -0.0135 , -0.01375, -0.014  , -0.01425, -0.0145 , -0.01475,\n",
       "       -0.015  , -0.01525, -0.0155 , -0.01575, -0.016  , -0.01625,\n",
       "       -0.0165 , -0.01675, -0.017  , -0.01725, -0.0175 , -0.01775,\n",
       "       -0.018  , -0.01825, -0.0185 , -0.01875, -0.019  , -0.01925,\n",
       "       -0.0195 , -0.01975, -0.02   , -0.02025, -0.0205 , -0.02075,\n",
       "       -0.021  , -0.02125, -0.0215 , -0.02175, -0.022  , -0.02225,\n",
       "       -0.0225 , -0.02275, -0.023  , -0.02325, -0.0235 , -0.02375,\n",
       "       -0.024  , -0.02425, -0.0245 , -0.02475, -0.025  , -0.02525,\n",
       "       -0.0255 , -0.02575, -0.026  , -0.02625, -0.0265 , -0.02675,\n",
       "       -0.027  , -0.02725, -0.0275 , -0.02775, -0.028  , -0.02825,\n",
       "       -0.0285 , -0.02875, -0.029  , -0.02925, -0.0295 , -0.02975,\n",
       "       -0.03   ])"
      ]
     },
     "execution_count": 294,
     "metadata": {},
     "output_type": "execute_result"
    }
   ],
   "source": [
    "bump_vals"
   ]
  },
  {
   "cell_type": "code",
   "execution_count": 268,
   "id": "5cc311af",
   "metadata": {},
   "outputs": [
    {
     "data": {
      "application/vnd.jupyter.widget-view+json": {
       "model_id": "ec98b5d29e4b49f2b929267716cb948d",
       "version_major": 2,
       "version_minor": 0
      },
      "text/plain": [
       "Loading line from dict:   0%|          | 0/36381 [00:00<?, ?it/s]"
      ]
     },
     "metadata": {},
     "output_type": "display_data"
    },
    {
     "name": "stdout",
     "output_type": "stream",
     "text": [
      "Done loading line from dict.           \n"
     ]
    },
    {
     "data": {
      "application/vnd.jupyter.widget-view+json": {
       "model_id": "4a18a117ac054bbca7865165f5bc78d2",
       "version_major": 2,
       "version_minor": 0
      },
      "text/plain": [
       "Slicing line:   0%|          | 0/75278 [00:00<?, ?it/s]"
      ]
     },
     "metadata": {},
     "output_type": "display_data"
    }
   ],
   "source": [
    "line = xt.Line.from_json('../../injection_lines/sps_with_aperture_inj_q20_beam_sagitta.json')\n",
    "tt=line.get_table()\n",
    "tw = line.twiss()\n",
    "#tidp drift replacement\n",
    "env = line.env\n",
    "s_start_tidp = line.get_s_position('tidp.11434..0')\n",
    "line.remove(tt.rows['tidp.*'].name)\n",
    "line.insert(env.place('tidp.11434', at=s_start_tidp), s_tol=1e-6)\n",
    "\n",
    "tt=line.get_table()\n",
    "tw = line.twiss()"
   ]
  },
  {
   "cell_type": "code",
   "execution_count": 269,
   "id": "efcc9146",
   "metadata": {},
   "outputs": [],
   "source": [
    "env = line.env\n",
    "\n",
    "line['bump.11207'] = 0\n",
    "line['bump.11407'] = 0\n",
    "line['bump.11607'] = 0\n",
    "line['bump.12207'] = 0\n",
    "\n",
    "line.ref['mdh.11207'].knl[0] += line.vars['bump.11207']\n",
    "line.ref['mdh.11407'].knl[0] += line.vars['bump.11407']\n",
    "line.ref['mdh.11607'].knl[0] += line.vars['bump.11607']\n",
    "line.ref['mdh.12207'].knl[0] += line.vars['bump.12207']"
   ]
  },
  {
   "cell_type": "code",
   "execution_count": 273,
   "id": "0e4c3d25",
   "metadata": {},
   "outputs": [
    {
     "name": "stdout",
     "output_type": "stream",
     "text": [
      "                                             \n",
      "Optimize - start penalty: 0.0002451                         \n",
      "Matching: model call n. 6 penalty = 3.3091e-09              \n",
      "Optimize - end penalty:  3.30909e-09                            \n",
      "                                             \n",
      "Optimize - start penalty: 0.0025                            \n",
      "Matching: model call n. 11 penalty = 2.8527e-14              \n",
      "Optimize - end penalty:  2.85265e-14                            \n",
      "                                             \n",
      "Optimize - start penalty: 0.0025                            \n",
      "Matching: model call n. 11 penalty = 2.8331e-14              \n",
      "Optimize - end penalty:  2.83311e-14                            \n",
      "                                             \n",
      "Optimize - start penalty: 0.0025                            \n",
      "Matching: model call n. 11 penalty = 2.8651e-14              \n",
      "Optimize - end penalty:  2.86511e-14                            \n",
      "                                             \n",
      "Optimize - start penalty: 0.0025                            \n",
      "Matching: model call n. 11 penalty = 2.8537e-14              \n",
      "Optimize - end penalty:  2.85368e-14                            \n",
      "                                             \n",
      "Optimize - start penalty: 0.0025                            \n",
      "Matching: model call n. 11 penalty = 2.8888e-14              \n",
      "Optimize - end penalty:  2.88882e-14                            \n",
      "                                             \n",
      "Optimize - start penalty: 0.0025                            \n",
      "Matching: model call n. 11 penalty = 2.7744e-14              \n",
      "Optimize - end penalty:  2.77444e-14                            \n",
      "                                             \n",
      "Optimize - start penalty: 0.0025                            \n",
      "Matching: model call n. 11 penalty = 2.8710e-14              \n",
      "Optimize - end penalty:  2.871e-14                            \n",
      "                                             \n",
      "Optimize - start penalty: 0.0025                            \n",
      "Matching: model call n. 11 penalty = 2.9049e-14              \n",
      "Optimize - end penalty:  2.90489e-14                            \n",
      "                                             \n",
      "Optimize - start penalty: 0.0025                            \n",
      "Matching: model call n. 11 penalty = 2.8920e-14              \n",
      "Optimize - end penalty:  2.89195e-14                            \n",
      "                                             \n",
      "Optimize - start penalty: 0.0025                            \n",
      "Matching: model call n. 11 penalty = 2.7588e-14              \n",
      "Optimize - end penalty:  2.75879e-14                            \n",
      "                                             \n",
      "Optimize - start penalty: 0.0025                            \n",
      "Matching: model call n. 11 penalty = 2.7749e-14              \n",
      "Optimize - end penalty:  2.7749e-14                            \n",
      "                                             \n",
      "Optimize - start penalty: 0.0025                            \n",
      "Matching: model call n. 11 penalty = 2.8257e-14              \n",
      "Optimize - end penalty:  2.82567e-14                            \n",
      "                                             \n",
      "Optimize - start penalty: 0.0025                            \n",
      "Matching: model call n. 11 penalty = 2.8382e-14              \n",
      "Optimize - end penalty:  2.83821e-14                            \n",
      "                                             \n",
      "Optimize - start penalty: 0.0025                            \n",
      "Matching: model call n. 11 penalty = 2.8598e-14              \n",
      "Optimize - end penalty:  2.85982e-14                            \n",
      "                                             \n",
      "Optimize - start penalty: 0.0025                            \n",
      "Matching: model call n. 11 penalty = 2.8611e-14              \n",
      "Optimize - end penalty:  2.86106e-14                            \n",
      "                                             \n",
      "Optimize - start penalty: 0.0025                            \n",
      "Matching: model call n. 11 penalty = 2.8537e-14              \n",
      "Optimize - end penalty:  2.85374e-14                            \n",
      "                                             \n",
      "Optimize - start penalty: 0.0025                            \n",
      "Matching: model call n. 11 penalty = 2.6612e-14              \n",
      "Optimize - end penalty:  2.66118e-14                            \n",
      "                                             \n",
      "Optimize - start penalty: 0.0025                            \n",
      "Matching: model call n. 11 penalty = 2.9433e-14              \n",
      "Optimize - end penalty:  2.94327e-14                            \n",
      "                                             \n",
      "Optimize - start penalty: 0.0025                            \n",
      "Matching: model call n. 11 penalty = 2.8246e-14              \n",
      "Optimize - end penalty:  2.82457e-14                            \n",
      "                                             \n",
      "Optimize - start penalty: 0.0025                            \n",
      "Matching: model call n. 11 penalty = 2.9470e-14              \n",
      "Optimize - end penalty:  2.947e-14                            \n",
      "                                             \n",
      "Optimize - start penalty: 0.0025                            \n",
      "Matching: model call n. 11 penalty = 2.9003e-14              \n",
      "Optimize - end penalty:  2.90034e-14                            \n",
      "                                             \n",
      "Optimize - start penalty: 0.0025                            \n",
      "Matching: model call n. 11 penalty = 2.8460e-14              \n",
      "Optimize - end penalty:  2.84601e-14                            \n",
      "                                             \n",
      "Optimize - start penalty: 0.0025                            \n",
      "Matching: model call n. 11 penalty = 2.7792e-14              \n",
      "Optimize - end penalty:  2.77917e-14                            \n",
      "                                             \n",
      "Optimize - start penalty: 0.0025                            \n",
      "Matching: model call n. 11 penalty = 2.6917e-14              \n",
      "Optimize - end penalty:  2.69167e-14                            \n",
      "                                             \n",
      "Optimize - start penalty: 0.0025                            \n",
      "Matching: model call n. 11 penalty = 2.8256e-14              \n",
      "Optimize - end penalty:  2.82556e-14                            \n",
      "                                             \n",
      "Optimize - start penalty: 0.0025                            \n",
      "Matching: model call n. 11 penalty = 2.7813e-14              \n",
      "Optimize - end penalty:  2.78129e-14                            \n",
      "                                             \n",
      "Optimize - start penalty: 0.0025                            \n",
      "Matching: model call n. 11 penalty = 2.8555e-14              \n",
      "Optimize - end penalty:  2.85554e-14                            \n",
      "                                             \n",
      "Optimize - start penalty: 0.0025                            \n",
      "Matching: model call n. 11 penalty = 2.7962e-14              \n",
      "Optimize - end penalty:  2.79624e-14                            \n",
      "                                             \n",
      "Optimize - start penalty: 0.0025                            \n",
      "Matching: model call n. 11 penalty = 2.8373e-14              \n",
      "Optimize - end penalty:  2.83732e-14                            \n",
      "                                             \n",
      "Optimize - start penalty: 0.0025                            \n",
      "Matching: model call n. 11 penalty = 2.9281e-14              \n",
      "Optimize - end penalty:  2.92812e-14                            \n",
      "                                             \n",
      "Optimize - start penalty: 0.0025                            \n",
      "Matching: model call n. 11 penalty = 2.9111e-14              \n",
      "Optimize - end penalty:  2.91108e-14                            \n",
      "                                             \n",
      "Optimize - start penalty: 0.0025                            \n",
      "Matching: model call n. 11 penalty = 2.8524e-14              \n",
      "Optimize - end penalty:  2.85244e-14                            \n",
      "                                             \n",
      "Optimize - start penalty: 0.0025                            \n",
      "Matching: model call n. 11 penalty = 2.8849e-14              \n",
      "Optimize - end penalty:  2.88492e-14                            \n",
      "                                             \n",
      "Optimize - start penalty: 0.0025                            \n",
      "Matching: model call n. 11 penalty = 2.8039e-14              \n",
      "Optimize - end penalty:  2.80391e-14                            \n",
      "                                             \n",
      "Optimize - start penalty: 0.0025                            \n",
      "Matching: model call n. 11 penalty = 2.8296e-14              \n",
      "Optimize - end penalty:  2.82956e-14                            \n",
      "                                             \n",
      "Optimize - start penalty: 0.0025                            \n",
      "Matching: model call n. 11 penalty = 2.8073e-14              \n",
      "Optimize - end penalty:  2.80728e-14                            \n",
      "                                             \n",
      "Optimize - start penalty: 0.0025                            \n",
      "Matching: model call n. 11 penalty = 2.8816e-14              \n",
      "Optimize - end penalty:  2.88162e-14                            \n",
      "                                             \n",
      "Optimize - start penalty: 0.0025                            \n",
      "Matching: model call n. 11 penalty = 2.7592e-14              \n",
      "Optimize - end penalty:  2.75925e-14                            \n",
      "                                             \n",
      "Optimize - start penalty: 0.0025                            \n",
      "Matching: model call n. 11 penalty = 2.9021e-14              \n",
      "Optimize - end penalty:  2.9021e-14                            \n",
      "                                             \n",
      "Optimize - start penalty: 0.0025                            \n",
      "Matching: model call n. 11 penalty = 2.8113e-14              \n",
      "Optimize - end penalty:  2.8113e-14                            \n",
      "                                             \n",
      "Optimize - start penalty: 0.0025                            \n",
      "Matching: model call n. 11 penalty = 2.8108e-14              \n",
      "Optimize - end penalty:  2.81084e-14                            \n",
      "                                             \n",
      "Optimize - start penalty: 0.0025                            \n",
      "Matching: model call n. 11 penalty = 2.7945e-14              \n",
      "Optimize - end penalty:  2.79448e-14                            \n",
      "                                             \n",
      "Optimize - start penalty: 0.0025                            \n",
      "Matching: model call n. 11 penalty = 2.8392e-14              \n",
      "Optimize - end penalty:  2.83923e-14                            \n",
      "                                             \n",
      "Optimize - start penalty: 0.0025                            \n",
      "Matching: model call n. 11 penalty = 2.7919e-14              \n",
      "Optimize - end penalty:  2.79187e-14                            \n",
      "                                             \n",
      "Optimize - start penalty: 0.0025                            \n",
      "Matching: model call n. 11 penalty = 2.7733e-14              \n",
      "Optimize - end penalty:  2.77331e-14                            \n",
      "                                             \n",
      "Optimize - start penalty: 0.0025                            \n",
      "Matching: model call n. 11 penalty = 2.8809e-14              \n",
      "Optimize - end penalty:  2.88088e-14                            \n",
      "                                             \n",
      "Optimize - start penalty: 0.0025                            \n",
      "Matching: model call n. 11 penalty = 2.8544e-14              \n",
      "Optimize - end penalty:  2.85443e-14                            \n",
      "                                             \n",
      "Optimize - start penalty: 0.0025                            \n",
      "Matching: model call n. 11 penalty = 2.8894e-14              \n",
      "Optimize - end penalty:  2.88937e-14                            \n",
      "                                             \n",
      "Optimize - start penalty: 0.0025                            \n",
      "Matching: model call n. 11 penalty = 2.9476e-14              \n",
      "Optimize - end penalty:  2.94757e-14                            \n",
      "                                             \n",
      "Optimize - start penalty: 0.0025                            \n",
      "Matching: model call n. 11 penalty = 2.8566e-14              \n",
      "Optimize - end penalty:  2.85659e-14                            \n",
      "                                             \n",
      "Optimize - start penalty: 0.0025                            \n",
      "Matching: model call n. 11 penalty = 3.0200e-14              \n",
      "Optimize - end penalty:  3.01999e-14                            \n",
      "                                             \n",
      "Optimize - start penalty: 0.0025                            \n",
      "Matching: model call n. 11 penalty = 2.9258e-14              \n",
      "Optimize - end penalty:  2.92577e-14                            \n",
      "                                             \n",
      "Optimize - start penalty: 0.0025                            \n",
      "Matching: model call n. 11 penalty = 2.8163e-14              \n",
      "Optimize - end penalty:  2.81625e-14                            \n",
      "                                             \n",
      "Optimize - start penalty: 0.0025                            \n",
      "Matching: model call n. 11 penalty = 2.7191e-14              \n",
      "Optimize - end penalty:  2.71906e-14                            \n",
      "                                             \n",
      "Optimize - start penalty: 0.0025                            \n",
      "Matching: model call n. 11 penalty = 2.8733e-14              \n",
      "Optimize - end penalty:  2.87328e-14                            \n",
      "                                             \n",
      "Optimize - start penalty: 0.0025                            \n",
      "Matching: model call n. 11 penalty = 2.7817e-14              \n",
      "Optimize - end penalty:  2.78174e-14                            \n",
      "                                             \n",
      "Optimize - start penalty: 0.0025                            \n",
      "Matching: model call n. 11 penalty = 2.7957e-14              \n",
      "Optimize - end penalty:  2.79567e-14                            \n",
      "                                             \n",
      "Optimize - start penalty: 0.0025                            \n",
      "Matching: model call n. 11 penalty = 2.7086e-14              \n",
      "Optimize - end penalty:  2.7086e-14                            \n",
      "                                             \n",
      "Optimize - start penalty: 0.0025                            \n",
      "Matching: model call n. 11 penalty = 2.8050e-14              \n",
      "Optimize - end penalty:  2.80495e-14                            \n",
      "                                             \n",
      "Optimize - start penalty: 0.0025                            \n",
      "Matching: model call n. 11 penalty = 2.9949e-14              \n",
      "Optimize - end penalty:  2.99492e-14                            \n",
      "                                             \n",
      "Optimize - start penalty: 0.0025                            \n",
      "Matching: model call n. 11 penalty = 2.6737e-14              \n",
      "Optimize - end penalty:  2.67373e-14                            \n",
      "                                             \n",
      "Optimize - start penalty: 0.0025                            \n",
      "Matching: model call n. 11 penalty = 2.7211e-14              \n",
      "Optimize - end penalty:  2.72107e-14                            \n",
      "                                             \n",
      "Optimize - start penalty: 0.0025                            \n",
      "Matching: model call n. 11 penalty = 2.8259e-14              \n",
      "Optimize - end penalty:  2.82588e-14                            \n",
      "                                             \n",
      "Optimize - start penalty: 0.0025                            \n",
      "Matching: model call n. 11 penalty = 2.9340e-14              \n",
      "Optimize - end penalty:  2.93396e-14                            \n",
      "                                             \n",
      "Optimize - start penalty: 0.0025                            \n",
      "Matching: model call n. 11 penalty = 2.8251e-14              \n",
      "Optimize - end penalty:  2.82514e-14                            \n",
      "                                             \n",
      "Optimize - start penalty: 0.0025                            \n",
      "Matching: model call n. 11 penalty = 2.6035e-14              \n",
      "Optimize - end penalty:  2.60348e-14                            \n",
      "                                             \n",
      "Optimize - start penalty: 0.0025                            \n",
      "Matching: model call n. 11 penalty = 2.8778e-14              \n",
      "Optimize - end penalty:  2.87785e-14                            \n",
      "                                             \n",
      "Optimize - start penalty: 0.0025                            \n",
      "Matching: model call n. 11 penalty = 2.8447e-14              \n",
      "Optimize - end penalty:  2.84475e-14                            \n",
      "                                             \n",
      "Optimize - start penalty: 0.0025                            \n",
      "Matching: model call n. 11 penalty = 2.9618e-14              \n",
      "Optimize - end penalty:  2.96181e-14                            \n",
      "                                             \n",
      "Optimize - start penalty: 0.0025                            \n",
      "Matching: model call n. 11 penalty = 2.8273e-14              \n",
      "Optimize - end penalty:  2.82731e-14                            \n",
      "                                             \n",
      "Optimize - start penalty: 0.0025                            \n",
      "Matching: model call n. 11 penalty = 2.9838e-14              \n",
      "Optimize - end penalty:  2.98383e-14                            \n",
      "                                             \n",
      "Optimize - start penalty: 0.0025                            \n",
      "Matching: model call n. 11 penalty = 2.8794e-14              \n",
      "Optimize - end penalty:  2.87935e-14                            \n",
      "                                             \n",
      "Optimize - start penalty: 0.0025                            \n",
      "Matching: model call n. 11 penalty = 2.9178e-14              \n",
      "Optimize - end penalty:  2.91777e-14                            \n",
      "                                             \n",
      "Optimize - start penalty: 0.0025                            \n",
      "Matching: model call n. 11 penalty = 2.8274e-14              \n",
      "Optimize - end penalty:  2.82738e-14                            \n",
      "                                             \n",
      "Optimize - start penalty: 0.0025                            \n",
      "Matching: model call n. 11 penalty = 2.8141e-14              \n",
      "Optimize - end penalty:  2.81405e-14                            \n",
      "                                             \n",
      "Optimize - start penalty: 0.0025                            \n",
      "Matching: model call n. 11 penalty = 2.8965e-14              \n",
      "Optimize - end penalty:  2.89647e-14                            \n",
      "                                             \n",
      "Optimize - start penalty: 0.0025                            \n",
      "Matching: model call n. 11 penalty = 2.9222e-14              \n",
      "Optimize - end penalty:  2.92223e-14                            \n",
      "                                             \n",
      "Optimize - start penalty: 0.0025                            \n",
      "Matching: model call n. 11 penalty = 2.7926e-14              \n",
      "Optimize - end penalty:  2.79264e-14                            \n",
      "                                             \n",
      "Optimize - start penalty: 0.0025                            \n",
      "Matching: model call n. 11 penalty = 2.9069e-14              \n",
      "Optimize - end penalty:  2.90694e-14                            \n",
      "                                             \n",
      "Optimize - start penalty: 0.0025                            \n",
      "Matching: model call n. 11 penalty = 2.8282e-14              \n",
      "Optimize - end penalty:  2.82823e-14                            \n",
      "                                             \n",
      "Optimize - start penalty: 0.0025                            \n",
      "Matching: model call n. 11 penalty = 2.7835e-14              \n",
      "Optimize - end penalty:  2.7835e-14                            \n",
      "                                             \n",
      "Optimize - start penalty: 0.0025                            \n",
      "Matching: model call n. 11 penalty = 2.8490e-14              \n",
      "Optimize - end penalty:  2.849e-14                            \n",
      "                                             \n",
      "Optimize - start penalty: 0.0025                            \n",
      "Matching: model call n. 11 penalty = 2.7689e-14              \n",
      "Optimize - end penalty:  2.76895e-14                            \n",
      "                                             \n",
      "Optimize - start penalty: 0.0025                            \n",
      "Matching: model call n. 11 penalty = 2.7589e-14              \n",
      "Optimize - end penalty:  2.75893e-14                            \n",
      "                                             \n",
      "Optimize - start penalty: 0.0025                            \n",
      "Matching: model call n. 11 penalty = 2.7899e-14              \n",
      "Optimize - end penalty:  2.78993e-14                            \n",
      "                                             \n",
      "Optimize - start penalty: 0.0025                            \n",
      "Matching: model call n. 11 penalty = 2.7475e-14              \n",
      "Optimize - end penalty:  2.74755e-14                            \n",
      "                                             \n",
      "Optimize - start penalty: 0.0025                            \n",
      "Matching: model call n. 11 penalty = 2.8026e-14              \n",
      "Optimize - end penalty:  2.80262e-14                            \n",
      "                                             \n",
      "Optimize - start penalty: 0.0025                            \n",
      "Matching: model call n. 11 penalty = 2.8554e-14              \n",
      "Optimize - end penalty:  2.8554e-14                            \n",
      "                                             \n",
      "Optimize - start penalty: 0.0025                            \n",
      "Matching: model call n. 11 penalty = 2.8493e-14              \n",
      "Optimize - end penalty:  2.84933e-14                            \n",
      "                                             \n",
      "Optimize - start penalty: 0.0025                            \n",
      "Matching: model call n. 11 penalty = 2.7976e-14              \n",
      "Optimize - end penalty:  2.79765e-14                            \n",
      "                                             \n",
      "Optimize - start penalty: 0.0025                            \n",
      "Matching: model call n. 11 penalty = 2.8715e-14              \n",
      "Optimize - end penalty:  2.87149e-14                            \n",
      "                                             \n",
      "Optimize - start penalty: 0.0025                            \n",
      "Matching: model call n. 11 penalty = 2.7566e-14              \n",
      "Optimize - end penalty:  2.75655e-14                            \n",
      "                                             \n",
      "Optimize - start penalty: 0.0025                            \n",
      "Matching: model call n. 11 penalty = 2.9117e-14              \n",
      "Optimize - end penalty:  2.91174e-14                            \n",
      "                                             \n",
      "Optimize - start penalty: 0.0025                            \n",
      "Matching: model call n. 11 penalty = 2.9147e-14              \n",
      "Optimize - end penalty:  2.91473e-14                            \n",
      "                                             \n",
      "Optimize - start penalty: 0.0025                            \n",
      "Matching: model call n. 11 penalty = 2.6395e-14              \n",
      "Optimize - end penalty:  2.63953e-14                            \n",
      "                                             \n",
      "Optimize - start penalty: 0.0025                            \n",
      "Matching: model call n. 11 penalty = 2.7139e-14              \n",
      "Optimize - end penalty:  2.7139e-14                            \n",
      "                                             \n",
      "Optimize - start penalty: 0.0025                            \n",
      "Matching: model call n. 11 penalty = 2.8815e-14              \n",
      "Optimize - end penalty:  2.88154e-14                            \n",
      "                                             \n",
      "Optimize - start penalty: 0.0025                            \n",
      "Matching: model call n. 11 penalty = 2.7966e-14              \n",
      "Optimize - end penalty:  2.79665e-14                            \n",
      "                                             \n",
      "Optimize - start penalty: 0.0025                            \n",
      "Matching: model call n. 11 penalty = 2.9493e-14              \n",
      "Optimize - end penalty:  2.94933e-14                            \n",
      "                                             \n",
      "Optimize - start penalty: 0.0025                            \n",
      "Matching: model call n. 11 penalty = 2.7201e-14              \n",
      "Optimize - end penalty:  2.72013e-14                            \n",
      "                                             \n",
      "Optimize - start penalty: 0.0025                            \n",
      "Matching: model call n. 11 penalty = 2.9925e-14              \n",
      "Optimize - end penalty:  2.99247e-14                            \n",
      "                                             \n",
      "Optimize - start penalty: 0.0025                            \n",
      "Matching: model call n. 11 penalty = 2.7064e-14              \n",
      "Optimize - end penalty:  2.70641e-14                            \n",
      "                                             \n",
      "Optimize - start penalty: 0.0025                            \n",
      "Matching: model call n. 11 penalty = 2.8024e-14              \n",
      "Optimize - end penalty:  2.80241e-14                            \n",
      "                                             \n",
      "Optimize - start penalty: 0.0025                            \n",
      "Matching: model call n. 11 penalty = 3.0273e-14              \n",
      "Optimize - end penalty:  3.02726e-14                            \n",
      "                                             \n",
      "Optimize - start penalty: 0.0025                            \n",
      "Matching: model call n. 11 penalty = 2.9826e-14              \n",
      "Optimize - end penalty:  2.98257e-14                            \n",
      "                                             \n",
      "Optimize - start penalty: 0.0025                            \n",
      "Matching: model call n. 11 penalty = 2.8284e-14              \n",
      "Optimize - end penalty:  2.82837e-14                            \n",
      "                                             \n",
      "Optimize - start penalty: 0.0025                            \n",
      "Matching: model call n. 11 penalty = 2.8405e-14              \n",
      "Optimize - end penalty:  2.84053e-14                            \n",
      "                                             \n",
      "Optimize - start penalty: 0.0025                            \n",
      "Matching: model call n. 11 penalty = 2.8207e-14              \n",
      "Optimize - end penalty:  2.82065e-14                            \n",
      "                                             \n",
      "Optimize - start penalty: 0.0025                            \n",
      "Matching: model call n. 11 penalty = 2.8716e-14              \n",
      "Optimize - end penalty:  2.87159e-14                            \n",
      "                                             \n",
      "Optimize - start penalty: 0.0025                            \n",
      "Matching: model call n. 11 penalty = 2.8857e-14              \n",
      "Optimize - end penalty:  2.88567e-14                            \n",
      "                                             \n",
      "Optimize - start penalty: 0.0025                            \n",
      "Matching: model call n. 11 penalty = 2.7497e-14              \n",
      "Optimize - end penalty:  2.74972e-14                            \n",
      "                                             \n",
      "Optimize - start penalty: 0.0025                            \n",
      "Matching: model call n. 11 penalty = 2.6881e-14              \n",
      "Optimize - end penalty:  2.68809e-14                            \n",
      "                                             \n",
      "Optimize - start penalty: 0.0025                            \n",
      "Matching: model call n. 11 penalty = 2.7923e-14              \n",
      "Optimize - end penalty:  2.79232e-14                            \n",
      "                                             \n",
      "Optimize - start penalty: 0.0025                            \n",
      "Matching: model call n. 11 penalty = 2.7500e-14              \n",
      "Optimize - end penalty:  2.74999e-14                            \n",
      "                                             \n",
      "Optimize - start penalty: 0.0025                            \n",
      "Matching: model call n. 11 penalty = 2.7652e-14              \n",
      "Optimize - end penalty:  2.76518e-14                            \n",
      "                                             \n",
      "Optimize - start penalty: 0.0025                            \n",
      "Matching: model call n. 11 penalty = 2.7514e-14              \n",
      "Optimize - end penalty:  2.75136e-14                            \n",
      "                                             \n",
      "Optimize - start penalty: 0.0025                            \n",
      "Matching: model call n. 11 penalty = 2.6858e-14              \n",
      "Optimize - end penalty:  2.68579e-14                            \n",
      "                                             \n",
      "Optimize - start penalty: 0.0025                            \n",
      "Matching: model call n. 11 penalty = 2.9245e-14              \n",
      "Optimize - end penalty:  2.92451e-14                            \n",
      "                                             \n",
      "Optimize - start penalty: 0.0025                            \n",
      "Matching: model call n. 11 penalty = 2.9012e-14              \n",
      "Optimize - end penalty:  2.90121e-14                            \n",
      "                                             \n",
      "Optimize - start penalty: 0.0025                            \n",
      "Matching: model call n. 11 penalty = 2.9328e-14              \n",
      "Optimize - end penalty:  2.93277e-14                            \n"
     ]
    }
   ],
   "source": [
    "xpos_vals = {'bph.11408' : [], 'bph.11608' : [], 'tidp.11434' : []}\n",
    "for i in range(len(bump_vals)):\n",
    "    opt = line.match(\n",
    "        solve=False,\n",
    "        start='mdh.11007',\n",
    "        end='mdhw.11732',\n",
    "        init=tw, \n",
    "        vary=[\n",
    "            xt.VaryList(['bump.11207', 'bump.11407', 'bump.11607'], step=1e-8, tag='bump',)\n",
    "        ],\n",
    "        targets = [\n",
    "            xt.Target('x', bump_vals[i], at='tidp.11434'),\n",
    "            xt.TargetSet(['x', 'px'], value=tw, at='mdhw.11732')\n",
    "        ]\n",
    "        )\n",
    "    opt.run_jacobian(10)\n",
    "    tw_after = line.twiss()\n",
    "    xpos_vals['bph.11408'].append(tw_after.rows['bph.11408..0'].x[0])\n",
    "    xpos_vals['bph.11608'].append(tw_after.rows['bph.11608..0'].x[0])\n",
    "    xpos_vals['tidp.11434'].append(tw_after.rows['tidp.11434'].x[0])\n"
   ]
  },
  {
   "cell_type": "code",
   "execution_count": null,
   "id": "3347cb39",
   "metadata": {},
   "outputs": [
    {
     "data": {
      "text/plain": [
       "[<matplotlib.lines.Line2D at 0x34eb8b390>]"
      ]
     },
     "execution_count": 278,
     "metadata": {},
     "output_type": "execute_result"
    },
    {
     "data": {
      "image/png": "[encoded data removed]",
      "text/plain": [
       "<Figure size 640x480 with 1 Axes>"
      ]
     },
     "metadata": {},
     "output_type": "display_data"
    }
   ],
   "source": [
    "plt.close()\n",
    "plt.figure()\n",
    "coast = 'coast4'\n",
    "\n",
    "tidp_pos_interp = line.get_s_position('tidp.11434') + line['tidp.11434'].length/2\n",
    "bph_11408_pos_interp = line.get_s_position('bph.11408..0') + line['bph.11408..0']._parent.length/2\n",
    "bph_11608_pos_interp = line.get_s_position('bph.11608..0') + line['bph.11608..0']._parent.length/2\n",
    "\n",
    "fitting_factor = 0.87\n",
    "#plt.plot(md_information['coast4']['tidp_bump_md'], '*-', color='red')\n",
    "plt.plot(xpos_vals['bph.11408'], '*-', color='green', label='bph.11408')\n",
    "plt.plot(xpos_vals['tidp.11434'], '*-', color='blue', label='tidp.11434')\n",
    "\n"
   ]
  },
  {
   "cell_type": "code",
   "execution_count": null,
   "id": "ca4ca99f",
   "metadata": {},
   "outputs": [],
   "source": [
    "conversion_factors_list = np.array(xpos_vals['tidp.11434'])/np.array(xpos_vals['bph.11408'])\n",
    "\n",
    "conversion_factors = {}\n",
    "for i in range(len(bump_vals)):\n",
    "    conversion_factors[round(bump_vals[i], 5)] = conversion_factors_list[i]"
   ]
  },
  {
   "cell_type": "markdown",
   "id": "85edcd7f",
   "metadata": {},
   "source": [
    "There is a different slope between tidp and bph.11408, but it looks more in the experimental data"
   ]
  },
  {
   "cell_type": "code",
   "execution_count": null,
   "id": "ea7b1e32",
   "metadata": {},
   "outputs": [
    {
     "data": {
      "text/plain": [
       "(np.float64(20208.388564814813), np.float64(20208.399421296297))"
      ]
     },
     "execution_count": 313,
     "metadata": {},
     "output_type": "execute_result"
    },
    {
     "data": {
      "image/png": "[encoded data removed]",
      "text/plain": [
       "<Figure size 640x480 with 1 Axes>"
      ]
     },
     "metadata": {},
     "output_type": "display_data"
    }
   ],
   "source": [
    "plt.close()\n",
    "plt.figure()\n",
    "coast = 'coast4'\n",
    "\n",
    "tidp_pos_interp = line.get_s_position('tidp.11434') + line['tidp.11434'].length/2\n",
    "bph_11408_pos_interp = line.get_s_position('bph.11408..0') + line['bph.11408..0']._parent.length/2\n",
    "bph_11608_pos_interp = line.get_s_position('bph.11608..0') + line['bph.11608..0']._parent.length/2\n",
    "\n",
    "for key in md_information:\n",
    "    plt.plot(md_information[key]['orbit_ts_files'], \n",
    "             md_information[key]['tidp_bump_theoretical'], '*-', color='blue')\n",
    "    bph_vals = []\n",
    "    for i, bump_val in enumerate(md_information[key]['tidp_bump_theoretical']):\n",
    "        bph_vals.append(md_information[key]['tidp_bump_md'][i] * conversion_factors[bump_val])\n",
    "    plt.plot(md_information[key]['orbit_ts_files'], bph_vals, '*-', color='red')\n",
    "\n",
    "plt.xlim(md_information[coast]['timestamps'][0], md_information[coast]['timestamps'][1])"
   ]
  },
  {
   "cell_type": "code",
   "execution_count": 345,
   "id": "e1edd630",
   "metadata": {},
   "outputs": [
    {
     "data": {
      "text/plain": [
       "[<matplotlib.lines.Line2D at 0x36202bed0>]"
      ]
     },
     "execution_count": 345,
     "metadata": {},
     "output_type": "execute_result"
    },
    {
     "data": {
      "image/png": "[encoded data removed]",
      "text/plain": [
       "<Figure size 640x480 with 1 Axes>"
      ]
     },
     "metadata": {},
     "output_type": "display_data"
    }
   ],
   "source": [
    "plt.close()\n",
    "plt.figure()\n",
    "\n",
    "key='coast4'\n",
    "plt.plot(md_information[key]['orbit_ts_files'], \n",
    "            md_information[key]['tidp_bump_theoretical'], '*-', color='blue')\n",
    "bph_vals = []\n",
    "for i, bump_val in enumerate(md_information[key]['tidp_bump_theoretical']):\n",
    "    bph_vals.append(md_information[key]['tidp_bump_md'][i] * conversion_factors[bump_val])\n",
    "plt.plot(md_information[key]['orbit_ts_files'], bph_vals, '*-', color='red')\n",
    "plt.plot([md_information[key]['orbit_ts_files'][0], md_information[key]['orbit_ts_files'][-1]],[md_information[key]['tidp_bump_md'][0], md_information[key]['tidp_bump_md'][-1]], '--', color='green', label='bph.11408 fit')"
   ]
  },
  {
   "cell_type": "code",
   "execution_count": 348,
   "id": "6901a496",
   "metadata": {},
   "outputs": [],
   "source": [
    "from scipy.optimize import least_squares"
   ]
  },
  {
   "cell_type": "code",
   "execution_count": 358,
   "id": "11a3c820",
   "metadata": {},
   "outputs": [],
   "source": [
    "coeffs_md_bump = np.polyfit(np.linspace(0,len(md_information['coast4']['tidp_bump_md']), len(md_information['coast4']['tidp_bump_md'])), md_information['coast4']['tidp_bump_md'], 1)\n",
    "coeffs_th_bump = np.polyfit(np.linspace(0,len(md_information['coast4']['tidp_bump_theoretical']), len(md_information['coast4']['tidp_bump_theoretical'])), md_information['coast4']['tidp_bump_theoretical'], 1)"
   ]
  },
  {
   "cell_type": "code",
   "execution_count": 351,
   "id": "4f6a7b8c",
   "metadata": {},
   "outputs": [
    {
     "data": {
      "text/plain": [
       "np.float64(-0.0009388437984496121)"
      ]
     },
     "execution_count": 351,
     "metadata": {},
     "output_type": "execute_result"
    }
   ],
   "source": [
    "coeffs[0]"
   ]
  },
  {
   "cell_type": "code",
   "execution_count": 356,
   "id": "20ee0461",
   "metadata": {},
   "outputs": [],
   "source": [
    "def straight_fit(x, coeffs):\n",
    "    \"\"\"\n",
    "    Straight line fit function\n",
    "    \"\"\"\n",
    "    return coeffs[0] * x + coeffs[1]"
   ]
  },
  {
   "cell_type": "code",
   "execution_count": 364,
   "id": "e0196752",
   "metadata": {},
   "outputs": [
    {
     "data": {
      "text/plain": [
       "[<matplotlib.lines.Line2D at 0x365cb34d0>]"
      ]
     },
     "execution_count": 364,
     "metadata": {},
     "output_type": "execute_result"
    },
    {
     "data": {
      "image/png": "[encoded data removed]",
      "text/plain": [
       "<Figure size 640x480 with 1 Axes>"
      ]
     },
     "metadata": {},
     "output_type": "display_data"
    }
   ],
   "source": [
    "points_th_fit = straight_fit(np.linspace(0, len(md_information['coast4']['tidp_bump_theoretical'])-1, len(md_information['coast4']['tidp_bump_theoretical'])), coeffs_th_bump)\n",
    "points_md_fit = straight_fit(np.linspace(0, len(md_information['coast4']['tidp_bump_md'])-1, len(md_information['coast4']['tidp_bump_md'])), coeffs_md_bump)\n",
    "plt.figure()\n",
    "plt.plot(md_information['coast4']['tidp_bump_md'], '*-', color='red')\n",
    "plt.plot(md_information['coast4']['tidp_bump_theoretical'], '*-', color='blue')\n",
    "#plt.plot(points_md_fit, '--', color='green', label='bph.11408 fit')\n",
    "#plt.plot(points_th_fit, '--', color='orange', label='tidp.11434 fit')\n",
    "#plt.plot(points_md_fit*coeffs_th_bump[0]/coeffs_md_bump[0], '--', color='purple', label='bph.11408 fit scaled')\n",
    "plt.plot(md_information['coast4']['tidp_bump_md']*coeffs_th_bump[0]/coeffs_md_bump[0], '--', color='purple', label='bph.11408 fit scaled')"
   ]
  },
  {
   "cell_type": "markdown",
   "id": "ef34cc82",
   "metadata": {},
   "source": [
    "fitting and using conversion factor as comparison of slopes seems a valid way of comparing, data ok if considering variation ?"
   ]
  },
  {
   "cell_type": "markdown",
   "id": "8313d70e",
   "metadata": {},
   "source": []
  }
 ],
 "metadata": {
  "kernelspec": {
   "display_name": "xcoll",
   "language": "python",
   "name": "python3"
  },
  "language_info": {
   "codemirror_mode": {
    "name": "ipython",
    "version": 3
   },
   "file_extension": ".py",
   "mimetype": "text/x-python",
   "name": "python",
   "nbconvert_exporter": "python",
   "pygments_lexer": "ipython3",
   "version": "3.13.3"
  }
 },
 "nbformat": 4,
 "nbformat_minor": 5
}
