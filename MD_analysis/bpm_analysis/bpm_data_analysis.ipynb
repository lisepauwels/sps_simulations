{
 "cells": [
  {
   "cell_type": "code",
   "execution_count": 1,
   "id": "8860acc2",
   "metadata": {},
   "outputs": [],
   "source": [
    "import numpy as np\n",
    "from pathlib import Path\n",
    "import time\n",
    "import matplotlib.pyplot as plt\n",
    "start_time = time.time()\n",
    "\n",
    "import xobjects as xo\n",
    "import xtrack as xt\n",
    "import xpart as xp\n",
    "import xobjects as xo\n",
    "import xcoll as xc\n",
    "\n",
    "# import apertls\n",
    "from matplotlib.colors import LogNorm\n",
    "\n",
    "import gzip\n",
    "from typing import Union\n",
    "\n",
    "import awkward as ak\n",
    "import pandas as pd"
   ]
  },
  {
   "cell_type": "markdown",
   "id": "462cf7fe",
   "metadata": {},
   "source": [
    "# Line "
   ]
  },
  {
   "cell_type": "code",
   "execution_count": 2,
   "id": "5bbb87d9",
   "metadata": {},
   "outputs": [
    {
     "data": {
      "application/vnd.jupyter.widget-view+json": {
       "model_id": "1899e6f5e87345c3a460564d3022f5a1",
       "version_major": 2,
       "version_minor": 0
      },
      "text/plain": [
       "Loading line from dict:   0%|          | 0/36381 [00:00<?, ?it/s]"
      ]
     },
     "metadata": {},
     "output_type": "display_data"
    },
    {
     "name": "stdout",
     "output_type": "stream",
     "text": [
      "Done loading line from dict.           \n"
     ]
    },
    {
     "data": {
      "application/vnd.jupyter.widget-view+json": {
       "model_id": "4cdd4423a3a644cdad1505646f883e95",
       "version_major": 2,
       "version_minor": 0
      },
      "text/plain": [
       "Slicing line:   0%|          | 0/75278 [00:00<?, ?it/s]"
      ]
     },
     "metadata": {},
     "output_type": "display_data"
    }
   ],
   "source": [
    "line = xt.Line.from_json('../injection_lines/sps_with_aperture_inj_q20_beam_sagitta.json')\n",
    "\n",
    "tt = line.get_table()\n",
    "tw = line.twiss()\n",
    "\n",
    "#links for bump\n",
    "env = line.env\n",
    "\n",
    "line['bump.11207'] = 0\n",
    "line['bump.11407'] = 0\n",
    "line['bump.11607'] = 0\n",
    "line['bump.12207'] = 0\n",
    "\n",
    "line.ref['mdh.11207'].knl[0] += line.vars['bump.11207']\n",
    "line.ref['mdh.11407'].knl[0] += line.vars['bump.11407']\n",
    "line.ref['mdh.11607'].knl[0] += line.vars['bump.11607']\n",
    "line.ref['mdh.12207'].knl[0] += line.vars['bump.12207']\n",
    "\n",
    "#tidp drift replacement\n",
    "s_start_tidp = line.get_s_position('tidp.11434..0')\n",
    "line.remove(tt.rows['tidp.*'].name)\n",
    "line.insert(env.place('tidp.11434', at=s_start_tidp), s_tol=1e-6)"
   ]
  },
  {
   "cell_type": "code",
   "execution_count": null,
   "id": "d048cd22",
   "metadata": {},
   "outputs": [],
   "source": [
    "# opt = line.match(\n",
    "#     method='6d',\n",
    "#     vary=[\n",
    "#         xt.VaryList(['bump.11207', 'bump.11407', 'bump.11607'], step=1e-8, tag='bump',)\n",
    "#     ],\n",
    "#     targets = [\n",
    "#         xt.Target('x', -21.5e-3, at='tidp.11434'),\n",
    "#         xt.TargetSet(['x', 'px'], value=tw, at='bph.11608..0')\n",
    "#     ]\n",
    "#     )\n",
    "# tw2 = line.twiss()"
   ]
  },
  {
   "cell_type": "markdown",
   "id": "8011340b",
   "metadata": {},
   "source": [
    "# BPM data classes"
   ]
  },
  {
   "cell_type": "code",
   "execution_count": 32,
   "id": "28d40696",
   "metadata": {},
   "outputs": [],
   "source": [
    "from typing import Optional, Tuple, Union, Set, List\n",
    "import re\n",
    "\n",
    "class BPMBehavior(ak.Record):\n",
    "    pass\n",
    "\n",
    "class BPMCollectionBehavior(ak.Array):\n",
    "\n",
    "    @property \n",
    "    def index(self):\n",
    "        if not hasattr(self, '_index'):\n",
    "            self._build_index()\n",
    "        return self._index\n",
    "    \n",
    "    @property\n",
    "    def bpms_hor(self):\n",
    "        #return self[\"orbit\", \"name\"]\n",
    "        return ak.Array([bpm for i, bpm in enumerate(self['name']) if self['plane'][i] == 'H'])\n",
    "    \n",
    "    @property\n",
    "    def bpms_ver(self):\n",
    "        return ak.Array([bpm for i, bpm in enumerate(self['name']) if self['plane'][i] == 'V'])\n",
    "    \n",
    "    def orbit_plane(self, plane: str = \"H\"):\n",
    "        if plane == 'H':\n",
    "            return ak.Array([self['position'][self.index[bpm]] for bpm in self.bpms_hor])\n",
    "        elif plane == 'V':\n",
    "            return ak.Array([self['position'][self.index[bpm]] for bpm in self.bpms_ver])\n",
    "        else:\n",
    "            ValueError('No valid plane was given !')\n",
    "    \n",
    "    def rms_plane(self, plane: str = \"H\"):\n",
    "        if plane == 'H':\n",
    "            return ak.Array([self['rms'][self.index[bpm]] for bpm in self.bpms_hor])\n",
    "        elif plane == 'V':\n",
    "            return ak.Array([self['rms'][self.index[bpm]] for bpm in self.bpms_ver])\n",
    "        else:\n",
    "            ValueError('No valid plane was given !')\n",
    "\n",
    "    def orbit_position(self, name: str):\n",
    "        # Return position for a given BPM name\n",
    "        return self['position'][self.index[name]]\n",
    "    \n",
    "    def restr_orbit_plane(self, bpm_list_restr):\n",
    "        return ak.Array([self['position'][self.index[bpm]] for bpm in bpm_list_restr])\n",
    "\n",
    "    def restr_rms_plane(self, bpm_list_restr):\n",
    "        return ak.Array([self['rms'][self.index[bpm]] for bpm in bpm_list_restr])\n",
    "    \n",
    "    def _build_index(self):\n",
    "        self._index = {}\n",
    "        for i, bpm in enumerate(self['name']):\n",
    "            self._index[bpm] = i\n",
    "\n",
    "class CorrectorsCollectionBehavior(ak.Array):\n",
    "    @property \n",
    "    def index(self):\n",
    "        if not hasattr(self, '_index'):\n",
    "            self._build_index()\n",
    "        return self._index\n",
    "    \n",
    "    @property\n",
    "    def corr_hor(self):\n",
    "        #return self[\"orbit\", \"name\"]\n",
    "        return ak.Array([corr for i, corr in enumerate(self['name']) if self['plane'][i] == 'H'])\n",
    "    \n",
    "    @property\n",
    "    def corr_ver(self):\n",
    "        return ak.Array([corr for i, corr in enumerate(self['name']) if self['plane'][i] == 'V'])\n",
    "    \n",
    "    def kick_plane(self, plane: str = \"H\"):\n",
    "        if plane == 'H':\n",
    "            return ak.Array([self['kick'][self.index[corr]] for corr in self.corr_hor])\n",
    "        elif plane == 'V':\n",
    "            return ak.Array([self['kick'][self.index[corr]] for corr in self.corr_ver])\n",
    "        else:\n",
    "            ValueError('No valid plane was given !')\n",
    "\n",
    "    def kick_position(self, name: str):\n",
    "        # Return position for a given BPM name\n",
    "        return self['kick'][self.index[name]]\n",
    "\n",
    "    def _build_index(self):\n",
    "        self._index = {}\n",
    "        for i, corr in enumerate(self['name']):\n",
    "            self._index[corr] = i\n",
    "\n",
    "\n",
    "ak.behavior[\"*\", \"BPMCollection\"] = BPMCollectionBehavior\n",
    "ak.behavior[\"*\", \"CorrectorsCollection\"] = CorrectorsCollectionBehavior"
   ]
  },
  {
   "cell_type": "code",
   "execution_count": 33,
   "id": "b753a9fd",
   "metadata": {},
   "outputs": [],
   "source": [
    "def load_bpm_file_data(path: Union[str, Path]) -> ak.Array:\n",
    "    \"\"\"\n",
    "    Load a .data or .data.gz file into an Awkward Array with BPMCollection behavior.\n",
    "    \"\"\"\n",
    "\n",
    "    #file opening with different compression\n",
    "    path = Path(path)\n",
    "    opener = gzip.open if path.suffix == \".gz\" else open\n",
    "    with opener(path, \"rt\") as f:\n",
    "        lines = f.readlines()\n",
    "\n",
    "    #Sections of file\n",
    "    header_lines = []\n",
    "    orbit_lines = []\n",
    "    corrector_lines = []\n",
    "\n",
    "    mode = \"header\"\n",
    "    for line in lines:\n",
    "        if line.startswith(\"# MONITOR\"):\n",
    "            mode = \"orbit\"\n",
    "            continue\n",
    "        elif line.startswith(\"# CORRECTOR\"):\n",
    "            mode = \"corrector\"\n",
    "            continue\n",
    "\n",
    "        if mode == \"header\":\n",
    "            header_lines.append(line)\n",
    "        elif mode == \"orbit\":\n",
    "            if not line.startswith('*'):\n",
    "                orbit_lines.append(line)\n",
    "        elif mode == \"corrector\":\n",
    "            if not line.startswith('*'):\n",
    "                corrector_lines.append(line)\n",
    "\n",
    "    #Metadata\n",
    "    meta = {}  # <-- parse @ DATE, @ DPP, etc.\n",
    "    for line in header_lines:\n",
    "        if not line.startswith('@'):\n",
    "            continue\n",
    "        parts = line.strip().split(maxsplit=3)\n",
    "        if len(parts) < 4:\n",
    "            continue\n",
    "        _, key, dtype, value = parts\n",
    "        if dtype == \"%d\":\n",
    "            value = int(value)\n",
    "        elif dtype == \"%f\":\n",
    "            value = float(value)\n",
    "        elif dtype == \"%s\":\n",
    "            value = value.strip('\"')\n",
    "        meta[key] = ak.Array([value])\n",
    "    \n",
    "    \n",
    "    #Orbit\n",
    "    orbit = {\n",
    "        \"name\": [], \"plane\": [], \"beam\": [], \"position\": [],\n",
    "        \"rms\": [], \"sum\": [], 'hw-status': [], 'status' : [], \"status_tag\": [],\n",
    "    }\n",
    "    # Fill orbit[...] from orbit_lines\n",
    "    for line in orbit_lines:\n",
    "        parts = line.strip().split(maxsplit=9)\n",
    "        assert len(parts)==9\n",
    "        for i, key in enumerate(list(orbit.keys())):\n",
    "            value = parts[i]\n",
    "            # Simple type inference\n",
    "            try:\n",
    "                if \".\" in value:\n",
    "                    orbit[key].append(float(value))\n",
    "                else:\n",
    "                    orbit[key].append(int(value))\n",
    "            except ValueError:\n",
    "                if key == 'name':\n",
    "                    orbit[key].append(value.lower())\n",
    "                else:\n",
    "                    orbit[key].append(value)\n",
    "    \n",
    "    for key in orbit:\n",
    "        orbit[key]=ak.Array(orbit[key])\n",
    "    \n",
    "    #Correctors\n",
    "    correctors = {\n",
    "        \"name\": [], \"plane\": [], \"beam\": [], 'strength_name' : [], \"kick\": [], \"rt_kick\": [],\n",
    "    }\n",
    "    # Fill correctors[...] from corrector_lines\n",
    "    for line in corrector_lines:\n",
    "        parts = line.strip().split(maxsplit=6)\n",
    "        assert len(parts)==6\n",
    "        for i, key in enumerate(list(correctors.keys())):\n",
    "            value = parts[i]\n",
    "            # Simple type inference\n",
    "            try:\n",
    "                if \".\" in value:\n",
    "                    correctors[key].append(float(value))\n",
    "                else:\n",
    "                    correctors[key].append(int(value))\n",
    "            except ValueError:\n",
    "                if key=='name':\n",
    "                    correctors[key].append(value.lower())\n",
    "                else:\n",
    "                    correctors[key].append(value)\n",
    "    \n",
    "    for key in correctors:\n",
    "        correctors[key]=ak.Array(correctors[key])\n",
    "\n",
    "    #Total dictionary data, idk how to make awkward array out of it\n",
    "    data = {\n",
    "        \"orbit\": ak.Array(orbit, with_name='BPMCollection'),\n",
    "        \"correctors\": ak.Array(correctors, with_name='CorrectorsCollection'),\n",
    "        \"meta\": ak.Array(meta),\n",
    "    }\n",
    "\n",
    "    return data\n"
   ]
  },
  {
   "cell_type": "code",
   "execution_count": 66,
   "id": "b608ccf1",
   "metadata": {},
   "outputs": [],
   "source": [
    "def load_all_bpm_files(directory_coll):\n",
    "    bpm_files_by_timestamp = {}\n",
    "\n",
    "    pattern = re.compile(r\"ORBIT_SPSRING_(\\d{4}-\\d{2}-\\d{2}_\\d{2}-\\d{2}-\\d{2})_.*\\.data\\.gz\")\n",
    "\n",
    "    for file in Path(directory_coll).glob(\"ORBIT_SPSRING_*.data.gz\"):\n",
    "        match = pattern.match(file.name)\n",
    "        if match:\n",
    "            timestamp_raw = match.group(1)\n",
    "            try:\n",
    "                date_part, time_part = timestamp_raw.split('_')\n",
    "                timestamp_str = f\"{date_part} {time_part.replace('-', ':')}\"\n",
    "                timestamp = pd.Timestamp(timestamp_str, tz='Europe/Paris')\n",
    "                bpm_files_by_timestamp[timestamp] = load_bpm_file_data(file)\n",
    "\n",
    "            except (AssertionError, EOFError, OSError, ValueError) as e:\n",
    "                print(f\"Skipping file due to error ({type(e).__name__}): {file}\")\n",
    "                continue\n",
    "\n",
    "    return bpm_files_by_timestamp"
   ]
  },
  {
   "cell_type": "code",
   "execution_count": 67,
   "id": "59178bfe",
   "metadata": {},
   "outputs": [],
   "source": [
    "# import pytz  # Optional, but good for clarity\n",
    "\n",
    "# timestamps = list(bpm_files_by_timestamp.keys())\n",
    "# dt_index = pd.to_datetime(timestamps, format='%Y-%m-%d %H-%M-%S')\n",
    "# dt_index = dt_index.tz_localize('Europe/Paris')"
   ]
  },
  {
   "cell_type": "code",
   "execution_count": 68,
   "id": "360dcd60",
   "metadata": {},
   "outputs": [],
   "source": [
    "directory_coll = Path('/eos/project-c/collimation-team/acquisition_data/SPS/20250430')"
   ]
  },
  {
   "cell_type": "code",
   "execution_count": 60,
   "id": "09a14b81",
   "metadata": {},
   "outputs": [],
   "source": [
    "import json"
   ]
  },
  {
   "cell_type": "code",
   "execution_count": 61,
   "id": "074b3ed6",
   "metadata": {},
   "outputs": [],
   "source": [
    "def get_tidp_bump(t):\n",
    "    if not hasattr(t, '__iter__') or isinstance(t, str):\n",
    "        t = [t]\n",
    "    \n",
    "    t = [\n",
    "        pd.Timestamp(tt, tz='Europe/Paris') if not isinstance(tt, pd.Timestamp)\n",
    "        else tt.tz_localize('Europe/Paris') if tt.tzinfo is None\n",
    "        else tt.tz_convert('Europe/Paris')\n",
    "        for tt in t\n",
    "    ]\n",
    "\n",
    "    if len(np.unique([tt.strftime('%Y%m%d') for tt in t])) > 1:\n",
    "        raise NotImplementedError\n",
    "\n",
    "    path = Path('/eos/project-c/collimation-team/acquisition_data/SPS/20250430/tidp.json')\n",
    "    if not path.exists():\n",
    "        return []\n",
    "    else:\n",
    "        with path.open('r') as fid:\n",
    "            data = {pd.Timestamp(tt, tz='Europe/Paris'): vv for tt, vv in json.load(fid).items()}\n",
    "        \n",
    "        res = []\n",
    "        for tt in t:\n",
    "            ts = np.array(list(data.keys()))\n",
    "            ts = sorted(ts[ts <= tt])\n",
    "            if len(ts) == 0:\n",
    "                res.append(0.)  # Time is before first logged bump\n",
    "            else:\n",
    "                res.append(data[ts[-1]])  # Most recent available bump\n",
    "        return res"
   ]
  },
  {
   "cell_type": "code",
   "execution_count": 62,
   "id": "bd96b2b9",
   "metadata": {},
   "outputs": [],
   "source": [
    "def get_bpms_hor_in_line(line):\n",
    "    data_test = load_bpm_file_data(Path(directory_coll, 'ORBIT_SPSRING_2025-04-30_12-53-55_MD5_CY2_TR0.data.gz'))\n",
    "    tt=line.get_table()\n",
    "    bpms_hor_in_line = []\n",
    "    s_arr = []\n",
    "    for bpm in data_test['orbit'].bpms_hor:\n",
    "        if len(tt.rows[f'.*{bpm}.*'].name)>0:\n",
    "            bpms_hor_in_line.append(bpm)\n",
    "            if bpm in tt.rows[f'.*{bpm}.*'].name:\n",
    "                s_arr.append(line.get_s_position(bpm))\n",
    "            else:\n",
    "                s_arr.append(line.get_s_position(f'{bpm}..0') + line[f'{bpm}..0']._parent.length/2)\n",
    "    return bpms_hor_in_line, s_arr"
   ]
  },
  {
   "cell_type": "markdown",
   "id": "3b20b54c",
   "metadata": {},
   "source": [
    "# Bumps loading"
   ]
  },
  {
   "cell_type": "code",
   "execution_count": 63,
   "id": "f8e8a79c",
   "metadata": {},
   "outputs": [],
   "source": [
    "timestamps_md_energy = {26 : {'begin' : [pd.Timestamp('2025-04-30 10:37:41', tz='Europe/Paris'), pd.Timestamp('2025-04-30 12:45:33', tz='Europe/Paris'), \n",
    "                                         pd.Timestamp('2025-04-30 14:59:56', tz='Europe/Paris'), pd.Timestamp('2025-04-30 15:07:58', tz='Europe/Paris'),\n",
    "                                         pd.Timestamp('2025-04-30 17:14:17', tz='Europe/Paris')],\n",
    "                              'end' : [pd.Timestamp('2025-04-30 12:12:26', tz='Europe/Paris'), pd.Timestamp('2025-04-30 13:29:15', tz='Europe/Paris'), \n",
    "                                       pd.Timestamp('2025-04-30 15:06:58', tz='Europe/Paris'), pd.Timestamp('2025-04-30 15:15:00', tz='Europe/Paris'),\n",
    "                                       pd.Timestamp('2025-04-30 17:54:30', tz='Europe/Paris')]},\n",
    "                        30 : {'begin' : [pd.Timestamp('2025-04-30 12:15:39', tz='Europe/Paris'), pd.Timestamp('2025-04-30 16:30:39', tz='Europe/Paris')],\n",
    "                              'end' : [pd.Timestamp('2025-04-30 12:43:15', tz='Europe/Paris'), pd.Timestamp('2025-04-30 17:00:06', tz='Europe/Paris')]}}"
   ]
  },
  {
   "cell_type": "code",
   "execution_count": 64,
   "id": "23ddfb83",
   "metadata": {},
   "outputs": [],
   "source": [
    "bpms_hor_in_line, s_bpms_hor_in_line = get_bpms_hor_in_line(line)"
   ]
  },
  {
   "cell_type": "code",
   "execution_count": 69,
   "id": "35170a0d",
   "metadata": {},
   "outputs": [
    {
     "name": "stdout",
     "output_type": "stream",
     "text": [
      "Skipping file due to error (AssertionError): /eos/project-c/collimation-team/acquisition_data/SPS/20250430/ORBIT_SPSRING_2025-04-30_11-25-30_MD5_CY67_TR0.data.gz\n",
      "Skipping file due to error (AssertionError): /eos/project-c/collimation-team/acquisition_data/SPS/20250430/ORBIT_SPSRING_2025-04-30_11-26-25_MD5_CY69_TR0.data.gz\n",
      "Skipping file due to error (AssertionError): /eos/project-c/collimation-team/acquisition_data/SPS/20250430/ORBIT_SPSRING_2025-04-30_12-19-47_MD5_CY185_TR0.data.gz\n",
      "Skipping file due to error (AssertionError): /eos/project-c/collimation-team/acquisition_data/SPS/20250430/ORBIT_SPSRING_2025-04-30_12-20-14_MD5_CY186_TR0.data.gz\n"
     ]
    }
   ],
   "source": [
    "bpm_dict = load_all_bpm_files(directory_coll)\n",
    "hor_pos = {time : bpm_dict[time]['orbit'].restr_orbit_plane(bpms_hor_in_line) for time in bpm_dict}\n",
    "hor_rms = {time : bpm_dict[time]['orbit'].restr_rms_plane(bpms_hor_in_line) for time in bpm_dict}"
   ]
  },
  {
   "cell_type": "markdown",
   "id": "35d3102b",
   "metadata": {},
   "source": [
    "## 26 GeV"
   ]
  },
  {
   "cell_type": "code",
   "execution_count": 78,
   "id": "ef302a4c",
   "metadata": {},
   "outputs": [],
   "source": [
    "orbit_timestamps = list(bpm_dict.keys())"
   ]
  },
  {
   "cell_type": "code",
   "execution_count": 79,
   "id": "84abd928",
   "metadata": {},
   "outputs": [
    {
     "data": {
      "text/plain": [
       "Timestamp('2025-04-30 10:26:04+0200', tz='Europe/Paris')"
      ]
     },
     "execution_count": 79,
     "metadata": {},
     "output_type": "execute_result"
    }
   ],
   "source": [
    "orbit_timestamps[0]"
   ]
  },
  {
   "cell_type": "code",
   "execution_count": null,
   "id": "1ba16a3c",
   "metadata": {},
   "outputs": [],
   "source": [
    "for ts in orbit_timestamps:\n",
    "    for energy in [26, 30]:\n",
    "        begins_ts = "
   ]
  }
 ],
 "metadata": {
  "kernelspec": {
   "display_name": "xsuite",
   "language": "python",
   "name": "python3"
  },
  "language_info": {
   "codemirror_mode": {
    "name": "ipython",
    "version": 3
   },
   "file_extension": ".py",
   "mimetype": "text/x-python",
   "name": "python",
   "nbconvert_exporter": "python",
   "pygments_lexer": "ipython3",
   "version": "3.13.2"
  }
 },
 "nbformat": 4,
 "nbformat_minor": 5
}
