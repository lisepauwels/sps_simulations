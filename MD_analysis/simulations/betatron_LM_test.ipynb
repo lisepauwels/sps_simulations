{
 "cells": [
  {
   "cell_type": "code",
   "execution_count": 1,
   "id": "2ef9d2c3",
   "metadata": {},
   "outputs": [],
   "source": [
    "import numpy as np\n",
    "from pathlib import Path\n",
    "import time\n",
    "import matplotlib.pyplot as plt\n",
    "start_time = time.time()\n",
    "\n",
    "import xobjects as xo\n",
    "import xtrack as xt\n",
    "import xpart as xp\n",
    "import xobjects as xo\n",
    "import xcoll as xc"
   ]
  },
  {
   "cell_type": "code",
   "execution_count": 2,
   "id": "b217cf3c",
   "metadata": {},
   "outputs": [
    {
     "data": {
      "application/vnd.jupyter.widget-view+json": {
       "model_id": "e40f03d698d54bd0800b1ba940b7d49b",
       "version_major": 2,
       "version_minor": 0
      },
      "text/plain": [
       "Loading line from dict:   0%|          | 0/36395 [00:00<?, ?it/s]"
      ]
     },
     "metadata": {},
     "output_type": "display_data"
    },
    {
     "name": "stdout",
     "output_type": "stream",
     "text": [
      "Done loading line from dict.           \n"
     ]
    }
   ],
   "source": [
    "line = xt.Line.from_json('../../injection_lines/sps_with_aperture_inj_q20_beam_sagitta2.json')\n",
    "\n",
    "env = line.env\n",
    "\n",
    "line['bump.11207'] = 0\n",
    "line['bump.11407'] = 0\n",
    "line['bump.11607'] = 0\n",
    "line['bump.12207'] = 0\n",
    "\n",
    "line.ref['mdh.11207'].knl[0] += line.vars['bump.11207']\n",
    "line.ref['mdh.11407'].knl[0] += line.vars['bump.11407']\n",
    "line.ref['mdh.11607'].knl[0] += line.vars['bump.11607']\n",
    "line.ref['mdh.12207'].knl[0] += line.vars['bump.12207']\n",
    "\n",
    "#fix of tidp drift for later insertion of collimator\n",
    "tt = line.get_table()\n",
    "tw = line.twiss()"
   ]
  },
  {
   "cell_type": "code",
   "execution_count": 3,
   "id": "27f214da",
   "metadata": {},
   "outputs": [
    {
     "data": {
      "application/vnd.jupyter.widget-view+json": {
       "model_id": "648668e203264a45b36e59173fd5a12d",
       "version_major": 2,
       "version_minor": 0
      },
      "text/plain": [
       "Slicing line:   0%|          | 0/75252 [00:00<?, ?it/s]"
      ]
     },
     "metadata": {},
     "output_type": "display_data"
    }
   ],
   "source": [
    "# Install collimators\n",
    "tidp_ap_tot = 147\n",
    "block_mvt = 33\n",
    "tcsm = xc.EverestCollimator(length=1.83, material = xc.materials.Carbon, gap=5.7)\n",
    "tidp = xc.EverestCollimator(length=4.3, material = xc.materials.Carbon, jaw_R = -tidp_ap_tot/2 + block_mvt, side = 'right')\n",
    "line.discard_tracker()\n",
    "line.collimators.install(names=['tcsm.51932', 'tidp.11434'], elements=[tcsm, tidp])#, at_s=[begin_tidvg, begin_tidvg+2.5, begin_tidvg+3.5, begin_tidvg+4])"
   ]
  },
  {
   "cell_type": "code",
   "execution_count": 4,
   "id": "d2f194af",
   "metadata": {},
   "outputs": [
    {
     "name": "stdout",
     "output_type": "stream",
     "text": [
      "                                             \n",
      "Optimize - start penalty: 0.04974                           \n",
      "Matching: model call n. 11 penalty = 1.0331e-10              \n",
      "Optimize - end penalty:  1.03308e-10                            \n"
     ]
    }
   ],
   "source": [
    "bump = -5e-3\n",
    "opt = line.match(\n",
    "    solve=False,\n",
    "    start='mdh.11007',\n",
    "    end='mdhw.11732',\n",
    "    init=tw, \n",
    "    vary=[\n",
    "        xt.VaryList(['bump.11207', 'bump.11407', 'bump.11607'], step=1e-8, tag='bump',)\n",
    "    ],\n",
    "    targets = [\n",
    "        xt.Target('x', bump, at='tidp.11434'),\n",
    "        xt.TargetSet(['x', 'px'], value=tw, at='mdhw.11732')\n",
    "    ]\n",
    "    )\n",
    "opt.run_jacobian(10)"
   ]
  },
  {
   "cell_type": "code",
   "execution_count": 5,
   "id": "5ef14b46",
   "metadata": {},
   "outputs": [],
   "source": [
    "num_turns = 3000\n",
    "num_particles = 1000\n",
    "\n",
    "nemitt_x = 3.5e-6\n",
    "nemitt_y = 3.5e-6\n",
    "\n",
    "plane = 'H'\n",
    "amplitude_adt = 0.15\n",
    "name_sim = '-5mm_bump'"
   ]
  },
  {
   "cell_type": "code",
   "execution_count": 6,
   "id": "c5631945",
   "metadata": {},
   "outputs": [
    {
     "name": "stdout",
     "output_type": "stream",
     "text": [
      "*** Maximum RMS bunch length 0.23336637795139523m.\n",
      "... distance to target bunch length: -2.2228e-01\n",
      "... distance to target bunch length: 4.5424e-03\n",
      "... distance to target bunch length: 4.3382e-03\n",
      "... distance to target bunch length: -6.6565e-03\n",
      "... distance to target bunch length: 2.0203e-03\n",
      "... distance to target bunch length: -5.7185e-04\n",
      "... distance to target bunch length: 1.0779e-04\n",
      "... distance to target bunch length: 4.7891e-06\n",
      "... distance to target bunch length: -2.0504e-09\n",
      "... distance to target bunch length: 9.6490e-08\n",
      "--> Bunch length: 0.22399999794961284\n",
      "--> Emittance: 0.343668276719016\n"
     ]
    }
   ],
   "source": [
    "adt = xc.BlowUp.install(line, name=f'adt_{plane}_blowup', at_s=line.get_s_position('adkcv.32171'), plane=plane, stop_at_turn=num_turns,\n",
    "                        amplitude=amplitude_adt, use_individual_kicks=True)\n",
    "\n",
    "line.build_tracker()\n",
    "tw= line.twiss()\n",
    "line.collimators.assign_optics(twiss=tw, nemitt_x=nemitt_x, nemitt_y=nemitt_y)\n",
    "adt.calibrate_by_emittance(nemitt=nemitt_x, twiss=tw)\n",
    "\n",
    "part = xp.generate_matched_gaussian_bunch(num_particles=num_particles, total_intensity_particles=2.2e11, nemitt_x=nemitt_x, nemitt_y=nemitt_y, sigma_z=0.224, line=line)"
   ]
  },
  {
   "cell_type": "code",
   "execution_count": 7,
   "id": "96189389",
   "metadata": {},
   "outputs": [
    {
     "name": "stdout",
     "output_type": "stream",
     "text": [
      "Compiling ContextCpu kernels...\n"
     ]
    },
    {
     "name": "stderr",
     "output_type": "stream",
     "text": [
      "ld: warning: duplicate -rpath '/Users/lisepauwels/miniforge3/envs/xcoll/lib' ignored\n",
      "ld: warning: duplicate -rpath '/Users/lisepauwels/miniforge3/envs/xcoll/lib' ignored\n"
     ]
    },
    {
     "name": "stdout",
     "output_type": "stream",
     "text": [
      "Done compiling ContextCpu kernels.\n"
     ]
    },
    {
     "data": {
      "application/vnd.jupyter.widget-view+json": {
       "model_id": "68efc31f967943a4ae474528e0ad5862",
       "version_major": 2,
       "version_minor": 0
      },
      "text/plain": [
       "Tracking:   0%|          | 0/3000 [00:00<?, ?it/s]"
      ]
     },
     "metadata": {},
     "output_type": "display_data"
    }
   ],
   "source": [
    "line.discard_tracker()\n",
    "line.build_tracker(_context=xo.ContextCpu(omp_num_threads='auto'))\n",
    "\n",
    "line.scattering.enable()\n",
    "adt.activate()\n",
    "line.track(part, num_turns=num_turns, time=True, with_progress=1)\n",
    "adt.deactivate()\n",
    "line.scattering.disable()"
   ]
  },
  {
   "cell_type": "code",
   "execution_count": 8,
   "id": "234d626b",
   "metadata": {},
   "outputs": [
    {
     "data": {
      "text/plain": [
       "(array([-331,    0,    1]), array([620, 288,  92]))"
      ]
     },
     "execution_count": 8,
     "metadata": {},
     "output_type": "execute_result"
    }
   ],
   "source": [
    "np.unique(part.state, return_counts=True)"
   ]
  },
  {
   "cell_type": "code",
   "execution_count": 9,
   "id": "4e95d7e9",
   "metadata": {},
   "outputs": [],
   "source": [
    "line.discard_tracker()\n",
    "line.build_tracker(_context=xo.ContextCpu())\n",
    "\n",
    "ThisLM = xc.LossMap(line, line_is_reversed=False, part=part, interpolation=None)\n",
    "ThisLM.to_json(file=f'LM_jsons/LM_{name_sim}.json')"
   ]
  },
  {
   "cell_type": "code",
   "execution_count": 10,
   "id": "ca147639",
   "metadata": {},
   "outputs": [
    {
     "name": "stdout",
     "output_type": "stream",
     "text": [
      "Warning: Packages pyspark or cern.nxcals are not installed. Data retrieval from NXCALS is not possible.\n",
      " If you are on SWAN and did not expect this warning, then restart and load the 'NXCals Pro' software stack.\n"
     ]
    }
   ],
   "source": [
    "import lossmaps as lm"
   ]
  },
  {
   "cell_type": "code",
   "execution_count": 12,
   "id": "2f347b8b",
   "metadata": {},
   "outputs": [
    {
     "name": "stdout",
     "output_type": "stream",
     "text": [
      "Warning: Did not find warm regions for machine SPS. All aperture losses will default to warm losses.\n"
     ]
    },
    {
     "data": {
      "image/png": "[encoded data removed]",
      "text/plain": [
       "<Figure size 2000x600 with 1 Axes>"
      ]
     },
     "metadata": {},
     "output_type": "display_data"
    }
   ],
   "source": [
    "ThisLM = lm.SimulatedLossMap(lmtype=lm.LMType.B1H, machine=lm.Machine.SPS)\n",
    "ThisLM.load_data_json(json_files=[f'LM_jsons/LM_{name_sim}.json'])\n",
    "fig = lm.plot_lossmap(ThisLM, xlim=(0,7000), show_zoom=False, outfile=f'{name_sim}.png')\n",
    "plt.show()"
   ]
  },
  {
   "cell_type": "code",
   "execution_count": null,
   "id": "03ffc6b2",
   "metadata": {},
   "outputs": [],
   "source": []
  }
 ],
 "metadata": {
  "kernelspec": {
   "display_name": "xsuite",
   "language": "python",
   "name": "python3"
  },
  "language_info": {
   "codemirror_mode": {
    "name": "ipython",
    "version": 3
   },
   "file_extension": ".py",
   "mimetype": "text/x-python",
   "name": "python",
   "nbconvert_exporter": "python",
   "pygments_lexer": "ipython3",
   "version": "3.13.2"
  }
 },
 "nbformat": 4,
 "nbformat_minor": 5
}
