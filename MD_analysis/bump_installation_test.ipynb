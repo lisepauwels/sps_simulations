{
 "cells": [
  {
   "cell_type": "code",
   "execution_count": 42,
   "id": "bcab65b1",
   "metadata": {},
   "outputs": [],
   "source": [
    "import numpy as np\n",
    "from pathlib import Path\n",
    "import time\n",
    "import matplotlib.pyplot as plt\n",
    "start_time = time.time()\n",
    "\n",
    "import xobjects as xo\n",
    "import xtrack as xt\n",
    "import xpart as xp\n",
    "import xobjects as xo\n",
    "import xcoll as xc\n",
    "\n",
    "import apertls\n",
    "from matplotlib.colors import LogNorm"
   ]
  },
  {
   "cell_type": "code",
   "execution_count": 43,
   "id": "beeb2e79",
   "metadata": {},
   "outputs": [
    {
     "data": {
      "application/vnd.jupyter.widget-view+json": {
       "model_id": "e6e89e945d764383b6f2b084dcc718dd",
       "version_major": 2,
       "version_minor": 0
      },
      "text/plain": [
       "Loading line from dict:   0%|          | 0/36381 [00:00<?, ?it/s]"
      ]
     },
     "metadata": {},
     "output_type": "display_data"
    },
    {
     "name": "stdout",
     "output_type": "stream",
     "text": [
      "Done loading line from dict.           \n"
     ]
    }
   ],
   "source": [
    "line = xt.Line.from_json('../injection_lines/sps_with_aperture_inj_q20_beam_sagitta.json')"
   ]
  },
  {
   "cell_type": "code",
   "execution_count": 44,
   "id": "521687c7",
   "metadata": {},
   "outputs": [],
   "source": [
    "env = line.env\n",
    "\n",
    "# env['adh.11207']=0\n",
    "# env['adh.11407']=0\n",
    "# env['adh.11607']=0\n",
    "\n",
    "# env['mdh.11207'].k0='adh.11207'\n",
    "# env['mdh.11407'].k0='adh.11407'\n",
    "# env['mdh.11607'].k0='adh.11607'\n",
    "\n",
    "line['adh.11207']=0\n",
    "line['adh.11407']=0\n",
    "line['adh.11607']=0\n",
    "\n",
    "line['mdh.11207'].k0='adh.11207'\n",
    "line['mdh.11407'].k0='adh.11407'\n",
    "line['mdh.11607'].k0='adh.11607'"
   ]
  },
  {
   "cell_type": "code",
   "execution_count": 45,
   "id": "73a9333b",
   "metadata": {},
   "outputs": [
    {
     "data": {
      "application/vnd.jupyter.widget-view+json": {
       "model_id": "f394dc68fffa46d6a034a821fac48997",
       "version_major": 2,
       "version_minor": 0
      },
      "text/plain": [
       "Slicing line:   0%|          | 0/75278 [00:00<?, ?it/s]"
      ]
     },
     "metadata": {},
     "output_type": "display_data"
    }
   ],
   "source": [
    "#fix of tidp drift for later insertion of collimator\n",
    "tt = line.get_table()\n",
    "tw=line.twiss()\n",
    "s_start_tidp = line.get_s_position('tidp.11434..0')\n",
    "line.remove(tt.rows['tidp.*'].name)\n",
    "line.insert(env.place('tidp.11434', at=s_start_tidp), s_tol=1e-6)"
   ]
  },
  {
   "cell_type": "code",
   "execution_count": 46,
   "id": "7b444df2",
   "metadata": {},
   "outputs": [],
   "source": [
    "tw0 = line.twiss()"
   ]
  },
  {
   "cell_type": "code",
   "execution_count": 47,
   "id": "41a7362c",
   "metadata": {},
   "outputs": [
    {
     "data": {
      "text/plain": [
       "<matplotlib.collections.LineCollection at 0x3844a8b90>"
      ]
     },
     "execution_count": 47,
     "metadata": {},
     "output_type": "execute_result"
    },
    {
     "data": {
      "image/png": "[encoded data removed]",
      "text/plain": [
       "<Figure size 640x480 with 1 Axes>"
      ]
     },
     "metadata": {},
     "output_type": "display_data"
    }
   ],
   "source": [
    "plt.figure()\n",
    "plt.plot(tw0.s, tw0.x)#bump for the dogleg\n",
    "plt.vlines(s_start_tidp, -0.00125, 0.00075, color='r', linestyle='--')"
   ]
  },
  {
   "cell_type": "code",
   "execution_count": null,
   "id": "39d10a58",
   "metadata": {},
   "outputs": [
    {
     "name": "stdout",
     "output_type": "stream",
     "text": [
      "                                             \n",
      "Optimize - start penalty: 0.2998                            \n",
      "Matching: model call n. 29 penalty = 2.9979e-01              \r"
     ]
    }
   ],
   "source": [
    "opt = line.match(\n",
    "    #solve=False, # <--\n",
    "    method='4d',\n",
    "    vary=[\n",
    "        xt.VaryList(['adh.11207', 'adh.11407', 'adh.11607'], step=1e-8, tag='correctors',)\n",
    "    ],\n",
    "    targets = [\n",
    "        xt.TargetSet(x=-30e-3, at='tidp.11434')\n",
    "        # \n",
    "    ],  \n",
    "    #restore_if_fail=False\n",
    "    )"
   ]
  },
  {
   "cell_type": "code",
   "execution_count": 41,
   "id": "40343033",
   "metadata": {},
   "outputs": [
    {
     "ename": "KeyError",
     "evalue": "\"Cannot find 'tidp.11434' in column 'name'\"",
     "output_type": "error",
     "traceback": [
      "\u001b[31m---------------------------------------------------------------------------\u001b[39m",
      "\u001b[31mKeyError\u001b[39m                                  Traceback (most recent call last)",
      "\u001b[36mCell\u001b[39m\u001b[36m \u001b[39m\u001b[32mIn[41]\u001b[39m\u001b[32m, line 7\u001b[39m\n\u001b[32m      4\u001b[39m idx_tidp = line.element_names.index(\u001b[33m'\u001b[39m\u001b[33mtidp.11434\u001b[39m\u001b[33m'\u001b[39m)\n\u001b[32m      6\u001b[39m tw_before = line.twiss()\n\u001b[32m----> \u001b[39m\u001b[32m7\u001b[39m opt = \u001b[43mline\u001b[49m\u001b[43m.\u001b[49m\u001b[43mmatch\u001b[49m\u001b[43m(\u001b[49m\n\u001b[32m      8\u001b[39m \u001b[43m                \u001b[49m\u001b[43mstart\u001b[49m\u001b[43m=\u001b[49m\u001b[43mline\u001b[49m\u001b[43m.\u001b[49m\u001b[43melement_names\u001b[49m\u001b[43m[\u001b[49m\u001b[43midx_mdh11207\u001b[49m\u001b[43m-\u001b[49m\u001b[32;43m1\u001b[39;49m\u001b[43m]\u001b[49m\u001b[43m,\u001b[49m\n\u001b[32m      9\u001b[39m \u001b[43m                \u001b[49m\u001b[43mend\u001b[49m\u001b[43m=\u001b[49m\u001b[43mline\u001b[49m\u001b[43m.\u001b[49m\u001b[43melement_names\u001b[49m\u001b[43m[\u001b[49m\u001b[43midx_mdh11207\u001b[49m\u001b[43m+\u001b[49m\u001b[32;43m1\u001b[39;49m\u001b[43m]\u001b[49m\u001b[43m,\u001b[49m\n\u001b[32m     10\u001b[39m \u001b[43m                \u001b[49m\u001b[43minit\u001b[49m\u001b[43m=\u001b[49m\u001b[43mtw_before\u001b[49m\u001b[43m.\u001b[49m\u001b[43mget_twiss_init\u001b[49m\u001b[43m(\u001b[49m\u001b[43mat_element\u001b[49m\u001b[43m=\u001b[49m\u001b[43mline\u001b[49m\u001b[43m.\u001b[49m\u001b[43melement_names\u001b[49m\u001b[43m[\u001b[49m\u001b[43midx_mdh11207\u001b[49m\u001b[43m-\u001b[49m\u001b[32;43m1\u001b[39;49m\u001b[43m]\u001b[49m\u001b[43m)\u001b[49m\u001b[43m,\u001b[49m\n\u001b[32m     11\u001b[39m \u001b[43m                \u001b[49m\u001b[43mvary\u001b[49m\u001b[43m=\u001b[49m\u001b[43m[\u001b[49m\n\u001b[32m     12\u001b[39m \u001b[43m                    \u001b[49m\u001b[43mxt\u001b[49m\u001b[43m.\u001b[49m\u001b[43mVary\u001b[49m\u001b[43m(\u001b[49m\u001b[43mname\u001b[49m\u001b[43m=\u001b[49m\u001b[33;43m'\u001b[39;49m\u001b[33;43madh.11207\u001b[39;49m\u001b[33;43m'\u001b[39;49m\u001b[43m,\u001b[49m\u001b[43m \u001b[49m\u001b[43mstep\u001b[49m\u001b[43m=\u001b[49m\u001b[32;43m1e-10\u001b[39;49m\u001b[43m)\u001b[49m\u001b[43m,\u001b[49m\n\u001b[32m     13\u001b[39m \u001b[43m                    \u001b[49m\u001b[43mxt\u001b[49m\u001b[43m.\u001b[49m\u001b[43mVary\u001b[49m\u001b[43m(\u001b[49m\u001b[43mname\u001b[49m\u001b[43m=\u001b[49m\u001b[33;43m'\u001b[39;49m\u001b[33;43madh.11407\u001b[39;49m\u001b[33;43m'\u001b[39;49m\u001b[43m,\u001b[49m\u001b[43m \u001b[49m\u001b[43mstep\u001b[49m\u001b[43m=\u001b[49m\u001b[32;43m1e-10\u001b[39;49m\u001b[43m)\u001b[49m\u001b[43m,\u001b[49m\n\u001b[32m     14\u001b[39m \u001b[43m                    \u001b[49m\u001b[43mxt\u001b[49m\u001b[43m.\u001b[49m\u001b[43mVary\u001b[49m\u001b[43m(\u001b[49m\u001b[43mname\u001b[49m\u001b[43m=\u001b[49m\u001b[33;43m'\u001b[39;49m\u001b[33;43madh.11607\u001b[39;49m\u001b[33;43m'\u001b[39;49m\u001b[43m,\u001b[49m\u001b[43m \u001b[49m\u001b[43mstep\u001b[49m\u001b[43m=\u001b[49m\u001b[32;43m1e-10\u001b[39;49m\u001b[43m)\u001b[49m\u001b[43m,\u001b[49m\n\u001b[32m     15\u001b[39m \u001b[43m                \u001b[49m\u001b[43m]\u001b[49m\u001b[43m,\u001b[49m\n\u001b[32m     16\u001b[39m \u001b[43m                \u001b[49m\u001b[43mtargets\u001b[49m\u001b[43m=\u001b[49m\u001b[43m[\u001b[49m\n\u001b[32m     17\u001b[39m \u001b[43m                    \u001b[49m\u001b[38;5;66;43;03m# I want the vertical orbit to be at 3 mm at mq.28l8.b1 with zero angle\u001b[39;49;00m\n\u001b[32m     18\u001b[39m \u001b[43m                    \u001b[49m\u001b[43mxt\u001b[49m\u001b[43m.\u001b[49m\u001b[43mTarget\u001b[49m\u001b[43m(\u001b[49m\u001b[33;43m'\u001b[39;49m\u001b[33;43mx\u001b[39;49m\u001b[33;43m'\u001b[39;49m\u001b[43m,\u001b[49m\u001b[43m \u001b[49m\u001b[43mat\u001b[49m\u001b[43m=\u001b[49m\u001b[33;43m'\u001b[39;49m\u001b[33;43mtidp.11434\u001b[39;49m\u001b[33;43m'\u001b[39;49m\u001b[43m,\u001b[49m\u001b[43m \u001b[49m\u001b[43mvalue\u001b[49m\u001b[43m=\u001b[49m\u001b[43m-\u001b[49m\u001b[32;43m6.5e-3\u001b[39;49m\u001b[43m,\u001b[49m\u001b[43m \u001b[49m\u001b[43mtol\u001b[49m\u001b[43m=\u001b[49m\u001b[32;43m1e-4\u001b[39;49m\u001b[43m,\u001b[49m\u001b[43m \u001b[49m\u001b[43mscale\u001b[49m\u001b[43m=\u001b[49m\u001b[32;43m1\u001b[39;49m\u001b[43m)\u001b[49m\u001b[43m,\u001b[49m\n\u001b[32m     19\u001b[39m \u001b[43m                    \u001b[49m\u001b[43mxt\u001b[49m\u001b[43m.\u001b[49m\u001b[43mTarget\u001b[49m\u001b[43m(\u001b[49m\u001b[33;43m'\u001b[39;49m\u001b[33;43mpx\u001b[39;49m\u001b[33;43m'\u001b[39;49m\u001b[43m,\u001b[49m\u001b[43m \u001b[49m\u001b[43mat\u001b[49m\u001b[43m=\u001b[49m\u001b[33;43m'\u001b[39;49m\u001b[33;43mtidp.11434\u001b[39;49m\u001b[33;43m'\u001b[39;49m\u001b[43m,\u001b[49m\u001b[43m \u001b[49m\u001b[43mvalue\u001b[49m\u001b[43m=\u001b[49m\u001b[32;43m0\u001b[39;49m\u001b[43m,\u001b[49m\u001b[43m \u001b[49m\u001b[43mtol\u001b[49m\u001b[43m=\u001b[49m\u001b[32;43m1e-6\u001b[39;49m\u001b[43m,\u001b[49m\u001b[43m \u001b[49m\u001b[43mscale\u001b[49m\u001b[43m=\u001b[49m\u001b[32;43m1000\u001b[39;49m\u001b[43m)\u001b[49m\u001b[43m,\u001b[49m\n\u001b[32m     20\u001b[39m \u001b[43m                    \u001b[49m\u001b[38;5;66;43;03m# I want the bump to be closed\u001b[39;49;00m\n\u001b[32m     21\u001b[39m \u001b[43m                    \u001b[49m\u001b[43mxt\u001b[49m\u001b[43m.\u001b[49m\u001b[43mTarget\u001b[49m\u001b[43m(\u001b[49m\u001b[33;43m'\u001b[39;49m\u001b[33;43mx\u001b[39;49m\u001b[33;43m'\u001b[39;49m\u001b[43m,\u001b[49m\u001b[43m \u001b[49m\u001b[43mat\u001b[49m\u001b[43m=\u001b[49m\u001b[43mline\u001b[49m\u001b[43m.\u001b[49m\u001b[43melement_names\u001b[49m\u001b[43m[\u001b[49m\u001b[43midx_tidp\u001b[49m\u001b[43m+\u001b[49m\u001b[32;43m4\u001b[39;49m\u001b[43m]\u001b[49m\u001b[43m,\u001b[49m\u001b[43m \u001b[49m\u001b[43mvalue\u001b[49m\u001b[43m=\u001b[49m\u001b[43mtw_before\u001b[49m\u001b[43m[\u001b[49m\u001b[33;43m'\u001b[39;49m\u001b[33;43mx\u001b[39;49m\u001b[33;43m'\u001b[39;49m\u001b[43m,\u001b[49m\u001b[43m \u001b[49m\u001b[43mline\u001b[49m\u001b[43m.\u001b[49m\u001b[43melement_names\u001b[49m\u001b[43m[\u001b[49m\u001b[43midx_tidp\u001b[49m\u001b[43m+\u001b[49m\u001b[32;43m4\u001b[39;49m\u001b[43m]\u001b[49m\u001b[43m]\u001b[49m\u001b[43m,\u001b[49m\n\u001b[32m     22\u001b[39m \u001b[43m                            \u001b[49m\u001b[43mtol\u001b[49m\u001b[43m=\u001b[49m\u001b[32;43m1e-6\u001b[39;49m\u001b[43m,\u001b[49m\u001b[43m \u001b[49m\u001b[43mscale\u001b[49m\u001b[43m=\u001b[49m\u001b[32;43m1\u001b[39;49m\u001b[43m)\u001b[49m\u001b[43m,\u001b[49m\n\u001b[32m     23\u001b[39m \u001b[43m                    \u001b[49m\u001b[43mxt\u001b[49m\u001b[43m.\u001b[49m\u001b[43mTarget\u001b[49m\u001b[43m(\u001b[49m\u001b[33;43m'\u001b[39;49m\u001b[33;43mpx\u001b[39;49m\u001b[33;43m'\u001b[39;49m\u001b[43m,\u001b[49m\u001b[43m \u001b[49m\u001b[43mat\u001b[49m\u001b[43m=\u001b[49m\u001b[43mline\u001b[49m\u001b[43m.\u001b[49m\u001b[43melement_names\u001b[49m\u001b[43m[\u001b[49m\u001b[43midx_tidp\u001b[49m\u001b[43m+\u001b[49m\u001b[32;43m4\u001b[39;49m\u001b[43m]\u001b[49m\u001b[43m,\u001b[49m\u001b[43m \u001b[49m\u001b[43mvalue\u001b[49m\u001b[43m=\u001b[49m\u001b[43mtw_before\u001b[49m\u001b[43m[\u001b[49m\u001b[33;43m'\u001b[39;49m\u001b[33;43mpx\u001b[39;49m\u001b[33;43m'\u001b[39;49m\u001b[43m,\u001b[49m\u001b[43m \u001b[49m\u001b[43mline\u001b[49m\u001b[43m.\u001b[49m\u001b[43melement_names\u001b[49m\u001b[43m[\u001b[49m\u001b[43midx_tidp\u001b[49m\u001b[43m+\u001b[49m\u001b[32;43m4\u001b[39;49m\u001b[43m]\u001b[49m\u001b[43m]\u001b[49m\u001b[43m,\u001b[49m\n\u001b[32m     24\u001b[39m \u001b[43m                            \u001b[49m\u001b[43mtol\u001b[49m\u001b[43m=\u001b[49m\u001b[32;43m1e-7\u001b[39;49m\u001b[43m,\u001b[49m\u001b[43m \u001b[49m\u001b[43mscale\u001b[49m\u001b[43m=\u001b[49m\u001b[32;43m1000\u001b[39;49m\u001b[43m)\u001b[49m\u001b[43m,\u001b[49m\n\u001b[32m     25\u001b[39m \u001b[43m                \u001b[49m\u001b[43m]\u001b[49m\u001b[43m,\u001b[49m\n\u001b[32m     26\u001b[39m \u001b[43m                \u001b[49m\u001b[38;5;66;43;03m#restore_if_fail=False\u001b[39;49;00m\n\u001b[32m     27\u001b[39m \u001b[43m            \u001b[49m\u001b[43m)\u001b[49m\n",
      "\u001b[36mFile \u001b[39m\u001b[32m~/Xsuite/xtrack/xtrack/line.py:1503\u001b[39m, in \u001b[36mLine.match\u001b[39m\u001b[34m(self, vary, targets, solve, assert_within_tol, compensate_radiation_energy_loss, solver_options, allow_twiss_failure, restore_if_fail, verbose, n_steps_max, default_tol, solver, check_limits, **kwargs)\u001b[39m\n\u001b[32m   1500\u001b[39m         \u001b[38;5;28;01mif\u001b[39;00m old \u001b[38;5;129;01min\u001b[39;00m kwargs.keys():\n\u001b[32m   1501\u001b[39m             \u001b[38;5;28;01mraise\u001b[39;00m \u001b[38;5;167;01mValueError\u001b[39;00m(\u001b[33mf\u001b[39m\u001b[33m'\u001b[39m\u001b[33m`\u001b[39m\u001b[38;5;132;01m{\u001b[39;00mold\u001b[38;5;132;01m}\u001b[39;00m\u001b[33m` is deprecated. Please use `\u001b[39m\u001b[38;5;132;01m{\u001b[39;00mnew\u001b[38;5;132;01m}\u001b[39;00m\u001b[33m`.\u001b[39m\u001b[33m'\u001b[39m)\n\u001b[32m-> \u001b[39m\u001b[32m1503\u001b[39m \u001b[38;5;28;01mreturn\u001b[39;00m \u001b[43mmatch_line\u001b[49m\u001b[43m(\u001b[49m\u001b[38;5;28;43mself\u001b[39;49m\u001b[43m,\u001b[49m\n\u001b[32m   1504\u001b[39m \u001b[43m                \u001b[49m\u001b[43mvary\u001b[49m\u001b[43m=\u001b[49m\u001b[43mvary\u001b[49m\u001b[43m,\u001b[49m\u001b[43m \u001b[49m\u001b[43mtargets\u001b[49m\u001b[43m=\u001b[49m\u001b[43mtargets\u001b[49m\u001b[43m,\u001b[49m\u001b[43m \u001b[49m\u001b[43msolve\u001b[49m\u001b[43m=\u001b[49m\u001b[43msolve\u001b[49m\u001b[43m,\u001b[49m\n\u001b[32m   1505\u001b[39m \u001b[43m                \u001b[49m\u001b[43massert_within_tol\u001b[49m\u001b[43m=\u001b[49m\u001b[43massert_within_tol\u001b[49m\u001b[43m,\u001b[49m\n\u001b[32m   1506\u001b[39m \u001b[43m                \u001b[49m\u001b[43mcompensate_radiation_energy_loss\u001b[49m\u001b[43m=\u001b[49m\u001b[43mcompensate_radiation_energy_loss\u001b[49m\u001b[43m,\u001b[49m\n\u001b[32m   1507\u001b[39m \u001b[43m                \u001b[49m\u001b[43msolver_options\u001b[49m\u001b[43m=\u001b[49m\u001b[43msolver_options\u001b[49m\u001b[43m,\u001b[49m\n\u001b[32m   1508\u001b[39m \u001b[43m                \u001b[49m\u001b[43mallow_twiss_failure\u001b[49m\u001b[43m=\u001b[49m\u001b[43mallow_twiss_failure\u001b[49m\u001b[43m,\u001b[49m\n\u001b[32m   1509\u001b[39m \u001b[43m                \u001b[49m\u001b[43mrestore_if_fail\u001b[49m\u001b[43m=\u001b[49m\u001b[43mrestore_if_fail\u001b[49m\u001b[43m,\u001b[49m\n\u001b[32m   1510\u001b[39m \u001b[43m                \u001b[49m\u001b[43mverbose\u001b[49m\u001b[43m=\u001b[49m\u001b[43mverbose\u001b[49m\u001b[43m,\u001b[49m\u001b[43m \u001b[49m\u001b[43mn_steps_max\u001b[49m\u001b[43m=\u001b[49m\u001b[43mn_steps_max\u001b[49m\u001b[43m,\u001b[49m\n\u001b[32m   1511\u001b[39m \u001b[43m                \u001b[49m\u001b[43mdefault_tol\u001b[49m\u001b[43m=\u001b[49m\u001b[43mdefault_tol\u001b[49m\u001b[43m,\u001b[49m\u001b[43m \u001b[49m\u001b[43msolver\u001b[49m\u001b[43m=\u001b[49m\u001b[43msolver\u001b[49m\u001b[43m,\u001b[49m\n\u001b[32m   1512\u001b[39m \u001b[43m                \u001b[49m\u001b[43mcheck_limits\u001b[49m\u001b[43m=\u001b[49m\u001b[43mcheck_limits\u001b[49m\u001b[43m,\u001b[49m\u001b[43m \u001b[49m\u001b[43m*\u001b[49m\u001b[43m*\u001b[49m\u001b[43mkwargs\u001b[49m\u001b[43m)\u001b[49m\n",
      "\u001b[36mFile \u001b[39m\u001b[32m~/Xsuite/xtrack/xtrack/match.py:672\u001b[39m, in \u001b[36mmatch_line\u001b[39m\u001b[34m(line, vary, targets, solve, assert_within_tol, compensate_radiation_energy_loss, solver_options, allow_twiss_failure, restore_if_fail, verbose, n_steps_max, default_tol, solver, check_limits, name, **kwargs)\u001b[39m\n\u001b[32m    663\u001b[39m \u001b[38;5;28;01mdef\u001b[39;00m\u001b[38;5;250m \u001b[39m\u001b[34mmatch_line\u001b[39m(line, vary, targets, solve=\u001b[38;5;28;01mTrue\u001b[39;00m, assert_within_tol=\u001b[38;5;28;01mTrue\u001b[39;00m,\n\u001b[32m    664\u001b[39m                   compensate_radiation_energy_loss=\u001b[38;5;28;01mFalse\u001b[39;00m,\n\u001b[32m    665\u001b[39m                   solver_options={}, allow_twiss_failure=\u001b[38;5;28;01mTrue\u001b[39;00m,\n\u001b[32m   (...)\u001b[39m\u001b[32m    669\u001b[39m                   name=\u001b[33m\"\u001b[39m\u001b[33m\"\u001b[39m,\n\u001b[32m    670\u001b[39m                   **kwargs):\n\u001b[32m--> \u001b[39m\u001b[32m672\u001b[39m     opt = \u001b[43mOptimizeLine\u001b[49m\u001b[43m(\u001b[49m\u001b[43mline\u001b[49m\u001b[43m,\u001b[49m\u001b[43m \u001b[49m\u001b[43mvary\u001b[49m\u001b[43m,\u001b[49m\u001b[43m \u001b[49m\u001b[43mtargets\u001b[49m\u001b[43m,\u001b[49m\n\u001b[32m    673\u001b[39m \u001b[43m                        \u001b[49m\u001b[43massert_within_tol\u001b[49m\u001b[43m=\u001b[49m\u001b[43massert_within_tol\u001b[49m\u001b[43m,\u001b[49m\n\u001b[32m    674\u001b[39m \u001b[43m                        \u001b[49m\u001b[43mcompensate_radiation_energy_loss\u001b[49m\u001b[43m=\u001b[49m\u001b[43mcompensate_radiation_energy_loss\u001b[49m\u001b[43m,\u001b[49m\n\u001b[32m    675\u001b[39m \u001b[43m                        \u001b[49m\u001b[43msolver_options\u001b[49m\u001b[43m=\u001b[49m\u001b[43msolver_options\u001b[49m\u001b[43m,\u001b[49m\n\u001b[32m    676\u001b[39m \u001b[43m                        \u001b[49m\u001b[43mallow_twiss_failure\u001b[49m\u001b[43m=\u001b[49m\u001b[43mallow_twiss_failure\u001b[49m\u001b[43m,\u001b[49m\n\u001b[32m    677\u001b[39m \u001b[43m                        \u001b[49m\u001b[43mrestore_if_fail\u001b[49m\u001b[43m=\u001b[49m\u001b[43mrestore_if_fail\u001b[49m\u001b[43m,\u001b[49m\u001b[43m \u001b[49m\u001b[43mverbose\u001b[49m\u001b[43m=\u001b[49m\u001b[43mverbose\u001b[49m\u001b[43m,\u001b[49m\n\u001b[32m    678\u001b[39m \u001b[43m                        \u001b[49m\u001b[43mn_steps_max\u001b[49m\u001b[43m=\u001b[49m\u001b[43mn_steps_max\u001b[49m\u001b[43m,\u001b[49m\u001b[43m \u001b[49m\u001b[43mdefault_tol\u001b[49m\u001b[43m=\u001b[49m\u001b[43mdefault_tol\u001b[49m\u001b[43m,\u001b[49m\n\u001b[32m    679\u001b[39m \u001b[43m                        \u001b[49m\u001b[43msolver\u001b[49m\u001b[43m=\u001b[49m\u001b[43msolver\u001b[49m\u001b[43m,\u001b[49m\u001b[43m \u001b[49m\u001b[43mcheck_limits\u001b[49m\u001b[43m=\u001b[49m\u001b[43mcheck_limits\u001b[49m\u001b[43m,\u001b[49m\n\u001b[32m    680\u001b[39m \u001b[43m                        \u001b[49m\u001b[43mname\u001b[49m\u001b[43m=\u001b[49m\u001b[43mname\u001b[49m\u001b[43m,\u001b[49m\n\u001b[32m    681\u001b[39m \u001b[43m                        \u001b[49m\u001b[43m*\u001b[49m\u001b[43m*\u001b[49m\u001b[43mkwargs\u001b[49m\u001b[43m)\u001b[49m\n\u001b[32m    683\u001b[39m     \u001b[38;5;28;01mif\u001b[39;00m solve:\n\u001b[32m    684\u001b[39m         opt.solve()\n",
      "\u001b[36mFile \u001b[39m\u001b[32m~/Xsuite/xtrack/xtrack/match.py:907\u001b[39m, in \u001b[36mOptimizeLine.__init__\u001b[39m\u001b[34m(self, line, vary, targets, assert_within_tol, compensate_radiation_energy_loss, solver_options, allow_twiss_failure, restore_if_fail, verbose, n_steps_max, default_tol, solver, check_limits, action_twiss, name, **kwargs)\u001b[39m\n\u001b[32m    904\u001b[39m vary_flatten = _flatten_vary(vary)\n\u001b[32m    905\u001b[39m _complete_vary_with_info_from_line(vary_flatten, line)\n\u001b[32m--> \u001b[39m\u001b[32m907\u001b[39m \u001b[43mxd\u001b[49m\u001b[43m.\u001b[49m\u001b[43mOptimize\u001b[49m\u001b[43m.\u001b[49m\u001b[34;43m__init__\u001b[39;49m\u001b[43m(\u001b[49m\u001b[38;5;28;43mself\u001b[39;49m\u001b[43m,\u001b[49m\n\u001b[32m    908\u001b[39m \u001b[43m                \u001b[49m\u001b[43mvary\u001b[49m\u001b[43m=\u001b[49m\u001b[43mvary_flatten\u001b[49m\u001b[43m,\u001b[49m\u001b[43m \u001b[49m\u001b[43mtargets\u001b[49m\u001b[43m=\u001b[49m\u001b[43mtargets_flatten\u001b[49m\u001b[43m,\u001b[49m\u001b[43m \u001b[49m\u001b[43msolver\u001b[49m\u001b[43m=\u001b[49m\u001b[43msolver\u001b[49m\u001b[43m,\u001b[49m\n\u001b[32m    909\u001b[39m \u001b[43m                \u001b[49m\u001b[43mverbose\u001b[49m\u001b[43m=\u001b[49m\u001b[43mverbose\u001b[49m\u001b[43m,\u001b[49m\u001b[43m \u001b[49m\u001b[43massert_within_tol\u001b[49m\u001b[43m=\u001b[49m\u001b[43massert_within_tol\u001b[49m\u001b[43m,\u001b[49m\n\u001b[32m    910\u001b[39m \u001b[43m                \u001b[49m\u001b[43msolver_options\u001b[49m\u001b[43m=\u001b[49m\u001b[43msolver_options\u001b[49m\u001b[43m,\u001b[49m\n\u001b[32m    911\u001b[39m \u001b[43m                \u001b[49m\u001b[43mn_steps_max\u001b[49m\u001b[43m=\u001b[49m\u001b[43mn_steps_max\u001b[49m\u001b[43m,\u001b[49m\n\u001b[32m    912\u001b[39m \u001b[43m                \u001b[49m\u001b[43mrestore_if_fail\u001b[49m\u001b[43m=\u001b[49m\u001b[43mrestore_if_fail\u001b[49m\u001b[43m,\u001b[49m\n\u001b[32m    913\u001b[39m \u001b[43m                \u001b[49m\u001b[43mcheck_limits\u001b[49m\u001b[43m=\u001b[49m\u001b[43mcheck_limits\u001b[49m\u001b[43m,\u001b[49m\n\u001b[32m    914\u001b[39m \u001b[43m                \u001b[49m\u001b[43mname\u001b[49m\u001b[43m=\u001b[49m\u001b[43mname\u001b[49m\u001b[43m)\u001b[49m\n\u001b[32m    915\u001b[39m \u001b[38;5;28mself\u001b[39m.line = line\n\u001b[32m    916\u001b[39m \u001b[38;5;28mself\u001b[39m.action_twiss = action_twiss\n",
      "\u001b[36mFile \u001b[39m\u001b[32m~/Xsuite/xdeps/xdeps/optimize/optimize.py:699\u001b[39m, in \u001b[36mOptimize.__init__\u001b[39m\u001b[34m(self, vary, targets, restore_if_fail, solver, verbose, assert_within_tol, n_steps_max, solver_options, show_call_counter, check_limits, name, **kwargs)\u001b[39m\n\u001b[32m    696\u001b[39m     \u001b[38;5;28mself\u001b[39m.add_point_to_log()\n\u001b[32m    697\u001b[39m     \u001b[38;5;28mself\u001b[39m._clip_to_limits()\n\u001b[32m--> \u001b[39m\u001b[32m699\u001b[39m \u001b[38;5;28;43mself\u001b[39;49m\u001b[43m.\u001b[49m\u001b[43madd_point_to_log\u001b[49m\u001b[43m(\u001b[49m\u001b[43m)\u001b[49m\n\u001b[32m    701\u001b[39m \u001b[38;5;28mself\u001b[39m._err.show_call_counter = show_call_counter\n",
      "\u001b[36mFile \u001b[39m\u001b[32m~/Xsuite/xdeps/xdeps/optimize/optimize.py:1426\u001b[39m, in \u001b[36mOptimize.add_point_to_log\u001b[39m\u001b[34m(self, tag)\u001b[39m\n\u001b[32m   1424\u001b[39m \u001b[38;5;28mself\u001b[39m._log[\u001b[33m\"\u001b[39m\u001b[33mknobs\u001b[39m\u001b[33m\"\u001b[39m].append(knobs)\n\u001b[32m   1425\u001b[39m x = \u001b[38;5;28mself\u001b[39m._err._knobs_to_x(knobs)\n\u001b[32m-> \u001b[39m\u001b[32m1426\u001b[39m _, penalty = \u001b[38;5;28;43mself\u001b[39;49m\u001b[43m.\u001b[49m\u001b[43msolver\u001b[49m\u001b[43m.\u001b[49m\u001b[43meval\u001b[49m\u001b[43m(\u001b[49m\u001b[43mx\u001b[49m\u001b[43m)\u001b[49m\n\u001b[32m   1427\u001b[39m \u001b[38;5;28mself\u001b[39m._log[\u001b[33m\"\u001b[39m\u001b[33mtargets\u001b[39m\u001b[33m\"\u001b[39m].append(\u001b[38;5;28mself\u001b[39m._err.last_res_values)\n\u001b[32m   1428\u001b[39m \u001b[38;5;28mself\u001b[39m._log[\u001b[33m\"\u001b[39m\u001b[33mpenalty\u001b[39m\u001b[33m\"\u001b[39m].append(penalty)\n",
      "\u001b[36mFile \u001b[39m\u001b[32m~/Xsuite/xdeps/xdeps/optimize/jacobian.py:179\u001b[39m, in \u001b[36mJacobianSolver.eval\u001b[39m\u001b[34m(self, x)\u001b[39m\n\u001b[32m    178\u001b[39m \u001b[38;5;28;01mdef\u001b[39;00m\u001b[38;5;250m \u001b[39m\u001b[34meval\u001b[39m(\u001b[38;5;28mself\u001b[39m, x):\n\u001b[32m--> \u001b[39m\u001b[32m179\u001b[39m     y = \u001b[38;5;28;43mself\u001b[39;49m\u001b[43m.\u001b[49m\u001b[43mfunc\u001b[49m\u001b[43m(\u001b[49m\u001b[43mx\u001b[49m\u001b[43m)\u001b[49m\n\u001b[32m    180\u001b[39m     penalty = np.sqrt(np.dot(y, y))\n\u001b[32m    181\u001b[39m     \u001b[38;5;28;01mif\u001b[39;00m \u001b[38;5;28mself\u001b[39m.verbose:\n",
      "\u001b[36mFile \u001b[39m\u001b[32m~/Xsuite/xdeps/xdeps/optimize/optimize.py:301\u001b[39m, in \u001b[36mMeritFunctionForMatch.__call__\u001b[39m\u001b[34m(self, x, check_limits, return_scalar, zero_if_met)\u001b[39m\n\u001b[32m    299\u001b[39m target_values = []\n\u001b[32m    300\u001b[39m \u001b[38;5;28;01mfor\u001b[39;00m tt \u001b[38;5;129;01min\u001b[39;00m \u001b[38;5;28mself\u001b[39m.targets:\n\u001b[32m--> \u001b[39m\u001b[32m301\u001b[39m     res_values.append(\u001b[43mtt\u001b[49m\u001b[43m.\u001b[49m\u001b[43meval\u001b[49m\u001b[43m(\u001b[49m\u001b[43mres_data\u001b[49m\u001b[43m)\u001b[49m)\n\u001b[32m    302\u001b[39m     \u001b[38;5;28;01mif\u001b[39;00m \u001b[38;5;28mhasattr\u001b[39m(tt.value, \u001b[33m\"\u001b[39m\u001b[33m_value\u001b[39m\u001b[33m\"\u001b[39m):\n\u001b[32m    303\u001b[39m         target_values.append(tt.value._value)\n",
      "\u001b[36mFile \u001b[39m\u001b[32m~/Xsuite/xtrack/xtrack/match.py:301\u001b[39m, in \u001b[36mTarget.eval\u001b[39m\u001b[34m(self, data)\u001b[39m\n\u001b[32m    299\u001b[39m     out = \u001b[38;5;28mself\u001b[39m.tar(res)\n\u001b[32m    300\u001b[39m \u001b[38;5;28;01melse\u001b[39;00m:\n\u001b[32m--> \u001b[39m\u001b[32m301\u001b[39m     out = \u001b[43mres\u001b[49m\u001b[43m[\u001b[49m\u001b[38;5;28;43mself\u001b[39;49m\u001b[43m.\u001b[49m\u001b[43mtar\u001b[49m\u001b[43m]\u001b[49m\n\u001b[32m    303\u001b[39m \u001b[38;5;28;01mif\u001b[39;00m \u001b[38;5;28mself\u001b[39m._freeze_value \u001b[38;5;129;01mis\u001b[39;00m \u001b[38;5;129;01mnot\u001b[39;00m \u001b[38;5;28;01mNone\u001b[39;00m:\n\u001b[32m    304\u001b[39m     \u001b[38;5;28;01mreturn\u001b[39;00m out\n",
      "\u001b[36mFile \u001b[39m\u001b[32m~/Xsuite/xdeps/xdeps/table.py:572\u001b[39m, in \u001b[36mTable.__getitem__\u001b[39m\u001b[34m(self, args)\u001b[39m\n\u001b[32m    570\u001b[39m     \u001b[38;5;28;01mif\u001b[39;00m idx \u001b[38;5;129;01mis\u001b[39;00m \u001b[38;5;28;01mNone\u001b[39;00m:\n\u001b[32m    571\u001b[39m         name, count, offset = \u001b[38;5;28mself\u001b[39m._split_name_count_offset(row)\n\u001b[32m--> \u001b[39m\u001b[32m572\u001b[39m         idx = \u001b[38;5;28;43mself\u001b[39;49m\u001b[43m.\u001b[49m\u001b[43m_get_row_cache_raise\u001b[49m\u001b[43m(\u001b[49m\u001b[43mname\u001b[49m\u001b[43m,\u001b[49m\u001b[43m \u001b[49m\u001b[43mcount\u001b[49m\u001b[43m,\u001b[49m\u001b[43m \u001b[49m\u001b[43moffset\u001b[49m\u001b[43m)\u001b[49m\n\u001b[32m    573\u001b[39m \u001b[38;5;28;01melif\u001b[39;00m \u001b[38;5;28misinstance\u001b[39m(row, \u001b[38;5;28mtuple\u001b[39m):\n\u001b[32m    574\u001b[39m     cache, count = \u001b[38;5;28mself\u001b[39m._get_cache()\n",
      "\u001b[36mFile \u001b[39m\u001b[32m~/Xsuite/xdeps/xdeps/table.py:295\u001b[39m, in \u001b[36mTable._get_row_cache_raise\u001b[39m\u001b[34m(self, row, count, offset)\u001b[39m\n\u001b[32m    293\u001b[39m idx = \u001b[38;5;28mself\u001b[39m._get_row_cache(row, count, offset)\n\u001b[32m    294\u001b[39m \u001b[38;5;28;01mif\u001b[39;00m idx \u001b[38;5;129;01mis\u001b[39;00m \u001b[38;5;28;01mNone\u001b[39;00m:\n\u001b[32m--> \u001b[39m\u001b[32m295\u001b[39m     \u001b[38;5;28;01mraise\u001b[39;00m \u001b[38;5;167;01mKeyError\u001b[39;00m(\u001b[33mf\u001b[39m\u001b[33m\"\u001b[39m\u001b[33mCannot find \u001b[39m\u001b[33m'\u001b[39m\u001b[38;5;132;01m{\u001b[39;00mrow\u001b[38;5;132;01m}\u001b[39;00m\u001b[33m'\u001b[39m\u001b[33m in column \u001b[39m\u001b[33m'\u001b[39m\u001b[38;5;132;01m{\u001b[39;00m\u001b[38;5;28mself\u001b[39m._index\u001b[38;5;132;01m}\u001b[39;00m\u001b[33m'\u001b[39m\u001b[33m\"\u001b[39m)\n\u001b[32m    296\u001b[39m \u001b[38;5;28;01mreturn\u001b[39;00m idx\n",
      "\u001b[31mKeyError\u001b[39m: \"Cannot find 'tidp.11434' in column 'name'\""
     ]
    }
   ],
   "source": [
    "idx_mdh11207 = line.element_names.index('mdh.11207')\n",
    "idx_mdh11407 = line.element_names.index('mdh.11407')\n",
    "idx_mdh11607 = line.element_names.index('mdh.11607')\n",
    "idx_tidp = line.element_names.index('tidp.11434')\n",
    "\n",
    "tw_before = line.twiss()\n",
    "opt = line.match(\n",
    "                start=line.element_names[idx_mdh11207-1],\n",
    "                end=line.element_names[idx_mdh11207+1],\n",
    "                init=tw_before.get_twiss_init(at_element=line.element_names[idx_mdh11207-1]),\n",
    "                vary=[\n",
    "                    xt.Vary(name='adh.11207', step=1e-10),\n",
    "                    xt.Vary(name='adh.11407', step=1e-10),\n",
    "                    xt.Vary(name='adh.11607', step=1e-10),\n",
    "                ],\n",
    "                targets=[\n",
    "                    # I want the vertical orbit to be at 3 mm at mq.28l8.b1 with zero angle\n",
    "                    xt.Target('x', at='tidp.11434', value=-6.5e-3, tol=1e-4, scale=1),\n",
    "                    xt.Target('px', at='tidp.11434', value=0, tol=1e-6, scale=1000),\n",
    "                    # I want the bump to be closed\n",
    "                    xt.Target('x', at=line.element_names[idx_tidp+4], value=tw_before['x', line.element_names[idx_tidp+4]],\n",
    "                            tol=1e-6, scale=1),\n",
    "                    xt.Target('px', at=line.element_names[idx_tidp+4], value=tw_before['px', line.element_names[idx_tidp+4]],\n",
    "                            tol=1e-7, scale=1000),\n",
    "                ],\n",
    "                #restore_if_fail=False\n",
    "            )"
   ]
  },
  {
   "cell_type": "code",
   "execution_count": null,
   "id": "9dbaf2dc",
   "metadata": {},
   "outputs": [],
   "source": []
  }
 ],
 "metadata": {
  "kernelspec": {
   "display_name": "xcoll",
   "language": "python",
   "name": "python3"
  },
  "language_info": {
   "codemirror_mode": {
    "name": "ipython",
    "version": 3
   },
   "file_extension": ".py",
   "mimetype": "text/x-python",
   "name": "python",
   "nbconvert_exporter": "python",
   "pygments_lexer": "ipython3",
   "version": "3.13.3"
  }
 },
 "nbformat": 4,
 "nbformat_minor": 5
}
