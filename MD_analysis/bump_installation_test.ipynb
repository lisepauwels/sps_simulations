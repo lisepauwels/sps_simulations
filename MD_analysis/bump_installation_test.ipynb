{
 "cells": [
  {
   "cell_type": "code",
   "execution_count": 1,
   "id": "bcab65b1",
   "metadata": {},
   "outputs": [],
   "source": [
    "import numpy as np\n",
    "from pathlib import Path\n",
    "import time\n",
    "import matplotlib.pyplot as plt\n",
    "start_time = time.time()\n",
    "\n",
    "import xobjects as xo\n",
    "import xtrack as xt\n",
    "import xpart as xp\n",
    "import xobjects as xo\n",
    "import xcoll as xc\n",
    "\n",
    "# import apertls\n",
    "from matplotlib.colors import LogNorm"
   ]
  },
  {
   "cell_type": "code",
   "execution_count": 2,
   "id": "beeb2e79",
   "metadata": {},
   "outputs": [
    {
     "data": {
      "application/vnd.jupyter.widget-view+json": {
       "model_id": "ce908606fcab49dea7b982aff447c089",
       "version_major": 2,
       "version_minor": 0
      },
      "text/plain": [
       "Loading line from dict:   0%|          | 0/36381 [00:00<?, ?it/s]"
      ]
     },
     "metadata": {},
     "output_type": "display_data"
    },
    {
     "name": "stdout",
     "output_type": "stream",
     "text": [
      "Done loading line from dict.           \n"
     ]
    }
   ],
   "source": [
    "line = xt.Line.from_json('../injection_lines/sps_with_aperture_inj_q20_beam_sagitta.json')"
   ]
  },
  {
   "cell_type": "code",
   "execution_count": null,
   "id": "521687c7",
   "metadata": {},
   "outputs": [],
   "source": [
    "env = line.env\n",
    "\n",
    "line['bump.11207'] = 0\n",
    "line['bump.11407'] = 0\n",
    "line['bump.11607'] = 0\n",
    "line['bump.12207'] = 0\n",
    "\n",
    "line.ref['mdh.11207'].knl[0] += line.vars['bump.11207']\n",
    "line.ref['mdh.11407'].knl[0] += line.vars['bump.11407']\n",
    "line.ref['mdh.11607'].knl[0] += line.vars['bump.11607']\n",
    "line.ref['mdh.12207'].knl[0] += line.vars['bump.12207']"
   ]
  },
  {
   "cell_type": "code",
   "execution_count": 5,
   "id": "73a9333b",
   "metadata": {},
   "outputs": [
    {
     "name": "stdout",
     "output_type": "stream",
     "text": [
      "Compiling ContextCpu kernels...\n",
      "Done compiling ContextCpu kernels.\n",
      "Compiling ContextCpu kernels...\n",
      "Done compiling ContextCpu kernels.\n"
     ]
    },
    {
     "data": {
      "application/vnd.jupyter.widget-view+json": {
       "model_id": "3f6c6fe8107d4644a006eaab0d4d982d",
       "version_major": 2,
       "version_minor": 0
      },
      "text/plain": [
       "Slicing line:   0%|          | 0/75278 [00:00<?, ?it/s]"
      ]
     },
     "metadata": {},
     "output_type": "display_data"
    }
   ],
   "source": [
    "#fix of tidp drift for later insertion of collimator\n",
    "tt = line.get_table()\n",
    "tw = line.twiss()\n",
    "s_start_tidp = line.get_s_position('tidp.11434..0')\n",
    "line.remove(tt.rows['tidp.*'].name)\n",
    "line.insert(env.place('tidp.11434', at=s_start_tidp), s_tol=1e-6)"
   ]
  },
  {
   "cell_type": "code",
   "execution_count": 33,
   "id": "a2688584",
   "metadata": {},
   "outputs": [],
   "source": [
    "line['bump.11207'] = -1.735856e-4\n",
    "line['bump.11407'] = 7.35268e-5\n",
    "line['bump.12207'] = 1.603007e-4"
   ]
  },
  {
   "cell_type": "code",
   "execution_count": 38,
   "id": "cbd1146d",
   "metadata": {},
   "outputs": [
    {
     "data": {
      "text/plain": [
       "Table: 75281 rows, 11 cols\n",
       "name                             s element_type        isthick isreplica parent_name iscollective ...\n",
       "sps$start                        0 Marker                False     False None               False\n",
       "begi.10010                       0 Marker                False     False None               False\n",
       "qf.10010                         0 Quadrupole             True     False None               False\n",
       "drift_0..0                   3.085 DriftSlice             True     False drift_0            False\n",
       "veqf.10010.b_aper           3.2504 LimitEllipse          False     False None               False\n",
       "drift_0..1                  3.2504 DriftSlice             True     False drift_0            False\n",
       "veba.10030.a_aper           3.2516 LimitRect             False     False None               False\n",
       "drift_0..2                  3.2516 DriftSlice             True     False drift_0            False\n",
       "mba.10030_entry            3.44499 Marker                False     False None               False\n",
       "mba.10030..entry_map       3.44499 ThinSliceRBendEntry   False     False mba.10030          False\n",
       "...\n",
       "drift_1904             6911.11 Drift           True     False None               False\n",
       "bph.63608..0           6911.13 DriftSlice      True     False bph.63608          False\n",
       "bph.63608.a_aper       6911.13 LimitRect      False     False None               False\n",
       "bph.63608..1           6911.13 DriftSlice      True     False bph.63608          False\n",
       "bph.63608.b_aper       6911.41 LimitRect      False     False None               False\n",
       "bph.63608..2           6911.41 DriftSlice      True     False bph.63608          False\n",
       "drift_1905             6911.41 Drift           True     False None               False\n",
       "end.10010               6911.5 Marker         False     False None               False\n",
       "sps$end                 6911.5 Marker         False     False None               False\n",
       "_end_point              6911.5                False     False None               False"
      ]
     },
     "execution_count": 38,
     "metadata": {},
     "output_type": "execute_result"
    }
   ],
   "source": [
    "tt"
   ]
  },
  {
   "cell_type": "code",
   "execution_count": 37,
   "id": "8a1ad0f4",
   "metadata": {},
   "outputs": [
    {
     "name": "stdout",
     "output_type": "stream",
     "text": [
      "name                              s element_type        isthick isreplica parent_name        ...\n",
      "mdh.12207                    703.43 Multipole             False     False None              \n",
      "drift_mdh.12207..2..0        703.43 DriftSlice             True     False drift_mdh.12207..2\n",
      "mdh.12207.b_aper            703.554 LimitRect             False     False None              \n",
      "drift_mdh.12207..2..1       703.554 DriftSlice             True     False drift_mdh.12207..2\n",
      "drift_194                   703.555 Drift                  True     False None              \n",
      "bph.12208..0                 703.58 DriftSlice             True     False bph.12208         \n",
      "bph.12208.a_aper             703.58 LimitRect             False     False None              \n",
      "bph.12208..1                 703.58 DriftSlice             True     False bph.12208         \n",
      "bph.12208.b_aper            703.854 LimitRect             False     False None              \n",
      "bph.12208..2                703.854 DriftSlice             True     False bph.12208         \n",
      "drift_195..0                703.855 DriftSlice             True     False drift_195         \n",
      "veqf.12210.a_aper           703.855 LimitEllipse          False     False None              \n",
      "drift_195..1                703.855 DriftSlice             True     False drift_195         \n",
      "qf.12210                     703.95 Quadrupole             True     False None              \n",
      "drift_196..0                707.035 DriftSlice             True     False drift_196         \n",
      "veqf.12210.b_aper             707.2 LimitEllipse          False     False None              \n",
      "drift_196..1                  707.2 DriftSlice             True     False drift_196         \n",
      "veba.12230.a_aper           707.201 LimitRect             False     False None              \n",
      "drift_196..2                707.201 DriftSlice             True     False drift_196         \n",
      "mba.12230_entry             707.394 Marker                False     False None              \n",
      "mba.12230..entry_map        707.394 ThinSliceRBendEntry   False     False mba.12230         \n",
      "mba.12230..0_aper2          707.394 LimitRect             False     False None              \n",
      "mba.12230..0                707.394 ThickSliceRBend        True     False mba.12230         \n",
      "mba.12230..1_aper2           708.02 LimitRect             False     False None              \n",
      "mba.12230..1                 708.02 ThickSliceRBend        True     False mba.12230         \n",
      "mba.12230..2_aper2          708.646 LimitRect             False     False None              \n",
      "mba.12230..2                708.646 ThickSliceRBend        True     False mba.12230         \n",
      "mba.12230..3_aper2          709.272 LimitRect             False     False None              \n",
      "mba.12230..3                709.272 ThickSliceRBend        True     False mba.12230         \n",
      "mba.12230..4_aper2          709.898 LimitRect             False     False None              \n",
      "mba.12230..4                709.898 ThickSliceRBend        True     False mba.12230         \n",
      "mba.12230..5_aper2          710.525 LimitRect             False     False None              \n",
      "mba.12230..5                710.525 ThickSliceRBend        True     False mba.12230         \n",
      "mba.12230..6_aper2          711.151 LimitRect             False     False None              \n",
      "mba.12230..6                711.151 ThickSliceRBend        True     False mba.12230         \n",
      "mba.12230..7_aper2          711.777 LimitRect             False     False None              \n",
      "mba.12230..7                711.777 ThickSliceRBend        True     False mba.12230         \n",
      "mba.12230..8_aper2          712.403 LimitRect             False     False None              \n",
      "mba.12230..8                712.403 ThickSliceRBend        True     False mba.12230         \n",
      "mba.12230..9_aper2          713.029 LimitRect             False     False None              \n",
      "mba.12230..9                713.029 ThickSliceRBend        True     False mba.12230         \n",
      "mba.12230..10_aper2         713.655 LimitRect             False     False None              \n",
      "mba.12230..exit_map         713.655 ThinSliceRBendExit    False     False mba.12230         \n",
      "mba.12230_exit              713.655 Marker                False     False None              \n",
      "drift_197..0                713.655 DriftSlice             True     False drift_197         \n",
      "veba.12230.b_aper            713.86 LimitRect             False     False None              \n",
      "drift_197..1                 713.86 DriftSlice             True     False drift_197         \n",
      "veba.12250.a_aper           713.861 LimitRect             False     False None              \n",
      "drift_197..2                713.861 DriftSlice             True     False drift_197         \n",
      "mba.12250_entry             714.054 Marker                False     False None              \n",
      "mba.12250..entry_map        714.054 ThinSliceRBendEntry   False     False mba.12250         \n"
     ]
    }
   ],
   "source": [
    "tt.rows['mdh.12207':'mdh.12207>>50'].show()"
   ]
  },
  {
   "cell_type": "code",
   "execution_count": 43,
   "id": "41a7362c",
   "metadata": {},
   "outputs": [
    {
     "data": {
      "text/plain": [
       "(-0.05, 0.05)"
      ]
     },
     "execution_count": 43,
     "metadata": {},
     "output_type": "execute_result"
    },
    {
     "data": {
      "image/png": "[encoded data removed]",
      "text/plain": [
       "<Figure size 640x480 with 1 Axes>"
      ]
     },
     "metadata": {},
     "output_type": "display_data"
    }
   ],
   "source": [
    "tw_bump = line.twiss(start='mdh.11207', end='mba.12230..0', init=tw)\n",
    "tw_bump2 = line.twiss()\n",
    "\n",
    "plt.figure()\n",
    "plt.plot(tw.s, tw.x)\n",
    "plt.plot(tw_bump.s, tw_bump.x)\n",
    "plt.plot(tw_bump2.s, tw_bump2.x)\n",
    "plt.vlines(s_start_tidp + 4.3, -0.05, 0.05, color='r', linestyle='--')\n",
    "plt.xlim(s_start_tidp-150, s_start_tidp+300)\n",
    "plt.ylim(-0.05, 0.05)"
   ]
  },
  {
   "cell_type": "code",
   "execution_count": null,
   "id": "39d10a58",
   "metadata": {},
   "outputs": [
    {
     "name": "stdout",
     "output_type": "stream",
     "text": [
      "Compiling ContextCpu kernels...\n",
      "Done compiling ContextCpu kernels.\n",
      "Compiling ContextCpu kernels...\n",
      "Done compiling ContextCpu kernels.\n",
      "                                             \n",
      "Optimize - start penalty: 0.2998                            \n",
      "Matching: model call n. 16 penalty = 6.7553e-12              \n",
      "Optimize - end penalty:  6.75526e-12                            \n"
     ]
    }
   ],
   "source": [
    "opt = line.match(\n",
    "    method='6d',\n",
    "    vary=[\n",
    "        xt.VaryList(['bump.11207', 'bump.11407', 'bump.11607'], step=1e-8, tag='bump',)\n",
    "    ],\n",
    "    targets = [\n",
    "        xt.Target('x', -30e-3, at='tidp.11434'),\n",
    "        xt.TargetSet(['x', 'px'], value=tw, at='bph.11608..0')\n",
    "    ]\n",
    "    )"
   ]
  },
  {
   "cell_type": "code",
   "execution_count": 122,
   "id": "881f2943",
   "metadata": {},
   "outputs": [
    {
     "data": {
      "text/plain": [
       "(-0.0015, 0.001)"
      ]
     },
     "execution_count": 122,
     "metadata": {},
     "output_type": "execute_result"
    },
    {
     "data": {
      "image/png": "[encoded data removed]",
      "text/plain": [
       "<Figure size 640x480 with 1 Axes>"
      ]
     },
     "metadata": {},
     "output_type": "display_data"
    }
   ],
   "source": [
    "tw2 = line.twiss()\n",
    "plt.figure()\n",
    "plt.plot(tw.s, tw.x)\n",
    "plt.plot(tw2.s, tw2.x)\n",
    "plt.vlines(s_start_tidp, -0.00125, 0.00075, color='r', linestyle='--')\n",
    "plt.xlim(s_start_tidp-100, s_start_tidp+200)\n",
    "plt.ylim(-0.0015,0.001)"
   ]
  },
  {
   "cell_type": "code",
   "execution_count": 123,
   "id": "112e7f53",
   "metadata": {},
   "outputs": [
    {
     "data": {
      "text/plain": [
       "np.float64(511.5932000000015)"
      ]
     },
     "execution_count": 123,
     "metadata": {},
     "output_type": "execute_result"
    }
   ],
   "source": [
    "line.get_s_position('bph.11608..0')"
   ]
  },
  {
   "cell_type": "code",
   "execution_count": 106,
   "id": "40343033",
   "metadata": {},
   "outputs": [
    {
     "name": "stdout",
     "output_type": "stream",
     "text": [
      "Compiling ContextCpu kernels...\n",
      "Done compiling ContextCpu kernels.\n"
     ]
    }
   ],
   "source": [
    "idx_mdh11207 = line.element_names.index('mdh.11207')\n",
    "idx_mdh11407 = line.element_names.index('mdh.11407')\n",
    "idx_mdh11607 = line.element_names.index('mdh.11607')\n",
    "idx_tidp = line.element_names.index('tidp.11434')\n",
    "\n",
    "opt = line.match(solve=False,\n",
    "                default_tol={None: 5e-8},\n",
    "                solver_options=dict(max_rel_penalty_increase=2.),\n",
    "                init=tw,\n",
    "                init_at=xt.START,\n",
    "                start='mba.11190..9',\n",
    "                end='bph.11608..0',\n",
    "                #init=tw.get_twiss_init(at_element='mba.11190..9'),\n",
    "                vary=[\n",
    "                    xt.VaryList(['bump.11207', 'bump.11407', 'bump.11607'], step=1e-10),\n",
    "                ],\n",
    "                targets=[\n",
    "                    xt.Target('x', at='tidp.11434', value=-30e-3, tol=1e-4),\n",
    "                    # I want the bump to be closed\n",
    "                    xt.TargetSet(['x', 'px', 'betx'], value=tw, tol=1e-7, at='mba.11190..9'),\n",
    "                    xt.TargetSet(['x', 'px', 'betx'], value=tw, tol=1e-7, at='bph.11608..0')\n",
    "                ]\n",
    "            )\n",
    "opt.assert_within_tol=False\n",
    "opt.restore_if_fail=False\n"
   ]
  },
  {
   "cell_type": "code",
   "execution_count": 107,
   "id": "9dbaf2dc",
   "metadata": {},
   "outputs": [
    {
     "name": "stdout",
     "output_type": "stream",
     "text": [
      "Target status:               alty = 2.9975e-01              \n",
      "id state tag               tol_met       residue   current_val    target_val description                                 \n",
      "0  ON    tidp.11434_x        False     0.0299755  -2.45122e-05         -0.03 ('x', 'tidp.11434'), val=-0.03, tol=0.00 ...\n",
      "1  ON    mba.11190..9_x       True             0  -7.10751e-06  -7.10751e-06 ('x', 'mba.11190..9'), val=-7.10751e-06, ...\n",
      "2  ON    mba.11190..9_px      True             0  -1.04155e-07  -1.04155e-07 ('px', 'mba.11190..9'), val=-1.04155e-07 ...\n",
      "3  ON    mba.11190..9_betx    True   2.84217e-14       93.7092       93.7092 ('betx', 'mba.11190..9'), val=93.7092, t ...\n",
      "4  ON    bph.11608..0_x       True  -6.34258e-18   0.000442312   0.000442312 ('x', 'bph.11608..0'), val=0.000442312,  ...\n",
      "5  ON    bph.11608..0_px      True   -2.1684e-19   -4.2119e-05   -4.2119e-05 ('px', 'bph.11608..0'), val=-4.2119e-05, ...\n",
      "6  ON    bph.11608..0_betx    True  -1.60466e-08       102.197       102.197 ('betx', 'bph.11608..0'), val=102.197, t ...\n"
     ]
    }
   ],
   "source": [
    "opt.target_status()"
   ]
  },
  {
   "cell_type": "code",
   "execution_count": 108,
   "id": "d494c89b",
   "metadata": {},
   "outputs": [],
   "source": [
    "opt.disable_targets([3,6])"
   ]
  },
  {
   "cell_type": "code",
   "execution_count": 109,
   "id": "b6e06e8a",
   "metadata": {},
   "outputs": [
    {
     "name": "stdout",
     "output_type": "stream",
     "text": [
      "                                             \n",
      "Optimize - start penalty: 0.2998                            \n",
      "Matching: model call n. 12 penalty = 1.2981e-07              \n",
      "Optimize - end penalty:  1.29809e-07                            \n"
     ]
    },
    {
     "data": {
      "text/plain": [
       "<xtrack.match.OptimizeLine at 0x7ff954373710>"
      ]
     },
     "execution_count": 109,
     "metadata": {},
     "output_type": "execute_result"
    }
   ],
   "source": [
    "opt.solve()"
   ]
  },
  {
   "cell_type": "code",
   "execution_count": 110,
   "id": "bfd779ef",
   "metadata": {},
   "outputs": [
    {
     "name": "stdout",
     "output_type": "stream",
     "text": [
      "Target status:               nalty = 1.2981e-07              \n",
      "id state tag               tol_met       residue   current_val    target_val description                                 \n",
      "0  ON    tidp.11434_x         True   3.73312e-11         -0.03         -0.03 ('x', 'tidp.11434'), val=-0.03, tol=0.00 ...\n",
      "1  ON    mba.11190..9_x       True             0  -7.10751e-06  -7.10751e-06 ('x', 'mba.11190..9'), val=-7.10751e-06, ...\n",
      "2  ON    mba.11190..9_px      True             0  -1.04155e-07  -1.04155e-07 ('px', 'mba.11190..9'), val=-1.04155e-07 ...\n",
      "3  OFF   mba.11190..9_betx    True   2.84217e-14       93.7092       93.7092 ('betx', 'mba.11190..9'), val=93.7092, t ...\n",
      "4  ON    bph.11608..0_x       True   1.23923e-08   0.000442324   0.000442312 ('x', 'bph.11608..0'), val=0.000442312,  ...\n",
      "5  ON    bph.11608..0_px      True   3.86427e-10  -4.21186e-05   -4.2119e-05 ('px', 'bph.11608..0'), val=-4.2119e-05, ...\n",
      "6  OFF   bph.11608..0_betx   False       4.78829       106.985       102.197 ('betx', 'bph.11608..0'), val=102.197, t ...\n"
     ]
    }
   ],
   "source": [
    "opt.target_status()"
   ]
  },
  {
   "cell_type": "code",
   "execution_count": 118,
   "id": "255e3e59",
   "metadata": {},
   "outputs": [
    {
     "data": {
      "text/plain": [
       "array([7.96227824, 7.96227824, 7.96227824, ..., 7.96227825, 7.96227825,\n",
       "       7.96227825], shape=(75281,))"
      ]
     },
     "execution_count": 118,
     "metadata": {},
     "output_type": "execute_result"
    }
   ],
   "source": [
    "tw.dx"
   ]
  },
  {
   "cell_type": "code",
   "execution_count": 117,
   "id": "cfad708e",
   "metadata": {},
   "outputs": [
    {
     "data": {
      "text/plain": [
       "np.float64(20.12621659018568)"
      ]
     },
     "execution_count": 117,
     "metadata": {},
     "output_type": "execute_result"
    }
   ],
   "source": [
    "# tw2 = line.twiss()\n",
    "tw2.qx"
   ]
  },
  {
   "cell_type": "code",
   "execution_count": null,
   "id": "00c19ee6",
   "metadata": {},
   "outputs": [],
   "source": []
  }
 ],
 "metadata": {
  "kernelspec": {
   "display_name": "xcoll",
   "language": "python",
   "name": "python3"
  },
  "language_info": {
   "codemirror_mode": {
    "name": "ipython",
    "version": 3
   },
   "file_extension": ".py",
   "mimetype": "text/x-python",
   "name": "python",
   "nbconvert_exporter": "python",
   "pygments_lexer": "ipython3",
   "version": "3.11.12"
  }
 },
 "nbformat": 4,
 "nbformat_minor": 5
}
