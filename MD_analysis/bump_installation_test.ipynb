{
 "cells": [
  {
   "cell_type": "code",
   "execution_count": 1,
   "id": "bcab65b1",
   "metadata": {},
   "outputs": [],
   "source": [
    "import numpy as np\n",
    "from pathlib import Path\n",
    "import time\n",
    "import matplotlib.pyplot as plt\n",
    "start_time = time.time()\n",
    "\n",
    "import xobjects as xo\n",
    "import xtrack as xt\n",
    "import xpart as xp\n",
    "import xobjects as xo\n",
    "import xcoll as xc\n",
    "\n",
    "# import apertls\n",
    "from matplotlib.colors import LogNorm"
   ]
  },
  {
   "cell_type": "code",
   "execution_count": 2,
   "id": "beeb2e79",
   "metadata": {},
   "outputs": [
    {
     "data": {
      "application/vnd.jupyter.widget-view+json": {
       "model_id": "eeaa72b0f8b94252990c7ec9f262e538",
       "version_major": 2,
       "version_minor": 0
      },
      "text/plain": [
       "Loading line from dict:   0%|          | 0/36381 [00:00<?, ?it/s]"
      ]
     },
     "metadata": {},
     "output_type": "display_data"
    },
    {
     "name": "stdout",
     "output_type": "stream",
     "text": [
      "Done loading line from dict.           \n"
     ]
    }
   ],
   "source": [
    "line = xt.Line.from_json('../injection_lines/sps_with_aperture_inj_q20_beam_sagitta.json')"
   ]
  },
  {
   "cell_type": "code",
   "execution_count": null,
   "id": "521687c7",
   "metadata": {},
   "outputs": [],
   "source": [
    "env = line.env\n",
    "\n",
    "line['bump.11207'] = 0\n",
    "line['bump.11407'] = 0\n",
    "line['bump.11607'] = 0\n",
    "line['bump.12207'] = 0\n",
    "\n",
    "line.ref['mdh.11207'].knl[0] += line.vars['bump.11207']\n",
    "line.ref['mdh.11407'].knl[0] += line.vars['bump.11407']\n",
    "line.ref['mdh.11607'].knl[0] += line.vars['bump.11607']\n",
    "line.ref['mdh.12207'].knl[0] += line.vars['bump.12207']"
   ]
  },
  {
   "cell_type": "code",
   "execution_count": null,
   "id": "73a9333b",
   "metadata": {},
   "outputs": [
    {
     "data": {
      "application/vnd.jupyter.widget-view+json": {
       "model_id": "0232ffa2458d4434a7eb004b7bc081f4",
       "version_major": 2,
       "version_minor": 0
      },
      "text/plain": [
       "Slicing line:   0%|          | 0/75278 [00:00<?, ?it/s]"
      ]
     },
     "metadata": {},
     "output_type": "display_data"
    }
   ],
   "source": [
    "#fix of tidp drift for later insertion of collimator\n",
    "tt = line.get_table()\n",
    "tw = line.twiss()\n",
    "s_start_tidp = line.get_s_position('tidp.11434..0')\n",
    "line.remove(tt.rows['tidp.*'].name)\n",
    "line.insert(env.place('tidp.11434', at=s_start_tidp), s_tol=1e-6)"
   ]
  },
  {
   "cell_type": "code",
   "execution_count": 9,
   "id": "a2688584",
   "metadata": {},
   "outputs": [],
   "source": [
    "line['bump.11207'] = -1.735856e-4\n",
    "line['bump.11407'] = 7.35268e-5\n",
    "line['bump.12207'] = 1.603007e-4"
   ]
  },
  {
   "cell_type": "code",
   "execution_count": 10,
   "id": "cbd1146d",
   "metadata": {},
   "outputs": [
    {
     "data": {
      "text/plain": [
       "Table: 75281 rows, 11 cols\n",
       "name                             s element_type        isthick isreplica parent_name iscollective ...\n",
       "sps$start                        0 Marker                False     False None               False\n",
       "begi.10010                       0 Marker                False     False None               False\n",
       "qf.10010                         0 Quadrupole             True     False None               False\n",
       "drift_0..0                   3.085 DriftSlice             True     False drift_0            False\n",
       "veqf.10010.b_aper           3.2504 LimitEllipse          False     False None               False\n",
       "drift_0..1                  3.2504 DriftSlice             True     False drift_0            False\n",
       "veba.10030.a_aper           3.2516 LimitRect             False     False None               False\n",
       "drift_0..2                  3.2516 DriftSlice             True     False drift_0            False\n",
       "mba.10030_entry            3.44499 Marker                False     False None               False\n",
       "mba.10030..entry_map       3.44499 ThinSliceRBendEntry   False     False mba.10030          False\n",
       "...\n",
       "drift_1904             6911.11 Drift           True     False None               False\n",
       "bph.63608..0           6911.13 DriftSlice      True     False bph.63608          False\n",
       "bph.63608.a_aper       6911.13 LimitRect      False     False None               False\n",
       "bph.63608..1           6911.13 DriftSlice      True     False bph.63608          False\n",
       "bph.63608.b_aper       6911.41 LimitRect      False     False None               False\n",
       "bph.63608..2           6911.41 DriftSlice      True     False bph.63608          False\n",
       "drift_1905             6911.41 Drift           True     False None               False\n",
       "end.10010               6911.5 Marker         False     False None               False\n",
       "sps$end                 6911.5 Marker         False     False None               False\n",
       "_end_point              6911.5                False     False None               False"
      ]
     },
     "execution_count": 10,
     "metadata": {},
     "output_type": "execute_result"
    }
   ],
   "source": [
    "tt"
   ]
  },
  {
   "cell_type": "code",
   "execution_count": 11,
   "id": "8a1ad0f4",
   "metadata": {},
   "outputs": [
    {
     "name": "stdout",
     "output_type": "stream",
     "text": [
      "name                              s element_type        isthick isreplica parent_name        ...\n",
      "mdh.12207                    703.43 Multipole             False     False None              \n",
      "drift_mdh.12207..2..0        703.43 DriftSlice             True     False drift_mdh.12207..2\n",
      "mdh.12207.b_aper            703.554 LimitRect             False     False None              \n",
      "drift_mdh.12207..2..1       703.554 DriftSlice             True     False drift_mdh.12207..2\n",
      "drift_194                   703.555 Drift                  True     False None              \n",
      "bph.12208..0                 703.58 DriftSlice             True     False bph.12208         \n",
      "bph.12208.a_aper             703.58 LimitRect             False     False None              \n",
      "bph.12208..1                 703.58 DriftSlice             True     False bph.12208         \n",
      "bph.12208.b_aper            703.854 LimitRect             False     False None              \n",
      "bph.12208..2                703.854 DriftSlice             True     False bph.12208         \n",
      "drift_195..0                703.855 DriftSlice             True     False drift_195         \n",
      "veqf.12210.a_aper           703.855 LimitEllipse          False     False None              \n",
      "drift_195..1                703.855 DriftSlice             True     False drift_195         \n",
      "qf.12210                     703.95 Quadrupole             True     False None              \n",
      "drift_196..0                707.035 DriftSlice             True     False drift_196         \n",
      "veqf.12210.b_aper             707.2 LimitEllipse          False     False None              \n",
      "drift_196..1                  707.2 DriftSlice             True     False drift_196         \n",
      "veba.12230.a_aper           707.201 LimitRect             False     False None              \n",
      "drift_196..2                707.201 DriftSlice             True     False drift_196         \n",
      "mba.12230_entry             707.394 Marker                False     False None              \n",
      "mba.12230..entry_map        707.394 ThinSliceRBendEntry   False     False mba.12230         \n",
      "mba.12230..0_aper2          707.394 LimitRect             False     False None              \n",
      "mba.12230..0                707.394 ThickSliceRBend        True     False mba.12230         \n",
      "mba.12230..1_aper2           708.02 LimitRect             False     False None              \n",
      "mba.12230..1                 708.02 ThickSliceRBend        True     False mba.12230         \n",
      "mba.12230..2_aper2          708.646 LimitRect             False     False None              \n",
      "mba.12230..2                708.646 ThickSliceRBend        True     False mba.12230         \n",
      "mba.12230..3_aper2          709.272 LimitRect             False     False None              \n",
      "mba.12230..3                709.272 ThickSliceRBend        True     False mba.12230         \n",
      "mba.12230..4_aper2          709.898 LimitRect             False     False None              \n",
      "mba.12230..4                709.898 ThickSliceRBend        True     False mba.12230         \n",
      "mba.12230..5_aper2          710.525 LimitRect             False     False None              \n",
      "mba.12230..5                710.525 ThickSliceRBend        True     False mba.12230         \n",
      "mba.12230..6_aper2          711.151 LimitRect             False     False None              \n",
      "mba.12230..6                711.151 ThickSliceRBend        True     False mba.12230         \n",
      "mba.12230..7_aper2          711.777 LimitRect             False     False None              \n",
      "mba.12230..7                711.777 ThickSliceRBend        True     False mba.12230         \n",
      "mba.12230..8_aper2          712.403 LimitRect             False     False None              \n",
      "mba.12230..8                712.403 ThickSliceRBend        True     False mba.12230         \n",
      "mba.12230..9_aper2          713.029 LimitRect             False     False None              \n",
      "mba.12230..9                713.029 ThickSliceRBend        True     False mba.12230         \n",
      "mba.12230..10_aper2         713.655 LimitRect             False     False None              \n",
      "mba.12230..exit_map         713.655 ThinSliceRBendExit    False     False mba.12230         \n",
      "mba.12230_exit              713.655 Marker                False     False None              \n",
      "drift_197..0                713.655 DriftSlice             True     False drift_197         \n",
      "veba.12230.b_aper            713.86 LimitRect             False     False None              \n",
      "drift_197..1                 713.86 DriftSlice             True     False drift_197         \n",
      "veba.12250.a_aper           713.861 LimitRect             False     False None              \n",
      "drift_197..2                713.861 DriftSlice             True     False drift_197         \n",
      "mba.12250_entry             714.054 Marker                False     False None              \n",
      "mba.12250..entry_map        714.054 ThinSliceRBendEntry   False     False mba.12250         \n"
     ]
    }
   ],
   "source": [
    "tt.rows['mdh.12207':'mdh.12207>>50'].show()"
   ]
  },
  {
   "cell_type": "code",
   "execution_count": 12,
   "id": "41a7362c",
   "metadata": {},
   "outputs": [
    {
     "data": {
      "text/plain": [
       "(-0.05, 0.05)"
      ]
     },
     "execution_count": 12,
     "metadata": {},
     "output_type": "execute_result"
    },
    {
     "data": {
      "image/png": "[encoded data removed]",
      "text/plain": [
       "<Figure size 640x480 with 1 Axes>"
      ]
     },
     "metadata": {},
     "output_type": "display_data"
    }
   ],
   "source": [
    "tw_bump = line.twiss(start='mdh.11207', end='mba.12230..0', init=tw)\n",
    "tw_bump2 = line.twiss()\n",
    "\n",
    "plt.figure()\n",
    "plt.plot(tw.s, tw.x)\n",
    "plt.plot(tw_bump.s, tw_bump.x)\n",
    "plt.plot(tw_bump2.s, tw_bump2.x)\n",
    "plt.vlines(s_start_tidp + 4.3, -0.05, 0.05, color='r', linestyle='--')\n",
    "plt.xlim(s_start_tidp-150, s_start_tidp+300)\n",
    "plt.ylim(-0.05, 0.05)"
   ]
  },
  {
   "cell_type": "code",
   "execution_count": 13,
   "id": "39d10a58",
   "metadata": {},
   "outputs": [
    {
     "name": "stdout",
     "output_type": "stream",
     "text": [
      "Matching: model call n. 16 penalty = 2.6625e-12              \r"
     ]
    }
   ],
   "source": [
    "opt = line.match(\n",
    "    method='6d',\n",
    "    vary=[\n",
    "        xt.VaryList(['bump.11207', 'bump.11407', 'bump.11607'], step=1e-8, tag='bump',)\n",
    "    ],\n",
    "    targets = [\n",
    "        xt.Target('x', -30e-3, at='tidp.11434'),\n",
    "        xt.TargetSet(['x', 'px'], value=tw, at='bph.11608..0')\n",
    "    ]\n",
    "    )"
   ]
  },
  {
   "cell_type": "code",
   "execution_count": 14,
   "id": "881f2943",
   "metadata": {},
   "outputs": [
    {
     "data": {
      "text/plain": [
       "(-0.0015, 0.001)"
      ]
     },
     "execution_count": 14,
     "metadata": {},
     "output_type": "execute_result"
    },
    {
     "data": {
      "image/png": "[encoded data removed]",
      "text/plain": [
       "<Figure size 640x480 with 1 Axes>"
      ]
     },
     "metadata": {},
     "output_type": "display_data"
    }
   ],
   "source": [
    "tw2 = line.twiss()\n",
    "plt.figure()\n",
    "plt.plot(tw.s, tw.x)\n",
    "plt.plot(tw2.s, tw2.x)\n",
    "plt.vlines(s_start_tidp, -0.00125, 0.00075, color='r', linestyle='--')\n",
    "plt.xlim(s_start_tidp-100, s_start_tidp+200)\n",
    "plt.ylim(-0.0015,0.001)"
   ]
  },
  {
   "cell_type": "code",
   "execution_count": 15,
   "id": "112e7f53",
   "metadata": {},
   "outputs": [
    {
     "data": {
      "text/plain": [
       "np.float64(511.5932000000015)"
      ]
     },
     "execution_count": 15,
     "metadata": {},
     "output_type": "execute_result"
    }
   ],
   "source": [
    "line.get_s_position('bph.11608..0')"
   ]
  },
  {
   "cell_type": "code",
   "execution_count": 16,
   "id": "40343033",
   "metadata": {},
   "outputs": [],
   "source": [
    "idx_mdh11207 = line.element_names.index('mdh.11207')\n",
    "idx_mdh11407 = line.element_names.index('mdh.11407')\n",
    "idx_mdh11607 = line.element_names.index('mdh.11607')\n",
    "idx_tidp = line.element_names.index('tidp.11434')\n",
    "\n",
    "opt = line.match(solve=False,\n",
    "                default_tol={None: 5e-8},\n",
    "                solver_options=dict(max_rel_penalty_increase=2.),\n",
    "                init=tw,\n",
    "                init_at=xt.START,\n",
    "                start='mba.11190..9',\n",
    "                end='bph.11608..0',\n",
    "                #init=tw.get_twiss_init(at_element='mba.11190..9'),\n",
    "                vary=[\n",
    "                    xt.VaryList(['bump.11207', 'bump.11407', 'bump.11607'], step=1e-10),\n",
    "                ],\n",
    "                targets=[\n",
    "                    xt.Target('x', at='tidp.11434', value=-30e-3, tol=1e-4),\n",
    "                    # I want the bump to be closed\n",
    "                    xt.TargetSet(['x', 'px', 'betx'], value=tw, tol=1e-7, at='mba.11190..9'),\n",
    "                    xt.TargetSet(['x', 'px', 'betx'], value=tw, tol=1e-7, at='bph.11608..0')\n",
    "                ]\n",
    "            )\n",
    "opt.assert_within_tol=False\n",
    "opt.restore_if_fail=False\n"
   ]
  },
  {
   "cell_type": "code",
   "execution_count": 17,
   "id": "9dbaf2dc",
   "metadata": {},
   "outputs": [
    {
     "name": "stdout",
     "output_type": "stream",
     "text": [
      "Target status:               alty = 2.9815e+00              \n",
      "id state tag               tol_met       residue   current_val    target_val description                                 \n",
      "0  ON    tidp.11434_x        False    0.00997171    -0.0200283         -0.03 ('x', 'tidp.11434'), val=-0.03, tol=0.00 ...\n",
      "1  ON    mba.11190..9_x       True             0  -7.10751e-06  -7.10751e-06 ('x', 'mba.11190..9'), val=-7.10751e-06, ...\n",
      "2  ON    mba.11190..9_px      True             0  -1.04155e-07  -1.04155e-07 ('px', 'mba.11190..9'), val=-1.04155e-07 ...\n",
      "3  ON    mba.11190..9_betx    True   2.84217e-14       93.7092       93.7092 ('betx', 'mba.11190..9'), val=93.7092, t ...\n",
      "4  ON    bph.11608..0_x      False   -0.00682622   -0.00638391   0.000442312 ('x', 'bph.11608..0'), val=0.000442312,  ...\n",
      "5  ON    bph.11608..0_px     False  -0.000264462  -0.000306581   -4.2119e-05 ('px', 'bph.11608..0'), val=-4.2119e-05, ...\n",
      "6  ON    bph.11608..0_betx   False       2.97889       105.175       102.197 ('betx', 'bph.11608..0'), val=102.197, t ...\n"
     ]
    }
   ],
   "source": [
    "opt.target_status()"
   ]
  },
  {
   "cell_type": "code",
   "execution_count": 18,
   "id": "d494c89b",
   "metadata": {},
   "outputs": [],
   "source": [
    "opt.disable_targets([3,6])"
   ]
  },
  {
   "cell_type": "code",
   "execution_count": 19,
   "id": "b6e06e8a",
   "metadata": {},
   "outputs": [
    {
     "name": "stdout",
     "output_type": "stream",
     "text": [
      "Matching: model call n. 12 penalty = 1.9123e-09              \r"
     ]
    },
    {
     "data": {
      "text/plain": [
       "<xtrack.match.OptimizeLine at 0x7f343563b390>"
      ]
     },
     "execution_count": 19,
     "metadata": {},
     "output_type": "execute_result"
    }
   ],
   "source": [
    "opt.solve()"
   ]
  },
  {
   "cell_type": "code",
   "execution_count": 20,
   "id": "bfd779ef",
   "metadata": {},
   "outputs": [
    {
     "name": "stdout",
     "output_type": "stream",
     "text": [
      "Target status:               nalty = 1.9123e-09              \n",
      "id state tag               tol_met       residue   current_val    target_val description                                 \n",
      "0  ON    tidp.11434_x         True   4.92467e-13         -0.03         -0.03 ('x', 'tidp.11434'), val=-0.03, tol=0.00 ...\n",
      "1  ON    mba.11190..9_x       True             0  -7.10751e-06  -7.10751e-06 ('x', 'mba.11190..9'), val=-7.10751e-06, ...\n",
      "2  ON    mba.11190..9_px      True             0  -1.04155e-07  -1.04155e-07 ('px', 'mba.11190..9'), val=-1.04155e-07 ...\n",
      "3  OFF   mba.11190..9_betx    True   2.84217e-14       93.7092       93.7092 ('betx', 'mba.11190..9'), val=93.7092, t ...\n",
      "4  ON    bph.11608..0_x       True   1.82589e-10   0.000442312   0.000442312 ('x', 'bph.11608..0'), val=0.000442312,  ...\n",
      "5  ON    bph.11608..0_px      True   5.68468e-12  -4.21189e-05   -4.2119e-05 ('px', 'bph.11608..0'), val=-4.2119e-05, ...\n",
      "6  OFF   bph.11608..0_betx   False       4.78829       106.985       102.197 ('betx', 'bph.11608..0'), val=102.197, t ...\n"
     ]
    }
   ],
   "source": [
    "opt.target_status()"
   ]
  },
  {
   "cell_type": "code",
   "execution_count": 21,
   "id": "255e3e59",
   "metadata": {},
   "outputs": [
    {
     "data": {
      "text/plain": [
       "array([7.96227824, 7.96227824, 7.96227824, ..., 7.96227825, 7.96227825,\n",
       "       7.96227825], shape=(75281,))"
      ]
     },
     "execution_count": 21,
     "metadata": {},
     "output_type": "execute_result"
    }
   ],
   "source": [
    "tw.dx"
   ]
  },
  {
   "cell_type": "code",
   "execution_count": 22,
   "id": "cfad708e",
   "metadata": {},
   "outputs": [
    {
     "data": {
      "text/plain": [
       "np.float64(20.12519548977536)"
      ]
     },
     "execution_count": 22,
     "metadata": {},
     "output_type": "execute_result"
    }
   ],
   "source": [
    "# tw2 = line.twiss()\n",
    "tw2.qx"
   ]
  },
  {
   "cell_type": "markdown",
   "id": "f44eeda0",
   "metadata": {},
   "source": [
    "# BPM data from xcoll eos"
   ]
  },
  {
   "cell_type": "code",
   "execution_count": 7,
   "id": "7ef85b65",
   "metadata": {},
   "outputs": [],
   "source": [
    "from pathlib import Path"
   ]
  },
  {
   "cell_type": "code",
   "execution_count": 8,
   "id": "00c19ee6",
   "metadata": {},
   "outputs": [],
   "source": [
    "directory_coll = Path('/eos/project-c/collimation-team/acquisition_data/SPS/20250430')"
   ]
  },
  {
   "cell_type": "code",
   "execution_count": 9,
   "id": "52e06653",
   "metadata": {},
   "outputs": [],
   "source": [
    "import awkward as ak"
   ]
  },
  {
   "cell_type": "code",
   "execution_count": 10,
   "id": "1f68be32",
   "metadata": {},
   "outputs": [],
   "source": [
    "def parse_custom_data_file(filename):\n",
    "    metadata = {}\n",
    "    data_blocks = []\n",
    "    current_block = None\n",
    "    headers = []\n",
    "\n",
    "    with open(filename) as f:\n",
    "        for line in f:\n",
    "            line = line.strip()\n",
    "            if not line:\n",
    "                continue\n",
    "            if line.startswith(\"@\"):\n",
    "                _, key, type_spec, *value = line.split(maxsplit=3)\n",
    "                value = value[0] if value else None\n",
    "                if type_spec == \"%d\":\n",
    "                    metadata[key] = int(value)\n",
    "                elif type_spec == \"%f\":\n",
    "                    metadata[key] = float(value)\n",
    "                elif type_spec == \"%s\":\n",
    "                    metadata[key] = value.strip('\"')\n",
    "            elif line.startswith(\"*\"):\n",
    "                # Start of a new data block\n",
    "                headers = line[1:].split()\n",
    "                current_block = []\n",
    "                data_blocks.append((headers, current_block))\n",
    "            elif line.startswith(\"#\"):\n",
    "                continue  # skip comments\n",
    "            else:\n",
    "                # Data row\n",
    "                if current_block is not None:\n",
    "                    parts = line.split()\n",
    "                    row = {}\n",
    "                    for i, header in enumerate(headers):\n",
    "                        value = parts[i]\n",
    "                        # Simple type inference\n",
    "                        try:\n",
    "                            if \".\" in value:\n",
    "                                row[header] = float(value)\n",
    "                            else:\n",
    "                                row[header] = int(value)\n",
    "                        except ValueError:\n",
    "                            row[header] = value\n",
    "                    current_block.append(row)\n",
    "\n",
    "    # Convert to awkward arrays\n",
    "    awkward_blocks = [ak.Array(block) for _, block in data_blocks]\n",
    "    return metadata, awkward_blocks\n"
   ]
  },
  {
   "cell_type": "code",
   "execution_count": 11,
   "id": "014eb0fa",
   "metadata": {},
   "outputs": [],
   "source": [
    "metadata, [monitor_data, corrector_data] = parse_custom_data_file(Path(directory_coll, 'ORBIT_SPSRING_2025-04-30_18-13-16_MD5_CY59_TR0.data'))"
   ]
  },
  {
   "cell_type": "code",
   "execution_count": null,
   "id": "b36d0681",
   "metadata": {},
   "outputs": [],
   "source": [
    "class BPMCollectionBehaviour(ak.Array):\n",
    "    "
   ]
  },
  {
   "cell_type": "code",
   "execution_count": 18,
   "id": "015c0566",
   "metadata": {},
   "outputs": [
    {
     "data": {
      "text/plain": [
       "{'YASP': 'V3.0',\n",
       " 'TYPE': 'POSITION',\n",
       " 'NUMBER-BEAMS': 1,\n",
       " 'MODE': 'CORBIT',\n",
       " 'TURN-NO': 0,\n",
       " 'BUNCH-ID': -1,\n",
       " 'ACCELERATOR': 'SPS',\n",
       " 'TRANSFER': 'SPSRING',\n",
       " 'TWISS': 'SPS-LHC-Q20-2021v1',\n",
       " 'MODEL-LINK': 'gitlab+https://gitlab.cern.ch/acc-models/acc-models-sps@v2025.2#SPS&optic=SPS-LHC-Q20-2021v1',\n",
       " 'SUPER-CONTEXT': 'MD_26_30_200_Q20_2025_V1',\n",
       " 'CONTEXT': 'MD_26_30_200_Q20_2025_V1',\n",
       " 'USER': 'SPS.USER.MD5',\n",
       " 'CYCNUM': 59,\n",
       " 'CYCTIME': 1,\n",
       " 'EXTRACTION': 0,\n",
       " 'P': 25.92,\n",
       " 'DPP': -0.304,\n",
       " 'DPP-FORCED': 0.0,\n",
       " 'DATE-CODE': 1746029596935,\n",
       " 'DATE': '30/04/25',\n",
       " 'TIME': '18-13-16',\n",
       " 'COMMENT': ' Type = Orbit ',\n",
       " 'RAWDATA': 'YES',\n",
       " 'HW-SETTINGS': 'false',\n",
       " 'MONITOR-H-NUM': 113,\n",
       " 'MONITOR-V-NUM': 114,\n",
       " 'CORRECTOR-H-NUM': 108,\n",
       " 'CORRECTOR-V-NUM': 108}"
      ]
     },
     "execution_count": 18,
     "metadata": {},
     "output_type": "execute_result"
    }
   ],
   "source": [
    "metadata"
   ]
  },
  {
   "cell_type": "code",
   "execution_count": 35,
   "id": "a102fb42",
   "metadata": {},
   "outputs": [],
   "source": [
    "tt = line.get_table()"
   ]
  },
  {
   "cell_type": "code",
   "execution_count": 41,
   "id": "5e7b9e76",
   "metadata": {},
   "outputs": [],
   "source": [
    "rows_name = tt.rows[f'.*{name}.*']"
   ]
  },
  {
   "cell_type": "code",
   "execution_count": 52,
   "id": "0a28f72d",
   "metadata": {},
   "outputs": [
    {
     "data": {
      "text/plain": [
       "'bpce.21604.a_aper'"
      ]
     },
     "execution_count": 52,
     "metadata": {},
     "output_type": "execute_result"
    }
   ],
   "source": [
    "rows_name.name[0]"
   ]
  },
  {
   "cell_type": "code",
   "execution_count": 15,
   "id": "27104ff2",
   "metadata": {},
   "outputs": [
    {
     "name": "stdout",
     "output_type": "stream",
     "text": [
      "bph.41608\n"
     ]
    }
   ],
   "source": [
    "h_pos = []\n",
    "h_rms = []\n",
    "h_name = []\n",
    "h_s = []\n",
    "for arr in monitor_data:\n",
    "    if arr['PLANE']=='H':\n",
    "        name = arr['NAME'].lower()\n",
    "        if name in line.element_dict:\n",
    "            h_pos.append(arr['POS'])\n",
    "            h_rms.append(arr['RMS'])\n",
    "            h_name.append(arr['NAME'])\n",
    "\n",
    "            rows = tt.rows[f'.*{name}.*']\n",
    "\n",
    "            if name in rows.name:\n",
    "                h_s.append(rows.s[np.where(rows.name==name)[0][0]])\n",
    "            else:\n",
    "                h_s.append(rows.s[np.where(rows.name==name+'..0')[0][0]])\n",
    "        else:\n",
    "            print(name)"
   ]
  },
  {
   "cell_type": "code",
   "execution_count": 13,
   "id": "ffd396de",
   "metadata": {},
   "outputs": [],
   "source": [
    "tw=line.twiss()"
   ]
  },
  {
   "cell_type": "code",
   "execution_count": 38,
   "id": "a6aff201",
   "metadata": {},
   "outputs": [
    {
     "data": {
      "text/plain": [
       "(-0.0001, 0.0001)"
      ]
     },
     "execution_count": 38,
     "metadata": {},
     "output_type": "execute_result"
    },
    {
     "data": {
      "image/png": "[encoded data removed]",
      "text/plain": [
       "<Figure size 640x480 with 1 Axes>"
      ]
     },
     "metadata": {},
     "output_type": "display_data"
    }
   ],
   "source": [
    "plt.figure()\n",
    "plt.plot(h_s,np.array(h_pos)*1e-9+ak.mean(tw.x))\n",
    "#plt.plot(tw.s, tw.x)\n",
    "plt.plot(h_s, np.array(h_rms)*1e-9+ak.mean(tw.x), 'r--')\n",
    "plt.plot(h_s, -np.array(h_rms)*1e-9+ak.mean(tw.x), 'r--')\n",
    "plt.ylim(-1e-4,1e-4)"
   ]
  },
  {
   "cell_type": "code",
   "execution_count": 24,
   "id": "0d0f512b",
   "metadata": {},
   "outputs": [
    {
     "data": {
      "text/plain": [
       "np.float64(-5.1689662877507255e-06)"
      ]
     },
     "execution_count": 24,
     "metadata": {},
     "output_type": "execute_result"
    }
   ],
   "source": [
    "ak.mean(tw.x)"
   ]
  },
  {
   "cell_type": "code",
   "execution_count": 25,
   "id": "e82da338",
   "metadata": {},
   "outputs": [
    {
     "data": {
      "text/plain": [
       "np.float64(6.59118712109669e-05)"
      ]
     },
     "execution_count": 25,
     "metadata": {},
     "output_type": "execute_result"
    }
   ],
   "source": [
    "ak.std(tw.x)"
   ]
  },
  {
   "cell_type": "code",
   "execution_count": null,
   "id": "afe67a2f",
   "metadata": {},
   "outputs": [
    {
     "data": {
      "text/plain": [
       "np.float64(-5.106950216322154e-06)"
      ]
     },
     "execution_count": 26,
     "metadata": {},
     "output_type": "execute_result"
    }
   ],
   "source": [
    "ak.mean(np.array(h_pos)*1e-9)+ak.mean(tw.x)"
   ]
  },
  {
   "cell_type": "code",
   "execution_count": 27,
   "id": "470c4850",
   "metadata": {},
   "outputs": [
    {
     "data": {
      "text/plain": [
       "np.float64(6.335671815876491e-06)"
      ]
     },
     "execution_count": 27,
     "metadata": {},
     "output_type": "execute_result"
    }
   ],
   "source": [
    "ak.std(np.array(h_pos)*1e-9)"
   ]
  },
  {
   "cell_type": "code",
   "execution_count": null,
   "id": "b233257a",
   "metadata": {},
   "outputs": [
    {
     "data": {
      "text/plain": [
       "View of DriftSlice(parent_name='bph.10208', _parent=Drift(length=0.275), radiation_flag=np.int64(10), delta_taper=0, weight=0.996)"
      ]
     },
     "execution_count": 36,
     "metadata": {},
     "output_type": "execute_result"
    }
   ],
   "source": [
    "line['bph.10208']"
   ]
  },
  {
   "cell_type": "code",
   "execution_count": 22,
   "id": "d4a536cc",
   "metadata": {},
   "outputs": [
    {
     "data": {
      "text/plain": [
       "Table: 5 rows, 11 cols\n",
       "name                         s element_type isthick isreplica parent_name iscollective ...\n",
       "bpv.62108..0           6431.17 DriftSlice      True     False bpv.62108          False\n",
       "bpv.62108.a_aper       6431.17 LimitRect      False     False None               False\n",
       "bpv.62108..1           6431.17 DriftSlice      True     False bpv.62108          False\n",
       "bpv.62108.b_aper       6431.44 LimitRect      False     False None               False\n",
       "bpv.62108..2           6431.44 DriftSlice      True     False bpv.62108          False"
      ]
     },
     "execution_count": 22,
     "metadata": {},
     "output_type": "execute_result"
    }
   ],
   "source": [
    "tt.rows['.*.62108.*']"
   ]
  },
  {
   "cell_type": "code",
   "execution_count": 25,
   "id": "566105c3",
   "metadata": {},
   "outputs": [
    {
     "data": {
      "text/plain": [
       "View of DriftSlice(parent_name='bpv.62108', _parent=Drift(length=0.275), radiation_flag=np.int64(10), delta_taper=0, weight=0.996)"
      ]
     },
     "execution_count": 25,
     "metadata": {},
     "output_type": "execute_result"
    }
   ],
   "source": [
    "line['bpv.62108..1']"
   ]
  },
  {
   "cell_type": "code",
   "execution_count": 24,
   "id": "f9914dcb",
   "metadata": {},
   "outputs": [
    {
     "data": {
      "text/plain": [
       "TwissTable: 75281 rows, 62 cols\n",
       "name                             s             x            px             y            py ...\n",
       "sps$start                        0   -1.1268e-05  -2.02305e-07   2.64263e-07  -1.97879e-08\n",
       "begi.10010                       0   -1.1268e-05  -2.02305e-07   2.64263e-07  -1.97879e-08\n",
       "qf.10010                         0   -1.1268e-05  -2.02305e-07   2.64263e-07  -1.97879e-08\n",
       "drift_0..0                   3.085  -1.12656e-05   2.03905e-07   2.16785e-07   -1.1274e-08\n",
       "veqf.10010.b_aper           3.2504  -1.12318e-05   2.03905e-07    2.1492e-07   -1.1274e-08\n",
       "drift_0..1                  3.2504  -1.12318e-05   2.03905e-07    2.1492e-07   -1.1274e-08\n",
       "veba.10030.a_aper           3.2516  -1.12316e-05   2.03905e-07   2.14907e-07   -1.1274e-08\n",
       "drift_0..2                  3.2516  -1.12316e-05   2.03905e-07   2.14907e-07   -1.1274e-08\n",
       "mba.10030_entry            3.44499  -1.11922e-05   2.03905e-07   2.12727e-07   -1.1274e-08\n",
       "mba.10030..entry_map       3.44499  -1.11922e-05   2.03905e-07   2.12727e-07   -1.1274e-08\n",
       "...\n",
       "drift_1904             6911.11  -1.11881e-05  -2.02305e-07   2.72079e-07  -1.97879e-08\n",
       "bph.63608..0           6911.13  -1.11932e-05  -2.02305e-07   2.71584e-07  -1.97879e-08\n",
       "bph.63608.a_aper       6911.13  -1.11933e-05  -2.02305e-07   2.71573e-07  -1.97879e-08\n",
       "bph.63608..1           6911.13  -1.11933e-05  -2.02305e-07   2.71573e-07  -1.97879e-08\n",
       "bph.63608.b_aper       6911.41  -1.12487e-05  -2.02305e-07   2.66155e-07  -1.97879e-08\n",
       "bph.63608..2           6911.41  -1.12487e-05  -2.02305e-07   2.66155e-07  -1.97879e-08\n",
       "drift_1905             6911.41  -1.12488e-05  -2.02305e-07   2.66143e-07  -1.97879e-08\n",
       "end.10010               6911.5   -1.1268e-05  -2.02305e-07   2.64263e-07  -1.97879e-08\n",
       "sps$end                 6911.5   -1.1268e-05  -2.02305e-07   2.64263e-07  -1.97879e-08\n",
       "_end_point              6911.5   -1.1268e-05  -2.02305e-07   2.64263e-07  -1.97879e-08"
      ]
     },
     "execution_count": 24,
     "metadata": {},
     "output_type": "execute_result"
    }
   ],
   "source": [
    "line.twiss()"
   ]
  },
  {
   "cell_type": "code",
   "execution_count": null,
   "id": "01e69c48",
   "metadata": {},
   "outputs": [],
   "source": []
  }
 ],
 "metadata": {
  "kernelspec": {
   "display_name": "xsuite",
   "language": "python",
   "name": "python3"
  },
  "language_info": {
   "codemirror_mode": {
    "name": "ipython",
    "version": 3
   },
   "file_extension": ".py",
   "mimetype": "text/x-python",
   "name": "python",
   "nbconvert_exporter": "python",
   "pygments_lexer": "ipython3",
   "version": "3.13.2"
  }
 },
 "nbformat": 4,
 "nbformat_minor": 5
}
