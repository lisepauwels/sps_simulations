{
 "cells": [
  {
   "cell_type": "code",
   "execution_count": 1,
   "metadata": {},
   "outputs": [],
   "source": [
    "import xtrack as xt\n",
    "import numpy as np\n",
    "import matplotlib.pyplot as plt\n",
    "from pathlib import Path\n",
    "import apertls"
   ]
  },
  {
   "cell_type": "code",
   "execution_count": 2,
   "metadata": {},
   "outputs": [
    {
     "data": {
      "application/vnd.jupyter.widget-view+json": {
       "model_id": "80bef390dbe545d78c8c11c2ba519207",
       "version_major": 2,
       "version_minor": 0
      },
      "text/plain": [
       "Loading line from dict:   0%|          | 0/31362 [00:00<?, ?it/s]"
      ]
     },
     "metadata": {},
     "output_type": "display_data"
    },
    {
     "name": "stdout",
     "output_type": "stream",
     "text": [
      "Done loading line from dict.           \n"
     ]
    }
   ],
   "source": [
    "path_lines = Path('/Users/gebruiker/sps_simulations/injection_lines')\n",
    "line = xt.Line.from_json(Path(path_lines, 'injection_thin_approx_ap_with_deferred_expressions.json'))\n",
    "#line = xt.Line.from_json(Path(path_lines, 'sps_lhc_q20_rf_with_ap.json'))\n",
    "#Set cavitiy voltages correctly\n",
    "line['acl.31735'].frequency = 800e6\n",
    "line['acl.31735'].voltage = 2 * 0.18e6\n",
    "line['acl.31735'].lag = 180\n",
    "\n",
    "line['actcse.31632'].frequency = 200e6\n",
    "line['actcse.31632'].voltage = 4.5e6\n",
    "line['actcse.31632'].lag = 180\n",
    "\n",
    "tw_ref = line.twiss4d()\n",
    "\n",
    "for name in line.element_names:\n",
    "    if line[name].__class__.__name__.startswith('Limit') or line[name].__class__.__name__.startswith('Multipole'):\n",
    "        #Dogleg in LSS5 for extraction\n",
    "        if 'qd.51710' in name:\n",
    "            line[name].shift_y = -5.273e-3\n",
    "        elif 'qfa.51810' in name:\n",
    "            line[name].shift_y = -17.369e-3\n",
    "        elif 'qd.51910' in name:\n",
    "            line[name].shift_y = -5.273e-3\n",
    "        #Dogleg in LSS1 for injection\n",
    "        elif 'qd.11710' in name:\n",
    "            line[name].shift_x = -4.80e-3\n",
    "        elif 'qfa.11810' in name:\n",
    "            line[name].shift_x = -2.97e-3\n",
    "        elif 'qda.11910' in name:\n",
    "            line[name].shift_x = -4.80e-3\n",
    "    \n",
    "    elif line[name].__class__.__name__.startswith('ThinSliceQuadrupole'):\n",
    "        line['qd.51710'].shift_y = -5.273e-3\n",
    "        line['qfa.51810'].shift_y = -17.369e-3\n",
    "        line['qd.51910'].shift_y = -5.273e-3\n",
    "        line['qd.11710'].shift_x = -4.80e-3 #Hannes Thesis says qda.\n",
    "        line['qf.11810'].shift_x = -2.97e-3 #Hannes Thesis says qfa.\n",
    "        line['qda.11910'].shift_x = -4.80e-3\n",
    "\n",
    "tw_before = line.twiss4d()\n",
    "tw = line.twiss()"
   ]
  },
  {
   "cell_type": "code",
   "execution_count": 3,
   "metadata": {},
   "outputs": [],
   "source": [
    "tt = line.get_table()\n",
    "bend_elements = np.union1d(tt.rows['mba.*'].name, tt.rows['mbb.*'].name)"
   ]
  },
  {
   "cell_type": "code",
   "execution_count": null,
   "metadata": {},
   "outputs": [],
   "source": [
    "ap_manager = apertls.ManageApertures(line)\n",
    "associated_apertures = ap_manager.find_associated_apertures()"
   ]
  },
  {
   "cell_type": "code",
   "execution_count": null,
   "metadata": {},
   "outputs": [
    {
     "name": "stdout",
     "output_type": "stream",
     "text": [
      "ok\n"
     ]
    }
   ],
   "source": [
    "bend_elements = np.union1d(tt.rows['mba.*'].name, tt.rows['mbb.*'].name)\n",
    "\n",
    "for name in bend_elements:\n",
    "    if hasattr(line[name], '_parent'):\n",
    "        L = line[name]._parent.length\n",
    "        R = 1/line[name]._parent.k0"
   ]
  },
  {
   "cell_type": "code",
   "execution_count": 10,
   "metadata": {},
   "outputs": [],
   "source": [
    "def sagitta_circle(dipole_length, dipole_bending_radius, dipole_s_start, s):\n",
    "    t = np.acos((s - dipole_s_start)/dipole_bending_radius)\n",
    "    R_prime = dipole_bending_radius - np.sqrt(dipole_bending_radius**2 - dipole_length**2/4)\n",
    "\n",
    "    return dipole_bending_radius*np.sin(t) - (dipole_bending_radius-R_prime)"
   ]
  },
  {
   "cell_type": "code",
   "execution_count": 7,
   "metadata": {},
   "outputs": [
    {
     "data": {
      "text/plain": [
       "array(['mba.10030..0', 'mba.10030..0_aper_downstream',\n",
       "       'mba.10030..0_aper_upstream', 'mba.10030..1',\n",
       "       'mba.10030..1_aper_downstream', 'mba.10030..1_aper_upstream',\n",
       "       'mba.10030..entry_map', 'mba.10030..entry_map_aper_downstream',\n",
       "       'mba.10030..entry_map_aper_upstream', 'mba.10030..exit_map',\n",
       "       'mba.10030..exit_map_aper_downstream',\n",
       "       'mba.10030..exit_map_aper_upstream', 'mba.10030_entry',\n",
       "       'mba.10030_entry_aper_downstream', 'mba.10030_entry_aper_upstream',\n",
       "       'mba.10030_exit', 'mba.10030_exit_aper_downstream',\n",
       "       'mba.10030_exit_aper_upstream', 'mba.10050..0',\n",
       "       'mba.10050..0_aper_downstream', 'mba.10050..0_aper_upstream',\n",
       "       'mba.10050..1', 'mba.10050..1_aper_downstream',\n",
       "       'mba.10050..1_aper_upstream', 'mba.10050..entry_map',\n",
       "       'mba.10050..entry_map_aper_downstream',\n",
       "       'mba.10050..entry_map_aper_upstream', 'mba.10050..exit_map',\n",
       "       'mba.10050..exit_map_aper_downstream',\n",
       "       'mba.10050..exit_map_aper_upstream'], dtype=object)"
      ]
     },
     "execution_count": 7,
     "metadata": {},
     "output_type": "execute_result"
    }
   ],
   "source": [
    "bend_elements[:30]"
   ]
  },
  {
   "cell_type": "code",
   "execution_count": 18,
   "metadata": {},
   "outputs": [
    {
     "data": {
      "text/plain": [
       "17477"
      ]
     },
     "execution_count": 18,
     "metadata": {},
     "output_type": "execute_result"
    }
   ],
   "source": [
    "line.element_names.index('qd.41510..0')\n"
   ]
  },
  {
   "cell_type": "code",
   "execution_count": 20,
   "metadata": {},
   "outputs": [
    {
     "name": "stdout",
     "output_type": "stream",
     "text": [
      "lsd.41505..0\n",
      "lsd.41505..0_aper_downstream\n",
      "drift_lsd.41505..1\n",
      "lsd.41505_exit_aper_upstream\n",
      "lsd.41505_exit\n",
      "lsd.41505_exit_aper_downstream\n",
      "drift_1065\n",
      "drift_mdv.41507..1\n",
      "mdv.41507_aper_upstream\n",
      "mdv.41507\n",
      "mdv.41507_aper_downstream\n",
      "drift_mdv.41507..2\n",
      "drift_1066\n",
      "bpv.41508\n",
      "drift_1067\n",
      "qd.41510_entry_aper_upstream\n",
      "qd.41510_entry\n",
      "qd.41510_entry_aper_downstream\n",
      "drift_qd.41510..0\n",
      "qd.41510..0_aper_upstream\n",
      "qd.41510..0\n",
      "qd.41510..0_aper_downstream\n",
      "drift_qd.41510..1\n",
      "qd.41510..1_aper_upstream\n",
      "qd.41510..1\n",
      "qd.41510..1_aper_downstream\n",
      "drift_qd.41510..2\n",
      "qd.41510..2_aper_upstream\n",
      "qd.41510..2\n",
      "qd.41510..2_aper_downstream\n",
      "drift_qd.41510..3\n",
      "qd.41510..3_aper_upstream\n",
      "qd.41510..3\n",
      "qd.41510..3_aper_downstream\n",
      "drift_qd.41510..4\n",
      "qd.41510..4_aper_upstream\n",
      "qd.41510..4\n",
      "qd.41510..4_aper_downstream\n",
      "drift_qd.41510..5\n",
      "qd.41510..5_aper_upstream\n"
     ]
    }
   ],
   "source": [
    "for name in line.element_names[17477-20:17477+20]:\n",
    "    print(name)"
   ]
  },
  {
   "cell_type": "code",
   "execution_count": 56,
   "metadata": {},
   "outputs": [
    {
     "ename": "AttributeError",
     "evalue": "'LimitRect' object has no attribute '_parent'",
     "output_type": "error",
     "traceback": [
      "\u001b[0;31m---------------------------------------------------------------------------\u001b[0m",
      "\u001b[0;31mAttributeError\u001b[0m                            Traceback (most recent call last)",
      "Cell \u001b[0;32mIn[56], line 1\u001b[0m\n\u001b[0;32m----> 1\u001b[0m \u001b[43mline\u001b[49m\u001b[43m[\u001b[49m\u001b[38;5;124;43m'\u001b[39;49m\u001b[38;5;124;43mmba.10030_entry_aper_downstream\u001b[39;49m\u001b[38;5;124;43m'\u001b[39;49m\u001b[43m]\u001b[49m\u001b[38;5;241;43m.\u001b[39;49m\u001b[43m_parent\u001b[49m\n",
      "File \u001b[0;32m~/Xsuite/xdeps/xdeps/madxutils.py:211\u001b[0m, in \u001b[0;36mView.__getattr__\u001b[0;34m(self, key)\u001b[0m\n\u001b[1;32m    210\u001b[0m \u001b[38;5;28;01mdef\u001b[39;00m\u001b[38;5;250m \u001b[39m\u001b[38;5;21m__getattr__\u001b[39m(\u001b[38;5;28mself\u001b[39m, key):\n\u001b[0;32m--> 211\u001b[0m     val \u001b[38;5;241m=\u001b[39m \u001b[38;5;28;43mgetattr\u001b[39;49m\u001b[43m(\u001b[49m\u001b[38;5;28;43mself\u001b[39;49m\u001b[38;5;241;43m.\u001b[39;49m\u001b[43m_obj\u001b[49m\u001b[43m,\u001b[49m\u001b[43m \u001b[49m\u001b[43mkey\u001b[49m\u001b[43m)\u001b[49m\n\u001b[1;32m    212\u001b[0m     \u001b[38;5;28;01mif\u001b[39;00m \u001b[38;5;28mhasattr\u001b[39m(val, \u001b[38;5;124m\"\u001b[39m\u001b[38;5;124m__setitem__\u001b[39m\u001b[38;5;124m\"\u001b[39m):\n\u001b[1;32m    213\u001b[0m         \u001b[38;5;28;01mreturn\u001b[39;00m View(val, \u001b[38;5;28mgetattr\u001b[39m(\u001b[38;5;28mself\u001b[39m\u001b[38;5;241m.\u001b[39m_ref, key), \u001b[38;5;28mself\u001b[39m\u001b[38;5;241m.\u001b[39m_eval)\n",
      "\u001b[0;31mAttributeError\u001b[0m: 'LimitRect' object has no attribute '_parent'"
     ]
    }
   ],
   "source": [
    "line['mba.10030_entry_aper_downstream']._parent"
   ]
  },
  {
   "cell_type": "code",
   "execution_count": null,
   "metadata": {},
   "outputs": [],
   "source": []
  },
  {
   "cell_type": "code",
   "execution_count": null,
   "metadata": {},
   "outputs": [],
   "source": [
    "def beam_sagitta_calc(R, theta, nb_points):\n",
    "    "
   ]
  },
  {
   "cell_type": "code",
   "execution_count": null,
   "metadata": {},
   "outputs": [],
   "source": [
    "plt.figure()\n",
    "R = 3\n",
    "theta = np.pi/4\n",
    "s = np.arange(R*np.cos(-theta), R*np.cos(theta))\n",
    "x = \n",
    "plt.plot()"
   ]
  },
  {
   "cell_type": "code",
   "execution_count": 46,
   "metadata": {},
   "outputs": [
    {
     "data": {
      "text/plain": [
       "Table: 18 rows, 11 cols\n",
       "name                                             s element_type       isthick isreplica ...\n",
       "mbb.10070_entry_aper_upstream               16.755 LimitRect            False     False\n",
       "mbb.10070_entry                             16.755 Marker               False     False\n",
       "mbb.10070_entry_aper_downstream             16.755 LimitRect            False     False\n",
       "mbb.10070..entry_map_aper_upstream          16.755 LimitRect            False     False\n",
       "mbb.10070..entry_map                        16.755 ThinSliceBendEntry   False     False\n",
       "mbb.10070..entry_map_aper_downstream        16.755 LimitRect            False     False\n",
       "mbb.10070..0_aper_upstream                 17.7983 LimitRect            False     False\n",
       "mbb.10070..0                               17.7983 ThinSliceBend        False     False\n",
       "mbb.10070..0_aper_downstream               17.7983 LimitRect            False     False\n",
       "mbb.10070..1_aper_upstream                 21.9717 LimitRect            False     False\n",
       "mbb.10070..1                               21.9717 ThinSliceBend        False     False\n",
       "mbb.10070..1_aper_downstream               21.9717 LimitRect            False     False\n",
       "mbb.10070..exit_map_aper_upstream           23.015 LimitRect            False     False\n",
       "mbb.10070..exit_map                         23.015 ThinSliceBendExit    False     False\n",
       "mbb.10070..exit_map_aper_downstream         23.015 LimitRect            False     False\n",
       "mbb.10070_exit_aper_upstream                23.015 LimitRect            False     False\n",
       "mbb.10070_exit                              23.015 Marker               False     False\n",
       "mbb.10070_exit_aper_downstream              23.015 LimitRect            False     False"
      ]
     },
     "execution_count": 46,
     "metadata": {},
     "output_type": "execute_result"
    }
   ],
   "source": [
    "tt.rows['mbb.10070.*']"
   ]
  },
  {
   "cell_type": "code",
   "execution_count": 48,
   "metadata": {},
   "outputs": [
    {
     "data": {
      "text/plain": [
       "Bend(length=6.26, k0=0.00135, k1=0, h=0.00135, k0_from_h=False, model='adaptive', knl=array([0., 0., 0., 0., 0., 0.]), ksl=array([0., 0., 0., 0., 0., 0.]), edge_entry_active=np.int64(1), edge_exit_active=np.int64(1), edge_entry_model='linear', edge_exit_model='linear', edge_entry_angle=0.00422, edge_exit_angle=0.00422, edge_entry_angle_fdown=0, edge_exit_angle_fdown=0, edge_entry_fint=0, edge_exit_fint=0, edge_entry_hgap=0, edge_exit_hgap=0, shift_x=0, shift_y=0, rot_s_rad=0)"
      ]
     },
     "execution_count": 48,
     "metadata": {},
     "output_type": "execute_result"
    }
   ],
   "source": [
    "line['mbb.10070..0']._parent"
   ]
  },
  {
   "cell_type": "code",
   "execution_count": null,
   "metadata": {},
   "outputs": [
    {
     "data": {
      "text/plain": [
       "array(['mba.10030..0', 'mba.10030..0_aper_downstream',\n",
       "       'mba.10030..0_aper_upstream', ..., 'mbb.63550_exit',\n",
       "       'mbb.63550_exit_aper_downstream', 'mbb.63550_exit_aper_upstream'],\n",
       "      shape=(13392,), dtype=object)"
      ]
     },
     "execution_count": 51,
     "metadata": {},
     "output_type": "execute_result"
    }
   ],
   "source": [
    "bend_elements = np.union1d(tt.rows['mba.*'].name, tt.rows['mbb.*'].name)"
   ]
  },
  {
   "cell_type": "code",
   "execution_count": null,
   "metadata": {},
   "outputs": [],
   "source": []
  }
 ],
 "metadata": {
  "kernelspec": {
   "display_name": "xsuite2",
   "language": "python",
   "name": "python3"
  },
  "language_info": {
   "codemirror_mode": {
    "name": "ipython",
    "version": 3
   },
   "file_extension": ".py",
   "mimetype": "text/x-python",
   "name": "python",
   "nbconvert_exporter": "python",
   "pygments_lexer": "ipython3",
   "version": "3.13.1"
  }
 },
 "nbformat": 4,
 "nbformat_minor": 2
}
