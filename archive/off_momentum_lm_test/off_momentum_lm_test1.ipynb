{
 "cells": [
  {
   "cell_type": "code",
   "execution_count": 1,
   "id": "2dd3b535",
   "metadata": {},
   "outputs": [],
   "source": [
    "import numpy as np\n",
    "from pathlib import Path\n",
    "import time\n",
    "import matplotlib.pyplot as plt\n",
    "start_time = time.time()\n",
    "\n",
    "import xobjects as xo\n",
    "import xtrack as xt\n",
    "import xpart as xp\n",
    "import xobjects as xo\n",
    "import xcoll as xc\n",
    "\n",
    "import apertls\n",
    "from matplotlib.colors import LogNorm"
   ]
  },
  {
   "cell_type": "code",
   "execution_count": 2,
   "id": "6e976fb0",
   "metadata": {},
   "outputs": [],
   "source": [
    "# This script takes around 8 minutes on a modern CPU (80s preparation+interpolation, 400s tracking)\n",
    "beam = 1\n",
    "plane = 'DNeg'#'DPpos'\n",
    "\n",
    "num_particles  = 5000\n",
    "sweep          = 3500\n",
    "sweep          = -abs(sweep) if plane == 'DPpos' else abs(sweep)\n",
    "#num_turns      = int(20*abs(sweep))\n",
    "num_turns=6000"
   ]
  },
  {
   "cell_type": "code",
   "execution_count": 3,
   "id": "78aa1879",
   "metadata": {},
   "outputs": [],
   "source": [
    "nemitt_x = 3.5e-6\n",
    "nemitt_y = 3.5e-6"
   ]
  },
  {
   "cell_type": "code",
   "execution_count": 4,
   "id": "f8687c7f",
   "metadata": {},
   "outputs": [
    {
     "data": {
      "application/vnd.jupyter.widget-view+json": {
       "model_id": "57beec161f3d4ecba38544560cfd0104",
       "version_major": 2,
       "version_minor": 0
      },
      "text/plain": [
       "Loading line from dict:   0%|          | 0/36381 [00:00<?, ?it/s]"
      ]
     },
     "metadata": {},
     "output_type": "display_data"
    },
    {
     "name": "stdout",
     "output_type": "stream",
     "text": [
      "Done loading line from dict.           \n"
     ]
    }
   ],
   "source": [
    "line = xt.Line.from_json('../injection_lines/sps_with_aperture_inj_q20_beam_sagitta.json')\n",
    "\n",
    "#setting all cavities to 200 (even 800 cavities) because rf sweep not implemented\n",
    "cavity_elements, cavity_names = line.get_elements_of_type(xt.Cavity)\n",
    "for name in cavity_names:\n",
    "    line[name].frequency = 200e6\n",
    "    line[name].lag = 180\n",
    "\n",
    "line['acl.31735'].voltage = 0\n"
   ]
  },
  {
   "cell_type": "code",
   "execution_count": 5,
   "id": "6bbea358",
   "metadata": {},
   "outputs": [],
   "source": [
    "  #    cavities_200_all = [\n",
    "    #     'actcse.31632', 'actcse.31637', 'actcse.31654', \n",
    "    #     'actcsf.31672', 'actcsf.31678', 'actcsf.31695', \n",
    "    #     'actcsg.31751', 'actcsg.31758', 'actcsg.31774', 'actcsg.31780', \n",
    "    #     'actcsh.31832', 'actcsh.31838', 'actcsh.31854', \n",
    "    #     'actcsi.31872', 'actcsi.31878', 'actcsi.31895', \n",
    "    #     'actcsj.31952', 'actcsj.31958', 'actcsj.31974', 'actcsj.31991'\n",
    "    # ]\n",
    "    # cavities_800_all = [\n",
    "    #     'acl.31735', 'acl.31936'\n",
    "    # ]"
   ]
  },
  {
   "cell_type": "code",
   "execution_count": 6,
   "id": "96cfaf77",
   "metadata": {},
   "outputs": [],
   "source": [
    "tw = line.twiss()"
   ]
  },
  {
   "cell_type": "code",
   "execution_count": 7,
   "id": "ba9f13f7",
   "metadata": {},
   "outputs": [],
   "source": [
    "line.collimators.assign_optics()"
   ]
  },
  {
   "cell_type": "code",
   "execution_count": 8,
   "id": "01b0d731",
   "metadata": {},
   "outputs": [
    {
     "name": "stdout",
     "output_type": "stream",
     "text": [
      "*** Maximum RMS bunch length 0.23610110213554214m.\n",
      "... distance to target bunch length: -2.2226e-01\n",
      "... distance to target bunch length: 5.5784e-03\n",
      "... distance to target bunch length: 5.2361e-03\n",
      "... distance to target bunch length: -6.3267e-03\n",
      "... distance to target bunch length: 1.9948e-03\n",
      "... distance to target bunch length: -3.8258e-04\n",
      "... distance to target bunch length: 5.3833e-05\n",
      "... distance to target bunch length: 1.2594e-06\n",
      "... distance to target bunch length: -1.0995e-10\n",
      "... distance to target bunch length: 1.2805e-07\n",
      "--> Bunch length: 0.22399999989004873\n",
      "--> Emittance: 0.3420941521103455\n"
     ]
    }
   ],
   "source": [
    "part = xp.generate_matched_gaussian_bunch(nemitt_x=nemitt_x,\n",
    "                                          nemitt_y=nemitt_y,\n",
    "                                          sigma_z=0.224, num_particles=num_particles, line=line)"
   ]
  },
  {
   "cell_type": "code",
   "execution_count": 9,
   "id": "845ed093",
   "metadata": {},
   "outputs": [],
   "source": [
    "part.to_json('test.json')"
   ]
  },
  {
   "cell_type": "code",
   "execution_count": 9,
   "id": "d36582bd",
   "metadata": {},
   "outputs": [
    {
     "name": "stdout",
     "output_type": "stream",
     "text": [
      "The line already has an associated tracker\n"
     ]
    },
    {
     "data": {
      "text/plain": [
       "<xtrack.tracker.Tracker at 0x7f62eb4db4d0>"
      ]
     },
     "execution_count": 9,
     "metadata": {},
     "output_type": "execute_result"
    }
   ],
   "source": [
    "line.build_tracker(_context=xo.ContextCpu(omp_num_threads='25'))"
   ]
  },
  {
   "cell_type": "code",
   "execution_count": 10,
   "id": "cb2aa044",
   "metadata": {},
   "outputs": [
    {
     "name": "stdout",
     "output_type": "stream",
     "text": [
      "The current frequency is 200000000.0Hz, adding 0.8333333333333334Hz per turn until 200005000.0 (for 6000 turns).\n",
      "This sweep will move the center of the bucket with Δδ = -0.0139059583860353 (-1.9066513231874502 buckets).\n"
     ]
    }
   ],
   "source": [
    "rf_sweep = xc.RFSweep(line)\n",
    "rf_sweep.info(sweep=sweep, num_turns=num_turns)"
   ]
  },
  {
   "cell_type": "code",
   "execution_count": 11,
   "id": "d6ccc8e7",
   "metadata": {},
   "outputs": [
    {
     "name": "stdout",
     "output_type": "stream",
     "text": [
      "No xcoll elements found in line.\n"
     ]
    },
    {
     "data": {
      "application/vnd.jupyter.widget-view+json": {
       "model_id": "e01ed7e67a324f29971c64ae33ccb9f8",
       "version_major": 2,
       "version_minor": 0
      },
      "text/plain": [
       "Tracking:   0%|          | 0/6000 [00:00<?, ?it/s]"
      ]
     },
     "metadata": {},
     "output_type": "display_data"
    },
    {
     "ename": "KeyboardInterrupt",
     "evalue": "",
     "output_type": "error",
     "traceback": [
      "\u001b[31m---------------------------------------------------------------------------\u001b[39m",
      "\u001b[31mKeyboardInterrupt\u001b[39m                         Traceback (most recent call last)",
      "\u001b[36mCell\u001b[39m\u001b[36m \u001b[39m\u001b[32mIn[11]\u001b[39m\u001b[32m, line 2\u001b[39m\n\u001b[32m      1\u001b[39m line.scattering.enable()\n\u001b[32m----> \u001b[39m\u001b[32m2\u001b[39m \u001b[43mrf_sweep\u001b[49m\u001b[43m.\u001b[49m\u001b[43mtrack\u001b[49m\u001b[43m(\u001b[49m\u001b[43msweep\u001b[49m\u001b[43m=\u001b[49m\u001b[43msweep\u001b[49m\u001b[43m,\u001b[49m\u001b[43m \u001b[49m\u001b[43mparticles\u001b[49m\u001b[43m=\u001b[49m\u001b[43mpart\u001b[49m\u001b[43m,\u001b[49m\u001b[43m \u001b[49m\u001b[43mnum_turns\u001b[49m\u001b[43m=\u001b[49m\u001b[43mnum_turns\u001b[49m\u001b[43m,\u001b[49m\u001b[43m \u001b[49m\u001b[43mtime\u001b[49m\u001b[43m=\u001b[49m\u001b[38;5;28;43;01mTrue\u001b[39;49;00m\u001b[43m,\u001b[49m\u001b[43m \u001b[49m\u001b[43mwith_progress\u001b[49m\u001b[43m=\u001b[49m\u001b[32;43m5\u001b[39;49m\u001b[43m)\u001b[49m\n\u001b[32m      3\u001b[39m line.scattering.disable()\n\u001b[32m      4\u001b[39m \u001b[38;5;28mprint\u001b[39m(\u001b[33mf\u001b[39m\u001b[33m\"\u001b[39m\u001b[33mDone sweeping RF in \u001b[39m\u001b[38;5;132;01m{\u001b[39;00mline.time_last_track\u001b[38;5;132;01m:\u001b[39;00m\u001b[33m.1f\u001b[39m\u001b[38;5;132;01m}\u001b[39;00m\u001b[33ms.\u001b[39m\u001b[33m\"\u001b[39m)\n",
      "\u001b[36mFile \u001b[39m\u001b[32m~/Xsuite/xcoll/xcoll/rf_sweep.py:164\u001b[39m, in \u001b[36mRFSweep.track\u001b[39m\u001b[34m(self, sweep, particles, num_turns, verbose, *args, **kwargs)\u001b[39m\n\u001b[32m    162\u001b[39m     one_turn_kwargs[\u001b[33m'\u001b[39m\u001b[33mele_stop\u001b[39m\u001b[33m'\u001b[39m] = \u001b[38;5;28;01mNone\u001b[39;00m\n\u001b[32m    163\u001b[39m     one_turn_kwargs[\u001b[33m'\u001b[39m\u001b[33m_reset_log\u001b[39m\u001b[33m'\u001b[39m] = \u001b[38;5;28;01mFalse\u001b[39;00m\n\u001b[32m--> \u001b[39m\u001b[32m164\u001b[39m \u001b[38;5;28;43mself\u001b[39;49m\u001b[43m.\u001b[49m\u001b[43m_tracking_func\u001b[49m\u001b[43m(\u001b[49m\u001b[43mparticles\u001b[49m\u001b[43m,\u001b[49m\u001b[43m \u001b[49m\u001b[43mrf_shift_per_turn\u001b[49m\u001b[43m,\u001b[49m\u001b[43m \u001b[49m\u001b[43m*\u001b[49m\u001b[43m*\u001b[49m\u001b[43mone_turn_kwargs\u001b[49m\u001b[43m)\u001b[49m\n\u001b[32m    165\u001b[39m \u001b[38;5;28;01mif\u001b[39;00m \u001b[38;5;129;01mnot\u001b[39;00m np.any(particles.state == \u001b[32m1\u001b[39m):\n\u001b[32m    166\u001b[39m     \u001b[38;5;28;01mbreak\u001b[39;00m\n",
      "\u001b[36mFile \u001b[39m\u001b[32m~/Xsuite/xcoll/xcoll/rf_sweep.py:189\u001b[39m, in \u001b[36mRFSweep._tracking_func\u001b[39m\u001b[34m(self, particles, rf_shift_per_turn, num_turns, *args, **kwargs)\u001b[39m\n\u001b[32m    186\u001b[39m             \u001b[38;5;28mself\u001b[39m.line[\u001b[33m'\u001b[39m\u001b[33mrf_sweep\u001b[39m\u001b[33m'\u001b[39m].dzeta = \u001b[38;5;28mself\u001b[39m.L * sweep / (\u001b[38;5;28mself\u001b[39m.f_RF + sweep)\n\u001b[32m    187\u001b[39m \u001b[38;5;66;03m#             for cav in cavities:\u001b[39;00m\n\u001b[32m    188\u001b[39m \u001b[38;5;66;03m#                 self.line[cav].frequency = freq + sweep\u001b[39;00m\n\u001b[32m--> \u001b[39m\u001b[32m189\u001b[39m             \u001b[38;5;28;43mself\u001b[39;49m\u001b[43m.\u001b[49m\u001b[43mline\u001b[49m\u001b[43m.\u001b[49m\u001b[43mtrack\u001b[49m\u001b[43m(\u001b[49m\u001b[43mparticles\u001b[49m\u001b[43m,\u001b[49m\u001b[43m \u001b[49m\u001b[43mnum_turns\u001b[49m\u001b[43m=\u001b[49m\u001b[32;43m1\u001b[39;49m\u001b[43m,\u001b[49m\u001b[43m \u001b[49m\u001b[43m*\u001b[49m\u001b[43margs\u001b[49m\u001b[43m,\u001b[49m\u001b[43m \u001b[49m\u001b[43m*\u001b[49m\u001b[43m*\u001b[49m\u001b[43mkwargs\u001b[49m\u001b[43m)\u001b[49m\n\u001b[32m    190\u001b[39m             \u001b[38;5;28;01mif\u001b[39;00m \u001b[38;5;129;01mnot\u001b[39;00m np.any(particles.state == \u001b[32m1\u001b[39m):\n\u001b[32m    191\u001b[39m                 \u001b[38;5;28;01mbreak\u001b[39;00m\n",
      "\u001b[36mFile \u001b[39m\u001b[32m~/miniforge3/envs/xsuite/lib/python3.13/site-packages/xtrack/line.py:1060\u001b[39m, in \u001b[36mLine.track\u001b[39m\u001b[34m(self, particles, ele_start, ele_stop, num_elements, num_turns, turn_by_turn_monitor, freeze_longitudinal, time, with_progress, **kwargs)\u001b[39m\n\u001b[32m   1057\u001b[39m \u001b[38;5;28;01mif\u001b[39;00m \u001b[38;5;129;01mnot\u001b[39;00m \u001b[38;5;28mself\u001b[39m._has_valid_tracker():\n\u001b[32m   1058\u001b[39m     \u001b[38;5;28mself\u001b[39m.build_tracker()\n\u001b[32m-> \u001b[39m\u001b[32m1060\u001b[39m \u001b[38;5;28;01mreturn\u001b[39;00m \u001b[38;5;28;43mself\u001b[39;49m\u001b[43m.\u001b[49m\u001b[43mtracker\u001b[49m\u001b[43m.\u001b[49m\u001b[43m_track\u001b[49m\u001b[43m(\u001b[49m\n\u001b[32m   1061\u001b[39m \u001b[43m    \u001b[49m\u001b[43mparticles\u001b[49m\u001b[43m,\u001b[49m\n\u001b[32m   1062\u001b[39m \u001b[43m    \u001b[49m\u001b[43mele_start\u001b[49m\u001b[43m=\u001b[49m\u001b[43mele_start\u001b[49m\u001b[43m,\u001b[49m\n\u001b[32m   1063\u001b[39m \u001b[43m    \u001b[49m\u001b[43mele_stop\u001b[49m\u001b[43m=\u001b[49m\u001b[43mele_stop\u001b[49m\u001b[43m,\u001b[49m\n\u001b[32m   1064\u001b[39m \u001b[43m    \u001b[49m\u001b[43mnum_elements\u001b[49m\u001b[43m=\u001b[49m\u001b[43mnum_elements\u001b[49m\u001b[43m,\u001b[49m\n\u001b[32m   1065\u001b[39m \u001b[43m    \u001b[49m\u001b[43mnum_turns\u001b[49m\u001b[43m=\u001b[49m\u001b[43mnum_turns\u001b[49m\u001b[43m,\u001b[49m\n\u001b[32m   1066\u001b[39m \u001b[43m    \u001b[49m\u001b[43mturn_by_turn_monitor\u001b[49m\u001b[43m=\u001b[49m\u001b[43mturn_by_turn_monitor\u001b[49m\u001b[43m,\u001b[49m\n\u001b[32m   1067\u001b[39m \u001b[43m    \u001b[49m\u001b[43mfreeze_longitudinal\u001b[49m\u001b[43m=\u001b[49m\u001b[43mfreeze_longitudinal\u001b[49m\u001b[43m,\u001b[49m\n\u001b[32m   1068\u001b[39m \u001b[43m    \u001b[49m\u001b[43mtime\u001b[49m\u001b[43m=\u001b[49m\u001b[43mtime\u001b[49m\u001b[43m,\u001b[49m\n\u001b[32m   1069\u001b[39m \u001b[43m    \u001b[49m\u001b[43mwith_progress\u001b[49m\u001b[43m=\u001b[49m\u001b[43mwith_progress\u001b[49m\u001b[43m,\u001b[49m\n\u001b[32m   1070\u001b[39m \u001b[43m    \u001b[49m\u001b[43m*\u001b[49m\u001b[43m*\u001b[49m\u001b[43mkwargs\u001b[49m\u001b[43m)\u001b[49m\n",
      "\u001b[36mFile \u001b[39m\u001b[32m~/miniforge3/envs/xsuite/lib/python3.13/site-packages/xtrack/tracker.py:377\u001b[39m, in \u001b[36mTracker._track\u001b[39m\u001b[34m(self, particles, with_progress, time, *args, **kwargs)\u001b[39m\n\u001b[32m    374\u001b[39m         tracking_func(particles, *args, **one_turn_kwargs)\n\u001b[32m    375\u001b[39m         \u001b[38;5;66;03m# particles.reorganize() # could be done in the future to optimize GPU usage\u001b[39;00m\n\u001b[32m    376\u001b[39m \u001b[38;5;28;01melse\u001b[39;00m:\n\u001b[32m--> \u001b[39m\u001b[32m377\u001b[39m     out = \u001b[43mtracking_func\u001b[49m\u001b[43m(\u001b[49m\u001b[43mparticles\u001b[49m\u001b[43m,\u001b[49m\u001b[43m \u001b[49m\u001b[43m*\u001b[49m\u001b[43margs\u001b[49m\u001b[43m,\u001b[49m\u001b[43m \u001b[49m\u001b[43m*\u001b[49m\u001b[43m*\u001b[49m\u001b[43mkwargs\u001b[49m\u001b[43m)\u001b[49m\n\u001b[32m    379\u001b[39m \u001b[38;5;28;01mif\u001b[39;00m time:\n\u001b[32m    380\u001b[39m     t1 = perf_counter()\n",
      "\u001b[36mFile \u001b[39m\u001b[32m~/miniforge3/envs/xsuite/lib/python3.13/site-packages/xtrack/tracker.py:1241\u001b[39m, in \u001b[36mTracker._track_no_collective\u001b[39m\u001b[34m(self, particles, ele_start, ele_stop, num_elements, num_turns, turn_by_turn_monitor, freeze_longitudinal, backtrack, log, _force_no_end_turn_actions, _reset_log)\u001b[39m\n\u001b[32m   1239\u001b[39m \u001b[38;5;66;03m# First turn\u001b[39;00m\n\u001b[32m   1240\u001b[39m \u001b[38;5;28;01massert\u001b[39;00m num_elements_first_turn >= \u001b[32m0\u001b[39m\n\u001b[32m-> \u001b[39m\u001b[32m1241\u001b[39m \u001b[43mtrack_kernel\u001b[49m\u001b[43m(\u001b[49m\n\u001b[32m   1242\u001b[39m \u001b[43m    \u001b[49m\u001b[43mbuffer\u001b[49m\u001b[43m=\u001b[49m\u001b[43mtracker_data\u001b[49m\u001b[43m.\u001b[49m\u001b[43m_buffer\u001b[49m\u001b[43m.\u001b[49m\u001b[43mbuffer\u001b[49m\u001b[43m,\u001b[49m\n\u001b[32m   1243\u001b[39m \u001b[43m    \u001b[49m\u001b[43mtracker_data\u001b[49m\u001b[43m=\u001b[49m\u001b[43mtracker_data\u001b[49m\u001b[43m.\u001b[49m\u001b[43m_element_ref_data\u001b[49m\u001b[43m,\u001b[49m\n\u001b[32m   1244\u001b[39m \u001b[43m    \u001b[49m\u001b[43mparticles\u001b[49m\u001b[43m=\u001b[49m\u001b[43mparticles\u001b[49m\u001b[43m.\u001b[49m\u001b[43m_xobject\u001b[49m\u001b[43m,\u001b[49m\n\u001b[32m   1245\u001b[39m \u001b[43m    \u001b[49m\u001b[43mnum_turns\u001b[49m\u001b[43m=\u001b[49m\u001b[32;43m1\u001b[39;49m\u001b[43m,\u001b[49m\n\u001b[32m   1246\u001b[39m \u001b[43m    \u001b[49m\u001b[43mele_start\u001b[49m\u001b[43m=\u001b[49m\u001b[43mele_start\u001b[49m\u001b[43m,\u001b[49m\n\u001b[32m   1247\u001b[39m \u001b[43m    \u001b[49m\u001b[43mnum_ele_track\u001b[49m\u001b[43m=\u001b[49m\u001b[43mnum_elements_first_turn\u001b[49m\u001b[43m,\u001b[49m\n\u001b[32m   1248\u001b[39m \u001b[43m    \u001b[49m\u001b[43mflag_end_turn_actions\u001b[49m\u001b[43m=\u001b[49m\u001b[43mflag_end_first_turn_actions\u001b[49m\u001b[43m,\u001b[49m\n\u001b[32m   1249\u001b[39m \u001b[43m    \u001b[49m\u001b[43mflag_reset_s_at_end_turn\u001b[49m\u001b[43m=\u001b[49m\u001b[38;5;28;43mself\u001b[39;49m\u001b[43m.\u001b[49m\u001b[43mreset_s_at_end_turn\u001b[49m\u001b[43m,\u001b[49m\n\u001b[32m   1250\u001b[39m \u001b[43m    \u001b[49m\u001b[43mflag_monitor\u001b[49m\u001b[43m=\u001b[49m\u001b[43mflag_monitor\u001b[49m\u001b[43m,\u001b[49m\n\u001b[32m   1251\u001b[39m \u001b[43m    \u001b[49m\u001b[43mnum_ele_line\u001b[49m\u001b[43m=\u001b[49m\u001b[38;5;28;43mlen\u001b[39;49m\u001b[43m(\u001b[49m\u001b[43mtracker_data\u001b[49m\u001b[43m.\u001b[49m\u001b[43melement_names\u001b[49m\u001b[43m)\u001b[49m\u001b[43m,\u001b[49m\n\u001b[32m   1252\u001b[39m \u001b[43m    \u001b[49m\u001b[43mline_length\u001b[49m\u001b[43m=\u001b[49m\u001b[43mtracker_data\u001b[49m\u001b[43m.\u001b[49m\u001b[43mline_length\u001b[49m\u001b[43m,\u001b[49m\n\u001b[32m   1253\u001b[39m \u001b[43m    \u001b[49m\u001b[43mbuffer_tbt_monitor\u001b[49m\u001b[43m=\u001b[49m\u001b[43mbuffer_monitor\u001b[49m\u001b[43m,\u001b[49m\n\u001b[32m   1254\u001b[39m \u001b[43m    \u001b[49m\u001b[43moffset_tbt_monitor\u001b[49m\u001b[43m=\u001b[49m\u001b[43moffset_monitor\u001b[49m\u001b[43m,\u001b[49m\n\u001b[32m   1255\u001b[39m \u001b[43m    \u001b[49m\u001b[43mio_buffer\u001b[49m\u001b[43m=\u001b[49m\u001b[38;5;28;43mself\u001b[39;49m\u001b[43m.\u001b[49m\u001b[43mio_buffer\u001b[49m\u001b[43m.\u001b[49m\u001b[43mbuffer\u001b[49m\u001b[43m,\u001b[49m\n\u001b[32m   1256\u001b[39m \u001b[43m\u001b[49m\u001b[43m)\u001b[49m\n\u001b[32m   1258\u001b[39m \u001b[38;5;66;03m# Middle turns\u001b[39;00m\n\u001b[32m   1259\u001b[39m \u001b[38;5;28;01mif\u001b[39;00m num_middle_turns > \u001b[32m0\u001b[39m:\n",
      "\u001b[36mFile \u001b[39m\u001b[32m~/Xsuite/xobjects/xobjects/context_cpu.py:844\u001b[39m, in \u001b[36mKernelCpu.__call__\u001b[39m\u001b[34m(self, **kwargs)\u001b[39m\n\u001b[32m    841\u001b[39m     \u001b[38;5;28;01mif\u001b[39;00m \u001b[38;5;28misinstance\u001b[39m(\u001b[38;5;28mself\u001b[39m.context.omp_num_threads, \u001b[38;5;28mint\u001b[39m):\n\u001b[32m    842\u001b[39m         \u001b[38;5;28mself\u001b[39m.context.omp_set_num_threads(\u001b[38;5;28mself\u001b[39m.context.omp_num_threads)\n\u001b[32m--> \u001b[39m\u001b[32m844\u001b[39m ret = \u001b[38;5;28;43mself\u001b[39;49m\u001b[43m.\u001b[49m\u001b[43mfunction\u001b[49m\u001b[43m(\u001b[49m\u001b[43m*\u001b[49m\u001b[43marg_list\u001b[49m\u001b[43m)\u001b[49m\n\u001b[32m    846\u001b[39m \u001b[38;5;28;01mif\u001b[39;00m \u001b[38;5;28mself\u001b[39m.description.ret \u001b[38;5;129;01mis\u001b[39;00m \u001b[38;5;129;01mnot\u001b[39;00m \u001b[38;5;28;01mNone\u001b[39;00m:\n\u001b[32m    847\u001b[39m     \u001b[38;5;28;01mreturn\u001b[39;00m \u001b[38;5;28mself\u001b[39m.from_function_arg(\u001b[38;5;28mself\u001b[39m.description.ret, ret)\n",
      "\u001b[31mKeyboardInterrupt\u001b[39m: "
     ]
    }
   ],
   "source": [
    "line.scattering.enable()\n",
    "rf_sweep.track(sweep=sweep, particles=part, num_turns=num_turns, time=True, with_progress=5)\n",
    "line.scattering.disable()\n",
    "print(f\"Done sweeping RF in {line.time_last_track:.1f}s.\")"
   ]
  },
  {
   "cell_type": "code",
   "execution_count": null,
   "id": "90be7d59",
   "metadata": {},
   "outputs": [
    {
     "data": {
      "text/plain": [
       "array([    0,  8400, 66905])"
      ]
     },
     "execution_count": 19,
     "metadata": {},
     "output_type": "execute_result"
    }
   ],
   "source": [
    "np.unique(part.at_element)"
   ]
  },
  {
   "cell_type": "code",
   "execution_count": null,
   "id": "850f532e",
   "metadata": {},
   "outputs": [
    {
     "data": {
      "text/plain": [
       "'bpcn.12508.a_aper'"
      ]
     },
     "execution_count": 21,
     "metadata": {},
     "output_type": "execute_result"
    }
   ],
   "source": [
    "line.element_names[8400]"
   ]
  },
  {
   "cell_type": "code",
   "execution_count": null,
   "id": "9c22cff0",
   "metadata": {},
   "outputs": [
    {
     "data": {
      "text/plain": [
       "'bpcn.61108.a_aper'"
      ]
     },
     "execution_count": 20,
     "metadata": {},
     "output_type": "execute_result"
    }
   ],
   "source": [
    "line.element_names[66905]"
   ]
  },
  {
   "cell_type": "code",
   "execution_count": null,
   "id": "451df49f",
   "metadata": {},
   "outputs": [
    {
     "data": {
      "text/plain": [
       "np.float64(799.5902)"
      ]
     },
     "execution_count": 15,
     "metadata": {},
     "output_type": "execute_result"
    }
   ],
   "source": [
    "line.get_s_position('bpcn.12508.a_aper')"
   ]
  },
  {
   "cell_type": "code",
   "execution_count": null,
   "id": "5702d441",
   "metadata": {},
   "outputs": [
    {
     "data": {
      "text/plain": [
       "np.float64(6111.2089000000005)"
      ]
     },
     "execution_count": 16,
     "metadata": {},
     "output_type": "execute_result"
    }
   ],
   "source": [
    "line.get_s_position('bpcn.61108.a_aper')"
   ]
  },
  {
   "cell_type": "code",
   "execution_count": null,
   "id": "edfcb349",
   "metadata": {},
   "outputs": [],
   "source": [
    "#turn bins\n",
    "turn_bins_resolution = 1000\n",
    "turn_min, turn_max = 0, num_turns\n",
    "turn_bins = np.linspace(turn_min, turn_max, turn_bins_resolution + 1)\n",
    "\n",
    "#element bins\n",
    "element_bin_resolution = 1000\n",
    "element_min, element_max = 0, len(line.element_names)\n",
    "element_bins = np.linspace(element_min, element_max, element_bin_resolution + 1)\n",
    "\n",
    "hist2d, element_edges, turn_edges = np.histogram2d(\n",
    "    part.at_element[part.state<=0], part.at_turn[part.state<=0],\n",
    "    bins=[element_bins, turn_bins]\n",
    ")"
   ]
  },
  {
   "cell_type": "code",
   "execution_count": null,
   "id": "2ae922cb",
   "metadata": {},
   "outputs": [
    {
     "data": {
      "image/png": "[encoded data removed]",
      "text/plain": [
       "<Figure size 1000x600 with 2 Axes>"
      ]
     },
     "metadata": {},
     "output_type": "display_data"
    }
   ],
   "source": [
    "plt.figure(figsize=(10, 6))\n",
    "plt.imshow(hist2d, aspect='auto', interpolation='nearest',\n",
    "           extent=[turn_bins[0], turn_bins[-1], element_bins[0], element_bins[-1]],\n",
    "           origin='lower', norm=LogNorm())\n",
    "\n",
    "plt.colorbar(label='Number of particles (log scale)')\n",
    "plt.xlabel('Turn at which particle is lost')\n",
    "plt.ylabel('Element index')\n",
    "plt.title('Loss Map: Turn vs Element')\n",
    "\n",
    "plt.tight_layout()\n",
    "plt.show()"
   ]
  }
 ],
 "metadata": {
  "kernelspec": {
   "display_name": "xsuite",
   "language": "python",
   "name": "python3"
  },
  "language_info": {
   "codemirror_mode": {
    "name": "ipython",
    "version": 3
   },
   "file_extension": ".py",
   "mimetype": "text/x-python",
   "name": "python",
   "nbconvert_exporter": "python",
   "pygments_lexer": "ipython3",
   "version": "3.13.2"
  }
 },
 "nbformat": 4,
 "nbformat_minor": 5
}
