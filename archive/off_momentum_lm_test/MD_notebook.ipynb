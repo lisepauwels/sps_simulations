{
 "cells": [
  {
   "cell_type": "code",
   "execution_count": 1,
   "id": "c3f6fc67",
   "metadata": {},
   "outputs": [],
   "source": [
    "sigma_tcsm = 2067 #position in microns for one sigma\n",
    "centre_tcsm = -443\n",
    "\n",
    "jaw_positions = [round(5.7*sigma_tcsm+centre_tcsm), round(-5.7*sigma_tcsm+centre_tcsm)] #at5.7 sigma beam"
   ]
  },
  {
   "cell_type": "markdown",
   "id": "97f9b008",
   "metadata": {},
   "source": [
    "coast 5 too aggressive, after 9 steps losses triggered blms and we dumped"
   ]
  },
  {
   "cell_type": "markdown",
   "id": "b463c435",
   "metadata": {},
   "source": []
  },
  {
   "cell_type": "code",
   "execution_count": null,
   "id": "f4286336",
   "metadata": {},
   "outputs": [],
   "source": [
    "import numpy as np\n",
    "from pathlib import Path\n",
    "import time\n",
    "import matplotlib.pyplot as plt\n",
    "start_time = time.time()\n",
    "\n",
    "import xobjects as xo\n",
    "import xtrack as xt\n",
    "import xpart as xp\n",
    "import xobjects as xo\n",
    "import xcoll as xc\n",
    "\n",
    "import apertls\n",
    "from matplotlib.colors import LogNorm"
   ]
  },
  {
   "cell_type": "code",
   "execution_count": 3,
   "id": "444f3e63",
   "metadata": {},
   "outputs": [
    {
     "data": {
      "application/vnd.jupyter.widget-view+json": {
       "model_id": "bea3b91740e943d98e0ecd3ae7851dcf",
       "version_major": 2,
       "version_minor": 0
      },
      "text/plain": [
       "Loading line from dict:   0%|          | 0/36381 [00:00<?, ?it/s]"
      ]
     },
     "metadata": {},
     "output_type": "display_data"
    },
    {
     "name": "stdout",
     "output_type": "stream",
     "text": [
      "Done loading line from dict.           \n"
     ]
    }
   ],
   "source": [
    "line = xt.Line.from_json('../injection_lines/sps_with_aperture_inj_q20_beam_sagitta.json')"
   ]
  },
  {
   "cell_type": "code",
   "execution_count": 4,
   "id": "cef69f3f",
   "metadata": {},
   "outputs": [],
   "source": [
    "env = line.env"
   ]
  },
  {
   "cell_type": "markdown",
   "id": "bb920c8b",
   "metadata": {},
   "source": [
    "mdh.11207\n",
    "\n",
    "mdh.11407\n",
    "\n",
    "mdh.11607"
   ]
  },
  {
   "cell_type": "code",
   "execution_count": 14,
   "id": "ae24c4f7",
   "metadata": {},
   "outputs": [],
   "source": [
    "line['adh.11207'] = 1e-6\n",
    "line['adh.11407'] = 1e-6\n",
    "line['adh.11607'] = 1e-6"
   ]
  },
  {
   "cell_type": "code",
   "execution_count": 10,
   "id": "5dd91a97",
   "metadata": {},
   "outputs": [
    {
     "name": "stdout",
     "output_type": "stream",
     "text": [
      "tidp.11434..0\n",
      "tidp.11434.a_aper\n",
      "tidp.11434..1\n",
      "tidp.11434.b_aper\n",
      "tidp.11434..2\n"
     ]
    }
   ],
   "source": [
    "for name in line.element_names:\n",
    "    if 'tidp' in name:\n",
    "        print(name)"
   ]
  },
  {
   "cell_type": "code",
   "execution_count": 17,
   "id": "4507c4d4",
   "metadata": {},
   "outputs": [
    {
     "data": {
      "text/plain": [
       "'vttv.11205.z_aper'"
      ]
     },
     "execution_count": 17,
     "metadata": {},
     "output_type": "execute_result"
    }
   ],
   "source": [
    "line.element_names[4458-10]"
   ]
  },
  {
   "cell_type": "code",
   "execution_count": 19,
   "id": "fa9d0835",
   "metadata": {},
   "outputs": [
    {
     "data": {
      "text/plain": [
       "'drift_128..0'"
      ]
     },
     "execution_count": 19,
     "metadata": {},
     "output_type": "execute_result"
    }
   ],
   "source": [
    "line.element_names[5934+10]"
   ]
  },
  {
   "cell_type": "code",
   "execution_count": 18,
   "id": "2c6d59b9",
   "metadata": {},
   "outputs": [
    {
     "data": {
      "text/plain": [
       "5934"
      ]
     },
     "execution_count": 18,
     "metadata": {},
     "output_type": "execute_result"
    }
   ],
   "source": [
    "line.element_names.index('mdh.11607')"
   ]
  },
  {
   "cell_type": "code",
   "execution_count": 22,
   "id": "6e7ffd05",
   "metadata": {},
   "outputs": [],
   "source": [
    "tw_bef = line.twiss()"
   ]
  },
  {
   "cell_type": "code",
   "execution_count": 29,
   "id": "b8b44cae",
   "metadata": {},
   "outputs": [
    {
     "data": {
      "text/plain": [
       "np.float64(94.57911640437035)"
      ]
     },
     "execution_count": 29,
     "metadata": {},
     "output_type": "execute_result"
    }
   ],
   "source": [
    "tw_bef.rows['tidp.11434..1'].betx[0]"
   ]
  },
  {
   "cell_type": "code",
   "execution_count": null,
   "id": "ff2d058a",
   "metadata": {},
   "outputs": [],
   "source": []
  },
  {
   "cell_type": "code",
   "execution_count": 38,
   "id": "72b5c31c",
   "metadata": {},
   "outputs": [],
   "source": [
    "# opt = line.match(\n",
    "#     #start='mdh.11207', end='mdh.11607',\n",
    "#     #betx=tw_bef.rows['tidp.11434..1'].betx[0], bety=tw_bef.rows['tidp.11434..1'].bety[0], x=tw_bef.rows['tidp.11434..1'].x[0], # <-- conditions at start\n",
    "#     vary=xt.VaryList(['adh.11207', 'adh.11407', 'adh.11607'],\n",
    "#                     step=1e-10, limits=[-1e-3, 1e-3]),\n",
    "#     targets = [\n",
    "#         #xt.TargetSet(x=-6.5e-3, at='tidp.11434..0'),\n",
    "#         xt.TargetSet(x=-6.5e-3, at='tidp.11434..1'),\n",
    "#         #xt.TargetSet(x=-6.5e-3, at='tidp.11434..2')\n",
    "#     ])\n",
    "\n",
    "opt = line.match(\n",
    "    solve=False, # <--\n",
    "    method='6d',\n",
    "    vary=[\n",
    "        xt.VaryList(['adh.11207', 'adh.11407', 'adh.11607'], step=1e-8, tag='correctors',)\n",
    "    ],\n",
    "    targets = [\n",
    "        xt.TargetSet(x=-6.5e-3, at='tidp.11434..1')\n",
    "    ])"
   ]
  },
  {
   "cell_type": "code",
   "execution_count": 39,
   "id": "df84717e",
   "metadata": {},
   "outputs": [],
   "source": [
    "tw = line.twiss()"
   ]
  },
  {
   "cell_type": "code",
   "execution_count": 40,
   "id": "5a7b83d3",
   "metadata": {},
   "outputs": [
    {
     "data": {
      "text/plain": [
       "[<matplotlib.lines.Line2D at 0x137b03250>]"
      ]
     },
     "execution_count": 40,
     "metadata": {},
     "output_type": "execute_result"
    },
    {
     "data": {
      "image/png": "[encoded data removed]",
      "text/plain": [
       "<Figure size 640x480 with 1 Axes>"
      ]
     },
     "metadata": {},
     "output_type": "display_data"
    }
   ],
   "source": [
    "plt.figure()\n",
    "plt.plot(tw.x, tw.px)"
   ]
  },
  {
   "cell_type": "code",
   "execution_count": null,
   "id": "d98d8059",
   "metadata": {},
   "outputs": [],
   "source": []
  }
 ],
 "metadata": {
  "kernelspec": {
   "display_name": "xcoll",
   "language": "python",
   "name": "python3"
  },
  "language_info": {
   "codemirror_mode": {
    "name": "ipython",
    "version": 3
   },
   "file_extension": ".py",
   "mimetype": "text/x-python",
   "name": "python",
   "nbconvert_exporter": "python",
   "pygments_lexer": "ipython3",
   "version": "3.13.3"
  }
 },
 "nbformat": 4,
 "nbformat_minor": 5
}
