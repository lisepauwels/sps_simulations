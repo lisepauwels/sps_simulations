{
 "cells": [
  {
   "cell_type": "code",
   "execution_count": 1,
   "metadata": {},
   "outputs": [],
   "source": [
    "import numpy as np\n",
    "import matplotlib.pyplot as plt\n",
    "\n",
    "import xtrack as xt\n",
    "import xcoll as xc\n",
    "import xobjects as xo\n",
    "import xpart as xp\n",
    "from pathlib import Path"
   ]
  },
  {
   "cell_type": "markdown",
   "metadata": {},
   "source": [
    "# Line and collimator"
   ]
  },
  {
   "cell_type": "code",
   "execution_count": 2,
   "metadata": {},
   "outputs": [
    {
     "data": {
      "application/vnd.jupyter.widget-view+json": {
       "model_id": "3b377ab7f3ad4f3db880720272e21bfd",
       "version_major": 2,
       "version_minor": 0
      },
      "text/plain": [
       "Loading line from dict:   0%|          | 0/28458 [00:00<?, ?it/s]"
      ]
     },
     "metadata": {},
     "output_type": "display_data"
    },
    {
     "name": "stdout",
     "output_type": "stream",
     "text": [
      "Done loading line from dict.           \n"
     ]
    }
   ],
   "source": [
    "line = xt.Line.from_json('sps_lhc_q20_rf_with_ap.json')"
   ]
  },
  {
   "cell_type": "code",
   "execution_count": 3,
   "metadata": {},
   "outputs": [],
   "source": [
    "num_turns = 500_000\n",
    "num_particles = 50\n",
    "\n",
    "nemitt_x = 3.5e-6\n",
    "nemitt_y = 3.5e-6"
   ]
  },
  {
   "cell_type": "code",
   "execution_count": 4,
   "metadata": {},
   "outputs": [
    {
     "name": "stdout",
     "output_type": "stream",
     "text": [
      "Install collimator\n"
     ]
    },
    {
     "data": {
      "application/vnd.jupyter.widget-view+json": {
       "model_id": "8a522415673f4b96a4001fea0a648589",
       "version_major": 2,
       "version_minor": 0
      },
      "text/plain": [
       "Slicing line:   0%|          | 0/28458 [00:00<?, ?it/s]"
      ]
     },
     "metadata": {},
     "output_type": "display_data"
    }
   ],
   "source": [
    "print('Install collimator')\n",
    "coll = xc.EverestCollimator(length=1.83, gap=5, material=xc.materials.Carbon) # length is 1.83\n",
    "line.collimators.install('tcsm.51932', coll)\n",
    "\n",
    "#Make aperture for collimator and update line\n",
    "coll_ap = xt.LimitRectEllipse(a=0.05, b=0.05, max_x=0.05, max_y=0.05) \n",
    "coll_ap_names = ['tcsm.51932_aper_upstream', 'tcsm.51932_aper_downstream']\n",
    "coll_ap_idx = [line.element_names.index('tcsm.51932'), line.element_names.index('tcsm.51932') + 1]\n",
    "\n",
    "max_length = max(max(map(len, line.element_names)), max(map(len, coll_ap_names)))\n",
    "element_names = np.array(line.element_names, dtype=f'<U{max_length}')\n",
    "names = np.array(coll_ap_names, dtype=f'<U{max_length}')\n",
    "element_names = np.insert(element_names, coll_ap_idx, coll_ap_names)\n",
    "\n",
    "insert_colls = {name: coll_ap for name in coll_ap_names}\n",
    "\n",
    "line.element_names = element_names.tolist()\n",
    "line.element_dict = {**line.element_dict, **insert_colls}"
   ]
  },
  {
   "cell_type": "code",
   "execution_count": 5,
   "metadata": {},
   "outputs": [
    {
     "data": {
      "application/vnd.jupyter.widget-view+json": {
       "model_id": "172a70aad7954eaeabbd3ba8233face3",
       "version_major": 2,
       "version_minor": 0
      },
      "text/plain": [
       "Checking aperture:   0%|          | 0/28457 [00:00<?, ?it/s]"
      ]
     },
     "metadata": {},
     "output_type": "display_data"
    },
    {
     "name": "stdout",
     "output_type": "stream",
     "text": [
      "Done checking aperture.           \n",
      "0 thin elements miss associated aperture (upstream):\n",
      "[]\n",
      "0 thick elements miss associated aperture (upstream or downstream):\n",
      "[]\n"
     ]
    }
   ],
   "source": [
    "df_with_coll = line.check_aperture()"
   ]
  },
  {
   "cell_type": "code",
   "execution_count": 6,
   "metadata": {},
   "outputs": [
    {
     "name": "stdout",
     "output_type": "stream",
     "text": [
      "Disable xdeps expressions\n",
      "Replance slices with equivalent elements\n",
      "Remove markers\n",
      "Remove inactive multipoles\n",
      "Merge consecutive multipoles\n",
      "Remove redundant apertures\n",
      "Remove zero length drifts\n",
      "Merge consecutive drifts\n",
      "Use simple bends\n",
      "Use simple quadrupoles\n",
      "Rebuild tracker data\n"
     ]
    }
   ],
   "source": [
    "line.build_tracker()\n",
    "tw = line.twiss()\n",
    "sigma_x = np.sqrt(nemitt_x*tw.betx/line.particle_ref.gamma0)\n",
    "sigma_y = np.sqrt(nemitt_y*tw.bety/line.particle_ref.gamma0)\n",
    "\n",
    "line.collimators.assign_optics(twiss=tw, nemitt_x=nemitt_x, nemitt_y=nemitt_y)\n",
    "line.optimize_for_tracking()\n",
    "\n",
    "# Start interaction record\n",
    "impacts = xc.InteractionRecord.start(line=line, record_impacts=True)"
   ]
  },
  {
   "cell_type": "markdown",
   "metadata": {},
   "source": [
    "# Ripple preparation"
   ]
  },
  {
   "cell_type": "code",
   "execution_count": 7,
   "metadata": {},
   "outputs": [],
   "source": [
    "#Ripple information\n",
    "kqf_amplitudes = np.array([9.7892e-7])\n",
    "kqd_amplitudes = np.array([9.6865e-7])\n",
    "kqf_phases=np.array([0.5564486])\n",
    "kqd_phases=np.array([0.47329223])\n",
    "ripple_freqs=np.array([50.])"
   ]
  },
  {
   "cell_type": "code",
   "execution_count": 8,
   "metadata": {},
   "outputs": [],
   "source": [
    "def get_k_ripple_summed_signal(num_turns, ripple_periods, kqf_amplitudes, kqd_amplitudes,\n",
    "                                   kqf_phases, kqd_phases):\n",
    "    \"\"\"\n",
    "    Generate noise signal on top of kqf/kqd values, with desired ripple periods and amplitudes.\n",
    "    Phase and frequencies unit must correspond to where it is used, e.g turns\n",
    "    \n",
    "    Parameters:\n",
    "    -----------\n",
    "    ripple_periods : np.ndarray\n",
    "        floats containing the ripple periods of the noise frequencies\n",
    "    kqf_amplitudes : np.ndarray\n",
    "        ripple amplitudes for desired frequencies of kqf --> obtained from normalized FFT spectrum of IQD and IQF. \n",
    "        Default without 50 Hz compensation is 1e-6\n",
    "    kqd_amplitudes : list\n",
    "        ripple amplitudes for desired frequencies of kqd --> obtained from normalized FFT spectrum of IQD and IQF. \n",
    "        Default without 50 Hz compensation is 1e-6\n",
    "    kqf_phases : np.ndarray\n",
    "        ripple phase for desired frequencies of kqf --> obtained from normalized FFT spectrum of IQD and IQF. \n",
    "    kqd_phases : list\n",
    "        ripple phases for desired frequencies of kqd --> obtained from normalized FFT spectrum of IQD and IQF. \n",
    "\n",
    "    Returns:\n",
    "    --------\n",
    "    k_ripple_values : np.ndarray\n",
    "        focusing quadrupole values corresponding to modulate Qx according to dq (if chosen plane)\n",
    "    \"\"\"\n",
    "\n",
    "    turns = np.arange(1, num_turns+1)\n",
    "    kqf_signals = np.zeros([len(ripple_periods), len(turns)])\n",
    "    kqd_signals = np.zeros([len(ripple_periods), len(turns)])\n",
    "    for i, ripple_period in enumerate(ripple_periods):\n",
    "        kqf_signals[i, :] = kqf_amplitudes[i] * np.sin(2 * np.pi * turns / ripple_period + kqf_phases[i])\n",
    "        kqd_signals[i, :] = kqd_amplitudes[i] * np.sin(2 * np.pi * turns / ripple_period + kqd_phases[i])\n",
    "\n",
    "    # Sum the signal\n",
    "    kqf_ripple = np.sum(kqf_signals, axis=0)\n",
    "    kqd_ripple = np.sum(kqd_signals, axis=0)\n",
    "\n",
    "    print('Generated kqf ripple of amplitudes {} and phases {} with ripple periods {}'.format(kqf_amplitudes, kqf_phases, ripple_periods))\n",
    "    print('Generated kqd ripple of amplitudes {} and phases {} with ripple periods {}'.format(kqd_amplitudes, kqd_phases, ripple_periods))\n",
    "\n",
    "    return kqf_ripple, kqd_ripple"
   ]
  },
  {
   "cell_type": "code",
   "execution_count": 9,
   "metadata": {},
   "outputs": [
    {
     "name": "stdout",
     "output_type": "stream",
     "text": [
      "Generated kqf ripple of amplitudes [9.7892e-07] and phases [24120.73842865] with ripple periods [866]\n",
      "Generated kqd ripple of amplitudes [9.6865e-07] and phases [20516.10531529] with ripple periods [866]\n"
     ]
    }
   ],
   "source": [
    "# Create ripple in quadrupolar knobs, convert phases to turns\n",
    "turns_per_sec = 1/tw.T_rev0\n",
    "ripple_periods = (turns_per_sec/ripple_freqs).astype(int)  # number of turns particle makes during one ripple oscillation\n",
    "kqf_phases_turns = kqf_phases * turns_per_sec # convert time domain to turn domain, i.e. multiply with turns/sec\n",
    "kqd_phases_turns = kqd_phases * turns_per_sec # convert time domain to turn domain, i.e. multiply with turns/sec\n",
    "\n",
    "#ripple_maker = Tune_Ripple_SPS(num_turns=num_turns) # qx0=self.qx0, qy0=self.qy0)\n",
    "kqf_ripple, kqd_ripple = get_k_ripple_summed_signal(num_turns, ripple_periods, kqf_amplitudes, kqd_amplitudes, kqf_phases_turns, kqd_phases_turns)"
   ]
  },
  {
   "cell_type": "code",
   "execution_count": 10,
   "metadata": {},
   "outputs": [
    {
     "name": "stdout",
     "output_type": "stream",
     "text": [
      "Quadrupolar knobs will oscillate with\n",
      "kqf =  1.1580e-02 +/- 9.789e-07\n",
      "kqd = -1.1581e-02 +/- 9.686e-07\n"
     ]
    }
   ],
   "source": [
    "# Save initial values\n",
    "kqf0 = line.vars['kqf']._value\n",
    "kqd0 = line.vars['kqd']._value\n",
    "\n",
    "print('Quadrupolar knobs will oscillate with')\n",
    "print('kqf =  {:.4e} +/- {:.3e}'.format(kqf0, max(kqf_ripple)))\n",
    "print('kqd = {:.4e} +/- {:.3e}'.format(kqd0, max(kqd_ripple)))"
   ]
  },
  {
   "cell_type": "markdown",
   "metadata": {},
   "source": [
    "# Particles and tracking with ripple"
   ]
  },
  {
   "cell_type": "code",
   "execution_count": 11,
   "metadata": {},
   "outputs": [
    {
     "name": "stdout",
     "output_type": "stream",
     "text": [
      "*** Maximum RMS bunch length 0.23610204667323867m.\n",
      "... distance to target bunch length: -2.2400e-01\n",
      "... distance to target bunch length: 5.5793e-03\n",
      "... distance to target bunch length: 5.2397e-03\n",
      "... distance to target bunch length: -6.3409e-03\n",
      "... distance to target bunch length: 1.9992e-03\n",
      "... distance to target bunch length: -3.8457e-04\n",
      "... distance to target bunch length: 5.4240e-05\n",
      "... distance to target bunch length: 1.2753e-06\n",
      "... distance to target bunch length: -1.1273e-10\n",
      "... distance to target bunch length: 1.2806e-07\n",
      "--> Bunch length: 0.22399999988726663\n",
      "--> Emittance: 0.16126789877093833\n"
     ]
    }
   ],
   "source": [
    "line.scattering.disable()\n",
    "part = xp.generate_matched_gaussian_bunch(num_particles=num_particles, total_intensity_particles=2.2e11,\n",
    "                                          nemitt_x=3.5e-6, nemitt_y=3.5e-6, sigma_z=0.224, line=line) #Flat bottom: 0.224, flat top: 0.124"
   ]
  },
  {
   "cell_type": "code",
   "execution_count": 12,
   "metadata": {},
   "outputs": [],
   "source": [
    "def generate_longitudinal_slice(line, num_particles, cut, sigma_z, upper_cut=None):\n",
    "    zeta = []\n",
    "    delta = []\n",
    "    num = 0\n",
    "    step = int(1.e7)\n",
    "    while True:\n",
    "        this_zeta, this_delta = xp.generate_longitudinal_coordinates(num_particles=step,\n",
    "                                    distribution='gaussian', sigma_z=sigma_z, line=line)\n",
    "        amp = np.sqrt((this_zeta/this_zeta.std())**2 + (this_delta/this_delta.std())**2)\n",
    "        mask = amp >= cut\n",
    "        if upper_cut is not None:\n",
    "            mask = mask & (amp <= upper_cut)\n",
    "        zeta = [*zeta, *this_zeta[mask]]\n",
    "        delta = [*delta, *this_delta[mask]]\n",
    "        num += len(np.where(mask)[0])\n",
    "        if num >= num_particles:\n",
    "            zeta = zeta[:num_particles]\n",
    "            delta = delta[:num_particles]\n",
    "            break\n",
    "    return zeta, delta"
   ]
  },
  {
   "cell_type": "code",
   "execution_count": 13,
   "metadata": {},
   "outputs": [],
   "source": [
    "x_norm = []\n",
    "px_norm = []\n",
    "while True:\n",
    "    this_x_norm = np.random.normal(size=10_000_000)\n",
    "    this_px_norm = np.random.normal(size=10_000_000)\n",
    "    mask = np.sqrt(this_x_norm**2 + this_px_norm**2) >= 4\n",
    "    x_norm.extend(this_x_norm[mask])\n",
    "    px_norm.extend(this_px_norm[mask])\n",
    "    if len(x_norm) >= num_particles:\n",
    "        x_norm = np.array(x_norm[:num_particles])\n",
    "        px_norm = np.array(px_norm[:num_particles])\n",
    "        break\n",
    "\n",
    "y_norm = np.random.normal(size=num_particles)\n",
    "py_norm = np.random.normal(size=num_particles)\n",
    "\n",
    "#zeta, delta = generate_longitudinal_slice(line, num_particles, cut=2.7, sigma_z=0.224)\n",
    "#part = line.build_particles(x_norm=x_norm, px_norm=px_norm, y_norm=y_norm, py_norm=py_norm, nemitt_x=nemitt_x, nemitt_y=nemitt_y)\n",
    "part = line.build_particles(x_norm=x_norm, px_norm=px_norm, y_norm=y_norm, py_norm=py_norm, nemitt_x=nemitt_x, nemitt_y=nemitt_y)"
   ]
  },
  {
   "cell_type": "code",
   "execution_count": 14,
   "metadata": {},
   "outputs": [
    {
     "name": "stdout",
     "output_type": "stream",
     "text": [
      "Compiling ContextCpu kernels...\n",
      "Done compiling ContextCpu kernels.\n",
      "Turn 5000\n",
      "Turn 10000\n",
      "Turn 15000\n",
      "Turn 20000\n",
      "Turn 25000\n",
      "Turn 30000\n",
      "Turn 35000\n",
      "Turn 40000\n",
      "Turn 45000\n",
      "Turn 50000\n",
      "Turn 55000\n",
      "Turn 60000\n",
      "Turn 65000\n",
      "Turn 70000\n",
      "Turn 75000\n",
      "Turn 80000\n",
      "Turn 85000\n",
      "Turn 90000\n",
      "Turn 95000\n",
      "Turn 100000\n",
      "Turn 105000\n",
      "Turn 110000\n",
      "Turn 115000\n",
      "Turn 120000\n",
      "Turn 125000\n",
      "Turn 130000\n",
      "Turn 135000\n",
      "Turn 140000\n",
      "Turn 145000\n",
      "Turn 150000\n",
      "Turn 155000\n",
      "Turn 160000\n",
      "Turn 165000\n",
      "Turn 170000\n",
      "Turn 175000\n",
      "Turn 180000\n",
      "Turn 185000\n",
      "Turn 190000\n",
      "Turn 195000\n",
      "Turn 200000\n",
      "Turn 205000\n",
      "Turn 210000\n",
      "Turn 215000\n",
      "Turn 220000\n",
      "Turn 225000\n",
      "Turn 230000\n",
      "Turn 235000\n",
      "Turn 240000\n",
      "Turn 245000\n",
      "Turn 250000\n",
      "Turn 255000\n",
      "Turn 260000\n",
      "Turn 265000\n",
      "Turn 270000\n",
      "Turn 275000\n",
      "Turn 280000\n",
      "Turn 285000\n",
      "Turn 290000\n",
      "Turn 295000\n",
      "Turn 300000\n",
      "Turn 305000\n",
      "Turn 310000\n",
      "Turn 315000\n",
      "Turn 320000\n",
      "Turn 325000\n",
      "Turn 330000\n",
      "Turn 335000\n",
      "Turn 340000\n",
      "Turn 345000\n",
      "Turn 350000\n",
      "Turn 355000\n",
      "Turn 360000\n",
      "Turn 365000\n",
      "Turn 370000\n",
      "Turn 375000\n",
      "Turn 380000\n",
      "Turn 385000\n",
      "Turn 390000\n",
      "Turn 395000\n",
      "Turn 400000\n",
      "Turn 405000\n",
      "Turn 410000\n",
      "Turn 415000\n",
      "Turn 420000\n",
      "Turn 425000\n",
      "Turn 430000\n",
      "Turn 435000\n",
      "Turn 440000\n",
      "Turn 445000\n",
      "Turn 450000\n",
      "Turn 455000\n",
      "Turn 460000\n",
      "Turn 465000\n",
      "Turn 470000\n",
      "Turn 475000\n",
      "Turn 480000\n",
      "Turn 485000\n",
      "Turn 490000\n",
      "Turn 495000\n",
      "Done tracking in 11801.1s.\n"
     ]
    }
   ],
   "source": [
    "#Multicore\n",
    "line.discard_tracker()\n",
    "line.build_tracker(_context=xo.ContextCpu(omp_num_threads='auto'))\n",
    "\n",
    "time = 0\n",
    "\n",
    "# Track!\n",
    "line.scattering.enable()\n",
    "for turn in range(1, num_turns):\n",
    "    if turn%5000 == 0:\n",
    "        print(f'Turn {turn}')\n",
    "    \n",
    "    line.vars['kqf'] = kqf0 + kqf_ripple[turn-1]\n",
    "    line.vars['kqd'] = kqd0 + kqd_ripple[turn-1]\n",
    "    \n",
    "    line.track(part, num_turns=1, time=True)\n",
    "    time += line.time_last_track\n",
    "\n",
    "print(f\"Done tracking in {time:.1f}s.\")\n",
    "line.scattering.disable()"
   ]
  },
  {
   "cell_type": "code",
   "execution_count": 13,
   "metadata": {},
   "outputs": [
    {
     "data": {
      "text/plain": [
       "3.2070555555555553"
      ]
     },
     "execution_count": 13,
     "metadata": {},
     "output_type": "execute_result"
    }
   ],
   "source": [
    "11545.4/3600"
   ]
  },
  {
   "cell_type": "code",
   "execution_count": 15,
   "metadata": {},
   "outputs": [],
   "source": [
    "line.discard_tracker()\n",
    "line.build_tracker(_context=xo.ContextCpu())\n",
    "ThisLM = xc.LossMap(line, line_is_reversed=False, part=part)\n",
    "ThisLM.to_json(file='ripple_shell_x_50.json')"
   ]
  },
  {
   "cell_type": "code",
   "execution_count": 16,
   "metadata": {},
   "outputs": [
    {
     "data": {
      "text/plain": [
       "(array([1]), array([50]))"
      ]
     },
     "execution_count": 16,
     "metadata": {},
     "output_type": "execute_result"
    }
   ],
   "source": [
    "np.unique(part.state, return_counts=True)"
   ]
  },
  {
   "cell_type": "code",
   "execution_count": 17,
   "metadata": {},
   "outputs": [
    {
     "data": {
      "text/plain": [
       "array([499999, 499999, 499999, 499999, 499999, 499999, 499999, 499999,\n",
       "       499999, 499999, 499999, 499999, 499999, 499999, 499999, 499999,\n",
       "       499999, 499999, 499999, 499999, 499999, 499999, 499999, 499999,\n",
       "       499999, 499999, 499999, 499999, 499999, 499999, 499999, 499999,\n",
       "       499999, 499999, 499999, 499999, 499999, 499999, 499999, 499999,\n",
       "       499999, 499999, 499999, 499999, 499999, 499999, 499999, 499999,\n",
       "       499999, 499999])"
      ]
     },
     "execution_count": 17,
     "metadata": {},
     "output_type": "execute_result"
    }
   ],
   "source": [
    "part.at_turn"
   ]
  },
  {
   "cell_type": "code",
   "execution_count": 17,
   "metadata": {},
   "outputs": [],
   "source": [
    "dico_part = part.to_dict()"
   ]
  },
  {
   "cell_type": "code",
   "execution_count": 18,
   "metadata": {},
   "outputs": [],
   "source": [
    "import pickle"
   ]
  },
  {
   "cell_type": "code",
   "execution_count": 19,
   "metadata": {},
   "outputs": [],
   "source": [
    "with open('part_ripple_test_50.pkl', 'wb') as f:\n",
    "    pickle.dump(dico_part, f)"
   ]
  },
  {
   "cell_type": "code",
   "execution_count": 20,
   "metadata": {},
   "outputs": [],
   "source": [
    "with open('part_ripple_test_50.pkl', 'rb') as f:\n",
    "    dico_part = pickle.load(f)"
   ]
  },
  {
   "cell_type": "code",
   "execution_count": null,
   "metadata": {},
   "outputs": [],
   "source": []
  }
 ],
 "metadata": {
  "kernelspec": {
   "display_name": "xsuite_dev",
   "language": "python",
   "name": "python3"
  },
  "language_info": {
   "codemirror_mode": {
    "name": "ipython",
    "version": 3
   },
   "file_extension": ".py",
   "mimetype": "text/x-python",
   "name": "python",
   "nbconvert_exporter": "python",
   "pygments_lexer": "ipython3",
   "version": "3.11.10"
  }
 },
 "nbformat": 4,
 "nbformat_minor": 2
}
