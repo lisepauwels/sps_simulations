{
 "cells": [
  {
   "cell_type": "code",
   "execution_count": 1,
   "id": "44b3c5e0",
   "metadata": {},
   "outputs": [],
   "source": [
    "import numpy as np\n",
    "import matplotlib.pyplot as plt\n",
    "import xtrack as xt\n",
    "import xcoll as xc\n",
    "import xpart as xp\n",
    "import xobjects as xo"
   ]
  },
  {
   "cell_type": "code",
   "execution_count": 2,
   "id": "6537877f",
   "metadata": {},
   "outputs": [
    {
     "data": {
      "application/vnd.jupyter.widget-view+json": {
       "model_id": "76ace55e8da44517bb4b733e877f2ffa",
       "version_major": 2,
       "version_minor": 0
      },
      "text/plain": [
       "Loading line from dict:   0%|          | 0/36395 [00:00<?, ?it/s]"
      ]
     },
     "metadata": {},
     "output_type": "display_data"
    },
    {
     "name": "stdout",
     "output_type": "stream",
     "text": [
      "Done loading line from dict.           \n"
     ]
    }
   ],
   "source": [
    "line = xt.Line.from_json('../../injection_lines/sps_with_aperture_inj_q20_beam_sagitta2.json')"
   ]
  },
  {
   "cell_type": "code",
   "execution_count": 13,
   "id": "e4dbc2fc",
   "metadata": {},
   "outputs": [],
   "source": [
    "plane = 'DPpos'\n",
    "chroma = 0.5"
   ]
  },
  {
   "cell_type": "code",
   "execution_count": 4,
   "id": "fb64542d",
   "metadata": {},
   "outputs": [],
   "source": [
    "# Setting the chromaticity and tune\n",
    "line.vars['qph_setvalue'] = chroma\n",
    "line.vars['qpv_setvalue'] = chroma\n",
    "line.vars['qh_setvalue'] = line.vars['qx0']._value + 0.05\n",
    "line.vars['qv_setvalue'] = line.vars['qy0']._value + 0.05"
   ]
  },
  {
   "cell_type": "code",
   "execution_count": 5,
   "id": "242d90e3",
   "metadata": {},
   "outputs": [],
   "source": [
    "context = xo.ContextCpu()\n",
    "\n",
    "num_particles  = 1000\n",
    "sweep = 6000\n",
    "sweep = -abs(sweep) if plane == 'DPpos' else abs(sweep)\n",
    "num_turns = 6000"
   ]
  },
  {
   "cell_type": "code",
   "execution_count": 6,
   "id": "8732f3b2",
   "metadata": {},
   "outputs": [],
   "source": [
    "bpms_hor = ['bph.10208',\n",
    " 'bph.10408',\n",
    " 'bph.10608',\n",
    " 'bph.10808',\n",
    " 'bph.11008',\n",
    " 'bph.11208',\n",
    " 'bph.11408',\n",
    " 'bph.11608',\n",
    " 'bph.11831',\n",
    " 'bph.12008',\n",
    " 'bph.12208',\n",
    " 'bph.12408',\n",
    " 'bph.12608',\n",
    " 'bph.12808',\n",
    " 'bph.13008',\n",
    " 'bph.13208',\n",
    " 'bph.13408',\n",
    " 'bph.13608',\n",
    " 'bph.20208',\n",
    " 'bph.20408',\n",
    " 'bph.20608',\n",
    " 'bph.20808',\n",
    " 'bph.21008',\n",
    " 'bph.21208',\n",
    " 'bph.21408',\n",
    " 'bpce.21604',\n",
    " 'bpce.21706',\n",
    " 'bpce.21803',\n",
    " 'bph.22008',\n",
    " 'bph.22208',\n",
    " 'bph.22408',\n",
    " 'bph.22608',\n",
    " 'bph.22808',\n",
    " 'bph.23008',\n",
    " 'bph.23208',\n",
    " 'bph.23408',\n",
    " 'bph.23608',\n",
    " 'bph.30208',\n",
    " 'bph.30408',\n",
    " 'bph.30608',\n",
    " 'bph.30808',\n",
    " 'bph.31008',\n",
    " 'bph.31208',\n",
    " 'bph.31408',\n",
    " 'bph.31608',\n",
    " 'bph.31808',\n",
    " 'bph.32008',\n",
    " 'bph.32208',\n",
    " 'bph.32408',\n",
    " 'bph.32608',\n",
    " 'bph.32808',\n",
    " 'bph.33008',\n",
    " 'bph.33208',\n",
    " 'bph.33408',\n",
    " 'bph.33608',\n",
    " 'bph.40208',\n",
    " 'bph.40408',\n",
    " 'bph.40608',\n",
    " 'bph.40808',\n",
    " 'bph.41008',\n",
    " 'bph.41208',\n",
    " 'bph.41408',\n",
    " 'bpce.41705',\n",
    " 'bpce.41801',\n",
    " 'bpce.41931',\n",
    " 'bph.42008',\n",
    " 'bph.42208',\n",
    " 'bph.42408',\n",
    " 'bph.42608',\n",
    " 'bph.42808',\n",
    " 'bph.43008',\n",
    " 'bph.43208',\n",
    " 'bph.43408',\n",
    " 'bph.43608',\n",
    " 'bph.50208',\n",
    " 'bph.50408',\n",
    " 'bph.50608',\n",
    " 'bph.50808',\n",
    " 'bph.51008',\n",
    " 'bph.51208',\n",
    " 'bph.51408',\n",
    " 'bpce.51604',\n",
    " 'bpce.51833',\n",
    " 'bph.52008',\n",
    " 'bph.52208',\n",
    " 'bph.52408',\n",
    " 'bph.52608',\n",
    " 'bph.52808',\n",
    " 'bph.53008',\n",
    " 'bph.53208',\n",
    " 'bph.53408',\n",
    " 'bph.53608',\n",
    " 'bph.60208',\n",
    " 'bph.60408',\n",
    " 'bph.60608',\n",
    " 'bph.60808',\n",
    " 'bph.61008',\n",
    " 'bph.61208',\n",
    " 'bph.61408',\n",
    " 'bph.61608',\n",
    " 'bpce.61705',\n",
    " 'bpce.61804',\n",
    " 'bpce.61931',\n",
    " 'bph.62008',\n",
    " 'bph.62208',\n",
    " 'bph.62408',\n",
    " 'bph.62608',\n",
    " 'bph.62808',\n",
    " 'bph.63008',\n",
    " 'bph.63208',\n",
    " 'bph.63408',\n",
    " 'bph.63608']"
   ]
  },
  {
   "cell_type": "code",
   "execution_count": 7,
   "id": "52f3c133",
   "metadata": {},
   "outputs": [],
   "source": [
    "#Setting cavities to the same frequency and phase, plus setting the voltage\n",
    "cavity_elements, cavity_names = line.get_elements_of_type(xt.Cavity)\n",
    "\n",
    "for name in cavity_names:\n",
    "    line[name].frequency = 200e6\n",
    "    line[name].lag = 180\n",
    "line['actcse.31632'].voltage = 3e6"
   ]
  },
  {
   "cell_type": "code",
   "execution_count": 8,
   "id": "b31179fe",
   "metadata": {},
   "outputs": [
    {
     "data": {
      "application/vnd.jupyter.widget-view+json": {
       "model_id": "1b829705bf5545a591ef6ca271ce859e",
       "version_major": 2,
       "version_minor": 0
      },
      "text/plain": [
       "Slicing line:   0%|          | 0/75252 [00:00<?, ?it/s]"
      ]
     },
     "metadata": {},
     "output_type": "display_data"
    }
   ],
   "source": [
    "#Installing TIDP\n",
    "tidp_ap_tot = 147\n",
    "block_mvt = 29\n",
    "\n",
    "tidp = xc.EverestCollimator(length=4.3, material=xc.materials.Carbon, jaw_L= tidp_ap_tot/2 + block_mvt, jaw_R = -tidp_ap_tot/2 + block_mvt)\n",
    "line.collimators.install(names=['tidp.11434'], elements=[tidp])"
   ]
  },
  {
   "cell_type": "code",
   "execution_count": 9,
   "id": "2cd42cfe",
   "metadata": {},
   "outputs": [],
   "source": [
    "monitors = []\n",
    "for bpm in bpms_hor:\n",
    "    if bpm in line.element_names:\n",
    "        monitors.append(xc.EmittanceMonitor.install(line, f'{bpm}_monitor', at_s=line.get_s_position(bpm), \n",
    "                                                    stop_at_turn=num_turns, num_particles=num_particles, monitor_delta=True))\n",
    "    else:\n",
    "        monitors.append(xc.EmittanceMonitor.install(line, f'{bpm}_monitor', at_s=line.get_s_position(f'{bpm}..0'), \n",
    "                                                    stop_at_turn=num_turns, num_particles=num_particles, monitor_delta=True))"
   ]
  },
  {
   "cell_type": "code",
   "execution_count": 10,
   "id": "b5cc06c1",
   "metadata": {},
   "outputs": [],
   "source": [
    "tw = line.twiss()\n",
    "tt = line.get_table()"
   ]
  },
  {
   "cell_type": "code",
   "execution_count": 12,
   "id": "b983bc37",
   "metadata": {},
   "outputs": [],
   "source": [
    "xnorm = np.random.normal(0, 0.1, 1000)\n",
    "ynorm = np.random.normal(0, 0.1, 1000)\n",
    "pxnorm = np.random.normal(0, 0.1, 1000)\n",
    "pynorm = np.random.normal(0, 0.1, 1000)\n",
    "\n",
    "part = line.build_particles(x_norm=xnorm, y_norm=ynorm, px_norm=pxnorm, py_norm=pynorm,\n",
    "                            delta=0, nemitt_x=2e-6, nemitt_y=2e-6,\n",
    "                            num_particles=num_particles)"
   ]
  },
  {
   "cell_type": "code",
   "execution_count": 14,
   "id": "754b038d",
   "metadata": {},
   "outputs": [
    {
     "name": "stdout",
     "output_type": "stream",
     "text": [
      "The line already has an associated tracker\n",
      "The current frequency is 200000000.0Hz, adding 1.0Hz per turn until 200006000.0 (for 6000 turns).\n",
      "This sweep will move the center of the bucket with Δδ = -0.01689694767965286 (-2.664416947099336 buckets).\n",
      "Compiling ContextCpu kernels...\n"
     ]
    },
    {
     "name": "stderr",
     "output_type": "stream",
     "text": [
      "ld: warning: duplicate -rpath '/Users/lisepauwels/miniforge3/envs/xcoll/lib' ignored\n",
      "ld: warning: duplicate -rpath '/Users/lisepauwels/miniforge3/envs/xcoll/lib' ignored\n"
     ]
    },
    {
     "name": "stdout",
     "output_type": "stream",
     "text": [
      "Done compiling ContextCpu kernels.\n"
     ]
    },
    {
     "data": {
      "application/vnd.jupyter.widget-view+json": {
       "model_id": "83107871e3004602b5a60b39f776120a",
       "version_major": 2,
       "version_minor": 0
      },
      "text/plain": [
       "Tracking:   0%|          | 0/6000 [00:00<?, ?it/s]"
      ]
     },
     "metadata": {},
     "output_type": "display_data"
    },
    {
     "name": "stdout",
     "output_type": "stream",
     "text": [
      "All particles lost at turn 3574, stopped sweep at 2860.0Hz.\n"
     ]
    }
   ],
   "source": [
    "line.build_tracker()\n",
    "rf_sweep = xc.RFSweep(line)\n",
    "rf_sweep.info(sweep=sweep, num_turns=num_turns)\n",
    "\n",
    "line.discard_tracker()\n",
    "line.build_tracker(_context=xo.ContextCpu(omp_num_threads='auto'))\n",
    "line.scattering.enable()\n",
    "rf_sweep.track(sweep=sweep, particles=part, num_turns=num_turns, time=True, with_progress=5)\n",
    "line.scattering.disable()"
   ]
  },
  {
   "cell_type": "code",
   "execution_count": 15,
   "id": "b2320e70",
   "metadata": {},
   "outputs": [
    {
     "name": "stderr",
     "output_type": "stream",
     "text": [
      "/Users/lisepauwels/Xsuite/xcoll/xcoll/beam_elements/monitor.py:450: RuntimeWarning: invalid value encountered in sqrt\n",
      "  gemitt_x = np.sqrt(self.x_x_var * self.px_px_var - self.x_px_var**2)\n",
      "/Users/lisepauwels/Xsuite/xcoll/xcoll/beam_elements/monitor.py:451: RuntimeWarning: invalid value encountered in sqrt\n",
      "  gemitt_y = np.sqrt(self.y_y_var * self.py_py_var - self.y_py_var**2)\n",
      "/Users/lisepauwels/Xsuite/xcoll/xcoll/beam_elements/monitor.py:452: RuntimeWarning: invalid value encountered in sqrt\n",
      "  gemitt_zeta = np.sqrt(self.zeta_zeta_var * self.pzeta_pzeta_var - self.zeta_pzeta_var**2)\n"
     ]
    }
   ],
   "source": [
    "x = []\n",
    "x2 = []\n",
    "delta = []\n",
    "y = []\n",
    "y2 = []\n",
    "delta_calc = []\n",
    "for monitor in monitors:\n",
    "    x.append(monitor.x_mean)\n",
    "    x2.append(monitor.x_x_var)\n",
    "    y.append(monitor.y_mean)\n",
    "    y2.append(monitor.y_y_var)\n",
    "    delta.append(monitor.delta_mean)\n",
    "    delta_calc.append((monitor.x_mean - tw.rows[monitor.name].x)/tw.rows[monitor.name].dx)"
   ]
  },
  {
   "cell_type": "code",
   "execution_count": 16,
   "id": "29738aa5",
   "metadata": {},
   "outputs": [
    {
     "data": {
      "image/png": "[encoded data removed]",
      "text/plain": [
       "<Figure size 1500x500 with 3 Axes>"
      ]
     },
     "metadata": {},
     "output_type": "display_data"
    }
   ],
   "source": [
    "import awkward as ak\n",
    "turns_of_death = sorted(part.at_turn)\n",
    "index_cut = int(0.1 * len(turns_of_death))\n",
    "turn_cut = turns_of_death[index_cut]\n",
    "\n",
    "fig, ax = plt.subplots(1, 3, figsize=(15, 5))\n",
    "ax[0].plot(ak.mean(x, axis=0)[:turn_cut]*1e3, label='x')\n",
    "ax[0].plot(ak.mean(y, axis=0)[:turn_cut]*1e3, label='y', color='darkred')\n",
    "ax[1].plot(ak.mean(x2 + ak.Array(x)*999/1000, axis=0)[:turn_cut]*1e3, label='x2')\n",
    "ax[1].plot(ak.mean(y2+ ak.Array(y)*999/1000, axis=0)[:turn_cut]*1e3, label='y2', color='darkred')\n",
    "ax[2].plot(ak.mean(delta, axis=0)[:turn_cut]*1e3, label='delta')\n",
    "ax[2].plot(ak.mean(delta_calc, axis=0)[:turn_cut]*1e3, label='delta_calc', color='darkgreen')\n",
    "for axis in ax:\n",
    "    axis.grid()\n",
    "fig.tight_layout()\n",
    "#plt.savefig('delta4_dppos_gaussian', dpi=300)"
   ]
  },
  {
   "cell_type": "code",
   "execution_count": null,
   "id": "9a49a162",
   "metadata": {},
   "outputs": [],
   "source": []
  }
 ],
 "metadata": {
  "kernelspec": {
   "display_name": "xcoll",
   "language": "python",
   "name": "python3"
  },
  "language_info": {
   "codemirror_mode": {
    "name": "ipython",
    "version": 3
   },
   "file_extension": ".py",
   "mimetype": "text/x-python",
   "name": "python",
   "nbconvert_exporter": "python",
   "pygments_lexer": "ipython3",
   "version": "3.13.3"
  }
 },
 "nbformat": 4,
 "nbformat_minor": 5
}
