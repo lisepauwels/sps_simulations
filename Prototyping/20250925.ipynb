{
 "cells": [
  {
   "cell_type": "code",
   "execution_count": 1,
   "id": "a7ef1d46",
   "metadata": {},
   "outputs": [],
   "source": [
    "import numpy as np\n",
    "import matplotlib.pyplot as plt\n",
    "import xtrack as xt\n",
    "import xpart as xp\n",
    "import xobjects as xo\n",
    "import xcoll as xc\n",
    "import json"
   ]
  },
  {
   "cell_type": "code",
   "execution_count": 63,
   "id": "be4c5709",
   "metadata": {},
   "outputs": [
    {
     "data": {
      "application/vnd.jupyter.widget-view+json": {
       "model_id": "b628fe4e99444cdba095873e449a9efc",
       "version_major": 2,
       "version_minor": 0
      },
      "text/plain": [
       "Loading line from dict:   0%|          | 0/36381 [00:00<?, ?it/s]"
      ]
     },
     "metadata": {},
     "output_type": "display_data"
    },
    {
     "name": "stdout",
     "output_type": "stream",
     "text": [
      "Done loading line from dict.           \n"
     ]
    }
   ],
   "source": [
    "line = xt.Line.from_json('../injection_lines/sps_with_aperture_inj_q20_beam_sagitta4.json')\n",
    "tt = line.get_table()\n",
    "tw = line.twiss()"
   ]
  },
  {
   "cell_type": "code",
   "execution_count": 3,
   "id": "2768c59e",
   "metadata": {},
   "outputs": [],
   "source": [
    "def install_tidp(line, block_mvt=29e-3):\n",
    "    tidp_ap_tot = 147e-3\n",
    "    line.discard_tracker()\n",
    "    tidp = xc.EverestCollimator(length=4.3, material=xc.materials.Carbon, jaw_L= tidp_ap_tot/2 + block_mvt, jaw_R = -tidp_ap_tot/2 + block_mvt)\n",
    "    line.collimators.install(names=['tidp.11434'], elements=[tidp])\n",
    "    return tidp\n",
    "\n",
    "def install_tcsm(line):\n",
    "    tcsm = xc.EverestCollimator(length=1.83, gap=5, material=xc.materials.Carbon) # length is 1.83\n",
    "    line.collimators.install(names=['tcsm.51932'], elements=[tcsm])\n",
    "    return tcsm\n",
    "\n",
    "def install_offmom_bpms_colls(line, exn=3.5e-6, nrj=21, pmass=0.938, bucket_height=3e-3, n_buckets=2):\n",
    "    tw = line.twiss()\n",
    "    tt = line.get_table()\n",
    "    mask_disp = 5*np.sqrt(tw.betx*exn*pmass/nrj)+n_buckets*bucket_height*tw.dx > 0.025\n",
    "    mask_bpm = ['bp' in name for name in tt.name]\n",
    "    mask_aper = np.array(['aper' in name for name in tt.name])\n",
    "    offmom_bpms = tt.name[mask_disp & mask_bpm & ~mask_aper]\n",
    "    colls = []\n",
    "    aper_to_remove = []\n",
    "    for nn in offmom_bpms:\n",
    "        aper_to_remove.append(f'{nn}.a_aper')\n",
    "        aper_to_remove.append(f'{nn}.b_aper')\n",
    "        if line[nn+'.a_aper'].__class__.__name__ == 'LimitEllipse':\n",
    "            jaw = line[nn+'.a_aper'].a\n",
    "        else:\n",
    "            jaw = line[nn+'.a_aper'].max_x\n",
    "        \n",
    "        colls.append(xc.EverestCollimator(length=line[nn].length, material=xc.materials.Beryllium, jaw=jaw))\n",
    "    line.remove(aper_to_remove)\n",
    "    line.collimators.install(names=offmom_bpms, elements=colls)\n",
    "    return colls\n",
    "\n",
    "def remove_offmom_bpms_apers(line, exn=3.5e-6, nrj=21, pmass=0.938, bucket_height=3e-3, n_buckets=2):\n",
    "    \"Remove apertures of off-momentum BPMs which give flanges as bottlenecks\"\n",
    "    mask_disp = 5*np.sqrt(tw.betx*exn*pmass/nrj)+n_buckets*bucket_height*tw.dx > 0.025\n",
    "    mask_bpm = ['bp' in name for name in tt.name]\n",
    "    mask_aper = np.array(['aper' in name for name in tt.name])\n",
    "    offmom_bpms = tt.name[mask_disp & mask_bpm & ~mask_aper]\n",
    "    aper_to_remove = [f'{name}{suffix}' for name in offmom_bpms for suffix in ('.a_aper', '.b_aper')]\n",
    "    line.remove(aper_to_remove)"
   ]
  },
  {
   "cell_type": "code",
   "execution_count": 37,
   "id": "97e4012f",
   "metadata": {},
   "outputs": [],
   "source": [
    "remove_offmom_bpms_apers(line, exn=3.5e-6, nrj=21, pmass=0.938, bucket_height=3e-3, n_buckets=2)"
   ]
  },
  {
   "cell_type": "markdown",
   "id": "b3dc544d",
   "metadata": {},
   "source": [
    "# Checking sagitta implies -5.3mm shift at end of vebb"
   ]
  },
  {
   "cell_type": "code",
   "execution_count": 13,
   "id": "3c60f94c",
   "metadata": {},
   "outputs": [],
   "source": [
    "L = line['mbb.10070'].length\n",
    "R = 1/line['mbb.10070'].k0\n",
    "angle = 2*np.pi/744"
   ]
  },
  {
   "cell_type": "code",
   "execution_count": 16,
   "id": "d6dd18e5",
   "metadata": {},
   "outputs": [],
   "source": [
    "def func(s, s0, x0, angle=angle, R=R):\n",
    "    return -np.tan(angle/2) * (s-s0) + x0"
   ]
  },
  {
   "cell_type": "code",
   "execution_count": 19,
   "id": "786ecbf3",
   "metadata": {},
   "outputs": [
    {
     "name": "stdout",
     "output_type": "stream",
     "text": [
      "-0.0044 -0.005225055956482894\n"
     ]
    }
   ],
   "source": [
    "s0 = L/2\n",
    "x0 = -4.4e-3\n",
    "print(func(L/2, s0, x0), func(L/2 + line.get_s_position('vebb.10070.b_aper') - line.get_s_position('mbb.10070_exit'), s0, x0))"
   ]
  },
  {
   "cell_type": "markdown",
   "id": "7ddf948b",
   "metadata": {},
   "source": [
    "Gives -5.225mm, which is ok"
   ]
  },
  {
   "cell_type": "markdown",
   "id": "0ed100b9",
   "metadata": {},
   "source": [
    "# VEBB and VEBA apertures need to be shifted as well"
   ]
  },
  {
   "cell_type": "code",
   "execution_count": 38,
   "id": "5a3b7082",
   "metadata": {},
   "outputs": [],
   "source": [
    "veb_b_apers = tt.rows['veb.*.b_aper'].name"
   ]
  },
  {
   "cell_type": "code",
   "execution_count": 40,
   "id": "708d9db3",
   "metadata": {},
   "outputs": [],
   "source": [
    "for name in veb_b_apers:\n",
    "    line[name].shift_x += 5.3e-3"
   ]
  },
  {
   "cell_type": "code",
   "execution_count": 65,
   "id": "99aa211e",
   "metadata": {},
   "outputs": [],
   "source": [
    "tt = line.get_table()\n",
    "tw = line.twiss()"
   ]
  },
  {
   "cell_type": "code",
   "execution_count": 66,
   "id": "609648dd",
   "metadata": {},
   "outputs": [],
   "source": [
    "import apertls\n",
    "ap_calc = apertls.ApertureCalculator(line)\n",
    "x_ext = ap_calc.compute_x_extent()"
   ]
  },
  {
   "cell_type": "code",
   "execution_count": 67,
   "id": "6c2e0aab",
   "metadata": {},
   "outputs": [
    {
     "data": {
      "image/png": "[encoded data removed]",
      "text/plain": [
       "<Figure size 1000x600 with 1 Axes>"
      ]
     },
     "metadata": {},
     "output_type": "display_data"
    }
   ],
   "source": [
    "exn=3.5e-6\n",
    "nrj=21\n",
    "pmass=0.938\n",
    "bucket_height=3e-3\n",
    "n_buckets = 1\n",
    "\n",
    "mask = np.array([line[nn].__class__.__name__.startswith('Limit') for nn in tt.name[:-1]])\n",
    "mask = np.concatenate((mask, [False]))\n",
    "fig, ax = plt.subplots(figsize=(10,6))\n",
    "ax.plot(tt.s[mask], x_ext[:, 0], '*-', color='k')\n",
    "ax.plot(tt.s[mask], x_ext[:, 1], '*-', color='k')\n",
    "ax.plot(tw.s, 5*np.sqrt(tw.betx*exn*pmass/nrj), color='green', label='5 sigma')\n",
    "ax.plot(tw.s, -5*np.sqrt(tw.betx*exn*pmass/nrj), color='green')\n",
    "\n",
    "ax.plot(tw.s, 5*np.sqrt(tw.betx*exn*pmass/nrj)+n_buckets*bucket_height*tw.dx, color='red', label='5 sigma + bucket')\n",
    "ax.plot(tw.s, -5*np.sqrt(tw.betx*exn*pmass/nrj)-n_buckets*bucket_height*tw.dx, color='red')\n",
    "\n",
    "ax.fill_between(tw.s, -5*np.sqrt(tw.betx*exn*pmass/nrj), 5*np.sqrt(tw.betx*exn*pmass/nrj), color='green', alpha=0.1)\n",
    "ax.fill_between(tw.s, -5*np.sqrt(tw.betx*exn*pmass/nrj)-n_buckets*bucket_height*tw.dx, -5*np.sqrt(tw.betx*exn*pmass/nrj), color='red', alpha=0.1)\n",
    "ax.fill_between(tw.s, 5*np.sqrt(tw.betx*exn*pmass/nrj)+n_buckets*bucket_height*tw.dx, 5*np.sqrt(tw.betx*exn*pmass/nrj), color='red', alpha=0.1)\n",
    "ax.grid()\n",
    "# ax.legend()\n",
    "ax.set_xlim(23,33)\n",
    "ax.set_xlabel('s [m]')\n",
    "ax.set_ylabel('x [m]')\n",
    "ax.hlines(0.02, 5200, 6200)\n",
    "# plt.savefig('x_extent_with_bucket.pdf', dpi=300)\n",
    "plt.show()"
   ]
  },
  {
   "cell_type": "markdown",
   "id": "94d6c57e",
   "metadata": {},
   "source": [
    "# Installing collimator flanges"
   ]
  },
  {
   "cell_type": "markdown",
   "id": "2f463423",
   "metadata": {},
   "source": [
    "## New flanges\n",
    "\n",
    "Start with apertures to generate slices, then we can fill with collimators"
   ]
  },
  {
   "cell_type": "code",
   "execution_count": 44,
   "id": "e5603147",
   "metadata": {},
   "outputs": [],
   "source": [
    "L1 = 34e-3\n",
    "L2 = 70e-3\n",
    "\n",
    "r1 = 41.5e-3\n",
    "r2 = 60e-3-1.5e-3\n",
    "r3 = 51.5e-3"
   ]
  },
  {
   "cell_type": "code",
   "execution_count": 45,
   "id": "538501c6",
   "metadata": {},
   "outputs": [],
   "source": [
    "changed = [10110, 11110, 11310, 12510, 13510, 20910, 21110, 22510, 23510, 30110, 30910,\n",
    "32510, 33510, 40110, 40910, 41110, 42510, 42710, 51110, 52510, 53510, 60110,\n",
    "61110, 62510, 63510]"
   ]
  },
  {
   "cell_type": "code",
   "execution_count": 64,
   "id": "78f2478d",
   "metadata": {},
   "outputs": [
    {
     "data": {
      "application/vnd.jupyter.widget-view+json": {
       "model_id": "34fba85a1f1f495981c33bced3bdf8bb",
       "version_major": 2,
       "version_minor": 0
      },
      "text/plain": [
       "Slicing line:   0%|          | 0/32538 [00:00<?, ?it/s]"
      ]
     },
     "metadata": {},
     "output_type": "display_data"
    }
   ],
   "source": [
    "env = line.env\n",
    "\n",
    "insertions = []\n",
    "for nn in changed:\n",
    "    nn_flange = f'vcak.{nn-9}.a_aper'\n",
    "    line[nn_flange].shift_x -=5.3e-3\n",
    "\n",
    "    #Add apertures for intermediate flanges\n",
    "    start_flange = line.get_s_position(nn_flange)\n",
    "    \n",
    "    s_aper_c = start_flange + L1\n",
    "    s_aper_d = start_flange + L1 + L2\n",
    "    s_aper_e = start_flange + L1 + L2\n",
    "    \n",
    "    env.elements[f'vcak.{nn-9}.c_aper'] = xt.LimitEllipse(a=r1, b=r1, shift_x = -5.3e-3)\n",
    "    insertions.append(env.place(f'vcak.{nn-9}.c_aper', at=s_aper_c))\n",
    "    env.elements[f'vcak.{nn-9}.d_aper'] = xt.LimitEllipse(a=r1, b=r1, shift_x = -5.3e-3)\n",
    "    insertions.append(env.place(f'vcak.{nn-9}.d_aper', at=s_aper_d))\n",
    "\n",
    "    env.elements[f'vcak.{nn-9}.d_aper'] = xt.LimitEllipse(a=r2, b=r2)\n",
    "    insertions.append(env.place(f'vcak.{nn-9}.d_aper', at=s_aper_d))\n",
    "line.insert(insertions, s_tol=1e-6)"
   ]
  },
  {
   "cell_type": "code",
   "execution_count": 55,
   "id": "0952ee7a",
   "metadata": {},
   "outputs": [
    {
     "data": {
      "text/plain": [
       "np.float64(29.885599999999997)"
      ]
     },
     "execution_count": 55,
     "metadata": {},
     "output_type": "execute_result"
    }
   ],
   "source": [
    "line.get_s_position('vcak.10101.a_aper') + L1"
   ]
  },
  {
   "cell_type": "code",
   "execution_count": 53,
   "id": "34fa9d1a",
   "metadata": {},
   "outputs": [
    {
     "name": "stdout",
     "output_type": "stream",
     "text": [
      "10110 ['vcak.10101.a_aper' 'vcak.10101.b_aper']\n",
      "11110 ['vcak.11101.a_aper' 'vcak.11101.b_aper']\n",
      "11310 ['vcak.11301.a_aper' 'vcak.11301.b_aper']\n",
      "12510 ['vcak.12501.a_aper' 'vcak.12501.b_aper']\n",
      "13510 ['vcak.13501.a_aper' 'vcak.13501.b_aper']\n",
      "20910 ['vcak.20901.a_aper' 'vcak.20901.b_aper']\n",
      "21110 ['vcak.21101.a_aper' 'vcak.21101.b_aper']\n",
      "22510 ['vcak.22501.a_aper' 'vcak.22501.b_aper']\n",
      "23510 ['vcak.23501.a_aper' 'vcak.23501.b_aper']\n",
      "30110 ['vcak.30101.a_aper' 'vcak.30101.b_aper']\n",
      "30910 ['vcak.30901.a_aper' 'vcak.30901.b_aper']\n",
      "32510 ['vcak.32501.a_aper' 'vcak.32501.b_aper']\n",
      "33510 ['vcak.33501.a_aper' 'vcak.33501.b_aper']\n",
      "40110 ['vcak.40101.a_aper' 'vcak.40101.b_aper']\n",
      "40910 ['vcak.40901.a_aper' 'vcak.40901.b_aper']\n",
      "41110 ['vcak.41101.a_aper' 'vcak.41101.b_aper']\n",
      "42510 ['vcak.42501.a_aper' 'vcak.42501.b_aper']\n",
      "42710 ['vcak.42701.a_aper' 'vcak.42701.b_aper']\n",
      "51110 ['vcak.51101.a_aper' 'vcak.51101.b_aper']\n",
      "52510 ['vcak.52501.a_aper' 'vcak.52501.b_aper']\n",
      "53510 ['vcak.53501.a_aper' 'vcak.53501.b_aper']\n",
      "60110 ['vcak.60101.a_aper' 'vcak.60101.b_aper']\n",
      "61110 ['vcak.61101.a_aper' 'vcak.61101.b_aper']\n",
      "62510 ['vcak.62501.a_aper' 'vcak.62501.b_aper']\n",
      "63510 ['vcak.63501.a_aper' 'vcak.63501.b_aper']\n"
     ]
    }
   ],
   "source": [
    "for nn in changed:\n",
    "    print(nn, tt.rows[f'.*{nn-9}.*'].name)"
   ]
  }
 ],
 "metadata": {
  "kernelspec": {
   "display_name": "xcoll",
   "language": "python",
   "name": "python3"
  },
  "language_info": {
   "codemirror_mode": {
    "name": "ipython",
    "version": 3
   },
   "file_extension": ".py",
   "mimetype": "text/x-python",
   "name": "python",
   "nbconvert_exporter": "python",
   "pygments_lexer": "ipython3",
   "version": "3.13.3"
  }
 },
 "nbformat": 4,
 "nbformat_minor": 5
}
