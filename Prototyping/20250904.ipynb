{
 "cells": [
  {
   "cell_type": "code",
   "execution_count": 1,
   "id": "a87bfe16",
   "metadata": {},
   "outputs": [],
   "source": [
    "import numpy as np\n",
    "import matplotlib.pyplot as plt\n",
    "import xtrack as xt\n",
    "import xobjects as xo\n",
    "import xpart as xp\n",
    "import xcoll as xc"
   ]
  },
  {
   "cell_type": "code",
   "execution_count": 2,
   "id": "0a29453b",
   "metadata": {},
   "outputs": [
    {
     "name": "stdout",
     "output_type": "stream",
     "text": [
      "0.6.2\n"
     ]
    }
   ],
   "source": [
    "print(xc.__version__)"
   ]
  },
  {
   "cell_type": "code",
   "execution_count": 3,
   "id": "1f5dc01e",
   "metadata": {},
   "outputs": [],
   "source": [
    "def install_tidp(line, block_mvt=29e-3):\n",
    "    tidp_ap_tot = 147e-3\n",
    "    line.discard_tracker()\n",
    "    tidp = xc.EverestCollimator(length=4.3, material=xc.materials.Carbon, jaw_L= tidp_ap_tot/2 + block_mvt, jaw_R = -tidp_ap_tot/2 + block_mvt)\n",
    "    line.collimators.install(names=['tidp.11434'], elements=[tidp])\n",
    "    return tidp"
   ]
  },
  {
   "cell_type": "code",
   "execution_count": 9,
   "id": "b0cfc634",
   "metadata": {},
   "outputs": [
    {
     "name": "stderr",
     "output_type": "stream",
     "text": [
      "Loading line from dict: 100%|██████████| 36404/36404 [00:01<00:00, 32891.64it/s]"
     ]
    },
    {
     "name": "stdout",
     "output_type": "stream",
     "text": [
      "Done loading line from dict.           \n"
     ]
    },
    {
     "name": "stderr",
     "output_type": "stream",
     "text": [
      "\n"
     ]
    }
   ],
   "source": [
    "context = xo.ContextCpu()\n",
    "line = xt.Line.from_json('../injection_lines/sps_with_aperture_inj_q20_beam_sagitta5.json')\n",
    "\n",
    "line.vars['qph_setvalue'] = 0.5\n",
    "line.vars['qpv_setvalue'] = 0.5\n",
    "line.vars['qh_setvalue'] = line.vars['qx0']._value + 0.05\n",
    "line.vars['qv_setvalue'] = line.vars['qy0']._value + 0.05\n",
    "\n",
    "cavity_elements, cavity_names = line.get_elements_of_type(xt.Cavity)\n",
    "\n",
    "for name in cavity_names:\n",
    "    line[name].frequency = 200e6\n",
    "    line[name].lag = 180\n",
    "line['acl.31735'].voltage = 0 #setting 800 cav to 0V\n",
    "line['actcse.31632'].voltage = 3.0e6"
   ]
  },
  {
   "cell_type": "code",
   "execution_count": 10,
   "id": "c2060628",
   "metadata": {},
   "outputs": [],
   "source": [
    "num_particles  = 100\n",
    "plane = 'DPneg'\n",
    "sweep = 6000\n",
    "sweep = -abs(sweep) if plane == 'DPpos' else abs(sweep)\n",
    "num_turns = 6000"
   ]
  },
  {
   "cell_type": "code",
   "execution_count": 11,
   "id": "13059ee7",
   "metadata": {},
   "outputs": [
    {
     "name": "stderr",
     "output_type": "stream",
     "text": [
      "Slicing line: 100%|██████████| 33012/33012 [00:00<00:00, 768944.86it/s]\n"
     ]
    }
   ],
   "source": [
    "tidp = install_tidp(line)\n",
    "\n",
    "tt = line.get_table()\n",
    "tw = line.twiss()"
   ]
  },
  {
   "cell_type": "code",
   "execution_count": 12,
   "id": "0f31d370",
   "metadata": {},
   "outputs": [],
   "source": [
    "#Particles\n",
    "x_spacing = np.linspace(-0.025, 0.025, int(np.sqrt(num_particles)))\n",
    "y_spacing = np.linspace(-0.025, 0.025, int(np.sqrt(num_particles)))\n",
    "\n",
    "X, Y = np.meshgrid(x_spacing, y_spacing, indexing='xy')\n",
    "x_norm = X.ravel()\n",
    "y_norm = Y.ravel()\n",
    "\n",
    "px_norm = np.zeros_like(x_norm)\n",
    "py_norm = np.zeros_like(x_norm)\n",
    "zeta = np.ones_like(x_norm)*tw.particle_on_co.zeta\n",
    "delta = np.ones_like(x_norm)*tw.particle_on_co.delta\n",
    "\n",
    "part = line.build_particles(x_norm=x_norm, px_norm=px_norm, y_norm=y_norm, py_norm=py_norm, nemitt_x=3.5e-6, nemitt_y=3.5e-6, zeta=zeta, delta=delta)"
   ]
  },
  {
   "cell_type": "code",
   "execution_count": 13,
   "id": "01b938fc",
   "metadata": {},
   "outputs": [
    {
     "ename": "AttributeError",
     "evalue": "'RFSweep' object has no attribute 'prepare'",
     "output_type": "error",
     "traceback": [
      "\u001b[31m---------------------------------------------------------------------------\u001b[39m",
      "\u001b[31mAttributeError\u001b[39m                            Traceback (most recent call last)",
      "\u001b[36mCell\u001b[39m\u001b[36m \u001b[39m\u001b[32mIn[13]\u001b[39m\u001b[32m, line 2\u001b[39m\n\u001b[32m      1\u001b[39m rf_sweep = xc.RFSweep(line)\n\u001b[32m----> \u001b[39m\u001b[32m2\u001b[39m \u001b[43mrf_sweep\u001b[49m\u001b[43m.\u001b[49m\u001b[43mprepare\u001b[49m(sweep_per_turn=sweep/num_turns)\n\u001b[32m      3\u001b[39m rf_sweep.info()\n",
      "\u001b[31mAttributeError\u001b[39m: 'RFSweep' object has no attribute 'prepare'"
     ]
    }
   ],
   "source": [
    "rf_sweep = xc.RFSweep(line)\n",
    "rf_sweep.prepare(sweep_per_turn=sweep/num_turns)\n",
    "rf_sweep.info()"
   ]
  },
  {
   "cell_type": "code",
   "execution_count": null,
   "id": "7b4f2eed",
   "metadata": {},
   "outputs": [],
   "source": []
  }
 ],
 "metadata": {
  "kernelspec": {
   "display_name": "xcoll",
   "language": "python",
   "name": "python3"
  },
  "language_info": {
   "codemirror_mode": {
    "name": "ipython",
    "version": 3
   },
   "file_extension": ".py",
   "mimetype": "text/x-python",
   "name": "python",
   "nbconvert_exporter": "python",
   "pygments_lexer": "ipython3",
   "version": "3.13.7"
  }
 },
 "nbformat": 4,
 "nbformat_minor": 5
}
