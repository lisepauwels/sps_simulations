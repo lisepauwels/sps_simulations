{
 "cells": [
  {
   "cell_type": "code",
   "execution_count": 2,
   "id": "a87bfe16",
   "metadata": {},
   "outputs": [],
   "source": [
    "import numpy as np\n",
    "import matplotlib.pyplot as plt\n",
    "import xtrack as xt\n",
    "import xobjects as xo\n",
    "import xpart as xp\n",
    "import xcoll as xc\n",
    "import time\n",
    "start_time = time.time()"
   ]
  },
  {
   "cell_type": "code",
   "execution_count": 3,
   "id": "0a29453b",
   "metadata": {},
   "outputs": [
    {
     "name": "stdout",
     "output_type": "stream",
     "text": [
      "0.6.3\n"
     ]
    }
   ],
   "source": [
    "print(xc.__version__)"
   ]
  },
  {
   "cell_type": "code",
   "execution_count": 4,
   "id": "1f5dc01e",
   "metadata": {},
   "outputs": [],
   "source": [
    "def install_tidp(line, block_mvt=29e-3):\n",
    "    tidp_ap_tot = 147e-3\n",
    "    line.discard_tracker()\n",
    "    tidp = xc.EverestCollimator(length=4.3, material=xc.materials.Carbon, jaw_L= tidp_ap_tot/2 + block_mvt, jaw_R = -tidp_ap_tot/2 + block_mvt)\n",
    "    line.collimators.install(names=['tidp.11434'], elements=[tidp])\n",
    "    return tidp"
   ]
  },
  {
   "cell_type": "code",
   "execution_count": 5,
   "id": "b0cfc634",
   "metadata": {},
   "outputs": [
    {
     "data": {
      "application/vnd.jupyter.widget-view+json": {
       "model_id": "7819423fcf254fdba554433a5774a1c5",
       "version_major": 2,
       "version_minor": 0
      },
      "text/plain": [
       "Loading line from dict:   0%|          | 0/36404 [00:00<?, ?it/s]"
      ]
     },
     "metadata": {},
     "output_type": "display_data"
    },
    {
     "name": "stdout",
     "output_type": "stream",
     "text": [
      "Done loading line from dict.           \n"
     ]
    }
   ],
   "source": [
    "context = xo.ContextCpu()\n",
    "line = xt.Line.from_json('../injection_lines/sps_with_aperture_inj_q20_beam_sagitta5.json')\n",
    "\n",
    "line.vars['qph_setvalue'] = 0.5\n",
    "line.vars['qpv_setvalue'] = 0.5\n",
    "line.vars['qh_setvalue'] = line.vars['qx0']._value + 0.05\n",
    "line.vars['qv_setvalue'] = line.vars['qy0']._value + 0.05\n",
    "\n",
    "cavity_elements, cavity_names = line.get_elements_of_type(xt.Cavity)\n",
    "\n",
    "for name in cavity_names:\n",
    "    line[name].frequency = 200e6\n",
    "    line[name].lag = 180\n",
    "line['acl.31735'].voltage = 0 #setting 800 cav to 0V\n",
    "line['actcse.31632'].voltage = 3.0e6"
   ]
  },
  {
   "cell_type": "code",
   "execution_count": 6,
   "id": "e0702802",
   "metadata": {},
   "outputs": [],
   "source": [
    "tt = line.get_table()"
   ]
  },
  {
   "cell_type": "code",
   "execution_count": 7,
   "id": "5fcbeb3b",
   "metadata": {},
   "outputs": [
    {
     "data": {
      "text/plain": [
       "Table: 18615 rows, 11 cols\n",
       "name                             s element_type        isthick isreplica parent_name iscollective ...\n",
       "mba.10030_entry            3.44499 Marker                False     False None               False\n",
       "mba.10030..entry_map       3.44499 ThinSliceRBendEntry   False     False mba.10030          False\n",
       "mba.10030..0_aper2         3.44499 LimitRect             False     False None               False\n",
       "mba.10030..0               3.44499 ThickSliceRBend        True     False mba.10030          False\n",
       "mba.10030..1_aper2         4.07099 LimitRect             False     False None               False\n",
       "mba.10030..1               4.07099 ThickSliceRBend        True     False mba.10030          False\n",
       "mba.10030..2_aper2         4.69699 LimitRect             False     False None               False\n",
       "mba.10030..2               4.69699 ThickSliceRBend        True     False mba.10030          False\n",
       "mba.10030..3_aper2           5.323 LimitRect             False     False None               False\n",
       "mba.10030..3                 5.323 ThickSliceRBend        True     False mba.10030          False\n",
       "...\n",
       "mba.63590..6              6906.65 ThickSliceRBend       True     False mba.63590          False\n",
       "mba.63590..7_aper2        6907.27 LimitRect            False     False None               False\n",
       "mba.63590..7              6907.27 ThickSliceRBend       True     False mba.63590          False\n",
       "mba.63590..8_aper2         6907.9 LimitRect            False     False None               False\n",
       "mba.63590..8               6907.9 ThickSliceRBend       True     False mba.63590          False\n",
       "mba.63590..9_aper2        6908.53 LimitRect            False     False None               False\n",
       "mba.63590..9              6908.53 ThickSliceRBend       True     False mba.63590          False\n",
       "mba.63590..10_aper2       6909.15 LimitRect            False     False None               False\n",
       "mba.63590..exit_map       6909.15 ThinSliceRBendExit   False     False mba.63590          False\n",
       "mba.63590_exit            6909.15 Marker               False     False None               False"
      ]
     },
     "execution_count": 7,
     "metadata": {},
     "output_type": "execute_result"
    }
   ],
   "source": [
    "tt.rows['.*mb.*']"
   ]
  },
  {
   "cell_type": "code",
   "execution_count": 9,
   "id": "bd0eed28",
   "metadata": {},
   "outputs": [
    {
     "data": {
      "text/plain": [
       "View of RBend(length_straight=6.26, angle=0.00845, length=6.26, k0=0.00135, k1=0, h=0.00135, k0_from_h=True, model='adaptive', knl=array([0., 0., 0., 0., 0., 0.]), ksl=array([0., 0., 0., 0., 0., 0.]), edge_entry_active=np.int64(1), edge_exit_active=np.int64(1), edge_entry_model='linear', edge_exit_model='linear', edge_entry_angle=0, edge_exit_angle=0, edge_entry_angle_fdown=0, edge_exit_angle_fdown=0, edge_entry_fint=0, edge_exit_fint=0, edge_entry_hgap=0, edge_exit_hgap=0, shift_x=0, shift_y=0, rot_s_rad=0)"
      ]
     },
     "execution_count": 9,
     "metadata": {},
     "output_type": "execute_result"
    }
   ],
   "source": [
    "line['mba.10030']"
   ]
  },
  {
   "cell_type": "code",
   "execution_count": 14,
   "id": "cd048387",
   "metadata": {},
   "outputs": [
    {
     "data": {
      "text/plain": [
       "np.float64(7.779018951032102e-07)"
      ]
     },
     "execution_count": 14,
     "metadata": {},
     "output_type": "execute_result"
    }
   ],
   "source": [
    "np.tan(2*np.pi/744)*1/(line.get_length()/2*np.pi)"
   ]
  },
  {
   "cell_type": "code",
   "execution_count": 41,
   "id": "e5b8d1d8",
   "metadata": {},
   "outputs": [
    {
     "name": "stdout",
     "output_type": "stream",
     "text": [
      "Compiling ContextCpu kernels...\n"
     ]
    },
    {
     "name": "stderr",
     "output_type": "stream",
     "text": [
      "ld: warning: duplicate -rpath '/Users/lisepauwels/miniforge3/envs/xcoll/lib' ignored\n",
      "ld: warning: duplicate -rpath '/Users/lisepauwels/miniforge3/envs/xcoll/lib' ignored\n"
     ]
    },
    {
     "name": "stdout",
     "output_type": "stream",
     "text": [
      "Done compiling ContextCpu kernels.\n"
     ]
    }
   ],
   "source": [
    "tw = line.twiss()"
   ]
  },
  {
   "cell_type": "code",
   "execution_count": 45,
   "id": "1c51ba0f",
   "metadata": {},
   "outputs": [],
   "source": [
    "tt = line.get_table()"
   ]
  },
  {
   "cell_type": "code",
   "execution_count": 35,
   "id": "c2060628",
   "metadata": {},
   "outputs": [],
   "source": [
    "num_particles  = 100\n",
    "plane = 'DPneg'\n",
    "sweep = 6000\n",
    "sweep = -abs(sweep) if plane == 'DPpos' else abs(sweep)\n",
    "num_turns = 6000"
   ]
  },
  {
   "cell_type": "code",
   "execution_count": 36,
   "id": "13059ee7",
   "metadata": {},
   "outputs": [
    {
     "data": {
      "application/vnd.jupyter.widget-view+json": {
       "model_id": "3e8e9b552c7e4d028a80b704b27ebeed",
       "version_major": 2,
       "version_minor": 0
      },
      "text/plain": [
       "Slicing line:   0%|          | 0/33012 [00:00<?, ?it/s]"
      ]
     },
     "metadata": {},
     "output_type": "display_data"
    },
    {
     "name": "stdout",
     "output_type": "stream",
     "text": [
      "Compiling ContextCpu kernels...\n"
     ]
    },
    {
     "name": "stderr",
     "output_type": "stream",
     "text": [
      "ld: warning: duplicate -rpath '/Users/lisepauwels/miniforge3/envs/xcoll/lib' ignored\n",
      "ld: warning: duplicate -rpath '/Users/lisepauwels/miniforge3/envs/xcoll/lib' ignored\n"
     ]
    },
    {
     "name": "stdout",
     "output_type": "stream",
     "text": [
      "Done compiling ContextCpu kernels.\n"
     ]
    }
   ],
   "source": [
    "tidp = install_tidp(line)\n",
    "\n",
    "tt = line.get_table()\n",
    "tw = line.twiss()"
   ]
  },
  {
   "cell_type": "code",
   "execution_count": 37,
   "id": "0f31d370",
   "metadata": {},
   "outputs": [],
   "source": [
    "#Particles\n",
    "x_spacing = np.linspace(-0.025, 0.025, int(np.sqrt(num_particles)))\n",
    "y_spacing = np.linspace(-0.025, 0.025, int(np.sqrt(num_particles)))\n",
    "\n",
    "X, Y = np.meshgrid(x_spacing, y_spacing, indexing='xy')\n",
    "x_norm = X.ravel()\n",
    "y_norm = Y.ravel()\n",
    "\n",
    "px_norm = np.zeros_like(x_norm)\n",
    "py_norm = np.zeros_like(x_norm)\n",
    "zeta = np.ones_like(x_norm)*tw.particle_on_co.zeta\n",
    "delta = np.ones_like(x_norm)*tw.particle_on_co.delta\n",
    "\n",
    "part = line.build_particles(x_norm=x_norm, px_norm=px_norm, y_norm=y_norm, py_norm=py_norm, nemitt_x=3.5e-6, nemitt_y=3.5e-6, zeta=zeta, delta=delta)"
   ]
  },
  {
   "cell_type": "code",
   "execution_count": 38,
   "id": "01b938fc",
   "metadata": {},
   "outputs": [
    {
     "name": "stdout",
     "output_type": "stream",
     "text": [
      "Compiling ContextCpu kernels...\n"
     ]
    },
    {
     "name": "stderr",
     "output_type": "stream",
     "text": [
      "ld: warning: duplicate -rpath '/Users/lisepauwels/miniforge3/envs/xcoll/lib' ignored\n",
      "ld: warning: duplicate -rpath '/Users/lisepauwels/miniforge3/envs/xcoll/lib' ignored\n"
     ]
    },
    {
     "name": "stdout",
     "output_type": "stream",
     "text": [
      "Done compiling ContextCpu kernels.\n"
     ]
    },
    {
     "data": {
      "application/vnd.jupyter.widget-view+json": {
       "model_id": "21638f53524343978fd83c5ad5e5ba79",
       "version_major": 2,
       "version_minor": 0
      },
      "text/plain": [
       "Slicing line:   0%|          | 0/33012 [00:00<?, ?it/s]"
      ]
     },
     "metadata": {},
     "output_type": "display_data"
    },
    {
     "name": "stdout",
     "output_type": "stream",
     "text": [
      "Compiling ContextCpu kernels...\n"
     ]
    },
    {
     "name": "stderr",
     "output_type": "stream",
     "text": [
      "ld: warning: duplicate -rpath '/Users/lisepauwels/miniforge3/envs/xcoll/lib' ignored\n",
      "ld: warning: duplicate -rpath '/Users/lisepauwels/miniforge3/envs/xcoll/lib' ignored\n"
     ]
    },
    {
     "name": "stdout",
     "output_type": "stream",
     "text": [
      "Done compiling ContextCpu kernels.\n",
      "Compiling ContextCpu kernels...\n"
     ]
    },
    {
     "name": "stderr",
     "output_type": "stream",
     "text": [
      "ld: warning: duplicate -rpath '/Users/lisepauwels/miniforge3/envs/xcoll/lib' ignored\n",
      "ld: warning: duplicate -rpath '/Users/lisepauwels/miniforge3/envs/xcoll/lib' ignored\n"
     ]
    },
    {
     "name": "stdout",
     "output_type": "stream",
     "text": [
      "Done compiling ContextCpu kernels.\n",
      "Enabled time-dependent variables in the line.\n",
      "The current frequency is 200000001.0Hz, adding 1.0Hz per turn.\n",
      "This sweep will move the center of the bucket with Δδ = -2.8161579466079087e-06 per turn.\n",
      "This implies one bucket shift every 2127.8453063855036 turns.\n"
     ]
    },
    {
     "data": {
      "application/vnd.jupyter.widget-view+json": {
       "model_id": "4054accd245b4704a241b96050ab4906",
       "version_major": 2,
       "version_minor": 0
      },
      "text/plain": [
       "Tracking:   0%|          | 0/6000 [00:00<?, ?it/s]"
      ]
     },
     "metadata": {},
     "output_type": "display_data"
    },
    {
     "name": "stdout",
     "output_type": "stream",
     "text": [
      "Done sweeping RF in 92.2s.\n"
     ]
    }
   ],
   "source": [
    "# Move the line to an OpenMP context to be able to use all cores\n",
    "line.discard_tracker()\n",
    "line.build_tracker(_context=xo.ContextCpu(omp_num_threads='auto'))\n",
    "# Should move iobuffer as well in case of impacts\n",
    "\n",
    "\n",
    "# Print some info of the RF sweep\n",
    "rf_sweep = xc.RFSweep(line)\n",
    "rf_sweep.prepare(sweep_per_turn=sweep/num_turns)\n",
    "rf_sweep.info()\n",
    "\n",
    "\n",
    "# Track during RF sweep:\n",
    "line.scattering.enable()\n",
    "line.track(particles=part, num_turns=num_turns, time=True, with_progress=5)\n",
    "line.scattering.disable()\n",
    "print(f\"Done sweeping RF in {line.time_last_track:.1f}s.\")\n",
    "\n",
    "# rf_sweep = xc.RFSweep(line)\n",
    "# rf_sweep.info(sweep=sweep, num_turns=num_turns)\n",
    "\n",
    "# line.discard_tracker()\n",
    "# line.build_tracker(_context=xo.ContextCpu(omp_num_threads='auto'))\n",
    "# line.scattering.enable()\n",
    "# rf_sweep.track(sweep=sweep, particles=part, num_turns=num_turns, time=True, with_progress=True)\n",
    "# line.scattering.disable()"
   ]
  },
  {
   "cell_type": "code",
   "execution_count": 24,
   "id": "7b4f2eed",
   "metadata": {},
   "outputs": [
    {
     "data": {
      "text/plain": [
       "array([0, 0, 0, 0, 0, 0, 0, 0, 0, 0, 0, 0, 0, 0, 0, 0, 0, 0, 0, 0, 0, 0,\n",
       "       0, 0, 0, 0, 0, 0, 0, 0, 0, 0, 0, 0, 0, 0, 0, 0, 0, 0, 0, 0, 0, 0,\n",
       "       0, 0, 0, 0, 0, 0, 0, 0, 0, 0, 0, 0, 0, 0, 0, 0, 0, 0, 0, 0, 0, 0,\n",
       "       0, 0, 0, 0, 0, 0, 0, 0, 0, 0, 0, 0, 0, 0, 0, 0, 0, 0, 0, 0, 0, 0,\n",
       "       0, 0, 0, 0, 0, 0, 0, 0, 0, 0, 0, 0])"
      ]
     },
     "execution_count": 24,
     "metadata": {},
     "output_type": "execute_result"
    }
   ],
   "source": [
    "part.state"
   ]
  },
  {
   "cell_type": "code",
   "execution_count": 39,
   "id": "00594fca",
   "metadata": {},
   "outputs": [
    {
     "data": {
      "text/plain": [
       "-0.016896947679647452"
      ]
     },
     "execution_count": 39,
     "metadata": {},
     "output_type": "execute_result"
    }
   ],
   "source": [
    "-2.8161579466079087e-06*6000"
   ]
  },
  {
   "cell_type": "code",
   "execution_count": null,
   "id": "135d4f9b",
   "metadata": {},
   "outputs": [],
   "source": []
  }
 ],
 "metadata": {
  "kernelspec": {
   "display_name": "xcoll",
   "language": "python",
   "name": "python3"
  },
  "language_info": {
   "codemirror_mode": {
    "name": "ipython",
    "version": 3
   },
   "file_extension": ".py",
   "mimetype": "text/x-python",
   "name": "python",
   "nbconvert_exporter": "python",
   "pygments_lexer": "ipython3",
   "version": "3.13.3"
  }
 },
 "nbformat": 4,
 "nbformat_minor": 5
}
