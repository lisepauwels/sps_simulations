{
 "cells": [
  {
   "cell_type": "code",
   "execution_count": 1,
   "id": "a4e472a4",
   "metadata": {},
   "outputs": [],
   "source": [
    "import numpy as np\n",
    "import matplotlib.pyplot as plt\n",
    "\n",
    "import xtrack as xt\n",
    "import xpart as xp\n",
    "import xobjects as xo\n",
    "import xcoll as xc"
   ]
  },
  {
   "cell_type": "markdown",
   "id": "5bf05da0",
   "metadata": {},
   "source": [
    "new_builder test to put in collimators as pipes"
   ]
  },
  {
   "cell_type": "code",
   "execution_count": 154,
   "id": "548814fa",
   "metadata": {},
   "outputs": [
    {
     "data": {
      "application/vnd.jupyter.widget-view+json": {
       "model_id": "fea83c20dc4b4bd0a24766f27c379543",
       "version_major": 2,
       "version_minor": 0
      },
      "text/plain": [
       "Loading line from dict:   0%|          | 0/4037 [00:00<?, ?it/s]"
      ]
     },
     "metadata": {},
     "output_type": "display_data"
    }
   ],
   "source": [
    "#Line with just elements\n",
    "env = xt.load(xc._pkg_root.parent / 'examples' / 'machines' / 'sps_q20_inj.json')\n",
    "tt = env.sps.get_table()\n",
    "tt = tt.rows[[not nn.startswith('drift_') for nn in tt.name]]\n",
    "tt = tt.rows[[not 'Drift' in ee and not 'Marker' in ee for  ee in  tt.element_type]]\n",
    "length_builder = tt.s[-1]\n",
    "assert tt.name[-1] == '_end_point'\n",
    "tt = tt.rows[:-1]"
   ]
  },
  {
   "cell_type": "code",
   "execution_count": 142,
   "id": "5fcd5592",
   "metadata": {},
   "outputs": [],
   "source": [
    "builder = env.new_builder(length=length_builder)\n",
    "builder.particle_ref = env.sps.particle_ref\n",
    "\n",
    "for nn in tt.name:\n",
    "    builder.place(nn, at=tt['s_start', nn], anchor='start')"
   ]
  },
  {
   "cell_type": "code",
   "execution_count": 99,
   "id": "70088306",
   "metadata": {},
   "outputs": [],
   "source": [
    "# line2 = builder.build()\n",
    "# line2.particle_ref = env.sps.particle_ref\n",
    "# tt_line2 = line2.get_table()"
   ]
  },
  {
   "cell_type": "code",
   "execution_count": 127,
   "id": "14868ed5",
   "metadata": {},
   "outputs": [
    {
     "data": {
      "application/vnd.jupyter.widget-view+json": {
       "model_id": "8a44d3f93a4046ed8e3e1a39a276b37c",
       "version_major": 2,
       "version_minor": 0
      },
      "text/plain": [
       "Loading line from dict:   0%|          | 0/17781 [00:00<?, ?it/s]"
      ]
     },
     "metadata": {},
     "output_type": "display_data"
    },
    {
     "name": "stdout",
     "output_type": "stream",
     "text": [
      "Done loading line from dict.           \n"
     ]
    }
   ],
   "source": [
    "line_aper = xt.load(xc._pkg_root.parent / 'examples' / 'machines' / 'sps_with_aperture_inj_q20.json')\n",
    "env_aper = line_aper.env\n",
    "env_aper['sps'] = line_aper\n",
    "tt_aper = env_aper.sps.get_table()\n",
    "tt_aper = tt_aper.rows[[et.startswith('Limit') for et in tt_aper.element_type]]"
   ]
  },
  {
   "cell_type": "code",
   "execution_count": 128,
   "id": "eca14195",
   "metadata": {},
   "outputs": [],
   "source": [
    "element_numbers = [int(nn.split('.')[1]) for nn in tt.name]"
   ]
  },
  {
   "cell_type": "code",
   "execution_count": 115,
   "id": "9540a1fd",
   "metadata": {},
   "outputs": [],
   "source": [
    "for nn in tt_aper.name:\n",
    "    env.elements[nn] = env_aper.elements[nn].copy()\n",
    "    spl = nn.split('.')\n",
    "    ele_number = int(spl[1])\n",
    "    ele_base = spl[0]\n",
    "    aper_letter = spl[2].split('_')[0]\n",
    "\n",
    "    if 'bp' in ele_base:\n",
    "        continue\n",
    "    elif ele_number in element_numbers and not ele_base.startswith('v') and not ele_base.startswith('act'):\n",
    "        if aper_letter == 'a':\n",
    "            builder.place(nn, at=0, from_=f'{ele_base}.{ele_number}@start', anchor='end')\n",
    "        elif aper_letter == 'b':\n",
    "            builder.place(nn, at=0, from_=f'{ele_base}.{ele_number}@end', anchor='start')\n",
    "        else:\n",
    "            builder.place(nn, at=tt_aper.rows[nn].s_start[0])#, from_=nn+'@start', anchor='start')\n",
    "    else:\n",
    "        builder.place(nn, at=tt_aper.rows[nn].s_start[0])#, from_=nn+'@start', anchor='start')"
   ]
  },
  {
   "cell_type": "code",
   "execution_count": 116,
   "id": "d9c89109",
   "metadata": {},
   "outputs": [
    {
     "ename": "AssertionError",
     "evalue": "Negative drift length: -0.002189373269089856, upstream of lse.10602",
     "output_type": "error",
     "traceback": [
      "\u001b[31m---------------------------------------------------------------------------\u001b[39m",
      "\u001b[31mAssertionError\u001b[39m                            Traceback (most recent call last)",
      "\u001b[36mCell\u001b[39m\u001b[36m \u001b[39m\u001b[32mIn[116]\u001b[39m\u001b[32m, line 1\u001b[39m\n\u001b[32m----> \u001b[39m\u001b[32m1\u001b[39m line2 = \u001b[43mbuilder\u001b[49m\u001b[43m.\u001b[49m\u001b[43mbuild\u001b[49m\u001b[43m(\u001b[49m\u001b[43m)\u001b[49m\n\u001b[32m      2\u001b[39m line2.particle_ref = env.sps.particle_ref\n\u001b[32m      3\u001b[39m tt_line2 = line2.get_table()\n",
      "\u001b[36mFile \u001b[39m\u001b[32m~/Xsuite/xtrack/xtrack/environment.py:1783\u001b[39m, in \u001b[36mBuilder.build\u001b[39m\u001b[34m(self, name, s_tol)\u001b[39m\n\u001b[32m   1781\u001b[39m \u001b[38;5;28;01mif\u001b[39;00m name \u001b[38;5;129;01mis\u001b[39;00m \u001b[38;5;28;01mNone\u001b[39;00m:\n\u001b[32m   1782\u001b[39m     name = \u001b[38;5;28mself\u001b[39m.name\n\u001b[32m-> \u001b[39m\u001b[32m1783\u001b[39m out =  \u001b[38;5;28;43mself\u001b[39;49m\u001b[43m.\u001b[49m\u001b[43menv\u001b[49m\u001b[43m.\u001b[49m\u001b[43mnew_line\u001b[49m\u001b[43m(\u001b[49m\u001b[43mcomponents\u001b[49m\u001b[43m=\u001b[49m\u001b[38;5;28;43mself\u001b[39;49m\u001b[43m.\u001b[49m\u001b[43mcomponents\u001b[49m\u001b[43m,\u001b[49m\u001b[43m \u001b[49m\u001b[43mname\u001b[49m\u001b[43m=\u001b[49m\u001b[43mname\u001b[49m\u001b[43m,\u001b[49m\u001b[43m \u001b[49m\u001b[43mrefer\u001b[49m\u001b[43m=\u001b[49m\u001b[38;5;28;43mself\u001b[39;49m\u001b[43m.\u001b[49m\u001b[43mrefer\u001b[49m\u001b[43m,\u001b[49m\n\u001b[32m   1784\u001b[39m \u001b[43m                         \u001b[49m\u001b[43mlength\u001b[49m\u001b[43m=\u001b[49m\u001b[38;5;28;43mself\u001b[39;49m\u001b[43m.\u001b[49m\u001b[43mlength\u001b[49m\u001b[43m,\u001b[49m\u001b[43m \u001b[49m\u001b[43ms_tol\u001b[49m\u001b[43m=\u001b[49m\u001b[43ms_tol\u001b[49m\u001b[43m)\u001b[49m\n\u001b[32m   1785\u001b[39m out.builder = \u001b[38;5;28mself\u001b[39m\n\u001b[32m   1786\u001b[39m \u001b[38;5;28;01mreturn\u001b[39;00m out\n",
      "\u001b[36mFile \u001b[39m\u001b[32m~/Xsuite/xtrack/xtrack/environment.py:457\u001b[39m, in \u001b[36mEnvironment.new_line\u001b[39m\u001b[34m(self, components, name, refer, length, s_tol)\u001b[39m\n\u001b[32m    455\u001b[39m     tab_unsorted = _resolve_s_positions(seq_all_places, \u001b[38;5;28mself\u001b[39m, refer=refer)\n\u001b[32m    456\u001b[39m     tab_sorted = _sort_places(tab_unsorted)\n\u001b[32m--> \u001b[39m\u001b[32m457\u001b[39m     element_names = \u001b[43m_generate_element_names_with_drifts\u001b[49m\u001b[43m(\u001b[49m\u001b[38;5;28;43mself\u001b[39;49m\u001b[43m,\u001b[49m\u001b[43m \u001b[49m\u001b[43mtab_sorted\u001b[49m\u001b[43m,\u001b[49m\n\u001b[32m    458\u001b[39m \u001b[43m                                                        \u001b[49m\u001b[43mlength\u001b[49m\u001b[43m=\u001b[49m\u001b[43mlength\u001b[49m\u001b[43m,\u001b[49m\n\u001b[32m    459\u001b[39m \u001b[43m                                                        \u001b[49m\u001b[43ms_tol\u001b[49m\u001b[43m=\u001b[49m\u001b[43ms_tol\u001b[49m\u001b[43m)\u001b[49m\n\u001b[32m    461\u001b[39m out.element_names = element_names\n\u001b[32m    462\u001b[39m out._name = name\n",
      "\u001b[36mFile \u001b[39m\u001b[32m~/Xsuite/xtrack/xtrack/environment.py:1626\u001b[39m, in \u001b[36m_generate_element_names_with_drifts\u001b[39m\u001b[34m(env, tt_sorted, length, s_tol)\u001b[39m\n\u001b[32m   1624\u001b[39m ds_upstream = tt_sorted[\u001b[33m'\u001b[39m\u001b[33mds_upstream\u001b[39m\u001b[33m'\u001b[39m, ii]\n\u001b[32m   1625\u001b[39m \u001b[38;5;28;01mif\u001b[39;00m np.abs(ds_upstream) > s_tol:\n\u001b[32m-> \u001b[39m\u001b[32m1626\u001b[39m     \u001b[38;5;28;01massert\u001b[39;00m ds_upstream > \u001b[32m0\u001b[39m, \u001b[33mf\u001b[39m\u001b[33m'\u001b[39m\u001b[33mNegative drift length: \u001b[39m\u001b[38;5;132;01m{\u001b[39;00mds_upstream\u001b[38;5;132;01m}\u001b[39;00m\u001b[33m, upstream of \u001b[39m\u001b[38;5;132;01m{\u001b[39;00mnn\u001b[38;5;132;01m}\u001b[39;00m\u001b[33m'\u001b[39m\n\u001b[32m   1627\u001b[39m     drift_name = env._get_a_drift_name()\n\u001b[32m   1628\u001b[39m     env.new(drift_name, xt.Drift, length=ds_upstream)\n",
      "\u001b[31mAssertionError\u001b[39m: Negative drift length: -0.002189373269089856, upstream of lse.10602"
     ]
    }
   ],
   "source": [
    "line2 = builder.build()\n",
    "line2.particle_ref = env.sps.particle_ref\n",
    "tt_line2 = line2.get_table()"
   ]
  },
  {
   "cell_type": "code",
   "execution_count": 63,
   "id": "52a9346e",
   "metadata": {},
   "outputs": [
    {
     "data": {
      "text/plain": [
       "Table: 2 rows, 11 cols\n",
       "name                         s element_type isthick isreplica parent_name iscollective ...\n",
       "mdv.10107.a_aper       31.3633 LimitEllipse   False     False None               False\n",
       "mdv.10107.b_aper       31.6121 LimitEllipse   False     False None               False"
      ]
     },
     "execution_count": 63,
     "metadata": {},
     "output_type": "execute_result"
    }
   ],
   "source": [
    "tt_aper.rows['.*10107.*']"
   ]
  },
  {
   "cell_type": "code",
   "execution_count": 79,
   "id": "35f55f6a",
   "metadata": {},
   "outputs": [
    {
     "data": {
      "text/plain": [
       "Table: 1 row, 11 cols\n",
       "name                  s element_type isthick isreplica parent_name iscollective       s_start ...\n",
       "mdv.10107       31.3629 Multipole       True     False None               False       31.3629"
      ]
     },
     "execution_count": 79,
     "metadata": {},
     "output_type": "execute_result"
    }
   ],
   "source": [
    "tt.rows['.*10107.*']"
   ]
  },
  {
   "cell_type": "code",
   "execution_count": 104,
   "id": "1a842559",
   "metadata": {},
   "outputs": [],
   "source": [
    "from pathlib import Path"
   ]
  },
  {
   "cell_type": "code",
   "execution_count": 105,
   "id": "17e7c9b8",
   "metadata": {},
   "outputs": [
    {
     "data": {
      "application/vnd.jupyter.widget-view+json": {
       "model_id": "1d6f2af4bc6f4fdea96644159e0c400b",
       "version_major": 2,
       "version_minor": 0
      },
      "text/plain": [
       "Loading line from dict:   0%|          | 0/36381 [00:00<?, ?it/s]"
      ]
     },
     "metadata": {},
     "output_type": "display_data"
    },
    {
     "name": "stdout",
     "output_type": "stream",
     "text": [
      "Done loading line from dict.           \n"
     ]
    }
   ],
   "source": [
    "line_old = xt.Line.from_json(Path('/Users/lisepauwels/sps_simulations/injection_lines/sps_with_aperture_inj_q20_beam_sagitta4.json'))"
   ]
  },
  {
   "cell_type": "code",
   "execution_count": 106,
   "id": "5fcb0b2b",
   "metadata": {},
   "outputs": [],
   "source": [
    "tt_old = line_old.get_table()"
   ]
  },
  {
   "cell_type": "code",
   "execution_count": 117,
   "id": "bff00eb4",
   "metadata": {},
   "outputs": [
    {
     "data": {
      "text/plain": [
       "Table: 10 rows, 11 cols\n",
       "name                             s element_type            isthick isreplica parent_name ...\n",
       "vttb.10602.a_aper           189.84 LimitEllipse              False     False None       \n",
       "lse.10602_entry            189.943 Marker                    False     False None       \n",
       "lse.10602..entry_map       189.943 ThinSliceSextupoleEntry   False     False lse.10602  \n",
       "lse.10602..0               189.943 ThickSliceSextupole        True     False lse.10602  \n",
       "vttb.10602.z_aper          189.947 LimitEllipse              False     False None       \n",
       "vttb.10602.b_aper          189.947 LimitEllipse              False     False None       \n",
       "lse.10602..1               189.947 ThickSliceSextupole        True     False lse.10602  \n",
       "lse.10602..exit_map        190.683 ThinSliceSextupoleExit    False     False lse.10602  \n",
       "lse.10602_exit             190.683 Marker                    False     False None       \n",
       "vttb.10602.c_aper          191.261 LimitEllipse              False     False None       "
      ]
     },
     "execution_count": 117,
     "metadata": {},
     "output_type": "execute_result"
    }
   ],
   "source": [
    "tt_old.rows['.*10602.*']"
   ]
  },
  {
   "cell_type": "markdown",
   "id": "b865245e",
   "metadata": {},
   "source": [
    "Check number of apertures per element, remove the ones that do not need to be there and fix names"
   ]
  },
  {
   "cell_type": "code",
   "execution_count": 129,
   "id": "4551d750",
   "metadata": {},
   "outputs": [],
   "source": [
    "pipe_names = {}\n",
    "for nn in tt_aper.name:\n",
    "    name_pipe = nn.split('.')[0] + '.' + nn.split('.')[1]\n",
    "    if name_pipe in pipe_names:\n",
    "        pipe_names[name_pipe] += 1\n",
    "    else:\n",
    "        pipe_names[name_pipe] = 1"
   ]
  },
  {
   "cell_type": "code",
   "execution_count": 130,
   "id": "48bb514b",
   "metadata": {},
   "outputs": [
    {
     "name": "stdout",
     "output_type": "stream",
     "text": [
      "vttc.10203 4\n",
      "vttv.10205 4\n",
      "vttb.10402 4\n",
      "vttb.10602 4\n",
      "vttc.10802 4\n",
      "vttv.10805 4\n",
      "vttd.11001 4\n",
      "vttc.11201 4\n",
      "vttv.11205 4\n",
      "vttb.11402 4\n",
      "vedu.11432 3\n",
      "vttb.11601 4\n",
      "vcsmc.11802 4\n",
      "vknv.11839 3\n",
      "vcsmb.11897 6\n",
      "vknl.11974 3\n",
      "vttl.12002 3\n",
      "vttm.12202 3\n",
      "vttb.12402 4\n",
      "vttc.12602 4\n",
      "vttv.12605 4\n",
      "vttc.12802 4\n",
      "vttc.13002 4\n",
      "vttc.13201 4\n",
      "vttv.13205 4\n",
      "vttd.13401 4\n",
      "vttb.13602 4\n",
      "vttv.20205 4\n",
      "vttc.20401 4\n",
      "vttb.20602 4\n",
      "vttc.20801 4\n",
      "vttv.20805 4\n",
      "vttb.21202 4\n",
      "vttv.21405 4\n",
      "vewj.21753 3\n",
      "vmek.21798 3\n",
      "vmem.21802 3\n",
      "veco.21877 3\n",
      "vecl.21878 3\n",
      "vttl.22002 3\n",
      "vttm.22202 3\n",
      "vttb.22402 4\n",
      "vttc.22602 4\n",
      "vttv.22605 4\n",
      "vttc.22802 4\n",
      "vttc.23002 4\n",
      "vttc.23201 4\n",
      "vttv.23205 4\n",
      "vttd.23401 4\n",
      "vttc.23602 4\n",
      "vttv.23605 4\n",
      "vttb.30202 4\n",
      "vttd.30401 4\n",
      "vttb.30602 4\n",
      "vttc.30802 4\n",
      "vttv.30805 4\n",
      "vttd.31001 4\n",
      "vttv.31205 4\n",
      "vttb.31402 4\n",
      "vttz.31601 3\n",
      "vttl.32002 3\n",
      "vttm.32202 3\n",
      "vttb.32402 4\n",
      "vttc.32602 4\n",
      "vttv.32605 4\n",
      "vttc.32802 4\n",
      "vttb.33002 4\n",
      "vttc.33201 4\n",
      "vttv.33205 4\n",
      "vttb.33602 4\n",
      "vttc.40201 4\n",
      "vttv.40205 4\n",
      "vttb.40402 4\n",
      "vttb.40602 4\n",
      "vttc.40802 4\n",
      "vttv.40805 4\n",
      "vttd.41001 4\n",
      "vttc.41201 4\n",
      "vttv.41205 4\n",
      "vttb.41402 4\n",
      "vttl.41602 3\n",
      "vdas.41703 6\n",
      "vdat.41707 4\n",
      "vdat.41931 4\n",
      "vdas.41932 6\n",
      "vctth.42105 3\n",
      "vctti.42106 3\n",
      "vebh.42198 4\n",
      "vttm.42202 3\n",
      "vttb.42402 7\n",
      "vttc.42602 4\n",
      "vttv.42605 4\n",
      "vttc.42802 4\n",
      "vttd.43001 4\n",
      "vttc.43201 4\n",
      "vttv.43205 4\n",
      "vttd.43401 4\n",
      "vttc.43601 4\n",
      "vttv.43605 4\n",
      "vttb.50202 4\n",
      "vttc.50402 4\n",
      "vttb.50602 4\n",
      "vttc.50802 4\n",
      "vttv.50805 4\n",
      "vttd.51001 4\n",
      "vttc.51201 4\n",
      "vttv.51205 4\n",
      "vttb.51402 4\n",
      "vcttc.51820 4\n",
      "vcsma.51896 6\n",
      "vcsma.51901 6\n",
      "vttm.52002 3\n",
      "vncc.52172 3\n",
      "vttb.52401 4\n",
      "vttc.52602 4\n",
      "vttv.52605 4\n",
      "vttc.52802 4\n",
      "vttc.53002 4\n",
      "vttc.53201 4\n",
      "vttv.53205 4\n",
      "vttb.53402 4\n",
      "vttc.53602 4\n",
      "vttv.53605 4\n",
      "vttc.60201 4\n",
      "vttv.60205 4\n",
      "vttb.60402 4\n",
      "vttb.60602 4\n",
      "vttc.60802 4\n",
      "vttv.60805 4\n",
      "vttc.61201 4\n",
      "vttv.61205 4\n",
      "vttl.61601 3\n",
      "vmek.61798 3\n",
      "vmem.61802 3\n",
      "veco.61878 3\n",
      "vecl.61878 3\n",
      "vttm.62202 3\n",
      "vttb.62402 4\n",
      "vttc.62602 4\n",
      "vttv.62605 4\n",
      "vttc.62802 4\n",
      "vttb.63002 4\n",
      "vttc.63201 4\n",
      "vttv.63205 4\n",
      "vttd.63401 4\n",
      "vttb.63602 4\n"
     ]
    }
   ],
   "source": [
    "for nn in pipe_names:\n",
    "    if pipe_names[nn] > 2:\n",
    "        print(nn, pipe_names[nn])"
   ]
  },
  {
   "cell_type": "code",
   "execution_count": 144,
   "id": "849d7db9",
   "metadata": {},
   "outputs": [
    {
     "ename": "KeyError",
     "evalue": "'vtaf.51632.b_aper'",
     "output_type": "error",
     "traceback": [
      "\u001b[31m---------------------------------------------------------------------------\u001b[39m",
      "\u001b[31mKeyError\u001b[39m                                  Traceback (most recent call last)",
      "\u001b[36mCell\u001b[39m\u001b[36m \u001b[39m\u001b[32mIn[144]\u001b[39m\u001b[32m, line 15\u001b[39m\n\u001b[32m     13\u001b[39m             env.elements[\u001b[33mf\u001b[39m\u001b[33m'\u001b[39m\u001b[38;5;132;01m{\u001b[39;00mnn\u001b[38;5;132;01m}\u001b[39;00m\u001b[33m.a_aper\u001b[39m\u001b[33m'\u001b[39m] = env_aper.elements[\u001b[33mf\u001b[39m\u001b[33m'\u001b[39m\u001b[38;5;132;01m{\u001b[39;00mnn\u001b[38;5;132;01m}\u001b[39;00m\u001b[33m.a_aper\u001b[39m\u001b[33m'\u001b[39m].copy()\n\u001b[32m     14\u001b[39m             builder.place(\u001b[33mf\u001b[39m\u001b[33m'\u001b[39m\u001b[38;5;132;01m{\u001b[39;00mnn\u001b[38;5;132;01m}\u001b[39;00m\u001b[33m.a_aper\u001b[39m\u001b[33m'\u001b[39m, at=tt_aper.rows[\u001b[33mf\u001b[39m\u001b[33m'\u001b[39m\u001b[38;5;132;01m{\u001b[39;00mnn\u001b[38;5;132;01m}\u001b[39;00m\u001b[33m.a_aper\u001b[39m\u001b[33m'\u001b[39m].s[\u001b[32m0\u001b[39m])\n\u001b[32m---> \u001b[39m\u001b[32m15\u001b[39m         env.elements[\u001b[33mf\u001b[39m\u001b[33m'\u001b[39m\u001b[38;5;132;01m{\u001b[39;00mnn\u001b[38;5;132;01m}\u001b[39;00m\u001b[33m.b_aper\u001b[39m\u001b[33m'\u001b[39m] = \u001b[43menv_aper\u001b[49m\u001b[43m.\u001b[49m\u001b[43melements\u001b[49m\u001b[43m[\u001b[49m\u001b[33;43mf\u001b[39;49m\u001b[33;43m'\u001b[39;49m\u001b[38;5;132;43;01m{\u001b[39;49;00m\u001b[43mnn\u001b[49m\u001b[38;5;132;43;01m}\u001b[39;49;00m\u001b[33;43m.b_aper\u001b[39;49m\u001b[33;43m'\u001b[39;49m\u001b[43m]\u001b[49m.copy()\n\u001b[32m     16\u001b[39m         builder.place(\u001b[33mf\u001b[39m\u001b[33m'\u001b[39m\u001b[38;5;132;01m{\u001b[39;00mnn\u001b[38;5;132;01m}\u001b[39;00m\u001b[33m.b_aper\u001b[39m\u001b[33m'\u001b[39m, at=tt_aper.rows[\u001b[33mf\u001b[39m\u001b[33m'\u001b[39m\u001b[38;5;132;01m{\u001b[39;00mnn\u001b[38;5;132;01m}\u001b[39;00m\u001b[33m.b_aper\u001b[39m\u001b[33m'\u001b[39m].s[\u001b[32m0\u001b[39m])\n\u001b[32m     19\u001b[39m \u001b[38;5;28;01melse\u001b[39;00m:\n",
      "\u001b[31mKeyError\u001b[39m: 'vtaf.51632.b_aper'"
     ]
    }
   ],
   "source": [
    "for nn in pipe_names:\n",
    "    base = nn.split('.')[0] + '.' + nn.split('.')[1]\n",
    "\n",
    "    if 'v' in nn:\n",
    "        if pipe_names[nn] > 2:\n",
    "            apers = tt_aper.rows[nn + '.*'].name\n",
    "            env.elements[f'{nn}.a_aper'] = env_aper.elements[apers[0]].copy()\n",
    "            env.elements[f'{nn}.b_aper'] = env_aper.elements[apers[-1]].copy()\n",
    "            builder.place(f'{nn}.a_aper', at=tt_aper.rows[apers[0]].s[0])\n",
    "            builder.place(f'{nn}.b_aper', at=tt_aper.rows[apers[-1]].s[0])\n",
    "        else:\n",
    "            if nn != 'veqf.10010':\n",
    "                env.elements[f'{nn}.a_aper'] = env_aper.elements[f'{nn}.a_aper'].copy()\n",
    "                builder.place(f'{nn}.a_aper', at=tt_aper.rows[f'{nn}.a_aper'].s[0])\n",
    "            env.elements[f'{nn}.b_aper'] = env_aper.elements[f'{nn}.b_aper'].copy()\n",
    "            builder.place(f'{nn}.b_aper', at=tt_aper.rows[f'{nn}.b_aper'].s[0])\n",
    "        \n",
    "\n",
    "    else:\n",
    "        if base in tt.name:\n",
    "            if pipe_names[nn] > 2:\n",
    "                apers = tt_aper.rows[nn + '.*'].name\n",
    "                env.elements[f'{nn}.a_aper'] = env_aper.elements[apers[0]].copy()\n",
    "                env.elements[f'{nn}.b_aper'] = env_aper.elements[apers[-1]].copy()\n",
    "                builder.place(f'{nn}.a_aper', at=0, from_=f'{nn}@start', anchor='end')\n",
    "                builder.place(f'{nn}.b_aper', at=0, from_=f'{nn}@end', anchor='start')\n",
    "            else:\n",
    "                env.elements[f'{nn}.a_aper'] = env_aper.elements[f'{nn}.a_aper'].copy()\n",
    "                env.elements[f'{nn}.b_aper'] = env_aper.elements[f'{nn}.b_aper'].copy()\n",
    "                builder.place(f'{nn}.a_aper', at=0, from_=f'{nn}@start', anchor='end')\n",
    "                builder.place(f'{nn}.b_aper', at=0, from_=f'{nn}@end', anchor='start')\n",
    "    # if base in tt.name:\n",
    "    #     if pipe_names[nn] > 2:\n",
    "    #         apers = tt_aper.rows[nn + '.*'].name\n",
    "    #         env.elements[f'{nn}.a_aper'] = env_aper.elements[apers[0]].copy()\n",
    "    #         env.elements[f'{nn}.b_aper'] = env_aper.elements[apers[-1]].copy()\n",
    "\n",
    "    #         if 'v' in nn:\n",
    "    #             builder.place(f'{nn}.a_aper', at=tt_aper.rows[f'{nn}.a_aper'].s[0])\n",
    "    #             builder.place(f'{nn}.b_aper', at=tt_aper.rows[f'{nn}.b_aper'].s[0])\n",
    "\n",
    "    #         else:\n",
    "    #             builder.place(f'{nn}.a_aper', at=0, from_=f'{nn}@start', anchor='end')\n",
    "    #             builder.place(f'{nn}.b_aper', at=0, from_=f'{nn}@end', anchor='start')\n",
    "    #     else:\n",
    "    #         if nn in tt_aper.name:\n",
    "    #             env.elements[f'{nn}.a_aper'] = env_aper.elements[f'{nn}.a_aper'].copy()\n",
    "    #             env.elements[f'{nn}.b_aper'] = env_aper.elements[f'{nn}.b_aper'].copy()\n",
    "    #             if 'v' in nn:\n",
    "    #                 builder.place(f'{nn}.a_aper', at=tt_aper.rows[f'{nn}.a_aper'].s[0])\n",
    "    #                 builder.place(f'{nn}.b_aper', at=tt_aper.rows[f'{nn}.b_aper'].s[0])\n",
    "\n",
    "    #             else:\n",
    "    #                 builder.place(f'{nn}.a_aper', at=0, from_=f'{nn}@start', anchor='end')\n",
    "    #                 builder.place(f'{nn}.b_aper', at=0, from_=f'{nn}@end', anchor='start')\n",
    "        "
   ]
  },
  {
   "cell_type": "code",
   "execution_count": 133,
   "id": "622cf9c9",
   "metadata": {},
   "outputs": [
    {
     "data": {
      "text/plain": [
       "Table: 1 row, 11 cols\n",
       "name                          s element_type isthick isreplica parent_name iscollective ...\n",
       "teca.41777.a_aper       4020.64 LimitEllipse   False     False None               False"
      ]
     },
     "execution_count": 133,
     "metadata": {},
     "output_type": "execute_result"
    }
   ],
   "source": [
    "tt_aper.rows['teca.*']"
   ]
  },
  {
   "cell_type": "code",
   "execution_count": 139,
   "id": "33255987",
   "metadata": {},
   "outputs": [],
   "source": [
    "line2 = builder.build()\n",
    "line2.particle_ref = env.sps.particle_ref\n",
    "tt_line2 = line2.get_table()"
   ]
  },
  {
   "cell_type": "code",
   "execution_count": 140,
   "id": "4712596d",
   "metadata": {},
   "outputs": [
    {
     "data": {
      "text/plain": [
       "Table: 2977 rows, 11 cols\n",
       "name                   s element_type isthick isreplica parent_name iscollective       s_start ...\n",
       "qf.10010               0 Quadrupole      True     False None               False             0\n",
       "drift_1909         3.085 Drift           True     False None               False         3.085\n",
       "mba.10030        3.44501 RBend           True     False None               False       3.44501\n",
       "drift_1910       9.70503 Drift           True     False None               False       9.70503\n",
       "mba.10050         10.105 RBend           True     False None               False        10.105\n",
       "drift_1911       16.3651 Drift           True     False None               False       16.3651\n",
       "mbb.10070        16.7551 RBend           True     False None               False       16.7551\n",
       "drift_1912       23.0151 Drift           True     False None               False       23.0151\n",
       "mbb.10090        23.3951 RBend           True     False None               False       23.3951\n",
       "drift_1913       29.6551 Drift           True     False None               False       29.6551\n",
       "...\n",
       "drift_3385       6902.52 Drift           True     False None               False       6902.52\n",
       "mba.63590        6902.92 RBend           True     False None               False       6902.92\n",
       "drift_3386       6909.18 Drift           True     False None               False       6909.18\n",
       "loe.63602         6909.5 Octupole        True     False None               False        6909.5\n",
       "drift_3387       6910.24 Drift           True     False None               False       6910.24\n",
       "lsf.63605        6910.32 Sextupole       True     False None               False       6910.32\n",
       "drift_3388       6910.75 Drift           True     False None               False       6910.75\n",
       "mdh.63607        6910.89 Multipole       True     False None               False       6910.89\n",
       "drift_3389       6911.14 Drift           True     False None               False       6911.14\n",
       "_end_point       6911.53                False     False None               False       6911.53"
      ]
     },
     "execution_count": 140,
     "metadata": {},
     "output_type": "execute_result"
    }
   ],
   "source": [
    "tt_line2"
   ]
  },
  {
   "cell_type": "code",
   "execution_count": 161,
   "id": "ac7598f5",
   "metadata": {},
   "outputs": [
    {
     "ename": "KeyError",
     "evalue": "\"Cannot find 'qd.3110' in column 'name'\"",
     "output_type": "error",
     "traceback": [
      "\u001b[31m---------------------------------------------------------------------------\u001b[39m",
      "\u001b[31mKeyError\u001b[39m                                  Traceback (most recent call last)",
      "\u001b[36mCell\u001b[39m\u001b[36m \u001b[39m\u001b[32mIn[161]\u001b[39m\u001b[32m, line 1\u001b[39m\n\u001b[32m----> \u001b[39m\u001b[32m1\u001b[39m \u001b[43mtt\u001b[49m\u001b[43m.\u001b[49m\u001b[43mrows\u001b[49m\u001b[43m[\u001b[49m\u001b[33;43m'\u001b[39;49m\u001b[33;43mqd.31110<<1\u001b[39;49m\u001b[33;43m'\u001b[39;49m\u001b[43m:\u001b[49m\u001b[33;43m'\u001b[39;49m\u001b[33;43mqd.3110>>1\u001b[39;49m\u001b[33;43m'\u001b[39;49m\u001b[43m]\u001b[49m\n",
      "\u001b[36mFile \u001b[39m\u001b[32m~/Xsuite/xdeps/xdeps/table.py:1028\u001b[39m, in \u001b[36m_RowView.__getitem__\u001b[39m\u001b[34m(self, rows)\u001b[39m\n\u001b[32m   1026\u001b[39m     indices = \u001b[38;5;28mself\u001b[39m.indices[rows]\n\u001b[32m   1027\u001b[39m \u001b[38;5;28;01melse\u001b[39;00m:\n\u001b[32m-> \u001b[39m\u001b[32m1028\u001b[39m     indices = \u001b[38;5;28;43mself\u001b[39;49m\u001b[43m.\u001b[49m\u001b[43mtable\u001b[49m\u001b[43m.\u001b[49m\u001b[43m_get_row_indices\u001b[49m\u001b[43m(\u001b[49m\u001b[43mrows\u001b[49m\u001b[43m)\u001b[49m\n\u001b[32m   1029\u001b[39m \u001b[38;5;28;01mreturn\u001b[39;00m \u001b[38;5;28mself\u001b[39m.table._select_rows(indices)\n",
      "\u001b[36mFile \u001b[39m\u001b[32m~/Xsuite/xdeps/xdeps/table.py:407\u001b[39m, in \u001b[36mTable._get_row_indices\u001b[39m\u001b[34m(self, row)\u001b[39m\n\u001b[32m    405\u001b[39m         ia = \u001b[38;5;28mself\u001b[39m._get_row_index(ia)\n\u001b[32m    406\u001b[39m     \u001b[38;5;28;01mif\u001b[39;00m ib \u001b[38;5;129;01mis\u001b[39;00m \u001b[38;5;129;01mnot\u001b[39;00m \u001b[38;5;28;01mNone\u001b[39;00m:\n\u001b[32m--> \u001b[39m\u001b[32m407\u001b[39m         ib = \u001b[38;5;28;43mself\u001b[39;49m\u001b[43m.\u001b[49m\u001b[43m_get_row_index\u001b[49m\u001b[43m(\u001b[49m\u001b[43mib\u001b[49m\u001b[43m)\u001b[49m + \u001b[32m1\u001b[39m\n\u001b[32m    408\u001b[39m \u001b[38;5;28;01melse\u001b[39;00m:\n\u001b[32m    409\u001b[39m     \u001b[38;5;28;01mif\u001b[39;00m ia \u001b[38;5;129;01mis\u001b[39;00m \u001b[38;5;129;01mnot\u001b[39;00m \u001b[38;5;28;01mNone\u001b[39;00m:\n",
      "\u001b[36mFile \u001b[39m\u001b[32m~/Xsuite/xdeps/xdeps/table.py:381\u001b[39m, in \u001b[36mTable._get_row_index\u001b[39m\u001b[34m(self, row)\u001b[39m\n\u001b[32m    379\u001b[39m \u001b[38;5;28;01melif\u001b[39;00m \u001b[38;5;28misinstance\u001b[39m(row, \u001b[38;5;28mstr\u001b[39m):\n\u001b[32m    380\u001b[39m     row, count, offset = \u001b[38;5;28mself\u001b[39m._split_name_count_offset(row)\n\u001b[32m--> \u001b[39m\u001b[32m381\u001b[39m     \u001b[38;5;28;01mreturn\u001b[39;00m \u001b[38;5;28;43mself\u001b[39;49m\u001b[43m.\u001b[49m\u001b[43m_get_row_cache_raise\u001b[49m\u001b[43m(\u001b[49m\u001b[43mrow\u001b[49m\u001b[43m,\u001b[49m\u001b[43m \u001b[49m\u001b[43mcount\u001b[49m\u001b[43m,\u001b[49m\u001b[43m \u001b[49m\u001b[43moffset\u001b[49m\u001b[43m)\u001b[49m\n\u001b[32m    382\u001b[39m \u001b[38;5;28;01melif\u001b[39;00m \u001b[38;5;28misinstance\u001b[39m(row, \u001b[38;5;28mtuple\u001b[39m):\n\u001b[32m    383\u001b[39m     \u001b[38;5;28;01mreturn\u001b[39;00m \u001b[38;5;28mself\u001b[39m._get_row_cache_raise(*row)\n",
      "\u001b[36mFile \u001b[39m\u001b[32m~/Xsuite/xdeps/xdeps/table.py:301\u001b[39m, in \u001b[36mTable._get_row_cache_raise\u001b[39m\u001b[34m(self, row, count, offset)\u001b[39m\n\u001b[32m    299\u001b[39m idx = \u001b[38;5;28mself\u001b[39m._get_row_cache(row, count, offset)\n\u001b[32m    300\u001b[39m \u001b[38;5;28;01mif\u001b[39;00m idx \u001b[38;5;129;01mis\u001b[39;00m \u001b[38;5;28;01mNone\u001b[39;00m:\n\u001b[32m--> \u001b[39m\u001b[32m301\u001b[39m     \u001b[38;5;28;01mraise\u001b[39;00m \u001b[38;5;167;01mKeyError\u001b[39;00m(\u001b[33mf\u001b[39m\u001b[33m\"\u001b[39m\u001b[33mCannot find \u001b[39m\u001b[33m'\u001b[39m\u001b[38;5;132;01m{\u001b[39;00mrow\u001b[38;5;132;01m}\u001b[39;00m\u001b[33m'\u001b[39m\u001b[33m in column \u001b[39m\u001b[33m'\u001b[39m\u001b[38;5;132;01m{\u001b[39;00m\u001b[38;5;28mself\u001b[39m._index\u001b[38;5;132;01m}\u001b[39;00m\u001b[33m'\u001b[39m\u001b[33m\"\u001b[39m)\n\u001b[32m    302\u001b[39m \u001b[38;5;28;01mreturn\u001b[39;00m idx\n",
      "\u001b[31mKeyError\u001b[39m: \"Cannot find 'qd.3110' in column 'name'\""
     ]
    }
   ],
   "source": [
    "tt.rows['qd.31110<<1':'qd.3110>>1']"
   ]
  },
  {
   "cell_type": "code",
   "execution_count": 168,
   "id": "9d8ddf9e",
   "metadata": {},
   "outputs": [
    {
     "data": {
      "text/plain": [
       "Table: 21 rows, 11 cols\n",
       "name                  s element_type isthick isreplica parent_name iscollective       s_start ...\n",
       "mba.30970       2608.55 RBend           True     False None               False       2608.55\n",
       "mba.30990       2615.21 RBend           True     False None               False       2615.21\n",
       "mdh.31007       2623.18 Multipole       True     False None               False       2623.18\n",
       "qf.31010        2623.82 Quadrupole      True     False None               False       2623.82\n",
       "mba.31030       2627.27 RBend           True     False None               False       2627.27\n",
       "mba.31050       2633.93 RBend           True     False None               False       2633.93\n",
       "mbb.31070       2640.58 RBend           True     False None               False       2640.58\n",
       "mbb.31090       2647.22 RBend           True     False None               False       2647.22\n",
       "lsd.31105       2654.61 Sextupole       True     False None               False       2654.61\n",
       "mdv.31107       2655.19 Multipole       True     False None               False       2655.19\n",
       "qd.31110        2655.82 Quadrupole      True     False None               False       2655.82\n",
       "mbb.31130       2659.26 RBend           True     False None               False       2659.26\n",
       "mbb.31150        2665.9 RBend           True     False None               False        2665.9\n",
       "mba.31170       2672.55 RBend           True     False None               False       2672.55\n",
       "mba.31190       2679.21 RBend           True     False None               False       2679.21\n",
       "lsf.31205        2686.6 Sextupole       True     False None               False        2686.6\n",
       "mdh.31207       2687.17 Multipole       True     False None               False       2687.17\n",
       "qf.31210        2687.82 Quadrupole      True     False None               False       2687.82\n",
       "mba.31230       2691.26 RBend           True     False None               False       2691.26\n",
       "mba.31250       2697.92 RBend           True     False None               False       2697.92\n",
       "mbb.31270       2704.57 RBend           True     False None               False       2704.57"
      ]
     },
     "execution_count": 168,
     "metadata": {},
     "output_type": "execute_result"
    }
   ],
   "source": [
    "tt.rows['qd.31110<<10':'qd.31110>>10']"
   ]
  },
  {
   "cell_type": "code",
   "execution_count": 170,
   "id": "b0f7b6f5",
   "metadata": {},
   "outputs": [
    {
     "data": {
      "text/plain": [
       "Table: 21 rows, 11 cols\n",
       "name                  s element_type isthick isreplica parent_name iscollective       s_start ...\n",
       "lsd.33505       3422.56 Sextupole       True     False None               False       3422.56\n",
       "mdv.33507       3423.13 Multipole       True     False None               False       3423.13\n",
       "qd.33510        3423.77 Quadrupole      True     False None               False       3423.77\n",
       "mbb.33530        3427.2 RBend           True     False None               False        3427.2\n",
       "mbb.33550       3433.84 RBend           True     False None               False       3433.84\n",
       "mba.33570       3440.49 RBend           True     False None               False       3440.49\n",
       "mba.33590       3447.15 RBend           True     False None               False       3447.15\n",
       "loe.33602       3453.73 Octupole        True     False None               False       3453.73\n",
       "lsf.33605       3454.55 Sextupole       True     False None               False       3454.55\n",
       "mdh.33607       3455.12 Multipole       True     False None               False       3455.12\n",
       "qf.40010        3455.77 Quadrupole      True     False None               False       3455.77\n",
       "mba.40030       3459.21 RBend           True     False None               False       3459.21\n",
       "mba.40050       3465.87 RBend           True     False None               False       3465.87\n",
       "mbb.40070       3472.52 RBend           True     False None               False       3472.52\n",
       "mbb.40090       3479.16 RBend           True     False None               False       3479.16\n",
       "lsd.40105       3486.55 Sextupole       True     False None               False       3486.55\n",
       "mdv.40107       3487.13 Multipole       True     False None               False       3487.13\n",
       "qd.40110        3487.76 Quadrupole      True     False None               False       3487.76\n",
       "mbb.40130        3491.2 RBend           True     False None               False        3491.2\n",
       "mbb.40150       3497.84 RBend           True     False None               False       3497.84\n",
       "mba.40170       3504.49 RBend           True     False None               False       3504.49"
      ]
     },
     "execution_count": 170,
     "metadata": {},
     "output_type": "execute_result"
    }
   ],
   "source": [
    "tt.rows['qf.40010<<10':'qf.40010>>10']"
   ]
  },
  {
   "cell_type": "code",
   "execution_count": 173,
   "id": "530ce30c",
   "metadata": {},
   "outputs": [
    {
     "data": {
      "text/plain": [
       "Table: 0 rows, 11 cols"
      ]
     },
     "execution_count": 173,
     "metadata": {},
     "output_type": "execute_result"
    }
   ],
   "source": [
    "tt.rows['qd.10110<<10':'qd.10110>>10']"
   ]
  },
  {
   "cell_type": "code",
   "execution_count": 187,
   "id": "c303cdab",
   "metadata": {},
   "outputs": [
    {
     "data": {
      "text/plain": [
       "Table: 10 rows, 11 cols\n",
       "name                  s element_type isthick isreplica parent_name iscollective       s_start ...\n",
       "lsd.63505       6878.32 Sextupole       True     False None               False       6878.32\n",
       "mdv.63507        6878.9 Multipole       True     False None               False        6878.9\n",
       "qd.63510        6879.53 Quadrupole      True     False None               False       6879.53\n",
       "mbb.63530       6882.97 RBend           True     False None               False       6882.97\n",
       "mbb.63550       6889.61 RBend           True     False None               False       6889.61\n",
       "mba.63570       6896.26 RBend           True     False None               False       6896.26\n",
       "mba.63590       6902.92 RBend           True     False None               False       6902.92\n",
       "loe.63602        6909.5 Octupole        True     False None               False        6909.5\n",
       "lsf.63605       6910.32 Sextupole       True     False None               False       6910.32\n",
       "mdh.63607       6910.89 Multipole       True     False None               False       6910.89"
      ]
     },
     "execution_count": 187,
     "metadata": {},
     "output_type": "execute_result"
    }
   ],
   "source": [
    "tt.rows['qf.10010<<10':]"
   ]
  },
  {
   "cell_type": "code",
   "execution_count": 186,
   "id": "b6c74904",
   "metadata": {},
   "outputs": [
    {
     "data": {
      "text/plain": [
       "Table: 18 rows, 11 cols\n",
       "name                  s element_type isthick isreplica parent_name iscollective       s_start ...\n",
       "qf.10010              0 Quadrupole      True     False None               False             0\n",
       "mba.10030       3.44501 RBend           True     False None               False       3.44501\n",
       "mba.10050        10.105 RBend           True     False None               False        10.105\n",
       "mbb.10070       16.7551 RBend           True     False None               False       16.7551\n",
       "mbb.10090       23.3951 RBend           True     False None               False       23.3951\n",
       "lsd.10105       30.7879 Sextupole       True     False None               False       30.7879\n",
       "mdv.10107       31.3629 Multipole       True     False None               False       31.3629\n",
       "qd.10110        31.9979 Quadrupole      True     False None               False       31.9979\n",
       "mbb.10130       35.4329 RBend           True     False None               False       35.4329\n",
       "mbb.10150       42.0729 RBend           True     False None               False       42.0729\n",
       "mba.10170       48.7229 RBend           True     False None               False       48.7229\n",
       "mba.10190        55.383 RBend           True     False None               False        55.383\n",
       "lsf.10205       62.7812 Sextupole       True     False None               False       62.7812\n",
       "mdh.10207       63.3507 Multipole       True     False None               False       63.3507\n",
       "qf.10210        63.9957 Quadrupole      True     False None               False       63.9957\n",
       "mba.10230       67.4407 RBend           True     False None               False       67.4407\n",
       "mba.10250       74.1008 RBend           True     False None               False       74.1008\n",
       "mbb.10270       80.7508 RBend           True     False None               False       80.7508"
      ]
     },
     "execution_count": 186,
     "metadata": {},
     "output_type": "execute_result"
    }
   ],
   "source": [
    "tt.rows[:'qd.10110>>10']"
   ]
  },
  {
   "cell_type": "code",
   "execution_count": null,
   "id": "06e28b83",
   "metadata": {},
   "outputs": [],
   "source": [
    "line_q20 = xt.Line.from_json(xc._pkg_root.parent / 'examples' / 'machines' / 'sps_q20_inj.json')\n",
    "line_q26 = xt.Line.from_json(xc._pkg_root.parent / 'examples' / 'machines' / 'sps_q26_inj.json')"
   ]
  }
 ],
 "metadata": {
  "kernelspec": {
   "display_name": "xcoll",
   "language": "python",
   "name": "python3"
  },
  "language_info": {
   "codemirror_mode": {
    "name": "ipython",
    "version": 3
   },
   "file_extension": ".py",
   "mimetype": "text/x-python",
   "name": "python",
   "nbconvert_exporter": "python",
   "pygments_lexer": "ipython3",
   "version": "3.13.3"
  }
 },
 "nbformat": 4,
 "nbformat_minor": 5
}
