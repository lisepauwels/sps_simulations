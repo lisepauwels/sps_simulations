{
 "cells": [
  {
   "cell_type": "code",
   "execution_count": 13,
   "id": "33b608ef",
   "metadata": {},
   "outputs": [],
   "source": [
    "import numpy as np\n",
    "import matplotlib.pyplot as plt\n",
    "import pandas as pd\n",
    "import xtrack as xt\n",
    "import xcoll as xc"
   ]
  },
  {
   "cell_type": "code",
   "execution_count": 3,
   "id": "18aacf6d",
   "metadata": {},
   "outputs": [],
   "source": [
    "bump_strengths_1mm = {\n",
    "    'QD.61110':    {60807:1.5590802617242682e-05, 61007:3.54569257408125e-06, 61207:3.413834321910948e-06, 61407:1.5674663857737458e-05},\n",
    "}"
   ]
  },
  {
   "cell_type": "code",
   "execution_count": 34,
   "id": "6a0cb670",
   "metadata": {},
   "outputs": [],
   "source": [
    "quad = 'QD.61110'\n",
    "bumps = np.array([-20, -2, 2, 4, 6, 8, 10, 12, 14, 16, 18, 20])\n",
    "bump_strengths = {}\n",
    "bump_strengths[quad] = {float(bump): {magnet: float(bump_strengths_1mm[quad][magnet]*bump) for magnet in bump_strengths_1mm[quad]} for bump in bumps}"
   ]
  },
  {
   "cell_type": "code",
   "execution_count": 37,
   "id": "97c2c71c",
   "metadata": {},
   "outputs": [],
   "source": [
    "SVD_corrs = {60807: 9.34e-7, 61007: 1.29173e-5, 61207: 2.25165e-5, 61407: -1.90231e-5}"
   ]
  },
  {
   "cell_type": "code",
   "execution_count": 38,
   "id": "8cda5178",
   "metadata": {},
   "outputs": [],
   "source": [
    "for bump in bump_strengths[quad]:\n",
    "    for magnet in bump_strengths[quad][bump]:\n",
    "        bump_strengths[quad][bump][magnet] += SVD_corrs[magnet]"
   ]
  },
  {
   "cell_type": "code",
   "execution_count": 42,
   "id": "e8724370",
   "metadata": {},
   "outputs": [
    {
     "data": {
      "text/html": [
       "<style type=\"text/css\">\n",
       "</style>\n",
       "<table id=\"T_c6017\">\n",
       "  <thead>\n",
       "    <tr>\n",
       "      <th class=\"blank level0\" >&nbsp;</th>\n",
       "      <th id=\"T_c6017_level0_col0\" class=\"col_heading level0 col0\" >60807</th>\n",
       "      <th id=\"T_c6017_level0_col1\" class=\"col_heading level0 col1\" >61007</th>\n",
       "      <th id=\"T_c6017_level0_col2\" class=\"col_heading level0 col2\" >61207</th>\n",
       "      <th id=\"T_c6017_level0_col3\" class=\"col_heading level0 col3\" >61407</th>\n",
       "    </tr>\n",
       "  </thead>\n",
       "  <tbody>\n",
       "    <tr>\n",
       "      <th id=\"T_c6017_level0_row0\" class=\"row_heading level0 row0\" >-20.000000</th>\n",
       "      <td id=\"T_c6017_row0_col0\" class=\"data row0 col0\" >-0.000311</td>\n",
       "      <td id=\"T_c6017_row0_col1\" class=\"data row0 col1\" >-5.7997e-05</td>\n",
       "      <td id=\"T_c6017_row0_col2\" class=\"data row0 col2\" >-4.5760e-05</td>\n",
       "      <td id=\"T_c6017_row0_col3\" class=\"data row0 col3\" >-3.3252e-04</td>\n",
       "    </tr>\n",
       "    <tr>\n",
       "      <th id=\"T_c6017_level0_row1\" class=\"row_heading level0 row1\" >-2.000000</th>\n",
       "      <td id=\"T_c6017_row1_col0\" class=\"data row1 col0\" >-0.000030</td>\n",
       "      <td id=\"T_c6017_row1_col1\" class=\"data row1 col1\" >5.8259e-06</td>\n",
       "      <td id=\"T_c6017_row1_col2\" class=\"data row1 col2\" >1.5689e-05</td>\n",
       "      <td id=\"T_c6017_row1_col3\" class=\"data row1 col3\" >-5.0372e-05</td>\n",
       "    </tr>\n",
       "    <tr>\n",
       "      <th id=\"T_c6017_level0_row2\" class=\"row_heading level0 row2\" >2.000000</th>\n",
       "      <td id=\"T_c6017_row2_col0\" class=\"data row2 col0\" >0.000032</td>\n",
       "      <td id=\"T_c6017_row2_col1\" class=\"data row2 col1\" >2.0009e-05</td>\n",
       "      <td id=\"T_c6017_row2_col2\" class=\"data row2 col2\" >2.9344e-05</td>\n",
       "      <td id=\"T_c6017_row2_col3\" class=\"data row2 col3\" >1.2326e-05</td>\n",
       "    </tr>\n",
       "    <tr>\n",
       "      <th id=\"T_c6017_level0_row3\" class=\"row_heading level0 row3\" >4.000000</th>\n",
       "      <td id=\"T_c6017_row3_col0\" class=\"data row3 col0\" >0.000063</td>\n",
       "      <td id=\"T_c6017_row3_col1\" class=\"data row3 col1\" >2.7100e-05</td>\n",
       "      <td id=\"T_c6017_row3_col2\" class=\"data row3 col2\" >3.6172e-05</td>\n",
       "      <td id=\"T_c6017_row3_col3\" class=\"data row3 col3\" >4.3676e-05</td>\n",
       "    </tr>\n",
       "    <tr>\n",
       "      <th id=\"T_c6017_level0_row4\" class=\"row_heading level0 row4\" >6.000000</th>\n",
       "      <td id=\"T_c6017_row4_col0\" class=\"data row4 col0\" >0.000094</td>\n",
       "      <td id=\"T_c6017_row4_col1\" class=\"data row4 col1\" >3.4191e-05</td>\n",
       "      <td id=\"T_c6017_row4_col2\" class=\"data row4 col2\" >4.3000e-05</td>\n",
       "      <td id=\"T_c6017_row4_col3\" class=\"data row4 col3\" >7.5025e-05</td>\n",
       "    </tr>\n",
       "    <tr>\n",
       "      <th id=\"T_c6017_level0_row5\" class=\"row_heading level0 row5\" >8.000000</th>\n",
       "      <td id=\"T_c6017_row5_col0\" class=\"data row5 col0\" >0.000126</td>\n",
       "      <td id=\"T_c6017_row5_col1\" class=\"data row5 col1\" >4.1283e-05</td>\n",
       "      <td id=\"T_c6017_row5_col2\" class=\"data row5 col2\" >4.9827e-05</td>\n",
       "      <td id=\"T_c6017_row5_col3\" class=\"data row5 col3\" >1.0637e-04</td>\n",
       "    </tr>\n",
       "    <tr>\n",
       "      <th id=\"T_c6017_level0_row6\" class=\"row_heading level0 row6\" >10.000000</th>\n",
       "      <td id=\"T_c6017_row6_col0\" class=\"data row6 col0\" >0.000157</td>\n",
       "      <td id=\"T_c6017_row6_col1\" class=\"data row6 col1\" >4.8374e-05</td>\n",
       "      <td id=\"T_c6017_row6_col2\" class=\"data row6 col2\" >5.6655e-05</td>\n",
       "      <td id=\"T_c6017_row6_col3\" class=\"data row6 col3\" >1.3772e-04</td>\n",
       "    </tr>\n",
       "    <tr>\n",
       "      <th id=\"T_c6017_level0_row7\" class=\"row_heading level0 row7\" >12.000000</th>\n",
       "      <td id=\"T_c6017_row7_col0\" class=\"data row7 col0\" >0.000188</td>\n",
       "      <td id=\"T_c6017_row7_col1\" class=\"data row7 col1\" >5.5466e-05</td>\n",
       "      <td id=\"T_c6017_row7_col2\" class=\"data row7 col2\" >6.3483e-05</td>\n",
       "      <td id=\"T_c6017_row7_col3\" class=\"data row7 col3\" >1.6907e-04</td>\n",
       "    </tr>\n",
       "    <tr>\n",
       "      <th id=\"T_c6017_level0_row8\" class=\"row_heading level0 row8\" >14.000000</th>\n",
       "      <td id=\"T_c6017_row8_col0\" class=\"data row8 col0\" >0.000219</td>\n",
       "      <td id=\"T_c6017_row8_col1\" class=\"data row8 col1\" >6.2557e-05</td>\n",
       "      <td id=\"T_c6017_row8_col2\" class=\"data row8 col2\" >7.0310e-05</td>\n",
       "      <td id=\"T_c6017_row8_col3\" class=\"data row8 col3\" >2.0042e-04</td>\n",
       "    </tr>\n",
       "    <tr>\n",
       "      <th id=\"T_c6017_level0_row9\" class=\"row_heading level0 row9\" >16.000000</th>\n",
       "      <td id=\"T_c6017_row9_col0\" class=\"data row9 col0\" >0.000250</td>\n",
       "      <td id=\"T_c6017_row9_col1\" class=\"data row9 col1\" >6.9648e-05</td>\n",
       "      <td id=\"T_c6017_row9_col2\" class=\"data row9 col2\" >7.7138e-05</td>\n",
       "      <td id=\"T_c6017_row9_col3\" class=\"data row9 col3\" >2.3177e-04</td>\n",
       "    </tr>\n",
       "    <tr>\n",
       "      <th id=\"T_c6017_level0_row10\" class=\"row_heading level0 row10\" >18.000000</th>\n",
       "      <td id=\"T_c6017_row10_col0\" class=\"data row10 col0\" >0.000282</td>\n",
       "      <td id=\"T_c6017_row10_col1\" class=\"data row10 col1\" >7.6740e-05</td>\n",
       "      <td id=\"T_c6017_row10_col2\" class=\"data row10 col2\" >8.3966e-05</td>\n",
       "      <td id=\"T_c6017_row10_col3\" class=\"data row10 col3\" >2.6312e-04</td>\n",
       "    </tr>\n",
       "    <tr>\n",
       "      <th id=\"T_c6017_level0_row11\" class=\"row_heading level0 row11\" >20.000000</th>\n",
       "      <td id=\"T_c6017_row11_col0\" class=\"data row11 col0\" >0.000313</td>\n",
       "      <td id=\"T_c6017_row11_col1\" class=\"data row11 col1\" >8.3831e-05</td>\n",
       "      <td id=\"T_c6017_row11_col2\" class=\"data row11 col2\" >9.0793e-05</td>\n",
       "      <td id=\"T_c6017_row11_col3\" class=\"data row11 col3\" >2.9447e-04</td>\n",
       "    </tr>\n",
       "  </tbody>\n",
       "</table>\n"
      ],
      "text/plain": [
       "<pandas.io.formats.style.Styler at 0x17eb8a210>"
      ]
     },
     "execution_count": 42,
     "metadata": {},
     "output_type": "execute_result"
    }
   ],
   "source": [
    "# pd.set_option('display.float_format', '{:.2e}'.format)\n",
    "# pd.reset_option('display.float_format')\n",
    "df = pd.DataFrame(bump_strengths[quad]).T\n",
    "df.style.format(\n",
    "    formatter=\"{:.4e}\", \n",
    "    subset=df.columns[1:]  # skip first column\n",
    ")"
   ]
  },
  {
   "cell_type": "code",
   "execution_count": 44,
   "id": "bbb33652",
   "metadata": {},
   "outputs": [
    {
     "data": {
      "text/plain": [
       "6.4842e-05"
      ]
     },
     "execution_count": 44,
     "metadata": {},
     "output_type": "execute_result"
    }
   ],
   "source": [
    "3.4191e-5 *2 - 3.54e-6"
   ]
  },
  {
   "cell_type": "markdown",
   "id": "fe07e5d4",
   "metadata": {},
   "source": [
    "## Initial value of corrector after reload of the script/increased blm threshold"
   ]
  },
  {
   "cell_type": "code",
   "execution_count": 50,
   "id": "34b904ff",
   "metadata": {},
   "outputs": [],
   "source": [
    "base_vals = {60807: 1.256603e-4 - 9.34e-7, 61007: 4.12829e-5 - 1.29173e-5, 61207: 4.98272e-5 - 2.25165e-5, 61407: 1.063741e-4 + 1.90231e-5}"
   ]
  },
  {
   "cell_type": "code",
   "execution_count": 51,
   "id": "304f6871",
   "metadata": {},
   "outputs": [],
   "source": [
    "bumps_after = {}\n",
    "for bump in [6.0, 8.0, 10.0, 12.0, 14.0, 16.0]:\n",
    "    bumps_after[bump] = {}\n",
    "    for magnet in bump_strengths[quad][bump]:\n",
    "        bumps_after[bump][magnet] = bump_strengths[quad][bump][magnet] + base_vals[magnet]"
   ]
  },
  {
   "cell_type": "code",
   "execution_count": 52,
   "id": "40f36ef3",
   "metadata": {},
   "outputs": [
    {
     "data": {
      "text/html": [
       "<style type=\"text/css\">\n",
       "</style>\n",
       "<table id=\"T_a7dd2\">\n",
       "  <thead>\n",
       "    <tr>\n",
       "      <th class=\"blank level0\" >&nbsp;</th>\n",
       "      <th id=\"T_a7dd2_level0_col0\" class=\"col_heading level0 col0\" >60807</th>\n",
       "      <th id=\"T_a7dd2_level0_col1\" class=\"col_heading level0 col1\" >61007</th>\n",
       "      <th id=\"T_a7dd2_level0_col2\" class=\"col_heading level0 col2\" >61207</th>\n",
       "      <th id=\"T_a7dd2_level0_col3\" class=\"col_heading level0 col3\" >61407</th>\n",
       "    </tr>\n",
       "  </thead>\n",
       "  <tbody>\n",
       "    <tr>\n",
       "      <th id=\"T_a7dd2_level0_row0\" class=\"row_heading level0 row0\" >6.000000</th>\n",
       "      <td id=\"T_a7dd2_row0_col0\" class=\"data row0 col0\" >0.000219</td>\n",
       "      <td id=\"T_a7dd2_row0_col1\" class=\"data row0 col1\" >6.2557e-05</td>\n",
       "      <td id=\"T_a7dd2_row0_col2\" class=\"data row0 col2\" >7.0310e-05</td>\n",
       "      <td id=\"T_a7dd2_row0_col3\" class=\"data row0 col3\" >2.0042e-04</td>\n",
       "    </tr>\n",
       "    <tr>\n",
       "      <th id=\"T_a7dd2_level0_row1\" class=\"row_heading level0 row1\" >8.000000</th>\n",
       "      <td id=\"T_a7dd2_row1_col0\" class=\"data row1 col0\" >0.000250</td>\n",
       "      <td id=\"T_a7dd2_row1_col1\" class=\"data row1 col1\" >6.9648e-05</td>\n",
       "      <td id=\"T_a7dd2_row1_col2\" class=\"data row1 col2\" >7.7138e-05</td>\n",
       "      <td id=\"T_a7dd2_row1_col3\" class=\"data row1 col3\" >2.3177e-04</td>\n",
       "    </tr>\n",
       "    <tr>\n",
       "      <th id=\"T_a7dd2_level0_row2\" class=\"row_heading level0 row2\" >10.000000</th>\n",
       "      <td id=\"T_a7dd2_row2_col0\" class=\"data row2 col0\" >0.000282</td>\n",
       "      <td id=\"T_a7dd2_row2_col1\" class=\"data row2 col1\" >7.6740e-05</td>\n",
       "      <td id=\"T_a7dd2_row2_col2\" class=\"data row2 col2\" >8.3966e-05</td>\n",
       "      <td id=\"T_a7dd2_row2_col3\" class=\"data row2 col3\" >2.6312e-04</td>\n",
       "    </tr>\n",
       "    <tr>\n",
       "      <th id=\"T_a7dd2_level0_row3\" class=\"row_heading level0 row3\" >12.000000</th>\n",
       "      <td id=\"T_a7dd2_row3_col0\" class=\"data row3 col0\" >0.000313</td>\n",
       "      <td id=\"T_a7dd2_row3_col1\" class=\"data row3 col1\" >8.3831e-05</td>\n",
       "      <td id=\"T_a7dd2_row3_col2\" class=\"data row3 col2\" >9.0793e-05</td>\n",
       "      <td id=\"T_a7dd2_row3_col3\" class=\"data row3 col3\" >2.9447e-04</td>\n",
       "    </tr>\n",
       "    <tr>\n",
       "      <th id=\"T_a7dd2_level0_row4\" class=\"row_heading level0 row4\" >14.000000</th>\n",
       "      <td id=\"T_a7dd2_row4_col0\" class=\"data row4 col0\" >0.000344</td>\n",
       "      <td id=\"T_a7dd2_row4_col1\" class=\"data row4 col1\" >9.0923e-05</td>\n",
       "      <td id=\"T_a7dd2_row4_col2\" class=\"data row4 col2\" >9.7621e-05</td>\n",
       "      <td id=\"T_a7dd2_row4_col3\" class=\"data row4 col3\" >3.2582e-04</td>\n",
       "    </tr>\n",
       "    <tr>\n",
       "      <th id=\"T_a7dd2_level0_row5\" class=\"row_heading level0 row5\" >16.000000</th>\n",
       "      <td id=\"T_a7dd2_row5_col0\" class=\"data row5 col0\" >0.000375</td>\n",
       "      <td id=\"T_a7dd2_row5_col1\" class=\"data row5 col1\" >9.8014e-05</td>\n",
       "      <td id=\"T_a7dd2_row5_col2\" class=\"data row5 col2\" >1.0445e-04</td>\n",
       "      <td id=\"T_a7dd2_row5_col3\" class=\"data row5 col3\" >3.5717e-04</td>\n",
       "    </tr>\n",
       "  </tbody>\n",
       "</table>\n"
      ],
      "text/plain": [
       "<pandas.io.formats.style.Styler at 0x17eb89950>"
      ]
     },
     "execution_count": 52,
     "metadata": {},
     "output_type": "execute_result"
    }
   ],
   "source": [
    "df2 = pd.DataFrame(bumps_after).T\n",
    "df2.style.format(\n",
    "    formatter=\"{:.4e}\", \n",
    "    subset=df.columns[1:]  # skip first column\n",
    ")"
   ]
  },
  {
   "cell_type": "code",
   "execution_count": 53,
   "id": "fe2e4486",
   "metadata": {},
   "outputs": [
    {
     "data": {
      "application/vnd.jupyter.widget-view+json": {
       "model_id": "9c1b2f885ec240d3a735856e46fd3a30",
       "version_major": 2,
       "version_minor": 0
      },
      "text/plain": [
       "Loading line from dict:   0%|          | 0/36381 [00:00<?, ?it/s]"
      ]
     },
     "metadata": {},
     "output_type": "display_data"
    },
    {
     "name": "stdout",
     "output_type": "stream",
     "text": [
      "Done loading line from dict.           \n"
     ]
    }
   ],
   "source": [
    "line = xt.Line.from_json('../injection_lines/sps_with_aperture_inj_q20_beam_sagitta4.json')"
   ]
  },
  {
   "cell_type": "code",
   "execution_count": 54,
   "id": "42cb6259",
   "metadata": {},
   "outputs": [],
   "source": [
    "tt = line.get_table()"
   ]
  },
  {
   "cell_type": "code",
   "execution_count": 60,
   "id": "2507f474",
   "metadata": {},
   "outputs": [
    {
     "data": {
      "text/plain": [
       "Table: 80 rows, 11 cols\n",
       "name                            s element_type isthick isreplica parent_name iscollective ...\n",
       "acte.31632.a_aper         2817.95 LimitEllipse   False     False None               False\n",
       "actcse.31632.a_aper       2818.52 LimitEllipse   False     False None               False\n",
       "actcse.31632              2820.57 Cavity          True     False None               False\n",
       "actcse.31632.b_aper       2822.63 LimitEllipse   False     False None               False\n",
       "actcse.31637.a_aper       2822.63 LimitEllipse   False     False None               False\n",
       "actcse.31637              2824.69 Cavity          True     False None               False\n",
       "actcse.31637.b_aper       2826.74 LimitEllipse   False     False None               False\n",
       "actcse.31654.a_aper       2826.75 LimitEllipse   False     False None               False\n",
       "actcse.31654               2828.8 Cavity          True     False None               False\n",
       "actcse.31654.b_aper       2830.86 LimitEllipse   False     False None               False\n",
       "...\n",
       "actcsj.31958.b_aper       2928.85 LimitEllipse   False     False None               False\n",
       "actcsj.31974.a_aper       2928.85 LimitEllipse   False     False None               False\n",
       "actcsj.31974              2930.91 Cavity          True     False None               False\n",
       "actcsj.31974.b_aper       2932.96 LimitEllipse   False     False None               False\n",
       "actcsj.31991.a_aper       2932.97 LimitEllipse   False     False None               False\n",
       "actcsj.31991              2935.02 Cavity          True     False None               False\n",
       "actcsj.31991.b_aper       2937.08 LimitEllipse   False     False None               False\n",
       "actj.31952.b_aper         2937.64 LimitEllipse   False     False None               False\n",
       "acfcah.61738              6309.28 RFMultipole    False     False None               False\n",
       "acfcah.61739              6310.46 RFMultipole    False     False None               False"
      ]
     },
     "execution_count": 60,
     "metadata": {},
     "output_type": "execute_result"
    }
   ],
   "source": [
    "tt.rows['ac.*']"
   ]
  },
  {
   "cell_type": "code",
   "execution_count": 61,
   "id": "82122f70",
   "metadata": {},
   "outputs": [
    {
     "name": "stdout",
     "output_type": "stream",
     "text": [
      "name                                 s element_type isthick isreplica parent_name           ...\n",
      "actcse.31637.b_aper            2826.74 LimitEllipse   False     False None                 \n",
      "drift_actcse.31637..2..1       2826.74 DriftSlice      True     False drift_actcse.31637..2\n",
      "drift_actcse.31654..1..0       2826.74 DriftSlice      True     False drift_actcse.31654..1\n",
      "actcse.31654.a_aper            2826.75 LimitEllipse   False     False None                 \n",
      "drift_actcse.31654..1..1       2826.75 DriftSlice      True     False drift_actcse.31654..1\n",
      "actcse.31654                    2828.8 Cavity          True     False None                 \n",
      "drift_actcse.31654..2..0        2828.8 DriftSlice      True     False drift_actcse.31654..2\n",
      "actcse.31654.b_aper            2830.86 LimitEllipse   False     False None                 \n",
      "drift_actcse.31654..2..1       2830.86 DriftSlice      True     False drift_actcse.31654..2\n",
      "drift_786..0                   2830.86 DriftSlice      True     False drift_786            \n",
      "acte.31632.b_aper              2831.42 LimitEllipse   False     False None                 \n"
     ]
    }
   ],
   "source": [
    "tt.rows['actcse.31654<<5':'actcse.31654>>5'].show()"
   ]
  },
  {
   "cell_type": "code",
   "execution_count": 62,
   "id": "f2397e1c",
   "metadata": {},
   "outputs": [
    {
     "data": {
      "text/plain": [
       "np.float64(0.0)"
      ]
     },
     "execution_count": 62,
     "metadata": {},
     "output_type": "execute_result"
    }
   ],
   "source": [
    "line['actcse.31654'].length"
   ]
  },
  {
   "cell_type": "code",
   "execution_count": null,
   "id": "085eb549",
   "metadata": {},
   "outputs": [],
   "source": []
  }
 ],
 "metadata": {
  "kernelspec": {
   "display_name": "xcoll",
   "language": "python",
   "name": "python3"
  },
  "language_info": {
   "codemirror_mode": {
    "name": "ipython",
    "version": 3
   },
   "file_extension": ".py",
   "mimetype": "text/x-python",
   "name": "python",
   "nbconvert_exporter": "python",
   "pygments_lexer": "ipython3",
   "version": "3.13.3"
  }
 },
 "nbformat": 4,
 "nbformat_minor": 5
}
