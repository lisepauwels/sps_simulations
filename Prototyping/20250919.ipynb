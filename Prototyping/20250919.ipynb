{
 "cells": [
  {
   "cell_type": "code",
   "execution_count": 1,
   "id": "8e15f618",
   "metadata": {},
   "outputs": [],
   "source": [
    "import numpy as np\n",
    "import matplotlib.pyplot as plt\n",
    "import xtrack as xt\n",
    "import xpart as xp\n",
    "import xobjects as xo\n",
    "import xcoll as xc\n",
    "import re"
   ]
  },
  {
   "cell_type": "code",
   "execution_count": 17,
   "id": "47855b84",
   "metadata": {},
   "outputs": [
    {
     "data": {
      "application/vnd.jupyter.widget-view+json": {
       "model_id": "1a9b6423f3e04080a74489ee9b610582",
       "version_major": 2,
       "version_minor": 0
      },
      "text/plain": [
       "Loading line from dict:   0%|          | 0/36381 [00:00<?, ?it/s]"
      ]
     },
     "metadata": {},
     "output_type": "display_data"
    },
    {
     "name": "stdout",
     "output_type": "stream",
     "text": [
      "Done loading line from dict.           \n"
     ]
    }
   ],
   "source": [
    "line = xt.Line.from_json('../injection_lines/sps_with_aperture_inj_q20_beam_sagitta4.json')\n",
    "tt = line.get_table()\n",
    "tw = line.twiss()"
   ]
  },
  {
   "cell_type": "code",
   "execution_count": 3,
   "id": "696bcee9",
   "metadata": {},
   "outputs": [],
   "source": [
    "def install_tidp(line, block_mvt=29e-3):\n",
    "    tidp_ap_tot = 147e-3\n",
    "    line.discard_tracker()\n",
    "    tidp = xc.EverestCollimator(length=4.3, material=xc.materials.Carbon, jaw_L= tidp_ap_tot/2 + block_mvt, jaw_R = -tidp_ap_tot/2 + block_mvt)\n",
    "    line.collimators.install(names=['tidp.11434'], elements=[tidp])\n",
    "    return tidp\n",
    "\n",
    "def install_tcsm(line):\n",
    "    tcsm = xc.EverestCollimator(length=1.83, gap=5, material=xc.materials.Carbon) # length is 1.83\n",
    "    line.collimators.install(names=['tcsm.51932'], elements=[tcsm])\n",
    "    return tcsm"
   ]
  },
  {
   "cell_type": "code",
   "execution_count": 13,
   "id": "2232ff6a",
   "metadata": {},
   "outputs": [],
   "source": [
    "def install_offmom_bpms_colls(line, exn=3.5e-6, nrj=21, pmass=0.938, bucket_height=3e-3, n_buckets=2):\n",
    "    tw = line.twiss()\n",
    "    tt = line.get_table()\n",
    "    mask_disp = 5*np.sqrt(tw.betx*exn*pmass/nrj)+n_buckets*bucket_height*tw.dx > 0.025\n",
    "    mask_bpm = ['bp' in name for name in tt.name]\n",
    "    mask_aper = np.array(['aper' in name for name in tt.name])\n",
    "    offmom_bpms = tt.name[mask_disp & mask_bpm & ~mask_aper]\n",
    "    colls = []\n",
    "    aper_to_remove = []\n",
    "    for nn in offmom_bpms:\n",
    "        aper_to_remove.append(f'{nn}.a_aper')\n",
    "        aper_to_remove.append(f'{nn}.b_aper')\n",
    "        if line[nn+'.a_aper'].__class__.__name__ == 'LimitEllipse':\n",
    "            jaw = line[nn+'.a_aper'].a\n",
    "        else:\n",
    "            jaw = line[nn+'.a_aper'].max_x\n",
    "        \n",
    "        colls.append(xc.EverestCollimator(length=line[nn].length, material=xc.materials.Beryllium, jaw=jaw))\n",
    "    line.remove(aper_to_remove)\n",
    "    line.collimators.install(names=offmom_bpms, elements=colls)\n",
    "    return colls"
   ]
  },
  {
   "cell_type": "code",
   "execution_count": null,
   "id": "817699c3",
   "metadata": {},
   "outputs": [],
   "source": [
    "def remove_offmom_bpms_apers(line, exn=3.5e-6, nrj=21, pmass=0.938, bucket_height=3e-3, n_buckets=2):\n",
    "    \"Remove apertures of off-momentum BPMs which give flanges as bottlenecks\"\n",
    "    mask_disp = 5*np.sqrt(tw.betx*exn*pmass/nrj)+n_buckets*bucket_height*tw.dx > 0.025\n",
    "    mask_bpm = ['bp' in name for name in tt.name]\n",
    "    mask_aper = np.array(['aper' in name for name in tt.name])\n",
    "    offmom_bpms = tt.name[mask_disp & mask_bpm & ~mask_aper]\n",
    "    aper_to_remove = [f'{name}{suffix}' for name in offmom_bpms for suffix in ('.a_aper', '.b_aper')]\n",
    "    line.remove(aper_to_remove)"
   ]
  },
  {
   "cell_type": "code",
   "execution_count": 18,
   "id": "e3608021",
   "metadata": {},
   "outputs": [],
   "source": [
    "remove_offmom_bpms_apers(line, exn=3.5e-6, nrj=21, pmass=0.938, bucket_height=3e-3, n_buckets=2)"
   ]
  },
  {
   "cell_type": "markdown",
   "id": "28f1cdf8",
   "metadata": {},
   "source": [
    "# Flanges"
   ]
  },
  {
   "cell_type": "markdown",
   "id": "d08ee4d5",
   "metadata": {},
   "source": [
    "## Previous calculations"
   ]
  },
  {
   "cell_type": "code",
   "execution_count": 19,
   "id": "cb0c51bf",
   "metadata": {},
   "outputs": [
    {
     "name": "stdout",
     "output_type": "stream",
     "text": [
      "0.0053 0.0053\n",
      "0.04202719406674908 0.9579728059332508\n"
     ]
    }
   ],
   "source": [
    "theta = np.atan(5.3/809)\n",
    "L1 = 34e-3\n",
    "L2 = 21e-3\n",
    "L3 = 754e-3\n",
    "h_tot = 5.3e-3\n",
    "\n",
    "x1 = L1/np.cos(theta)\n",
    "x2 = L2/np.cos(theta)\n",
    "x3 = L3/np.cos(theta)\n",
    "\n",
    "print(np.sin(theta)*(x1+x2+x3), h_tot)\n",
    "\n",
    "x_tot = x1+x2+x3\n",
    "w_steel = x1/x_tot\n",
    "w_air = (x2+x3)/x_tot\n",
    "\n",
    "print(w_steel, w_air)"
   ]
  },
  {
   "cell_type": "code",
   "execution_count": 20,
   "id": "6d3a05d7",
   "metadata": {},
   "outputs": [],
   "source": [
    "d_steel_air = x2+x3\n",
    "\n",
    "X_Be = 35.28e-2\n",
    "X_air = 303.9\n",
    "X_Fe = 1.757e-2\n",
    "X_C = 19.32e-2\n",
    "X_steel = (0.02/X_C + 0.98/X_Fe)**(-1)\n",
    "X_steel_air = (w_steel/X_steel + w_air/X_air)**(-1)\n",
    "\n",
    "d_Be = X_Be/X_steel_air * d_steel_air #shorter than d_steel_air so we can keep angle theta and stop collimator before end of VCAK"
   ]
  },
  {
   "cell_type": "code",
   "execution_count": 21,
   "id": "d628cbb0",
   "metadata": {},
   "outputs": [],
   "source": [
    "tt = line.get_table()"
   ]
  },
  {
   "cell_type": "code",
   "execution_count": 22,
   "id": "a3b53260",
   "metadata": {},
   "outputs": [
    {
     "data": {
      "text/plain": [
       "Table: 62 rows, 11 cols\n",
       "name                          s element_type isthick isreplica parent_name iscollective ...\n",
       "vcak.10101.a_aper       29.8516 LimitEllipse   False     False None               False\n",
       "vcak.10101.b_aper       30.1487 LimitEllipse   False     False None               False\n",
       "vcak.11101.a_aper       349.828 LimitEllipse   False     False None               False\n",
       "vcak.11101.b_aper       350.687 LimitEllipse   False     False None               False\n",
       "vcak.11301.a_aper       413.824 LimitEllipse   False     False None               False\n",
       "vcak.11301.b_aper       414.121 LimitEllipse   False     False None               False\n",
       "vcak.12501.a_aper       797.796 LimitEllipse   False     False None               False\n",
       "vcak.12501.b_aper       798.655 LimitEllipse   False     False None               False\n",
       "vcak.13501.a_aper       1117.77 LimitEllipse   False     False None               False\n",
       "vcak.13501.b_aper       1118.63 LimitEllipse   False     False None               False\n",
       "...\n",
       "vcak.53501.a_aper       5722.31 LimitEllipse   False     False None               False\n",
       "vcak.53501.b_aper       5723.17 LimitEllipse   False     False None               False\n",
       "vcak.60101.a_aper       5786.31 LimitEllipse   False     False None               False\n",
       "vcak.60101.b_aper       5786.61 LimitEllipse   False     False None               False\n",
       "vcak.61101.a_aper       6106.28 LimitEllipse   False     False None               False\n",
       "vcak.61101.b_aper       6107.14 LimitEllipse   False     False None               False\n",
       "vcak.62501.a_aper       6554.25 LimitEllipse   False     False None               False\n",
       "vcak.62501.b_aper       6555.11 LimitEllipse   False     False None               False\n",
       "vcak.63501.a_aper       6874.23 LimitEllipse   False     False None               False\n",
       "vcak.63501.b_aper       6875.09 LimitEllipse   False     False None               False"
      ]
     },
     "execution_count": 22,
     "metadata": {},
     "output_type": "execute_result"
    }
   ],
   "source": [
    "tt.rows['vcak.*']"
   ]
  },
  {
   "cell_type": "code",
   "execution_count": 23,
   "id": "ed6a22b8",
   "metadata": {},
   "outputs": [
    {
     "data": {
      "text/plain": [
       "View of LimitEllipse(a=0.0415, b=0.0415)"
      ]
     },
     "execution_count": 23,
     "metadata": {},
     "output_type": "execute_result"
    }
   ],
   "source": [
    "line['vcak.10101.a_aper']"
   ]
  },
  {
   "cell_type": "code",
   "execution_count": 24,
   "id": "3c4c1741",
   "metadata": {},
   "outputs": [
    {
     "data": {
      "text/plain": [
       "Table: 768 rows, 11 cols\n",
       "name                          s element_type isthick isreplica parent_name iscollective ...\n",
       "vebb.10070.a_aper       16.5716 LimitRect      False     False None               False\n",
       "vebb.10070.b_aper       23.2104 LimitRect      False     False None               False\n",
       "vebb.10090.a_aper       23.2116 LimitRect      False     False None               False\n",
       "vebb.10090.b_aper       29.8504 LimitRect      False     False None               False\n",
       "vebb.10130.a_aper       35.2493 LimitRect      False     False None               False\n",
       "vebb.10130.b_aper       41.8881 LimitRect      False     False None               False\n",
       "vebb.10150.a_aper       41.8893 LimitRect      False     False None               False\n",
       "vebb.10150.b_aper       48.5281 LimitRect      False     False None               False\n",
       "vebb.10270.a_aper        80.567 LimitRect      False     False None               False\n",
       "vebb.10270.b_aper       87.2058 LimitRect      False     False None               False\n",
       "...\n",
       "vebb.63350.a_aper       6822.27 LimitRect      False     False None               False\n",
       "vebb.63350.b_aper       6828.91 LimitRect      False     False None               False\n",
       "vebb.63470.a_aper       6860.95 LimitRect      False     False None               False\n",
       "vebb.63470.b_aper       6867.59 LimitRect      False     False None               False\n",
       "vebb.63490.a_aper       6867.59 LimitRect      False     False None               False\n",
       "vebb.63490.b_aper       6874.23 LimitRect      False     False None               False\n",
       "vebb.63530.a_aper       6879.63 LimitRect      False     False None               False\n",
       "vebb.63530.b_aper       6886.27 LimitRect      False     False None               False\n",
       "vebb.63550.a_aper       6886.27 LimitRect      False     False None               False\n",
       "vebb.63550.b_aper       6892.91 LimitRect      False     False None               False"
      ]
     },
     "execution_count": 24,
     "metadata": {},
     "output_type": "execute_result"
    }
   ],
   "source": [
    "tt.rows['vebb.*']"
   ]
  },
  {
   "cell_type": "code",
   "execution_count": 25,
   "id": "57a9eab3",
   "metadata": {},
   "outputs": [
    {
     "data": {
      "text/plain": [
       "View of LimitRect(min_x=-0.0645, max_x=0.0645, min_y=-0.0267, max_y=0.0267, _sin_rot_s=-999, _cos_rot_s=-999, _shift_x=0, _shift_y=0, _shift_s=0, _rot_x_rad=0, _rot_y_rad=0, _rot_s_rad_no_frame=0, rot_shift_anchor=0)"
      ]
     },
     "execution_count": 25,
     "metadata": {},
     "output_type": "execute_result"
    }
   ],
   "source": [
    "line['vebb.10090.b_aper']"
   ]
  },
  {
   "cell_type": "code",
   "execution_count": 26,
   "id": "c773c437",
   "metadata": {},
   "outputs": [
    {
     "data": {
      "text/plain": [
       "Table: 124 rows, 11 cols\n",
       "name                          s element_type isthick isreplica parent_name iscollective ...\n",
       "vcad.10301.a_aper       93.8467 LimitEllipse   False     False None               False\n",
       "vcad.10301.b_aper       94.7055 LimitEllipse   False     False None               False\n",
       "vcad.10501.a_aper       157.842 LimitEllipse   False     False None               False\n",
       "vcad.10501.b_aper       159.263 LimitEllipse   False     False None               False\n",
       "vcad.10702.a_aper       221.838 LimitEllipse   False     False None               False\n",
       "vcad.10702.b_aper       222.696 LimitEllipse   False     False None               False\n",
       "vcad.10901.a_aper       285.833 LimitEllipse   False     False None               False\n",
       "vcad.10901.b_aper       287.254 LimitEllipse   False     False None               False\n",
       "vcad.11501.a_aper        477.82 LimitEllipse   False     False None               False\n",
       "vcad.11501.b_aper       478.679 LimitEllipse   False     False None               False\n",
       "...\n",
       "vcad.62303.a_aper       6490.43 LimitEllipse   False     False None               False\n",
       "vcad.62303.b_aper       6491.12 LimitEllipse   False     False None               False\n",
       "vcad.62702.a_aper       6618.25 LimitEllipse   False     False None               False\n",
       "vcad.62702.b_aper       6619.11 LimitEllipse   False     False None               False\n",
       "vcad.62902.a_aper       6682.24 LimitEllipse   False     False None               False\n",
       "vcad.62902.b_aper        6683.1 LimitEllipse   False     False None               False\n",
       "vcad.63101.a_aper       6746.24 LimitEllipse   False     False None               False\n",
       "vcad.63101.b_aper        6747.1 LimitEllipse   False     False None               False\n",
       "vcad.63302.a_aper       6810.23 LimitEllipse   False     False None               False\n",
       "vcad.63302.b_aper       6811.09 LimitEllipse   False     False None               False"
      ]
     },
     "execution_count": 26,
     "metadata": {},
     "output_type": "execute_result"
    }
   ],
   "source": [
    "tt.rows['vcad.*']"
   ]
  },
  {
   "cell_type": "code",
   "execution_count": 27,
   "id": "540c42f4",
   "metadata": {},
   "outputs": [
    {
     "data": {
      "text/plain": [
       "View of LimitEllipse(a=0.0415, b=0.0415)"
      ]
     },
     "execution_count": 27,
     "metadata": {},
     "output_type": "execute_result"
    }
   ],
   "source": [
    "line['vcad.10301.a_aper']"
   ]
  },
  {
   "cell_type": "code",
   "execution_count": 28,
   "id": "606352db",
   "metadata": {},
   "outputs": [],
   "source": [
    "import apertls"
   ]
  },
  {
   "cell_type": "code",
   "execution_count": 29,
   "id": "e02c638f",
   "metadata": {},
   "outputs": [],
   "source": [
    "ap_calc = apertls.ApertureCalculator(line)\n",
    "x_ext = ap_calc.compute_x_extent()"
   ]
  },
  {
   "cell_type": "code",
   "execution_count": 47,
   "id": "195591c5",
   "metadata": {},
   "outputs": [
    {
     "data": {
      "image/png": "[encoded data removed]",
      "text/plain": [
       "<Figure size 1000x600 with 1 Axes>"
      ]
     },
     "metadata": {},
     "output_type": "display_data"
    }
   ],
   "source": [
    "exn=3.5e-6\n",
    "nrj=21\n",
    "pmass=0.938\n",
    "bucket_height=3e-3\n",
    "n_buckets = 1\n",
    "\n",
    "mask = np.array([line[nn].__class__.__name__.startswith('Limit') for nn in tt.name[:-1]])\n",
    "mask = np.concatenate((mask, [False]))\n",
    "fig, ax = plt.subplots(figsize=(10,6))\n",
    "ax.plot(tt.s[mask], x_ext[:, 0], '*-', color='k')\n",
    "ax.plot(tt.s[mask], x_ext[:, 1], '*-', color='k')\n",
    "ax.plot(tw.s, 5*np.sqrt(tw.betx*exn*pmass/nrj), color='green', label='5 sigma')\n",
    "ax.plot(tw.s, -5*np.sqrt(tw.betx*exn*pmass/nrj), color='green')\n",
    "\n",
    "ax.plot(tw.s, 5*np.sqrt(tw.betx*exn*pmass/nrj)+n_buckets*bucket_height*tw.dx, color='red', label='5 sigma + bucket')\n",
    "ax.plot(tw.s, -5*np.sqrt(tw.betx*exn*pmass/nrj)-n_buckets*bucket_height*tw.dx, color='red')\n",
    "\n",
    "ax.fill_between(tw.s, -5*np.sqrt(tw.betx*exn*pmass/nrj), 5*np.sqrt(tw.betx*exn*pmass/nrj), color='green', alpha=0.1)\n",
    "ax.fill_between(tw.s, -5*np.sqrt(tw.betx*exn*pmass/nrj)-n_buckets*bucket_height*tw.dx, -5*np.sqrt(tw.betx*exn*pmass/nrj), color='red', alpha=0.1)\n",
    "ax.fill_between(tw.s, 5*np.sqrt(tw.betx*exn*pmass/nrj)+n_buckets*bucket_height*tw.dx, 5*np.sqrt(tw.betx*exn*pmass/nrj), color='red', alpha=0.1)\n",
    "ax.grid()\n",
    "# ax.legend()\n",
    "ax.set_xlim(23,33)\n",
    "ax.set_xlabel('s [m]')\n",
    "ax.set_ylabel('x [m]')\n",
    "ax.hlines(0.02, 5200, 6200)\n",
    "# plt.savefig('x_extent_with_bucket.pdf', dpi=300)\n",
    "plt.show()"
   ]
  },
  {
   "cell_type": "code",
   "execution_count": 57,
   "id": "c3287a6f",
   "metadata": {},
   "outputs": [],
   "source": [
    "mask_s = (tw.s>23) & (tw.s<33)\n",
    "mask_aper = np.array([line[nn].__class__.__name__.startswith('Limit') for nn in tt.name[:-1]])\n",
    "mask_aper = np.concatenate((mask_aper, [False]))"
   ]
  },
  {
   "cell_type": "code",
   "execution_count": 41,
   "id": "c91ac4f6",
   "metadata": {},
   "outputs": [],
   "source": [
    "tt = line.get_table()\n",
    "tw = line.twiss()"
   ]
  },
  {
   "cell_type": "code",
   "execution_count": 59,
   "id": "0d07f2de",
   "metadata": {},
   "outputs": [
    {
     "data": {
      "text/plain": [
       "Table: 26 rows, 11 cols\n",
       "name                            s element_type isthick isreplica parent_name iscollective ...\n",
       "mbb.10070..10_aper2        23.015 LimitRect      False     False None               False\n",
       "vebb.10070.b_aper         23.2104 LimitRect      False     False None               False\n",
       "vebb.10090.a_aper         23.2116 LimitRect      False     False None               False\n",
       "mbb.10090..0_aper2         23.395 LimitRect      False     False None               False\n",
       "mbb.10090..1_aper2         24.021 LimitRect      False     False None               False\n",
       "mbb.10090..2_aper2         24.647 LimitRect      False     False None               False\n",
       "mbb.10090..3_aper2         25.273 LimitRect      False     False None               False\n",
       "mbb.10090..4_aper2         25.899 LimitRect      False     False None               False\n",
       "mbb.10090..5_aper2         26.525 LimitRect      False     False None               False\n",
       "mbb.10090..6_aper2         27.151 LimitRect      False     False None               False\n",
       "mbb.10090..7_aper2         27.777 LimitRect      False     False None               False\n",
       "mbb.10090..8_aper2         28.403 LimitRect      False     False None               False\n",
       "mbb.10090..9_aper2         29.029 LimitRect      False     False None               False\n",
       "mbb.10090..10_aper2        29.655 LimitRect      False     False None               False\n",
       "vebb.10090.b_aper         29.8504 LimitRect      False     False None               False\n",
       "vcak.10101.a_aper         29.8516 LimitEllipse   False     False None               False\n",
       "vcak.10101.b_aper         30.1487 LimitEllipse   False     False None               False\n",
       "vvsa.10103.a_aper         30.1499 LimitEllipse   False     False None               False\n",
       "vvsa.10103.b_aper         30.3237 LimitEllipse   False     False None               False\n",
       "vcae.10103.a_aper         30.3249 LimitEllipse   False     False None               False\n",
       "vcae.10103.b_aper         30.7104 LimitEllipse   False     False None               False\n",
       "vtto.10105.a_aper         30.7113 LimitEllipse   False     False None               False\n",
       "vtto.10105.b_aper         31.2721 LimitEllipse   False     False None               False\n",
       "mdv.10107.a_aper          31.3633 LimitEllipse   False     False None               False\n",
       "mdv.10107.b_aper          31.6121 LimitEllipse   False     False None               False\n",
       "veqd.10110.a_aper         31.9033 LimitEllipse   False     False None               False"
      ]
     },
     "execution_count": 59,
     "metadata": {},
     "output_type": "execute_result"
    }
   ],
   "source": [
    "tt.rows[tt.name[mask_s &mask_aper]]"
   ]
  },
  {
   "cell_type": "code",
   "execution_count": 60,
   "id": "8b665d8d",
   "metadata": {},
   "outputs": [
    {
     "data": {
      "text/plain": [
       "View of LimitEllipse(a=0.0415, b=0.0415)"
      ]
     },
     "execution_count": 60,
     "metadata": {},
     "output_type": "execute_result"
    }
   ],
   "source": [
    "line['veqd.10110.a_aper']"
   ]
  },
  {
   "cell_type": "code",
   "execution_count": 61,
   "id": "f1eb6d89",
   "metadata": {},
   "outputs": [
    {
     "data": {
      "text/plain": [
       "23"
      ]
     },
     "execution_count": 61,
     "metadata": {},
     "output_type": "execute_result"
    }
   ],
   "source": [
    "85-62"
   ]
  },
  {
   "cell_type": "code",
   "execution_count": null,
   "id": "768dec87",
   "metadata": {},
   "outputs": [],
   "source": []
  }
 ],
 "metadata": {
  "kernelspec": {
   "display_name": "xcoll",
   "language": "python",
   "name": "python3"
  },
  "language_info": {
   "codemirror_mode": {
    "name": "ipython",
    "version": 3
   },
   "file_extension": ".py",
   "mimetype": "text/x-python",
   "name": "python",
   "nbconvert_exporter": "python",
   "pygments_lexer": "ipython3",
   "version": "3.13.3"
  }
 },
 "nbformat": 4,
 "nbformat_minor": 5
}
