{
 "cells": [
  {
   "cell_type": "code",
   "execution_count": 78,
   "id": "0ee39821",
   "metadata": {},
   "outputs": [],
   "source": [
    "import numpy as np\n",
    "import matplotlib.pyplot as plt\n",
    "import xtrack as xt\n",
    "import xpart as xp\n",
    "import xobjects as xo\n",
    "import xcoll as xc\n",
    "from pathlib import Path\n",
    "import json"
   ]
  },
  {
   "cell_type": "code",
   "execution_count": 47,
   "id": "a78a3f87",
   "metadata": {},
   "outputs": [
    {
     "data": {
      "application/vnd.jupyter.widget-view+json": {
       "model_id": "62e63a965ac84455bf8b3a37092f0f02",
       "version_major": 2,
       "version_minor": 0
      },
      "text/plain": [
       "Loading line from dict:   0%|          | 0/36381 [00:00<?, ?it/s]"
      ]
     },
     "metadata": {},
     "output_type": "display_data"
    },
    {
     "name": "stdout",
     "output_type": "stream",
     "text": [
      "Done loading line from dict.           \n"
     ]
    }
   ],
   "source": [
    "line = xt.Line.from_json('../../injection_lines/sps_with_aperture_inj_q20_beam_sagitta4.json')\n",
    "tt = line.get_table()\n",
    "tw = line.twiss()"
   ]
  },
  {
   "cell_type": "code",
   "execution_count": 62,
   "id": "74a33c4d",
   "metadata": {},
   "outputs": [],
   "source": [
    "def df_to_delta(df):\n",
    "    sps_gtr = 17.95\n",
    "    sps_g0 = 27.643\n",
    "    f0 = 200e6\n",
    "    eta = 1/sps_gtr**2 - 1/sps_g0**2\n",
    "    return -df/(f0*eta)"
   ]
  },
  {
   "cell_type": "code",
   "execution_count": 3,
   "id": "39b8f817",
   "metadata": {},
   "outputs": [],
   "source": [
    "def install_tidp(line, block_mvt=29e-3):\n",
    "    tidp_ap_tot = 147e-3\n",
    "    line.discard_tracker()\n",
    "    tidp = xc.EverestCollimator(length=4.3, material=xc.materials.Carbon, jaw_L= tidp_ap_tot/2 + block_mvt, jaw_R = -tidp_ap_tot/2 + block_mvt)\n",
    "    line.collimators.install(names=['tidp.11434'], elements=[tidp])\n",
    "    return tidp\n",
    "\n",
    "def install_tcsm(line):\n",
    "    tcsm = xc.EverestCollimator(length=1.83, gap=5, material=xc.materials.Carbon) # length is 1.83\n",
    "    line.collimators.install(names=['tcsm.51932'], elements=[tcsm])\n",
    "    return tcsm"
   ]
  },
  {
   "cell_type": "code",
   "execution_count": 4,
   "id": "7c6df7b8",
   "metadata": {},
   "outputs": [],
   "source": [
    "def install_offmom_bpms_colls(line, exn=3.5e-6, nrj=21, pmass=0.938, bucket_height=3e-3, n_buckets=2):\n",
    "    tw = line.twiss()\n",
    "    tt = line.get_table()\n",
    "    mask_disp = 5*np.sqrt(tw.betx*exn*pmass/nrj)+n_buckets*bucket_height*tw.dx > 0.025\n",
    "    mask_bpm = ['bp' in name for name in tt.name]\n",
    "    mask_aper = np.array(['aper' in name for name in tt.name])\n",
    "    offmom_bpms = tt.name[mask_disp & mask_bpm & ~mask_aper]\n",
    "    colls = []\n",
    "    aper_to_remove = []\n",
    "    for nn in offmom_bpms:\n",
    "        aper_to_remove.append(f'{nn}.a_aper')\n",
    "        aper_to_remove.append(f'{nn}.b_aper')\n",
    "        if line[nn+'.a_aper'].__class__.__name__ == 'LimitEllipse':\n",
    "            jaw = line[nn+'.a_aper'].a\n",
    "        else:\n",
    "            jaw = line[nn+'.a_aper'].max_x\n",
    "        \n",
    "        colls.append(xc.EverestCollimator(length=line[nn].length, material=xc.materials.Beryllium, jaw=jaw))\n",
    "    line.remove(aper_to_remove)\n",
    "    line.collimators.install(names=offmom_bpms, elements=colls)\n",
    "    return colls"
   ]
  },
  {
   "cell_type": "code",
   "execution_count": 30,
   "id": "f08c7fad",
   "metadata": {},
   "outputs": [],
   "source": [
    "def remove_offmom_bpms_apers(line, exn=3.5e-6, nrj=21, pmass=0.938, bucket_height=3e-3, n_buckets=2):\n",
    "    \"Remove apertures of off-momentum BPMs which give flanges as bottlenecks\"\n",
    "    mask_disp = 5*np.sqrt(tw.betx*exn*pmass/nrj)+n_buckets*bucket_height*tw.dx > 0.025\n",
    "    mask_bpm = ['bp' in name for name in tt.name]\n",
    "    mask_aper = np.array(['aper' in name for name in tt.name])\n",
    "    offmom_bpms = tt.name[mask_disp & mask_bpm & ~mask_aper]\n",
    "    aper_to_remove = [f'{name}{suffix}' for name in offmom_bpms for suffix in ('.a_aper', '.b_aper')]\n",
    "    line.remove(aper_to_remove)"
   ]
  },
  {
   "cell_type": "code",
   "execution_count": 31,
   "id": "4fdc8780",
   "metadata": {},
   "outputs": [],
   "source": [
    "remove_offmom_bpms_apers(line, exn=3.5e-6, nrj=21, pmass=0.938, bucket_height=3e-3, n_buckets=2)"
   ]
  },
  {
   "cell_type": "code",
   "execution_count": 32,
   "id": "353029ab",
   "metadata": {},
   "outputs": [],
   "source": [
    "context = xo.ContextCpu()\n",
    "line.vars['qph_setvalue'] = 0.5\n",
    "line.vars['qpv_setvalue'] = 0.5\n",
    "line.vars['qh_setvalue'] = line.vars['qx0']._value + 0.05\n",
    "line.vars['qv_setvalue'] = line.vars['qy0']._value + 0.05\n",
    "\n",
    "cavity_elements, cavity_names = line.get_elements_of_type(xt.Cavity)\n",
    "\n",
    "for name in cavity_names:\n",
    "    line[name].frequency = 200e6\n",
    "    line[name].lag = 180\n",
    "line['acl.31735'].voltage = 0 #setting 800 cav to 0V\n",
    "line['actcse.31632'].voltage = 3.0e6"
   ]
  },
  {
   "cell_type": "code",
   "execution_count": 8,
   "id": "1ec1bf95",
   "metadata": {},
   "outputs": [],
   "source": [
    "num_particles  = 100\n",
    "plane = 'DPneg'\n",
    "sweep = 6000\n",
    "sweep = -abs(sweep) if plane == 'DPpos' else abs(sweep)\n",
    "num_turns = 6000"
   ]
  },
  {
   "cell_type": "code",
   "execution_count": 33,
   "id": "6f38ef65",
   "metadata": {},
   "outputs": [],
   "source": [
    "tw = line.twiss()\n",
    "tt = line.get_table()\n",
    "line.collimators.assign_optics(nemitt_x=3.5e-6, nemitt_y=3.5e-6)"
   ]
  },
  {
   "cell_type": "code",
   "execution_count": 10,
   "id": "69194f2a",
   "metadata": {},
   "outputs": [],
   "source": [
    "#Particles\n",
    "x_spacing = np.linspace(-0.025, 0.025, int(np.sqrt(num_particles)))\n",
    "y_spacing = np.linspace(-0.025, 0.025, int(np.sqrt(num_particles)))\n",
    "\n",
    "X, Y = np.meshgrid(x_spacing, y_spacing, indexing='xy')\n",
    "x_norm = X.ravel()\n",
    "y_norm = Y.ravel()\n",
    "\n",
    "px_norm = np.zeros_like(x_norm)\n",
    "py_norm = np.zeros_like(x_norm)\n",
    "zeta = np.ones_like(x_norm)*tw.particle_on_co.zeta\n",
    "delta = np.ones_like(x_norm)*tw.particle_on_co.delta\n",
    "\n",
    "part = line.build_particles(x_norm=x_norm, px_norm=px_norm, y_norm=y_norm, py_norm=py_norm, nemitt_x=3.5e-6, nemitt_y=3.5e-6, zeta=zeta, delta=delta)"
   ]
  },
  {
   "cell_type": "code",
   "execution_count": 11,
   "id": "54f9dd62",
   "metadata": {},
   "outputs": [
    {
     "data": {
      "application/vnd.jupyter.widget-view+json": {
       "model_id": "00e651af310d4f09bbb8bff9b0595168",
       "version_major": 2,
       "version_minor": 0
      },
      "text/plain": [
       "Slicing line:   0%|          | 0/32246 [00:00<?, ?it/s]"
      ]
     },
     "metadata": {},
     "output_type": "display_data"
    },
    {
     "name": "stdout",
     "output_type": "stream",
     "text": [
      "Enabled time-dependent variables in the line.\n",
      "The current frequency is 200000001.0Hz, adding 1.0Hz per turn.\n",
      "This sweep will move the center of the bucket with Δδ = -2.812e-06 per turn.\n",
      "The bucket height is 0.002994, so this implies the sweep will shift one bucket every 2130.0 turns.\n",
      "Compiling ContextCpu kernels...\n"
     ]
    },
    {
     "name": "stderr",
     "output_type": "stream",
     "text": [
      "ld: warning: duplicate -rpath '/Users/lisepauwels/miniforge3/envs/xcoll/lib' ignored\n",
      "ld: warning: duplicate -rpath '/Users/lisepauwels/miniforge3/envs/xcoll/lib' ignored\n"
     ]
    },
    {
     "name": "stdout",
     "output_type": "stream",
     "text": [
      "Done compiling ContextCpu kernels.\n",
      "No xcoll elements found in line.\n"
     ]
    },
    {
     "data": {
      "application/vnd.jupyter.widget-view+json": {
       "model_id": "68fadb78064149569814f6973aa739f8",
       "version_major": 2,
       "version_minor": 0
      },
      "text/plain": [
       "Tracking:   0%|          | 0/6000 [00:00<?, ?it/s]"
      ]
     },
     "metadata": {},
     "output_type": "display_data"
    },
    {
     "name": "stdout",
     "output_type": "stream",
     "text": [
      "No xcoll elements found in line.\n",
      "Done sweeping RF in 95.3s.\n"
     ]
    }
   ],
   "source": [
    "rf_sweep = xc.RFSweep(line)\n",
    "rf_sweep.prepare(sweep_per_turn=sweep/num_turns)\n",
    "rf_sweep.info()\n",
    "\n",
    "line.discard_tracker()\n",
    "line.build_tracker(_context=xo.ContextCpu(omp_num_threads='auto'))\n",
    "\n",
    "# Track during RF sweep:\n",
    "line.scattering.enable()\n",
    "line.track(particles=part, num_turns=num_turns, time=True, with_progress=5)\n",
    "line.scattering.disable()\n",
    "print(f\"Done sweeping RF in {line.time_last_track:.1f}s.\")"
   ]
  },
  {
   "cell_type": "markdown",
   "id": "da219ca6",
   "metadata": {},
   "source": [
    "- positive and negative sweep\n",
    "- getting apertures out\n",
    "- so I need part.at_element, part.at_turn"
   ]
  },
  {
   "cell_type": "code",
   "execution_count": 13,
   "id": "2fa9d967",
   "metadata": {},
   "outputs": [
    {
     "data": {
      "text/plain": [
       "(array([25137]), array([100]))"
      ]
     },
     "execution_count": 13,
     "metadata": {},
     "output_type": "execute_result"
    }
   ],
   "source": [
    "np.unique(part.at_element, return_counts=True)"
   ]
  },
  {
   "cell_type": "code",
   "execution_count": 15,
   "id": "67ccec58",
   "metadata": {},
   "outputs": [
    {
     "data": {
      "text/plain": [
       "('vcak.52501.a_aper', View of LimitEllipse(a=0.0415, b=0.0415))"
      ]
     },
     "execution_count": 15,
     "metadata": {},
     "output_type": "execute_result"
    }
   ],
   "source": [
    "line.element_names[25137], line[25137]"
   ]
  },
  {
   "cell_type": "markdown",
   "id": "a1ca31a3",
   "metadata": {},
   "source": [
    "# Class"
   ]
  },
  {
   "cell_type": "code",
   "execution_count": 189,
   "id": "14042450",
   "metadata": {},
   "outputs": [],
   "source": [
    "class SweepLosses:\n",
    "    def __init__(self, line, sweep, plane, num_turns, num_particles=100, nemitt_x=3.5e-6, nemitt_y=3.5e-6, result_name=None, dir=None, gaussian=False):\n",
    "        self.line = line\n",
    "        self.sweep = -abs(sweep) if plane == 'DPpos' else abs(sweep)\n",
    "        self.num_turns = num_turns\n",
    "        self.sweep_per_turn = self.sweep/self.num_turns\n",
    "\n",
    "        self.num_particles = num_particles\n",
    "        self.gaussian = gaussian\n",
    "\n",
    "        self.nemitt_x = nemitt_x\n",
    "        self.nemitt_y = nemitt_y\n",
    "        if dir is None:\n",
    "            self.dir = Path.cwd\n",
    "        else:\n",
    "            self.dir = dir\n",
    "\n",
    "        if result_name is None:\n",
    "            print(\"WARNING: No result_name provided, using default 'sweep_losses'\")\n",
    "            self.result_name = 'sweep_losses'\n",
    "        else:\n",
    "            self.result_name = result_name\n",
    "        \n",
    "        self.savedir = Path(self.dir/self.result_name)\n",
    "        Path(self.savedir).mkdir(parents=True, exist_ok=True)\n",
    "        \n",
    "        self.track()\n",
    "\n",
    "    def make_particles(self):\n",
    "        if not self.gaussian:\n",
    "            x_spacing = np.linspace(-0.025, 0.025, int(np.sqrt(self.num_particles)))\n",
    "            y_spacing = np.linspace(-0.025, 0.025, int(np.sqrt(self.num_particles)))\n",
    "\n",
    "            X, Y = np.meshgrid(x_spacing, y_spacing, indexing='xy')\n",
    "            x_norm = X.ravel()\n",
    "            y_norm = Y.ravel()\n",
    "\n",
    "            px_norm = np.zeros_like(x_norm)\n",
    "            py_norm = np.zeros_like(x_norm)\n",
    "            zeta = np.ones_like(x_norm)*tw.particle_on_co.zeta\n",
    "            delta = np.ones_like(x_norm)*tw.particle_on_co.delta\n",
    "\n",
    "            return self.line.build_particles(x_norm=x_norm, px_norm=px_norm, y_norm=y_norm, py_norm=py_norm, nemitt_x=self.nemitt_x, nemitt_y=self.nemitt_y, zeta=zeta, delta=delta)\n",
    "        else:\n",
    "            return xp.generate_matched_gaussian_bunch(nemitt_x=self.nemitt_x,\n",
    "                                          nemitt_y=self.nemitt_y,\n",
    "                                          sigma_z=0.224, num_particles=self.num_particles, line=self.line)\n",
    "\n",
    "    def track(self):\n",
    "        tw = self.line.twiss()\n",
    "        tt = self.line.get_table()\n",
    "        self.line.collimators.assign_optics(nemitt_x=self.nemitt_x, nemitt_y=self.nemitt_y)\n",
    "        self.part = self.make_particles()\n",
    "\n",
    "        self.line.discard_tracker()\n",
    "        self.line.build_tracker(_context=xo.ContextCpu(omp_num_threads='auto'))\n",
    "        rf_sweep = xc.RFSweep(self.line)\n",
    "        rf_sweep.prepare(sweep_per_turn=self.sweep/self.num_turns)\n",
    "        rf_sweep.info()\n",
    "        self.line.scattering.enable()\n",
    "        self.line.track(particles=self.part, num_turns=self.num_turns, time=True, with_progress=5)\n",
    "        self.line.scattering.disable()\n",
    "        print(f\"Done sweeping RF in {self.line.time_last_track:.1f}s.\")\n",
    "\n",
    "        self.line.discard_tracker()\n",
    "        self.line.build_tracker()\n",
    "\n",
    "\n",
    "    @property\n",
    "    def aperture_losses(self):\n",
    "        loss_idxs, loss_counts = np.unique(self.part.at_element, return_counts=True)\n",
    "\n",
    "        aper_losses = {}\n",
    "        for idx, count in zip(loss_idxs, loss_counts):\n",
    "            aper_losses[self.line.element_names[idx]] = int(count)\n",
    "\n",
    "        json.dump(aper_losses, open(Path(self.savedir)/f'{self.result_name}_aper_losses.json', 'w'), indent=4)\n",
    "        return aper_losses\n",
    "    \n",
    "    @property\n",
    "    def plot_lossmap(self):\n",
    "        self.ThisLM = xc.LossMap(self.line, line_is_reversed=False, part=self.part, interpolation=False)\n",
    "        self.ThisLM.to_json(Path(self.dir)/f'LM_{self.result_name}.json')\n",
    "        self.ThisLM.plot(savefig=Path(self.savedir)/f'LM_{self.result_name}.pdf')\n",
    "    \n",
    "    @property\n",
    "    def intensity_loss(self):\n",
    "        fig, ax = plt.subplots(figsize=(12,6))\n",
    "        turns, counts = np.unique(self.part.at_turn, return_counts=True)\n",
    "        ax.plot(df_to_delta(self.sweep_per_turn*turns)*1e3, 1-np.cumsum(counts)/self.num_particles, marker='o', color='royalblue')\n",
    "        ax.grid()\n",
    "        ax.set_xlabel(r'$\\delta$ $[10^{-3}]$', fontsize=14)\n",
    "        ax.set_ylabel('Normalised lost intensity', fontsize=14)\n",
    "        ax.tick_params(axis='both', which='major', labelsize=12)\n",
    "        fig.tight_layout()\n",
    "        fig.savefig(Path(self.savedir)/f'IntensityLoss_{self.result_name}.pdf', dpi=300)\n",
    "        plt.show()\n",
    "        return turns, counts\n",
    "    \n",
    "\n",
    "    def plot_loss_histogram(self, title=\"Losses per Element\", top_n=None):\n",
    "        # Optionally limit to top N elements by count\n",
    "        aper_losses = self.aperture_losses\n",
    "        items = sorted(aper_losses.items(), key=lambda x: x[1], reverse=True)\n",
    "        if top_n is not None:\n",
    "            items = items[:top_n]\n",
    "\n",
    "        elements, counts = zip(*items)\n",
    "\n",
    "        fig, ax = plt.subplots(figsize=(10, 5))\n",
    "        ax.bar(range(len(elements)), counts, color=\"steelblue\")\n",
    "        ax.set_xticks(range(len(elements)))\n",
    "        ax.set_xticklabels(elements, rotation=90)\n",
    "        ax.set_xlabel(\"Element name\")\n",
    "        ax.set_ylabel(\"Number of losses\")\n",
    "        ax.set_title(title)\n",
    "        fig.tight_layout()\n",
    "\n",
    "        return fig, ax"
   ]
  },
  {
   "cell_type": "code",
   "execution_count": 95,
   "id": "749903a1",
   "metadata": {},
   "outputs": [],
   "source": [
    "dir = Path('/Users/lisepauwels/sps_simulations/Prototyping/20251008/results/')"
   ]
  },
  {
   "cell_type": "code",
   "execution_count": 181,
   "id": "4322debf",
   "metadata": {},
   "outputs": [
    {
     "data": {
      "application/vnd.jupyter.widget-view+json": {
       "model_id": "9eda33a0c4c64de798d0933ce1102c5e",
       "version_major": 2,
       "version_minor": 0
      },
      "text/plain": [
       "Loading line from dict:   0%|          | 0/36381 [00:00<?, ?it/s]"
      ]
     },
     "metadata": {},
     "output_type": "display_data"
    },
    {
     "name": "stdout",
     "output_type": "stream",
     "text": [
      "Done loading line from dict.           \n"
     ]
    }
   ],
   "source": [
    "line = xt.Line.from_json('../../injection_lines/sps_with_aperture_inj_q20_beam_sagitta4.json')\n",
    "tt = line.get_table()\n",
    "tw = line.twiss()"
   ]
  },
  {
   "cell_type": "code",
   "execution_count": 182,
   "id": "6db26fc7",
   "metadata": {},
   "outputs": [],
   "source": [
    "remove_offmom_bpms_apers(line, exn=3.5e-6, nrj=21, pmass=0.938, bucket_height=3e-3, n_buckets=2)"
   ]
  },
  {
   "cell_type": "code",
   "execution_count": 183,
   "id": "e8225c90",
   "metadata": {},
   "outputs": [],
   "source": [
    "context = xo.ContextCpu()\n",
    "line.vars['qph_setvalue'] = 0.5\n",
    "line.vars['qpv_setvalue'] = 0.5\n",
    "line.vars['qh_setvalue'] = line.vars['qx0']._value + 0.05\n",
    "line.vars['qv_setvalue'] = line.vars['qy0']._value + 0.05\n",
    "\n",
    "cavity_elements, cavity_names = line.get_elements_of_type(xt.Cavity)\n",
    "\n",
    "for name in cavity_names:\n",
    "    line[name].frequency = 200e6\n",
    "    line[name].lag = 180\n",
    "line['acl.31735'].voltage = 0 #setting 800 cav to 0V\n",
    "line['actcse.31632'].voltage = 3.0e6"
   ]
  },
  {
   "cell_type": "code",
   "execution_count": 184,
   "id": "5a93d92d",
   "metadata": {},
   "outputs": [],
   "source": [
    "num_particles  = 100\n",
    "plane = 'DPneg'\n",
    "sweep = 6000\n",
    "sweep = -abs(sweep) if plane == 'DPpos' else abs(sweep)\n",
    "num_turns = 6000"
   ]
  },
  {
   "cell_type": "code",
   "execution_count": null,
   "id": "a6693f31",
   "metadata": {},
   "outputs": [],
   "source": [
    "line['vcak.52501.a_aper'].shift_x -= 1e-3\n",
    "line['vcak.22501.a_aper'].shift_x -= 1e-3\n",
    "sim_name = 'case3'\n",
    "line['vcak.52501.b_aper'].shift_x -= 1e-3\n",
    "line['vcak.12501.a_aper'].shift_x -= 1e-3\n",
    "\n",
    "sim_name = 'case4'\n",
    "line['vtto.52505.a_aper'].shift_x -= 1e-3\n",
    "\n",
    "sim_name = 'case5'\n",
    "line['lsd.52505.a_aper'].shift_x -= 1e-3"
   ]
  },
  {
   "cell_type": "code",
   "execution_count": 186,
   "id": "19f565a4",
   "metadata": {},
   "outputs": [
    {
     "name": "stdout",
     "output_type": "stream",
     "text": [
      "*** Maximum RMS bunch length 0.23610110400434298m.\n",
      "... distance to target bunch length: -2.2226e-01\n",
      "... distance to target bunch length: 5.5784e-03\n",
      "... distance to target bunch length: 5.2361e-03\n",
      "... distance to target bunch length: -6.3267e-03\n",
      "... distance to target bunch length: 1.9948e-03\n",
      "... distance to target bunch length: -3.8258e-04\n",
      "... distance to target bunch length: 5.3833e-05\n",
      "... distance to target bunch length: 1.2594e-06\n",
      "... distance to target bunch length: -1.0995e-10\n",
      "... distance to target bunch length: 1.2805e-07\n",
      "--> Bunch length: 0.22399999989004865\n",
      "--> Emittance: 0.2809114751255591\n",
      "Compiling ContextCpu kernels...\n"
     ]
    },
    {
     "name": "stderr",
     "output_type": "stream",
     "text": [
      "ld: warning: duplicate -rpath '/Users/lisepauwels/miniforge3/envs/xcoll/lib' ignored\n",
      "ld: warning: duplicate -rpath '/Users/lisepauwels/miniforge3/envs/xcoll/lib' ignored\n"
     ]
    },
    {
     "name": "stdout",
     "output_type": "stream",
     "text": [
      "Done compiling ContextCpu kernels.\n"
     ]
    },
    {
     "data": {
      "application/vnd.jupyter.widget-view+json": {
       "model_id": "6ca3b89ea8004f319550638bf959db9e",
       "version_major": 2,
       "version_minor": 0
      },
      "text/plain": [
       "Slicing line:   0%|          | 0/32246 [00:00<?, ?it/s]"
      ]
     },
     "metadata": {},
     "output_type": "display_data"
    },
    {
     "name": "stdout",
     "output_type": "stream",
     "text": [
      "Compiling ContextCpu kernels...\n"
     ]
    },
    {
     "name": "stderr",
     "output_type": "stream",
     "text": [
      "ld: warning: duplicate -rpath '/Users/lisepauwels/miniforge3/envs/xcoll/lib' ignored\n",
      "ld: warning: duplicate -rpath '/Users/lisepauwels/miniforge3/envs/xcoll/lib' ignored\n"
     ]
    },
    {
     "name": "stdout",
     "output_type": "stream",
     "text": [
      "Done compiling ContextCpu kernels.\n",
      "Enabled time-dependent variables in the line.\n",
      "The current frequency is 200000001.0Hz, adding 1.0Hz per turn.\n",
      "This sweep will move the center of the bucket with Δδ = -2.812e-06 per turn.\n",
      "The bucket height is 0.002994, so this implies the sweep will shift one bucket every 2130.0 turns.\n",
      "No xcoll elements found in line.\n"
     ]
    },
    {
     "data": {
      "application/vnd.jupyter.widget-view+json": {
       "model_id": "974ad88dbc674af38b639a3a7b5067b3",
       "version_major": 2,
       "version_minor": 0
      },
      "text/plain": [
       "Tracking:   0%|          | 0/6000 [00:00<?, ?it/s]"
      ]
     },
     "metadata": {},
     "output_type": "display_data"
    },
    {
     "name": "stdout",
     "output_type": "stream",
     "text": [
      "No xcoll elements found in line.\n",
      "Done sweeping RF in 81.1s.\n",
      "Compiling ContextCpu kernels...\n"
     ]
    },
    {
     "name": "stderr",
     "output_type": "stream",
     "text": [
      "ld: warning: duplicate -rpath '/Users/lisepauwels/miniforge3/envs/xcoll/lib' ignored\n",
      "ld: warning: duplicate -rpath '/Users/lisepauwels/miniforge3/envs/xcoll/lib' ignored\n"
     ]
    },
    {
     "name": "stdout",
     "output_type": "stream",
     "text": [
      "Done compiling ContextCpu kernels.\n"
     ]
    }
   ],
   "source": [
    "SL = SweepLosses(line, sweep=sweep, plane=plane, num_turns=num_turns, num_particles=num_particles, nemitt_x=2e-6, nemitt_y=2e-6, result_name=sim_name, dir=dir, gaussian=True)"
   ]
  },
  {
   "cell_type": "code",
   "execution_count": 187,
   "id": "43127bf1",
   "metadata": {},
   "outputs": [
    {
     "data": {
      "image/png": "[encoded data removed]",
      "text/plain": [
       "<Figure size 1200x600 with 1 Axes>"
      ]
     },
     "metadata": {},
     "output_type": "display_data"
    }
   ],
   "source": [
    "SL.intensity_loss"
   ]
  },
  {
   "cell_type": "code",
   "execution_count": 188,
   "id": "62115b39",
   "metadata": {},
   "outputs": [
    {
     "data": {
      "text/plain": [
       "{'vcak.22501.b_aper': 21,\n",
       " 'vcak.32501.a_aper': 19,\n",
       " 'vcak.42501.a_aper': 9,\n",
       " 'vcak.52501.a_aper': 4,\n",
       " 'lsd.52505.a_aper': 42,\n",
       " 'vcak.62501.a_aper': 5}"
      ]
     },
     "execution_count": 188,
     "metadata": {},
     "output_type": "execute_result"
    }
   ],
   "source": [
    "SL.aperture_losses"
   ]
  },
  {
   "cell_type": "code",
   "execution_count": null,
   "id": "ce88c407",
   "metadata": {},
   "outputs": [],
   "source": []
  }
 ],
 "metadata": {
  "kernelspec": {
   "display_name": "xcoll",
   "language": "python",
   "name": "python3"
  },
  "language_info": {
   "codemirror_mode": {
    "name": "ipython",
    "version": 3
   },
   "file_extension": ".py",
   "mimetype": "text/x-python",
   "name": "python",
   "nbconvert_exporter": "python",
   "pygments_lexer": "ipython3",
   "version": "3.13.3"
  }
 },
 "nbformat": 4,
 "nbformat_minor": 5
}
