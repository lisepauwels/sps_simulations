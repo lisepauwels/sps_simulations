{
 "cells": [
  {
   "cell_type": "code",
   "execution_count": 1,
   "id": "582ce98c",
   "metadata": {},
   "outputs": [],
   "source": [
    "import numpy as np\n",
    "import matplotlib.pyplot as plt\n",
    "import xtrack as xt\n",
    "import xpart as xp\n",
    "import xcoll as xc\n",
    "import xobjects as xo"
   ]
  },
  {
   "cell_type": "code",
   "execution_count": 2,
   "id": "a56607f8",
   "metadata": {},
   "outputs": [],
   "source": [
    "def install_tidp(line, block_mvt=29e-3):\n",
    "    tidp_ap_tot = 147e-3\n",
    "    line.discard_tracker()\n",
    "    tidp = xc.EverestCollimator(length=4.3, material=xc.materials.Carbon, jaw_L= tidp_ap_tot/2 + block_mvt, jaw_R = -tidp_ap_tot/2 + block_mvt)\n",
    "    line.collimators.install(names=['tidp.11434'], elements=[tidp])\n",
    "    return tidp"
   ]
  },
  {
   "cell_type": "code",
   "execution_count": 13,
   "id": "d10ce7f4",
   "metadata": {},
   "outputs": [
    {
     "data": {
      "application/vnd.jupyter.widget-view+json": {
       "model_id": "c73770acc42a4d6abed162bd4fc284b0",
       "version_major": 2,
       "version_minor": 0
      },
      "text/plain": [
       "Loading line from dict:   0%|          | 0/36404 [00:00<?, ?it/s]"
      ]
     },
     "metadata": {},
     "output_type": "display_data"
    },
    {
     "name": "stdout",
     "output_type": "stream",
     "text": [
      "Done loading line from dict.           \n"
     ]
    }
   ],
   "source": [
    "context = xo.ContextCpu()\n",
    "line = xt.Line.from_json('../../injection_lines/sps_with_aperture_inj_q20_beam_sagitta5.json')\n",
    "\n",
    "line.vars['qph_setvalue'] = 0.5\n",
    "line.vars['qpv_setvalue'] = 0.5\n",
    "line.vars['qh_setvalue'] = line.vars['qx0']._value + 0.05\n",
    "line.vars['qv_setvalue'] = line.vars['qy0']._value + 0.05\n",
    "\n",
    "\n",
    "cavity_elements, cavity_names = line.get_elements_of_type(xt.Cavity)\n",
    "\n",
    "for name in cavity_names:\n",
    "    line[name].frequency = 200e6\n",
    "    line[name].lag = 180\n",
    "line['acl.31735'].voltage = 0 #setting 800 cav to 0V\n",
    "line['actcse.31632'].voltage = 3.0e6\n",
    "\n",
    "tt = line.get_table()\n",
    "tw = line.twiss()"
   ]
  },
  {
   "cell_type": "code",
   "execution_count": 14,
   "id": "54cd8604",
   "metadata": {},
   "outputs": [],
   "source": [
    "# context = xo.ContextCpu()\n",
    "\n",
    "aperture_mvt = 0\n",
    "i = 100\n",
    "num_particles  = 1000\n",
    "plane = 'DPneg'\n",
    "sweep = 6000\n",
    "sweep = -abs(sweep) if plane == 'DPpos' else abs(sweep)\n",
    "num_turns = 6000"
   ]
  },
  {
   "cell_type": "code",
   "execution_count": 15,
   "id": "2243843e",
   "metadata": {},
   "outputs": [],
   "source": [
    "# Changing apertures of loss locations\n",
    "line['bpcn.12508.a_aper'].shift_x = aperture_mvt\n",
    "line['bpcn.12508.b_aper'].shift_x = aperture_mvt\n",
    "\n",
    "\n",
    "line['bpcn.61108.a_aper'].shift_x = aperture_mvt\n",
    "line['bpcn.61108.b_aper'].shift_x = aperture_mvt"
   ]
  },
  {
   "cell_type": "code",
   "execution_count": null,
   "id": "6c3e5c0e",
   "metadata": {},
   "outputs": [
    {
     "data": {
      "application/vnd.jupyter.widget-view+json": {
       "model_id": "ca5e0e46d2e34bf3bda4f8b0fb6fdf60",
       "version_major": 2,
       "version_minor": 0
      },
      "text/plain": [
       "Slicing line:   0%|          | 0/33012 [00:00<?, ?it/s]"
      ]
     },
     "metadata": {},
     "output_type": "display_data"
    }
   ],
   "source": [
    "tidp = install_tidp(line)\n",
    "tw = line.twiss()\n",
    "# part = xp.generate_matched_gaussian_bunch(nemitt_x=2e-6,\n",
    "#                                           nemitt_y=2e-6,\n",
    "#                                           sigma_z=0.224, num_particles=num_particles, line=line)\n",
    "\n",
    "#Particles\n",
    "x_spacing = np.linspace(-0.025, 0.025, int(np.sqrt(num_particles)))\n",
    "y_spacing = np.linspace(-0.025, 0.025, int(np.sqrt(num_particles)))\n",
    "\n",
    "X, Y = np.meshgrid(x_spacing, y_spacing, indexing='xy')\n",
    "x_norm = X.ravel()\n",
    "y_norm = Y.ravel()\n",
    "\n",
    "px_norm = np.zeros_like(x_norm)\n",
    "py_norm = np.zeros_like(x_norm)\n",
    "zeta = np.ones_like(x_norm)*tw.particle_on_co.zeta\n",
    "delta = np.ones_like(x_norm)*tw.particle_on_co.delta\n",
    "\n",
    "part = line.build_particles(x_norm=x_norm, px_norm=px_norm, y_norm=y_norm, py_norm=py_norm, nemitt_x=3.5e-6, nemitt_y=3.5e-6, zeta=zeta, delta=delta, at_element=i*100)"
   ]
  },
  {
   "cell_type": "code",
   "execution_count": 17,
   "id": "9baf936e",
   "metadata": {},
   "outputs": [
    {
     "name": "stdout",
     "output_type": "stream",
     "text": [
      "The current frequency is 200000000.0Hz, adding 1.0Hz per turn until 200006000.0 (for 6000 turns).\n",
      "This sweep will move the center of the bucket with Δδ = -0.016896947679657257 (-2.81975385240468 buckets).\n",
      "Compiling ContextCpu kernels...\n"
     ]
    },
    {
     "name": "stderr",
     "output_type": "stream",
     "text": [
      "ld: warning: duplicate -rpath '/Users/lisepauwels/miniforge3/envs/xcoll/lib' ignored\n",
      "ld: warning: duplicate -rpath '/Users/lisepauwels/miniforge3/envs/xcoll/lib' ignored\n"
     ]
    },
    {
     "name": "stdout",
     "output_type": "stream",
     "text": [
      "Done compiling ContextCpu kernels.\n"
     ]
    },
    {
     "data": {
      "application/vnd.jupyter.widget-view+json": {
       "model_id": "f448772512bd4a6391130614607defbd",
       "version_major": 2,
       "version_minor": 0
      },
      "text/plain": [
       "Tracking:   0%|          | 0/6000 [00:00<?, ?it/s]"
      ]
     },
     "metadata": {},
     "output_type": "display_data"
    },
    {
     "name": "stdout",
     "output_type": "stream",
     "text": [
      "All particles lost at turn 2404, stopped sweep at 2380.0Hz.\n"
     ]
    }
   ],
   "source": [
    "rf_sweep = xc.RFSweep(line)\n",
    "rf_sweep.info(sweep=sweep, num_turns=num_turns)\n",
    "\n",
    "line.discard_tracker()\n",
    "line.build_tracker(_context=xo.ContextCpu(omp_num_threads='auto'))\n",
    "line.scattering.enable()\n",
    "rf_sweep.track(sweep=sweep, particles=part, num_turns=num_turns, time=True, with_progress=True, ele_start = i*100)\n",
    "line.scattering.disable()"
   ]
  },
  {
   "cell_type": "code",
   "execution_count": 31,
   "id": "a3718d81",
   "metadata": {},
   "outputs": [],
   "source": [
    "tt = line.get_table()"
   ]
  },
  {
   "cell_type": "code",
   "execution_count": 33,
   "id": "5a1996ee",
   "metadata": {},
   "outputs": [
    {
     "data": {
      "text/plain": [
       "Table: 0 rows, 11 cols"
      ]
     },
     "execution_count": 33,
     "metadata": {},
     "output_type": "execute_result"
    }
   ],
   "source": [
    "tt.rows[tt.s==799.5901999999776]"
   ]
  },
  {
   "cell_type": "code",
   "execution_count": 46,
   "id": "3c4b9811",
   "metadata": {},
   "outputs": [
    {
     "data": {
      "text/plain": [
       "(array([3772]), array([961]))"
      ]
     },
     "execution_count": 46,
     "metadata": {},
     "output_type": "execute_result"
    }
   ],
   "source": [
    "np.unique(part.at_element, return_counts=True)"
   ]
  },
  {
   "cell_type": "code",
   "execution_count": 49,
   "id": "99a8718a",
   "metadata": {},
   "outputs": [
    {
     "data": {
      "text/plain": [
       "np.int64(960)"
      ]
     },
     "execution_count": 49,
     "metadata": {},
     "output_type": "execute_result"
    }
   ],
   "source": [
    "np.max(part.particle_id)"
   ]
  },
  {
   "cell_type": "code",
   "execution_count": 50,
   "id": "f543143f",
   "metadata": {},
   "outputs": [],
   "source": [
    "import json\n",
    "# Get counts\n",
    "elems, elem_counts = np.unique(part.at_element, return_counts=True)\n",
    "turns, turn_counts = np.unique(part.at_turn, return_counts=True)\n",
    "\n",
    "# Convert to JSON-serializable dict\n",
    "data = {\n",
    "    \"at_element\": {\n",
    "        \"values\": elems.tolist(),\n",
    "        \"counts\": elem_counts.tolist()\n",
    "    },\n",
    "    \"at_turn\": {\n",
    "        \"values\": turns.tolist(),\n",
    "        \"counts\": turn_counts.tolist()\n",
    "    }\n",
    "}\n",
    "\n",
    "# Save to file\n",
    "with open(f\"counts_start_{0}.json\", \"w\") as f:\n",
    "    json.dump(data, f, indent=2)"
   ]
  },
  {
   "cell_type": "code",
   "execution_count": null,
   "id": "255f414a",
   "metadata": {},
   "outputs": [],
   "source": []
  }
 ],
 "metadata": {
  "kernelspec": {
   "display_name": "xcoll",
   "language": "python",
   "name": "python3"
  },
  "language_info": {
   "codemirror_mode": {
    "name": "ipython",
    "version": 3
   },
   "file_extension": ".py",
   "mimetype": "text/x-python",
   "name": "python",
   "nbconvert_exporter": "python",
   "pygments_lexer": "ipython3",
   "version": "3.13.3"
  }
 },
 "nbformat": 4,
 "nbformat_minor": 5
}
