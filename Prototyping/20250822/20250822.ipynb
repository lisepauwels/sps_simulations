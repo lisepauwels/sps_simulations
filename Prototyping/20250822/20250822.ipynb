{
 "cells": [
  {
   "cell_type": "code",
   "execution_count": 77,
   "id": "582ce98c",
   "metadata": {},
   "outputs": [],
   "source": [
    "import numpy as np\n",
    "import matplotlib.pyplot as plt\n",
    "import xtrack as xt\n",
    "import xpart as xp\n",
    "import xcoll as xc\n",
    "import xobjects as xo"
   ]
  },
  {
   "cell_type": "code",
   "execution_count": 78,
   "id": "a56607f8",
   "metadata": {},
   "outputs": [],
   "source": [
    "def install_tidp(line, block_mvt=29e-3):\n",
    "    tidp_ap_tot = 147e-3\n",
    "    line.discard_tracker()\n",
    "    tidp = xc.EverestCollimator(length=4.3, material=xc.materials.Carbon, jaw_L= tidp_ap_tot/2 + block_mvt, jaw_R = -tidp_ap_tot/2 + block_mvt)\n",
    "    line.collimators.install(names=['tidp.11434'], elements=[tidp])\n",
    "    return tidp"
   ]
  },
  {
   "cell_type": "code",
   "execution_count": 84,
   "id": "d10ce7f4",
   "metadata": {},
   "outputs": [
    {
     "data": {
      "application/vnd.jupyter.widget-view+json": {
       "model_id": "ffa30b7862824033aa77d37d2207a2bf",
       "version_major": 2,
       "version_minor": 0
      },
      "text/plain": [
       "Loading line from dict:   0%|          | 0/36404 [00:00<?, ?it/s]"
      ]
     },
     "metadata": {},
     "output_type": "display_data"
    },
    {
     "name": "stdout",
     "output_type": "stream",
     "text": [
      "Done loading line from dict.           \n"
     ]
    }
   ],
   "source": [
    "context = xo.ContextCpu()\n",
    "line = xt.Line.from_json('../../injection_lines/sps_with_aperture_inj_q20_beam_sagitta5.json')\n",
    "\n",
    "line.vars['qph_setvalue'] = 0.5\n",
    "line.vars['qpv_setvalue'] = 0.5\n",
    "line.vars['qh_setvalue'] = line.vars['qx0']._value + 0.05\n",
    "line.vars['qv_setvalue'] = line.vars['qy0']._value + 0.05\n",
    "\n",
    "\n",
    "cavity_elements, cavity_names = line.get_elements_of_type(xt.Cavity)\n",
    "\n",
    "for name in cavity_names:\n",
    "    line[name].frequency = 200e6\n",
    "    line[name].lag = 180\n",
    "line['acl.31735'].voltage = 0 #setting 800 cav to 0V\n",
    "line['actcse.31632'].voltage = 3.0e6\n",
    "\n",
    "tt = line.get_table()\n",
    "tw = line.twiss()"
   ]
  },
  {
   "cell_type": "code",
   "execution_count": 85,
   "id": "54cd8604",
   "metadata": {},
   "outputs": [],
   "source": [
    "context = xo.ContextCpu()\n",
    "\n",
    "aperture_mvt = 0\n",
    "i = 329\n",
    "num_particles  = 1000\n",
    "plane = 'DPneg'\n",
    "sweep = 6000\n",
    "sweep = -abs(sweep) if plane == 'DPpos' else abs(sweep)\n",
    "num_turns = 6000"
   ]
  },
  {
   "cell_type": "code",
   "execution_count": 86,
   "id": "2243843e",
   "metadata": {},
   "outputs": [],
   "source": [
    "# Changing apertures of loss locations\n",
    "line['bpcn.12508.a_aper'].shift_x = aperture_mvt\n",
    "line['bpcn.12508.b_aper'].shift_x = aperture_mvt\n",
    "\n",
    "\n",
    "line['bpcn.61108.a_aper'].shift_x = aperture_mvt\n",
    "line['bpcn.61108.b_aper'].shift_x = aperture_mvt"
   ]
  },
  {
   "cell_type": "code",
   "execution_count": 87,
   "id": "6c3e5c0e",
   "metadata": {},
   "outputs": [
    {
     "data": {
      "application/vnd.jupyter.widget-view+json": {
       "model_id": "4da330d5739247f3adf8f18d494b74d2",
       "version_major": 2,
       "version_minor": 0
      },
      "text/plain": [
       "Slicing line:   0%|          | 0/33012 [00:00<?, ?it/s]"
      ]
     },
     "metadata": {},
     "output_type": "display_data"
    },
    {
     "name": "stdout",
     "output_type": "stream",
     "text": [
      "*** Maximum RMS bunch length 0.23610110213554214m.\n",
      "... distance to target bunch length: -2.2226e-01\n",
      "... distance to target bunch length: 5.5784e-03\n",
      "... distance to target bunch length: 5.2361e-03\n",
      "... distance to target bunch length: -6.3267e-03\n",
      "... distance to target bunch length: 1.9948e-03\n",
      "... distance to target bunch length: -3.8258e-04\n",
      "... distance to target bunch length: 5.3833e-05\n",
      "... distance to target bunch length: 1.2594e-06\n",
      "... distance to target bunch length: -1.0995e-10\n",
      "... distance to target bunch length: 1.2805e-07\n",
      "--> Bunch length: 0.22399999989004873\n",
      "--> Emittance: 0.28106907515669655\n"
     ]
    }
   ],
   "source": [
    "tidp = install_tidp(line)\n",
    "tw = line.twiss()\n",
    "part = xp.generate_matched_gaussian_bunch(nemitt_x=2e-6,\n",
    "                                          nemitt_y=2e-6,\n",
    "                                          sigma_z=0.224, num_particles=num_particles, line=line)"
   ]
  },
  {
   "cell_type": "code",
   "execution_count": 88,
   "id": "9baf936e",
   "metadata": {},
   "outputs": [
    {
     "name": "stdout",
     "output_type": "stream",
     "text": [
      "The current frequency is 200000000.0Hz, adding 1.0Hz per turn until 200006000.0 (for 6000 turns).\n",
      "This sweep will move the center of the bucket with Δδ = -0.016896947679657257 (-2.81975385240468 buckets).\n",
      "Compiling ContextCpu kernels...\n"
     ]
    },
    {
     "name": "stderr",
     "output_type": "stream",
     "text": [
      "ld: warning: duplicate -rpath '/Users/lisepauwels/miniforge3/envs/xcoll/lib' ignored\n",
      "ld: warning: duplicate -rpath '/Users/lisepauwels/miniforge3/envs/xcoll/lib' ignored\n"
     ]
    },
    {
     "name": "stdout",
     "output_type": "stream",
     "text": [
      "Done compiling ContextCpu kernels.\n"
     ]
    },
    {
     "data": {
      "application/vnd.jupyter.widget-view+json": {
       "model_id": "c03232e2de67494895697105f06928f9",
       "version_major": 2,
       "version_minor": 0
      },
      "text/plain": [
       "Tracking:   0%|          | 0/6000 [00:00<?, ?it/s]"
      ]
     },
     "metadata": {},
     "output_type": "display_data"
    },
    {
     "ename": "KeyboardInterrupt",
     "evalue": "",
     "output_type": "error",
     "traceback": [
      "\u001b[31m---------------------------------------------------------------------------\u001b[39m",
      "\u001b[31mKeyboardInterrupt\u001b[39m                         Traceback (most recent call last)",
      "\u001b[36mCell\u001b[39m\u001b[36m \u001b[39m\u001b[32mIn[88]\u001b[39m\u001b[32m, line 7\u001b[39m\n\u001b[32m      5\u001b[39m line.build_tracker(_context=xo.ContextCpu(omp_num_threads=\u001b[33m'\u001b[39m\u001b[33mauto\u001b[39m\u001b[33m'\u001b[39m))\n\u001b[32m      6\u001b[39m line.scattering.enable()\n\u001b[32m----> \u001b[39m\u001b[32m7\u001b[39m \u001b[43mrf_sweep\u001b[49m\u001b[43m.\u001b[49m\u001b[43mtrack\u001b[49m\u001b[43m(\u001b[49m\u001b[43msweep\u001b[49m\u001b[43m=\u001b[49m\u001b[43msweep\u001b[49m\u001b[43m,\u001b[49m\u001b[43m \u001b[49m\u001b[43mparticles\u001b[49m\u001b[43m=\u001b[49m\u001b[43mpart\u001b[49m\u001b[43m,\u001b[49m\u001b[43m \u001b[49m\u001b[43mnum_turns\u001b[49m\u001b[43m=\u001b[49m\u001b[43mnum_turns\u001b[49m\u001b[43m,\u001b[49m\u001b[43m \u001b[49m\u001b[43mtime\u001b[49m\u001b[43m=\u001b[49m\u001b[38;5;28;43;01mTrue\u001b[39;49;00m\u001b[43m,\u001b[49m\u001b[43m \u001b[49m\u001b[43mwith_progress\u001b[49m\u001b[43m=\u001b[49m\u001b[38;5;28;43;01mTrue\u001b[39;49;00m\u001b[43m,\u001b[49m\u001b[43m \u001b[49m\u001b[43mele_start\u001b[49m\u001b[43m \u001b[49m\u001b[43m=\u001b[49m\u001b[43m \u001b[49m\u001b[32;43m0\u001b[39;49m\u001b[43m)\u001b[49m\n\u001b[32m      8\u001b[39m line.scattering.disable()\n",
      "\u001b[36mFile \u001b[39m\u001b[32m~/Xsuite/xcoll/xcoll/rf_sweep.py:165\u001b[39m, in \u001b[36mRFSweep.track\u001b[39m\u001b[34m(self, sweep, particles, num_turns, verbose, *args, **kwargs)\u001b[39m\n\u001b[32m    163\u001b[39m     one_turn_kwargs[\u001b[33m'\u001b[39m\u001b[33mele_stop\u001b[39m\u001b[33m'\u001b[39m] = \u001b[38;5;28;01mNone\u001b[39;00m\n\u001b[32m    164\u001b[39m     one_turn_kwargs[\u001b[33m'\u001b[39m\u001b[33m_reset_log\u001b[39m\u001b[33m'\u001b[39m] = \u001b[38;5;28;01mFalse\u001b[39;00m\n\u001b[32m--> \u001b[39m\u001b[32m165\u001b[39m \u001b[38;5;28;43mself\u001b[39;49m\u001b[43m.\u001b[49m\u001b[43m_tracking_func\u001b[49m\u001b[43m(\u001b[49m\u001b[43mparticles\u001b[49m\u001b[43m,\u001b[49m\u001b[43m \u001b[49m\u001b[43mrf_shift_per_turn\u001b[49m\u001b[43m,\u001b[49m\u001b[43m \u001b[49m\u001b[43m*\u001b[49m\u001b[43m*\u001b[49m\u001b[43mone_turn_kwargs\u001b[49m\u001b[43m)\u001b[49m\n\u001b[32m    166\u001b[39m \u001b[38;5;28;01mif\u001b[39;00m \u001b[38;5;129;01mnot\u001b[39;00m np.any(particles.state == \u001b[32m1\u001b[39m):\n\u001b[32m    167\u001b[39m     \u001b[38;5;28;01mbreak\u001b[39;00m\n",
      "\u001b[36mFile \u001b[39m\u001b[32m~/Xsuite/xcoll/xcoll/rf_sweep.py:195\u001b[39m, in \u001b[36mRFSweep._tracking_func\u001b[39m\u001b[34m(self, particles, rf_shift_per_turn, num_turns, *args, **kwargs)\u001b[39m\n\u001b[32m    192\u001b[39m             \u001b[38;5;28mself\u001b[39m.line[\u001b[33m'\u001b[39m\u001b[33mrf_sweep\u001b[39m\u001b[33m'\u001b[39m].dzeta = \u001b[38;5;28mself\u001b[39m.L * sweep / (\u001b[38;5;28mself\u001b[39m.f_RF + sweep)\n\u001b[32m    193\u001b[39m \u001b[38;5;66;03m#             for cav in cavities:\u001b[39;00m\n\u001b[32m    194\u001b[39m \u001b[38;5;66;03m#                 self.line[cav].frequency = freq + sweep\u001b[39;00m\n\u001b[32m--> \u001b[39m\u001b[32m195\u001b[39m             \u001b[38;5;28;43mself\u001b[39;49m\u001b[43m.\u001b[49m\u001b[43mline\u001b[49m\u001b[43m.\u001b[49m\u001b[43mtrack\u001b[49m\u001b[43m(\u001b[49m\u001b[43mparticles\u001b[49m\u001b[43m,\u001b[49m\u001b[43m \u001b[49m\u001b[43mnum_turns\u001b[49m\u001b[43m=\u001b[49m\u001b[32;43m1\u001b[39;49m\u001b[43m,\u001b[49m\u001b[43m \u001b[49m\u001b[43m*\u001b[49m\u001b[43margs\u001b[49m\u001b[43m,\u001b[49m\u001b[43m \u001b[49m\u001b[43m*\u001b[49m\u001b[43m*\u001b[49m\u001b[43mkwargs\u001b[49m\u001b[43m)\u001b[49m\n\u001b[32m    196\u001b[39m             \u001b[38;5;28;01mif\u001b[39;00m \u001b[38;5;129;01mnot\u001b[39;00m np.any(particles.state == \u001b[32m1\u001b[39m):\n\u001b[32m    197\u001b[39m                 \u001b[38;5;28;01mbreak\u001b[39;00m\n",
      "\u001b[36mFile \u001b[39m\u001b[32m~/miniforge3/envs/xcoll/lib/python3.13/site-packages/xtrack/line.py:1111\u001b[39m, in \u001b[36mLine.track\u001b[39m\u001b[34m(self, particles, ele_start, ele_stop, num_elements, num_turns, turn_by_turn_monitor, freeze_longitudinal, time, with_progress, **kwargs)\u001b[39m\n\u001b[32m   1108\u001b[39m \u001b[38;5;28;01mif\u001b[39;00m \u001b[38;5;129;01mnot\u001b[39;00m \u001b[38;5;28mself\u001b[39m._has_valid_tracker():\n\u001b[32m   1109\u001b[39m     \u001b[38;5;28mself\u001b[39m.build_tracker()\n\u001b[32m-> \u001b[39m\u001b[32m1111\u001b[39m \u001b[38;5;28;01mreturn\u001b[39;00m \u001b[38;5;28;43mself\u001b[39;49m\u001b[43m.\u001b[49m\u001b[43mtracker\u001b[49m\u001b[43m.\u001b[49m\u001b[43m_track\u001b[49m\u001b[43m(\u001b[49m\n\u001b[32m   1112\u001b[39m \u001b[43m    \u001b[49m\u001b[43mparticles\u001b[49m\u001b[43m,\u001b[49m\n\u001b[32m   1113\u001b[39m \u001b[43m    \u001b[49m\u001b[43mele_start\u001b[49m\u001b[43m=\u001b[49m\u001b[43mele_start\u001b[49m\u001b[43m,\u001b[49m\n\u001b[32m   1114\u001b[39m \u001b[43m    \u001b[49m\u001b[43mele_stop\u001b[49m\u001b[43m=\u001b[49m\u001b[43mele_stop\u001b[49m\u001b[43m,\u001b[49m\n\u001b[32m   1115\u001b[39m \u001b[43m    \u001b[49m\u001b[43mnum_elements\u001b[49m\u001b[43m=\u001b[49m\u001b[43mnum_elements\u001b[49m\u001b[43m,\u001b[49m\n\u001b[32m   1116\u001b[39m \u001b[43m    \u001b[49m\u001b[43mnum_turns\u001b[49m\u001b[43m=\u001b[49m\u001b[43mnum_turns\u001b[49m\u001b[43m,\u001b[49m\n\u001b[32m   1117\u001b[39m \u001b[43m    \u001b[49m\u001b[43mturn_by_turn_monitor\u001b[49m\u001b[43m=\u001b[49m\u001b[43mturn_by_turn_monitor\u001b[49m\u001b[43m,\u001b[49m\n\u001b[32m   1118\u001b[39m \u001b[43m    \u001b[49m\u001b[43mfreeze_longitudinal\u001b[49m\u001b[43m=\u001b[49m\u001b[43mfreeze_longitudinal\u001b[49m\u001b[43m,\u001b[49m\n\u001b[32m   1119\u001b[39m \u001b[43m    \u001b[49m\u001b[43mtime\u001b[49m\u001b[43m=\u001b[49m\u001b[43mtime\u001b[49m\u001b[43m,\u001b[49m\n\u001b[32m   1120\u001b[39m \u001b[43m    \u001b[49m\u001b[43mwith_progress\u001b[49m\u001b[43m=\u001b[49m\u001b[43mwith_progress\u001b[49m\u001b[43m,\u001b[49m\n\u001b[32m   1121\u001b[39m \u001b[43m    \u001b[49m\u001b[43m*\u001b[49m\u001b[43m*\u001b[49m\u001b[43mkwargs\u001b[49m\u001b[43m)\u001b[49m\n",
      "\u001b[36mFile \u001b[39m\u001b[32m~/miniforge3/envs/xcoll/lib/python3.13/site-packages/xtrack/tracker.py:373\u001b[39m, in \u001b[36mTracker._track\u001b[39m\u001b[34m(self, particles, with_progress, time, *args, **kwargs)\u001b[39m\n\u001b[32m    370\u001b[39m         tracking_func(particles, *args, **one_turn_kwargs)\n\u001b[32m    371\u001b[39m         \u001b[38;5;66;03m# particles.reorganize() # could be done in the future to optimize GPU usage\u001b[39;00m\n\u001b[32m    372\u001b[39m \u001b[38;5;28;01melse\u001b[39;00m:\n\u001b[32m--> \u001b[39m\u001b[32m373\u001b[39m     out = \u001b[43mtracking_func\u001b[49m\u001b[43m(\u001b[49m\u001b[43mparticles\u001b[49m\u001b[43m,\u001b[49m\u001b[43m \u001b[49m\u001b[43m*\u001b[49m\u001b[43margs\u001b[49m\u001b[43m,\u001b[49m\u001b[43m \u001b[49m\u001b[43m*\u001b[49m\u001b[43m*\u001b[49m\u001b[43mkwargs\u001b[49m\u001b[43m)\u001b[49m\n\u001b[32m    375\u001b[39m \u001b[38;5;28;01mif\u001b[39;00m time:\n\u001b[32m    376\u001b[39m     t1 = perf_counter()\n",
      "\u001b[36mFile \u001b[39m\u001b[32m~/miniforge3/envs/xcoll/lib/python3.13/site-packages/xtrack/tracker.py:1243\u001b[39m, in \u001b[36mTracker._track_no_collective\u001b[39m\u001b[34m(self, particles, ele_start, ele_stop, num_elements, num_turns, turn_by_turn_monitor, freeze_longitudinal, backtrack, log, _force_no_end_turn_actions, _reset_log)\u001b[39m\n\u001b[32m   1241\u001b[39m \u001b[38;5;66;03m# First turn\u001b[39;00m\n\u001b[32m   1242\u001b[39m \u001b[38;5;28;01massert\u001b[39;00m num_elements_first_turn >= \u001b[32m0\u001b[39m\n\u001b[32m-> \u001b[39m\u001b[32m1243\u001b[39m \u001b[43mtrack_kernel\u001b[49m\u001b[43m(\u001b[49m\n\u001b[32m   1244\u001b[39m \u001b[43m    \u001b[49m\u001b[43mbuffer\u001b[49m\u001b[43m=\u001b[49m\u001b[43mtracker_data\u001b[49m\u001b[43m.\u001b[49m\u001b[43m_buffer\u001b[49m\u001b[43m.\u001b[49m\u001b[43mbuffer\u001b[49m\u001b[43m,\u001b[49m\n\u001b[32m   1245\u001b[39m \u001b[43m    \u001b[49m\u001b[43mtracker_data\u001b[49m\u001b[43m=\u001b[49m\u001b[43mtracker_data\u001b[49m\u001b[43m.\u001b[49m\u001b[43m_element_ref_data\u001b[49m\u001b[43m,\u001b[49m\n\u001b[32m   1246\u001b[39m \u001b[43m    \u001b[49m\u001b[43mparticles\u001b[49m\u001b[43m=\u001b[49m\u001b[43mparticles\u001b[49m\u001b[43m.\u001b[49m\u001b[43m_xobject\u001b[49m\u001b[43m,\u001b[49m\n\u001b[32m   1247\u001b[39m \u001b[43m    \u001b[49m\u001b[43mnum_turns\u001b[49m\u001b[43m=\u001b[49m\u001b[32;43m1\u001b[39;49m\u001b[43m,\u001b[49m\n\u001b[32m   1248\u001b[39m \u001b[43m    \u001b[49m\u001b[43mele_start\u001b[49m\u001b[43m=\u001b[49m\u001b[43mele_start\u001b[49m\u001b[43m,\u001b[49m\n\u001b[32m   1249\u001b[39m \u001b[43m    \u001b[49m\u001b[43mnum_ele_track\u001b[49m\u001b[43m=\u001b[49m\u001b[43mnum_elements_first_turn\u001b[49m\u001b[43m,\u001b[49m\n\u001b[32m   1250\u001b[39m \u001b[43m    \u001b[49m\u001b[43mflag_end_turn_actions\u001b[49m\u001b[43m=\u001b[49m\u001b[43mflag_end_first_turn_actions\u001b[49m\u001b[43m,\u001b[49m\n\u001b[32m   1251\u001b[39m \u001b[43m    \u001b[49m\u001b[43mflag_reset_s_at_end_turn\u001b[49m\u001b[43m=\u001b[49m\u001b[38;5;28;43mself\u001b[39;49m\u001b[43m.\u001b[49m\u001b[43mreset_s_at_end_turn\u001b[49m\u001b[43m,\u001b[49m\n\u001b[32m   1252\u001b[39m \u001b[43m    \u001b[49m\u001b[43mflag_monitor\u001b[49m\u001b[43m=\u001b[49m\u001b[43mflag_monitor\u001b[49m\u001b[43m,\u001b[49m\n\u001b[32m   1253\u001b[39m \u001b[43m    \u001b[49m\u001b[43mnum_ele_line\u001b[49m\u001b[43m=\u001b[49m\u001b[38;5;28;43mlen\u001b[39;49m\u001b[43m(\u001b[49m\u001b[43mtracker_data\u001b[49m\u001b[43m.\u001b[49m\u001b[43melement_names\u001b[49m\u001b[43m)\u001b[49m\u001b[43m,\u001b[49m\n\u001b[32m   1254\u001b[39m \u001b[43m    \u001b[49m\u001b[43mline_length\u001b[49m\u001b[43m=\u001b[49m\u001b[43mtracker_data\u001b[49m\u001b[43m.\u001b[49m\u001b[43mline_length\u001b[49m\u001b[43m,\u001b[49m\n\u001b[32m   1255\u001b[39m \u001b[43m    \u001b[49m\u001b[43mbuffer_tbt_monitor\u001b[49m\u001b[43m=\u001b[49m\u001b[43mbuffer_monitor\u001b[49m\u001b[43m,\u001b[49m\n\u001b[32m   1256\u001b[39m \u001b[43m    \u001b[49m\u001b[43moffset_tbt_monitor\u001b[49m\u001b[43m=\u001b[49m\u001b[43moffset_monitor\u001b[49m\u001b[43m,\u001b[49m\n\u001b[32m   1257\u001b[39m \u001b[43m    \u001b[49m\u001b[43mio_buffer\u001b[49m\u001b[43m=\u001b[49m\u001b[38;5;28;43mself\u001b[39;49m\u001b[43m.\u001b[49m\u001b[43mio_buffer\u001b[49m\u001b[43m.\u001b[49m\u001b[43mbuffer\u001b[49m\u001b[43m,\u001b[49m\n\u001b[32m   1258\u001b[39m \u001b[43m\u001b[49m\u001b[43m)\u001b[49m\n\u001b[32m   1260\u001b[39m \u001b[38;5;66;03m# Middle turns\u001b[39;00m\n\u001b[32m   1261\u001b[39m \u001b[38;5;28;01mif\u001b[39;00m num_middle_turns > \u001b[32m0\u001b[39m:\n",
      "\u001b[36mFile \u001b[39m\u001b[32m~/Xsuite/xobjects/xobjects/context_cpu.py:852\u001b[39m, in \u001b[36mKernelCpu.__call__\u001b[39m\u001b[34m(self, **kwargs)\u001b[39m\n\u001b[32m    849\u001b[39m     \u001b[38;5;28;01mif\u001b[39;00m \u001b[38;5;28misinstance\u001b[39m(\u001b[38;5;28mself\u001b[39m.context.omp_num_threads, \u001b[38;5;28mint\u001b[39m):\n\u001b[32m    850\u001b[39m         \u001b[38;5;28mself\u001b[39m.context.omp_set_num_threads(\u001b[38;5;28mself\u001b[39m.context.omp_num_threads)\n\u001b[32m--> \u001b[39m\u001b[32m852\u001b[39m ret = \u001b[38;5;28;43mself\u001b[39;49m\u001b[43m.\u001b[49m\u001b[43mfunction\u001b[49m\u001b[43m(\u001b[49m\u001b[43m*\u001b[49m\u001b[43marg_list\u001b[49m\u001b[43m)\u001b[49m\n\u001b[32m    854\u001b[39m \u001b[38;5;28;01mif\u001b[39;00m \u001b[38;5;28mself\u001b[39m.description.ret \u001b[38;5;129;01mis\u001b[39;00m \u001b[38;5;129;01mnot\u001b[39;00m \u001b[38;5;28;01mNone\u001b[39;00m:\n\u001b[32m    855\u001b[39m     \u001b[38;5;28;01mreturn\u001b[39;00m \u001b[38;5;28mself\u001b[39m.from_function_arg(\u001b[38;5;28mself\u001b[39m.description.ret, ret)\n",
      "\u001b[31mKeyboardInterrupt\u001b[39m: "
     ]
    }
   ],
   "source": [
    "rf_sweep = xc.RFSweep(line)\n",
    "rf_sweep.info(sweep=sweep, num_turns=num_turns)\n",
    "\n",
    "line.discard_tracker()\n",
    "line.build_tracker(_context=xo.ContextCpu(omp_num_threads='auto'))\n",
    "line.scattering.enable()\n",
    "rf_sweep.track(sweep=sweep, particles=part, num_turns=num_turns, time=True, with_progress=True, ele_start = 0)\n",
    "line.scattering.disable()"
   ]
  },
  {
   "cell_type": "code",
   "execution_count": null,
   "id": "3a4719da",
   "metadata": {},
   "outputs": [
    {
     "data": {
      "text/plain": [
       "471.6"
      ]
     },
     "execution_count": 17,
     "metadata": {},
     "output_type": "execute_result"
    }
   ],
   "source": [
    "len(line.element_names)"
   ]
  },
  {
   "cell_type": "code",
   "execution_count": null,
   "id": "375b8dfe",
   "metadata": {},
   "outputs": [
    {
     "data": {
      "text/plain": [
       "np.float64(6911.50379999983)"
      ]
     },
     "execution_count": 15,
     "metadata": {},
     "output_type": "execute_result"
    }
   ],
   "source": [
    "line.get_length()/100"
   ]
  },
  {
   "cell_type": "code",
   "execution_count": 16,
   "id": "154f1225",
   "metadata": {},
   "outputs": [
    {
     "data": {
      "text/plain": [
       "69.0"
      ]
     },
     "execution_count": 16,
     "metadata": {},
     "output_type": "execute_result"
    }
   ],
   "source": [
    "6900/100"
   ]
  },
  {
   "cell_type": "code",
   "execution_count": 19,
   "id": "8d980991",
   "metadata": {},
   "outputs": [],
   "source": [
    "tt = line.get_table()"
   ]
  },
  {
   "cell_type": "code",
   "execution_count": 20,
   "id": "a198d8f5",
   "metadata": {},
   "outputs": [
    {
     "data": {
      "text/plain": [
       "array(['sps$start', 'begi.10010', 'qf.10010', ..., 'end.10010', 'sps$end',\n",
       "       '_end_point'], shape=(33013,), dtype=object)"
      ]
     },
     "execution_count": 20,
     "metadata": {},
     "output_type": "execute_result"
    }
   ],
   "source": [
    "tt.name"
   ]
  },
  {
   "cell_type": "code",
   "execution_count": 29,
   "id": "80a54734",
   "metadata": {},
   "outputs": [
    {
     "data": {
      "text/plain": [
       "33012"
      ]
     },
     "execution_count": 29,
     "metadata": {},
     "output_type": "execute_result"
    }
   ],
   "source": [
    "len(line.element_names)"
   ]
  },
  {
   "cell_type": "code",
   "execution_count": null,
   "id": "b7c003ee",
   "metadata": {},
   "outputs": [
    {
     "data": {
      "text/plain": [
       "330.12"
      ]
     },
     "execution_count": 31,
     "metadata": {},
     "output_type": "execute_result"
    }
   ],
   "source": [
    "for i in range(330):\n",
    "    if i == 329:"
   ]
  },
  {
   "cell_type": "code",
   "execution_count": 33,
   "id": "a20d6c04",
   "metadata": {},
   "outputs": [
    {
     "data": {
      "text/plain": [
       "32901"
      ]
     },
     "execution_count": 33,
     "metadata": {},
     "output_type": "execute_result"
    }
   ],
   "source": [
    "329*100 + 1"
   ]
  },
  {
   "cell_type": "code",
   "execution_count": 35,
   "id": "b9a8d8b1",
   "metadata": {},
   "outputs": [
    {
     "data": {
      "text/plain": [
       "330.12"
      ]
     },
     "execution_count": 35,
     "metadata": {},
     "output_type": "execute_result"
    }
   ],
   "source": [
    "33012/100"
   ]
  },
  {
   "cell_type": "code",
   "execution_count": 36,
   "id": "ca1454bf",
   "metadata": {},
   "outputs": [
    {
     "data": {
      "text/plain": [
       "True"
      ]
     },
     "execution_count": 36,
     "metadata": {},
     "output_type": "execute_result"
    }
   ],
   "source": [
    "329 *100+1 < 33012"
   ]
  },
  {
   "cell_type": "code",
   "execution_count": 75,
   "id": "59c07269",
   "metadata": {},
   "outputs": [
    {
     "data": {
      "text/plain": [
       "np.float64(50.0)"
      ]
     },
     "execution_count": 75,
     "metadata": {},
     "output_type": "execute_result"
    }
   ],
   "source": [
    "np.sqrt(2500)"
   ]
  },
  {
   "cell_type": "code",
   "execution_count": 76,
   "id": "7ae91100",
   "metadata": {},
   "outputs": [
    {
     "data": {
      "text/plain": [
       "12400"
      ]
     },
     "execution_count": 76,
     "metadata": {},
     "output_type": "execute_result"
    }
   ],
   "source": [
    "400 *31"
   ]
  },
  {
   "cell_type": "code",
   "execution_count": null,
   "id": "6120918e",
   "metadata": {},
   "outputs": [],
   "source": []
  }
 ],
 "metadata": {
  "kernelspec": {
   "display_name": "xcoll",
   "language": "python",
   "name": "python3"
  },
  "language_info": {
   "codemirror_mode": {
    "name": "ipython",
    "version": 3
   },
   "file_extension": ".py",
   "mimetype": "text/x-python",
   "name": "python",
   "nbconvert_exporter": "python",
   "pygments_lexer": "ipython3",
   "version": "3.13.3"
  }
 },
 "nbformat": 4,
 "nbformat_minor": 5
}
