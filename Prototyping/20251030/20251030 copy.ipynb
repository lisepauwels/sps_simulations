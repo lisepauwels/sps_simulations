{
 "cells": [
  {
   "cell_type": "code",
   "execution_count": 1,
   "id": "b0e11dc1",
   "metadata": {},
   "outputs": [],
   "source": [
    "import numpy as np\n",
    "import pandas as pd\n",
    "import matplotlib.pyplot as plt\n",
    "import xtrack as xt\n",
    "import xcoll as xc\n",
    "import xpart as xp\n",
    "import xobjects as xo"
   ]
  },
  {
   "cell_type": "code",
   "execution_count": 2,
   "id": "4f182674",
   "metadata": {},
   "outputs": [
    {
     "data": {
      "application/vnd.jupyter.widget-view+json": {
       "model_id": "6cb9acafe1154c09906db9385d2dbd34",
       "version_major": 2,
       "version_minor": 0
      },
      "text/plain": [
       "Loading line from dict:   0%|          | 0/36381 [00:00<?, ?it/s]"
      ]
     },
     "metadata": {},
     "output_type": "display_data"
    },
    {
     "name": "stdout",
     "output_type": "stream",
     "text": [
      "Done loading line from dict.           \n"
     ]
    }
   ],
   "source": [
    "line = xt.Line.from_json('../injection_lines/sps_with_aperture_inj_q20_beam_sagitta4.json')"
   ]
  },
  {
   "cell_type": "code",
   "execution_count": 3,
   "id": "a13f6cae",
   "metadata": {},
   "outputs": [],
   "source": [
    "# env = line.env\n",
    "# #crab cavities: acfcah.61738 and acfcah.61739\n",
    "# crab1 = xt.CrabCavity(crab_voltage=1e6, frequency = line['actcse.31632'].frequency, lag=0)\n",
    "# crab2 = xt.CrabCavity(crab_voltage=1e6, frequency = line['actcse.31632'].frequency, lag=0)\n",
    "# env.elements['acfcah.61738'] = crab1\n",
    "# env.elements['acfcah.61739'] = crab2\n",
    "tt = line.get_table()"
   ]
  },
  {
   "cell_type": "code",
   "execution_count": 4,
   "id": "6717ec44",
   "metadata": {},
   "outputs": [],
   "source": [
    "def remove_offmom_bpms_apers(line, exn=3.5e-6, nrj=21, pmass=0.938, bucket_height=3e-3, n_buckets=2):\n",
    "    \"Remove apertures of off-momentum BPMs which give flanges as bottlenecks\"\n",
    "    tt = line.get_table()\n",
    "    tw = line.twiss()\n",
    "    mask_disp = 5*np.sqrt(tw.betx*exn*pmass/nrj)+n_buckets*bucket_height*tw.dx > 0.025\n",
    "    mask_bpm = ['bp' in name for name in tt.name]\n",
    "    mask_aper = np.array(['aper' in name for name in tt.name])\n",
    "    offmom_bpms = tt.name[mask_disp & mask_bpm & ~mask_aper]\n",
    "    aper_to_remove = [f'{name}{suffix}' for name in offmom_bpms for suffix in ('.a_aper', '.b_aper')]\n",
    "    line.remove(aper_to_remove)\n",
    "\n",
    "def install_tidp(line, block_mvt=29e-3):\n",
    "    tidp_ap_tot = 147e-3\n",
    "    line.discard_tracker()\n",
    "    tidp = xc.EverestCollimator(length=4.3, material=xc.materials.Carbon, jaw_L= tidp_ap_tot/2 + block_mvt, jaw_R = -tidp_ap_tot/2 + block_mvt)\n",
    "    line.collimators.install(names=['tidp.11434'], elements=[tidp])\n",
    "    return tidp\n",
    "\n",
    "def install_tcsm(line):\n",
    "    tcsm = xc.EverestCollimator(length=1.83, gap=5, material=xc.materials.Carbon) # length is 1.83\n",
    "    line.collimators.install(names=['tcsm.51932'], elements=[tcsm])\n",
    "    return tcsm"
   ]
  },
  {
   "cell_type": "code",
   "execution_count": 5,
   "id": "e5b0cda9",
   "metadata": {},
   "outputs": [],
   "source": [
    "num_particles = 1000\n",
    "num_turns = 3000\n",
    "plane = 'H'\n",
    "amplitude_adt = 0.08\n",
    "nemitt_x = 2e-6\n",
    "nemitt_y = 2e-6"
   ]
  },
  {
   "cell_type": "code",
   "execution_count": 6,
   "id": "f0ce97c0",
   "metadata": {},
   "outputs": [
    {
     "data": {
      "application/vnd.jupyter.widget-view+json": {
       "model_id": "42188a4a24c347e4bed9781950109d95",
       "version_major": 2,
       "version_minor": 0
      },
      "text/plain": [
       "Slicing line:   0%|          | 0/32246 [00:00<?, ?it/s]"
      ]
     },
     "metadata": {},
     "output_type": "display_data"
    },
    {
     "data": {
      "application/vnd.jupyter.widget-view+json": {
       "model_id": "35b456c835bb482ca07d7f14e47f27c5",
       "version_major": 2,
       "version_minor": 0
      },
      "text/plain": [
       "Slicing line:   0%|          | 0/32246 [00:00<?, ?it/s]"
      ]
     },
     "metadata": {},
     "output_type": "display_data"
    }
   ],
   "source": [
    "remove_offmom_bpms_apers(line, exn=3.5e-6, nrj=21, pmass=0.938, bucket_height=3e-3, n_buckets=2)\n",
    "tidp = install_tidp(line, block_mvt=29e-3)\n",
    "tcsm = install_tcsm(line)"
   ]
  },
  {
   "cell_type": "code",
   "execution_count": 7,
   "id": "adf54af4",
   "metadata": {},
   "outputs": [],
   "source": [
    "adt = xc.BlowUp.install(line, name=f'adt_{plane}_blowup', at_s=line.get_s_position('adkcv.32171'), plane=plane, stop_at_turn=num_turns,\n",
    "                        amplitude=amplitude_adt, use_individual_kicks=False)"
   ]
  },
  {
   "cell_type": "code",
   "execution_count": 8,
   "id": "c8fcbfb9",
   "metadata": {},
   "outputs": [],
   "source": [
    "tw = line.twiss()\n",
    "line.collimators.assign_optics(twiss=tw, nemitt_x=nemitt_x, nemitt_y=nemitt_y)"
   ]
  },
  {
   "cell_type": "code",
   "execution_count": 9,
   "id": "883ebe68",
   "metadata": {},
   "outputs": [
    {
     "name": "stdout",
     "output_type": "stream",
     "text": [
      "*** Maximum RMS bunch length 0.2333663781336932m.\n",
      "... distance to target bunch length: -2.2228e-01\n",
      "... distance to target bunch length: 4.5424e-03\n",
      "... distance to target bunch length: 4.3382e-03\n",
      "... distance to target bunch length: -6.6565e-03\n",
      "... distance to target bunch length: 2.0203e-03\n",
      "... distance to target bunch length: -5.7185e-04\n",
      "... distance to target bunch length: 1.0779e-04\n",
      "... distance to target bunch length: 4.7891e-06\n",
      "... distance to target bunch length: -2.0504e-09\n",
      "... distance to target bunch length: 9.6490e-08\n",
      "--> Bunch length: 0.22399999794961262\n",
      "--> Emittance: 0.34347649813344366\n"
     ]
    }
   ],
   "source": [
    "part = xp.generate_matched_gaussian_bunch(nemitt_x=nemitt_x,\n",
    "                                          nemitt_y=nemitt_y,\n",
    "                                          sigma_z=0.224, num_particles=num_particles, line=line)"
   ]
  },
  {
   "cell_type": "code",
   "execution_count": 10,
   "id": "670dff43",
   "metadata": {},
   "outputs": [],
   "source": [
    "adt.calibrate_by_emittance(nemitt=nemitt_x, twiss=tw)"
   ]
  },
  {
   "cell_type": "code",
   "execution_count": 11,
   "id": "596d4540",
   "metadata": {},
   "outputs": [
    {
     "name": "stdout",
     "output_type": "stream",
     "text": [
      "Compiling ContextCpu kernels...\n"
     ]
    },
    {
     "name": "stderr",
     "output_type": "stream",
     "text": [
      "ld: warning: duplicate -rpath '/Users/lisepauwels/miniforge3/envs/xcoll/lib' ignored\n",
      "ld: warning: duplicate -rpath '/Users/lisepauwels/miniforge3/envs/xcoll/lib' ignored\n"
     ]
    },
    {
     "name": "stdout",
     "output_type": "stream",
     "text": [
      "Done compiling ContextCpu kernels.\n"
     ]
    },
    {
     "data": {
      "application/vnd.jupyter.widget-view+json": {
       "model_id": "73c86b52159140fdad4132c0ef635502",
       "version_major": 2,
       "version_minor": 0
      },
      "text/plain": [
       "Tracking:   0%|          | 0/3000 [00:00<?, ?it/s]"
      ]
     },
     "metadata": {},
     "output_type": "display_data"
    },
    {
     "name": "stdout",
     "output_type": "stream",
     "text": [
      "Done tracking in 372.4s.\n"
     ]
    }
   ],
   "source": [
    "line.discard_tracker()\n",
    "line.build_tracker(_context=xo.ContextCpu(omp_num_threads='auto'))\n",
    "\n",
    "line.scattering.enable()\n",
    "adt.activate()\n",
    "line.track(part, num_turns=num_turns, time=True, with_progress=1)\n",
    "adt.deactivate()\n",
    "line.scattering.disable()\n",
    "print(f\"Done tracking in {line.time_last_track:.1f}s.\")"
   ]
  },
  {
   "cell_type": "code",
   "execution_count": 12,
   "id": "849b6297",
   "metadata": {},
   "outputs": [],
   "source": [
    "ThisLM = xc.LossMap(line = line, line_is_reversed=False, part=part, interpolation=False)"
   ]
  },
  {
   "cell_type": "code",
   "execution_count": 13,
   "id": "597c83f1",
   "metadata": {},
   "outputs": [
    {
     "data": {
      "image/png": "[encoded data removed]",
      "text/plain": [
       "<Figure size 1600x400 with 1 Axes>"
      ]
     },
     "metadata": {},
     "output_type": "display_data"
    },
    {
     "data": {
      "text/plain": [
       "(<Figure size 1600x400 with 1 Axes>,\n",
       " <Axes: xlabel='s [m]', ylabel='Norm. inefficiency [1/m]'>)"
      ]
     },
     "execution_count": 13,
     "metadata": {},
     "output_type": "execute_result"
    }
   ],
   "source": [
    "ThisLM.plot()"
   ]
  },
  {
   "cell_type": "code",
   "execution_count": 14,
   "id": "287df79d",
   "metadata": {},
   "outputs": [
    {
     "data": {
      "text/plain": [
       "(array([  51,  138,  140,  169,  183,  187,  191,  194,  195,  199,  200,\n",
       "         203,  218,  448,  652,  718,  795,  803,  845,  878,  891,  895,\n",
       "         896,  898,  907,  911,  912,  916,  920,  922,  924,  926,  927,\n",
       "         928,  929,  931,  933,  934,  937,  938,  941,  945,  954,  955,\n",
       "         962,  963,  971,  974, 1519, 1527, 1531, 1532, 1620, 1623, 1624,\n",
       "        1626, 1627, 1628, 1632, 1636, 1637, 1641, 1649, 1651, 1653, 1654,\n",
       "        1658, 1661, 1662, 1665, 1668, 1670, 1673, 1674, 1677, 1678, 1679,\n",
       "        1680, 1682, 1683, 1685, 1686, 1687, 1690, 1691, 1695, 1696, 1699,\n",
       "        1701, 1703, 1704, 1706, 1707, 1708, 1710, 1711, 1712, 1713, 1723,\n",
       "        1728, 1731, 1732, 1736, 1737, 1740, 1741, 1745, 1749, 1751, 1752,\n",
       "        1753, 1754, 1757, 1763, 1799, 1801, 1803, 1804, 1813, 1819, 1837,\n",
       "        1839, 1845, 1847, 1853, 1862, 1863, 1864, 1865, 1866, 1867, 1868,\n",
       "        1871, 1872, 1873, 1874, 1877, 1879, 1886, 1887, 1896, 1898, 1912,\n",
       "        1914, 1920, 1921, 1922, 1925, 1926, 1930, 1934, 1935, 1936, 1938,\n",
       "        1941, 2021, 2022, 2023, 2025, 2028, 2029, 2032, 2033, 2034, 2037,\n",
       "        2038, 2042, 2045, 2046, 2048, 2050, 2052, 2054, 2055, 2056, 2057,\n",
       "        2059, 2060, 2061, 2062, 2063, 2066, 2067, 2069, 2070, 2071, 2072,\n",
       "        2075, 2077, 2080, 2091, 2273, 2276, 2277, 2279, 2280, 2281, 2302,\n",
       "        2304, 2306, 2307, 2308, 2310, 2311, 2313, 2314, 2315, 2316, 2317,\n",
       "        2318, 2319, 2320, 2321, 2323, 2325, 2327, 2328, 2332, 2334, 2336,\n",
       "        2339, 2340, 2348, 2365, 2367, 2368, 2373, 2374, 2375, 2382, 2414,\n",
       "        2415, 2426, 2429, 2431, 2468, 2481, 2482, 2486, 2488, 2490, 2492,\n",
       "        2494, 2498, 2501, 2502, 2503, 2504, 2507, 2509, 2510, 2511, 2512,\n",
       "        2513, 2515, 2517, 2518, 2527, 2528, 2529, 2532, 2533, 2536, 2538,\n",
       "        2540, 2549, 2553, 2557, 2559, 2561, 2563, 2565, 2582, 2624, 2641,\n",
       "        2911, 2918, 2928, 2936, 2965, 2969, 2994, 2999, 3000]),\n",
       " array([ 1,  1,  2,  1,  1,  2,  1,  2,  4,  1,  1,  6,  1,  1,  1,  1,  1,\n",
       "         3,  1,  2,  1,  1,  1,  1,  1,  2,  1,  4,  4,  1,  9,  1,  1,  2,\n",
       "         4,  1,  1,  1,  2,  1,  2,  2,  6,  1,  1,  3,  3,  1,  1,  2,  2,\n",
       "         1,  4,  2,  5,  1,  1,  3,  2,  4,  2,  2,  2,  2,  4,  1,  1,  5,\n",
       "         5,  1,  1,  2,  1,  2,  1, 13,  1,  1,  3,  2,  1,  2, 11,  1,  3,\n",
       "         8,  1, 12,  1, 11,  8,  3,  5,  5,  4,  3,  1,  1,  1,  4,  1,  6,\n",
       "         2,  3,  2,  1, 15,  4,  1,  1,  8,  1,  1,  1,  4,  2,  4,  2,  1,\n",
       "         1,  3,  1,  4,  1,  1, 19,  4,  1,  1,  1,  1,  1, 12,  1,  1,  2,\n",
       "         2,  2,  1,  1,  1,  1,  1,  1,  1, 14,  1,  4,  2,  1,  1,  1,  1,\n",
       "         3,  1,  3,  1,  1,  6,  1, 19,  1,  8,  1,  1,  5,  5,  1, 21,  4,\n",
       "         8,  2,  3,  3,  1,  1,  7,  1,  1,  1, 14,  1,  6,  1,  1,  9,  2,\n",
       "         1,  1,  1,  1,  4,  1,  3,  2,  1,  3,  2,  1,  9,  2,  1, 12, 16,\n",
       "         2, 15, 49,  1,  2,  2, 22,  2,  4,  5,  2,  4,  2, 10,  1,  5,  1,\n",
       "         2,  1,  1,  2,  1,  1,  1,  1,  1,  1,  3,  1,  1,  1,  1,  2,  1,\n",
       "         1,  1,  1,  1,  1,  4,  1,  3,  2,  1, 10,  1,  1, 21,  1,  3, 23,\n",
       "         2,  2,  1,  4,  1,  9,  1,  9,  1,  7,  3,  4,  9,  2,  1,  1,  1,\n",
       "         2,  1,  2,  1,  1,  1,  1,  1,  1,  1,  1, 87]))"
      ]
     },
     "execution_count": 14,
     "metadata": {},
     "output_type": "execute_result"
    }
   ],
   "source": [
    "np.unique(part.at_turn, return_counts=True)"
   ]
  },
  {
   "cell_type": "code",
   "execution_count": 15,
   "id": "5e1dadb3",
   "metadata": {},
   "outputs": [
    {
     "data": {
      "image/png": "[encoded data removed]",
      "text/plain": [
       "<Figure size 800x500 with 1 Axes>"
      ]
     },
     "metadata": {},
     "output_type": "display_data"
    }
   ],
   "source": [
    "mask = part.state > 0\n",
    "unique_turns, counts = np.unique(part.at_turn[~mask], return_counts=True)\n",
    "\n",
    "# Plot histogram-like bar chart\n",
    "plt.figure(figsize=(8, 5))\n",
    "plt.bar(unique_turns, counts, width=1.0, edgecolor='black')\n",
    "plt.xlabel(\"Turn number\")\n",
    "plt.ylabel(\"Number of particles\")\n",
    "plt.title(\"Particle losses per turn\")\n",
    "plt.grid(True, linestyle='--', alpha=0.5)\n",
    "plt.show()"
   ]
  },
  {
   "cell_type": "code",
   "execution_count": 16,
   "id": "01c28a70",
   "metadata": {},
   "outputs": [
    {
     "data": {
      "text/plain": [
       "(array([-331,    0,    1]), array([646, 267,  87]))"
      ]
     },
     "execution_count": 16,
     "metadata": {},
     "output_type": "execute_result"
    }
   ],
   "source": [
    "np.unique(part.state, return_counts=True)"
   ]
  },
  {
   "cell_type": "code",
   "execution_count": 17,
   "id": "6f113643",
   "metadata": {},
   "outputs": [
    {
     "data": {
      "text/plain": [
       "0.087"
      ]
     },
     "execution_count": 17,
     "metadata": {},
     "output_type": "execute_result"
    }
   ],
   "source": [
    "87/1000"
   ]
  },
  {
   "cell_type": "code",
   "execution_count": null,
   "id": "37e0617f",
   "metadata": {},
   "outputs": [],
   "source": []
  }
 ],
 "metadata": {
  "kernelspec": {
   "display_name": "xcoll",
   "language": "python",
   "name": "python3"
  },
  "language_info": {
   "codemirror_mode": {
    "name": "ipython",
    "version": 3
   },
   "file_extension": ".py",
   "mimetype": "text/x-python",
   "name": "python",
   "nbconvert_exporter": "python",
   "pygments_lexer": "ipython3",
   "version": "3.13.3"
  }
 },
 "nbformat": 4,
 "nbformat_minor": 5
}
