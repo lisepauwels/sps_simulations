{
 "cells": [
  {
   "cell_type": "code",
   "execution_count": 1,
   "id": "b0e11dc1",
   "metadata": {},
   "outputs": [],
   "source": [
    "import numpy as np\n",
    "import pandas as pd\n",
    "import matplotlib.pyplot as plt\n",
    "import xtrack as xt\n",
    "import xcoll as xc\n",
    "import xpart as xp\n",
    "import xobjects as xo"
   ]
  },
  {
   "cell_type": "code",
   "execution_count": 2,
   "id": "4f182674",
   "metadata": {},
   "outputs": [
    {
     "data": {
      "application/vnd.jupyter.widget-view+json": {
       "model_id": "338d1c09fc9b4b789c33518997944524",
       "version_major": 2,
       "version_minor": 0
      },
      "text/plain": [
       "Loading line from dict:   0%|          | 0/36381 [00:00<?, ?it/s]"
      ]
     },
     "metadata": {},
     "output_type": "display_data"
    },
    {
     "name": "stdout",
     "output_type": "stream",
     "text": [
      "Done loading line from dict.           \n"
     ]
    }
   ],
   "source": [
    "line = xt.Line.from_json('../injection_lines/sps_with_aperture_inj_q20_beam_sagitta4.json')"
   ]
  },
  {
   "cell_type": "code",
   "execution_count": 3,
   "id": "a13f6cae",
   "metadata": {},
   "outputs": [],
   "source": [
    "env = line.env\n",
    "#crab cavities: acfcah.61738 and acfcah.61739\n",
    "crab1 = xt.CrabCavity(crab_voltage=1e6, frequency = line['actcse.31632'].frequency, lag=0)\n",
    "crab2 = xt.CrabCavity(crab_voltage=1e6, frequency = line['actcse.31632'].frequency, lag=0)\n",
    "env.elements['acfcah.61738'] = crab1\n",
    "env.elements['acfcah.61739'] = crab2\n",
    "tt = line.get_table()"
   ]
  },
  {
   "cell_type": "code",
   "execution_count": 4,
   "id": "6717ec44",
   "metadata": {},
   "outputs": [],
   "source": [
    "def remove_offmom_bpms_apers(line, exn=3.5e-6, nrj=21, pmass=0.938, bucket_height=3e-3, n_buckets=2):\n",
    "    \"Remove apertures of off-momentum BPMs which give flanges as bottlenecks\"\n",
    "    tt = line.get_table()\n",
    "    tw = line.twiss()\n",
    "    mask_disp = 5*np.sqrt(tw.betx*exn*pmass/nrj)+n_buckets*bucket_height*tw.dx > 0.025\n",
    "    mask_bpm = ['bp' in name for name in tt.name]\n",
    "    mask_aper = np.array(['aper' in name for name in tt.name])\n",
    "    offmom_bpms = tt.name[mask_disp & mask_bpm & ~mask_aper]\n",
    "    aper_to_remove = [f'{name}{suffix}' for name in offmom_bpms for suffix in ('.a_aper', '.b_aper')]\n",
    "    line.remove(aper_to_remove)\n",
    "\n",
    "def install_tidp(line, block_mvt=29e-3):\n",
    "    tidp_ap_tot = 147e-3\n",
    "    line.discard_tracker()\n",
    "    tidp = xc.EverestCollimator(length=4.3, material=xc.materials.Carbon, jaw_L= tidp_ap_tot/2 + block_mvt, jaw_R = -tidp_ap_tot/2 + block_mvt)\n",
    "    line.collimators.install(names=['tidp.11434'], elements=[tidp])\n",
    "    return tidp\n",
    "\n",
    "def install_tcsm(line):\n",
    "    tcsm = xc.EverestCollimator(length=1.83, gap=5, material=xc.materials.Carbon) # length is 1.83\n",
    "    line.collimators.install(names=['tcsm.51932'], elements=[tcsm])\n",
    "    return tcsm"
   ]
  },
  {
   "cell_type": "code",
   "execution_count": 5,
   "id": "e5b0cda9",
   "metadata": {},
   "outputs": [],
   "source": [
    "num_particles = 1000\n",
    "num_turns = 3000\n",
    "plane = 'H'\n",
    "amplitude_adt = 0.07\n",
    "nemitt_x = 2e-6\n",
    "nemitt_y = 2e-6"
   ]
  },
  {
   "cell_type": "code",
   "execution_count": 6,
   "id": "f0ce97c0",
   "metadata": {},
   "outputs": [
    {
     "data": {
      "application/vnd.jupyter.widget-view+json": {
       "model_id": "db882e0e12a341de9d9cb75a00924770",
       "version_major": 2,
       "version_minor": 0
      },
      "text/plain": [
       "Slicing line:   0%|          | 0/32250 [00:00<?, ?it/s]"
      ]
     },
     "metadata": {},
     "output_type": "display_data"
    },
    {
     "data": {
      "application/vnd.jupyter.widget-view+json": {
       "model_id": "b6c7d494c78540a595f25247649b2ecf",
       "version_major": 2,
       "version_minor": 0
      },
      "text/plain": [
       "Slicing line:   0%|          | 0/32250 [00:00<?, ?it/s]"
      ]
     },
     "metadata": {},
     "output_type": "display_data"
    }
   ],
   "source": [
    "remove_offmom_bpms_apers(line, exn=3.5e-6, nrj=21, pmass=0.938, bucket_height=3e-3, n_buckets=2)\n",
    "tidp = install_tidp(line, block_mvt=29e-3)\n",
    "tcsm = install_tcsm(line)"
   ]
  },
  {
   "cell_type": "code",
   "execution_count": 7,
   "id": "adf54af4",
   "metadata": {},
   "outputs": [],
   "source": [
    "adt = xc.BlowUp.install(line, name=f'adt_{plane}_blowup', at_s=line.get_s_position('adkcv.32171'), plane=plane, stop_at_turn=num_turns,\n",
    "                        amplitude=amplitude_adt, use_individual_kicks=False, start_at_turn=500)"
   ]
  },
  {
   "cell_type": "code",
   "execution_count": 8,
   "id": "c8fcbfb9",
   "metadata": {},
   "outputs": [],
   "source": [
    "tw = line.twiss()\n",
    "line.collimators.assign_optics(twiss=tw, nemitt_x=nemitt_x, nemitt_y=nemitt_y)"
   ]
  },
  {
   "cell_type": "code",
   "execution_count": 9,
   "id": "883ebe68",
   "metadata": {},
   "outputs": [
    {
     "name": "stdout",
     "output_type": "stream",
     "text": [
      "*** Maximum RMS bunch length 0.2333663781336932m.\n",
      "... distance to target bunch length: -2.2228e-01\n",
      "... distance to target bunch length: 4.5424e-03\n",
      "... distance to target bunch length: 4.3382e-03\n",
      "... distance to target bunch length: -6.6565e-03\n",
      "... distance to target bunch length: 2.0203e-03\n",
      "... distance to target bunch length: -5.7185e-04\n",
      "... distance to target bunch length: 1.0779e-04\n",
      "... distance to target bunch length: 4.7891e-06\n",
      "... distance to target bunch length: -2.0504e-09\n",
      "... distance to target bunch length: 9.6490e-08\n",
      "--> Bunch length: 0.22399999794961264\n",
      "--> Emittance: 0.34350824485557363\n"
     ]
    }
   ],
   "source": [
    "part = xp.generate_matched_gaussian_bunch(nemitt_x=nemitt_x,\n",
    "                                          nemitt_y=nemitt_y,\n",
    "                                          sigma_z=0.224, num_particles=num_particles, line=line)"
   ]
  },
  {
   "cell_type": "code",
   "execution_count": 10,
   "id": "670dff43",
   "metadata": {},
   "outputs": [],
   "source": [
    "adt.calibrate_by_emittance(nemitt=nemitt_x, twiss=tw)"
   ]
  },
  {
   "cell_type": "code",
   "execution_count": 11,
   "id": "596d4540",
   "metadata": {},
   "outputs": [
    {
     "name": "stdout",
     "output_type": "stream",
     "text": [
      "Compiling ContextCpu kernels...\n"
     ]
    },
    {
     "name": "stderr",
     "output_type": "stream",
     "text": [
      "ld: warning: duplicate -rpath '/Users/lisepauwels/miniforge3/envs/xcoll/lib' ignored\n",
      "ld: warning: duplicate -rpath '/Users/lisepauwels/miniforge3/envs/xcoll/lib' ignored\n"
     ]
    },
    {
     "name": "stdout",
     "output_type": "stream",
     "text": [
      "Done compiling ContextCpu kernels.\n"
     ]
    },
    {
     "data": {
      "application/vnd.jupyter.widget-view+json": {
       "model_id": "7b9535b4a6954dc3acc4badb16371674",
       "version_major": 2,
       "version_minor": 0
      },
      "text/plain": [
       "Tracking:   0%|          | 0/3000 [00:00<?, ?it/s]"
      ]
     },
     "metadata": {},
     "output_type": "display_data"
    },
    {
     "name": "stdout",
     "output_type": "stream",
     "text": [
      "Done tracking in 377.0s.\n"
     ]
    }
   ],
   "source": [
    "line.discard_tracker()\n",
    "line.build_tracker(_context=xo.ContextCpu(omp_num_threads='auto'))\n",
    "\n",
    "line.scattering.enable()\n",
    "adt.activate()\n",
    "line.track(part, num_turns=num_turns, time=True, with_progress=1)\n",
    "adt.deactivate()\n",
    "line.scattering.disable()\n",
    "print(f\"Done tracking in {line.time_last_track:.1f}s.\")"
   ]
  },
  {
   "cell_type": "code",
   "execution_count": 12,
   "id": "849b6297",
   "metadata": {},
   "outputs": [],
   "source": [
    "ThisLM = xc.LossMap(line = line, line_is_reversed=False, part=part, interpolation=False)"
   ]
  },
  {
   "cell_type": "code",
   "execution_count": 13,
   "id": "597c83f1",
   "metadata": {},
   "outputs": [
    {
     "data": {
      "image/png": "[encoded data removed]",
      "text/plain": [
       "<Figure size 1600x400 with 1 Axes>"
      ]
     },
     "metadata": {},
     "output_type": "display_data"
    },
    {
     "data": {
      "text/plain": [
       "(<Figure size 1600x400 with 1 Axes>,\n",
       " <Axes: xlabel='s [m]', ylabel='Norm. inefficiency [1/m]'>)"
      ]
     },
     "execution_count": 13,
     "metadata": {},
     "output_type": "execute_result"
    }
   ],
   "source": [
    "ThisLM.plot()"
   ]
  },
  {
   "cell_type": "code",
   "execution_count": 14,
   "id": "287df79d",
   "metadata": {},
   "outputs": [
    {
     "data": {
      "text/plain": [
       "(array([   0,    1,    2,    6,    7,    8,    9,   10,   11,   14,   15,\n",
       "          16,   17,   18,   19,   25,   26,   28,   31,   36,   45,   47,\n",
       "          48,   96,  100,  123,  182,  262,  437,  505,  518,  521,  530,\n",
       "         539,  541,  545,  558,  559,  600,  643,  646,  651,  655,  658,\n",
       "         668,  727,  769,  789,  792,  793,  797,  798,  832,  833,  853,\n",
       "         907,  919,  923,  926,  935,  936,  937,  943,  944,  947,  948,\n",
       "         952,  969,  970,  973,  974,  976,  977,  978,  981,  982,  984,\n",
       "         985,  986,  987,  989,  990,  993,  994,  998,  999, 1000, 1002,\n",
       "        1003, 1005, 1006, 1007, 1009, 1024, 1034, 1035, 1043, 1059, 1060,\n",
       "        1068, 1069, 1072, 1077, 1081, 1084, 1085, 1087, 1089, 1091, 1092,\n",
       "        1093, 1094, 1095, 1098, 1101, 1109, 1110, 1113, 1114, 1118, 1119,\n",
       "        1126, 1127, 1133, 1134, 1135, 1160, 1161, 1165, 1168, 1169, 1172,\n",
       "        1173, 1177, 1194, 1195, 1201, 1203, 1211, 1213, 1215, 1220, 1229,\n",
       "        1394, 1398, 1461, 1614, 1615, 1621, 1679, 1687, 1688, 1696, 1705,\n",
       "        1706, 1716, 1718, 1722, 1723, 1730, 1731, 1735, 1736, 1739, 1740,\n",
       "        1741, 1742, 1744, 1748, 1752, 1754, 1756, 1760, 1764, 1767, 1773,\n",
       "        2065, 2194, 2196, 2202, 2210, 2211, 2215, 2216, 2217, 2219, 2223,\n",
       "        2227, 2232, 2235, 2236, 2240, 2241, 2242, 2244, 2245, 2248, 2249,\n",
       "        2251, 2252, 2253, 2257, 2258, 2261, 2262, 2265, 2269, 2270, 2273,\n",
       "        2275, 2276, 2277, 2278, 2281, 2282, 2283, 2285, 2286, 2287, 2288,\n",
       "        2289, 2290, 2291, 2292, 2294, 2295, 2298, 2299, 2302, 2303, 2304,\n",
       "        2305, 2306, 2307, 2309, 2311, 2315, 2316, 2317, 2319, 2320, 2324,\n",
       "        2325, 2326, 2328, 2329, 2330, 2337, 2338, 2347, 2349, 2353, 2354,\n",
       "        2355, 2362, 2371, 2381, 2404, 2433, 2437, 2445, 2454, 2458, 2462,\n",
       "        2463, 2467, 2468, 2469, 2471, 2472, 2482, 2504, 2509, 2513, 2517,\n",
       "        2520, 2521, 2524, 2525, 2526, 2527, 2530, 2550, 2556, 2559, 2563,\n",
       "        2565, 2567, 2568, 2569, 2570, 2571, 2572, 2573, 2575, 2579, 2580,\n",
       "        2582, 2583, 2584, 2587, 2588, 2589, 2590, 2592, 2594, 2596, 2598,\n",
       "        2601, 2604, 2605, 2609, 2611, 2613, 2617, 2629, 2633, 3000]),\n",
       " array([  9,  17,   7,   1,   2,   1,  12,   8,   1,   1,   1,   2,   2,\n",
       "          8,   4,   1,   2,   1,   1,   1,   1,   2,   1,   1,   1,   1,\n",
       "          1,   1,   1,   1,   2,   1,   1,   1,   3,   1,   1,   1,   1,\n",
       "          1,   1,   3,   1,   1,   1,   1,   1,   1,   1,   1,   1,   2,\n",
       "          1,   1,   1,   1,   2,   1,   1,   1,   2,   1,   3,   1,   1,\n",
       "          1,   2,   2,   1,   1,   1,   1,   4,   3,   2,   3,   1,   3,\n",
       "          5,   1,   1,   6,   2,   4,   4,   1,   1,   7,   2,   1,   1,\n",
       "          3,   3,   1,   1,   1,   1,   1,   1,   2,   2,   1,   2,   2,\n",
       "          1,   2,   1,   1,   1,   1,   4,   5,   1,   1,   1,   3,   2,\n",
       "          1,   1,   2,   1,   3,   2,   1,   1,   2,   1,   1,   1,   1,\n",
       "          1,   1,   4,   1,   1,   2,   1,   1,   1,   1,   1,   1,   2,\n",
       "          2,   2,   1,   1,   2,   1,   1,   1,   1,   1,   1,   1,   1,\n",
       "          2,   3,   1,   2,   6,   2,   1,   1,   1,   1,   1,   3,   1,\n",
       "          1,   2,   2,   1,   3,   1,   2,   1,   1,   2,   2,   2,   1,\n",
       "          3,   1,   1,   1,   2,   4,   1,   4,   9,   9,   3,   1,   7,\n",
       "          2,   5,   3,   3,   5,   4,   3,   1,   4,   2,   5,   4,   3,\n",
       "          7,   2,   1,   4,   4,   2,  11,   2,   1,  21,   4,   1,   1,\n",
       "         24,   2,   2,  17,   4,   9,   6,  12,  15,   2,   1,   3,   9,\n",
       "          3,   1,   4,   1,   2,   5,   4,   1,   2,   1,   1,   2,   1,\n",
       "          1,   2,   1,   4,   2,   1,   1,   1,   1,   1,   2,   1,   2,\n",
       "          1,   2,   1,   5,   2,   1,   1,   1,   1,   1,   1,   2,   1,\n",
       "          2,   4,   1,   1,   1,   2,   1,   1,   1,   1,   1,   1,   1,\n",
       "          2,   1,   1,   1,   1,  10,   1,   1,   1,   2,   6,   2,   1,\n",
       "          4,   1,  10,   1,   1,  27,   1,   4,   1,   1,   1,   4,   1,\n",
       "          1,   6,   1,   4,   1, 215]))"
      ]
     },
     "execution_count": 14,
     "metadata": {},
     "output_type": "execute_result"
    }
   ],
   "source": [
    "np.unique(part.at_turn, return_counts=True)"
   ]
  },
  {
   "cell_type": "code",
   "execution_count": 15,
   "id": "5e1dadb3",
   "metadata": {},
   "outputs": [
    {
     "data": {
      "image/png": "[encoded data removed]",
      "text/plain": [
       "<Figure size 800x500 with 1 Axes>"
      ]
     },
     "metadata": {},
     "output_type": "display_data"
    }
   ],
   "source": [
    "mask = part.state > 0\n",
    "unique_turns, counts = np.unique(part.at_turn[~mask], return_counts=True)\n",
    "\n",
    "# Plot histogram-like bar chart\n",
    "plt.figure(figsize=(8, 5))\n",
    "plt.bar(unique_turns, counts, width=1.0, edgecolor='black')\n",
    "plt.xlabel(\"Turn number\")\n",
    "plt.ylabel(\"Number of particles\")\n",
    "plt.title(\"Particle losses per turn\")\n",
    "plt.grid(True, linestyle='--', alpha=0.5)\n",
    "plt.show()"
   ]
  },
  {
   "cell_type": "code",
   "execution_count": 16,
   "id": "01c28a70",
   "metadata": {},
   "outputs": [
    {
     "data": {
      "text/plain": [
       "(array([-331,    0,    1]), array([536, 249, 215]))"
      ]
     },
     "execution_count": 16,
     "metadata": {},
     "output_type": "execute_result"
    }
   ],
   "source": [
    "np.unique(part.state, return_counts=True)"
   ]
  },
  {
   "cell_type": "code",
   "execution_count": 17,
   "id": "109fcee2",
   "metadata": {},
   "outputs": [
    {
     "data": {
      "text/plain": [
       "array([3000, 3000, 3000, 3000, 3000, 3000, 3000, 3000, 3000, 3000, 3000,\n",
       "       3000, 3000, 3000, 3000, 3000, 3000, 3000, 3000, 3000, 3000, 3000,\n",
       "       3000, 3000, 3000, 3000, 3000, 3000, 3000, 3000, 3000, 3000, 3000,\n",
       "       3000, 3000, 3000, 3000, 3000, 3000, 3000, 3000, 3000, 3000, 3000,\n",
       "       3000, 3000, 3000, 3000, 3000, 3000, 3000, 3000, 3000, 3000, 3000,\n",
       "       3000, 3000, 3000, 3000, 3000, 3000, 3000, 3000, 3000, 3000, 3000,\n",
       "       3000, 3000, 3000, 3000, 3000, 3000, 3000, 3000, 3000, 3000, 3000,\n",
       "       3000, 3000, 3000, 3000, 3000, 3000, 3000, 3000, 3000, 3000, 3000,\n",
       "       3000, 3000, 3000, 3000, 3000, 3000, 3000, 3000, 3000, 3000, 3000,\n",
       "       3000, 3000, 3000, 3000, 3000, 3000, 3000, 3000, 3000, 3000, 3000,\n",
       "       3000, 3000, 3000, 3000, 3000, 3000, 3000, 3000, 3000, 3000, 3000,\n",
       "       3000, 3000, 3000, 3000, 3000, 3000, 3000, 3000, 3000, 3000, 3000,\n",
       "       3000, 3000, 3000, 3000, 3000, 3000, 3000, 3000, 3000, 3000, 3000,\n",
       "       3000, 3000, 3000, 3000, 3000, 3000, 3000, 3000, 3000, 3000, 3000,\n",
       "       3000, 3000, 3000, 3000, 3000, 3000, 3000, 3000, 3000, 3000, 3000,\n",
       "       3000, 3000, 3000, 3000, 3000, 3000, 3000, 3000, 3000, 3000, 3000,\n",
       "       3000, 3000, 3000, 3000, 3000, 3000, 3000, 3000, 3000, 3000, 3000,\n",
       "       3000, 3000, 3000, 3000, 3000, 3000, 3000, 3000, 3000, 3000, 3000,\n",
       "       3000, 3000, 3000, 3000, 3000, 3000, 3000, 3000, 3000, 3000, 3000,\n",
       "       3000, 3000, 3000, 3000, 3000, 3000, 2633, 2629, 2629, 2629, 2629,\n",
       "       2617, 2613, 2613, 2613, 2613, 2613, 2613, 2611, 2609, 2605, 2605,\n",
       "       2605, 2605, 2604, 2601, 2598, 2596, 2596, 2596, 2596, 2594, 2592,\n",
       "       2592, 2592, 2592, 2592, 2592, 2592, 2592, 2592, 2592, 2592, 2592,\n",
       "       2592, 2592, 2592, 2592, 2592, 2592, 2592, 2592, 2592, 2592, 2592,\n",
       "       2592, 2592, 2592, 2592, 2590, 2589, 2588, 2588, 2588, 2588, 2588,\n",
       "       2588, 2588, 2588, 2588, 2588, 2587, 2584, 2584, 2584, 2584, 2583,\n",
       "       2582, 2582, 2580, 2580, 2580, 2580, 2580, 2580, 2579, 2579, 2575,\n",
       "       2573, 2572, 2571, 2571, 2571, 2571, 2571, 2571, 2571, 2571, 2571,\n",
       "       2571, 2570, 2569, 2568, 2567, 2565, 2565, 2563, 2559, 2556, 2550,\n",
       "       2530, 2527, 2526, 2525, 2525, 2524, 2521, 2520, 2517, 2517, 2517,\n",
       "       2517, 2513, 2513, 2509, 2504, 2504, 2482, 2472, 2471, 2469, 2468,\n",
       "       2467, 2463, 2463, 2462, 2462, 2462, 2462, 2462, 2458, 2454, 2454,\n",
       "       2445, 2437, 2437, 2433, 2404, 2404, 2381, 2371, 2362, 2355, 2354,\n",
       "       2353, 2353, 2349, 2349, 2349, 2349, 2347, 2338, 2338, 2337, 2330,\n",
       "       2329, 2329, 2328, 2326, 2325, 2325, 2324, 2320, 2320, 2320, 2320,\n",
       "       2319, 2319, 2319, 2319, 2319, 2317, 2317, 2316, 2315, 2315, 2315,\n",
       "       2315, 2311, 2309, 2309, 2309, 2307, 2307, 2307, 2307, 2307, 2307,\n",
       "       2307, 2307, 2307, 2306, 2306, 2306, 2305, 2304, 2304, 2303, 2303,\n",
       "       2303, 2303, 2303, 2303, 2303, 2303, 2303, 2303, 2303, 2303, 2303,\n",
       "       2303, 2303, 2302, 2302, 2302, 2302, 2302, 2302, 2302, 2302, 2302,\n",
       "       2302, 2302, 2302, 2299, 2299, 2299, 2299, 2299, 2299, 2298, 2298,\n",
       "       2298, 2298, 2298, 2298, 2298, 2298, 2298, 2295, 2295, 2295, 2295,\n",
       "       2294, 2294, 2294, 2294, 2294, 2294, 2294, 2294, 2294, 2294, 2294,\n",
       "       2294, 2294, 2294, 2294, 2294, 2294, 2292, 2292, 2291, 2291, 2290,\n",
       "       2290, 2290, 2290, 2290, 2290, 2290, 2290, 2290, 2290, 2290, 2290,\n",
       "       2290, 2290, 2290, 2290, 2290, 2290, 2290, 2290, 2290, 2290, 2290,\n",
       "       2290, 2289, 2288, 2287, 2287, 2287, 2287, 2286, 2286, 2286, 2286,\n",
       "       2286, 2286, 2286, 2286, 2286, 2286, 2286, 2286, 2286, 2286, 2286,\n",
       "       2286, 2286, 2286, 2286, 2286, 2286, 2285, 2283, 2283, 2282, 2282,\n",
       "       2282, 2282, 2282, 2282, 2282, 2282, 2282, 2282, 2282, 2281, 2281,\n",
       "       2278, 2278, 2278, 2278, 2277, 2277, 2277, 2277, 2276, 2275, 2275,\n",
       "       2273, 2273, 2273, 2273, 2273, 2273, 2273, 2270, 2270, 2270, 2269,\n",
       "       2269, 2269, 2269, 2265, 2265, 2265, 2265, 2265, 2262, 2262, 2261,\n",
       "       2261, 2261, 2261, 2258, 2257, 2257, 2257, 2253, 2253, 2253, 2253,\n",
       "       2252, 2252, 2252, 2252, 2252, 2251, 2251, 2251, 2249, 2249, 2249,\n",
       "       2248, 2248, 2248, 2248, 2248, 2245, 2245, 2244, 2244, 2244, 2244,\n",
       "       2244, 2244, 2244, 2242, 2241, 2241, 2241, 2240, 2240, 2240, 2240,\n",
       "       2240, 2240, 2240, 2240, 2240, 2236, 2236, 2236, 2236, 2236, 2236,\n",
       "       2236, 2236, 2236, 2235, 2235, 2235, 2235, 2232, 2227, 2227, 2227,\n",
       "       2227, 2223, 2223, 2219, 2217, 2216, 2215, 2215, 2215, 2211, 2210,\n",
       "       2210, 2202, 2202, 2196, 2196, 2194, 2065, 1773, 1773, 1767, 1764,\n",
       "       1764, 1764, 1760, 1756, 1756, 1754, 1754, 1752, 1748, 1744, 1744,\n",
       "       1744, 1742, 1741, 1740, 1739, 1736, 1735, 1735, 1731, 1731, 1731,\n",
       "       1731, 1731, 1731, 1730, 1730, 1723, 1722, 1722, 1722, 1718, 1718,\n",
       "       1716, 1706, 1705, 1696, 1688, 1687, 1679, 1621, 1615, 1615, 1614,\n",
       "       1461, 1398, 1398, 1394, 1394, 1229, 1229, 1220, 1215, 1213, 1211,\n",
       "       1203, 1201, 1195, 1195, 1194, 1177, 1173, 1173, 1173, 1173, 1172,\n",
       "       1169, 1168, 1165, 1161, 1160, 1135, 1135, 1134, 1133, 1127, 1127,\n",
       "       1126, 1126, 1126, 1119, 1118, 1118, 1114, 1113, 1110, 1110, 1109,\n",
       "       1109, 1109, 1101, 1098, 1095, 1094, 1094, 1094, 1094, 1094, 1093,\n",
       "       1093, 1093, 1093, 1092, 1091, 1089, 1087, 1085, 1085, 1084, 1081,\n",
       "       1081, 1077, 1077, 1072, 1069, 1069, 1068, 1068, 1060, 1059, 1043,\n",
       "       1035, 1034, 1024, 1009, 1009, 1009, 1007, 1007, 1007, 1006, 1005,\n",
       "       1003, 1003, 1002, 1002, 1002, 1002, 1002, 1002, 1002, 1000,  999,\n",
       "        998,  998,  998,  998,  994,  994,  994,  994,  993,  993,  990,\n",
       "        990,  990,  990,  990,  990,  989,  987,  986,  986,  986,  986,\n",
       "        986,  985,  985,  985,  984,  982,  982,  982,  981,  981,  978,\n",
       "        978,  978,  977,  977,  977,  977,  976,  974,  973,  970,  969,\n",
       "        969,  952,  952,  948,  947,  944,  943,  943,  943,  937,  936,\n",
       "        936,  935,  926,  923,  919,  919,  907,  853,  833,  832,  798,\n",
       "        798,  797,  793,  792,  789,  769,  727,  668,  658,  655,  651,\n",
       "        651,  651,  646,  643,  600,  559,  558,  545,  541,  541,  541,\n",
       "        539,  530,  521,  518,  518,  505,  437,  262,  182,  123,  100,\n",
       "         96,   48,   47,   47,   45,   36,   31,   28,   26,   26,   25,\n",
       "         19,   19,   19,   19,   18,   18,   18,   18,   18,   18,   18,\n",
       "         18,   17,   17,   16,   16,   15,   14,   11,   10,   10,   10,\n",
       "         10,   10,   10,   10,   10,    9,    9,    9,    9,    9,    9,\n",
       "          9,    9,    9,    9,    9,    9,    8,    7,    7,    6,    2,\n",
       "          2,    2,    2,    2,    2,    2,    1,    1,    1,    1,    1,\n",
       "          1,    1,    1,    1,    1,    1,    1,    1,    1,    1,    1,\n",
       "          1,    0,    0,    0,    0,    0,    0,    0,    0,    0])"
      ]
     },
     "execution_count": 17,
     "metadata": {},
     "output_type": "execute_result"
    }
   ],
   "source": [
    "part.at_turn"
   ]
  },
  {
   "cell_type": "code",
   "execution_count": 21,
   "id": "ea418267",
   "metadata": {},
   "outputs": [],
   "source": [
    "mask = part.at_turn < 5"
   ]
  },
  {
   "cell_type": "code",
   "execution_count": 20,
   "id": "96f65c45",
   "metadata": {},
   "outputs": [
    {
     "data": {
      "text/plain": [
       "'vcal.51939.b_aper'"
      ]
     },
     "execution_count": 20,
     "metadata": {},
     "output_type": "execute_result"
    }
   ],
   "source": [
    "line.element_names[24326]"
   ]
  },
  {
   "cell_type": "code",
   "execution_count": 23,
   "id": "b1a66526",
   "metadata": {},
   "outputs": [
    {
     "data": {
      "text/plain": [
       "(array([24309, 24314, 24326, 24342, 24391]), array([26,  1,  3,  1,  2]))"
      ]
     },
     "execution_count": 23,
     "metadata": {},
     "output_type": "execute_result"
    }
   ],
   "source": [
    "np.unique(part.at_element[mask], return_counts=True)"
   ]
  },
  {
   "cell_type": "code",
   "execution_count": null,
   "id": "dd60614f",
   "metadata": {},
   "outputs": [],
   "source": []
  }
 ],
 "metadata": {
  "kernelspec": {
   "display_name": "xcoll",
   "language": "python",
   "name": "python3"
  },
  "language_info": {
   "codemirror_mode": {
    "name": "ipython",
    "version": 3
   },
   "file_extension": ".py",
   "mimetype": "text/x-python",
   "name": "python",
   "nbconvert_exporter": "python",
   "pygments_lexer": "ipython3",
   "version": "3.13.3"
  }
 },
 "nbformat": 4,
 "nbformat_minor": 5
}
