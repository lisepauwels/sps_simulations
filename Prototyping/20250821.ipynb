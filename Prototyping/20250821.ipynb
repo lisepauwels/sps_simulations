{
 "cells": [
  {
   "cell_type": "code",
   "execution_count": 1,
   "id": "e41b8be9",
   "metadata": {},
   "outputs": [],
   "source": [
    "import numpy as np\n",
    "import matplotlib.pyplot as plt\n",
    "import xtrack as xt\n",
    "import xpart as xp\n",
    "import xcoll as xc\n",
    "import xobjects as xo"
   ]
  },
  {
   "cell_type": "markdown",
   "id": "73c788d9",
   "metadata": {},
   "source": [
    "# Preparing statistics for ht condor simulation distorted line"
   ]
  },
  {
   "cell_type": "code",
   "execution_count": 2,
   "id": "fa092b41",
   "metadata": {},
   "outputs": [],
   "source": [
    "def get_straight_line(t, t1, r1, t2, r2):\n",
    "    alpha = (r2 - r1) / (t2 - t1)\n",
    "    return r1 + alpha * (t - t1)"
   ]
  },
  {
   "cell_type": "code",
   "execution_count": 3,
   "id": "712362bc",
   "metadata": {},
   "outputs": [],
   "source": [
    "def insert_monitor_bpms(line, num_turns, num_particles):\n",
    "    tt = line.get_table()\n",
    "    bph_list = tt.rows['bph.*..0'].name\n",
    "    env = line.env\n",
    "    insertions = []\n",
    "    monitors_elems = []\n",
    "    monitorBPM_names = []\n",
    "    for name in bph_list:\n",
    "        monitorBPM_names.append(name.split('.')[0] + '.' + name.split('.')[1])\n",
    "\n",
    "        monitors_elems.append(xt.ParticlesMonitor(_context=line._context, \n",
    "                                                            num_particles=num_particles, \n",
    "                                                            start_at_turn=0, \n",
    "                                                            stop_at_turn=num_turns+1))\n",
    "        env.elements[f'{name}_monitor'] = monitors_elems[-1]\n",
    "        insertions.append(env.place(f'{name}_monitor', at=line.get_s_position(name)))\n",
    "    line.insert(insertions, s_tol=1e-6)\n",
    "    return np.array(monitorBPM_names), monitors_elems\n",
    "\n",
    "def install_tidp(line, block_mvt=29e-3):\n",
    "    tidp_ap_tot = 147e-3\n",
    "    line.discard_tracker()\n",
    "    tidp = xc.EverestCollimator(length=4.3, material=xc.materials.Carbon, jaw_L= tidp_ap_tot/2 + block_mvt, jaw_R = -tidp_ap_tot/2 + block_mvt)\n",
    "    line.collimators.install(names=['tidp.11434'], elements=[tidp])\n",
    "    return tidp"
   ]
  },
  {
   "cell_type": "code",
   "execution_count": 4,
   "id": "0ae95d8d",
   "metadata": {},
   "outputs": [
    {
     "data": {
      "application/vnd.jupyter.widget-view+json": {
       "model_id": "c9897e7839ca4e618d82fa4f5ba0cde5",
       "version_major": 2,
       "version_minor": 0
      },
      "text/plain": [
       "Loading line from dict:   0%|          | 0/36506 [00:00<?, ?it/s]"
      ]
     },
     "metadata": {},
     "output_type": "display_data"
    },
    {
     "name": "stdout",
     "output_type": "stream",
     "text": [
      "Done loading line from dict.           \n",
      "Compiling ContextCpu kernels...\n"
     ]
    },
    {
     "name": "stderr",
     "output_type": "stream",
     "text": [
      "ld: warning: duplicate -rpath '/Users/lisepauwels/miniforge3/envs/xcoll/lib' ignored\n",
      "ld: warning: duplicate -rpath '/Users/lisepauwels/miniforge3/envs/xcoll/lib' ignored\n"
     ]
    },
    {
     "name": "stdout",
     "output_type": "stream",
     "text": [
      "Done compiling ContextCpu kernels.\n",
      "Compiling ContextCpu kernels...\n"
     ]
    },
    {
     "name": "stderr",
     "output_type": "stream",
     "text": [
      "ld: warning: duplicate -rpath '/Users/lisepauwels/miniforge3/envs/xcoll/lib' ignored\n",
      "ld: warning: duplicate -rpath '/Users/lisepauwels/miniforge3/envs/xcoll/lib' ignored\n"
     ]
    },
    {
     "name": "stdout",
     "output_type": "stream",
     "text": [
      "Done compiling ContextCpu kernels.\n"
     ]
    }
   ],
   "source": [
    "line = xt.Line.from_json('../injection_lines/sps_orbit_md_20250616_v2.json')\n",
    "\n",
    "line.vars['qph_setvalue'] = 0.5\n",
    "line.vars['qpv_setvalue'] = 0.5\n",
    "line.vars['qh_setvalue'] = line.vars['qx0']._value + 0.05\n",
    "line.vars['qv_setvalue'] = line.vars['qy0']._value + 0.05\n",
    "\n",
    "\n",
    "tt = line.get_table()\n",
    "tw = line.twiss()"
   ]
  },
  {
   "cell_type": "code",
   "execution_count": 5,
   "id": "e7acf77b",
   "metadata": {},
   "outputs": [],
   "source": [
    "#Context and parameters\n",
    "context = xo.ContextCpu()\n",
    "cavity_elements, cavity_names = line.get_elements_of_type(xt.Cavity)\n",
    "\n",
    "num_particles  = 1000\n",
    "plane = 'DPneg'\n",
    "delta_emp = 0.307*get_straight_line(1.967, 1.027,0, 1.967, -22e-3)\n",
    "#delta_emp = 0.307*get_straight_line(0.5, 2.984,0, 0.5, -32e-3)\n",
    "sweep = delta_emp * cavity_elements[0].frequency * tw.slip_factor\n",
    "sweep = -abs(sweep) if plane == 'DPpos' else abs(sweep)\n",
    "num_turns = 7000\n",
    "\n",
    "\n",
    "for name in cavity_names:\n",
    "    line[name].frequency = 200e6\n",
    "    line[name].lag = 180\n",
    "line['acl.31735'].voltage = 0 #setting 800 cav to 0V\n",
    "line['actcse.31632'].voltage = 3.5e6"
   ]
  },
  {
   "cell_type": "code",
   "execution_count": 6,
   "id": "099e715b",
   "metadata": {},
   "outputs": [
    {
     "name": "stdout",
     "output_type": "stream",
     "text": [
      "Compiling ContextCpu kernels...\n"
     ]
    },
    {
     "name": "stderr",
     "output_type": "stream",
     "text": [
      "ld: warning: duplicate -rpath '/Users/lisepauwels/miniforge3/envs/xcoll/lib' ignored\n",
      "ld: warning: duplicate -rpath '/Users/lisepauwels/miniforge3/envs/xcoll/lib' ignored\n"
     ]
    },
    {
     "name": "stdout",
     "output_type": "stream",
     "text": [
      "Done compiling ContextCpu kernels.\n"
     ]
    },
    {
     "data": {
      "application/vnd.jupyter.widget-view+json": {
       "model_id": "fb8a930b45c8426f9b526640a7789deb",
       "version_major": 2,
       "version_minor": 0
      },
      "text/plain": [
       "Slicing line:   0%|          | 0/33114 [00:00<?, ?it/s]"
      ]
     },
     "metadata": {},
     "output_type": "display_data"
    },
    {
     "name": "stdout",
     "output_type": "stream",
     "text": [
      "Compiling ContextCpu kernels...\n"
     ]
    },
    {
     "name": "stderr",
     "output_type": "stream",
     "text": [
      "ld: warning: duplicate -rpath '/Users/lisepauwels/miniforge3/envs/xcoll/lib' ignored\n",
      "ld: warning: duplicate -rpath '/Users/lisepauwels/miniforge3/envs/xcoll/lib' ignored\n"
     ]
    },
    {
     "name": "stdout",
     "output_type": "stream",
     "text": [
      "Done compiling ContextCpu kernels.\n",
      "Compiling ContextCpu kernels...\n"
     ]
    },
    {
     "name": "stderr",
     "output_type": "stream",
     "text": [
      "ld: warning: duplicate -rpath '/Users/lisepauwels/miniforge3/envs/xcoll/lib' ignored\n",
      "ld: warning: duplicate -rpath '/Users/lisepauwels/miniforge3/envs/xcoll/lib' ignored\n"
     ]
    },
    {
     "name": "stdout",
     "output_type": "stream",
     "text": [
      "Done compiling ContextCpu kernels.\n",
      "Compiling ContextCpu kernels...\n"
     ]
    },
    {
     "name": "stderr",
     "output_type": "stream",
     "text": [
      "ld: warning: duplicate -rpath '/Users/lisepauwels/miniforge3/envs/xcoll/lib' ignored\n",
      "ld: warning: duplicate -rpath '/Users/lisepauwels/miniforge3/envs/xcoll/lib' ignored\n"
     ]
    },
    {
     "name": "stdout",
     "output_type": "stream",
     "text": [
      "Done compiling ContextCpu kernels.\n",
      "*** Maximum RMS bunch length 0.23610110213554208m.\n",
      "... distance to target bunch length: -2.2226e-01\n",
      "... distance to target bunch length: 5.5784e-03\n",
      "... distance to target bunch length: 5.2361e-03\n",
      "... distance to target bunch length: -6.3267e-03\n",
      "... distance to target bunch length: 1.9948e-03\n",
      "... distance to target bunch length: -3.8258e-04\n",
      "... distance to target bunch length: 5.3833e-05\n",
      "... distance to target bunch length: 1.2594e-06\n",
      "... distance to target bunch length: -1.0995e-10\n",
      "... distance to target bunch length: 1.2805e-07\n",
      "--> Bunch length: 0.2239999998900487\n",
      "--> Emittance: 0.30346637784307096\n"
     ]
    }
   ],
   "source": [
    "tidp = install_tidp(line)\n",
    "tw = line.twiss()\n",
    "part = xp.generate_matched_gaussian_bunch(nemitt_x=2e-6,\n",
    "                                          nemitt_y=2e-6,\n",
    "                                          sigma_z=0.224, num_particles=num_particles, line=line)"
   ]
  },
  {
   "cell_type": "code",
   "execution_count": 7,
   "id": "12d5bd39",
   "metadata": {},
   "outputs": [
    {
     "ename": "KeyboardInterrupt",
     "evalue": "",
     "output_type": "error",
     "traceback": [
      "\u001b[31m---------------------------------------------------------------------------\u001b[39m",
      "\u001b[31mKeyboardInterrupt\u001b[39m                         Traceback (most recent call last)",
      "\u001b[36mCell\u001b[39m\u001b[36m \u001b[39m\u001b[32mIn[7]\u001b[39m\u001b[32m, line 1\u001b[39m\n\u001b[32m----> \u001b[39m\u001b[32m1\u001b[39m rf_sweep = \u001b[43mxc\u001b[49m\u001b[43m.\u001b[49m\u001b[43mRFSweep\u001b[49m\u001b[43m(\u001b[49m\u001b[43mline\u001b[49m\u001b[43m)\u001b[49m\n\u001b[32m      2\u001b[39m rf_sweep.info(sweep=sweep, num_turns=num_turns)\n\u001b[32m      4\u001b[39m line.discard_tracker()\n",
      "\u001b[36mFile \u001b[39m\u001b[32m~/Xsuite/xcoll/xcoll/rf_sweep.py:18\u001b[39m, in \u001b[36mRFSweep.__init__\u001b[39m\u001b[34m(self, line)\u001b[39m\n\u001b[32m     16\u001b[39m \u001b[38;5;28mself\u001b[39m.line = line\n\u001b[32m     17\u001b[39m \u001b[38;5;28mself\u001b[39m._get_base_frequency()\n\u001b[32m---> \u001b[39m\u001b[32m18\u001b[39m \u001b[38;5;28;43mself\u001b[39;49m\u001b[43m.\u001b[49m\u001b[43m_install_zeta_shift\u001b[49m\u001b[43m(\u001b[49m\u001b[43m)\u001b[49m\n\u001b[32m     19\u001b[39m \u001b[38;5;28mself\u001b[39m.reset()\n",
      "\u001b[36mFile \u001b[39m\u001b[32m~/Xsuite/xcoll/xcoll/rf_sweep.py:48\u001b[39m, in \u001b[36mRFSweep._install_zeta_shift\u001b[39m\u001b[34m(self)\u001b[39m\n\u001b[32m     46\u001b[39m \u001b[38;5;28mself\u001b[39m.line.insert_element(element=xt.ZetaShift(dzeta=\u001b[32m0\u001b[39m), name=\u001b[33m'\u001b[39m\u001b[33mrf_sweep\u001b[39m\u001b[33m'\u001b[39m, at_s=s_cav)\n\u001b[32m     47\u001b[39m \u001b[38;5;28;01mif\u001b[39;00m line_was_built:\n\u001b[32m---> \u001b[39m\u001b[32m48\u001b[39m     \u001b[38;5;28;43mself\u001b[39;49m\u001b[43m.\u001b[49m\u001b[43mline\u001b[49m\u001b[43m.\u001b[49m\u001b[43mbuild_tracker\u001b[49m\u001b[43m(\u001b[49m\u001b[43m)\u001b[49m\n",
      "\u001b[36mFile \u001b[39m\u001b[32m~/miniforge3/envs/xcoll/lib/python3.13/site-packages/xtrack/line.py:952\u001b[39m, in \u001b[36mLine.build_tracker\u001b[39m\u001b[34m(self, _context, _buffer, compile, io_buffer, use_prebuilt_kernels, enable_pipeline_hold, **kwargs)\u001b[39m\n\u001b[32m    948\u001b[39m \u001b[38;5;28;01mif\u001b[39;00m (\u001b[38;5;28mlen\u001b[39m(\u001b[38;5;28mself\u001b[39m.element_names) == \u001b[32m0\u001b[39m \u001b[38;5;129;01mand\u001b[39;00m \u001b[38;5;28mhasattr\u001b[39m(\u001b[38;5;28mself\u001b[39m, \u001b[33m'\u001b[39m\u001b[33mbuilder\u001b[39m\u001b[33m'\u001b[39m)\n\u001b[32m    949\u001b[39m     \u001b[38;5;129;01mand\u001b[39;00m \u001b[38;5;28mself\u001b[39m.builder \u001b[38;5;129;01mis\u001b[39;00m \u001b[38;5;129;01mnot\u001b[39;00m \u001b[38;5;28;01mNone\u001b[39;00m):\n\u001b[32m    950\u001b[39m     \u001b[38;5;28mself\u001b[39m.rebuild()\n\u001b[32m--> \u001b[39m\u001b[32m952\u001b[39m \u001b[38;5;28mself\u001b[39m.tracker = \u001b[43mxt\u001b[49m\u001b[43m.\u001b[49m\u001b[43mTracker\u001b[49m\u001b[43m(\u001b[49m\n\u001b[32m    953\u001b[39m \u001b[43m                        \u001b[49m\u001b[43mline\u001b[49m\u001b[43m=\u001b[49m\u001b[38;5;28;43mself\u001b[39;49m\u001b[43m,\u001b[49m\n\u001b[32m    954\u001b[39m \u001b[43m                        \u001b[49m\u001b[43m_context\u001b[49m\u001b[43m=\u001b[49m\u001b[43m_context\u001b[49m\u001b[43m,\u001b[49m\n\u001b[32m    955\u001b[39m \u001b[43m                        \u001b[49m\u001b[43m_buffer\u001b[49m\u001b[43m=\u001b[49m\u001b[43m_buffer\u001b[49m\u001b[43m,\u001b[49m\n\u001b[32m    956\u001b[39m \u001b[43m                        \u001b[49m\u001b[38;5;28;43mcompile\u001b[39;49m\u001b[43m=\u001b[49m\u001b[38;5;28;43mcompile\u001b[39;49m\u001b[43m,\u001b[49m\n\u001b[32m    957\u001b[39m \u001b[43m                        \u001b[49m\u001b[43mio_buffer\u001b[49m\u001b[43m=\u001b[49m\u001b[43mio_buffer\u001b[49m\u001b[43m,\u001b[49m\n\u001b[32m    958\u001b[39m \u001b[43m                        \u001b[49m\u001b[43muse_prebuilt_kernels\u001b[49m\u001b[43m=\u001b[49m\u001b[43muse_prebuilt_kernels\u001b[49m\u001b[43m,\u001b[49m\n\u001b[32m    959\u001b[39m \u001b[43m                        \u001b[49m\u001b[43menable_pipeline_hold\u001b[49m\u001b[43m=\u001b[49m\u001b[43menable_pipeline_hold\u001b[49m\u001b[43m,\u001b[49m\n\u001b[32m    960\u001b[39m \u001b[43m                        \u001b[49m\u001b[43m*\u001b[49m\u001b[43m*\u001b[49m\u001b[43mkwargs\u001b[49m\u001b[43m)\u001b[49m\n\u001b[32m    962\u001b[39m \u001b[38;5;28;01mif\u001b[39;00m \u001b[38;5;28mhasattr\u001b[39m(\u001b[38;5;28mself\u001b[39m, \u001b[33m'\u001b[39m\u001b[33menv\u001b[39m\u001b[33m'\u001b[39m) \u001b[38;5;129;01mand\u001b[39;00m \u001b[38;5;28mself\u001b[39m.env \u001b[38;5;129;01mis\u001b[39;00m \u001b[38;5;129;01mnot\u001b[39;00m \u001b[38;5;28;01mNone\u001b[39;00m:\n\u001b[32m    963\u001b[39m     \u001b[38;5;28mself\u001b[39m.env._ensure_tracker_consistency(buffer=\u001b[38;5;28mself\u001b[39m._buffer)\n",
      "\u001b[36mFile \u001b[39m\u001b[32m~/miniforge3/envs/xcoll/lib/python3.13/site-packages/xtrack/tracker.py:120\u001b[39m, in \u001b[36mTracker.__init__\u001b[39m\u001b[34m(self, _context, _buffer, line, compile, io_buffer, use_prebuilt_kernels, enable_pipeline_hold, track_kernel, particles_monitor_class, extra_headers, local_particle_src, _prebuilding_kernels)\u001b[39m\n\u001b[32m    108\u001b[39m tracker_data_base = TrackerData(\n\u001b[32m    109\u001b[39m     allow_move=\u001b[38;5;28;01mTrue\u001b[39;00m, \u001b[38;5;66;03m# Will move elements to the same buffer\u001b[39;00m\n\u001b[32m    110\u001b[39m     element_dict=ele_dict_non_collective,\n\u001b[32m   (...)\u001b[39m\u001b[32m    117\u001b[39m     _buffer=_buffer,\n\u001b[32m    118\u001b[39m     _no_resolve_parents=_prebuilding_kernels)\n\u001b[32m    119\u001b[39m \u001b[38;5;28;01mif\u001b[39;00m \u001b[38;5;129;01mnot\u001b[39;00m _prebuilding_kernels:\n\u001b[32m--> \u001b[39m\u001b[32m120\u001b[39m     tracker_data_base._line_table = \u001b[43mline\u001b[49m\u001b[43m.\u001b[49m\u001b[43mget_table\u001b[49m\u001b[43m(\u001b[49m\u001b[43m)\u001b[49m\n\u001b[32m    121\u001b[39m     tracker_data_base._element_names_unique = \u001b[38;5;28mtuple\u001b[39m(\n\u001b[32m    122\u001b[39m             tracker_data_base._line_table.name[:-\u001b[32m1\u001b[39m]) \u001b[38;5;66;03m# remove _endpoint\u001b[39;00m\n\u001b[32m    123\u001b[39m line._freeze()\n",
      "\u001b[36mFile \u001b[39m\u001b[32m~/miniforge3/envs/xcoll/lib/python3.13/site-packages/xtrack/line.py:767\u001b[39m, in \u001b[36mLine.get_table\u001b[39m\u001b[34m(self, attr)\u001b[39m\n\u001b[32m    765\u001b[39m \u001b[38;5;28;01mdef\u001b[39;00m\u001b[38;5;250m \u001b[39m\u001b[34mget_table\u001b[39m(\u001b[38;5;28mself\u001b[39m, attr=\u001b[38;5;28;01mFalse\u001b[39;00m):\n\u001b[32m--> \u001b[39m\u001b[32m767\u001b[39m     data = \u001b[38;5;28;43mself\u001b[39;49m\u001b[43m.\u001b[49m\u001b[43m_to_table_dict\u001b[49m\u001b[43m(\u001b[49m\u001b[43m)\u001b[49m\n\u001b[32m    768\u001b[39m     data.pop(\u001b[33m'\u001b[39m\u001b[33melement\u001b[39m\u001b[33m'\u001b[39m)\n\u001b[32m    770\u001b[39m     \u001b[38;5;28;01mif\u001b[39;00m attr:\n",
      "\u001b[36mFile \u001b[39m\u001b[32m~/miniforge3/envs/xcoll/lib/python3.13/site-packages/xtrack/line.py:729\u001b[39m, in \u001b[36mLine._to_table_dict\u001b[39m\u001b[34m(self)\u001b[39m\n\u001b[32m    727\u001b[39m isthick = np.array(isthick + [\u001b[38;5;28;01mFalse\u001b[39;00m])\n\u001b[32m    728\u001b[39m iscollective = np.array(iscollective + [\u001b[38;5;28;01mFalse\u001b[39;00m])\n\u001b[32m--> \u001b[39m\u001b[32m729\u001b[39m isreplica = \u001b[43mnp\u001b[49m\u001b[43m.\u001b[49m\u001b[43marray\u001b[49m\u001b[43m(\u001b[49m\u001b[43misreplica\u001b[49m\u001b[43m \u001b[49m\u001b[43m+\u001b[49m\u001b[43m \u001b[49m\u001b[43m[\u001b[49m\u001b[38;5;28;43;01mFalse\u001b[39;49;00m\u001b[43m]\u001b[49m\u001b[43m)\u001b[49m\n\u001b[32m    730\u001b[39m element_types = np.array(element_types + [\u001b[33m'\u001b[39m\u001b[33m'\u001b[39m])\n\u001b[32m    731\u001b[39m parent_name = np.array(parent_name + [\u001b[38;5;28;01mNone\u001b[39;00m])\n",
      "\u001b[31mKeyboardInterrupt\u001b[39m: "
     ]
    }
   ],
   "source": [
    "rf_sweep = xc.RFSweep(line)\n",
    "rf_sweep.info(sweep=sweep, num_turns=num_turns)\n",
    "\n",
    "line.discard_tracker()\n",
    "line.build_tracker(_context=xo.ContextCpu(omp_num_threads='auto'))\n",
    "line.scattering.enable()\n",
    "rf_sweep.track(sweep=sweep, particles=part, num_turns=num_turns, time=True, with_progress=True)\n",
    "line.scattering.disable()"
   ]
  },
  {
   "cell_type": "code",
   "execution_count": null,
   "id": "1a74d659",
   "metadata": {},
   "outputs": [
    {
     "data": {
      "text/plain": [
       "(array([   0, 3785]), array([139, 861]))"
      ]
     },
     "execution_count": 18,
     "metadata": {},
     "output_type": "execute_result"
    }
   ],
   "source": [
    "np.unique(part.at_element, return_counts=True)"
   ]
  },
  {
   "cell_type": "code",
   "execution_count": null,
   "id": "a800149c",
   "metadata": {},
   "outputs": [
    {
     "data": {
      "text/plain": [
       "View of LimitEllipse(a=0.038, b=0.038)"
      ]
     },
     "execution_count": 12,
     "metadata": {},
     "output_type": "execute_result"
    }
   ],
   "source": [
    "line[3785]"
   ]
  },
  {
   "cell_type": "code",
   "execution_count": null,
   "id": "d5e61136",
   "metadata": {},
   "outputs": [
    {
     "data": {
      "text/plain": [
       "'bpcn.12508.a_aper'"
      ]
     },
     "execution_count": 13,
     "metadata": {},
     "output_type": "execute_result"
    }
   ],
   "source": [
    "line.element_names[3785]"
   ]
  },
  {
   "cell_type": "markdown",
   "id": "568a9ea3",
   "metadata": {},
   "source": [
    "I tried the more aggressive and less aggressive radial steering, both loose on the same location ('bpcn.12508.a_aper'). The other line seem to have another loss location that is completely hidden by this one with the orbit distorsion"
   ]
  },
  {
   "cell_type": "code",
   "execution_count": null,
   "id": "67750578",
   "metadata": {},
   "outputs": [
    {
     "data": {
      "text/plain": [
       "np.float64(799.5901999999999)"
      ]
     },
     "execution_count": 19,
     "metadata": {},
     "output_type": "execute_result"
    }
   ],
   "source": [
    "line.get_s_position('bpcn.12508.a_aper')"
   ]
  },
  {
   "cell_type": "markdown",
   "id": "66b6fe64",
   "metadata": {},
   "source": [
    "# Putting two loss locations out to see where we start loosing elsewhere"
   ]
  },
  {
   "cell_type": "code",
   "execution_count": 8,
   "id": "2a56ccf5",
   "metadata": {},
   "outputs": [
    {
     "data": {
      "application/vnd.jupyter.widget-view+json": {
       "model_id": "3c29500dcfb645d49eb97f427b4b9b71",
       "version_major": 2,
       "version_minor": 0
      },
      "text/plain": [
       "Loading line from dict:   0%|          | 0/36404 [00:00<?, ?it/s]"
      ]
     },
     "metadata": {},
     "output_type": "display_data"
    },
    {
     "name": "stdout",
     "output_type": "stream",
     "text": [
      "Done loading line from dict.           \n",
      "Compiling ContextCpu kernels...\n"
     ]
    },
    {
     "name": "stderr",
     "output_type": "stream",
     "text": [
      "ld: warning: duplicate -rpath '/Users/lisepauwels/miniforge3/envs/xcoll/lib' ignored\n",
      "ld: warning: duplicate -rpath '/Users/lisepauwels/miniforge3/envs/xcoll/lib' ignored\n"
     ]
    },
    {
     "name": "stdout",
     "output_type": "stream",
     "text": [
      "Done compiling ContextCpu kernels.\n",
      "Compiling ContextCpu kernels...\n"
     ]
    },
    {
     "name": "stderr",
     "output_type": "stream",
     "text": [
      "ld: warning: duplicate -rpath '/Users/lisepauwels/miniforge3/envs/xcoll/lib' ignored\n",
      "ld: warning: duplicate -rpath '/Users/lisepauwels/miniforge3/envs/xcoll/lib' ignored\n"
     ]
    },
    {
     "name": "stdout",
     "output_type": "stream",
     "text": [
      "Done compiling ContextCpu kernels.\n"
     ]
    }
   ],
   "source": [
    "line = xt.Line.from_json('../injection_lines/sps_with_aperture_inj_q20_beam_sagitta5.json')\n",
    "\n",
    "line.vars['qph_setvalue'] = 0.5\n",
    "line.vars['qpv_setvalue'] = 0.5\n",
    "line.vars['qh_setvalue'] = line.vars['qx0']._value + 0.05\n",
    "line.vars['qv_setvalue'] = line.vars['qy0']._value + 0.05\n",
    "\n",
    "\n",
    "cavity_elements, cavity_names = line.get_elements_of_type(xt.Cavity)\n",
    "\n",
    "for name in cavity_names:\n",
    "    line[name].frequency = 200e6\n",
    "    line[name].lag = 180\n",
    "line['acl.31735'].voltage = 0 #setting 800 cav to 0V\n",
    "line['actcse.31632'].voltage = 3.0e6\n",
    "\n",
    "tt = line.get_table()\n",
    "tw = line.twiss()"
   ]
  },
  {
   "cell_type": "code",
   "execution_count": 9,
   "id": "f719d47f",
   "metadata": {},
   "outputs": [],
   "source": [
    "context = xo.ContextCpu()\n",
    "\n",
    "aperture_mvt = 3e-3\n",
    "\n",
    "num_particles  = 1000\n",
    "plane = 'DPneg'\n",
    "sweep = 6000\n",
    "sweep = -abs(sweep) if plane == 'DPpos' else abs(sweep)\n",
    "num_turns = 6000"
   ]
  },
  {
   "cell_type": "code",
   "execution_count": 10,
   "id": "d4ca370d",
   "metadata": {},
   "outputs": [],
   "source": [
    "# Changing apertures of loss locations\n",
    "line['bpcn.12508.a_aper'].a += aperture_mvt\n",
    "line['bpcn.12508.b_aper'].a += aperture_mvt\n",
    "line['bpcn.61108.a_aper'].a += aperture_mvt\n",
    "line['bpcn.61108.b_aper'].a += aperture_mvt"
   ]
  },
  {
   "cell_type": "code",
   "execution_count": 11,
   "id": "7994d611",
   "metadata": {},
   "outputs": [
    {
     "data": {
      "application/vnd.jupyter.widget-view+json": {
       "model_id": "78af821c5efd47ab9e4e9740b5b3a1e5",
       "version_major": 2,
       "version_minor": 0
      },
      "text/plain": [
       "Slicing line:   0%|          | 0/33012 [00:00<?, ?it/s]"
      ]
     },
     "metadata": {},
     "output_type": "display_data"
    },
    {
     "name": "stdout",
     "output_type": "stream",
     "text": [
      "Compiling ContextCpu kernels...\n"
     ]
    },
    {
     "name": "stderr",
     "output_type": "stream",
     "text": [
      "ld: warning: duplicate -rpath '/Users/lisepauwels/miniforge3/envs/xcoll/lib' ignored\n",
      "ld: warning: duplicate -rpath '/Users/lisepauwels/miniforge3/envs/xcoll/lib' ignored\n"
     ]
    },
    {
     "name": "stdout",
     "output_type": "stream",
     "text": [
      "Done compiling ContextCpu kernels.\n",
      "Compiling ContextCpu kernels...\n"
     ]
    },
    {
     "name": "stderr",
     "output_type": "stream",
     "text": [
      "ld: warning: duplicate -rpath '/Users/lisepauwels/miniforge3/envs/xcoll/lib' ignored\n",
      "ld: warning: duplicate -rpath '/Users/lisepauwels/miniforge3/envs/xcoll/lib' ignored\n"
     ]
    },
    {
     "name": "stdout",
     "output_type": "stream",
     "text": [
      "Done compiling ContextCpu kernels.\n",
      "*** Maximum RMS bunch length 0.23610110213554214m.\n",
      "... distance to target bunch length: -2.2226e-01\n",
      "... distance to target bunch length: 5.5784e-03\n",
      "... distance to target bunch length: 5.2361e-03\n",
      "... distance to target bunch length: -6.3267e-03\n",
      "... distance to target bunch length: 1.9948e-03\n",
      "... distance to target bunch length: -3.8258e-04\n",
      "... distance to target bunch length: 5.3833e-05\n",
      "... distance to target bunch length: 1.2594e-06\n",
      "... distance to target bunch length: -1.0995e-10\n",
      "... distance to target bunch length: 1.2805e-07\n",
      "--> Bunch length: 0.22399999989004873\n",
      "--> Emittance: 0.28106907515669655\n"
     ]
    }
   ],
   "source": [
    "tidp = install_tidp(line)\n",
    "tt = line.get_table()\n",
    "tw = line.twiss()\n",
    "part = xp.generate_matched_gaussian_bunch(nemitt_x=2e-6,\n",
    "                                          nemitt_y=2e-6,\n",
    "                                          sigma_z=0.224, num_particles=num_particles, line=line)"
   ]
  },
  {
   "cell_type": "code",
   "execution_count": 12,
   "id": "bd52cef3",
   "metadata": {},
   "outputs": [
    {
     "name": "stdout",
     "output_type": "stream",
     "text": [
      "Compiling ContextCpu kernels...\n"
     ]
    },
    {
     "name": "stderr",
     "output_type": "stream",
     "text": [
      "ld: warning: duplicate -rpath '/Users/lisepauwels/miniforge3/envs/xcoll/lib' ignored\n",
      "ld: warning: duplicate -rpath '/Users/lisepauwels/miniforge3/envs/xcoll/lib' ignored\n"
     ]
    },
    {
     "name": "stdout",
     "output_type": "stream",
     "text": [
      "Done compiling ContextCpu kernels.\n",
      "Compiling ContextCpu kernels...\n"
     ]
    },
    {
     "name": "stderr",
     "output_type": "stream",
     "text": [
      "ld: warning: duplicate -rpath '/Users/lisepauwels/miniforge3/envs/xcoll/lib' ignored\n",
      "ld: warning: duplicate -rpath '/Users/lisepauwels/miniforge3/envs/xcoll/lib' ignored\n"
     ]
    },
    {
     "name": "stdout",
     "output_type": "stream",
     "text": [
      "Done compiling ContextCpu kernels.\n",
      "The current frequency is 200000000.0Hz, adding 1.0Hz per turn until 200006000.0 (for 6000 turns).\n",
      "This sweep will move the center of the bucket with Δδ = -0.016896947679657257 (-2.81975385240468 buckets).\n",
      "Compiling ContextCpu kernels...\n"
     ]
    },
    {
     "name": "stderr",
     "output_type": "stream",
     "text": [
      "ld: warning: duplicate -rpath '/Users/lisepauwels/miniforge3/envs/xcoll/lib' ignored\n",
      "ld: warning: duplicate -rpath '/Users/lisepauwels/miniforge3/envs/xcoll/lib' ignored\n"
     ]
    },
    {
     "name": "stdout",
     "output_type": "stream",
     "text": [
      "Done compiling ContextCpu kernels.\n"
     ]
    },
    {
     "data": {
      "application/vnd.jupyter.widget-view+json": {
       "model_id": "d7c4bf349c9444aeb67d94d2d8edd8b7",
       "version_major": 2,
       "version_minor": 0
      },
      "text/plain": [
       "Tracking:   0%|          | 0/6000 [00:00<?, ?it/s]"
      ]
     },
     "metadata": {},
     "output_type": "display_data"
    }
   ],
   "source": [
    "rf_sweep = xc.RFSweep(line)\n",
    "rf_sweep.info(sweep=sweep, num_turns=num_turns)\n",
    "\n",
    "line.discard_tracker()\n",
    "line.build_tracker(_context=xo.ContextCpu(omp_num_threads='auto'))\n",
    "line.scattering.enable()\n",
    "rf_sweep.track(sweep=sweep, particles=part, num_turns=num_turns, time=True, with_progress=True)\n",
    "line.scattering.disable()"
   ]
  },
  {
   "cell_type": "code",
   "execution_count": null,
   "id": "be316f94",
   "metadata": {},
   "outputs": [],
   "source": [
    "part.to_json('test.json')"
   ]
  },
  {
   "cell_type": "markdown",
   "id": "8242a904",
   "metadata": {},
   "source": [
    "# 1mm open"
   ]
  },
  {
   "cell_type": "code",
   "execution_count": null,
   "id": "361849ef",
   "metadata": {},
   "outputs": [],
   "source": [
    "idxs, counts = np.unique(part.at_element, return_counts=True)"
   ]
  },
  {
   "cell_type": "code",
   "execution_count": null,
   "id": "9e5d8643",
   "metadata": {},
   "outputs": [
    {
     "name": "stdout",
     "output_type": "stream",
     "text": [
      "sps$start: 2 particles lost\n",
      "vcak.12501.a_aper: 2 particles lost\n",
      "bpcn.12508.a_aper: 961 particles lost\n",
      "vcak.22501.a_aper: 5 particles lost\n",
      "vcak.32501.a_aper: 2 particles lost\n",
      "vcak.52501.a_aper: 19 particles lost\n",
      "bpcn.61108.a_aper: 7 particles lost\n",
      "vcak.62501.a_aper: 2 particles lost\n"
     ]
    }
   ],
   "source": [
    "for idx in idxs:\n",
    "    print(f'{line.element_names[idx]}: {counts[np.where(idxs == idx)[0][0]]} particles lost')"
   ]
  },
  {
   "cell_type": "markdown",
   "id": "1c6d4e7e",
   "metadata": {},
   "source": [
    "# 2mm open"
   ]
  },
  {
   "cell_type": "code",
   "execution_count": null,
   "id": "eea83cb5",
   "metadata": {},
   "outputs": [],
   "source": [
    "idxs, counts = np.unique(part.at_element, return_counts=True)"
   ]
  },
  {
   "cell_type": "code",
   "execution_count": null,
   "id": "19b40288",
   "metadata": {},
   "outputs": [
    {
     "name": "stdout",
     "output_type": "stream",
     "text": [
      "sps$start: 1 particles lost\n",
      "vcak.12501.a_aper: 107 particles lost\n",
      "bpcn.12508.a_aper: 383 particles lost\n",
      "vcak.22501.a_aper: 70 particles lost\n",
      "vcak.32501.a_aper: 177 particles lost\n",
      "vcak.42501.a_aper: 31 particles lost\n",
      "vcak.52501.a_aper: 180 particles lost\n",
      "vcak.62501.a_aper: 51 particles lost\n"
     ]
    }
   ],
   "source": [
    "for idx in idxs:\n",
    "    print(f'{line.element_names[idx]}: {counts[np.where(idxs == idx)[0][0]]} particles lost')"
   ]
  },
  {
   "cell_type": "markdown",
   "id": "58c1354c",
   "metadata": {},
   "source": [
    "# 3mm open"
   ]
  },
  {
   "cell_type": "code",
   "execution_count": 13,
   "id": "dc4662d5",
   "metadata": {},
   "outputs": [],
   "source": [
    "idxs, counts = np.unique(part.at_element, return_counts=True)"
   ]
  },
  {
   "cell_type": "code",
   "execution_count": 14,
   "id": "62e022b3",
   "metadata": {},
   "outputs": [
    {
     "name": "stdout",
     "output_type": "stream",
     "text": [
      "sps$start: 1 particles lost\n",
      "vcak.12501.a_aper: 151 particles lost\n",
      "vcak.22501.a_aper: 86 particles lost\n",
      "vcak.32501.a_aper: 269 particles lost\n",
      "vcak.42501.a_aper: 194 particles lost\n",
      "vcak.52501.a_aper: 204 particles lost\n",
      "vcak.62501.a_aper: 95 particles lost\n"
     ]
    }
   ],
   "source": [
    "for idx in idxs:\n",
    "    print(f'{line.element_names[idx]}: {counts[np.where(idxs == idx)[0][0]]} particles lost')"
   ]
  },
  {
   "cell_type": "code",
   "execution_count": 19,
   "id": "7e2e9aae",
   "metadata": {},
   "outputs": [
    {
     "name": "stdout",
     "output_type": "stream",
     "text": [
      "Performing the aperture losses refinement.\n",
      "Compiling ContextCpu kernels...\n"
     ]
    },
    {
     "name": "stderr",
     "output_type": "stream",
     "text": [
      "ld: warning: duplicate -rpath '/Users/lisepauwels/miniforge3/envs/xcoll/lib' ignored\n",
      "ld: warning: duplicate -rpath '/Users/lisepauwels/miniforge3/envs/xcoll/lib' ignored\n"
     ]
    },
    {
     "name": "stdout",
     "output_type": "stream",
     "text": [
      "Done compiling ContextCpu kernels.\n"
     ]
    }
   ],
   "source": [
    "ThisLM = xc.LossMap(line, line_is_reversed=False, part=part)\n",
    "ThisLM.to_json(file='test.json')"
   ]
  },
  {
   "cell_type": "code",
   "execution_count": 20,
   "id": "a240beec",
   "metadata": {},
   "outputs": [
    {
     "data": {
      "image/png": "[encoded data removed]",
      "text/plain": [
       "<Figure size 1600x400 with 1 Axes>"
      ]
     },
     "metadata": {},
     "output_type": "display_data"
    },
    {
     "data": {
      "text/plain": [
       "(<Figure size 1600x400 with 1 Axes>,\n",
       " <Axes: xlabel='s [m]', ylabel='Norm. inefficiency [1/m]'>)"
      ]
     },
     "execution_count": 20,
     "metadata": {},
     "output_type": "execute_result"
    }
   ],
   "source": [
    "ThisLM.plot()"
   ]
  },
  {
   "cell_type": "code",
   "execution_count": 21,
   "id": "3bb373d5",
   "metadata": {},
   "outputs": [],
   "source": [
    "LM2 = xc.LossMap.from_json('test.json')"
   ]
  },
  {
   "cell_type": "code",
   "execution_count": 22,
   "id": "69035529",
   "metadata": {},
   "outputs": [
    {
     "data": {
      "image/png": "[encoded data removed]",
      "text/plain": [
       "<Figure size 1600x400 with 1 Axes>"
      ]
     },
     "metadata": {},
     "output_type": "display_data"
    },
    {
     "data": {
      "text/plain": [
       "(<Figure size 1600x400 with 1 Axes>,\n",
       " <Axes: xlabel='s [m]', ylabel='Norm. inefficiency [1/m]'>)"
      ]
     },
     "execution_count": 22,
     "metadata": {},
     "output_type": "execute_result"
    }
   ],
   "source": [
    "LM2.plot()"
   ]
  },
  {
   "cell_type": "code",
   "execution_count": null,
   "id": "35e93fcd",
   "metadata": {},
   "outputs": [],
   "source": [
    "LM2 = xc.LossMap"
   ]
  },
  {
   "cell_type": "code",
   "execution_count": 16,
   "id": "c48f75f2",
   "metadata": {},
   "outputs": [
    {
     "name": "stdout",
     "output_type": "stream",
     "text": [
      "Warning: Packages pyspark or cern.nxcals are not installed. Data retrieval from NXCALS is not possible.\n",
      " If you are on SWAN and did not expect this warning, then restart and load the 'NXCals Pro' software stack.\n"
     ]
    }
   ],
   "source": [
    "import lossmaps as lm"
   ]
  },
  {
   "cell_type": "code",
   "execution_count": 17,
   "id": "88144f9d",
   "metadata": {},
   "outputs": [
    {
     "name": "stdout",
     "output_type": "stream",
     "text": [
      "Warning: Did not find warm regions for machine SPS. All aperture losses will default to warm losses.\n"
     ]
    },
    {
     "ename": "KeyError",
     "evalue": "'s'",
     "output_type": "error",
     "traceback": [
      "\u001b[31m---------------------------------------------------------------------------\u001b[39m",
      "\u001b[31mKeyError\u001b[39m                                  Traceback (most recent call last)",
      "\u001b[36mCell\u001b[39m\u001b[36m \u001b[39m\u001b[32mIn[17]\u001b[39m\u001b[32m, line 2\u001b[39m\n\u001b[32m      1\u001b[39m ThisLM = lm.SimulatedLossMap(lmtype=lm.LMType.B1H, machine=lm.Machine.SPS)\n\u001b[32m----> \u001b[39m\u001b[32m2\u001b[39m \u001b[43mThisLM\u001b[49m\u001b[43m.\u001b[49m\u001b[43mload_data_json\u001b[49m\u001b[43m(\u001b[49m\u001b[43mjson_files\u001b[49m\u001b[43m=\u001b[49m\u001b[43m[\u001b[49m\u001b[33;43m'\u001b[39;49m\u001b[33;43mtest.json\u001b[39;49m\u001b[33;43m'\u001b[39;49m\u001b[43m]\u001b[49m\u001b[43m)\u001b[49m\n",
      "\u001b[36mFile \u001b[39m\u001b[32m~/lossmaps/lossmaps/lossmap.py:758\u001b[39m, in \u001b[36mSimulatedLossMap.load_data_json\u001b[39m\u001b[34m(self, json_files, cycle_aperture_from, warm_regions, ignore)\u001b[39m\n\u001b[32m    756\u001b[39m \u001b[38;5;28;01mwith\u001b[39;00m \u001b[38;5;28mopen\u001b[39m(file, \u001b[33m'\u001b[39m\u001b[33mr\u001b[39m\u001b[33m'\u001b[39m) \u001b[38;5;28;01mas\u001b[39;00m fid:\n\u001b[32m    757\u001b[39m     thisdict = json.load(fid)\n\u001b[32m--> \u001b[39m\u001b[32m758\u001b[39m aper_dict[\u001b[33m'\u001b[39m\u001b[33ms\u001b[39m\u001b[33m'\u001b[39m]    += \u001b[43mthisdict\u001b[49m\u001b[43m[\u001b[49m\u001b[33;43m'\u001b[39;49m\u001b[33;43maperture\u001b[39;49m\u001b[33;43m'\u001b[39;49m\u001b[43m]\u001b[49m\u001b[43m[\u001b[49m\u001b[33;43m'\u001b[39;49m\u001b[33;43ms\u001b[39;49m\u001b[33;43m'\u001b[39;49m\u001b[43m]\u001b[49m\n\u001b[32m    759\u001b[39m aper_dict[\u001b[33m'\u001b[39m\u001b[33mname\u001b[39m\u001b[33m'\u001b[39m] += thisdict[\u001b[33m'\u001b[39m\u001b[33maperture\u001b[39m\u001b[33m'\u001b[39m][\u001b[33m'\u001b[39m\u001b[33mname\u001b[39m\u001b[33m'\u001b[39m]\n\u001b[32m    760\u001b[39m \u001b[38;5;28;01mif\u001b[39;00m \u001b[33m'\u001b[39m\u001b[33mn\u001b[39m\u001b[33m'\u001b[39m \u001b[38;5;129;01min\u001b[39;00m thisdict[\u001b[33m'\u001b[39m\u001b[33maperture\u001b[39m\u001b[33m'\u001b[39m].keys():\n",
      "\u001b[31mKeyError\u001b[39m: 's'"
     ]
    }
   ],
   "source": [
    "ThisLM = lm.SimulatedLossMap(lmtype=lm.LMType.B1H, machine=lm.Machine.SPS)\n",
    "ThisLM.load_data_json(json_files=['test.json'])"
   ]
  },
  {
   "cell_type": "code",
   "execution_count": 23,
   "id": "cab74795",
   "metadata": {},
   "outputs": [
    {
     "data": {
      "application/vnd.jupyter.widget-view+json": {
       "model_id": "b5e8668e3db34d54854bc72e5245dd3d",
       "version_major": 2,
       "version_minor": 0
      },
      "text/plain": [
       "Loading line from dict:   0%|          | 0/36506 [00:00<?, ?it/s]"
      ]
     },
     "metadata": {},
     "output_type": "display_data"
    },
    {
     "name": "stdout",
     "output_type": "stream",
     "text": [
      "Done loading line from dict.           \n"
     ]
    }
   ],
   "source": [
    "line = xt.Line.from_json('../injection_lines/sps_orbit_md_20250616_v2.json')"
   ]
  },
  {
   "cell_type": "markdown",
   "id": "804e5e7c",
   "metadata": {},
   "source": []
  },
  {
   "cell_type": "code",
   "execution_count": 24,
   "id": "6717a493",
   "metadata": {},
   "outputs": [
    {
     "name": "stdout",
     "output_type": "stream",
     "text": [
      "Compiling ContextCpu kernels...\n"
     ]
    },
    {
     "name": "stderr",
     "output_type": "stream",
     "text": [
      "ld: warning: duplicate -rpath '/Users/lisepauwels/miniforge3/envs/xcoll/lib' ignored\n",
      "ld: warning: duplicate -rpath '/Users/lisepauwels/miniforge3/envs/xcoll/lib' ignored\n"
     ]
    },
    {
     "name": "stdout",
     "output_type": "stream",
     "text": [
      "Done compiling ContextCpu kernels.\n",
      "Compiling ContextCpu kernels...\n"
     ]
    },
    {
     "name": "stderr",
     "output_type": "stream",
     "text": [
      "ld: warning: duplicate -rpath '/Users/lisepauwels/miniforge3/envs/xcoll/lib' ignored\n",
      "ld: warning: duplicate -rpath '/Users/lisepauwels/miniforge3/envs/xcoll/lib' ignored\n"
     ]
    },
    {
     "name": "stdout",
     "output_type": "stream",
     "text": [
      "Done compiling ContextCpu kernels.\n"
     ]
    }
   ],
   "source": [
    "tw = line.twiss()"
   ]
  },
  {
   "cell_type": "code",
   "execution_count": 25,
   "id": "938c9c78",
   "metadata": {},
   "outputs": [
    {
     "data": {
      "text/plain": [
       "np.float64(27.643342389704696)"
      ]
     },
     "execution_count": 25,
     "metadata": {},
     "output_type": "execute_result"
    }
   ],
   "source": [
    "tw.gamma0"
   ]
  },
  {
   "cell_type": "code",
   "execution_count": 28,
   "id": "e071efec",
   "metadata": {},
   "outputs": [
    {
     "data": {
      "text/plain": [
       "np.float64(1099.9999939683914)"
      ]
     },
     "execution_count": 28,
     "metadata": {},
     "output_type": "execute_result"
    }
   ],
   "source": [
    "line.get_length()/(2*np.pi)"
   ]
  },
  {
   "cell_type": "code",
   "execution_count": null,
   "id": "38accc2b",
   "metadata": {},
   "outputs": [],
   "source": []
  }
 ],
 "metadata": {
  "kernelspec": {
   "display_name": "xcoll",
   "language": "python",
   "name": "python3"
  },
  "language_info": {
   "codemirror_mode": {
    "name": "ipython",
    "version": 3
   },
   "file_extension": ".py",
   "mimetype": "text/x-python",
   "name": "python",
   "nbconvert_exporter": "python",
   "pygments_lexer": "ipython3",
   "version": "3.13.3"
  }
 },
 "nbformat": 4,
 "nbformat_minor": 5
}
