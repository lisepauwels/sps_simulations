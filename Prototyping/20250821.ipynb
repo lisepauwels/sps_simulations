{
 "cells": [
  {
   "cell_type": "code",
   "execution_count": 17,
   "id": "e41b8be9",
   "metadata": {},
   "outputs": [],
   "source": [
    "import numpy as np\n",
    "import matplotlib.pyplot as plt\n",
    "import xtrack as xt\n",
    "import xpart as xp\n",
    "import xcoll as xc\n",
    "import xobjects as xo"
   ]
  },
  {
   "cell_type": "markdown",
   "id": "73c788d9",
   "metadata": {},
   "source": [
    "# Preparing statistics for ht condor simulation distorted line"
   ]
  },
  {
   "cell_type": "code",
   "execution_count": 16,
   "id": "fa092b41",
   "metadata": {},
   "outputs": [],
   "source": [
    "def get_straight_line(t, t1, r1, t2, r2):\n",
    "    alpha = (r2 - r1) / (t2 - t1)\n",
    "    return r1 + alpha * (t - t1)"
   ]
  },
  {
   "cell_type": "code",
   "execution_count": 21,
   "id": "712362bc",
   "metadata": {},
   "outputs": [],
   "source": [
    "def insert_monitor_bpms(line, num_turns, num_particles):\n",
    "    tt = line.get_table()\n",
    "    bph_list = tt.rows['bph.*..0'].name\n",
    "    env = line.env\n",
    "    insertions = []\n",
    "    monitors_elems = []\n",
    "    monitorBPM_names = []\n",
    "    for name in bph_list:\n",
    "        monitorBPM_names.append(name.split('.')[0] + '.' + name.split('.')[1])\n",
    "\n",
    "        monitors_elems.append(xt.ParticlesMonitor(_context=line._context, \n",
    "                                                            num_particles=num_particles, \n",
    "                                                            start_at_turn=0, \n",
    "                                                            stop_at_turn=num_turns+1))\n",
    "        env.elements[f'{name}_monitor'] = monitors_elems[-1]\n",
    "        insertions.append(env.place(f'{name}_monitor', at=line.get_s_position(name)))\n",
    "    line.insert(insertions, s_tol=1e-6)\n",
    "    return np.array(monitorBPM_names), monitors_elems\n",
    "\n",
    "def install_tidp(line, block_mvt=29e-3):\n",
    "    tidp_ap_tot = 147e-3\n",
    "    line.discard_tracker()\n",
    "    tidp = xc.EverestCollimator(length=4.3, material=xc.materials.Carbon, jaw_L= tidp_ap_tot/2 + block_mvt, jaw_R = -tidp_ap_tot/2 + block_mvt)\n",
    "    line.collimators.install(names=['tidp.11434'], elements=[tidp])\n",
    "    return tidp"
   ]
  },
  {
   "cell_type": "code",
   "execution_count": 24,
   "id": "0ae95d8d",
   "metadata": {},
   "outputs": [
    {
     "data": {
      "application/vnd.jupyter.widget-view+json": {
       "model_id": "0c32b1bff85841c2b5dc978967dd422e",
       "version_major": 2,
       "version_minor": 0
      },
      "text/plain": [
       "Loading line from dict:   0%|          | 0/36506 [00:00<?, ?it/s]"
      ]
     },
     "metadata": {},
     "output_type": "display_data"
    },
    {
     "name": "stdout",
     "output_type": "stream",
     "text": [
      "Done loading line from dict.           \n"
     ]
    }
   ],
   "source": [
    "line = xt.Line.from_json('../injection_lines/sps_orbit_md_20250616_v2.json')\n",
    "\n",
    "line.vars['qph_setvalue'] = 0.5\n",
    "line.vars['qpv_setvalue'] = 0.5\n",
    "line.vars['qh_setvalue'] = line.vars['qx0']._value + 0.05\n",
    "line.vars['qv_setvalue'] = line.vars['qy0']._value + 0.05\n",
    "\n",
    "\n",
    "tt = line.get_table()\n",
    "tw = line.twiss()"
   ]
  },
  {
   "cell_type": "code",
   "execution_count": 25,
   "id": "e7acf77b",
   "metadata": {},
   "outputs": [],
   "source": [
    "#Context and parameters\n",
    "context = xo.ContextCpu()\n",
    "cavity_elements, cavity_names = line.get_elements_of_type(xt.Cavity)\n",
    "\n",
    "num_particles  = 1000\n",
    "plane = 'DPneg'\n",
    "#delta_emp = 0.307*get_straight_line(1.967, 1.027,0, 1.967, -22e-3)\n",
    "delta_emp = 0.307*get_straight_line(0.5, 2.984,0, 0.5, -32e-3)\n",
    "sweep = delta_emp * cavity_elements[0].frequency * tw.slip_factor\n",
    "sweep = -abs(sweep) if plane == 'DPpos' else abs(sweep)\n",
    "num_turns = 7000\n",
    "\n",
    "\n",
    "for name in cavity_names:\n",
    "    line[name].frequency = 200e6\n",
    "    line[name].lag = 180\n",
    "line['acl.31735'].voltage = 0 #setting 800 cav to 0V\n",
    "line['actcse.31632'].voltage = 3.5e6"
   ]
  },
  {
   "cell_type": "code",
   "execution_count": 26,
   "id": "099e715b",
   "metadata": {},
   "outputs": [
    {
     "data": {
      "application/vnd.jupyter.widget-view+json": {
       "model_id": "b10785ae1d704d4a9b133d62b170520d",
       "version_major": 2,
       "version_minor": 0
      },
      "text/plain": [
       "Slicing line:   0%|          | 0/33114 [00:00<?, ?it/s]"
      ]
     },
     "metadata": {},
     "output_type": "display_data"
    },
    {
     "name": "stdout",
     "output_type": "stream",
     "text": [
      "*** Maximum RMS bunch length 0.2361011021355421m.\n",
      "... distance to target bunch length: -2.2226e-01\n",
      "... distance to target bunch length: 5.5784e-03\n",
      "... distance to target bunch length: 5.2361e-03\n",
      "... distance to target bunch length: -6.3267e-03\n",
      "... distance to target bunch length: 1.9948e-03\n",
      "... distance to target bunch length: -3.8258e-04\n",
      "... distance to target bunch length: 5.3833e-05\n",
      "... distance to target bunch length: 1.2594e-06\n",
      "... distance to target bunch length: -1.0995e-10\n",
      "... distance to target bunch length: 1.2805e-07\n",
      "--> Bunch length: 0.22399999989004873\n",
      "--> Emittance: 0.30346637783745783\n"
     ]
    }
   ],
   "source": [
    "tidp = install_tidp(line)\n",
    "tw = line.twiss()\n",
    "part = xp.generate_matched_gaussian_bunch(nemitt_x=2e-6,\n",
    "                                          nemitt_y=2e-6,\n",
    "                                          sigma_z=0.224, num_particles=num_particles, line=line)"
   ]
  },
  {
   "cell_type": "code",
   "execution_count": null,
   "id": "12d5bd39",
   "metadata": {},
   "outputs": [
    {
     "name": "stdout",
     "output_type": "stream",
     "text": [
      "The current frequency is 200000000.0Hz, adding 0.49875247267822065Hz per turn until 200003491.26730874 (for 7000 turns).\n",
      "This sweep will move the center of the bucket with Δδ = -0.009824000000004383 (-1.5184265078443175 buckets).\n"
     ]
    },
    {
     "data": {
      "application/vnd.jupyter.widget-view+json": {
       "model_id": "4013880df41847d9bcb3ed9bc054e288",
       "version_major": 2,
       "version_minor": 0
      },
      "text/plain": [
       "Tracking:   0%|          | 0/7000 [00:00<?, ?it/s]"
      ]
     },
     "metadata": {},
     "output_type": "display_data"
    }
   ],
   "source": [
    "rf_sweep = xc.RFSweep(line)\n",
    "rf_sweep.info(sweep=sweep, num_turns=num_turns)\n",
    "\n",
    "line.scattering.enable()\n",
    "rf_sweep.track(sweep=sweep, particles=part, num_turns=num_turns, time=True, with_progress=True)\n",
    "line.scattering.disable()"
   ]
  },
  {
   "cell_type": "code",
   "execution_count": null,
   "id": "f2941f42",
   "metadata": {},
   "outputs": [],
   "source": []
  }
 ],
 "metadata": {
  "kernelspec": {
   "display_name": "xsuite",
   "language": "python",
   "name": "python3"
  },
  "language_info": {
   "codemirror_mode": {
    "name": "ipython",
    "version": 3
   },
   "file_extension": ".py",
   "mimetype": "text/x-python",
   "name": "python",
   "nbconvert_exporter": "python",
   "pygments_lexer": "ipython3",
   "version": "3.13.2"
  }
 },
 "nbformat": 4,
 "nbformat_minor": 5
}
