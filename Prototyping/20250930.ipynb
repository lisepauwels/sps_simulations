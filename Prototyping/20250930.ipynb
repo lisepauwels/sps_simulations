{
 "cells": [
  {
   "cell_type": "code",
   "execution_count": 1,
   "id": "61c89570",
   "metadata": {},
   "outputs": [],
   "source": [
    "import numpy as np\n",
    "import matplotlib.pyplot as plt\n",
    "import xtrack as xt\n",
    "import xcoll as xc"
   ]
  },
  {
   "cell_type": "code",
   "execution_count": 2,
   "id": "f4e48d59",
   "metadata": {},
   "outputs": [],
   "source": [
    "def install_tidp(line, block_mvt=29e-3):\n",
    "    tidp_ap_tot = 147e-3\n",
    "    line.discard_tracker()\n",
    "    tidp = xc.EverestCollimator(length=4.3, material=xc.materials.Carbon, jaw_L= tidp_ap_tot/2 + block_mvt, jaw_R = -tidp_ap_tot/2 + block_mvt)\n",
    "    line.collimators.install(names=['tidp.11434'], elements=[tidp])\n",
    "    return tidp\n",
    "\n",
    "def install_tcsm(line):\n",
    "    tcsm = xc.EverestCollimator(length=1.83, gap=5, material=xc.materials.Carbon) # length is 1.83\n",
    "    line.collimators.install(names=['tcsm.51932'], elements=[tcsm])\n",
    "    return tcsm\n",
    "\n",
    "def install_offmom_bpms_colls(line, exn=3.5e-6, nrj=21, pmass=0.938, bucket_height=3e-3, n_buckets=2):\n",
    "    tw = line.twiss()\n",
    "    tt = line.get_table()\n",
    "    mask_disp = 5*np.sqrt(tw.betx*exn*pmass/nrj)+n_buckets*bucket_height*tw.dx > 0.025\n",
    "    mask_bpm = ['bp' in name for name in tt.name]\n",
    "    mask_aper = np.array(['aper' in name for name in tt.name])\n",
    "    offmom_bpms = tt.name[mask_disp & mask_bpm & ~mask_aper]\n",
    "    colls = []\n",
    "    aper_to_remove = []\n",
    "    for nn in offmom_bpms:\n",
    "        aper_to_remove.append(f'{nn}.a_aper')\n",
    "        aper_to_remove.append(f'{nn}.b_aper')\n",
    "        if line[nn+'.a_aper'].__class__.__name__ == 'LimitEllipse':\n",
    "            jaw = line[nn+'.a_aper'].a\n",
    "        else:\n",
    "            jaw = line[nn+'.a_aper'].max_x\n",
    "        \n",
    "        colls.append(xc.EverestCollimator(length=line[nn].length, material=xc.materials.Beryllium, jaw=jaw))\n",
    "    line.remove(aper_to_remove)\n",
    "    line.collimators.install(names=offmom_bpms, elements=colls)\n",
    "    return colls\n",
    "\n",
    "def remove_offmom_bpms_apers(line, exn=3.5e-6, nrj=21, pmass=0.938, bucket_height=3e-3, n_buckets=2):\n",
    "    \"Remove apertures of off-momentum BPMs which give flanges as bottlenecks\"\n",
    "    tw = line.twiss()\n",
    "    tt = line.get_table()\n",
    "    mask_disp = 5*np.sqrt(tw.betx*exn*pmass/nrj)+n_buckets*bucket_height*tw.dx > 0.025\n",
    "    mask_bpm = ['bp' in name for name in tt.name]\n",
    "    mask_aper = np.array(['aper' in name for name in tt.name])\n",
    "    offmom_bpms = tt.name[mask_disp & mask_bpm & ~mask_aper]\n",
    "    aper_to_remove = [f'{name}{suffix}' for name in offmom_bpms for suffix in ('.a_aper', '.b_aper')]\n",
    "    line.remove(aper_to_remove)"
   ]
  },
  {
   "cell_type": "code",
   "execution_count": 7,
   "id": "f756443e",
   "metadata": {},
   "outputs": [
    {
     "data": {
      "application/vnd.jupyter.widget-view+json": {
       "model_id": "c2ee10025e184a4694da843a2cdbefa5",
       "version_major": 2,
       "version_minor": 0
      },
      "text/plain": [
       "Loading line from dict:   0%|          | 0/36381 [00:00<?, ?it/s]"
      ]
     },
     "metadata": {},
     "output_type": "display_data"
    },
    {
     "name": "stdout",
     "output_type": "stream",
     "text": [
      "Done loading line from dict.           \n"
     ]
    }
   ],
   "source": [
    "line = xt.Line.from_json('../injection_lines/sps_with_aperture_inj_q20_beam_sagitta4.json')\n",
    "tt1 = line.get_table()\n",
    "remove_offmom_bpms_apers(line, exn=3.5e-6, nrj=21, pmass=0.938, bucket_height=3e-3, n_buckets=2)\n",
    "tt = line.get_table()\n",
    "# tw = line.twiss()\n",
    "\n",
    "#shift VEB apertures by 5.3 mm to account for the sagitta\n",
    "veb_b_apers = tt.rows['veb.*.b_aper'].name\n",
    "for name in veb_b_apers:\n",
    "    line[name].shift_x += 5.3e-3\n",
    "\n",
    "veb_a_apers = tt.rows['veb.*.a_aper'].name\n",
    "for name in veb_a_apers:\n",
    "    line[name].shift_x += 5.3e-3\n",
    "#Houdt de a aperture steek?\n",
    "tt = line.get_table()\n",
    "tw = line.twiss()"
   ]
  },
  {
   "cell_type": "code",
   "execution_count": 8,
   "id": "6e1b871c",
   "metadata": {},
   "outputs": [],
   "source": [
    "L1 = 34e-3\n",
    "L2 = 70e-3\n",
    "\n",
    "r1 = 41.5e-3\n",
    "r2 = 60e-3-1.5e-3\n",
    "r3 = 51.5e-3\n",
    "\n",
    "changed = [10110, 11110, 11310, 12510, 13510, 20910, 21110, 22510, 23510, 30110, 30910,\n",
    "32510, 33510, 40110, 40910, 41110, 42510, 42710, 51110, 52510, 53510, 60110,\n",
    "61110, 62510, 63510]"
   ]
  },
  {
   "cell_type": "code",
   "execution_count": 9,
   "id": "f4eccc06",
   "metadata": {},
   "outputs": [
    {
     "data": {
      "application/vnd.jupyter.widget-view+json": {
       "model_id": "cfeabe19f0f547eb8fbe729d5d5b5a27",
       "version_major": 2,
       "version_minor": 0
      },
      "text/plain": [
       "Slicing line:   0%|          | 0/32246 [00:00<?, ?it/s]"
      ]
     },
     "metadata": {},
     "output_type": "display_data"
    }
   ],
   "source": [
    "# Add apertures to elements in flanges that do not have one yet\n",
    "env = line.env\n",
    "insertions = []\n",
    "for qd_number in changed:\n",
    "    flange_number = qd_number - 9\n",
    "    \n",
    "    aper_start = f'vcak.{flange_number}.a_aper'\n",
    "    aper_end = f'vcak.{flange_number}.b_aper'\n",
    "\n",
    "    for nn, ee in zip(tt.rows[aper_start:aper_end].name, tt.rows[aper_start:aper_end].element_type):\n",
    "        if not ee.startswith('Limit') and not ee.startswith('Drift') and not ee.startswith('Marker'):\n",
    "            env.elements[f'{nn}_aper_enter'] = line[aper_start].copy()\n",
    "            env.elements[f'{nn}_aper_exit'] = line[aper_end].copy()\n",
    "            insertions.append(env.place(f'{nn}_aper_enter', at=f'{nn}@start'))\n",
    "            insertions.append(env.place(f'{nn}_aper_exit', at=f'{nn}@end'))\n",
    "line.insert(insertions, s_tol=1e-6)"
   ]
  },
  {
   "cell_type": "code",
   "execution_count": 11,
   "id": "698deaf1",
   "metadata": {},
   "outputs": [],
   "source": [
    "tt = line.get_table()\n",
    "start_flange_apers = []\n",
    "end_flange_apers = []\n",
    "for qd_number in changed:\n",
    "    flange_number = qd_number - 9\n",
    "    \n",
    "    aper_start = f'vcak.{flange_number}.a_aper'\n",
    "    aper_end = f'vcak.{flange_number}.b_aper'\n",
    "\n",
    "    for nn, ee in zip(tt.rows[f'{aper_start}>>1':aper_end].name, tt.rows[f'{aper_start}>>1':aper_end].element_type):\n",
    "        if ee.startswith('Drift') or ee.startswith('Marker'):\n",
    "            continue\n",
    "        elif ee.startswith('Limit'):\n",
    "            next_aper = nn\n",
    "            break\n",
    "        else:\n",
    "            raise ValueError(f'Unexpected element type {ee} for element {nn}')\n",
    "    end_flange_apers.append(next_aper)\n",
    "    start_flange_apers.append(aper_start)"
   ]
  },
  {
   "cell_type": "code",
   "execution_count": 23,
   "id": "84992855",
   "metadata": {},
   "outputs": [
    {
     "name": "stdout",
     "output_type": "stream",
     "text": [
      "No slice needed, but change exit aperture\n"
     ]
    },
    {
     "data": {
      "application/vnd.jupyter.widget-view+json": {
       "model_id": "dde3dd51fe974d629f0213f42d65d9b2",
       "version_major": 2,
       "version_minor": 0
      },
      "text/plain": [
       "Slicing line:   0%|          | 0/32258 [00:00<?, ?it/s]"
      ]
     },
     "metadata": {},
     "output_type": "display_data"
    },
    {
     "ename": "ValueError",
     "evalue": "No slicing strategy found for the element qf.10010: Quadrupole(k1=0.0116, k1s=0, length=3.08, num_multipole_kicks=np.int64(0), _order=np.int64(5), inv_factorial_order=0.00833, knl=array([0., 0., 0., 0., 0., 0.]), ksl=array([0., 0., 0., 0., 0., 0.]), edge_entry_active=np.uint64(0), edge_exit_active=np.uint64(0), _model=np.int64(0), _integrator=np.int64(0), radiation_flag=np.int64(0), delta_taper=0, _sin_rot_s=-999, _cos_rot_s=-999, _shift_x=0, _shift_y=0, _shift_s=0, _rot_x_rad=0, _rot_y_rad=0, _rot_s_rad_no_frame=0, rot_shift_anchor=0, _internal_record_id=RecordIdentifier(buffer_id=np.int64(0), offset=np.int64(0))).",
     "output_type": "error",
     "traceback": [
      "\u001b[31m---------------------------------------------------------------------------\u001b[39m",
      "\u001b[31mValueError\u001b[39m                                Traceback (most recent call last)",
      "\u001b[36mCell\u001b[39m\u001b[36m \u001b[39m\u001b[32mIn[23]\u001b[39m\u001b[32m, line 15\u001b[39m\n\u001b[32m     12\u001b[39m     \u001b[38;5;28;01melse\u001b[39;00m:\n\u001b[32m     13\u001b[39m         \u001b[38;5;28mprint\u001b[39m(\u001b[33m'\u001b[39m\u001b[33mNo slice needed, but change exit aperture\u001b[39m\u001b[33m'\u001b[39m)\n\u001b[32m---> \u001b[39m\u001b[32m15\u001b[39m \u001b[43mline\u001b[49m\u001b[43m.\u001b[49m\u001b[43mslice_thick_elements\u001b[49m\u001b[43m(\u001b[49m\u001b[43mslicing_strategies\u001b[49m\u001b[43m)\u001b[49m\n\u001b[32m     16\u001b[39m     \u001b[38;5;66;03m#check if L1+L2 still in element or not, if not no need to slice, but entry and exit apertures of element need to be changed\u001b[39;00m\n",
      "\u001b[36mFile \u001b[39m\u001b[32m~/Xsuite/xtrack/xtrack/line.py:1216\u001b[39m, in \u001b[36mLine.slice_thick_elements\u001b[39m\u001b[34m(self, slicing_strategies)\u001b[39m\n\u001b[32m   1213\u001b[39m \u001b[38;5;28mself\u001b[39m._element_names_before_slicing = \u001b[38;5;28mlist\u001b[39m(\u001b[38;5;28mself\u001b[39m.element_names).copy()\n\u001b[32m   1215\u001b[39m slicer = Slicer(\u001b[38;5;28mself\u001b[39m, slicing_strategies)\n\u001b[32m-> \u001b[39m\u001b[32m1216\u001b[39m \u001b[38;5;28;01mreturn\u001b[39;00m \u001b[43mslicer\u001b[49m\u001b[43m.\u001b[49m\u001b[43mslice_in_place\u001b[49m\u001b[43m(\u001b[49m\u001b[43m)\u001b[49m\n",
      "\u001b[36mFile \u001b[39m\u001b[32m~/Xsuite/xtrack/xtrack/slicing.py:255\u001b[39m, in \u001b[36mSlicer.slice_in_place\u001b[39m\u001b[34m(self, _edge_markers)\u001b[39m\n\u001b[32m    253\u001b[39m     \u001b[38;5;28;01mpass\u001b[39;00m\n\u001b[32m    254\u001b[39m \u001b[38;5;28;01melse\u001b[39;00m:\n\u001b[32m--> \u001b[39m\u001b[32m255\u001b[39m     chosen_slicing = \u001b[38;5;28;43mself\u001b[39;49m\u001b[43m.\u001b[49m\u001b[43m_scheme_for_element\u001b[49m\u001b[43m(\u001b[49m\u001b[43melement\u001b[49m\u001b[43m,\u001b[49m\u001b[43m \u001b[49m\u001b[43mnn\u001b[49m\u001b[43m,\u001b[49m\u001b[43m \u001b[49m\u001b[38;5;28;43mself\u001b[39;49m\u001b[43m.\u001b[49m\u001b[43m_line\u001b[49m\u001b[43m)\u001b[49m\n\u001b[32m    256\u001b[39m     \u001b[38;5;28;01mif\u001b[39;00m chosen_slicing \u001b[38;5;129;01mis\u001b[39;00m \u001b[38;5;129;01mnot\u001b[39;00m \u001b[38;5;28;01mNone\u001b[39;00m:\n\u001b[32m    257\u001b[39m         subsequence = \u001b[38;5;28mself\u001b[39m._slice_element(\n\u001b[32m    258\u001b[39m             enn, element, _edge_markers=_edge_markers,\n\u001b[32m    259\u001b[39m             chosen_slicing=chosen_slicing)\n",
      "\u001b[36mFile \u001b[39m\u001b[32m~/Xsuite/xtrack/xtrack/slicing.py:328\u001b[39m, in \u001b[36mSlicer._scheme_for_element\u001b[39m\u001b[34m(self, element, name, line)\u001b[39m\n\u001b[32m    326\u001b[39m         \u001b[38;5;28;01mbreak\u001b[39;00m\n\u001b[32m    327\u001b[39m \u001b[38;5;28;01mif\u001b[39;00m \u001b[38;5;129;01mnot\u001b[39;00m slicing_found:\n\u001b[32m--> \u001b[39m\u001b[32m328\u001b[39m     \u001b[38;5;28;01mraise\u001b[39;00m \u001b[38;5;167;01mValueError\u001b[39;00m(\u001b[33mf\u001b[39m\u001b[33m'\u001b[39m\u001b[33mNo slicing strategy found for the element \u001b[39m\u001b[33m'\u001b[39m\n\u001b[32m    329\u001b[39m                      \u001b[33mf\u001b[39m\u001b[33m'\u001b[39m\u001b[38;5;132;01m{\u001b[39;00mname\u001b[38;5;132;01m}\u001b[39;00m\u001b[33m: \u001b[39m\u001b[38;5;132;01m{\u001b[39;00melement\u001b[38;5;132;01m}\u001b[39;00m\u001b[33m.\u001b[39m\u001b[33m'\u001b[39m)\n\u001b[32m    330\u001b[39m \u001b[38;5;28;01mreturn\u001b[39;00m chosen_slicing\n",
      "\u001b[31mValueError\u001b[39m: No slicing strategy found for the element qf.10010: Quadrupole(k1=0.0116, k1s=0, length=3.08, num_multipole_kicks=np.int64(0), _order=np.int64(5), inv_factorial_order=0.00833, knl=array([0., 0., 0., 0., 0., 0.]), ksl=array([0., 0., 0., 0., 0., 0.]), edge_entry_active=np.uint64(0), edge_exit_active=np.uint64(0), _model=np.int64(0), _integrator=np.int64(0), radiation_flag=np.int64(0), delta_taper=0, _sin_rot_s=-999, _cos_rot_s=-999, _shift_x=0, _shift_y=0, _shift_s=0, _rot_x_rad=0, _rot_y_rad=0, _rot_s_rad_no_frame=0, rot_shift_anchor=0, _internal_record_id=RecordIdentifier(buffer_id=np.int64(0), offset=np.int64(0)))."
     ]
    }
   ],
   "source": [
    "flange_number = 13501\n",
    "aper_start = start_flange_apers[4]\n",
    "aper_end = end_flange_apers[4]\n",
    "\n",
    "slicing_strategies = []\n",
    "if tt.rows[aper_end].s - tt.rows[aper_start].s < L1 + L2:\n",
    "    aper_exit = f'{aper_end.split('_')[0]}_aper_exit'\n",
    "    if tt.rows[aper_exit].s - tt.rows[aper_start].s < L1 + L2:\n",
    "        ele_to_slice = tt.rows[f'{aper_end}>>1'].name\n",
    "        slicing_strategies.append(xt.Strategy(slicing=xt.Teapot(5), name=ele_to_slice))\n",
    "        print('Slice')\n",
    "    else:\n",
    "        print('No slice needed, but change exit aperture')\n",
    "\n",
    "line.slice_thick_elements(slicing_strategies)\n",
    "    #check if L1+L2 still in element or not, if not no need to slice, but entry and exit apertures of element need to be changed\n",
    "    \n"
   ]
  },
  {
   "cell_type": "code",
   "execution_count": 26,
   "id": "d5181e0b",
   "metadata": {},
   "outputs": [],
   "source": [
    "arr = tt.rows[aper_exit].s - tt.rows[aper_start].s"
   ]
  },
  {
   "cell_type": "code",
   "execution_count": 30,
   "id": "5f0d47e8",
   "metadata": {},
   "outputs": [
    {
     "name": "stdout",
     "output_type": "stream",
     "text": [
      "ok\n"
     ]
    }
   ],
   "source": [
    "if tt.rows[aper_end].s - tt.rows[aper_start].s < L1 + L2:\n",
    "    print('ok')"
   ]
  },
  {
   "cell_type": "code",
   "execution_count": 27,
   "id": "f26878fb",
   "metadata": {},
   "outputs": [
    {
     "data": {
      "text/plain": [
       "np.float64(0.7791999999978998)"
      ]
     },
     "execution_count": 27,
     "metadata": {},
     "output_type": "execute_result"
    }
   ],
   "source": [
    "arr[0]"
   ]
  },
  {
   "cell_type": "code",
   "execution_count": 20,
   "id": "9cf0353d",
   "metadata": {},
   "outputs": [
    {
     "data": {
      "text/plain": [
       "'lod.13502_aper_enter'"
      ]
     },
     "execution_count": 20,
     "metadata": {},
     "output_type": "execute_result"
    }
   ],
   "source": [
    "aper_end"
   ]
  },
  {
   "cell_type": "code",
   "execution_count": 21,
   "id": "63bdcc42",
   "metadata": {},
   "outputs": [],
   "source": [
    "aper_exit = f'{aper_end.split('_')[0]}_aper_exit'"
   ]
  },
  {
   "cell_type": "code",
   "execution_count": 22,
   "id": "31c4bb02",
   "metadata": {},
   "outputs": [
    {
     "data": {
      "text/plain": [
       "'lod.13502_aper_exit'"
      ]
     },
     "execution_count": 22,
     "metadata": {},
     "output_type": "execute_result"
    }
   ],
   "source": [
    "aper_exit"
   ]
  },
  {
   "cell_type": "markdown",
   "id": "10b49b3e",
   "metadata": {},
   "source": [
    "# Defining pipes as collimators to install and slice"
   ]
  },
  {
   "cell_type": "markdown",
   "id": "0b3d6585",
   "metadata": {},
   "source": [
    "Function gives definition of a pipe with distances and apertures, slices line, and then installs collimators"
   ]
  },
  {
   "cell_type": "code",
   "execution_count": null,
   "id": "e4ae9504",
   "metadata": {},
   "outputs": [],
   "source": [
    "L3 = line.get_s_position(aper_exit) - line.get_s_position(aper_start)\n",
    "lengths = [L1, L2, L3]\n",
    "apertures = [xt.LimitEllipse(a=r1, b=r1, shift_x=-5.3e-3), \n",
    "             xt.LimitEllipse(a=r2, b=r2, shift_x=-5.3e-3),\n",
    "             xt.LimitEllipse(a=r3, b=r3)] # Only horizontal plane for now\n",
    "plane = 'H'\n",
    "\n",
    "def slice_line_for_pipe(line, lengths, pipe_aperture_names, strategy = xt.Teapot(5)):\n",
    "    tt = line.get_table()\n",
    "    slicing_strategies = []\n",
    "    pipe_start = pipe_aperture_names[0]\n",
    "    pipe_end = pipe_aperture_names[1]\n",
    "\n",
    "    #Assuming there is only one extra active element in the pipe\n",
    "    for nn, ee in zip(tt.rows[f'{pipe_start}>>1':pipe_end].name, tt.rows[f'{pipe_start}>>1':pipe_end].element_type):\n",
    "        if ee.startswith('Drift') or ee.startswith('Marker'):\n",
    "            continue\n",
    "        elif ee.startswith('Limit'): #Assuming each element has an aperture at its start\n",
    "            next_aper = nn\n",
    "            active_ele = tt.rows[f'{next_aper}>>1'].name[0]\n",
    "            break\n",
    "        else:\n",
    "            raise ValueError(f'Unexpected element type {ee} for element {nn}')\n",
    "    \n",
    "    #Find if any element is in the pipe we are trying to define (if not, no need to slice)"
   ]
  },
  {
   "cell_type": "code",
   "execution_count": 31,
   "id": "c1f3a4a8",
   "metadata": {},
   "outputs": [
    {
     "data": {
      "text/plain": [
       "Table: 2 rows, 11 cols\n",
       "name                          s element_type isthick isreplica parent_name iscollective ...\n",
       "vcak.13501.a_aper       1117.77 LimitEllipse   False     False None               False\n",
       "vcak.13501.b_aper       1118.63 LimitEllipse   False     False None               False"
      ]
     },
     "execution_count": 31,
     "metadata": {},
     "output_type": "execute_result"
    }
   ],
   "source": [
    "tt.rows['vcak.13501.*']"
   ]
  },
  {
   "cell_type": "code",
   "execution_count": null,
   "id": "10295a5c",
   "metadata": {},
   "outputs": [
    {
     "data": {
      "text/plain": [
       "Table: 10 rows, 11 cols\n",
       "name                             s element_type isthick isreplica parent_name iscollective ...\n",
       "vebb.13490.b_aper          1117.77 LimitRect      False     False None               False\n",
       "drift_299..1               1117.77 DriftSlice      True     False drift_299          False\n",
       "vcak.13501.a_aper          1117.77 LimitEllipse   False     False None               False\n",
       "drift_299..2               1117.77 DriftSlice      True     False drift_299          False\n",
       "lod.13502_aper_enter       1117.88 LimitEllipse   False     False None               False\n",
       "lod.13502                  1117.88 Octupole        True     False None               False\n",
       "lod.13502_aper_exit        1118.55 LimitEllipse   False     False None               False\n",
       "drift_300..0               1118.55 DriftSlice      True     False drift_300          False\n",
       "vcak.13501.b_aper          1118.63 LimitEllipse   False     False None               False\n",
       "drift_300..1               1118.63 DriftSlice      True     False drift_300          False"
      ]
     },
     "execution_count": 47,
     "metadata": {},
     "output_type": "execute_result"
    }
   ],
   "source": [
    "for nn in tt.rows[(tt.s > 1117.77 - 1e-3 ) & (tt.s <= 1118.63 + 2e-3)].name:\n",
    "    "
   ]
  },
  {
   "cell_type": "code",
   "execution_count": 38,
   "id": "0a6a0d66",
   "metadata": {},
   "outputs": [
    {
     "data": {
      "text/plain": [
       "np.float64(1118.6319999999998)"
      ]
     },
     "execution_count": 38,
     "metadata": {},
     "output_type": "execute_result"
    }
   ],
   "source": [
    "tt.rows['vcak.13501.b_aper'].s[0]"
   ]
  },
  {
   "cell_type": "code",
   "execution_count": 70,
   "id": "d9388f28",
   "metadata": {},
   "outputs": [],
   "source": [
    "# Look on position to see if aperture exists\n",
    "pipe_name = 'vcak.13501'\n",
    "start_pos = 1117.7732\n",
    "end_pos = 1118.63\n",
    "start_aper = None\n",
    "end_aper = None\n",
    "for nn in tt.rows[(tt.s > start_pos - 1e-3 ) & (tt.s < start_pos + 1e-2 )].name:\n",
    "    if line[nn].__class__.__name__.startswith('Limit'):\n",
    "        start_aper = nn\n",
    "\n",
    "for nn in tt.rows[(tt.s > end_pos - 1e-3 ) & (tt.s < end_pos + 1e-2 )].name:\n",
    "    if line[nn].__class__.__name__.startswith('Limit'):\n",
    "        end_aper = nn\n",
    "        break\n",
    "if start_aper is None or end_aper is None:\n",
    "    start_aper = f'{pipe_name}.a_aper'\n",
    "    end_aper = f'{pipe_name}.b_aper'\n",
    "    print('To be inserted in line at right positions')"
   ]
  },
  {
   "cell_type": "code",
   "execution_count": 71,
   "id": "1846ded4",
   "metadata": {},
   "outputs": [
    {
     "name": "stdout",
     "output_type": "stream",
     "text": [
      "ok\n"
     ]
    }
   ],
   "source": [
    "if 'vcak.13501.a_aper' in tt.name:\n",
    "    print('ok')"
   ]
  },
  {
   "cell_type": "code",
   "execution_count": 82,
   "id": "877196b8",
   "metadata": {},
   "outputs": [],
   "source": [
    "def slice_line_for_pipe(line, apertures, pipe_name, pipe_positions=None):\n",
    "    tt = line.get_table()\n",
    "\n",
    "    # Placing start and end aperture of the pipe if not already present\n",
    "    if pipe_positions is None:\n",
    "        if f'{pipe_name}.a_aper' in tt.name and f'{pipe_name}.b_aper' in tt.name:\n",
    "            pipe_start = f'{pipe_name}.a_aper'\n",
    "            pipe_end = f'{pipe_name}.b_aper'\n",
    "        else:\n",
    "            raise ValueError(f'Pipe apertures not found in line for {pipe_name}, please provide pipe_positions')\n",
    "    else:\n",
    "        pipe_start = None\n",
    "        pipe_end = None\n",
    "        for nn in tt.rows[(tt.s > pipe_positions[0] - 1e-3 ) & (tt.s < pipe_positions[0] + 1e-2 )].name:\n",
    "            if line[nn].__class__.__name__.startswith('Limit'):\n",
    "                pipe_start = nn\n",
    "\n",
    "        for nn in tt.rows[(tt.s > pipe_positions[-1] - 1e-3 ) & (tt.s < pipe_positions[-1] + 1e-2 )].name:\n",
    "            if line[nn].__class__.__name__.startswith('Limit'):\n",
    "                pipe_end = nn\n",
    "                break\n",
    "        if pipe_start is None or pipe_end is None:\n",
    "            pipe_start = f'{pipe_name}.a_aper'\n",
    "            pipe_end = f'{pipe_name}.b_aper'\n",
    "            line.env.elements[pipe_start] = apertures[0].copy()\n",
    "            line.env.elements[pipe_end] = apertures[-1].copy()\n",
    "            line.insert([line.env.place(pipe_start, at=pipe_positions[0]),\n",
    "                         line.env.place(pipe_end, at=pipe_positions[-1])], s_tol=1e-6)\n",
    "            \n",
    "    \n",
    "    # Finding active elements in the pipe\n",
    "    tt = line.get_table() #update table to find newly placed apertures\n",
    "    active_elements = []\n",
    "    for nn, ee in zip(tt.rows[f'{pipe_start}>>1':pipe_end].name, tt.rows[f'{pipe_start}>>1':pipe_end].element_type):\n",
    "        if ee.startswith('Drift') or ee.startswith('Marker') or ee.startswith('Limit'):\n",
    "            continue\n",
    "        else:\n",
    "            active_elements.append(nn)\n",
    "    if len(active_elements) == 0:\n",
    "        print(f'No active elements in pipe {pipe_name}, no need to slice')\n",
    "        return None\n",
    "    else:\n",
    "        print(f'Active elements in pipe {pipe_name}: {active_elements}')\n",
    "\n",
    "    # Slicing strategies\n",
    "    slicing_strategies = [xt.Strategy(slicing=None)]\n",
    "    for nn in active_elements:\n",
    "        slicing_strategies.append(xt.Strategy(slicing=xt.Teapot(5), name=nn))\n",
    "    line.slice_thick_elements(slicing_strategies)"
   ]
  },
  {
   "cell_type": "code",
   "execution_count": 83,
   "id": "59054c05",
   "metadata": {},
   "outputs": [
    {
     "name": "stdout",
     "output_type": "stream",
     "text": [
      "Active elements in pipe vcak.13501: ['lod.13502']\n"
     ]
    },
    {
     "data": {
      "application/vnd.jupyter.widget-view+json": {
       "model_id": "0a61b4f7d55a4833be57567832e6343d",
       "version_major": 2,
       "version_minor": 0
      },
      "text/plain": [
       "Slicing line:   0%|          | 0/32258 [00:00<?, ?it/s]"
      ]
     },
     "metadata": {},
     "output_type": "display_data"
    }
   ],
   "source": [
    "apertures = [xt.LimitEllipse(a=r1, b=r1, shift_x=-5.3e-3), \n",
    "             xt.LimitEllipse(a=r2, b=r2, shift_x=-5.3e-3),\n",
    "             xt.LimitEllipse(a=r3, b=r3)] # Only horizontal plane for now\n",
    "slice_line_for_pipe(line, apertures, 'vcak.13501')"
   ]
  },
  {
   "cell_type": "code",
   "execution_count": 79,
   "id": "a09dfaf7",
   "metadata": {},
   "outputs": [
    {
     "data": {
      "text/plain": [
       "'vcak.13501.a_aper'"
      ]
     },
     "execution_count": 79,
     "metadata": {},
     "output_type": "execute_result"
    }
   ],
   "source": [
    "aper_start"
   ]
  },
  {
   "cell_type": "code",
   "execution_count": 84,
   "id": "3d671b9c",
   "metadata": {},
   "outputs": [],
   "source": [
    "tt = line.get_table()"
   ]
  },
  {
   "cell_type": "code",
   "execution_count": 85,
   "id": "4cdfea3a",
   "metadata": {},
   "outputs": [
    {
     "data": {
      "text/plain": [
       "Table: 21 rows, 11 cols\n",
       "name                             s element_type           isthick isreplica parent_name ...\n",
       "vcak.13501.a_aper          1117.77 LimitEllipse             False     False None       \n",
       "drift_299..2               1117.77 DriftSlice                True     False drift_299  \n",
       "lod.13502_aper_enter       1117.88 LimitEllipse             False     False None       \n",
       "lod.13502_entry            1117.88 Marker                   False     False None       \n",
       "lod.13502..entry_map       1117.88 ThinSliceOctupoleEntry   False     False lod.13502  \n",
       "drift_lod.13502..0         1117.88 DriftSliceOctupole        True     False lod.13502  \n",
       "lod.13502..0               1117.93 ThinSliceOctupole        False     False lod.13502  \n",
       "drift_lod.13502..1         1117.93 DriftSliceOctupole        True     False lod.13502  \n",
       "lod.13502..1               1118.07 ThinSliceOctupole        False     False lod.13502  \n",
       "drift_lod.13502..2         1118.07 DriftSliceOctupole        True     False lod.13502  \n",
       "lod.13502..2               1118.21 ThinSliceOctupole        False     False lod.13502  \n",
       "drift_lod.13502..3         1118.21 DriftSliceOctupole        True     False lod.13502  \n",
       "lod.13502..3               1118.35 ThinSliceOctupole        False     False lod.13502  \n",
       "drift_lod.13502..4         1118.35 DriftSliceOctupole        True     False lod.13502  \n",
       "lod.13502..4                1118.5 ThinSliceOctupole        False     False lod.13502  \n",
       "drift_lod.13502..5          1118.5 DriftSliceOctupole        True     False lod.13502  \n",
       "lod.13502..exit_map        1118.55 ThinSliceOctupoleExit    False     False lod.13502  \n",
       "lod.13502_exit             1118.55 Marker                   False     False None       \n",
       "lod.13502_aper_exit        1118.55 LimitEllipse             False     False None       \n",
       "drift_300..0               1118.55 DriftSlice                True     False drift_300  \n",
       "vcak.13501.b_aper          1118.63 LimitEllipse             False     False None       "
      ]
     },
     "execution_count": 85,
     "metadata": {},
     "output_type": "execute_result"
    }
   ],
   "source": [
    "tt.rows['vcak.13501.a_aper':'vcak.13501.b_aper']"
   ]
  },
  {
   "cell_type": "code",
   "execution_count": 94,
   "id": "eaaba251",
   "metadata": {},
   "outputs": [
    {
     "name": "stdout",
     "output_type": "stream",
     "text": [
      "10101\n",
      "name                          s element_type isthick isreplica parent_name iscollective ...\n",
      "vcak.10101.a_aper       29.8516 LimitEllipse   False     False None               False\n",
      "drift_4..2              29.8516 DriftSlice      True     False drift_4            False\n",
      "vcak.10101.b_aper       30.1487 LimitEllipse   False     False None               False\n",
      " \n",
      "11101\n",
      "name                          s element_type isthick isreplica parent_name iscollective ...\n",
      "vcak.11101.a_aper       349.828 LimitEllipse   False     False None               False\n",
      "drift_85..2             349.828 DriftSlice      True     False drift_85           False\n",
      "vcak.11101.b_aper       350.687 LimitEllipse   False     False None               False\n",
      " \n",
      "11301\n",
      "name                          s element_type isthick isreplica parent_name iscollective ...\n",
      "vcak.11301.a_aper       413.824 LimitEllipse   False     False None               False\n",
      "drift_101..2            413.824 DriftSlice      True     False drift_101          False\n",
      "vcak.11301.b_aper       414.121 LimitEllipse   False     False None               False\n",
      " \n",
      "12501\n",
      "name                          s element_type isthick isreplica parent_name iscollective ...\n",
      "vcak.12501.a_aper       797.796 LimitEllipse   False     False None               False\n",
      "drift_218..2            797.796 DriftSlice      True     False drift_218          False\n",
      "vcak.12501.b_aper       798.655 LimitEllipse   False     False None               False\n",
      " \n",
      "13501\n",
      "name                             s element_type           isthick isreplica parent_name ...\n",
      "vcak.13501.a_aper          1117.77 LimitEllipse             False     False None       \n",
      "drift_299..2               1117.77 DriftSlice                True     False drift_299  \n",
      "lod.13502_aper_enter       1117.88 LimitEllipse             False     False None       \n",
      "lod.13502_entry            1117.88 Marker                   False     False None       \n",
      "lod.13502..entry_map       1117.88 ThinSliceOctupoleEntry   False     False lod.13502  \n",
      "drift_lod.13502..0         1117.88 DriftSliceOctupole        True     False lod.13502  \n",
      "lod.13502..0               1117.93 ThinSliceOctupole        False     False lod.13502  \n",
      "drift_lod.13502..1         1117.93 DriftSliceOctupole        True     False lod.13502  \n",
      "lod.13502..1               1118.07 ThinSliceOctupole        False     False lod.13502  \n",
      "drift_lod.13502..2         1118.07 DriftSliceOctupole        True     False lod.13502  \n",
      "lod.13502..2               1118.21 ThinSliceOctupole        False     False lod.13502  \n",
      "drift_lod.13502..3         1118.21 DriftSliceOctupole        True     False lod.13502  \n",
      "lod.13502..3               1118.35 ThinSliceOctupole        False     False lod.13502  \n",
      "drift_lod.13502..4         1118.35 DriftSliceOctupole        True     False lod.13502  \n",
      "lod.13502..4                1118.5 ThinSliceOctupole        False     False lod.13502  \n",
      "drift_lod.13502..5          1118.5 DriftSliceOctupole        True     False lod.13502  \n",
      "lod.13502..exit_map        1118.55 ThinSliceOctupoleExit    False     False lod.13502  \n",
      "lod.13502_exit             1118.55 Marker                   False     False None       \n",
      "lod.13502_aper_exit        1118.55 LimitEllipse             False     False None       \n",
      "drift_300..0               1118.55 DriftSlice                True     False drift_300  \n",
      "vcak.13501.b_aper          1118.63 LimitEllipse             False     False None       \n",
      " \n",
      "20901\n",
      "name                          s element_type isthick isreplica parent_name iscollective ...\n",
      "vcak.20901.a_aper        1437.2 LimitEllipse   False     False None               False\n",
      "drift_387..2             1437.2 DriftSlice      True     False drift_387          False\n",
      "vcak.20901.b_aper       1437.43 LimitEllipse   False     False None               False\n",
      " \n",
      "21101\n",
      "name                          s element_type isthick isreplica parent_name iscollective ...\n",
      "vcak.21101.a_aper        1501.2 LimitEllipse   False     False None               False\n",
      "drift_403..2             1501.2 DriftSlice      True     False drift_403          False\n",
      "vcak.21101.b_aper       1502.05 LimitEllipse   False     False None               False\n",
      " \n",
      "22501\n",
      "name                          s element_type isthick isreplica parent_name iscollective ...\n",
      "vcak.22501.a_aper       1949.16 LimitEllipse   False     False None               False\n",
      "drift_554..2            1949.16 DriftSlice      True     False drift_554          False\n",
      "vcak.22501.b_aper       1950.02 LimitEllipse   False     False None               False\n",
      " \n",
      "23501\n",
      "name                             s element_type isthick isreplica parent_name iscollective ...\n",
      "vcak.23501.a_aper          2269.14 LimitEllipse   False     False None               False\n",
      "drift_635..2               2269.14 DriftSlice      True     False drift_635          False\n",
      "lod.23502_aper_enter       2269.24 LimitEllipse   False     False None               False\n",
      "lod.23502                  2269.24 Octupole        True     False None               False\n",
      "lod.23502_aper_exit        2269.92 LimitEllipse   False     False None               False\n",
      "drift_636..0               2269.92 DriftSlice      True     False drift_636          False\n",
      "vcak.23501.b_aper             2270 LimitEllipse   False     False None               False\n",
      " \n",
      "30101\n",
      "name                          s element_type isthick isreplica parent_name iscollective ...\n",
      "vcak.30101.a_aper       2333.14 LimitEllipse   False     False None               False\n",
      "drift_653..2            2333.14 DriftSlice      True     False drift_653          False\n",
      "vcak.30101.b_aper       2333.43 LimitEllipse   False     False None               False\n",
      " \n",
      "30901\n",
      "name                          s element_type isthick isreplica parent_name iscollective ...\n",
      "vcak.30901.a_aper       2589.12 LimitEllipse   False     False None               False\n",
      "drift_719..2            2589.12 DriftSlice      True     False drift_719          False\n",
      "aewa.30903..0           2589.65 DriftSlice      True     False aewa.30903         False\n",
      "vcak.30901.b_aper       2589.65 LimitEllipse   False     False None               False\n",
      " \n",
      "32501\n",
      "name                          s element_type isthick isreplica parent_name iscollective ...\n",
      "vcak.32501.a_aper        3098.5 LimitEllipse   False     False None               False\n",
      "drift_861..2             3098.5 DriftSlice      True     False drift_861          False\n",
      "vcak.32501.b_aper       3099.36 LimitEllipse   False     False None               False\n",
      " \n",
      "33501\n",
      "name                             s element_type isthick isreplica parent_name iscollective ...\n",
      "vcak.33501.a_aper          3418.48 LimitEllipse   False     False None               False\n",
      "drift_943..2               3418.48 DriftSlice      True     False drift_943          False\n",
      "lod.33502_aper_enter       3418.58 LimitEllipse   False     False None               False\n",
      "lod.33502                  3418.58 Octupole        True     False None               False\n",
      "lod.33502_aper_exit        3419.26 LimitEllipse   False     False None               False\n",
      "drift_944..0               3419.26 DriftSlice      True     False drift_944          False\n",
      "vcak.33501.b_aper          3419.34 LimitEllipse   False     False None               False\n",
      " \n",
      "40101\n",
      "name                          s element_type isthick isreplica parent_name iscollective ...\n",
      "vcak.40101.a_aper       3482.47 LimitEllipse   False     False None               False\n",
      "drift_961..2            3482.47 DriftSlice      True     False drift_961          False\n",
      "vcak.40101.b_aper       3482.77 LimitEllipse   False     False None               False\n",
      " \n",
      "40901\n",
      "name                          s element_type isthick isreplica parent_name iscollective ...\n",
      "vcak.40901.a_aper       3738.45 LimitEllipse   False     False None               False\n",
      "drift_1028..2           3738.45 DriftSlice      True     False drift_1028         False\n",
      "vcak.40901.b_aper       3739.31 LimitEllipse   False     False None               False\n",
      " \n",
      "41101\n",
      "name                          s element_type isthick isreplica parent_name iscollective ...\n",
      "vcak.41101.a_aper       3802.45 LimitEllipse   False     False None               False\n",
      "drift_1042..2           3802.45 DriftSlice      True     False drift_1042         False\n",
      "vcak.41101.b_aper       3803.31 LimitEllipse   False     False None               False\n",
      " \n",
      "42501\n",
      "name                          s element_type isthick isreplica parent_name iscollective ...\n",
      "vcak.42501.a_aper       4250.42 LimitEllipse   False     False None               False\n",
      "drift_1171..2           4250.42 DriftSlice      True     False drift_1171         False\n",
      "vcak.42501.b_aper       4251.28 LimitEllipse   False     False None               False\n",
      " \n",
      "42701\n",
      "name                             s element_type isthick isreplica parent_name iscollective ...\n",
      "vcak.42701.a_aper          4314.41 LimitEllipse   False     False None               False\n",
      "drift_1188..2              4314.41 DriftSlice      True     False drift_1188         False\n",
      "lod.42702_aper_enter       4314.52 LimitEllipse   False     False None               False\n",
      "lod.42702                  4314.52 Octupole        True     False None               False\n",
      "lod.42702_aper_exit        4315.19 LimitEllipse   False     False None               False\n",
      "drift_1189..0              4315.19 DriftSlice      True     False drift_1189         False\n",
      "vcak.42701.b_aper          4315.27 LimitEllipse   False     False None               False\n",
      " \n",
      "51101\n",
      "name                          s element_type isthick isreplica parent_name iscollective ...\n",
      "vcak.51101.a_aper       4954.37 LimitEllipse   False     False None               False\n",
      "drift_1350..2           4954.37 DriftSlice      True     False drift_1350         False\n",
      "vcak.51101.b_aper       4955.23 LimitEllipse   False     False None               False\n",
      " \n",
      "52501\n",
      "name                          s element_type isthick isreplica parent_name iscollective ...\n",
      "vcak.52501.a_aper       5402.34 LimitEllipse   False     False None               False\n",
      "drift_1489..2           5402.34 DriftSlice      True     False drift_1489         False\n",
      "vcak.52501.b_aper       5403.19 LimitEllipse   False     False None               False\n",
      " \n",
      "53501\n",
      "name                             s element_type isthick isreplica parent_name iscollective ...\n",
      "vcak.53501.a_aper          5722.31 LimitEllipse   False     False None               False\n",
      "drift_1571..2              5722.31 DriftSlice      True     False drift_1571         False\n",
      "lod.53502_aper_enter       5722.41 LimitEllipse   False     False None               False\n",
      "lod.53502                  5722.41 Octupole        True     False None               False\n",
      "lod.53502_aper_exit        5723.09 LimitEllipse   False     False None               False\n",
      "drift_1572..0              5723.09 DriftSlice      True     False drift_1572         False\n",
      "vcak.53501.b_aper          5723.17 LimitEllipse   False     False None               False\n",
      " \n",
      "60101\n",
      "name                          s element_type isthick isreplica parent_name iscollective ...\n",
      "vcak.60101.a_aper       5786.31 LimitEllipse   False     False None               False\n",
      "drift_1589..2           5786.31 DriftSlice      True     False drift_1589         False\n",
      "vcak.60101.b_aper       5786.61 LimitEllipse   False     False None               False\n",
      " \n",
      "61101\n",
      "name                          s element_type isthick isreplica parent_name iscollective ...\n",
      "vcak.61101.a_aper       6106.28 LimitEllipse   False     False None               False\n",
      "drift_1673..2           6106.28 DriftSlice      True     False drift_1673         False\n",
      "vcak.61101.b_aper       6107.14 LimitEllipse   False     False None               False\n",
      " \n",
      "62501\n",
      "name                          s element_type isthick isreplica parent_name iscollective ...\n",
      "vcak.62501.a_aper       6554.25 LimitEllipse   False     False None               False\n",
      "drift_1811..2           6554.25 DriftSlice      True     False drift_1811         False\n",
      "vcak.62501.b_aper       6555.11 LimitEllipse   False     False None               False\n",
      " \n",
      "63501\n",
      "name                             s element_type isthick isreplica parent_name iscollective ...\n",
      "vcak.63501.a_aper          6874.23 LimitEllipse   False     False None               False\n",
      "drift_1892..2              6874.23 DriftSlice      True     False drift_1892         False\n",
      "lod.63502_aper_enter       6874.33 LimitEllipse   False     False None               False\n",
      "lod.63502                  6874.33 Octupole        True     False None               False\n",
      "lod.63502_aper_exit        6875.01 LimitEllipse   False     False None               False\n",
      "drift_1893..0              6875.01 DriftSlice      True     False drift_1893         False\n",
      "vcak.63501.b_aper          6875.09 LimitEllipse   False     False None               False\n",
      " \n"
     ]
    }
   ],
   "source": [
    "for nn in changed:\n",
    "    flange_number = nn-9\n",
    "    print(flange_number)\n",
    "    tt.rows[f'vcak.{flange_number}.a_aper':f'vcak.{flange_number}.b_aper'].show()\n",
    "    print(' ')"
   ]
  },
  {
   "cell_type": "code",
   "execution_count": 92,
   "id": "39f0760c",
   "metadata": {},
   "outputs": [
    {
     "name": "stdout",
     "output_type": "stream",
     "text": [
      "name                             s element_type isthick isreplica parent_name iscollective ...\n",
      "vcak.63501.a_aper          6874.23 LimitEllipse   False     False None               False\n",
      "drift_1892..2              6874.23 DriftSlice      True     False drift_1892         False\n",
      "lod.63502_aper_enter       6874.33 LimitEllipse   False     False None               False\n",
      "lod.63502                  6874.33 Octupole        True     False None               False\n",
      "lod.63502_aper_exit        6875.01 LimitEllipse   False     False None               False\n",
      "drift_1893..0              6875.01 DriftSlice      True     False drift_1893         False\n",
      "vcak.63501.b_aper          6875.09 LimitEllipse   False     False None               False\n"
     ]
    }
   ],
   "source": [
    "tt.rows[f'vcak.{flange_number}.a_aper':f'vcak.{flange_number}.b_aper'].show()"
   ]
  },
  {
   "cell_type": "code",
   "execution_count": 96,
   "id": "f3817bb5",
   "metadata": {},
   "outputs": [
    {
     "data": {
      "text/plain": [
       "np.float64(0.677)"
      ]
     },
     "execution_count": 96,
     "metadata": {},
     "output_type": "execute_result"
    }
   ],
   "source": [
    "line['lod.23502'].length"
   ]
  },
  {
   "cell_type": "code",
   "execution_count": 97,
   "id": "c57fc50a",
   "metadata": {},
   "outputs": [
    {
     "data": {
      "text/plain": [
       "View of Octupole(k3=0, k3s=0, length=0.677, _order=np.int64(5), inv_factorial_order=0.00833, knl=array([0., 0., 0., 0., 0., 0.]), ksl=array([0., 0., 0., 0., 0., 0.]), edge_entry_active=np.uint64(0), edge_exit_active=np.uint64(0), num_multipole_kicks=np.int64(0), _model=np.int64(0), _integrator=np.int64(0), radiation_flag=np.int64(0), delta_taper=0, _sin_rot_s=-999, _cos_rot_s=-999, _shift_x=0, _shift_y=0, _shift_s=0, _rot_x_rad=0, _rot_y_rad=0, _rot_s_rad_no_frame=0, rot_shift_anchor=0, _internal_record_id=RecordIdentifier(buffer_id=np.int64(0), offset=np.int64(0)))"
      ]
     },
     "execution_count": 97,
     "metadata": {},
     "output_type": "execute_result"
    }
   ],
   "source": [
    "line['lod.13502']"
   ]
  },
  {
   "cell_type": "code",
   "execution_count": null,
   "id": "879eb318",
   "metadata": {},
   "outputs": [],
   "source": []
  }
 ],
 "metadata": {
  "kernelspec": {
   "display_name": "xcoll",
   "language": "python",
   "name": "python3"
  },
  "language_info": {
   "codemirror_mode": {
    "name": "ipython",
    "version": 3
   },
   "file_extension": ".py",
   "mimetype": "text/x-python",
   "name": "python",
   "nbconvert_exporter": "python",
   "pygments_lexer": "ipython3",
   "version": "3.13.3"
  }
 },
 "nbformat": 4,
 "nbformat_minor": 5
}
