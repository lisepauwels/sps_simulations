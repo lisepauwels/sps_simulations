{
 "cells": [
  {
   "cell_type": "code",
   "execution_count": 1,
   "id": "c1b3d7b7",
   "metadata": {},
   "outputs": [],
   "source": [
    "import numpy as np\n",
    "import matplotlib.pyplot as plt\n",
    "import scipy.special as sc\n",
    "import xtrack as xt"
   ]
  },
  {
   "cell_type": "markdown",
   "id": "37214428",
   "metadata": {},
   "source": [
    "# Computing real $\\Delta R$"
   ]
  },
  {
   "cell_type": "code",
   "execution_count": 2,
   "id": "c12ca09d",
   "metadata": {},
   "outputs": [
    {
     "data": {
      "application/vnd.jupyter.widget-view+json": {
       "model_id": "ed3ba68fba754ed9adfd42cca51e4199",
       "version_major": 2,
       "version_minor": 0
      },
      "text/plain": [
       "Loading line from dict:   0%|          | 0/36404 [00:00<?, ?it/s]"
      ]
     },
     "metadata": {},
     "output_type": "display_data"
    },
    {
     "name": "stdout",
     "output_type": "stream",
     "text": [
      "Done loading line from dict.           \n"
     ]
    }
   ],
   "source": [
    "line = xt.Line.from_json('../injection_lines/sps_with_aperture_inj_q20_beam_sagitta5.json')"
   ]
  },
  {
   "cell_type": "code",
   "execution_count": 3,
   "id": "66ce393b",
   "metadata": {},
   "outputs": [],
   "source": [
    "tw = line.twiss()"
   ]
  },
  {
   "cell_type": "code",
   "execution_count": 24,
   "id": "4d1cd98e",
   "metadata": {},
   "outputs": [
    {
     "name": "stdout",
     "output_type": "stream",
     "text": [
      "744\n"
     ]
    }
   ],
   "source": [
    "# Number of bends in line = 744\n",
    "tt = line.get_table()\n",
    "names_arr = []\n",
    "for name in tt.rows['mb.*'].name:\n",
    "    names_arr.append(name[:9])\n",
    "names_arr = np.array(names_arr)\n",
    "names_arr = np.unique(names_arr)\n",
    "print(len(names_arr))"
   ]
  },
  {
   "cell_type": "code",
   "execution_count": 63,
   "id": "7bb9d17e",
   "metadata": {},
   "outputs": [],
   "source": [
    "E = tw.gamma0 * 938.27e6\n",
    "c = 299792458\n",
    "P = np.sqrt(E**2 - (938.27e6)**2)/c\n",
    "\n",
    "eta = tw.slip_factor\n",
    "alpha = tw.momentum_compaction_factor\n",
    "gamma_tr = 1/np.sqrt(alpha)\n",
    "\n",
    "# l_bend = 6.26\n",
    "# R = 744*l_bend/(2*np.pi)\n",
    "R = line.get_length()/2*np.pi\n",
    "\n",
    "beta = np.sqrt(1 - 1/tw.gamma0**2)\n",
    "V0 = 3.5e6\n",
    "f0 = 200_000_000"
   ]
  },
  {
   "cell_type": "code",
   "execution_count": 64,
   "id": "a203171e",
   "metadata": {},
   "outputs": [],
   "source": [
    "DR_th = -22e-3\n",
    "Df = -eta * gamma_tr**2 *f0 * DR_th/R #sign added idk why\n",
    "T0 = 1.027\n",
    "Tf = 1.967\n",
    "a = Df/(Tf-T0)"
   ]
  },
  {
   "cell_type": "code",
   "execution_count": 65,
   "id": "9f4ff1ac",
   "metadata": {},
   "outputs": [],
   "source": [
    "S0, C0 = sc.fresnel((f0 + 2*a*T0)/np.sqrt(a))\n",
    "const_0 = np.sin(np.pi * f0**2/(2*a)) * S0 - np.cos(np.pi*f0**2/(2*a)) * C0\n",
    "\n",
    "Sf, Cf = sc.fresnel((f0 + 2*a*Tf)/np.sqrt(a))\n",
    "const_f = np.sin(np.pi * f0**2/(2*a)) * Sf - np.cos(np.pi*f0**2/(2*a)) * Cf "
   ]
  },
  {
   "cell_type": "code",
   "execution_count": 66,
   "id": "3e957f41",
   "metadata": {},
   "outputs": [],
   "source": [
    "DR = P * R * gamma_tr**2 * V0 / (E * beta**2 * 2 * np.sqrt(a)) * (const_f - const_0)"
   ]
  },
  {
   "cell_type": "code",
   "execution_count": 68,
   "id": "e6f976b3",
   "metadata": {},
   "outputs": [
    {
     "data": {
      "text/plain": [
       "np.float64(-3.426574305266615e-05)"
      ]
     },
     "execution_count": 68,
     "metadata": {},
     "output_type": "execute_result"
    }
   ],
   "source": [
    "DR"
   ]
  },
  {
   "cell_type": "code",
   "execution_count": 77,
   "id": "f5f6ee53",
   "metadata": {},
   "outputs": [
    {
     "data": {
      "text/plain": [
       "-0.16493866666666668"
      ]
     },
     "execution_count": 77,
     "metadata": {},
     "output_type": "execute_result"
    }
   ],
   "source": [
    "(1.967-1.027)**3/3 - (1.967-1.027)**2/2"
   ]
  },
  {
   "cell_type": "code",
   "execution_count": 69,
   "id": "b07b723b",
   "metadata": {},
   "outputs": [
    {
     "data": {
      "text/plain": [
       "-0.022"
      ]
     },
     "execution_count": 69,
     "metadata": {},
     "output_type": "execute_result"
    }
   ],
   "source": [
    "DR_th"
   ]
  },
  {
   "cell_type": "code",
   "execution_count": 83,
   "id": "a5435617",
   "metadata": {},
   "outputs": [],
   "source": [
    "Df_pract = -eta*gamma_tr**2*f0*DR/R *1e3"
   ]
  },
  {
   "cell_type": "code",
   "execution_count": 84,
   "id": "6c9c7914",
   "metadata": {},
   "outputs": [
    {
     "data": {
      "text/plain": [
       "np.float64(365.06889261947015)"
      ]
     },
     "execution_count": 84,
     "metadata": {},
     "output_type": "execute_result"
    }
   ],
   "source": [
    "Df_pract"
   ]
  },
  {
   "cell_type": "code",
   "execution_count": 85,
   "id": "ec240047",
   "metadata": {},
   "outputs": [
    {
     "data": {
      "text/plain": [
       "np.float64(234.38906972727756)"
      ]
     },
     "execution_count": 85,
     "metadata": {},
     "output_type": "execute_result"
    }
   ],
   "source": [
    "Df"
   ]
  },
  {
   "cell_type": "markdown",
   "id": "650a1e58",
   "metadata": {},
   "source": [
    "# Mathematica series expansion of the integral"
   ]
  },
  {
   "cell_type": "code",
   "execution_count": 87,
   "id": "bd1f8115",
   "metadata": {},
   "outputs": [],
   "source": [
    "def get_def_int(E0, V0, f0, P, R, gamma_tr, f_rate,t_sweep):\n",
    "    prefact = P*R*V0*gamma_tr**2/E0**2\n",
    "    t2_fact = -np.pi * E0 * f0 * t_sweep**2\n",
    "    t3_fact = -2*t_sweep**3 * np.pi*(f_rate*E0**2+2*np.pi*(E0-2)*V0*f0**2)/(3*E0**2)\n",
    "    t4_fact = np.pi**2 * f0 * t_sweep**4 *(np.pi*f0**2 * (E0**3 - 6*E0*V0**2 + 12*V0**2) -6*f_rate*(E0-2)*E0*V0)/(3*E0**2)\n",
    "    return prefact * (t2_fact + t3_fact + t4_fact)"
   ]
  },
  {
   "cell_type": "code",
   "execution_count": 90,
   "id": "38a2ca2c",
   "metadata": {},
   "outputs": [],
   "source": [
    "DR = get_def_int(E, V0, P, f0, R, gamma_tr, a, 1.967) - get_def_int(E, V0, P, f0, R, gamma_tr, a, 1.027)"
   ]
  },
  {
   "cell_type": "code",
   "execution_count": 91,
   "id": "1578f2e2",
   "metadata": {},
   "outputs": [
    {
     "data": {
      "text/plain": [
       "np.float64(8.739098092541658e+18)"
      ]
     },
     "execution_count": 91,
     "metadata": {},
     "output_type": "execute_result"
    }
   ],
   "source": [
    "DR"
   ]
  },
  {
   "cell_type": "code",
   "execution_count": 92,
   "id": "046859ce",
   "metadata": {},
   "outputs": [],
   "source": [
    "def eval_int_simpl(E0, V0, f0, P, R, gamma_tr, f_rate,t):\n",
    "    t_term = (-2*E0+ E0**2 -2*V0*np.pi)/(np.pi*V0) * t\n",
    "    t2_term = 2*f0*t**2\n",
    "    t3_term = 4*f_rate/3 *t**3\n",
    "    atg_term = ((-2 + E0)*E0**2 * np.atan((np.sqrt(V0*np.pi)*(f0+2*f_rate*t))/(np.sqrt(2*f_rate*E0-2*f_rate*V0*np.pi-V0*f_rate**2*np.pi))))/((V0*np.pi)**(3/2)*np.sqrt(2*f_rate*E0-2*f_rate*V0*np.pi-V0*f_rate**2*np.pi))\n",
    "\n",
    "    return P*R*V0*gamma_tr**2*np.pi/E0**2 * (t_term + t2_term + t3_term + atg_term)"
   ]
  },
  {
   "cell_type": "code",
   "execution_count": 93,
   "id": "c80aa2fb",
   "metadata": {},
   "outputs": [],
   "source": [
    "DR = eval_int_simpl(E, V0, f0, P, R, gamma_tr, a, 1.967) - eval_int_simpl(E, V0, f0, P, R, gamma_tr, a, 1.027)"
   ]
  },
  {
   "cell_type": "code",
   "execution_count": 94,
   "id": "c4d37519",
   "metadata": {},
   "outputs": [
    {
     "data": {
      "text/plain": [
       "np.float64(284311233.6285262)"
      ]
     },
     "execution_count": 94,
     "metadata": {},
     "output_type": "execute_result"
    }
   ],
   "source": [
    "DR"
   ]
  },
  {
   "cell_type": "code",
   "execution_count": 95,
   "id": "1a77de1f",
   "metadata": {},
   "outputs": [],
   "source": [
    "import xtrack as xt"
   ]
  },
  {
   "cell_type": "code",
   "execution_count": 99,
   "id": "4bcbe74e",
   "metadata": {},
   "outputs": [
    {
     "data": {
      "application/vnd.jupyter.widget-view+json": {
       "model_id": "35c8ada89b0745c08f58c34bc3ff6c84",
       "version_major": 2,
       "version_minor": 0
      },
      "text/plain": [
       "Loading line from dict:   0%|          | 0/101993 [00:00<?, ?it/s]"
      ]
     },
     "metadata": {},
     "output_type": "display_data"
    },
    {
     "name": "stdout",
     "output_type": "stream",
     "text": [
      "Done loading line from dict.           \n"
     ]
    }
   ],
   "source": [
    "line_lhc = xt.Line.from_json(Path('/Users/lisepauwels/sps_simulations/archive/injecion_lines/lhc_run3_b1.json'))"
   ]
  },
  {
   "cell_type": "code",
   "execution_count": 100,
   "id": "8b4833d2",
   "metadata": {},
   "outputs": [],
   "source": [
    "tw = line_lhc.twiss()"
   ]
  },
  {
   "cell_type": "code",
   "execution_count": 98,
   "id": "53b0608f",
   "metadata": {},
   "outputs": [],
   "source": [
    "from pathlib import Path"
   ]
  },
  {
   "cell_type": "code",
   "execution_count": 101,
   "id": "f3be4e93",
   "metadata": {},
   "outputs": [
    {
     "data": {
      "text/plain": [
       "np.float64(7247.364688568272)"
      ]
     },
     "execution_count": 101,
     "metadata": {},
     "output_type": "execute_result"
    }
   ],
   "source": [
    "tw.gamma0"
   ]
  },
  {
   "cell_type": "code",
   "execution_count": 102,
   "id": "6667ffd0",
   "metadata": {},
   "outputs": [
    {
     "data": {
      "text/plain": [
       "np.float64(0.9999999904805956)"
      ]
     },
     "execution_count": 102,
     "metadata": {},
     "output_type": "execute_result"
    }
   ],
   "source": [
    "np.sqrt(1 - 1/tw.gamma0**2)"
   ]
  },
  {
   "cell_type": "code",
   "execution_count": 103,
   "id": "4534ab4c",
   "metadata": {},
   "outputs": [
    {
     "data": {
      "text/plain": [
       "7247.380817888241"
      ]
     },
     "execution_count": 103,
     "metadata": {},
     "output_type": "execute_result"
    }
   ],
   "source": [
    "6.8e12/938.27e6"
   ]
  },
  {
   "cell_type": "code",
   "execution_count": null,
   "id": "b0bd2e0c",
   "metadata": {},
   "outputs": [],
   "source": []
  }
 ],
 "metadata": {
  "kernelspec": {
   "display_name": "xcoll",
   "language": "python",
   "name": "python3"
  },
  "language_info": {
   "codemirror_mode": {
    "name": "ipython",
    "version": 3
   },
   "file_extension": ".py",
   "mimetype": "text/x-python",
   "name": "python",
   "nbconvert_exporter": "python",
   "pygments_lexer": "ipython3",
   "version": "3.13.3"
  }
 },
 "nbformat": 4,
 "nbformat_minor": 5
}
