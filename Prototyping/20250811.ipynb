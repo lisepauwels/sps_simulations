{
 "cells": [
  {
   "cell_type": "code",
   "execution_count": 1,
   "id": "7ec6b030",
   "metadata": {},
   "outputs": [],
   "source": [
    "import numpy as np\n",
    "from pathlib import Path\n",
    "import time\n",
    "import matplotlib.pyplot as plt\n",
    "start_time = time.time()\n",
    "\n",
    "import xobjects as xo\n",
    "import xtrack as xt\n",
    "import xpart as xp\n",
    "import xobjects as xo\n",
    "import xcoll as xc\n",
    "\n",
    "# import apertls\n",
    "from matplotlib.colors import LogNorm\n",
    "\n",
    "import gzip\n",
    "from typing import Union\n",
    "\n",
    "import awkward as ak\n",
    "import pandas as pd\n",
    "import re\n",
    "from datetime import datetime"
   ]
  },
  {
   "cell_type": "markdown",
   "id": "332718a7",
   "metadata": {},
   "source": [
    "# Functions"
   ]
  },
  {
   "cell_type": "code",
   "execution_count": 4,
   "id": "07bff5e7",
   "metadata": {},
   "outputs": [],
   "source": [
    "def moindre_carres(ref_data, sim_data, mask_None):\n",
    "    distances = []\n",
    "    for turn in range(len(sim_data)):\n",
    "        distances.append(np.linalg.norm(sim_data[turn][~mask_None] - ref_data[~mask_None]))\n",
    "    best_turn = np.nanargmin(distances)\n",
    "\n",
    "    # distances = np.linalg.norm(sim_data - ref_data, axis=1)\n",
    "    # best_turn = np.argmin(distances)\n",
    "    return int(best_turn), distances"
   ]
  },
  {
   "cell_type": "code",
   "execution_count": 5,
   "id": "c12bcb5e",
   "metadata": {},
   "outputs": [],
   "source": [
    "def get_straight_line(t, t1, r1, t2, r2):\n",
    "    alpha = (r2 - r1) / (t2 - t1)\n",
    "    return r1 + alpha * (t - t1)"
   ]
  },
  {
   "cell_type": "code",
   "execution_count": 6,
   "id": "1813c2c7",
   "metadata": {},
   "outputs": [],
   "source": [
    "def insert_monitor_bpms(line, num_turns, num_particles):\n",
    "    tt = line.get_table()\n",
    "    bph_list = tt.rows['bph.*..0'].name\n",
    "    env = line.env\n",
    "    insertions = []\n",
    "    monitors_elems = []\n",
    "    monitorBPM_names = []\n",
    "    for name in bph_list:\n",
    "        monitorBPM_names.append(name.split('.')[0] + '.' + name.split('.')[1])\n",
    "\n",
    "        monitors_elems.append(xt.ParticlesMonitor(_context=line._context, \n",
    "                                                            num_particles=num_particles, \n",
    "                                                            start_at_turn=0, \n",
    "                                                            stop_at_turn=num_turns+1))\n",
    "        env.elements[f'{name}_monitor'] = monitors_elems[-1]\n",
    "        insertions.append(env.place(f'{name}_monitor', at=line.get_s_position(name)))\n",
    "    line.insert(insertions, s_tol=1e-6)\n",
    "    return np.array(monitorBPM_names), monitors_elems\n",
    "\n",
    "def install_tidp(line, block_mvt=29e-3):\n",
    "    tidp_ap_tot = 147e-3\n",
    "    line.discard_tracker()\n",
    "    tidp = xc.EverestCollimator(length=4.3, material=xc.materials.Carbon, jaw_L= tidp_ap_tot/2 + block_mvt, jaw_R = -tidp_ap_tot/2 + block_mvt)\n",
    "    line.collimators.install(names=['tidp.11434'], elements=[tidp])\n",
    "    return tidp"
   ]
  },
  {
   "cell_type": "code",
   "execution_count": 7,
   "id": "6766cfed",
   "metadata": {},
   "outputs": [],
   "source": [
    "def post_processing_simulation(line, monitors_elems, part):\n",
    "    turn_max = part.at_turn[0]\n",
    "    tt = line.get_table()\n",
    "    monitors = tt.rows['.*monitor.*'].name\n",
    "    s_positions_monitors = tt.rows['.*monitor.*'].s\n",
    "    x_positions = []\n",
    "\n",
    "    data_mean = {}\n",
    "    for i, monitor in enumerate(monitors):\n",
    "        masked_x = ak.Array([monitors_elems[i].x[p][monitors_elems[i].state[p] > 0] for p in range(len(monitors_elems[i].x))])\n",
    "        data_mean[monitor] = ak.mean(masked_x, axis=0)\n",
    "\n",
    "    for turn in range(turn_max):\n",
    "        x_turn = []\n",
    "        for monitor in monitors:\n",
    "            x_turn.append(data_mean[monitor][turn])\n",
    "        x_positions.append(x_turn)\n",
    "    x_positions = ak.Array(x_positions)\n",
    "    \n",
    "    return s_positions_monitors, x_positions"
   ]
  },
  {
   "cell_type": "markdown",
   "id": "d9920913",
   "metadata": {},
   "source": [
    "# BPM class post mortem"
   ]
  },
  {
   "cell_type": "code",
   "execution_count": 8,
   "id": "7cf7d7e3",
   "metadata": {},
   "outputs": [],
   "source": [
    "from typing import Optional, Tuple, Union, Set, List\n",
    "import re\n",
    "\n",
    "class BPMBehavior(ak.Record):\n",
    "    pass\n",
    "\n",
    "class BPMCollectionBehavior(ak.Array):\n",
    "    @property\n",
    "    def full_index(self):\n",
    "        if not hasattr(self, '_full_index'):\n",
    "            self._build_full_index()\n",
    "        return self._full_index\n",
    "    \n",
    "    @property\n",
    "    def index(self):\n",
    "        if not hasattr(self, '_index'):\n",
    "            self._build_index()\n",
    "        return self._index\n",
    "    \n",
    "    @property\n",
    "    def bpms_hor(self):\n",
    "        if not hasattr(self, '_bpms_hor'):\n",
    "            self._build_bpms_hor()\n",
    "        return self._bpms_hor\n",
    "    \n",
    "    @property\n",
    "    def bpms_ver(self):\n",
    "        if not hasattr(self, '_bpms_ver'):\n",
    "            self._build_bpms_ver()\n",
    "        return self._bpms_ver\n",
    "    \n",
    "    @property\n",
    "    def hor_turn_position(self):\n",
    "        if not hasattr(self, '_hor_pos'):\n",
    "            self._build_hor_pos()\n",
    "        return self._hor_pos\n",
    "    \n",
    "    @property\n",
    "    def ver_turn_position(self):\n",
    "        if not hasattr(self, '_ver_pos'):\n",
    "            self._build_ver_pos()\n",
    "        return self._ver_pos\n",
    "    \n",
    "    def _build_full_index(self):\n",
    "        self._full_index = {}\n",
    "\n",
    "        bpm_entries = []\n",
    "\n",
    "        # Collect all BPMs with metadata\n",
    "        for crate in self.fields:\n",
    "            for i, bpm in enumerate(self[crate]['value']['channelNames'][0]):\n",
    "                if bpm != 'SPARE':\n",
    "                    split_bpm = bpm.split('.')\n",
    "                    bpm_name = split_bpm[0].lower() + '.' + split_bpm[1]\n",
    "                    plane = split_bpm[2]\n",
    "                    position = self[crate]['value']['positions'][0][i]\n",
    "\n",
    "                    bpm_entries.append({\n",
    "                        'bpm_name': bpm_name,\n",
    "                        'plane': plane,\n",
    "                        'crate': crate,\n",
    "                        'position': position\n",
    "                    })\n",
    "\n",
    "        # Sort BPMs by natural order (e.g., bpm.1, bpm.2, ..., bpm.10)\n",
    "        def natural_key(entry):\n",
    "            # Extract the numeric part of the BPM name for sorting\n",
    "            match = re.search(r'(\\d+)$', entry['bpm_name'])\n",
    "            return int(match.group(1)) if match else entry['bpm_name']\n",
    "\n",
    "        bpm_entries.sort(key=natural_key)\n",
    "\n",
    "        # Build _full_index with sorted BPMs\n",
    "        for idx, entry in enumerate(bpm_entries):\n",
    "            name = entry['bpm_name']\n",
    "            if name not in self._full_index:\n",
    "                self._full_index[name] = {}\n",
    "            self._full_index[name]['plane'] = entry['plane']\n",
    "            self._full_index[name]['index'] = idx\n",
    "            self._full_index[name]['crate'] = entry['crate']\n",
    "            self._full_index[name]['positions'] = entry['position']\n",
    "    \n",
    "    def _build_index(self):\n",
    "        self._index = {}\n",
    "        if not hasattr(self, '_full_index'):\n",
    "            self._build_full_index()\n",
    "        for i, bpm in enumerate(self._full_index):\n",
    "            if bpm not in self._index:\n",
    "                self._index[bpm] = i\n",
    "\n",
    "    def _build_bpms_hor(self):\n",
    "        if not hasattr(self, '_full_index'):\n",
    "            self._build_full_index()\n",
    "        bpms = [bpm for bpm in self._full_index if self._full_index[bpm]['plane'] == 'H']\n",
    "        self._bpms_hor = ak.Array(sorted(bpms, key=lambda bpm: self._full_index[bpm]['index'])) #BPMs are sorted by index\n",
    "    \n",
    "    def _build_bpms_ver(self):\n",
    "        if not hasattr(self, '_full_index'):\n",
    "            self._build_full_index()\n",
    "        bpms = [bpm for bpm in self._full_index if self._full_index[bpm]['plane'] == 'V']\n",
    "        self._bpms_ver = ak.Array(sorted(bpms, key=lambda bpm: self._full_index[bpm]['index'])) #BPMs are sorted by index\n",
    "\n",
    "    def _build_hor_pos(self):\n",
    "        if not hasattr(self, '_bpms_hor'):\n",
    "            self._build_bpms_hor()\n",
    "        self._hor_pos = ak.Array([self._full_index[bpm]['positions'] for bpm in self._bpms_hor])\n",
    "    \n",
    "    def _build_ver_pos(self):\n",
    "        if not hasattr(self, '_bpms_ver'):\n",
    "            self._build_bpms_ver()\n",
    "        self._ver_pos = ak.Array([self._full_index[bpm]['positions'] for bpm in self._bpms_ver])\n",
    "\n",
    "\n",
    "ak.behavior[\"*\", \"BPMCollection\"] = BPMCollectionBehavior"
   ]
  },
  {
   "cell_type": "markdown",
   "id": "5a2529df",
   "metadata": {},
   "source": [
    "# Test"
   ]
  },
  {
   "cell_type": "code",
   "execution_count": 3,
   "id": "264aed10",
   "metadata": {},
   "outputs": [],
   "source": [
    "f_0 = 200_000_000\n",
    "omega_0 = 2*np.pi * f_0\n",
    "f_final = 200002425.75177294\n",
    "omega_final = 2*np.pi * f_final"
   ]
  },
  {
   "cell_type": "code",
   "execution_count": 9,
   "id": "31b20085",
   "metadata": {},
   "outputs": [],
   "source": [
    "T_0 = 1 / f_0"
   ]
  },
  {
   "cell_type": "code",
   "execution_count": 10,
   "id": "6e0237c5",
   "metadata": {},
   "outputs": [
    {
     "data": {
      "application/vnd.jupyter.widget-view+json": {
       "model_id": "c6d50f12bdd44101be846420f17b5b03",
       "version_major": 2,
       "version_minor": 0
      },
      "text/plain": [
       "Loading line from dict:   0%|          | 0/36404 [00:00<?, ?it/s]"
      ]
     },
     "metadata": {},
     "output_type": "display_data"
    },
    {
     "name": "stdout",
     "output_type": "stream",
     "text": [
      "Done loading line from dict.           \n"
     ]
    }
   ],
   "source": [
    "line = xt.Line.from_json('../injection_lines/sps_with_aperture_inj_q20_beam_sagitta5.json')"
   ]
  },
  {
   "cell_type": "code",
   "execution_count": 11,
   "id": "d4d972b2",
   "metadata": {},
   "outputs": [],
   "source": [
    "tw = line.twiss()"
   ]
  },
  {
   "cell_type": "code",
   "execution_count": 14,
   "id": "404ebe1e",
   "metadata": {},
   "outputs": [],
   "source": [
    "alpha = tw.momentum_compaction_factor\n",
    "gamma_tr = 1/np.sqrt(alpha)"
   ]
  },
  {
   "cell_type": "code",
   "execution_count": 18,
   "id": "b561df9f",
   "metadata": {},
   "outputs": [],
   "source": [
    "E = 26e9\n",
    "gamma_R = (E/(938.27e6) + 1)\n",
    "beta_R = np.sqrt(1 - 1/gamma_R**2)"
   ]
  },
  {
   "cell_type": "code",
   "execution_count": 27,
   "id": "82fd597a",
   "metadata": {},
   "outputs": [],
   "source": [
    "delta = 3.5e6 * np.sin(omega_final * T_0 - np.pi)/(E*beta_R**2)"
   ]
  },
  {
   "cell_type": "code",
   "execution_count": 23,
   "id": "03f79c74",
   "metadata": {},
   "outputs": [
    {
     "data": {
      "text/plain": [
       "np.float64(-1.0271127313360415e-08)"
      ]
     },
     "execution_count": 23,
     "metadata": {},
     "output_type": "execute_result"
    }
   ],
   "source": [
    "delta"
   ]
  },
  {
   "cell_type": "code",
   "execution_count": 21,
   "id": "be47f644",
   "metadata": {},
   "outputs": [
    {
     "data": {
      "text/plain": [
       "np.float64(0.9993932384683151)"
      ]
     },
     "execution_count": 21,
     "metadata": {},
     "output_type": "execute_result"
    }
   ],
   "source": [
    "beta_R"
   ]
  },
  {
   "cell_type": "code",
   "execution_count": 24,
   "id": "cccb89fe",
   "metadata": {},
   "outputs": [],
   "source": [
    "mass_ratio = 1.6726e-27/9.109e-31"
   ]
  },
  {
   "cell_type": "code",
   "execution_count": 28,
   "id": "dd3fedba",
   "metadata": {},
   "outputs": [
    {
     "data": {
      "text/plain": [
       "np.float64(-1.8859905087634902e-05)"
      ]
     },
     "execution_count": 28,
     "metadata": {},
     "output_type": "execute_result"
    }
   ],
   "source": [
    "delta*mass_ratio"
   ]
  },
  {
   "cell_type": "code",
   "execution_count": 29,
   "id": "a8dd3c10",
   "metadata": {},
   "outputs": [],
   "source": [
    "eta = tw.slip_factor"
   ]
  },
  {
   "cell_type": "code",
   "execution_count": 30,
   "id": "6f035a58",
   "metadata": {},
   "outputs": [],
   "source": [
    "delta_sim = 1/eta * (f_final-f_0)/f_0"
   ]
  },
  {
   "cell_type": "code",
   "execution_count": 32,
   "id": "73773daa",
   "metadata": {},
   "outputs": [
    {
     "data": {
      "text/plain": [
       "np.float64(-1.519941764111236e-06)"
      ]
     },
     "execution_count": 32,
     "metadata": {},
     "output_type": "execute_result"
    }
   ],
   "source": [
    "delta/delta_sim"
   ]
  },
  {
   "cell_type": "code",
   "execution_count": 43,
   "id": "e64365f1",
   "metadata": {},
   "outputs": [
    {
     "data": {
      "text/plain": [
       "<matplotlib.collections.PathCollection at 0x32755c190>"
      ]
     },
     "execution_count": 43,
     "metadata": {},
     "output_type": "execute_result"
    },
    {
     "data": {
      "image/png": "[encoded data removed]",
      "text/plain": [
       "<Figure size 640x480 with 1 Axes>"
      ]
     },
     "metadata": {},
     "output_type": "display_data"
    }
   ],
   "source": [
    "t = np.linspace(0, T_0, 1000)\n",
    "plt.plot(t, np.sin(omega_final*t - np.pi))\n",
    "plt.scatter(T_0, np.sin(omega_final*T_0 - np.pi), color='red')"
   ]
  },
  {
   "cell_type": "code",
   "execution_count": 49,
   "id": "709eea85",
   "metadata": {},
   "outputs": [],
   "source": [
    "delta = mass_ratio*3.5e6 * np.sin(omega_final * T_0 - np.pi)/(E*beta_R**2)"
   ]
  },
  {
   "cell_type": "code",
   "execution_count": 50,
   "id": "95b709b4",
   "metadata": {},
   "outputs": [
    {
     "data": {
      "text/plain": [
       "np.float64(-1.88599050876349e-05)"
      ]
     },
     "execution_count": 50,
     "metadata": {},
     "output_type": "execute_result"
    }
   ],
   "source": [
    "delta"
   ]
  },
  {
   "cell_type": "code",
   "execution_count": 54,
   "id": "adbebe44",
   "metadata": {},
   "outputs": [
    {
     "data": {
      "text/plain": [
       "[<matplotlib.lines.Line2D at 0x330b1a5d0>]"
      ]
     },
     "execution_count": 54,
     "metadata": {},
     "output_type": "execute_result"
    },
    {
     "data": {
      "image/png": "[encoded data removed]",
      "text/plain": [
       "<Figure size 640x480 with 1 Axes>"
      ]
     },
     "metadata": {},
     "output_type": "display_data"
    }
   ],
   "source": [
    "plt.plot(t, mass_ratio*3.5e6 * np.sin(omega_final * t - np.pi)/(E*beta_R**2))"
   ]
  },
  {
   "cell_type": "code",
   "execution_count": 55,
   "id": "05461419",
   "metadata": {},
   "outputs": [
    {
     "data": {
      "text/plain": [
       "5e-09"
      ]
     },
     "execution_count": 55,
     "metadata": {},
     "output_type": "execute_result"
    }
   ],
   "source": [
    "T_0"
   ]
  },
  {
   "cell_type": "code",
   "execution_count": 53,
   "id": "e18e1847",
   "metadata": {},
   "outputs": [
    {
     "data": {
      "text/plain": [
       "[<matplotlib.lines.Line2D at 0x330be0f50>]"
      ]
     },
     "execution_count": 53,
     "metadata": {},
     "output_type": "execute_result"
    },
    {
     "data": {
      "image/png": "[encoded data removed]",
      "text/plain": [
       "<Figure size 640x480 with 1 Axes>"
      ]
     },
     "metadata": {},
     "output_type": "display_data"
    }
   ],
   "source": [
    "plt.plot(mass_ratio*3.5e6 * np.sin(omega_final * t - np.pi)/(E*beta_R**2))"
   ]
  }
 ],
 "metadata": {
  "kernelspec": {
   "display_name": "xcoll",
   "language": "python",
   "name": "python3"
  },
  "language_info": {
   "codemirror_mode": {
    "name": "ipython",
    "version": 3
   },
   "file_extension": ".py",
   "mimetype": "text/x-python",
   "name": "python",
   "nbconvert_exporter": "python",
   "pygments_lexer": "ipython3",
   "version": "3.13.3"
  }
 },
 "nbformat": 4,
 "nbformat_minor": 5
}
