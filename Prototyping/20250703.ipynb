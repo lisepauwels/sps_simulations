{
 "cells": [
  {
   "cell_type": "code",
   "execution_count": 1,
   "id": "15b60d24",
   "metadata": {},
   "outputs": [],
   "source": [
    "import numpy as np\n",
    "import json\n",
    "import matplotlib.pyplot as plt\n",
    "import xtrack as xt\n",
    "import xcoll as xc\n",
    "import xpart as xp\n",
    "import xobjects as xo"
   ]
  },
  {
   "cell_type": "markdown",
   "id": "f9ea2ae8",
   "metadata": {},
   "source": [
    "In my simulations on ht condor, I forgot to add e-3 to the jaw positions of the tidp, so they were placed in m instead of mm and was invisible, until a bump of -40mm ish.\n",
    "\n",
    "Conclusion:\n",
    "- It is visible already at -10mm if the jaw positions are in mm "
   ]
  },
  {
   "cell_type": "markdown",
   "id": "ca68f71c",
   "metadata": {},
   "source": [
    "# -10mm bump"
   ]
  },
  {
   "cell_type": "code",
   "execution_count": 2,
   "id": "4ab19f5b",
   "metadata": {},
   "outputs": [
    {
     "data": {
      "application/vnd.jupyter.widget-view+json": {
       "model_id": "f7690742da7f4db9b78b001c4eee3225",
       "version_major": 2,
       "version_minor": 0
      },
      "text/plain": [
       "Loading line from dict:   0%|          | 0/36395 [00:00<?, ?it/s]"
      ]
     },
     "metadata": {},
     "output_type": "display_data"
    },
    {
     "name": "stdout",
     "output_type": "stream",
     "text": [
      "Done loading line from dict.           \n"
     ]
    }
   ],
   "source": [
    "line = xt.Line.from_json('../injection_lines/sps_with_aperture_inj_q20_beam_sagitta2.json')"
   ]
  },
  {
   "cell_type": "code",
   "execution_count": 3,
   "id": "1a152331",
   "metadata": {},
   "outputs": [],
   "source": [
    "#Preping line for bump\n",
    "env = line.env\n",
    "\n",
    "line['bump.11207'] = 0\n",
    "line['bump.11407'] = 0\n",
    "line['bump.11607'] = 0\n",
    "line['bump.12207'] = 0\n",
    "\n",
    "line.ref['mdh.11207'].knl[0] += line.vars['bump.11207']\n",
    "line.ref['mdh.11407'].knl[0] += line.vars['bump.11407']\n",
    "line.ref['mdh.11607'].knl[0] += line.vars['bump.11607']\n",
    "line.ref['mdh.12207'].knl[0] += line.vars['bump.12207']"
   ]
  },
  {
   "cell_type": "code",
   "execution_count": 8,
   "id": "ae6c3455",
   "metadata": {},
   "outputs": [],
   "source": [
    "#Context and parameters\n",
    "context = xo.ContextCpu()\n",
    "\n",
    "num_particles  = 1000\n",
    "plane = 'DPneg'\n",
    "sweep = 6000\n",
    "sweep = -abs(sweep) if plane == 'DPpos' else abs(sweep)\n",
    "num_turns = 6000"
   ]
  },
  {
   "cell_type": "code",
   "execution_count": 5,
   "id": "b6d26d19",
   "metadata": {},
   "outputs": [],
   "source": [
    "#Setting cavities to the same frequency and phase, plus setting the voltage\n",
    "cavity_elements, cavity_names = line.get_elements_of_type(xt.Cavity)\n",
    "\n",
    "for name in cavity_names:\n",
    "    line[name].frequency = 200e6\n",
    "    line[name].lag = 180\n",
    "line['actcse.31632'].voltage = 3.5e6"
   ]
  },
  {
   "cell_type": "code",
   "execution_count": 6,
   "id": "5a598ec9",
   "metadata": {},
   "outputs": [
    {
     "data": {
      "application/vnd.jupyter.widget-view+json": {
       "model_id": "21b06263f7ed4d3baf6aad98ea8078c1",
       "version_major": 2,
       "version_minor": 0
      },
      "text/plain": [
       "Slicing line:   0%|          | 0/75252 [00:00<?, ?it/s]"
      ]
     },
     "metadata": {},
     "output_type": "display_data"
    }
   ],
   "source": [
    "#Installing TIDP\n",
    "tidp_ap_tot = 147e-3\n",
    "block_mvt = 29e-3\n",
    "\n",
    "tidp = xc.EverestCollimator(length=4.3, material=xc.materials.Carbon, jaw_L= tidp_ap_tot/2 + block_mvt, jaw_R = -tidp_ap_tot/2 + block_mvt)\n",
    "line.collimators.install(names=['tidp.11434'], elements=[tidp])"
   ]
  },
  {
   "cell_type": "code",
   "execution_count": 7,
   "id": "44038d15",
   "metadata": {},
   "outputs": [
    {
     "name": "stdout",
     "output_type": "stream",
     "text": [
      "                                             \n",
      "Optimize - start penalty: 0.09974                           \n",
      "Matching: model call n. 11 penalty = 1.5340e-09              \n",
      "Optimize - end penalty:  1.53398e-09                            \n"
     ]
    }
   ],
   "source": [
    "tw = line.twiss()\n",
    "opt = line.match(\n",
    "    solve=False,\n",
    "    start='mdh.11007',\n",
    "    end='mdhw.11732',\n",
    "    init=tw,\n",
    "    vary=[\n",
    "        xt.VaryList(['bump.11207', 'bump.11407', 'bump.11607'], step=1e-8, tag='bump',)\n",
    "    ],\n",
    "    targets = [\n",
    "        xt.Target('x', -10e-3, at='tidp.11434'),\n",
    "        xt.TargetSet(['x', 'px'], value=tw, at='mdhw.11732')\n",
    "    ]\n",
    "    )\n",
    "opt.run_jacobian(10)"
   ]
  },
  {
   "cell_type": "code",
   "execution_count": 9,
   "id": "d0c2e5f9",
   "metadata": {},
   "outputs": [
    {
     "name": "stdout",
     "output_type": "stream",
     "text": [
      "The line already has an associated tracker\n",
      "*** Maximum RMS bunch length 0.2361011021355421m.\n",
      "... distance to target bunch length: -2.2226e-01\n",
      "... distance to target bunch length: 5.5784e-03\n",
      "... distance to target bunch length: 5.2361e-03\n",
      "... distance to target bunch length: -6.3267e-03\n",
      "... distance to target bunch length: 1.9948e-03\n",
      "... distance to target bunch length: -3.8258e-04\n",
      "... distance to target bunch length: 5.3833e-05\n",
      "... distance to target bunch length: 1.2594e-06\n",
      "... distance to target bunch length: -1.0995e-10\n",
      "... distance to target bunch length: 1.2805e-07\n",
      "--> Bunch length: 0.22399999989004873\n",
      "--> Emittance: 0.3170913627960028\n"
     ]
    }
   ],
   "source": [
    "line.build_tracker()\n",
    "part = xp.generate_matched_gaussian_bunch(nemitt_x=3.5e-6,\n",
    "                                          nemitt_y=3.5e-6,\n",
    "                                          sigma_z=0.224, num_particles=num_particles, line=line)"
   ]
  },
  {
   "cell_type": "code",
   "execution_count": 10,
   "id": "cd67badb",
   "metadata": {},
   "outputs": [
    {
     "name": "stdout",
     "output_type": "stream",
     "text": [
      "Compiling ContextCpu kernels...\n"
     ]
    },
    {
     "name": "stderr",
     "output_type": "stream",
     "text": [
      "ld: warning: duplicate -rpath '/Users/lisepauwels/miniforge3/envs/xcoll/lib' ignored\n",
      "ld: warning: duplicate -rpath '/Users/lisepauwels/miniforge3/envs/xcoll/lib' ignored\n"
     ]
    },
    {
     "name": "stdout",
     "output_type": "stream",
     "text": [
      "Done compiling ContextCpu kernels.\n",
      "The current frequency is 200000000.0Hz, adding 1.0Hz per turn until 200006000.0 (for 6000 turns).\n",
      "This sweep will move the center of the bucket with Δδ = -0.01671417346401637 (-2.4723872573444057 buckets).\n"
     ]
    }
   ],
   "source": [
    "line.discard_tracker()\n",
    "line.build_tracker(_context=xo.ContextCpu(omp_num_threads='auto'))\n",
    "rf_sweep = xc.RFSweep(line)\n",
    "rf_sweep.info(sweep=sweep, num_turns=num_turns)"
   ]
  },
  {
   "cell_type": "code",
   "execution_count": 11,
   "id": "460120e6",
   "metadata": {},
   "outputs": [
    {
     "data": {
      "application/vnd.jupyter.widget-view+json": {
       "model_id": "d00d2642b7674d2b8cc29342492c0d2c",
       "version_major": 2,
       "version_minor": 0
      },
      "text/plain": [
       "Tracking:   0%|          | 0/6000 [00:00<?, ?it/s]"
      ]
     },
     "metadata": {},
     "output_type": "display_data"
    }
   ],
   "source": [
    "line.scattering.enable()\n",
    "rf_sweep.track(sweep=sweep, particles=part, num_turns=num_turns, time=True, with_progress=5)\n",
    "line.scattering.disable()"
   ]
  },
  {
   "cell_type": "code",
   "execution_count": 18,
   "id": "2061cfeb",
   "metadata": {},
   "outputs": [
    {
     "data": {
      "text/plain": [
       "(array([    0,  5241,  7264,  8392, 66877]), array([  1,   3,   1, 986,   9]))"
      ]
     },
     "execution_count": 18,
     "metadata": {},
     "output_type": "execute_result"
    }
   ],
   "source": [
    "np.unique(part.at_element, return_counts=True)"
   ]
  },
  {
   "cell_type": "code",
   "execution_count": 17,
   "id": "e709cfa1",
   "metadata": {},
   "outputs": [
    {
     "data": {
      "text/plain": [
       "(np.str_('tidp.11434'),\n",
       " 'bph.12208.a_aper',\n",
       " 'bpcn.12508.a_aper',\n",
       " 'bpcn.61108.a_aper')"
      ]
     },
     "execution_count": 17,
     "metadata": {},
     "output_type": "execute_result"
    }
   ],
   "source": [
    "line.element_names[5241], line.element_names[7264], line.element_names[8392], line.element_names[66877]"
   ]
  },
  {
   "cell_type": "markdown",
   "id": "fb812491",
   "metadata": {},
   "source": [
    "# -20mm bump"
   ]
  },
  {
   "cell_type": "code",
   "execution_count": 27,
   "id": "a9ee3499",
   "metadata": {},
   "outputs": [
    {
     "data": {
      "application/vnd.jupyter.widget-view+json": {
       "model_id": "7146e42a78a1448f8faffa65150213e8",
       "version_major": 2,
       "version_minor": 0
      },
      "text/plain": [
       "Loading line from dict:   0%|          | 0/36395 [00:00<?, ?it/s]"
      ]
     },
     "metadata": {},
     "output_type": "display_data"
    },
    {
     "name": "stdout",
     "output_type": "stream",
     "text": [
      "Done loading line from dict.           \n"
     ]
    }
   ],
   "source": [
    "line = xt.Line.from_json('../injection_lines/sps_with_aperture_inj_q20_beam_sagitta2.json')\n",
    "\n",
    "#Preping line for bump\n",
    "env = line.env\n",
    "\n",
    "line['bump.11207'] = 0\n",
    "line['bump.11407'] = 0\n",
    "line['bump.11607'] = 0\n",
    "line['bump.12207'] = 0\n",
    "\n",
    "line.ref['mdh.11207'].knl[0] += line.vars['bump.11207']\n",
    "line.ref['mdh.11407'].knl[0] += line.vars['bump.11407']\n",
    "line.ref['mdh.11607'].knl[0] += line.vars['bump.11607']\n",
    "line.ref['mdh.12207'].knl[0] += line.vars['bump.12207']\n",
    "\n",
    "#Setting cavities to the same frequency and phase, plus setting the voltage\n",
    "cavity_elements, cavity_names = line.get_elements_of_type(xt.Cavity)\n",
    "\n",
    "for name in cavity_names:\n",
    "    line[name].frequency = 200e6\n",
    "    line[name].lag = 180\n",
    "line['actcse.31632'].voltage = 3.5e6"
   ]
  },
  {
   "cell_type": "code",
   "execution_count": 28,
   "id": "8bced860",
   "metadata": {},
   "outputs": [],
   "source": [
    "#Context and parameters\n",
    "context = xo.ContextCpu()\n",
    "\n",
    "num_particles  = 100\n",
    "plane = 'DPneg'\n",
    "sweep = 6000\n",
    "sweep = -abs(sweep) if plane == 'DPpos' else abs(sweep)\n",
    "num_turns = 6000"
   ]
  },
  {
   "cell_type": "code",
   "execution_count": 29,
   "id": "911fa1db",
   "metadata": {},
   "outputs": [
    {
     "data": {
      "application/vnd.jupyter.widget-view+json": {
       "model_id": "b2858163cd5b4dccb0f35feddca7f58e",
       "version_major": 2,
       "version_minor": 0
      },
      "text/plain": [
       "Slicing line:   0%|          | 0/75252 [00:00<?, ?it/s]"
      ]
     },
     "metadata": {},
     "output_type": "display_data"
    }
   ],
   "source": [
    "#Installing TIDP\n",
    "tidp_ap_tot = 147e-3\n",
    "block_mvt = 29e-3\n",
    "\n",
    "tidp = xc.EverestCollimator(length=4.3, material=xc.materials.Carbon, jaw_L= tidp_ap_tot/2 + block_mvt, jaw_R = -tidp_ap_tot/2 + block_mvt)\n",
    "line.collimators.install(names=['tidp.11434'], elements=[tidp])"
   ]
  },
  {
   "cell_type": "code",
   "execution_count": 30,
   "id": "8d6ef31c",
   "metadata": {},
   "outputs": [
    {
     "name": "stdout",
     "output_type": "stream",
     "text": [
      "                                             \n",
      "Optimize - start penalty: 0.1997                            \n",
      "Matching: model call n. 16 penalty = 2.4549e-15              \n",
      "Optimize - end penalty:  2.45493e-15                            \n"
     ]
    }
   ],
   "source": [
    "tw = line.twiss()\n",
    "opt = line.match(\n",
    "    solve=False,\n",
    "    start='mdh.11007',\n",
    "    end='mdhw.11732',\n",
    "    init=tw,\n",
    "    vary=[\n",
    "        xt.VaryList(['bump.11207', 'bump.11407', 'bump.11607'], step=1e-8, tag='bump',)\n",
    "    ],\n",
    "    targets = [\n",
    "        xt.Target('x', -20e-3, at='tidp.11434'),\n",
    "        xt.TargetSet(['x', 'px'], value=tw, at='mdhw.11732')\n",
    "    ]\n",
    "    )\n",
    "opt.run_jacobian(10)"
   ]
  },
  {
   "cell_type": "code",
   "execution_count": 31,
   "id": "9f3cebb8",
   "metadata": {},
   "outputs": [
    {
     "name": "stdout",
     "output_type": "stream",
     "text": [
      "The line already has an associated tracker\n",
      "*** Maximum RMS bunch length 0.2361011021355421m.\n",
      "... distance to target bunch length: -2.2226e-01\n",
      "... distance to target bunch length: 5.5784e-03\n",
      "... distance to target bunch length: 5.2361e-03\n",
      "... distance to target bunch length: -6.3267e-03\n",
      "... distance to target bunch length: 1.9948e-03\n",
      "... distance to target bunch length: -3.8258e-04\n",
      "... distance to target bunch length: 5.3833e-05\n",
      "... distance to target bunch length: 1.2594e-06\n",
      "... distance to target bunch length: -1.0995e-10\n",
      "... distance to target bunch length: 1.2805e-07\n",
      "--> Bunch length: 0.22399999989004873\n",
      "--> Emittance: 0.31708705898064643\n"
     ]
    }
   ],
   "source": [
    "line.build_tracker()\n",
    "part2 = xp.generate_matched_gaussian_bunch(nemitt_x=3.5e-6,\n",
    "                                          nemitt_y=3.5e-6,\n",
    "                                          sigma_z=0.224, num_particles=num_particles, line=line)"
   ]
  },
  {
   "cell_type": "code",
   "execution_count": 32,
   "id": "8a2f8c8f",
   "metadata": {},
   "outputs": [
    {
     "name": "stdout",
     "output_type": "stream",
     "text": [
      "Compiling ContextCpu kernels...\n"
     ]
    },
    {
     "name": "stderr",
     "output_type": "stream",
     "text": [
      "ld: warning: duplicate -rpath '/Users/lisepauwels/miniforge3/envs/xcoll/lib' ignored\n",
      "ld: warning: duplicate -rpath '/Users/lisepauwels/miniforge3/envs/xcoll/lib' ignored\n"
     ]
    },
    {
     "name": "stdout",
     "output_type": "stream",
     "text": [
      "Done compiling ContextCpu kernels.\n",
      "The current frequency is 200000000.0Hz, adding 1.0Hz per turn until 200006000.0 (for 6000 turns).\n",
      "This sweep will move the center of the bucket with Δδ = -0.016713719751069972 (-2.472353700144515 buckets).\n"
     ]
    }
   ],
   "source": [
    "line.discard_tracker()\n",
    "line.build_tracker(_context=xo.ContextCpu(omp_num_threads='auto'))\n",
    "rf_sweep = xc.RFSweep(line)\n",
    "rf_sweep.info(sweep=sweep, num_turns=num_turns)"
   ]
  },
  {
   "cell_type": "code",
   "execution_count": 33,
   "id": "fad53ef9",
   "metadata": {},
   "outputs": [
    {
     "data": {
      "application/vnd.jupyter.widget-view+json": {
       "model_id": "9d557225b34b4895a3dc1f5f5031bd57",
       "version_major": 2,
       "version_minor": 0
      },
      "text/plain": [
       "Tracking:   0%|          | 0/6000 [00:00<?, ?it/s]"
      ]
     },
     "metadata": {},
     "output_type": "display_data"
    },
    {
     "name": "stdout",
     "output_type": "stream",
     "text": [
      "All particles lost at turn 3121, stopped sweep at 2497.0Hz.\n"
     ]
    }
   ],
   "source": [
    "line.scattering.enable()\n",
    "rf_sweep.track(sweep=sweep, particles=part2, num_turns=num_turns, time=True, with_progress=5)\n",
    "line.scattering.disable()"
   ]
  },
  {
   "cell_type": "code",
   "execution_count": 36,
   "id": "363d9998",
   "metadata": {},
   "outputs": [
    {
     "data": {
      "text/plain": [
       "(array([ 5241,  5248,  5260,  5262,  5406,  5454,  5572,  5752,  5852,\n",
       "         5870,  5915,  5963,  5969,  5996,  6000,  7231,  7249,  7264,\n",
       "         7621,  7639,  8023,  8038,  8374,  8392,  8738,  8775,  8790,\n",
       "        12862, 33386, 46335, 50478, 66877, 71055]),\n",
       " array([47,  1,  1,  3,  1,  1,  2,  1,  3,  1,  1,  1,  1,  8,  1,  1,  1,\n",
       "         1,  3,  1,  1,  1,  2,  2,  1,  1,  1,  1,  6,  1,  1,  1,  1]))"
      ]
     },
     "execution_count": 36,
     "metadata": {},
     "output_type": "execute_result"
    }
   ],
   "source": [
    "np.unique(part2.at_element, return_counts=True)"
   ]
  },
  {
   "cell_type": "markdown",
   "id": "7566a01b",
   "metadata": {},
   "source": [
    "# Wrong jaw positions, -50mm"
   ]
  },
  {
   "cell_type": "code",
   "execution_count": 46,
   "id": "2367be32",
   "metadata": {},
   "outputs": [
    {
     "data": {
      "application/vnd.jupyter.widget-view+json": {
       "model_id": "6823b189d9d34501a23cc7b11c5b1722",
       "version_major": 2,
       "version_minor": 0
      },
      "text/plain": [
       "Loading line from dict:   0%|          | 0/36395 [00:00<?, ?it/s]"
      ]
     },
     "metadata": {},
     "output_type": "display_data"
    },
    {
     "name": "stdout",
     "output_type": "stream",
     "text": [
      "Done loading line from dict.           \n"
     ]
    }
   ],
   "source": [
    "line = xt.Line.from_json('../injection_lines/sps_with_aperture_inj_q20_beam_sagitta2.json')"
   ]
  },
  {
   "cell_type": "code",
   "execution_count": 47,
   "id": "8154ca56",
   "metadata": {},
   "outputs": [],
   "source": [
    "#Preping line for bump\n",
    "env = line.env\n",
    "\n",
    "line['bump.11207'] = 0\n",
    "line['bump.11407'] = 0\n",
    "line['bump.11607'] = 0\n",
    "line['bump.12207'] = 0\n",
    "\n",
    "line.ref['mdh.11207'].knl[0] += line.vars['bump.11207']\n",
    "line.ref['mdh.11407'].knl[0] += line.vars['bump.11407']\n",
    "line.ref['mdh.11607'].knl[0] += line.vars['bump.11607']\n",
    "line.ref['mdh.12207'].knl[0] += line.vars['bump.12207']"
   ]
  },
  {
   "cell_type": "code",
   "execution_count": 48,
   "id": "ac80b842",
   "metadata": {},
   "outputs": [],
   "source": [
    "#Context and parameters\n",
    "context = xo.ContextCpu()\n",
    "\n",
    "num_particles  = 100\n",
    "plane = 'DPneg'\n",
    "sweep = 6000\n",
    "sweep = -abs(sweep) if plane == 'DPpos' else abs(sweep)\n",
    "num_turns = 6000"
   ]
  },
  {
   "cell_type": "code",
   "execution_count": 49,
   "id": "3fe10108",
   "metadata": {},
   "outputs": [],
   "source": [
    "#Setting cavities to the same frequency and phase, plus setting the voltage\n",
    "cavity_elements, cavity_names = line.get_elements_of_type(xt.Cavity)\n",
    "\n",
    "for name in cavity_names:\n",
    "    line[name].frequency = 200e6\n",
    "    line[name].lag = 180\n",
    "line['actcse.31632'].voltage = 3.5e6"
   ]
  },
  {
   "cell_type": "code",
   "execution_count": 50,
   "id": "ae8dab52",
   "metadata": {},
   "outputs": [
    {
     "data": {
      "application/vnd.jupyter.widget-view+json": {
       "model_id": "edfc958090b943c8817d79ae61565d6c",
       "version_major": 2,
       "version_minor": 0
      },
      "text/plain": [
       "Slicing line:   0%|          | 0/75252 [00:00<?, ?it/s]"
      ]
     },
     "metadata": {},
     "output_type": "display_data"
    }
   ],
   "source": [
    "#Installing TIDP\n",
    "tidp_ap_tot = 147\n",
    "block_mvt = 29e-3\n",
    "\n",
    "tidp = xc.EverestCollimator(length=4.3, material=xc.materials.Carbon, jaw_L= tidp_ap_tot/2 + block_mvt, jaw_R = -tidp_ap_tot/2 + block_mvt)\n",
    "line.collimators.install(names=['tidp.11434'], elements=[tidp])"
   ]
  },
  {
   "cell_type": "code",
   "execution_count": 51,
   "id": "9bd37e73",
   "metadata": {},
   "outputs": [
    {
     "name": "stdout",
     "output_type": "stream",
     "text": [
      "                                             \n",
      "Optimize - start penalty: 0.4997                            \n",
      "Matching: model call n. 16 penalty = 3.2119e-14              \n",
      "Optimize - end penalty:  3.21193e-14                            \n"
     ]
    }
   ],
   "source": [
    "tw = line.twiss()\n",
    "opt = line.match(\n",
    "    solve=False,\n",
    "    start='mdh.11007',\n",
    "    end='mdhw.11732',\n",
    "    init=tw,\n",
    "    vary=[\n",
    "        xt.VaryList(['bump.11207', 'bump.11407', 'bump.11607'], step=1e-8, tag='bump',)\n",
    "    ],\n",
    "    targets = [\n",
    "        xt.Target('x', -50e-3, at='tidp.11434'),\n",
    "        xt.TargetSet(['x', 'px'], value=tw, at='mdhw.11732')\n",
    "    ]\n",
    "    )\n",
    "opt.run_jacobian(10)"
   ]
  },
  {
   "cell_type": "code",
   "execution_count": 52,
   "id": "c262b13e",
   "metadata": {},
   "outputs": [
    {
     "name": "stdout",
     "output_type": "stream",
     "text": [
      "The line already has an associated tracker\n",
      "*** Maximum RMS bunch length 0.2361011021355421m.\n",
      "... distance to target bunch length: -2.2226e-01\n",
      "... distance to target bunch length: 5.5784e-03\n",
      "... distance to target bunch length: 5.2361e-03\n",
      "... distance to target bunch length: -6.3267e-03\n",
      "... distance to target bunch length: 1.9948e-03\n",
      "... distance to target bunch length: -3.8258e-04\n",
      "... distance to target bunch length: 5.3833e-05\n",
      "... distance to target bunch length: 1.2594e-06\n",
      "... distance to target bunch length: -1.0995e-10\n",
      "... distance to target bunch length: 1.2805e-07\n",
      "--> Bunch length: 0.22399999989004873\n",
      "--> Emittance: 0.3170726743711638\n"
     ]
    }
   ],
   "source": [
    "line.build_tracker()\n",
    "part = xp.generate_matched_gaussian_bunch(nemitt_x=3.5e-6,\n",
    "                                          nemitt_y=3.5e-6,\n",
    "                                          sigma_z=0.224, num_particles=num_particles, line=line)"
   ]
  },
  {
   "cell_type": "code",
   "execution_count": 53,
   "id": "386a7847",
   "metadata": {},
   "outputs": [
    {
     "name": "stdout",
     "output_type": "stream",
     "text": [
      "Compiling ContextCpu kernels...\n"
     ]
    },
    {
     "name": "stderr",
     "output_type": "stream",
     "text": [
      "ld: warning: duplicate -rpath '/Users/lisepauwels/miniforge3/envs/xcoll/lib' ignored\n",
      "ld: warning: duplicate -rpath '/Users/lisepauwels/miniforge3/envs/xcoll/lib' ignored\n"
     ]
    },
    {
     "name": "stdout",
     "output_type": "stream",
     "text": [
      "Done compiling ContextCpu kernels.\n",
      "The current frequency is 200000000.0Hz, adding 1.0Hz per turn until 200006000.0 (for 6000 turns).\n",
      "This sweep will move the center of the bucket with Δδ = -0.016712203354411734 (-2.472241542169371 buckets).\n"
     ]
    }
   ],
   "source": [
    "line.discard_tracker()\n",
    "line.build_tracker(_context=xo.ContextCpu(omp_num_threads='auto'))\n",
    "rf_sweep = xc.RFSweep(line)\n",
    "rf_sweep.info(sweep=sweep, num_turns=num_turns)"
   ]
  },
  {
   "cell_type": "code",
   "execution_count": 54,
   "id": "f5c14928",
   "metadata": {},
   "outputs": [
    {
     "data": {
      "application/vnd.jupyter.widget-view+json": {
       "model_id": "ffc3f086621344eb90f99b90293faa58",
       "version_major": 2,
       "version_minor": 0
      },
      "text/plain": [
       "Tracking:   0%|          | 0/6000 [00:00<?, ?it/s]"
      ]
     },
     "metadata": {},
     "output_type": "display_data"
    },
    {
     "name": "stdout",
     "output_type": "stream",
     "text": [
      "All particles lost at turn 2243, stopped sweep at 1795.0Hz.\n"
     ]
    }
   ],
   "source": [
    "line.scattering.enable()\n",
    "rf_sweep.track(sweep=sweep, particles=part, num_turns=num_turns, time=True, with_progress=5)\n",
    "line.scattering.disable()"
   ]
  },
  {
   "cell_type": "code",
   "execution_count": 55,
   "id": "53f90a4e",
   "metadata": {},
   "outputs": [
    {
     "data": {
      "text/plain": [
       "(array([5216, 5227, 5229]), array([ 1, 42, 57]))"
      ]
     },
     "execution_count": 55,
     "metadata": {},
     "output_type": "execute_result"
    }
   ],
   "source": [
    "np.unique(part.at_element, return_counts=True)"
   ]
  },
  {
   "cell_type": "code",
   "execution_count": 56,
   "id": "0869b3f8",
   "metadata": {},
   "outputs": [
    {
     "data": {
      "text/plain": [
       "(np.str_('tidp.11434'),\n",
       " 'vttb.11402.c_aper',\n",
       " 'bph.11408.a_aper',\n",
       " 'bph.11408.b_aper')"
      ]
     },
     "execution_count": 56,
     "metadata": {},
     "output_type": "execute_result"
    }
   ],
   "source": [
    "line.element_names[5241], line.element_names[5216], line.element_names[5227], line.element_names[5229]"
   ]
  },
  {
   "cell_type": "code",
   "execution_count": 58,
   "id": "c8c36f0f",
   "metadata": {},
   "outputs": [],
   "source": [
    "mask1 = part.at_element==5216\n",
    "mask2 = part.at_element==5227\n",
    "mask3 = part.at_element==5229"
   ]
  },
  {
   "cell_type": "code",
   "execution_count": 69,
   "id": "93239f47",
   "metadata": {},
   "outputs": [
    {
     "data": {
      "text/plain": [
       "(View of LimitEllipse(a=0.076, b=0.0192),\n",
       " array([-0.06990868]),\n",
       " array([0.00751405]),\n",
       " array([1429]))"
      ]
     },
     "execution_count": 69,
     "metadata": {},
     "output_type": "execute_result"
    }
   ],
   "source": [
    "line['vttb.11402.c_aper'], part.x[mask1], part.y[mask1], part.at_turn[mask1]"
   ]
  },
  {
   "cell_type": "code",
   "execution_count": null,
   "id": "ad98e1d7",
   "metadata": {},
   "outputs": [
    {
     "data": {
      "text/plain": [
       "(View of LimitRect(min_x=-0.0725, max_x=0.0725, min_y=-0.0179, max_y=0.0179, _sin_rot_s=-999, _cos_rot_s=-999, _shift_x=0, _shift_y=0, _shift_s=0),\n",
       " array([-0.07254959, -0.07256378, -0.07253646, -0.07269369, -0.07256889,\n",
       "        -0.07258235, -0.07251104, -0.07273876, -0.07264608, -0.07294789,\n",
       "        -0.07263266, -0.07250385, -0.0726897 , -0.07272037, -0.07272669,\n",
       "        -0.07254233, -0.07279237, -0.07261858, -0.07250526, -0.07280611,\n",
       "        -0.07302031, -0.07284605, -0.07255564, -0.07290929, -0.07298228,\n",
       "        -0.07284543, -0.07272184, -0.07259783, -0.07267335, -0.07277827,\n",
       "        -0.07263374, -0.07277487, -0.07251411, -0.07254211, -0.07255247,\n",
       "        -0.07322965, -0.07258288, -0.07268706, -0.07257015, -0.07260715,\n",
       "        -0.07253513, -0.07260574]))"
      ]
     },
     "execution_count": 64,
     "metadata": {},
     "output_type": "execute_result"
    }
   ],
   "source": [
    "line['bph.11408.a_aper'], part.x[mask2]"
   ]
  },
  {
   "cell_type": "code",
   "execution_count": 67,
   "id": "61b4b1c5",
   "metadata": {},
   "outputs": [
    {
     "data": {
      "text/plain": [
       "(View of LimitRect(min_x=-0.0725, max_x=0.0725, min_y=-0.0179, max_y=0.0179, _sin_rot_s=-999, _cos_rot_s=-999, _shift_x=0, _shift_y=0, _shift_s=0),\n",
       " array([-0.07266556, -0.07256408, -0.07263499, -0.07267531, -0.07260686,\n",
       "        -0.07259104, -0.07259184, -0.07256474, -0.0726733 , -0.07263193,\n",
       "        -0.07269549, -0.07250057, -0.07270666, -0.07258852, -0.0726249 ,\n",
       "        -0.07254269, -0.07260599, -0.07265303, -0.07258861, -0.07260752,\n",
       "        -0.07252945, -0.07268767, -0.07265004, -0.07267579, -0.07255314,\n",
       "        -0.07274207, -0.07261325, -0.0725697 , -0.07271687, -0.0725366 ,\n",
       "        -0.07251909, -0.07262787, -0.07250762, -0.07254075, -0.0726747 ,\n",
       "        -0.07251786, -0.07276558, -0.07268324, -0.07265223, -0.07267685,\n",
       "        -0.07269319, -0.07263342, -0.07252952, -0.07265316, -0.07271784,\n",
       "        -0.07271939, -0.0726926 , -0.072698  , -0.07271542, -0.07269359,\n",
       "        -0.07264317, -0.07251901, -0.07263084, -0.07261   , -0.07271339,\n",
       "        -0.07271697, -0.07263273]))"
      ]
     },
     "execution_count": 67,
     "metadata": {},
     "output_type": "execute_result"
    }
   ],
   "source": [
    "line['bph.11408.b_aper'], part.x[mask3]"
   ]
  },
  {
   "cell_type": "markdown",
   "id": "ddcca6a0",
   "metadata": {},
   "source": [
    "Particles are not lost on the tidp but before that. Only question is: why is the first one lost? It should not have hit the aperture..."
   ]
  },
  {
   "cell_type": "code",
   "execution_count": 70,
   "id": "c29c4d19",
   "metadata": {},
   "outputs": [
    {
     "data": {
      "application/vnd.jupyter.widget-view+json": {
       "model_id": "28a691a0718940e3a66369a2d91a5652",
       "version_major": 2,
       "version_minor": 0
      },
      "text/plain": [
       "Loading line from dict:   0%|          | 0/36395 [00:00<?, ?it/s]"
      ]
     },
     "metadata": {},
     "output_type": "display_data"
    },
    {
     "name": "stdout",
     "output_type": "stream",
     "text": [
      "Done loading line from dict.           \n"
     ]
    }
   ],
   "source": [
    "line_ref = xt.Line.from_json('../injection_lines/sps_with_aperture_inj_q20_beam_sagitta2.json')\n",
    "tw_ref = line_ref.twiss()"
   ]
  },
  {
   "cell_type": "code",
   "execution_count": 71,
   "id": "8eafdcd2",
   "metadata": {},
   "outputs": [],
   "source": [
    "#Preping line for bump\n",
    "env = line.env\n",
    "\n",
    "line_ref['bump.11207'] = 0\n",
    "line_ref['bump.11407'] = 0\n",
    "line_ref['bump.11607'] = 0\n",
    "line_ref['bump.12207'] = 0\n",
    "\n",
    "line_ref.ref['mdh.11207'].knl[0] += line_ref.vars['bump.11207']\n",
    "line_ref.ref['mdh.11407'].knl[0] += line_ref.vars['bump.11407']\n",
    "line_ref.ref['mdh.11607'].knl[0] += line_ref.vars['bump.11607']\n",
    "line_ref.ref['mdh.12207'].knl[0] += line_ref.vars['bump.12207']"
   ]
  },
  {
   "cell_type": "code",
   "execution_count": 73,
   "id": "1706468c",
   "metadata": {},
   "outputs": [
    {
     "name": "stdout",
     "output_type": "stream",
     "text": [
      "                                             \n",
      "Optimize - start penalty: 0.4997                            \n",
      "Matching: model call n. 16 penalty = 3.4460e-14              \n",
      "Optimize - end penalty:  3.44596e-14                            \n"
     ]
    }
   ],
   "source": [
    "tw = line_ref.twiss()\n",
    "opt = line_ref.match(\n",
    "    solve=False,\n",
    "    start='mdh.11007',\n",
    "    end='mdhw.11732',\n",
    "    init=tw,\n",
    "    vary=[\n",
    "        xt.VaryList(['bump.11207', 'bump.11407', 'bump.11607'], step=1e-8, tag='bump',)\n",
    "    ],\n",
    "    targets = [\n",
    "        xt.Target('x', -50e-3, at='tidp.11434'),\n",
    "        xt.TargetSet(['x', 'px'], value=tw, at='mdhw.11732')\n",
    "    ]\n",
    "    )\n",
    "opt.run_jacobian(10)"
   ]
  },
  {
   "cell_type": "code",
   "execution_count": 74,
   "id": "6db22dde",
   "metadata": {},
   "outputs": [],
   "source": [
    "tw_after = line_ref.twiss()"
   ]
  },
  {
   "cell_type": "code",
   "execution_count": 113,
   "id": "03f3cd64",
   "metadata": {},
   "outputs": [
    {
     "data": {
      "text/plain": [
       "(445.0, 453.0)"
      ]
     },
     "execution_count": 113,
     "metadata": {},
     "output_type": "execute_result"
    },
    {
     "data": {
      "image/png": "[encoded data removed]",
      "text/plain": [
       "<Figure size 1200x600 with 1 Axes>"
      ]
     },
     "metadata": {},
     "output_type": "display_data"
    }
   ],
   "source": [
    "fig, ax = plt.subplots(1, 1, figsize=(12, 6))\n",
    "\n",
    "ax.plot(tw_after.s, tw_after.x, label='tw_ref.x')\n",
    "ax.plot(tw_after.s, tw_after.x + tw_after.dx * 2243/6000*(-0.016712203354411734), label='tw_ref.x')\n",
    "ax.vlines(tw.s[5216], -0.08, 0.001, color='green', ls='--')\n",
    "ax.vlines(tw.s[5227], -0.08, 0.001, color='green', ls='--')\n",
    "ax.vlines(tw.s[5229], -0.08, 0.001, color='green', ls='--')\n",
    "ax.vlines(tw.s[5241], -0.08, 0.001, color='red', ls='--')\n",
    "ax.scatter(tw.s[5216]*np.ones(len(part.x[mask1])), part.x[mask1], color='blue', label='vttb.11402.c_aper')\n",
    "ax.scatter(tw.s[5227]*np.ones(len(part.x[mask2])), part.x[mask2], color='orange', label='bph.11408.a_aper')\n",
    "ax.scatter(tw.s[5229]*np.ones(len(part.x[mask3])), part.x[mask3], color='purple', label='bph.11408.b_aper')\n",
    "ax.plot([tw.s[5216], tw.s[5227], tw.s[5229]],[ -line[5216].a, line[5227].min_x, line[5229].min_x], color='black',marker = '*', ls=None, label='Aperture limits'  )\n",
    "ax.legend()\n",
    "ax.set_xlabel('s [m]')\n",
    "ax.set_ylabel('x [m]')\n",
    "ax.grid()\n",
    "ax.set_xlim(445, 453)"
   ]
  },
  {
   "cell_type": "markdown",
   "id": "a3d7a584",
   "metadata": {},
   "source": [
    "Conclusion: RF sweep as is with the bump is such that the particles are lost on aperture before the tidp (with still the question as to why the blue particle was lost)"
   ]
  }
 ],
 "metadata": {
  "kernelspec": {
   "display_name": "xcoll",
   "language": "python",
   "name": "python3"
  },
  "language_info": {
   "codemirror_mode": {
    "name": "ipython",
    "version": 3
   },
   "file_extension": ".py",
   "mimetype": "text/x-python",
   "name": "python",
   "nbconvert_exporter": "python",
   "pygments_lexer": "ipython3",
   "version": "3.13.3"
  }
 },
 "nbformat": 4,
 "nbformat_minor": 5
}
