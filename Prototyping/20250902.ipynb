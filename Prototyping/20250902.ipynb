{
 "cells": [
  {
   "cell_type": "code",
   "execution_count": 7,
   "id": "e3e73909",
   "metadata": {},
   "outputs": [],
   "source": [
    "import numpy as np\n",
    "import matplotlib.pyplot as plt\n",
    "import xtrack as xt\n",
    "import xcoll as xc\n",
    "import apertls"
   ]
  },
  {
   "cell_type": "code",
   "execution_count": 3,
   "id": "1842a86d",
   "metadata": {},
   "outputs": [
    {
     "name": "stdout",
     "output_type": "stream",
     "text": [
      "\u001b[31mInit signature:\u001b[39m\n",
      "xt.RBend(\n",
      "    order=\u001b[38;5;28;01mNone\u001b[39;00m,\n",
      "    knl: List[float] = \u001b[38;5;28;01mNone\u001b[39;00m,\n",
      "    ksl: List[float] = \u001b[38;5;28;01mNone\u001b[39;00m,\n",
      "    **kwargs,\n",
      ")\n",
      "\u001b[31mDocstring:\u001b[39m     \n",
      "Implementation of a straight combined function magnet (i.e. a rectangular\n",
      "bending magnet with a quadrupole component).\n",
      "\n",
      "Parameters\n",
      "----------\n",
      "k0 : float, optional\n",
      "    Strength of the horizontal dipolar component in units of m^-1.\n",
      "k1 : float, optional\n",
      "    Strength of the horizontal quadrupolar component in units of m^-2.\n",
      "h : float, optional\n",
      "    Curvature of the reference trajectory in units of m^-1. Will be\n",
      "    computed from angle and `length_straight` if not given, otherwise will\n",
      "    be checked for consistency. Changes to `h` will update `angle` and\n",
      "    `length`.\n",
      "angle : float, optional\n",
      "    Angle of the bend in radians. Will be computed from `h` and\n",
      "    `length_straight` if not given, otherwise will be checked for\n",
      "    consistency. Changes to `angle` will update `h` and `length`.\n",
      "k0_from_h : bool, optional\n",
      "    If True, `k0` will assume the value of `h` and its value will be updated\n",
      "    when `h` is changed.\n",
      "length : float, optional\n",
      "    Length of the element in units of m along the reference trajectory.\n",
      "    Will be computed from `angle` and `length_straight` if not given.\n",
      "    Changes to `length` will update `h` and `length_straight`.\n",
      "length_straight : float, optional\n",
      "    Length of the element in units of m along a straight line. Changes to\n",
      "    `length_straight` will update `length` and `h`.\n",
      "knl : array, optional\n",
      "    Integrated strength of the high-order normal multipolar components\n",
      "    (`knl[0]` and `knl[1]` should not be used).\n",
      "ksl : array, optional\n",
      "    Integrated strength of the high-order skew multipolar components\n",
      "    (`ksl[0]` and `ksl[1]` should not be used).\n",
      "model : str, optional\n",
      "    Drift model to be used in kick-splitting. See `Bend` for details.\n",
      "integrator : str, optional\n",
      "    Integration scheme to be used. See `Bend` for details.\n",
      "num_multipole_kicks : int, optional\n",
      "    Number of multipole kicks used to model high order multipolar\n",
      "    components. By default, switched off.\n",
      "order : int, optional\n",
      "    Order of `knl` and `ksl`. If not given, it will be inferred from `knl`\n",
      "    and `ksl`, but will be at least `DEFAULT_MULTIPOLE_ORDER` = 5.\n",
      "edge_entry_active : bool, optional\n",
      "    Whether to model the entry edge. Disabled by default.\n",
      "edge_exit_active : bool, optional\n",
      "    Same as `edge_entry_active`, but for the exit.\n",
      "edge_entry_model : LiteralUnion['linear', 'full', 'suppressed']\n",
      "    Type of edge model to use at the entry. Default is 'full'.\n",
      "edge_exit_model : LiteralUnion['linear', 'full', 'suppressed']\n",
      "    Same as `edge_entry_model`, but for the exit.\n",
      "edge_entry_angle : float, optional\n",
      "    The angle of the entry edge in radians. Default is 0.\n",
      "edge_exit_angle : float, optional\n",
      "    Same as `edge_entry_angle`, but for the exit.\n",
      "edge_entry_angle_fdown : float, optional\n",
      "    Term added to the entry angle only for the linear mode and only in\n",
      "    the vertical plane to account for non-zero angle in the closed orbit\n",
      "    when entering the fringe field (feed down effect). Default is 0.\n",
      "edge_exit_angle_fdown : float, optional\n",
      "    Same as `edge_entry_angle_fdown`, but for the exit. Default is 0.\n",
      "edge_entry_fint: float, optional\n",
      "    Fringe integral value at entry.\n",
      "edge_exit_fint : float, optional\n",
      "    Same as `edge_entry_fint`, but for the exit. Default is 0.\n",
      "edge_entry_hgap : float, optional\n",
      "    Equivalent gap at entry in meters. Default is 0.\n",
      "edge_exit_hgap : float, optional\n",
      "    Same as `edge_entry_hgap`, but for the exit.\n",
      "\u001b[31mFile:\u001b[39m           ~/miniforge3/envs/xcoll/lib/python3.13/site-packages/xtrack/beam_elements/elements.py\n",
      "\u001b[31mType:\u001b[39m           MetaBeamElement\n",
      "\u001b[31mSubclasses:\u001b[39m     "
     ]
    }
   ],
   "source": [
    "xt.RBend?"
   ]
  },
  {
   "cell_type": "code",
   "execution_count": 4,
   "id": "922999a2",
   "metadata": {},
   "outputs": [
    {
     "data": {
      "application/vnd.jupyter.widget-view+json": {
       "model_id": "2723d778c7df4d8ebd259b3b1bae9964",
       "version_major": 2,
       "version_minor": 0
      },
      "text/plain": [
       "Loading line from dict:   0%|          | 0/36404 [00:00<?, ?it/s]"
      ]
     },
     "metadata": {},
     "output_type": "display_data"
    },
    {
     "name": "stdout",
     "output_type": "stream",
     "text": [
      "Done loading line from dict.           \n"
     ]
    }
   ],
   "source": [
    "line = xt.Line.from_json('../injection_lines/sps_with_aperture_inj_q20_beam_sagitta5.json')"
   ]
  },
  {
   "cell_type": "code",
   "execution_count": 9,
   "id": "08837c1e",
   "metadata": {},
   "outputs": [],
   "source": [
    "tt = line.get_table()\n",
    "tw = line.twiss()"
   ]
  },
  {
   "cell_type": "code",
   "execution_count": 10,
   "id": "32ba933d",
   "metadata": {},
   "outputs": [
    {
     "data": {
      "text/plain": [
       "Table: 18600 rows, 11 cols\n",
       "name                             s element_type        isthick isreplica parent_name iscollective ...\n",
       "mba.10030_entry            3.44499 Marker                False     False None               False\n",
       "mba.10030..entry_map       3.44499 ThinSliceRBendEntry   False     False mba.10030          False\n",
       "mba.10030..0_aper2         3.44499 LimitRect             False     False None               False\n",
       "mba.10030..0               3.44499 ThickSliceRBend        True     False mba.10030          False\n",
       "mba.10030..1_aper2         4.07099 LimitRect             False     False None               False\n",
       "mba.10030..1               4.07099 ThickSliceRBend        True     False mba.10030          False\n",
       "mba.10030..2_aper2         4.69699 LimitRect             False     False None               False\n",
       "mba.10030..2               4.69699 ThickSliceRBend        True     False mba.10030          False\n",
       "mba.10030..3_aper2           5.323 LimitRect             False     False None               False\n",
       "mba.10030..3                 5.323 ThickSliceRBend        True     False mba.10030          False\n",
       "...\n",
       "mba.63590..6              6906.65 ThickSliceRBend       True     False mba.63590          False\n",
       "mba.63590..7_aper2        6907.27 LimitRect            False     False None               False\n",
       "mba.63590..7              6907.27 ThickSliceRBend       True     False mba.63590          False\n",
       "mba.63590..8_aper2         6907.9 LimitRect            False     False None               False\n",
       "mba.63590..8               6907.9 ThickSliceRBend       True     False mba.63590          False\n",
       "mba.63590..9_aper2        6908.53 LimitRect            False     False None               False\n",
       "mba.63590..9              6908.53 ThickSliceRBend       True     False mba.63590          False\n",
       "mba.63590..10_aper2       6909.15 LimitRect            False     False None               False\n",
       "mba.63590..exit_map       6909.15 ThinSliceRBendExit   False     False mba.63590          False\n",
       "mba.63590_exit            6909.15 Marker               False     False None               False"
      ]
     },
     "execution_count": 10,
     "metadata": {},
     "output_type": "execute_result"
    }
   ],
   "source": [
    "tt.rows['mb.*']"
   ]
  },
  {
   "cell_type": "code",
   "execution_count": 11,
   "id": "a4ccc2be",
   "metadata": {},
   "outputs": [
    {
     "data": {
      "text/plain": [
       "View of ThickSliceRBend(parent_name='mba.10030', _parent=RBend(length_straight=6.26, angle=0.00845, length=6.26, k0=0.00135, k1=0, h=0.00135, k0_from_h=True, model='adaptive', knl=array([0., 0., 0., 0., 0., 0.]), ksl=array([0., 0., 0., 0., 0., 0.]), edge_entry_active=np.int64(1), edge_exit_active=np.int64(1), edge_entry_model='linear', edge_exit_model='linear', edge_entry_angle=0, edge_exit_angle=0, edge_entry_angle_fdown=0, edge_exit_angle_fdown=0, edge_entry_fint=0, edge_exit_fint=0, edge_entry_hgap=0, edge_exit_hgap=0, shift_x=0, shift_y=0, rot_s_rad=0), radiation_flag=np.int64(10), delta_taper=0, weight=0.1)"
      ]
     },
     "execution_count": 11,
     "metadata": {},
     "output_type": "execute_result"
    }
   ],
   "source": [
    "line['mba.10030..0']"
   ]
  },
  {
   "cell_type": "code",
   "execution_count": 15,
   "id": "d878f06e",
   "metadata": {},
   "outputs": [],
   "source": [
    "rbend = line['mba.10030..0']._parent.copy()\n",
    "aperture = line['mba.10030..0_aper2'].copy()"
   ]
  },
  {
   "cell_type": "code",
   "execution_count": 27,
   "id": "579da87e",
   "metadata": {},
   "outputs": [
    {
     "data": {
      "text/plain": [
       "np.float64(0.0013490601351007177)"
      ]
     },
     "execution_count": 27,
     "metadata": {},
     "output_type": "execute_result"
    }
   ],
   "source": [
    "rbend.k0"
   ]
  },
  {
   "cell_type": "code",
   "execution_count": 32,
   "id": "e35dab92",
   "metadata": {},
   "outputs": [],
   "source": [
    "env2 = xt.Environment()\n",
    "line2 = env2.new_line(components=[env2.new('aper_entry', xt.LimitRect, min_x=-0.0716, max_x=0.0804, min_y=-0.0193, max_y=0.0193),\n",
    "                                  env2.new('rbend', xt.RBend, length_straight=6.26, angle=0.008445141542, length=6.260018602780449, k0=0.0013490601351007177, k1=0, h=0.0013490601351007177, k0_from_h=True),\n",
    "                                  env2.new('aper_exit', xt.LimitRect, min_x=-0.0716, max_x=0.0804, min_y=-0.0193, max_y=0.0193)])\n",
    "line2.particle_ref = line.particle_ref.copy()"
   ]
  },
  {
   "cell_type": "code",
   "execution_count": 34,
   "id": "a16406cf",
   "metadata": {},
   "outputs": [],
   "source": [
    "# tw = line2.twiss()\n",
    "tt = line2.get_table()"
   ]
  },
  {
   "cell_type": "code",
   "execution_count": 35,
   "id": "f293c075",
   "metadata": {},
   "outputs": [
    {
     "data": {
      "text/plain": [
       "Table: 4 rows, 11 cols\n",
       "name                   s element_type isthick isreplica parent_name iscollective       s_start ...\n",
       "aper_entry             0 LimitRect      False     False None               False             0\n",
       "rbend                  0 RBend           True     False None               False             0\n",
       "aper_exit        6.26002 LimitRect      False     False None               False       6.26002\n",
       "_end_point       6.26002                False     False None               False       6.26002"
      ]
     },
     "execution_count": 35,
     "metadata": {},
     "output_type": "execute_result"
    }
   ],
   "source": [
    "tt"
   ]
  },
  {
   "cell_type": "code",
   "execution_count": 36,
   "id": "96d7afec",
   "metadata": {},
   "outputs": [
    {
     "name": "stdout",
     "output_type": "stream",
     "text": [
      "Compiling ContextCpu kernels...\n"
     ]
    },
    {
     "name": "stderr",
     "output_type": "stream",
     "text": [
      "ld: warning: duplicate -rpath '/Users/lisepauwels/miniforge3/envs/xcoll/lib' ignored\n",
      "ld: warning: duplicate -rpath '/Users/lisepauwels/miniforge3/envs/xcoll/lib' ignored\n"
     ]
    },
    {
     "name": "stdout",
     "output_type": "stream",
     "text": [
      "Done compiling ContextCpu kernels.\n"
     ]
    },
    {
     "data": {
      "text/plain": [
       "Table: 4 rows, 10 cols\n",
       "name                   s    x_aper_low   x_aper_high x_aper_low_discrete x_aper_high_discrete ...\n",
       "aper_entry             0       -0.0715        0.0805             -0.0715               0.0805\n",
       "rbend                  0       -0.0715        0.0805                 nan                  nan\n",
       "aper_exit        6.26002       -0.0715        0.0805             -0.0715               0.0805\n",
       "_end_point       6.26002       -0.0715        0.0805                 nan                  nan"
      ]
     },
     "execution_count": 36,
     "metadata": {},
     "output_type": "execute_result"
    }
   ],
   "source": [
    "line2.get_aperture_table()"
   ]
  },
  {
   "cell_type": "code",
   "execution_count": 46,
   "id": "2cff59d2",
   "metadata": {},
   "outputs": [],
   "source": [
    "aper_calc = apertls.ApertureCalculator(line2)"
   ]
  },
  {
   "cell_type": "code",
   "execution_count": 49,
   "id": "1d182040",
   "metadata": {},
   "outputs": [],
   "source": [
    "x_extent = aper_calc.compute_x_extent()"
   ]
  },
  {
   "cell_type": "code",
   "execution_count": 50,
   "id": "bdd616f2",
   "metadata": {},
   "outputs": [
    {
     "data": {
      "text/plain": [
       "array([[-0.0716,  0.0804],\n",
       "       [-0.0716,  0.0804]])"
      ]
     },
     "execution_count": 50,
     "metadata": {},
     "output_type": "execute_result"
    }
   ],
   "source": [
    "x_extent"
   ]
  },
  {
   "cell_type": "code",
   "execution_count": null,
   "id": "d57c5cb7",
   "metadata": {},
   "outputs": [],
   "source": [
    "plt.plot()"
   ]
  },
  {
   "cell_type": "code",
   "execution_count": 41,
   "id": "1d65f338",
   "metadata": {},
   "outputs": [],
   "source": [
    "line2['rbend'].name_associated_aperture = 'aper_entry'"
   ]
  },
  {
   "cell_type": "code",
   "execution_count": null,
   "id": "459079cd",
   "metadata": {},
   "outputs": [
    {
     "data": {
      "text/plain": [
       "'aper_entry'"
      ]
     },
     "execution_count": 43,
     "metadata": {},
     "output_type": "execute_result"
    }
   ],
   "source": [
    "line2['rbend']"
   ]
  },
  {
   "cell_type": "code",
   "execution_count": 45,
   "id": "5bb3f6c7",
   "metadata": {},
   "outputs": [
    {
     "name": "stdout",
     "output_type": "stream",
     "text": [
      "The line already has an associated tracker\n"
     ]
    },
    {
     "data": {
      "application/vnd.jupyter.widget-view+json": {
       "model_id": "9f463e7b397d48eeb4bd2fc17c66f9b4",
       "version_major": 2,
       "version_minor": 0
      },
      "text/plain": [
       "Slicing line:   0%|          | 0/3 [00:00<?, ?it/s]"
      ]
     },
     "metadata": {},
     "output_type": "display_data"
    },
    {
     "data": {
      "text/plain": [
       "{'aper_entry': ['aper_entry'],\n",
       " 'rbend': ['rbend_entry',\n",
       "  'rbend_aper..0',\n",
       "  'rbend..entry_map',\n",
       "  'drift_rbend..0',\n",
       "  'rbend_aper..1',\n",
       "  'rbend..0',\n",
       "  'drift_rbend..1',\n",
       "  'rbend_aper..2',\n",
       "  'rbend..1',\n",
       "  'drift_rbend..2',\n",
       "  'rbend_aper..3',\n",
       "  'rbend..2',\n",
       "  'drift_rbend..3',\n",
       "  'rbend_aper..4',\n",
       "  'rbend..3',\n",
       "  'drift_rbend..4',\n",
       "  'rbend_aper..5',\n",
       "  'rbend..4',\n",
       "  'drift_rbend..5',\n",
       "  'rbend_aper..6',\n",
       "  'rbend..5',\n",
       "  'drift_rbend..6',\n",
       "  'rbend_aper..7',\n",
       "  'rbend..6',\n",
       "  'drift_rbend..7',\n",
       "  'rbend_aper..8',\n",
       "  'rbend..7',\n",
       "  'drift_rbend..8',\n",
       "  'rbend_aper..9',\n",
       "  'rbend..8',\n",
       "  'drift_rbend..9',\n",
       "  'rbend_aper..10',\n",
       "  'rbend..9',\n",
       "  'drift_rbend..10',\n",
       "  'rbend_aper..11',\n",
       "  'rbend..exit_map',\n",
       "  'rbend_exit'],\n",
       " 'aper_exit': ['aper_exit']}"
      ]
     },
     "execution_count": 45,
     "metadata": {},
     "output_type": "execute_result"
    }
   ],
   "source": [
    "line2.slice_thick_elements(\n",
    "    slicing_strategies=[\n",
    "        # Slicing with thin elements\n",
    "        xt.Strategy(slicing=xt.Teapot(10))])"
   ]
  },
  {
   "cell_type": "code",
   "execution_count": 51,
   "id": "608dccd4",
   "metadata": {},
   "outputs": [],
   "source": [
    "tt = line2.get_table()"
   ]
  },
  {
   "cell_type": "code",
   "execution_count": 52,
   "id": "d9dc35d7",
   "metadata": {},
   "outputs": [
    {
     "data": {
      "text/plain": [
       "Table: 40 rows, 11 cols\n",
       "name                         s element_type        isthick isreplica parent_name iscollective ...\n",
       "aper_entry                   0 LimitRect             False     False None               False\n",
       "rbend_entry                  0 Marker                False     False None               False\n",
       "rbend_aper..0                0 LimitRect             False      True aper_entry         False\n",
       "rbend..entry_map             0 ThinSliceRBendEntry   False     False rbend              False\n",
       "drift_rbend..0               0 DriftSliceRBend        True     False rbend              False\n",
       "rbend_aper..1         0.284546 LimitRect             False      True aper_entry         False\n",
       "rbend..0              0.284546 ThinSliceRBend        False     False rbend              False\n",
       "drift_rbend..1        0.284546 DriftSliceRBend        True     False rbend              False\n",
       "rbend_aper..2         0.916871 LimitRect             False      True aper_entry         False\n",
       "rbend..1              0.916871 ThinSliceRBend        False     False rbend              False\n",
       "...\n",
       "rbend..8              5.34315 ThinSliceRBend       False     False rbend              False\n",
       "drift_rbend..9        5.34315 DriftSliceRBend       True     False rbend              False\n",
       "rbend_aper..10        5.97547 LimitRect            False      True aper_entry         False\n",
       "rbend..9              5.97547 ThinSliceRBend       False     False rbend              False\n",
       "drift_rbend..10       5.97547 DriftSliceRBend       True     False rbend              False\n",
       "rbend_aper..11        6.26002 LimitRect            False      True aper_entry         False\n",
       "rbend..exit_map       6.26002 ThinSliceRBendExit   False     False rbend              False\n",
       "rbend_exit            6.26002 Marker               False     False None               False\n",
       "aper_exit             6.26002 LimitRect            False     False None               False\n",
       "_end_point            6.26002                      False     False None               False"
      ]
     },
     "execution_count": 52,
     "metadata": {},
     "output_type": "execute_result"
    }
   ],
   "source": [
    "tt"
   ]
  },
  {
   "cell_type": "code",
   "execution_count": 53,
   "id": "3356dd73",
   "metadata": {},
   "outputs": [],
   "source": [
    "aper_calc = apertls.ApertureCalculator(line2)\n",
    "x_extent = aper_calc.compute_x_extent()"
   ]
  },
  {
   "cell_type": "code",
   "execution_count": 54,
   "id": "0a131e9e",
   "metadata": {},
   "outputs": [
    {
     "data": {
      "text/plain": [
       "array([[-0.0716,  0.0804],\n",
       "       [-0.0716,  0.0804]])"
      ]
     },
     "execution_count": 54,
     "metadata": {},
     "output_type": "execute_result"
    }
   ],
   "source": [
    "x_extent"
   ]
  },
  {
   "cell_type": "code",
   "execution_count": null,
   "id": "03084d32",
   "metadata": {},
   "outputs": [],
   "source": []
  }
 ],
 "metadata": {
  "kernelspec": {
   "display_name": "xcoll",
   "language": "python",
   "name": "python3"
  },
  "language_info": {
   "codemirror_mode": {
    "name": "ipython",
    "version": 3
   },
   "file_extension": ".py",
   "mimetype": "text/x-python",
   "name": "python",
   "nbconvert_exporter": "python",
   "pygments_lexer": "ipython3",
   "version": "3.13.3"
  }
 },
 "nbformat": 4,
 "nbformat_minor": 5
}
