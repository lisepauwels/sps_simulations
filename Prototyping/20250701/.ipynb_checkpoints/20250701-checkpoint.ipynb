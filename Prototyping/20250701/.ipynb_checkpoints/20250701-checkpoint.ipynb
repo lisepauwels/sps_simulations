{
 "cells": [
  {
   "cell_type": "code",
   "execution_count": 1,
   "id": "116a54bf",
   "metadata": {},
   "outputs": [],
   "source": [
    "import numpy as np\n",
    "import awkward as ak\n",
    "import matplotlib.pyplot as plt\n",
    "import xtrack as xt\n",
    "import xcoll as xc\n",
    "import xpart as xp\n",
    "import xobjects as xo"
   ]
  },
  {
   "cell_type": "markdown",
   "id": "86e007ec",
   "metadata": {},
   "source": [
    "# Matched gaussian bunch, $\\epsilon = 3.5e-6$, DPpos"
   ]
  },
  {
   "cell_type": "code",
   "execution_count": 2,
   "id": "f1e9e9c5",
   "metadata": {},
   "outputs": [],
   "source": [
    "# Settings\n",
    "plane = 'DPpos'\n",
    "chroma = 0.5\n",
    "nemitt = 3.5e-6\n",
    "sigma_z = 0.224\n",
    "delta = None\n",
    "\n",
    "sim_name = f'gaussian_{plane}_nemitt{nemitt}_sigma_z{sigma_z}_delta{delta}'"
   ]
  },
  {
   "cell_type": "code",
   "execution_count": 3,
   "id": "2d9549c2",
   "metadata": {},
   "outputs": [
    {
     "data": {
      "application/vnd.jupyter.widget-view+json": {
       "model_id": "ad65af06b49b49c59a9237a2c1b7c60a",
       "version_major": 2,
       "version_minor": 0
      },
      "text/plain": [
       "Loading line from dict:   0%|          | 0/36395 [00:00<?, ?it/s]"
      ]
     },
     "metadata": {},
     "output_type": "display_data"
    },
    {
     "name": "stdout",
     "output_type": "stream",
     "text": [
      "Done loading line from dict.           \n"
     ]
    }
   ],
   "source": [
    "#Line\n",
    "line = xt.Line.from_json('../../injection_lines/sps_with_aperture_inj_q20_beam_sagitta2.json')\n",
    "\n",
    "line.vars['qph_setvalue'] = chroma\n",
    "line.vars['qpv_setvalue'] = chroma\n",
    "line.vars['qh_setvalue'] = line.vars['qx0']._value + 0.05\n",
    "line.vars['qv_setvalue'] = line.vars['qy0']._value + 0.05\n",
    "\n",
    "cavity_elements, cavity_names = line.get_elements_of_type(xt.Cavity)\n",
    "\n",
    "for name in cavity_names:\n",
    "    line[name].frequency = 200e6\n",
    "    line[name].lag = 180\n",
    "line['actcse.31632'].voltage = 3e6"
   ]
  },
  {
   "cell_type": "code",
   "execution_count": 4,
   "id": "183f008a",
   "metadata": {},
   "outputs": [],
   "source": [
    "context = xo.ContextCpu()\n",
    "\n",
    "num_particles  = 1000\n",
    "sweep = 6000\n",
    "sweep = -abs(sweep) if plane == 'DPpos' else abs(sweep)\n",
    "num_turns = 6000"
   ]
  },
  {
   "cell_type": "code",
   "execution_count": 5,
   "id": "a71b4312",
   "metadata": {},
   "outputs": [
    {
     "data": {
      "application/vnd.jupyter.widget-view+json": {
       "model_id": "8acb1337e6744abfbb6539fb2bd71c2f",
       "version_major": 2,
       "version_minor": 0
      },
      "text/plain": [
       "Slicing line:   0%|          | 0/75252 [00:00<?, ?it/s]"
      ]
     },
     "metadata": {},
     "output_type": "display_data"
    }
   ],
   "source": [
    "#Installing TIDP\n",
    "tidp_ap_tot = 147\n",
    "block_mvt = 29\n",
    "\n",
    "tidp = xc.EverestCollimator(length=4.3, material=xc.materials.Carbon, jaw_L= tidp_ap_tot/2 + block_mvt, jaw_R = -tidp_ap_tot/2 + block_mvt)\n",
    "line.collimators.install(names=['tidp.11434'], elements=[tidp])"
   ]
  },
  {
   "cell_type": "code",
   "execution_count": 6,
   "id": "8f849591",
   "metadata": {},
   "outputs": [],
   "source": [
    "bpms_hor = ['bph.10208',\n",
    " 'bph.10408',\n",
    " 'bph.10608',\n",
    " 'bph.10808',\n",
    " 'bph.11008',\n",
    " 'bph.11208',\n",
    " 'bph.11408',\n",
    " 'bph.11608',\n",
    " 'bph.11831',\n",
    " 'bph.12008',\n",
    " 'bph.12208',\n",
    " 'bph.12408',\n",
    " 'bph.12608',\n",
    " 'bph.12808',\n",
    " 'bph.13008',\n",
    " 'bph.13208',\n",
    " 'bph.13408',\n",
    " 'bph.13608',\n",
    " 'bph.20208',\n",
    " 'bph.20408',\n",
    " 'bph.20608',\n",
    " 'bph.20808',\n",
    " 'bph.21008',\n",
    " 'bph.21208',\n",
    " 'bph.21408',\n",
    " 'bpce.21604',\n",
    " 'bpce.21706',\n",
    " 'bpce.21803',\n",
    " 'bph.22008',\n",
    " 'bph.22208',\n",
    " 'bph.22408',\n",
    " 'bph.22608',\n",
    " 'bph.22808',\n",
    " 'bph.23008',\n",
    " 'bph.23208',\n",
    " 'bph.23408',\n",
    " 'bph.23608',\n",
    " 'bph.30208',\n",
    " 'bph.30408',\n",
    " 'bph.30608',\n",
    " 'bph.30808',\n",
    " 'bph.31008',\n",
    " 'bph.31208',\n",
    " 'bph.31408',\n",
    " 'bph.31608',\n",
    " 'bph.31808',\n",
    " 'bph.32008',\n",
    " 'bph.32208',\n",
    " 'bph.32408',\n",
    " 'bph.32608',\n",
    " 'bph.32808',\n",
    " 'bph.33008',\n",
    " 'bph.33208',\n",
    " 'bph.33408',\n",
    " 'bph.33608',\n",
    " 'bph.40208',\n",
    " 'bph.40408',\n",
    " 'bph.40608',\n",
    " 'bph.40808',\n",
    " 'bph.41008',\n",
    " 'bph.41208',\n",
    " 'bph.41408',\n",
    " 'bpce.41705',\n",
    " 'bpce.41801',\n",
    " 'bpce.41931',\n",
    " 'bph.42008',\n",
    " 'bph.42208',\n",
    " 'bph.42408',\n",
    " 'bph.42608',\n",
    " 'bph.42808',\n",
    " 'bph.43008',\n",
    " 'bph.43208',\n",
    " 'bph.43408',\n",
    " 'bph.43608',\n",
    " 'bph.50208',\n",
    " 'bph.50408',\n",
    " 'bph.50608',\n",
    " 'bph.50808',\n",
    " 'bph.51008',\n",
    " 'bph.51208',\n",
    " 'bph.51408',\n",
    " 'bpce.51604',\n",
    " 'bpce.51833',\n",
    " 'bph.52008',\n",
    " 'bph.52208',\n",
    " 'bph.52408',\n",
    " 'bph.52608',\n",
    " 'bph.52808',\n",
    " 'bph.53008',\n",
    " 'bph.53208',\n",
    " 'bph.53408',\n",
    " 'bph.53608',\n",
    " 'bph.60208',\n",
    " 'bph.60408',\n",
    " 'bph.60608',\n",
    " 'bph.60808',\n",
    " 'bph.61008',\n",
    " 'bph.61208',\n",
    " 'bph.61408',\n",
    " 'bph.61608',\n",
    " 'bpce.61705',\n",
    " 'bpce.61804',\n",
    " 'bpce.61931',\n",
    " 'bph.62008',\n",
    " 'bph.62208',\n",
    " 'bph.62408',\n",
    " 'bph.62608',\n",
    " 'bph.62808',\n",
    " 'bph.63008',\n",
    " 'bph.63208',\n",
    " 'bph.63408',\n",
    " 'bph.63608']"
   ]
  },
  {
   "cell_type": "code",
   "execution_count": 7,
   "id": "2ff8888e",
   "metadata": {},
   "outputs": [],
   "source": [
    "monitors = []\n",
    "for bpm in bpms_hor:\n",
    "    if bpm in line.element_names:\n",
    "        monitors.append(xc.EmittanceMonitor.install(line, f'{bpm}_monitor', at_s=line.get_s_position(bpm), \n",
    "                                                    stop_at_turn=num_turns, num_particles=num_particles, monitor_delta=True))\n",
    "    else:\n",
    "        monitors.append(xc.EmittanceMonitor.install(line, f'{bpm}_monitor', at_s=line.get_s_position(f'{bpm}..0'), \n",
    "                                                    stop_at_turn=num_turns, num_particles=num_particles, monitor_delta=True))"
   ]
  },
  {
   "cell_type": "code",
   "execution_count": 8,
   "id": "dd348144",
   "metadata": {},
   "outputs": [],
   "source": [
    "tw = line.twiss()\n",
    "tt = line.get_table()"
   ]
  },
  {
   "cell_type": "code",
   "execution_count": 9,
   "id": "26256857",
   "metadata": {},
   "outputs": [
    {
     "name": "stdout",
     "output_type": "stream",
     "text": [
      "The line already has an associated tracker\n",
      "*** Maximum RMS bunch length 0.23610110213554214m.\n",
      "... distance to target bunch length: -2.2226e-01\n",
      "... distance to target bunch length: 5.5784e-03\n",
      "... distance to target bunch length: 5.2361e-03\n",
      "... distance to target bunch length: -6.3267e-03\n",
      "... distance to target bunch length: 1.9948e-03\n",
      "... distance to target bunch length: -3.8258e-04\n",
      "... distance to target bunch length: 5.3833e-05\n",
      "... distance to target bunch length: 1.2594e-06\n",
      "... distance to target bunch length: -1.0995e-10\n",
      "... distance to target bunch length: 1.2805e-07\n",
      "--> Bunch length: 0.22399999989004873\n",
      "--> Emittance: 0.29745554963371656\n"
     ]
    }
   ],
   "source": [
    "line.build_tracker()\n",
    "part = xp.generate_matched_gaussian_bunch(nemitt_x=nemitt, nemitt_y=nemitt,\n",
    "                                          sigma_z=sigma_z, num_particles=num_particles, line=line) #sigma_z=0.224"
   ]
  },
  {
   "cell_type": "code",
   "execution_count": 10,
   "id": "bc97e3a7",
   "metadata": {},
   "outputs": [
    {
     "name": "stdout",
     "output_type": "stream",
     "text": [
      "The current frequency is 200000000.0Hz, adding -1.0Hz per turn until 199994000.0 (for 6000 turns).\n",
      "This sweep will move the center of the bucket with Δδ = 0.01689694767914598 (2.664416947059372 buckets).\n",
      "Compiling ContextCpu kernels...\n",
      "Done compiling ContextCpu kernels.\n"
     ]
    },
    {
     "data": {
      "application/vnd.jupyter.widget-view+json": {
       "model_id": "5d40fbfcc29540d4b195938924939216",
       "version_major": 2,
       "version_minor": 0
      },
      "text/plain": [
       "Tracking:   0%|          | 0/6000 [00:00<?, ?it/s]"
      ]
     },
     "metadata": {},
     "output_type": "display_data"
    },
    {
     "name": "stdout",
     "output_type": "stream",
     "text": [
      "All particles lost at turn 3615, stopped sweep at -2892.0Hz.\n"
     ]
    }
   ],
   "source": [
    "rf_sweep = xc.RFSweep(line)\n",
    "rf_sweep.info(sweep=sweep, num_turns=num_turns)\n",
    "\n",
    "line.discard_tracker()\n",
    "line.build_tracker(_context=xo.ContextCpu(omp_num_threads='auto'))\n",
    "line.scattering.enable()\n",
    "rf_sweep.track(sweep=sweep, particles=part, num_turns=num_turns, time=True, with_progress=5)\n",
    "line.scattering.disable()"
   ]
  },
  {
   "cell_type": "code",
   "execution_count": 11,
   "id": "2a651bbb",
   "metadata": {},
   "outputs": [
    {
     "name": "stderr",
     "output_type": "stream",
     "text": [
      "/home/lpauwels/Xsuite/xcoll/xcoll/beam_elements/monitor.py:310: RuntimeWarning: divide by zero encountered in divide\n",
      "  variance = ff / (N - 1) - mean1 * mean2 * N / (N - 1)\n",
      "/home/lpauwels/Xsuite/xcoll/xcoll/beam_elements/monitor.py:450: RuntimeWarning: invalid value encountered in sqrt\n",
      "  gemitt_x = np.sqrt(self.x_x_var * self.px_px_var - self.x_px_var**2)\n",
      "/home/lpauwels/Xsuite/xcoll/xcoll/beam_elements/monitor.py:451: RuntimeWarning: invalid value encountered in sqrt\n",
      "  gemitt_y = np.sqrt(self.y_y_var * self.py_py_var - self.y_py_var**2)\n",
      "/home/lpauwels/Xsuite/xcoll/xcoll/beam_elements/monitor.py:452: RuntimeWarning: invalid value encountered in sqrt\n",
      "  gemitt_zeta = np.sqrt(self.zeta_zeta_var * self.pzeta_pzeta_var - self.zeta_pzeta_var**2)\n"
     ]
    }
   ],
   "source": [
    "x = []\n",
    "x2 = []\n",
    "delta = []\n",
    "y = []\n",
    "y2 = []\n",
    "delta_calc = []\n",
    "for monitor in monitors:\n",
    "    x.append(monitor.x_mean)\n",
    "    x2.append(monitor.x_x_var)\n",
    "    y.append(monitor.y_mean)\n",
    "    y2.append(monitor.y_y_var)\n",
    "    delta.append(monitor.delta_mean)\n",
    "    delta_calc.append((monitor.x_mean - tw.rows[monitor.name].x)/tw.rows[monitor.name].dx)"
   ]
  },
  {
   "cell_type": "code",
   "execution_count": null,
   "id": "74f50931",
   "metadata": {},
   "outputs": [
    {
     "ename": "ValueError",
     "evalue": "Format '224_deltanone' is not supported (supported formats: eps, jpeg, jpg, pdf, pgf, png, ps, raw, rgba, svg, svgz, tif, tiff, webp)",
     "output_type": "error",
     "traceback": [
      "\u001b[31m---------------------------------------------------------------------------\u001b[39m",
      "\u001b[31mValueError\u001b[39m                                Traceback (most recent call last)",
      "\u001b[36mCell\u001b[39m\u001b[36m \u001b[39m\u001b[32mIn[12]\u001b[39m\u001b[32m, line 15\u001b[39m\n\u001b[32m     13\u001b[39m     axis.grid()\n\u001b[32m     14\u001b[39m fig.tight_layout()\n\u001b[32m---> \u001b[39m\u001b[32m15\u001b[39m \u001b[43mplt\u001b[49m\u001b[43m.\u001b[49m\u001b[43msavefig\u001b[49m\u001b[43m(\u001b[49m\u001b[43msim_name\u001b[49m\u001b[43m,\u001b[49m\u001b[43m \u001b[49m\u001b[43mdpi\u001b[49m\u001b[43m=\u001b[49m\u001b[32;43m300\u001b[39;49m\u001b[43m)\u001b[49m\n",
      "\u001b[36mFile \u001b[39m\u001b[32m~/miniforge3/envs/xsuite/lib/python3.13/site-packages/matplotlib/pyplot.py:1243\u001b[39m, in \u001b[36msavefig\u001b[39m\u001b[34m(*args, **kwargs)\u001b[39m\n\u001b[32m   1240\u001b[39m fig = gcf()\n\u001b[32m   1241\u001b[39m \u001b[38;5;66;03m# savefig default implementation has no return, so mypy is unhappy\u001b[39;00m\n\u001b[32m   1242\u001b[39m \u001b[38;5;66;03m# presumably this is here because subclasses can return?\u001b[39;00m\n\u001b[32m-> \u001b[39m\u001b[32m1243\u001b[39m res = \u001b[43mfig\u001b[49m\u001b[43m.\u001b[49m\u001b[43msavefig\u001b[49m\u001b[43m(\u001b[49m\u001b[43m*\u001b[49m\u001b[43margs\u001b[49m\u001b[43m,\u001b[49m\u001b[43m \u001b[49m\u001b[43m*\u001b[49m\u001b[43m*\u001b[49m\u001b[43mkwargs\u001b[49m\u001b[43m)\u001b[49m  \u001b[38;5;66;03m# type: ignore[func-returns-value]\u001b[39;00m\n\u001b[32m   1244\u001b[39m fig.canvas.draw_idle()  \u001b[38;5;66;03m# Need this if 'transparent=True', to reset colors.\u001b[39;00m\n\u001b[32m   1245\u001b[39m \u001b[38;5;28;01mreturn\u001b[39;00m res\n",
      "\u001b[36mFile \u001b[39m\u001b[32m~/miniforge3/envs/xsuite/lib/python3.13/site-packages/matplotlib/figure.py:3490\u001b[39m, in \u001b[36mFigure.savefig\u001b[39m\u001b[34m(self, fname, transparent, **kwargs)\u001b[39m\n\u001b[32m   3488\u001b[39m     \u001b[38;5;28;01mfor\u001b[39;00m ax \u001b[38;5;129;01min\u001b[39;00m \u001b[38;5;28mself\u001b[39m.axes:\n\u001b[32m   3489\u001b[39m         _recursively_make_axes_transparent(stack, ax)\n\u001b[32m-> \u001b[39m\u001b[32m3490\u001b[39m \u001b[38;5;28;43mself\u001b[39;49m\u001b[43m.\u001b[49m\u001b[43mcanvas\u001b[49m\u001b[43m.\u001b[49m\u001b[43mprint_figure\u001b[49m\u001b[43m(\u001b[49m\u001b[43mfname\u001b[49m\u001b[43m,\u001b[49m\u001b[43m \u001b[49m\u001b[43m*\u001b[49m\u001b[43m*\u001b[49m\u001b[43mkwargs\u001b[49m\u001b[43m)\u001b[49m\n",
      "\u001b[36mFile \u001b[39m\u001b[32m~/miniforge3/envs/xsuite/lib/python3.13/site-packages/matplotlib/backend_bases.py:2125\u001b[39m, in \u001b[36mFigureCanvasBase.print_figure\u001b[39m\u001b[34m(self, filename, dpi, facecolor, edgecolor, orientation, format, bbox_inches, pad_inches, bbox_extra_artists, backend, **kwargs)\u001b[39m\n\u001b[32m   2121\u001b[39m     dpi = \u001b[38;5;28mgetattr\u001b[39m(\u001b[38;5;28mself\u001b[39m.figure, \u001b[33m'\u001b[39m\u001b[33m_original_dpi\u001b[39m\u001b[33m'\u001b[39m, \u001b[38;5;28mself\u001b[39m.figure.dpi)\n\u001b[32m   2123\u001b[39m \u001b[38;5;66;03m# Remove the figure manager, if any, to avoid resizing the GUI widget.\u001b[39;00m\n\u001b[32m   2124\u001b[39m \u001b[38;5;28;01mwith\u001b[39;00m (cbook._setattr_cm(\u001b[38;5;28mself\u001b[39m, manager=\u001b[38;5;28;01mNone\u001b[39;00m),\n\u001b[32m-> \u001b[39m\u001b[32m2125\u001b[39m       \u001b[38;5;28mself\u001b[39m._switch_canvas_and_return_print_method(\u001b[38;5;28mformat\u001b[39m, backend)\n\u001b[32m   2126\u001b[39m          \u001b[38;5;28;01mas\u001b[39;00m print_method,\n\u001b[32m   2127\u001b[39m       cbook._setattr_cm(\u001b[38;5;28mself\u001b[39m.figure, dpi=dpi),\n\u001b[32m   2128\u001b[39m       cbook._setattr_cm(\u001b[38;5;28mself\u001b[39m.figure.canvas, _device_pixel_ratio=\u001b[32m1\u001b[39m),\n\u001b[32m   2129\u001b[39m       cbook._setattr_cm(\u001b[38;5;28mself\u001b[39m.figure.canvas, _is_saving=\u001b[38;5;28;01mTrue\u001b[39;00m),\n\u001b[32m   2130\u001b[39m       ExitStack() \u001b[38;5;28;01mas\u001b[39;00m stack):\n\u001b[32m   2132\u001b[39m     \u001b[38;5;28;01mfor\u001b[39;00m prop \u001b[38;5;129;01min\u001b[39;00m [\u001b[33m\"\u001b[39m\u001b[33mfacecolor\u001b[39m\u001b[33m\"\u001b[39m, \u001b[33m\"\u001b[39m\u001b[33medgecolor\u001b[39m\u001b[33m\"\u001b[39m]:\n\u001b[32m   2133\u001b[39m         color = \u001b[38;5;28mlocals\u001b[39m()[prop]\n",
      "\u001b[36mFile \u001b[39m\u001b[32m~/miniforge3/envs/xsuite/lib/python3.13/contextlib.py:141\u001b[39m, in \u001b[36m_GeneratorContextManager.__enter__\u001b[39m\u001b[34m(self)\u001b[39m\n\u001b[32m    139\u001b[39m \u001b[38;5;28;01mdel\u001b[39;00m \u001b[38;5;28mself\u001b[39m.args, \u001b[38;5;28mself\u001b[39m.kwds, \u001b[38;5;28mself\u001b[39m.func\n\u001b[32m    140\u001b[39m \u001b[38;5;28;01mtry\u001b[39;00m:\n\u001b[32m--> \u001b[39m\u001b[32m141\u001b[39m     \u001b[38;5;28;01mreturn\u001b[39;00m \u001b[38;5;28;43mnext\u001b[39;49m\u001b[43m(\u001b[49m\u001b[38;5;28;43mself\u001b[39;49m\u001b[43m.\u001b[49m\u001b[43mgen\u001b[49m\u001b[43m)\u001b[49m\n\u001b[32m    142\u001b[39m \u001b[38;5;28;01mexcept\u001b[39;00m \u001b[38;5;167;01mStopIteration\u001b[39;00m:\n\u001b[32m    143\u001b[39m     \u001b[38;5;28;01mraise\u001b[39;00m \u001b[38;5;167;01mRuntimeError\u001b[39;00m(\u001b[33m\"\u001b[39m\u001b[33mgenerator didn\u001b[39m\u001b[33m'\u001b[39m\u001b[33mt yield\u001b[39m\u001b[33m\"\u001b[39m) \u001b[38;5;28;01mfrom\u001b[39;00m\u001b[38;5;250m \u001b[39m\u001b[38;5;28;01mNone\u001b[39;00m\n",
      "\u001b[36mFile \u001b[39m\u001b[32m~/miniforge3/envs/xsuite/lib/python3.13/site-packages/matplotlib/backend_bases.py:2026\u001b[39m, in \u001b[36mFigureCanvasBase._switch_canvas_and_return_print_method\u001b[39m\u001b[34m(self, fmt, backend)\u001b[39m\n\u001b[32m   2024\u001b[39m     canvas_class = get_registered_canvas_class(fmt)\n\u001b[32m   2025\u001b[39m     \u001b[38;5;28;01mif\u001b[39;00m canvas_class \u001b[38;5;129;01mis\u001b[39;00m \u001b[38;5;28;01mNone\u001b[39;00m:\n\u001b[32m-> \u001b[39m\u001b[32m2026\u001b[39m         \u001b[38;5;28;01mraise\u001b[39;00m \u001b[38;5;167;01mValueError\u001b[39;00m(\n\u001b[32m   2027\u001b[39m             \u001b[33m\"\u001b[39m\u001b[33mFormat \u001b[39m\u001b[38;5;132;01m{!r}\u001b[39;00m\u001b[33m is not supported (supported formats: \u001b[39m\u001b[38;5;132;01m{}\u001b[39;00m\u001b[33m)\u001b[39m\u001b[33m\"\u001b[39m.format(\n\u001b[32m   2028\u001b[39m                 fmt, \u001b[33m\"\u001b[39m\u001b[33m, \u001b[39m\u001b[33m\"\u001b[39m.join(\u001b[38;5;28msorted\u001b[39m(\u001b[38;5;28mself\u001b[39m.get_supported_filetypes()))))\n\u001b[32m   2029\u001b[39m     canvas = canvas_class(\u001b[38;5;28mself\u001b[39m.figure)\n\u001b[32m   2030\u001b[39m canvas._is_saving = \u001b[38;5;28mself\u001b[39m._is_saving\n",
      "\u001b[31mValueError\u001b[39m: Format '224_deltanone' is not supported (supported formats: eps, jpeg, jpg, pdf, pgf, png, ps, raw, rgba, svg, svgz, tif, tiff, webp)"
     ]
    },
    {
     "data": {
      "image/png": "[encoded data removed]",
      "text/plain": [
       "<Figure size 1500x500 with 3 Axes>"
      ]
     },
     "metadata": {},
     "output_type": "display_data"
    }
   ],
   "source": [
    "turns_of_death = sorted(part.at_turn)\n",
    "index_cut = int(0.1 * len(turns_of_death))\n",
    "turn_cut = turns_of_death[index_cut]\n",
    "\n",
    "fig, ax = plt.subplots(1, 3, figsize=(15, 5))\n",
    "ax[0].plot(ak.mean(x, axis=0)[:turn_cut]*1e3, label='x')\n",
    "ax[0].plot(ak.mean(y, axis=0)[:turn_cut]*1e3, label='y', color='darkred')\n",
    "ax[1].plot(ak.mean(x2 + ak.Array(x)*999/1000, axis=0)[:turn_cut]*1e3, label='x2')\n",
    "ax[1].plot(ak.mean(y2+ ak.Array(y)*999/1000, axis=0)[:turn_cut]*1e3, label='y2', color='darkred')\n",
    "ax[2].plot(ak.mean(delta, axis=0)[:turn_cut]*1e3, label='delta')\n",
    "ax[2].plot(ak.mean(delta_calc, axis=0)[:turn_cut]*1e3, label='delta_calc', color='darkgreen')\n",
    "for axis in ax:\n",
    "    axis.grid()\n",
    "fig.tight_layout()\n",
    "plt.savefig(f'{sim_name}.png', dpi=300)"
   ]
  },
  {
   "cell_type": "markdown",
   "id": "e883e6a4",
   "metadata": {},
   "source": [
    "# Matched gaussian bunch, $\\epsilon = 2e-6$, DPpos"
   ]
  },
  {
   "cell_type": "code",
   "execution_count": null,
   "id": "125a3d64",
   "metadata": {},
   "outputs": [],
   "source": [
    "# Settings\n",
    "plane = 'DPpos'\n",
    "chroma = 0.5\n",
    "nemitt = 2e-6\n",
    "sigma_z = 0.224\n",
    "delta = None\n",
    "\n",
    "sim_name = f'gaussian_{plane}_nemitt{nemitt}_sigma_z{sigma_z}_delta{delta}'"
   ]
  },
  {
   "cell_type": "code",
   "execution_count": null,
   "id": "6b91e650",
   "metadata": {},
   "outputs": [
    {
     "data": {
      "application/vnd.jupyter.widget-view+json": {
       "model_id": "5532ca8cee364073a05bb1458cf8ea1d",
       "version_major": 2,
       "version_minor": 0
      },
      "text/plain": [
       "Loading line from dict:   0%|          | 0/36395 [00:00<?, ?it/s]"
      ]
     },
     "metadata": {},
     "output_type": "display_data"
    },
    {
     "name": "stdout",
     "output_type": "stream",
     "text": [
      "Done loading line from dict.           \n"
     ]
    }
   ],
   "source": [
    "#Line\n",
    "line = xt.Line.from_json('../../injection_lines/sps_with_aperture_inj_q20_beam_sagitta2.json')\n",
    "\n",
    "line.vars['qph_setvalue'] = chroma\n",
    "line.vars['qpv_setvalue'] = chroma\n",
    "line.vars['qh_setvalue'] = line.vars['qx0']._value + 0.05\n",
    "line.vars['qv_setvalue'] = line.vars['qy0']._value + 0.05\n",
    "\n",
    "cavity_elements, cavity_names = line.get_elements_of_type(xt.Cavity)\n",
    "\n",
    "for name in cavity_names:\n",
    "    line[name].frequency = 200e6\n",
    "    line[name].lag = 180\n",
    "line['actcse.31632'].voltage = 3e6"
   ]
  },
  {
   "cell_type": "code",
   "execution_count": null,
   "id": "f9df5ece",
   "metadata": {},
   "outputs": [],
   "source": [
    "context = xo.ContextCpu()\n",
    "\n",
    "num_particles  = 1000\n",
    "sweep = 6000\n",
    "sweep = -abs(sweep) if plane == 'DPpos' else abs(sweep)\n",
    "num_turns = 6000"
   ]
  },
  {
   "cell_type": "code",
   "execution_count": null,
   "id": "9b3958a8",
   "metadata": {},
   "outputs": [],
   "source": [
    "#Installing TIDP\n",
    "tidp_ap_tot = 147\n",
    "block_mvt = 29\n",
    "\n",
    "tidp = xc.EverestCollimator(length=4.3, material=xc.materials.Carbon, jaw_L= tidp_ap_tot/2 + block_mvt, jaw_R = -tidp_ap_tot/2 + block_mvt)\n",
    "line.collimators.install(names=['tidp.11434'], elements=[tidp])"
   ]
  },
  {
   "cell_type": "code",
   "execution_count": null,
   "id": "1f9a360a",
   "metadata": {},
   "outputs": [],
   "source": [
    "bpms_hor = ['bph.10208',\n",
    " 'bph.10408',\n",
    " 'bph.10608',\n",
    " 'bph.10808',\n",
    " 'bph.11008',\n",
    " 'bph.11208',\n",
    " 'bph.11408',\n",
    " 'bph.11608',\n",
    " 'bph.11831',\n",
    " 'bph.12008',\n",
    " 'bph.12208',\n",
    " 'bph.12408',\n",
    " 'bph.12608',\n",
    " 'bph.12808',\n",
    " 'bph.13008',\n",
    " 'bph.13208',\n",
    " 'bph.13408',\n",
    " 'bph.13608',\n",
    " 'bph.20208',\n",
    " 'bph.20408',\n",
    " 'bph.20608',\n",
    " 'bph.20808',\n",
    " 'bph.21008',\n",
    " 'bph.21208',\n",
    " 'bph.21408',\n",
    " 'bpce.21604',\n",
    " 'bpce.21706',\n",
    " 'bpce.21803',\n",
    " 'bph.22008',\n",
    " 'bph.22208',\n",
    " 'bph.22408',\n",
    " 'bph.22608',\n",
    " 'bph.22808',\n",
    " 'bph.23008',\n",
    " 'bph.23208',\n",
    " 'bph.23408',\n",
    " 'bph.23608',\n",
    " 'bph.30208',\n",
    " 'bph.30408',\n",
    " 'bph.30608',\n",
    " 'bph.30808',\n",
    " 'bph.31008',\n",
    " 'bph.31208',\n",
    " 'bph.31408',\n",
    " 'bph.31608',\n",
    " 'bph.31808',\n",
    " 'bph.32008',\n",
    " 'bph.32208',\n",
    " 'bph.32408',\n",
    " 'bph.32608',\n",
    " 'bph.32808',\n",
    " 'bph.33008',\n",
    " 'bph.33208',\n",
    " 'bph.33408',\n",
    " 'bph.33608',\n",
    " 'bph.40208',\n",
    " 'bph.40408',\n",
    " 'bph.40608',\n",
    " 'bph.40808',\n",
    " 'bph.41008',\n",
    " 'bph.41208',\n",
    " 'bph.41408',\n",
    " 'bpce.41705',\n",
    " 'bpce.41801',\n",
    " 'bpce.41931',\n",
    " 'bph.42008',\n",
    " 'bph.42208',\n",
    " 'bph.42408',\n",
    " 'bph.42608',\n",
    " 'bph.42808',\n",
    " 'bph.43008',\n",
    " 'bph.43208',\n",
    " 'bph.43408',\n",
    " 'bph.43608',\n",
    " 'bph.50208',\n",
    " 'bph.50408',\n",
    " 'bph.50608',\n",
    " 'bph.50808',\n",
    " 'bph.51008',\n",
    " 'bph.51208',\n",
    " 'bph.51408',\n",
    " 'bpce.51604',\n",
    " 'bpce.51833',\n",
    " 'bph.52008',\n",
    " 'bph.52208',\n",
    " 'bph.52408',\n",
    " 'bph.52608',\n",
    " 'bph.52808',\n",
    " 'bph.53008',\n",
    " 'bph.53208',\n",
    " 'bph.53408',\n",
    " 'bph.53608',\n",
    " 'bph.60208',\n",
    " 'bph.60408',\n",
    " 'bph.60608',\n",
    " 'bph.60808',\n",
    " 'bph.61008',\n",
    " 'bph.61208',\n",
    " 'bph.61408',\n",
    " 'bph.61608',\n",
    " 'bpce.61705',\n",
    " 'bpce.61804',\n",
    " 'bpce.61931',\n",
    " 'bph.62008',\n",
    " 'bph.62208',\n",
    " 'bph.62408',\n",
    " 'bph.62608',\n",
    " 'bph.62808',\n",
    " 'bph.63008',\n",
    " 'bph.63208',\n",
    " 'bph.63408',\n",
    " 'bph.63608']"
   ]
  },
  {
   "cell_type": "code",
   "execution_count": null,
   "id": "00e4c970",
   "metadata": {},
   "outputs": [],
   "source": [
    "monitors = []\n",
    "for bpm in bpms_hor:\n",
    "    if bpm in line.element_names:\n",
    "        monitors.append(xc.EmittanceMonitor.install(line, f'{bpm}_monitor', at_s=line.get_s_position(bpm), \n",
    "                                                    stop_at_turn=num_turns, num_particles=num_particles, monitor_delta=True))\n",
    "    else:\n",
    "        monitors.append(xc.EmittanceMonitor.install(line, f'{bpm}_monitor', at_s=line.get_s_position(f'{bpm}..0'), \n",
    "                                                    stop_at_turn=num_turns, num_particles=num_particles, monitor_delta=True))"
   ]
  },
  {
   "cell_type": "code",
   "execution_count": null,
   "id": "9a67253c",
   "metadata": {},
   "outputs": [],
   "source": [
    "tw = line.twiss()\n",
    "tt = line.get_table()"
   ]
  },
  {
   "cell_type": "code",
   "execution_count": null,
   "id": "91feae1e",
   "metadata": {},
   "outputs": [],
   "source": [
    "line.build_tracker()\n",
    "part = xp.generate_matched_gaussian_bunch(nemitt_x=nemitt, nemitt_y=nemitt,\n",
    "                                          sigma_z=sigma_z, num_particles=num_particles, line=line) #sigma_z=0.224"
   ]
  },
  {
   "cell_type": "code",
   "execution_count": null,
   "id": "5326751f",
   "metadata": {},
   "outputs": [
    {
     "name": "stdout",
     "output_type": "stream",
     "text": [
      "The current frequency is 200000000.0Hz, adding -1.0Hz per turn until 199994000.0 (for 6000 turns).\n",
      "This sweep will move the center of the bucket with Δδ = 0.01689694767965286 (2.664416947099336 buckets).\n",
      "Compiling ContextCpu kernels...\n"
     ]
    },
    {
     "name": "stderr",
     "output_type": "stream",
     "text": [
      "ld: warning: duplicate -rpath '/Users/lisepauwels/miniforge3/envs/xcoll/lib' ignored\n",
      "ld: warning: duplicate -rpath '/Users/lisepauwels/miniforge3/envs/xcoll/lib' ignored\n"
     ]
    },
    {
     "name": "stdout",
     "output_type": "stream",
     "text": [
      "Done compiling ContextCpu kernels.\n"
     ]
    },
    {
     "data": {
      "application/vnd.jupyter.widget-view+json": {
       "model_id": "8bea82a8ec294b3fb423e5873311b4b0",
       "version_major": 2,
       "version_minor": 0
      },
      "text/plain": [
       "Tracking:   0%|          | 0/6000 [00:00<?, ?it/s]"
      ]
     },
     "metadata": {},
     "output_type": "display_data"
    }
   ],
   "source": [
    "rf_sweep = xc.RFSweep(line)\n",
    "rf_sweep.info(sweep=sweep, num_turns=num_turns)\n",
    "\n",
    "line.discard_tracker()\n",
    "line.build_tracker(_context=xo.ContextCpu(omp_num_threads='auto'))\n",
    "line.scattering.enable()\n",
    "rf_sweep.track(sweep=sweep, particles=part, num_turns=num_turns, time=True, with_progress=5)\n",
    "line.scattering.disable()"
   ]
  },
  {
   "cell_type": "code",
   "execution_count": null,
   "id": "37d7382d",
   "metadata": {},
   "outputs": [
    {
     "name": "stderr",
     "output_type": "stream",
     "text": [
      "/Users/lisepauwels/Xsuite/xcoll/xcoll/beam_elements/monitor.py:452: RuntimeWarning: invalid value encountered in sqrt\n",
      "  gemitt_zeta = np.sqrt(self.zeta_zeta_var * self.pzeta_pzeta_var - self.zeta_pzeta_var**2)\n"
     ]
    }
   ],
   "source": [
    "x = []\n",
    "x2 = []\n",
    "delta = []\n",
    "y = []\n",
    "y2 = []\n",
    "delta_calc = []\n",
    "for monitor in monitors:\n",
    "    x.append(monitor.x_mean)\n",
    "    x2.append(monitor.x_x_var)\n",
    "    y.append(monitor.y_mean)\n",
    "    y2.append(monitor.y_y_var)\n",
    "    delta.append(monitor.delta_mean)\n",
    "    delta_calc.append((monitor.x_mean - tw.rows[monitor.name].x)/tw.rows[monitor.name].dx)"
   ]
  },
  {
   "cell_type": "code",
   "execution_count": null,
   "id": "29a1fae1",
   "metadata": {},
   "outputs": [],
   "source": [
    "turns_of_death = sorted(part.at_turn)\n",
    "index_cut = int(0.1 * len(turns_of_death))\n",
    "turn_cut = turns_of_death[index_cut]\n",
    "\n",
    "fig, ax = plt.subplots(1, 3, figsize=(15, 5))\n",
    "ax[0].plot(ak.mean(x, axis=0)[:turn_cut]*1e3, label='x')\n",
    "ax[0].plot(ak.mean(y, axis=0)[:turn_cut]*1e3, label='y', color='darkred')\n",
    "ax[1].plot(ak.mean(x2 + ak.Array(x)*999/1000, axis=0)[:turn_cut]*1e3, label='x2')\n",
    "ax[1].plot(ak.mean(y2+ ak.Array(y)*999/1000, axis=0)[:turn_cut]*1e3, label='y2', color='darkred')\n",
    "ax[2].plot(ak.mean(delta, axis=0)[:turn_cut]*1e3, label='delta')\n",
    "ax[2].plot(ak.mean(delta_calc, axis=0)[:turn_cut]*1e3, label='delta_calc', color='darkgreen')\n",
    "for axis in ax:\n",
    "    axis.grid()\n",
    "fig.tight_layout()\n",
    "plt.savefig(f'{sim_name}.png', dpi=300)"
   ]
  },
  {
   "cell_type": "markdown",
   "id": "47f66772",
   "metadata": {},
   "source": [
    "# Matched gaussian bunch, $\\epsilon = 2e-6$, $\\sigma_z = 0$, DPpos"
   ]
  },
  {
   "cell_type": "code",
   "execution_count": null,
   "id": "b151a5e7",
   "metadata": {},
   "outputs": [],
   "source": [
    "# Settings\n",
    "plane = 'DPpos'\n",
    "chroma = 0.5\n",
    "nemitt = 2e-6\n",
    "sigma_z = 0\n",
    "delta = None\n",
    "\n",
    "sim_name = f'gaussian_{plane}_nemitt{nemitt}_sigma_z{sigma_z}_delta{delta}'"
   ]
  },
  {
   "cell_type": "code",
   "execution_count": null,
   "id": "6c9ea01e",
   "metadata": {},
   "outputs": [
    {
     "data": {
      "application/vnd.jupyter.widget-view+json": {
       "model_id": "5532ca8cee364073a05bb1458cf8ea1d",
       "version_major": 2,
       "version_minor": 0
      },
      "text/plain": [
       "Loading line from dict:   0%|          | 0/36395 [00:00<?, ?it/s]"
      ]
     },
     "metadata": {},
     "output_type": "display_data"
    },
    {
     "name": "stdout",
     "output_type": "stream",
     "text": [
      "Done loading line from dict.           \n"
     ]
    }
   ],
   "source": [
    "#Line\n",
    "line = xt.Line.from_json('../../injection_lines/sps_with_aperture_inj_q20_beam_sagitta2.json')\n",
    "\n",
    "line.vars['qph_setvalue'] = chroma\n",
    "line.vars['qpv_setvalue'] = chroma\n",
    "line.vars['qh_setvalue'] = line.vars['qx0']._value + 0.05\n",
    "line.vars['qv_setvalue'] = line.vars['qy0']._value + 0.05\n",
    "\n",
    "cavity_elements, cavity_names = line.get_elements_of_type(xt.Cavity)\n",
    "\n",
    "for name in cavity_names:\n",
    "    line[name].frequency = 200e6\n",
    "    line[name].lag = 180\n",
    "line['actcse.31632'].voltage = 3e6"
   ]
  },
  {
   "cell_type": "code",
   "execution_count": null,
   "id": "7a7a871d",
   "metadata": {},
   "outputs": [],
   "source": [
    "context = xo.ContextCpu()\n",
    "\n",
    "num_particles  = 1000\n",
    "sweep = 6000\n",
    "sweep = -abs(sweep) if plane == 'DPpos' else abs(sweep)\n",
    "num_turns = 6000"
   ]
  },
  {
   "cell_type": "code",
   "execution_count": null,
   "id": "342ffd76",
   "metadata": {},
   "outputs": [],
   "source": [
    "#Installing TIDP\n",
    "tidp_ap_tot = 147\n",
    "block_mvt = 29\n",
    "\n",
    "tidp = xc.EverestCollimator(length=4.3, material=xc.materials.Carbon, jaw_L= tidp_ap_tot/2 + block_mvt, jaw_R = -tidp_ap_tot/2 + block_mvt)\n",
    "line.collimators.install(names=['tidp.11434'], elements=[tidp])"
   ]
  },
  {
   "cell_type": "code",
   "execution_count": null,
   "id": "b73d879a",
   "metadata": {},
   "outputs": [],
   "source": [
    "bpms_hor = ['bph.10208',\n",
    " 'bph.10408',\n",
    " 'bph.10608',\n",
    " 'bph.10808',\n",
    " 'bph.11008',\n",
    " 'bph.11208',\n",
    " 'bph.11408',\n",
    " 'bph.11608',\n",
    " 'bph.11831',\n",
    " 'bph.12008',\n",
    " 'bph.12208',\n",
    " 'bph.12408',\n",
    " 'bph.12608',\n",
    " 'bph.12808',\n",
    " 'bph.13008',\n",
    " 'bph.13208',\n",
    " 'bph.13408',\n",
    " 'bph.13608',\n",
    " 'bph.20208',\n",
    " 'bph.20408',\n",
    " 'bph.20608',\n",
    " 'bph.20808',\n",
    " 'bph.21008',\n",
    " 'bph.21208',\n",
    " 'bph.21408',\n",
    " 'bpce.21604',\n",
    " 'bpce.21706',\n",
    " 'bpce.21803',\n",
    " 'bph.22008',\n",
    " 'bph.22208',\n",
    " 'bph.22408',\n",
    " 'bph.22608',\n",
    " 'bph.22808',\n",
    " 'bph.23008',\n",
    " 'bph.23208',\n",
    " 'bph.23408',\n",
    " 'bph.23608',\n",
    " 'bph.30208',\n",
    " 'bph.30408',\n",
    " 'bph.30608',\n",
    " 'bph.30808',\n",
    " 'bph.31008',\n",
    " 'bph.31208',\n",
    " 'bph.31408',\n",
    " 'bph.31608',\n",
    " 'bph.31808',\n",
    " 'bph.32008',\n",
    " 'bph.32208',\n",
    " 'bph.32408',\n",
    " 'bph.32608',\n",
    " 'bph.32808',\n",
    " 'bph.33008',\n",
    " 'bph.33208',\n",
    " 'bph.33408',\n",
    " 'bph.33608',\n",
    " 'bph.40208',\n",
    " 'bph.40408',\n",
    " 'bph.40608',\n",
    " 'bph.40808',\n",
    " 'bph.41008',\n",
    " 'bph.41208',\n",
    " 'bph.41408',\n",
    " 'bpce.41705',\n",
    " 'bpce.41801',\n",
    " 'bpce.41931',\n",
    " 'bph.42008',\n",
    " 'bph.42208',\n",
    " 'bph.42408',\n",
    " 'bph.42608',\n",
    " 'bph.42808',\n",
    " 'bph.43008',\n",
    " 'bph.43208',\n",
    " 'bph.43408',\n",
    " 'bph.43608',\n",
    " 'bph.50208',\n",
    " 'bph.50408',\n",
    " 'bph.50608',\n",
    " 'bph.50808',\n",
    " 'bph.51008',\n",
    " 'bph.51208',\n",
    " 'bph.51408',\n",
    " 'bpce.51604',\n",
    " 'bpce.51833',\n",
    " 'bph.52008',\n",
    " 'bph.52208',\n",
    " 'bph.52408',\n",
    " 'bph.52608',\n",
    " 'bph.52808',\n",
    " 'bph.53008',\n",
    " 'bph.53208',\n",
    " 'bph.53408',\n",
    " 'bph.53608',\n",
    " 'bph.60208',\n",
    " 'bph.60408',\n",
    " 'bph.60608',\n",
    " 'bph.60808',\n",
    " 'bph.61008',\n",
    " 'bph.61208',\n",
    " 'bph.61408',\n",
    " 'bph.61608',\n",
    " 'bpce.61705',\n",
    " 'bpce.61804',\n",
    " 'bpce.61931',\n",
    " 'bph.62008',\n",
    " 'bph.62208',\n",
    " 'bph.62408',\n",
    " 'bph.62608',\n",
    " 'bph.62808',\n",
    " 'bph.63008',\n",
    " 'bph.63208',\n",
    " 'bph.63408',\n",
    " 'bph.63608']"
   ]
  },
  {
   "cell_type": "code",
   "execution_count": null,
   "id": "9b92757f",
   "metadata": {},
   "outputs": [],
   "source": [
    "monitors = []\n",
    "for bpm in bpms_hor:\n",
    "    if bpm in line.element_names:\n",
    "        monitors.append(xc.EmittanceMonitor.install(line, f'{bpm}_monitor', at_s=line.get_s_position(bpm), \n",
    "                                                    stop_at_turn=num_turns, num_particles=num_particles, monitor_delta=True))\n",
    "    else:\n",
    "        monitors.append(xc.EmittanceMonitor.install(line, f'{bpm}_monitor', at_s=line.get_s_position(f'{bpm}..0'), \n",
    "                                                    stop_at_turn=num_turns, num_particles=num_particles, monitor_delta=True))"
   ]
  },
  {
   "cell_type": "code",
   "execution_count": null,
   "id": "0990e44b",
   "metadata": {},
   "outputs": [],
   "source": [
    "tw = line.twiss()\n",
    "tt = line.get_table()"
   ]
  },
  {
   "cell_type": "code",
   "execution_count": null,
   "id": "1c8a346f",
   "metadata": {},
   "outputs": [],
   "source": [
    "line.build_tracker()\n",
    "part = xp.generate_matched_gaussian_bunch(nemitt_x=nemitt, nemitt_y=nemitt,\n",
    "                                          sigma_z=sigma_z, num_particles=num_particles, line=line) #sigma_z=0.224"
   ]
  },
  {
   "cell_type": "code",
   "execution_count": null,
   "id": "bee8856c",
   "metadata": {},
   "outputs": [
    {
     "name": "stdout",
     "output_type": "stream",
     "text": [
      "The current frequency is 200000000.0Hz, adding -1.0Hz per turn until 199994000.0 (for 6000 turns).\n",
      "This sweep will move the center of the bucket with Δδ = 0.01689694767965286 (2.664416947099336 buckets).\n",
      "Compiling ContextCpu kernels...\n"
     ]
    },
    {
     "name": "stderr",
     "output_type": "stream",
     "text": [
      "ld: warning: duplicate -rpath '/Users/lisepauwels/miniforge3/envs/xcoll/lib' ignored\n",
      "ld: warning: duplicate -rpath '/Users/lisepauwels/miniforge3/envs/xcoll/lib' ignored\n"
     ]
    },
    {
     "name": "stdout",
     "output_type": "stream",
     "text": [
      "Done compiling ContextCpu kernels.\n"
     ]
    },
    {
     "data": {
      "application/vnd.jupyter.widget-view+json": {
       "model_id": "8bea82a8ec294b3fb423e5873311b4b0",
       "version_major": 2,
       "version_minor": 0
      },
      "text/plain": [
       "Tracking:   0%|          | 0/6000 [00:00<?, ?it/s]"
      ]
     },
     "metadata": {},
     "output_type": "display_data"
    }
   ],
   "source": [
    "rf_sweep = xc.RFSweep(line)\n",
    "rf_sweep.info(sweep=sweep, num_turns=num_turns)\n",
    "\n",
    "line.discard_tracker()\n",
    "line.build_tracker(_context=xo.ContextCpu(omp_num_threads='auto'))\n",
    "line.scattering.enable()\n",
    "rf_sweep.track(sweep=sweep, particles=part, num_turns=num_turns, time=True, with_progress=5)\n",
    "line.scattering.disable()"
   ]
  },
  {
   "cell_type": "code",
   "execution_count": null,
   "id": "17a854f0",
   "metadata": {},
   "outputs": [
    {
     "name": "stderr",
     "output_type": "stream",
     "text": [
      "/Users/lisepauwels/Xsuite/xcoll/xcoll/beam_elements/monitor.py:452: RuntimeWarning: invalid value encountered in sqrt\n",
      "  gemitt_zeta = np.sqrt(self.zeta_zeta_var * self.pzeta_pzeta_var - self.zeta_pzeta_var**2)\n"
     ]
    }
   ],
   "source": [
    "x = []\n",
    "x2 = []\n",
    "delta = []\n",
    "y = []\n",
    "y2 = []\n",
    "delta_calc = []\n",
    "for monitor in monitors:\n",
    "    x.append(monitor.x_mean)\n",
    "    x2.append(monitor.x_x_var)\n",
    "    y.append(monitor.y_mean)\n",
    "    y2.append(monitor.y_y_var)\n",
    "    delta.append(monitor.delta_mean)\n",
    "    delta_calc.append((monitor.x_mean - tw.rows[monitor.name].x)/tw.rows[monitor.name].dx)"
   ]
  },
  {
   "cell_type": "code",
   "execution_count": null,
   "id": "d06b1b6c",
   "metadata": {},
   "outputs": [],
   "source": [
    "turns_of_death = sorted(part.at_turn)\n",
    "index_cut = int(0.1 * len(turns_of_death))\n",
    "turn_cut = turns_of_death[index_cut]\n",
    "\n",
    "fig, ax = plt.subplots(1, 3, figsize=(15, 5))\n",
    "ax[0].plot(ak.mean(x, axis=0)[:turn_cut]*1e3, label='x')\n",
    "ax[0].plot(ak.mean(y, axis=0)[:turn_cut]*1e3, label='y', color='darkred')\n",
    "ax[1].plot(ak.mean(x2 + ak.Array(x)*999/1000, axis=0)[:turn_cut]*1e3, label='x2')\n",
    "ax[1].plot(ak.mean(y2+ ak.Array(y)*999/1000, axis=0)[:turn_cut]*1e3, label='y2', color='darkred')\n",
    "ax[2].plot(ak.mean(delta, axis=0)[:turn_cut]*1e3, label='delta')\n",
    "ax[2].plot(ak.mean(delta_calc, axis=0)[:turn_cut]*1e3, label='delta_calc', color='darkgreen')\n",
    "for axis in ax:\n",
    "    axis.grid()\n",
    "fig.tight_layout()\n",
    "plt.savefig(f'{sim_name}.png', dpi=300)"
   ]
  },
  {
   "cell_type": "markdown",
   "id": "2d4c743f",
   "metadata": {},
   "source": [
    "# Matched gaussian bunch, $\\epsilon = 2e-6$, $\\sigma_z = 0$, $\\delta = 0$, DPpos"
   ]
  },
  {
   "cell_type": "code",
   "execution_count": null,
   "id": "b15950c0",
   "metadata": {},
   "outputs": [],
   "source": [
    "# Settings\n",
    "plane = 'DPpos'\n",
    "chroma = 0.5\n",
    "nemitt = 2e-6\n",
    "sigma_z = 0\n",
    "delta = 0\n",
    "\n",
    "sim_name = f'gaussian_{plane}_nemitt{nemitt}_sigma_z{sigma_z}_delta{delta}'"
   ]
  },
  {
   "cell_type": "code",
   "execution_count": null,
   "id": "b4a81241",
   "metadata": {},
   "outputs": [
    {
     "data": {
      "application/vnd.jupyter.widget-view+json": {
       "model_id": "5532ca8cee364073a05bb1458cf8ea1d",
       "version_major": 2,
       "version_minor": 0
      },
      "text/plain": [
       "Loading line from dict:   0%|          | 0/36395 [00:00<?, ?it/s]"
      ]
     },
     "metadata": {},
     "output_type": "display_data"
    },
    {
     "name": "stdout",
     "output_type": "stream",
     "text": [
      "Done loading line from dict.           \n"
     ]
    }
   ],
   "source": [
    "#Line\n",
    "line = xt.Line.from_json('../../injection_lines/sps_with_aperture_inj_q20_beam_sagitta2.json')\n",
    "\n",
    "line.vars['qph_setvalue'] = chroma\n",
    "line.vars['qpv_setvalue'] = chroma\n",
    "line.vars['qh_setvalue'] = line.vars['qx0']._value + 0.05\n",
    "line.vars['qv_setvalue'] = line.vars['qy0']._value + 0.05\n",
    "\n",
    "cavity_elements, cavity_names = line.get_elements_of_type(xt.Cavity)\n",
    "\n",
    "for name in cavity_names:\n",
    "    line[name].frequency = 200e6\n",
    "    line[name].lag = 180\n",
    "line['actcse.31632'].voltage = 3e6"
   ]
  },
  {
   "cell_type": "code",
   "execution_count": null,
   "id": "a3455532",
   "metadata": {},
   "outputs": [],
   "source": [
    "context = xo.ContextCpu()\n",
    "\n",
    "num_particles  = 1000\n",
    "sweep = 6000\n",
    "sweep = -abs(sweep) if plane == 'DPpos' else abs(sweep)\n",
    "num_turns = 6000"
   ]
  },
  {
   "cell_type": "code",
   "execution_count": null,
   "id": "6a6bb0ea",
   "metadata": {},
   "outputs": [],
   "source": [
    "#Installing TIDP\n",
    "tidp_ap_tot = 147\n",
    "block_mvt = 29\n",
    "\n",
    "tidp = xc.EverestCollimator(length=4.3, material=xc.materials.Carbon, jaw_L= tidp_ap_tot/2 + block_mvt, jaw_R = -tidp_ap_tot/2 + block_mvt)\n",
    "line.collimators.install(names=['tidp.11434'], elements=[tidp])"
   ]
  },
  {
   "cell_type": "code",
   "execution_count": null,
   "id": "a61610fe",
   "metadata": {},
   "outputs": [],
   "source": [
    "bpms_hor = ['bph.10208',\n",
    " 'bph.10408',\n",
    " 'bph.10608',\n",
    " 'bph.10808',\n",
    " 'bph.11008',\n",
    " 'bph.11208',\n",
    " 'bph.11408',\n",
    " 'bph.11608',\n",
    " 'bph.11831',\n",
    " 'bph.12008',\n",
    " 'bph.12208',\n",
    " 'bph.12408',\n",
    " 'bph.12608',\n",
    " 'bph.12808',\n",
    " 'bph.13008',\n",
    " 'bph.13208',\n",
    " 'bph.13408',\n",
    " 'bph.13608',\n",
    " 'bph.20208',\n",
    " 'bph.20408',\n",
    " 'bph.20608',\n",
    " 'bph.20808',\n",
    " 'bph.21008',\n",
    " 'bph.21208',\n",
    " 'bph.21408',\n",
    " 'bpce.21604',\n",
    " 'bpce.21706',\n",
    " 'bpce.21803',\n",
    " 'bph.22008',\n",
    " 'bph.22208',\n",
    " 'bph.22408',\n",
    " 'bph.22608',\n",
    " 'bph.22808',\n",
    " 'bph.23008',\n",
    " 'bph.23208',\n",
    " 'bph.23408',\n",
    " 'bph.23608',\n",
    " 'bph.30208',\n",
    " 'bph.30408',\n",
    " 'bph.30608',\n",
    " 'bph.30808',\n",
    " 'bph.31008',\n",
    " 'bph.31208',\n",
    " 'bph.31408',\n",
    " 'bph.31608',\n",
    " 'bph.31808',\n",
    " 'bph.32008',\n",
    " 'bph.32208',\n",
    " 'bph.32408',\n",
    " 'bph.32608',\n",
    " 'bph.32808',\n",
    " 'bph.33008',\n",
    " 'bph.33208',\n",
    " 'bph.33408',\n",
    " 'bph.33608',\n",
    " 'bph.40208',\n",
    " 'bph.40408',\n",
    " 'bph.40608',\n",
    " 'bph.40808',\n",
    " 'bph.41008',\n",
    " 'bph.41208',\n",
    " 'bph.41408',\n",
    " 'bpce.41705',\n",
    " 'bpce.41801',\n",
    " 'bpce.41931',\n",
    " 'bph.42008',\n",
    " 'bph.42208',\n",
    " 'bph.42408',\n",
    " 'bph.42608',\n",
    " 'bph.42808',\n",
    " 'bph.43008',\n",
    " 'bph.43208',\n",
    " 'bph.43408',\n",
    " 'bph.43608',\n",
    " 'bph.50208',\n",
    " 'bph.50408',\n",
    " 'bph.50608',\n",
    " 'bph.50808',\n",
    " 'bph.51008',\n",
    " 'bph.51208',\n",
    " 'bph.51408',\n",
    " 'bpce.51604',\n",
    " 'bpce.51833',\n",
    " 'bph.52008',\n",
    " 'bph.52208',\n",
    " 'bph.52408',\n",
    " 'bph.52608',\n",
    " 'bph.52808',\n",
    " 'bph.53008',\n",
    " 'bph.53208',\n",
    " 'bph.53408',\n",
    " 'bph.53608',\n",
    " 'bph.60208',\n",
    " 'bph.60408',\n",
    " 'bph.60608',\n",
    " 'bph.60808',\n",
    " 'bph.61008',\n",
    " 'bph.61208',\n",
    " 'bph.61408',\n",
    " 'bph.61608',\n",
    " 'bpce.61705',\n",
    " 'bpce.61804',\n",
    " 'bpce.61931',\n",
    " 'bph.62008',\n",
    " 'bph.62208',\n",
    " 'bph.62408',\n",
    " 'bph.62608',\n",
    " 'bph.62808',\n",
    " 'bph.63008',\n",
    " 'bph.63208',\n",
    " 'bph.63408',\n",
    " 'bph.63608']"
   ]
  },
  {
   "cell_type": "code",
   "execution_count": null,
   "id": "b56742ca",
   "metadata": {},
   "outputs": [],
   "source": [
    "monitors = []\n",
    "for bpm in bpms_hor:\n",
    "    if bpm in line.element_names:\n",
    "        monitors.append(xc.EmittanceMonitor.install(line, f'{bpm}_monitor', at_s=line.get_s_position(bpm), \n",
    "                                                    stop_at_turn=num_turns, num_particles=num_particles, monitor_delta=True))\n",
    "    else:\n",
    "        monitors.append(xc.EmittanceMonitor.install(line, f'{bpm}_monitor', at_s=line.get_s_position(f'{bpm}..0'), \n",
    "                                                    stop_at_turn=num_turns, num_particles=num_particles, monitor_delta=True))"
   ]
  },
  {
   "cell_type": "code",
   "execution_count": null,
   "id": "2e3a687f",
   "metadata": {},
   "outputs": [],
   "source": [
    "tw = line.twiss()\n",
    "tt = line.get_table()"
   ]
  },
  {
   "cell_type": "code",
   "execution_count": null,
   "id": "3946ea56",
   "metadata": {},
   "outputs": [],
   "source": [
    "line.build_tracker()\n",
    "part = xp.generate_matched_gaussian_bunch(nemitt_x=nemitt, nemitt_y=nemitt,\n",
    "                                          sigma_z=sigma_z, num_particles=num_particles, line=line) #sigma_z=0.224\n",
    "part.delta = 0"
   ]
  },
  {
   "cell_type": "code",
   "execution_count": null,
   "id": "456afc6f",
   "metadata": {},
   "outputs": [
    {
     "name": "stdout",
     "output_type": "stream",
     "text": [
      "The current frequency is 200000000.0Hz, adding -1.0Hz per turn until 199994000.0 (for 6000 turns).\n",
      "This sweep will move the center of the bucket with Δδ = 0.01689694767965286 (2.664416947099336 buckets).\n",
      "Compiling ContextCpu kernels...\n"
     ]
    },
    {
     "name": "stderr",
     "output_type": "stream",
     "text": [
      "ld: warning: duplicate -rpath '/Users/lisepauwels/miniforge3/envs/xcoll/lib' ignored\n",
      "ld: warning: duplicate -rpath '/Users/lisepauwels/miniforge3/envs/xcoll/lib' ignored\n"
     ]
    },
    {
     "name": "stdout",
     "output_type": "stream",
     "text": [
      "Done compiling ContextCpu kernels.\n"
     ]
    },
    {
     "data": {
      "application/vnd.jupyter.widget-view+json": {
       "model_id": "8bea82a8ec294b3fb423e5873311b4b0",
       "version_major": 2,
       "version_minor": 0
      },
      "text/plain": [
       "Tracking:   0%|          | 0/6000 [00:00<?, ?it/s]"
      ]
     },
     "metadata": {},
     "output_type": "display_data"
    }
   ],
   "source": [
    "rf_sweep = xc.RFSweep(line)\n",
    "rf_sweep.info(sweep=sweep, num_turns=num_turns)\n",
    "\n",
    "line.discard_tracker()\n",
    "line.build_tracker(_context=xo.ContextCpu(omp_num_threads='auto'))\n",
    "line.scattering.enable()\n",
    "rf_sweep.track(sweep=sweep, particles=part, num_turns=num_turns, time=True, with_progress=5)\n",
    "line.scattering.disable()"
   ]
  },
  {
   "cell_type": "code",
   "execution_count": null,
   "id": "053e9d71",
   "metadata": {},
   "outputs": [
    {
     "name": "stderr",
     "output_type": "stream",
     "text": [
      "/Users/lisepauwels/Xsuite/xcoll/xcoll/beam_elements/monitor.py:452: RuntimeWarning: invalid value encountered in sqrt\n",
      "  gemitt_zeta = np.sqrt(self.zeta_zeta_var * self.pzeta_pzeta_var - self.zeta_pzeta_var**2)\n"
     ]
    }
   ],
   "source": [
    "x = []\n",
    "x2 = []\n",
    "delta = []\n",
    "y = []\n",
    "y2 = []\n",
    "delta_calc = []\n",
    "for monitor in monitors:\n",
    "    x.append(monitor.x_mean)\n",
    "    x2.append(monitor.x_x_var)\n",
    "    y.append(monitor.y_mean)\n",
    "    y2.append(monitor.y_y_var)\n",
    "    delta.append(monitor.delta_mean)\n",
    "    delta_calc.append((monitor.x_mean - tw.rows[monitor.name].x)/tw.rows[monitor.name].dx)"
   ]
  },
  {
   "cell_type": "code",
   "execution_count": null,
   "id": "24946710",
   "metadata": {},
   "outputs": [],
   "source": [
    "turns_of_death = sorted(part.at_turn)\n",
    "index_cut = int(0.1 * len(turns_of_death))\n",
    "turn_cut = turns_of_death[index_cut]\n",
    "\n",
    "fig, ax = plt.subplots(1, 3, figsize=(15, 5))\n",
    "ax[0].plot(ak.mean(x, axis=0)[:turn_cut]*1e3, label='x')\n",
    "ax[0].plot(ak.mean(y, axis=0)[:turn_cut]*1e3, label='y', color='darkred')\n",
    "ax[1].plot(ak.mean(x2 + ak.Array(x)*999/1000, axis=0)[:turn_cut]*1e3, label='x2')\n",
    "ax[1].plot(ak.mean(y2+ ak.Array(y)*999/1000, axis=0)[:turn_cut]*1e3, label='y2', color='darkred')\n",
    "ax[2].plot(ak.mean(delta, axis=0)[:turn_cut]*1e3, label='delta')\n",
    "ax[2].plot(ak.mean(delta_calc, axis=0)[:turn_cut]*1e3, label='delta_calc', color='darkgreen')\n",
    "for axis in ax:\n",
    "    axis.grid()\n",
    "fig.tight_layout()\n",
    "plt.savefig(f'{sim_name}.png', dpi=300)"
   ]
  },
  {
   "cell_type": "markdown",
   "id": "78a5d934",
   "metadata": {},
   "source": [
    "# Matched gaussian bunch, $\\epsilon = 2e-6$, $\\sigma_z = 0$, $\\delta = 4e-3$, DPpos"
   ]
  },
  {
   "cell_type": "code",
   "execution_count": null,
   "id": "9946e609",
   "metadata": {},
   "outputs": [],
   "source": [
    "# Settings\n",
    "plane = 'DPpos'\n",
    "chroma = 0.5\n",
    "nemitt = 2e-6\n",
    "sigma_z = 0\n",
    "delta = 4e-3\n",
    "\n",
    "sim_name = f'gaussian_{plane}_nemitt{nemitt}_sigma_z{sigma_z}_delta{delta}'"
   ]
  },
  {
   "cell_type": "code",
   "execution_count": null,
   "id": "2b6986b9",
   "metadata": {},
   "outputs": [
    {
     "data": {
      "application/vnd.jupyter.widget-view+json": {
       "model_id": "5532ca8cee364073a05bb1458cf8ea1d",
       "version_major": 2,
       "version_minor": 0
      },
      "text/plain": [
       "Loading line from dict:   0%|          | 0/36395 [00:00<?, ?it/s]"
      ]
     },
     "metadata": {},
     "output_type": "display_data"
    },
    {
     "name": "stdout",
     "output_type": "stream",
     "text": [
      "Done loading line from dict.           \n"
     ]
    }
   ],
   "source": [
    "#Line\n",
    "line = xt.Line.from_json('../../injection_lines/sps_with_aperture_inj_q20_beam_sagitta2.json')\n",
    "\n",
    "line.vars['qph_setvalue'] = chroma\n",
    "line.vars['qpv_setvalue'] = chroma\n",
    "line.vars['qh_setvalue'] = line.vars['qx0']._value + 0.05\n",
    "line.vars['qv_setvalue'] = line.vars['qy0']._value + 0.05\n",
    "\n",
    "cavity_elements, cavity_names = line.get_elements_of_type(xt.Cavity)\n",
    "\n",
    "for name in cavity_names:\n",
    "    line[name].frequency = 200e6\n",
    "    line[name].lag = 180\n",
    "line['actcse.31632'].voltage = 3e6"
   ]
  },
  {
   "cell_type": "code",
   "execution_count": null,
   "id": "4313b0f8",
   "metadata": {},
   "outputs": [],
   "source": [
    "context = xo.ContextCpu()\n",
    "\n",
    "num_particles  = 1000\n",
    "sweep = 6000\n",
    "sweep = -abs(sweep) if plane == 'DPpos' else abs(sweep)\n",
    "num_turns = 6000"
   ]
  },
  {
   "cell_type": "code",
   "execution_count": null,
   "id": "87bcf2dd",
   "metadata": {},
   "outputs": [],
   "source": [
    "#Installing TIDP\n",
    "tidp_ap_tot = 147\n",
    "block_mvt = 29\n",
    "\n",
    "tidp = xc.EverestCollimator(length=4.3, material=xc.materials.Carbon, jaw_L= tidp_ap_tot/2 + block_mvt, jaw_R = -tidp_ap_tot/2 + block_mvt)\n",
    "line.collimators.install(names=['tidp.11434'], elements=[tidp])"
   ]
  },
  {
   "cell_type": "code",
   "execution_count": null,
   "id": "fd1d83ed",
   "metadata": {},
   "outputs": [],
   "source": [
    "bpms_hor = ['bph.10208',\n",
    " 'bph.10408',\n",
    " 'bph.10608',\n",
    " 'bph.10808',\n",
    " 'bph.11008',\n",
    " 'bph.11208',\n",
    " 'bph.11408',\n",
    " 'bph.11608',\n",
    " 'bph.11831',\n",
    " 'bph.12008',\n",
    " 'bph.12208',\n",
    " 'bph.12408',\n",
    " 'bph.12608',\n",
    " 'bph.12808',\n",
    " 'bph.13008',\n",
    " 'bph.13208',\n",
    " 'bph.13408',\n",
    " 'bph.13608',\n",
    " 'bph.20208',\n",
    " 'bph.20408',\n",
    " 'bph.20608',\n",
    " 'bph.20808',\n",
    " 'bph.21008',\n",
    " 'bph.21208',\n",
    " 'bph.21408',\n",
    " 'bpce.21604',\n",
    " 'bpce.21706',\n",
    " 'bpce.21803',\n",
    " 'bph.22008',\n",
    " 'bph.22208',\n",
    " 'bph.22408',\n",
    " 'bph.22608',\n",
    " 'bph.22808',\n",
    " 'bph.23008',\n",
    " 'bph.23208',\n",
    " 'bph.23408',\n",
    " 'bph.23608',\n",
    " 'bph.30208',\n",
    " 'bph.30408',\n",
    " 'bph.30608',\n",
    " 'bph.30808',\n",
    " 'bph.31008',\n",
    " 'bph.31208',\n",
    " 'bph.31408',\n",
    " 'bph.31608',\n",
    " 'bph.31808',\n",
    " 'bph.32008',\n",
    " 'bph.32208',\n",
    " 'bph.32408',\n",
    " 'bph.32608',\n",
    " 'bph.32808',\n",
    " 'bph.33008',\n",
    " 'bph.33208',\n",
    " 'bph.33408',\n",
    " 'bph.33608',\n",
    " 'bph.40208',\n",
    " 'bph.40408',\n",
    " 'bph.40608',\n",
    " 'bph.40808',\n",
    " 'bph.41008',\n",
    " 'bph.41208',\n",
    " 'bph.41408',\n",
    " 'bpce.41705',\n",
    " 'bpce.41801',\n",
    " 'bpce.41931',\n",
    " 'bph.42008',\n",
    " 'bph.42208',\n",
    " 'bph.42408',\n",
    " 'bph.42608',\n",
    " 'bph.42808',\n",
    " 'bph.43008',\n",
    " 'bph.43208',\n",
    " 'bph.43408',\n",
    " 'bph.43608',\n",
    " 'bph.50208',\n",
    " 'bph.50408',\n",
    " 'bph.50608',\n",
    " 'bph.50808',\n",
    " 'bph.51008',\n",
    " 'bph.51208',\n",
    " 'bph.51408',\n",
    " 'bpce.51604',\n",
    " 'bpce.51833',\n",
    " 'bph.52008',\n",
    " 'bph.52208',\n",
    " 'bph.52408',\n",
    " 'bph.52608',\n",
    " 'bph.52808',\n",
    " 'bph.53008',\n",
    " 'bph.53208',\n",
    " 'bph.53408',\n",
    " 'bph.53608',\n",
    " 'bph.60208',\n",
    " 'bph.60408',\n",
    " 'bph.60608',\n",
    " 'bph.60808',\n",
    " 'bph.61008',\n",
    " 'bph.61208',\n",
    " 'bph.61408',\n",
    " 'bph.61608',\n",
    " 'bpce.61705',\n",
    " 'bpce.61804',\n",
    " 'bpce.61931',\n",
    " 'bph.62008',\n",
    " 'bph.62208',\n",
    " 'bph.62408',\n",
    " 'bph.62608',\n",
    " 'bph.62808',\n",
    " 'bph.63008',\n",
    " 'bph.63208',\n",
    " 'bph.63408',\n",
    " 'bph.63608']"
   ]
  },
  {
   "cell_type": "code",
   "execution_count": null,
   "id": "c8c936c0",
   "metadata": {},
   "outputs": [],
   "source": [
    "monitors = []\n",
    "for bpm in bpms_hor:\n",
    "    if bpm in line.element_names:\n",
    "        monitors.append(xc.EmittanceMonitor.install(line, f'{bpm}_monitor', at_s=line.get_s_position(bpm), \n",
    "                                                    stop_at_turn=num_turns, num_particles=num_particles, monitor_delta=True))\n",
    "    else:\n",
    "        monitors.append(xc.EmittanceMonitor.install(line, f'{bpm}_monitor', at_s=line.get_s_position(f'{bpm}..0'), \n",
    "                                                    stop_at_turn=num_turns, num_particles=num_particles, monitor_delta=True))"
   ]
  },
  {
   "cell_type": "code",
   "execution_count": null,
   "id": "ae628dc5",
   "metadata": {},
   "outputs": [],
   "source": [
    "tw = line.twiss()\n",
    "tt = line.get_table()"
   ]
  },
  {
   "cell_type": "code",
   "execution_count": null,
   "id": "7411c7d4",
   "metadata": {},
   "outputs": [],
   "source": [
    "line.build_tracker()\n",
    "part = xp.generate_matched_gaussian_bunch(nemitt_x=nemitt, nemitt_y=nemitt,\n",
    "                                          sigma_z=sigma_z, num_particles=num_particles, line=line) #sigma_z=0.224\n",
    "part.delta = delta"
   ]
  },
  {
   "cell_type": "code",
   "execution_count": null,
   "id": "698ab68f",
   "metadata": {},
   "outputs": [
    {
     "name": "stdout",
     "output_type": "stream",
     "text": [
      "The current frequency is 200000000.0Hz, adding -1.0Hz per turn until 199994000.0 (for 6000 turns).\n",
      "This sweep will move the center of the bucket with Δδ = 0.01689694767965286 (2.664416947099336 buckets).\n",
      "Compiling ContextCpu kernels...\n"
     ]
    },
    {
     "name": "stderr",
     "output_type": "stream",
     "text": [
      "ld: warning: duplicate -rpath '/Users/lisepauwels/miniforge3/envs/xcoll/lib' ignored\n",
      "ld: warning: duplicate -rpath '/Users/lisepauwels/miniforge3/envs/xcoll/lib' ignored\n"
     ]
    },
    {
     "name": "stdout",
     "output_type": "stream",
     "text": [
      "Done compiling ContextCpu kernels.\n"
     ]
    },
    {
     "data": {
      "application/vnd.jupyter.widget-view+json": {
       "model_id": "8bea82a8ec294b3fb423e5873311b4b0",
       "version_major": 2,
       "version_minor": 0
      },
      "text/plain": [
       "Tracking:   0%|          | 0/6000 [00:00<?, ?it/s]"
      ]
     },
     "metadata": {},
     "output_type": "display_data"
    }
   ],
   "source": [
    "rf_sweep = xc.RFSweep(line)\n",
    "rf_sweep.info(sweep=sweep, num_turns=num_turns)\n",
    "\n",
    "line.discard_tracker()\n",
    "line.build_tracker(_context=xo.ContextCpu(omp_num_threads='auto'))\n",
    "line.scattering.enable()\n",
    "rf_sweep.track(sweep=sweep, particles=part, num_turns=num_turns, time=True, with_progress=5)\n",
    "line.scattering.disable()"
   ]
  },
  {
   "cell_type": "code",
   "execution_count": null,
   "id": "777e8e50",
   "metadata": {},
   "outputs": [
    {
     "name": "stderr",
     "output_type": "stream",
     "text": [
      "/Users/lisepauwels/Xsuite/xcoll/xcoll/beam_elements/monitor.py:452: RuntimeWarning: invalid value encountered in sqrt\n",
      "  gemitt_zeta = np.sqrt(self.zeta_zeta_var * self.pzeta_pzeta_var - self.zeta_pzeta_var**2)\n"
     ]
    }
   ],
   "source": [
    "x = []\n",
    "x2 = []\n",
    "delta = []\n",
    "y = []\n",
    "y2 = []\n",
    "delta_calc = []\n",
    "for monitor in monitors:\n",
    "    x.append(monitor.x_mean)\n",
    "    x2.append(monitor.x_x_var)\n",
    "    y.append(monitor.y_mean)\n",
    "    y2.append(monitor.y_y_var)\n",
    "    delta.append(monitor.delta_mean)\n",
    "    delta_calc.append((monitor.x_mean - tw.rows[monitor.name].x)/tw.rows[monitor.name].dx)"
   ]
  },
  {
   "cell_type": "code",
   "execution_count": null,
   "id": "2488dc20",
   "metadata": {},
   "outputs": [],
   "source": [
    "turns_of_death = sorted(part.at_turn)\n",
    "index_cut = int(0.1 * len(turns_of_death))\n",
    "turn_cut = turns_of_death[index_cut]\n",
    "\n",
    "fig, ax = plt.subplots(1, 3, figsize=(15, 5))\n",
    "ax[0].plot(ak.mean(x, axis=0)[:turn_cut]*1e3, label='x')\n",
    "ax[0].plot(ak.mean(y, axis=0)[:turn_cut]*1e3, label='y', color='darkred')\n",
    "ax[1].plot(ak.mean(x2 + ak.Array(x)*999/1000, axis=0)[:turn_cut]*1e3, label='x2')\n",
    "ax[1].plot(ak.mean(y2+ ak.Array(y)*999/1000, axis=0)[:turn_cut]*1e3, label='y2', color='darkred')\n",
    "ax[2].plot(ak.mean(delta, axis=0)[:turn_cut]*1e3, label='delta')\n",
    "ax[2].plot(ak.mean(delta_calc, axis=0)[:turn_cut]*1e3, label='delta_calc', color='darkgreen')\n",
    "for axis in ax:\n",
    "    axis.grid()\n",
    "fig.tight_layout()\n",
    "plt.savefig(f'{sim_name}.png', dpi=300)"
   ]
  },
  {
   "cell_type": "markdown",
   "id": "f38ed2c4",
   "metadata": {},
   "source": [
    "# Matched gaussian bunch, $\\epsilon = 2e-6$, $\\sigma_z = 0$, $\\delta = -4e-3$, DPpos"
   ]
  },
  {
   "cell_type": "code",
   "execution_count": null,
   "id": "ea6424b6",
   "metadata": {},
   "outputs": [],
   "source": [
    "# Settings\n",
    "plane = 'DPpos'\n",
    "chroma = 0.5\n",
    "nemitt = 2e-6\n",
    "sigma_z = 0.0\n",
    "delta = -4e-3\n",
    "\n",
    "sim_name = f'gaussian_{plane}_nemitt{nemitt}_sigma_z{sigma_z}_delta{delta}'"
   ]
  },
  {
   "cell_type": "code",
   "execution_count": null,
   "id": "b5d8c003",
   "metadata": {},
   "outputs": [
    {
     "data": {
      "application/vnd.jupyter.widget-view+json": {
       "model_id": "5532ca8cee364073a05bb1458cf8ea1d",
       "version_major": 2,
       "version_minor": 0
      },
      "text/plain": [
       "Loading line from dict:   0%|          | 0/36395 [00:00<?, ?it/s]"
      ]
     },
     "metadata": {},
     "output_type": "display_data"
    },
    {
     "name": "stdout",
     "output_type": "stream",
     "text": [
      "Done loading line from dict.           \n"
     ]
    }
   ],
   "source": [
    "#Line\n",
    "line = xt.Line.from_json('../../injection_lines/sps_with_aperture_inj_q20_beam_sagitta2.json')\n",
    "\n",
    "line.vars['qph_setvalue'] = chroma\n",
    "line.vars['qpv_setvalue'] = chroma\n",
    "line.vars['qh_setvalue'] = line.vars['qx0']._value + 0.05\n",
    "line.vars['qv_setvalue'] = line.vars['qy0']._value + 0.05\n",
    "\n",
    "cavity_elements, cavity_names = line.get_elements_of_type(xt.Cavity)\n",
    "\n",
    "for name in cavity_names:\n",
    "    line[name].frequency = 200e6\n",
    "    line[name].lag = 180\n",
    "line['actcse.31632'].voltage = 3e6"
   ]
  },
  {
   "cell_type": "code",
   "execution_count": null,
   "id": "c6f75bba",
   "metadata": {},
   "outputs": [],
   "source": [
    "context = xo.ContextCpu()\n",
    "\n",
    "num_particles  = 1000\n",
    "sweep = 6000\n",
    "sweep = -abs(sweep) if plane == 'DPpos' else abs(sweep)\n",
    "num_turns = 6000"
   ]
  },
  {
   "cell_type": "code",
   "execution_count": null,
   "id": "bcefe691",
   "metadata": {},
   "outputs": [],
   "source": [
    "#Installing TIDP\n",
    "tidp_ap_tot = 147\n",
    "block_mvt = 29\n",
    "\n",
    "tidp = xc.EverestCollimator(length=4.3, material=xc.materials.Carbon, jaw_L= tidp_ap_tot/2 + block_mvt, jaw_R = -tidp_ap_tot/2 + block_mvt)\n",
    "line.collimators.install(names=['tidp.11434'], elements=[tidp])"
   ]
  },
  {
   "cell_type": "code",
   "execution_count": null,
   "id": "822e3b6b",
   "metadata": {},
   "outputs": [],
   "source": [
    "bpms_hor = ['bph.10208',\n",
    " 'bph.10408',\n",
    " 'bph.10608',\n",
    " 'bph.10808',\n",
    " 'bph.11008',\n",
    " 'bph.11208',\n",
    " 'bph.11408',\n",
    " 'bph.11608',\n",
    " 'bph.11831',\n",
    " 'bph.12008',\n",
    " 'bph.12208',\n",
    " 'bph.12408',\n",
    " 'bph.12608',\n",
    " 'bph.12808',\n",
    " 'bph.13008',\n",
    " 'bph.13208',\n",
    " 'bph.13408',\n",
    " 'bph.13608',\n",
    " 'bph.20208',\n",
    " 'bph.20408',\n",
    " 'bph.20608',\n",
    " 'bph.20808',\n",
    " 'bph.21008',\n",
    " 'bph.21208',\n",
    " 'bph.21408',\n",
    " 'bpce.21604',\n",
    " 'bpce.21706',\n",
    " 'bpce.21803',\n",
    " 'bph.22008',\n",
    " 'bph.22208',\n",
    " 'bph.22408',\n",
    " 'bph.22608',\n",
    " 'bph.22808',\n",
    " 'bph.23008',\n",
    " 'bph.23208',\n",
    " 'bph.23408',\n",
    " 'bph.23608',\n",
    " 'bph.30208',\n",
    " 'bph.30408',\n",
    " 'bph.30608',\n",
    " 'bph.30808',\n",
    " 'bph.31008',\n",
    " 'bph.31208',\n",
    " 'bph.31408',\n",
    " 'bph.31608',\n",
    " 'bph.31808',\n",
    " 'bph.32008',\n",
    " 'bph.32208',\n",
    " 'bph.32408',\n",
    " 'bph.32608',\n",
    " 'bph.32808',\n",
    " 'bph.33008',\n",
    " 'bph.33208',\n",
    " 'bph.33408',\n",
    " 'bph.33608',\n",
    " 'bph.40208',\n",
    " 'bph.40408',\n",
    " 'bph.40608',\n",
    " 'bph.40808',\n",
    " 'bph.41008',\n",
    " 'bph.41208',\n",
    " 'bph.41408',\n",
    " 'bpce.41705',\n",
    " 'bpce.41801',\n",
    " 'bpce.41931',\n",
    " 'bph.42008',\n",
    " 'bph.42208',\n",
    " 'bph.42408',\n",
    " 'bph.42608',\n",
    " 'bph.42808',\n",
    " 'bph.43008',\n",
    " 'bph.43208',\n",
    " 'bph.43408',\n",
    " 'bph.43608',\n",
    " 'bph.50208',\n",
    " 'bph.50408',\n",
    " 'bph.50608',\n",
    " 'bph.50808',\n",
    " 'bph.51008',\n",
    " 'bph.51208',\n",
    " 'bph.51408',\n",
    " 'bpce.51604',\n",
    " 'bpce.51833',\n",
    " 'bph.52008',\n",
    " 'bph.52208',\n",
    " 'bph.52408',\n",
    " 'bph.52608',\n",
    " 'bph.52808',\n",
    " 'bph.53008',\n",
    " 'bph.53208',\n",
    " 'bph.53408',\n",
    " 'bph.53608',\n",
    " 'bph.60208',\n",
    " 'bph.60408',\n",
    " 'bph.60608',\n",
    " 'bph.60808',\n",
    " 'bph.61008',\n",
    " 'bph.61208',\n",
    " 'bph.61408',\n",
    " 'bph.61608',\n",
    " 'bpce.61705',\n",
    " 'bpce.61804',\n",
    " 'bpce.61931',\n",
    " 'bph.62008',\n",
    " 'bph.62208',\n",
    " 'bph.62408',\n",
    " 'bph.62608',\n",
    " 'bph.62808',\n",
    " 'bph.63008',\n",
    " 'bph.63208',\n",
    " 'bph.63408',\n",
    " 'bph.63608']"
   ]
  },
  {
   "cell_type": "code",
   "execution_count": null,
   "id": "e555e643",
   "metadata": {},
   "outputs": [],
   "source": [
    "monitors = []\n",
    "for bpm in bpms_hor:\n",
    "    if bpm in line.element_names:\n",
    "        monitors.append(xc.EmittanceMonitor.install(line, f'{bpm}_monitor', at_s=line.get_s_position(bpm), \n",
    "                                                    stop_at_turn=num_turns, num_particles=num_particles, monitor_delta=True))\n",
    "    else:\n",
    "        monitors.append(xc.EmittanceMonitor.install(line, f'{bpm}_monitor', at_s=line.get_s_position(f'{bpm}..0'), \n",
    "                                                    stop_at_turn=num_turns, num_particles=num_particles, monitor_delta=True))"
   ]
  },
  {
   "cell_type": "code",
   "execution_count": null,
   "id": "48f53e8b",
   "metadata": {},
   "outputs": [],
   "source": [
    "tw = line.twiss()\n",
    "tt = line.get_table()"
   ]
  },
  {
   "cell_type": "code",
   "execution_count": null,
   "id": "91b9ecaa",
   "metadata": {},
   "outputs": [],
   "source": [
    "line.build_tracker()\n",
    "part = xp.generate_matched_gaussian_bunch(nemitt_x=nemitt, nemitt_y=nemitt,\n",
    "                                          sigma_z=sigma_z, num_particles=num_particles, line=line) #sigma_z=0.224\n",
    "part.delta = delta"
   ]
  },
  {
   "cell_type": "code",
   "execution_count": null,
   "id": "397b19dd",
   "metadata": {},
   "outputs": [
    {
     "name": "stdout",
     "output_type": "stream",
     "text": [
      "The current frequency is 200000000.0Hz, adding -1.0Hz per turn until 199994000.0 (for 6000 turns).\n",
      "This sweep will move the center of the bucket with Δδ = 0.01689694767965286 (2.664416947099336 buckets).\n",
      "Compiling ContextCpu kernels...\n"
     ]
    },
    {
     "name": "stderr",
     "output_type": "stream",
     "text": [
      "ld: warning: duplicate -rpath '/Users/lisepauwels/miniforge3/envs/xcoll/lib' ignored\n",
      "ld: warning: duplicate -rpath '/Users/lisepauwels/miniforge3/envs/xcoll/lib' ignored\n"
     ]
    },
    {
     "name": "stdout",
     "output_type": "stream",
     "text": [
      "Done compiling ContextCpu kernels.\n"
     ]
    },
    {
     "data": {
      "application/vnd.jupyter.widget-view+json": {
       "model_id": "8bea82a8ec294b3fb423e5873311b4b0",
       "version_major": 2,
       "version_minor": 0
      },
      "text/plain": [
       "Tracking:   0%|          | 0/6000 [00:00<?, ?it/s]"
      ]
     },
     "metadata": {},
     "output_type": "display_data"
    }
   ],
   "source": [
    "rf_sweep = xc.RFSweep(line)\n",
    "rf_sweep.info(sweep=sweep, num_turns=num_turns)\n",
    "\n",
    "line.discard_tracker()\n",
    "line.build_tracker(_context=xo.ContextCpu(omp_num_threads='auto'))\n",
    "line.scattering.enable()\n",
    "rf_sweep.track(sweep=sweep, particles=part, num_turns=num_turns, time=True, with_progress=5)\n",
    "line.scattering.disable()"
   ]
  },
  {
   "cell_type": "code",
   "execution_count": null,
   "id": "af168739",
   "metadata": {},
   "outputs": [
    {
     "name": "stderr",
     "output_type": "stream",
     "text": [
      "/Users/lisepauwels/Xsuite/xcoll/xcoll/beam_elements/monitor.py:452: RuntimeWarning: invalid value encountered in sqrt\n",
      "  gemitt_zeta = np.sqrt(self.zeta_zeta_var * self.pzeta_pzeta_var - self.zeta_pzeta_var**2)\n"
     ]
    }
   ],
   "source": [
    "x = []\n",
    "x2 = []\n",
    "delta = []\n",
    "y = []\n",
    "y2 = []\n",
    "delta_calc = []\n",
    "for monitor in monitors:\n",
    "    x.append(monitor.x_mean)\n",
    "    x2.append(monitor.x_x_var)\n",
    "    y.append(monitor.y_mean)\n",
    "    y2.append(monitor.y_y_var)\n",
    "    delta.append(monitor.delta_mean)\n",
    "    delta_calc.append((monitor.x_mean - tw.rows[monitor.name].x)/tw.rows[monitor.name].dx)"
   ]
  },
  {
   "cell_type": "code",
   "execution_count": null,
   "id": "a09eab5a",
   "metadata": {},
   "outputs": [],
   "source": [
    "turns_of_death = sorted(part.at_turn)\n",
    "index_cut = int(0.1 * len(turns_of_death))\n",
    "turn_cut = turns_of_death[index_cut]\n",
    "\n",
    "fig, ax = plt.subplots(1, 3, figsize=(15, 5))\n",
    "ax[0].plot(ak.mean(x, axis=0)[:turn_cut]*1e3, label='x')\n",
    "ax[0].plot(ak.mean(y, axis=0)[:turn_cut]*1e3, label='y', color='darkred')\n",
    "ax[1].plot(ak.mean(x2 + ak.Array(x)*999/1000, axis=0)[:turn_cut]*1e3, label='x2')\n",
    "ax[1].plot(ak.mean(y2+ ak.Array(y)*999/1000, axis=0)[:turn_cut]*1e3, label='y2', color='darkred')\n",
    "ax[2].plot(ak.mean(delta, axis=0)[:turn_cut]*1e3, label='delta')\n",
    "ax[2].plot(ak.mean(delta_calc, axis=0)[:turn_cut]*1e3, label='delta_calc', color='darkgreen')\n",
    "for axis in ax:\n",
    "    axis.grid()\n",
    "fig.tight_layout()\n",
    "plt.savefig(f'{sim_name}.png', dpi=300)"
   ]
  },
  {
   "cell_type": "markdown",
   "id": "0b059794",
   "metadata": {},
   "source": [
    "# Matched gaussian bunch, $\\epsilon = 2e-6$, $\\sigma_z = 0$, $\\delta = 0$, DPneg"
   ]
  },
  {
   "cell_type": "code",
   "execution_count": null,
   "id": "8b3afac1",
   "metadata": {},
   "outputs": [],
   "source": [
    "# Settings\n",
    "plane = 'DPneg'\n",
    "chroma = 0.5\n",
    "nemitt = 2e-6\n",
    "sigma_z = 0\n",
    "delta = 0\n",
    "\n",
    "sim_name = f'gaussian_{plane}_nemitt{nemitt}_sigma_z{sigma_z}_delta{delta}'"
   ]
  },
  {
   "cell_type": "code",
   "execution_count": null,
   "id": "67bbfd95",
   "metadata": {},
   "outputs": [
    {
     "data": {
      "application/vnd.jupyter.widget-view+json": {
       "model_id": "5532ca8cee364073a05bb1458cf8ea1d",
       "version_major": 2,
       "version_minor": 0
      },
      "text/plain": [
       "Loading line from dict:   0%|          | 0/36395 [00:00<?, ?it/s]"
      ]
     },
     "metadata": {},
     "output_type": "display_data"
    },
    {
     "name": "stdout",
     "output_type": "stream",
     "text": [
      "Done loading line from dict.           \n"
     ]
    }
   ],
   "source": [
    "#Line\n",
    "line = xt.Line.from_json('../../injection_lines/sps_with_aperture_inj_q20_beam_sagitta2.json')\n",
    "\n",
    "line.vars['qph_setvalue'] = chroma\n",
    "line.vars['qpv_setvalue'] = chroma\n",
    "line.vars['qh_setvalue'] = line.vars['qx0']._value + 0.05\n",
    "line.vars['qv_setvalue'] = line.vars['qy0']._value + 0.05\n",
    "\n",
    "cavity_elements, cavity_names = line.get_elements_of_type(xt.Cavity)\n",
    "\n",
    "for name in cavity_names:\n",
    "    line[name].frequency = 200e6\n",
    "    line[name].lag = 180\n",
    "line['actcse.31632'].voltage = 3e6"
   ]
  },
  {
   "cell_type": "code",
   "execution_count": null,
   "id": "504161e1",
   "metadata": {},
   "outputs": [],
   "source": [
    "context = xo.ContextCpu()\n",
    "\n",
    "num_particles  = 1000\n",
    "sweep = 6000\n",
    "sweep = -abs(sweep) if plane == 'DPpos' else abs(sweep)\n",
    "num_turns = 6000"
   ]
  },
  {
   "cell_type": "code",
   "execution_count": null,
   "id": "bf4434dc",
   "metadata": {},
   "outputs": [],
   "source": [
    "#Installing TIDP\n",
    "tidp_ap_tot = 147\n",
    "block_mvt = 29\n",
    "\n",
    "tidp = xc.EverestCollimator(length=4.3, material=xc.materials.Carbon, jaw_L= tidp_ap_tot/2 + block_mvt, jaw_R = -tidp_ap_tot/2 + block_mvt)\n",
    "line.collimators.install(names=['tidp.11434'], elements=[tidp])"
   ]
  },
  {
   "cell_type": "code",
   "execution_count": null,
   "id": "28957a8b",
   "metadata": {},
   "outputs": [],
   "source": [
    "bpms_hor = ['bph.10208',\n",
    " 'bph.10408',\n",
    " 'bph.10608',\n",
    " 'bph.10808',\n",
    " 'bph.11008',\n",
    " 'bph.11208',\n",
    " 'bph.11408',\n",
    " 'bph.11608',\n",
    " 'bph.11831',\n",
    " 'bph.12008',\n",
    " 'bph.12208',\n",
    " 'bph.12408',\n",
    " 'bph.12608',\n",
    " 'bph.12808',\n",
    " 'bph.13008',\n",
    " 'bph.13208',\n",
    " 'bph.13408',\n",
    " 'bph.13608',\n",
    " 'bph.20208',\n",
    " 'bph.20408',\n",
    " 'bph.20608',\n",
    " 'bph.20808',\n",
    " 'bph.21008',\n",
    " 'bph.21208',\n",
    " 'bph.21408',\n",
    " 'bpce.21604',\n",
    " 'bpce.21706',\n",
    " 'bpce.21803',\n",
    " 'bph.22008',\n",
    " 'bph.22208',\n",
    " 'bph.22408',\n",
    " 'bph.22608',\n",
    " 'bph.22808',\n",
    " 'bph.23008',\n",
    " 'bph.23208',\n",
    " 'bph.23408',\n",
    " 'bph.23608',\n",
    " 'bph.30208',\n",
    " 'bph.30408',\n",
    " 'bph.30608',\n",
    " 'bph.30808',\n",
    " 'bph.31008',\n",
    " 'bph.31208',\n",
    " 'bph.31408',\n",
    " 'bph.31608',\n",
    " 'bph.31808',\n",
    " 'bph.32008',\n",
    " 'bph.32208',\n",
    " 'bph.32408',\n",
    " 'bph.32608',\n",
    " 'bph.32808',\n",
    " 'bph.33008',\n",
    " 'bph.33208',\n",
    " 'bph.33408',\n",
    " 'bph.33608',\n",
    " 'bph.40208',\n",
    " 'bph.40408',\n",
    " 'bph.40608',\n",
    " 'bph.40808',\n",
    " 'bph.41008',\n",
    " 'bph.41208',\n",
    " 'bph.41408',\n",
    " 'bpce.41705',\n",
    " 'bpce.41801',\n",
    " 'bpce.41931',\n",
    " 'bph.42008',\n",
    " 'bph.42208',\n",
    " 'bph.42408',\n",
    " 'bph.42608',\n",
    " 'bph.42808',\n",
    " 'bph.43008',\n",
    " 'bph.43208',\n",
    " 'bph.43408',\n",
    " 'bph.43608',\n",
    " 'bph.50208',\n",
    " 'bph.50408',\n",
    " 'bph.50608',\n",
    " 'bph.50808',\n",
    " 'bph.51008',\n",
    " 'bph.51208',\n",
    " 'bph.51408',\n",
    " 'bpce.51604',\n",
    " 'bpce.51833',\n",
    " 'bph.52008',\n",
    " 'bph.52208',\n",
    " 'bph.52408',\n",
    " 'bph.52608',\n",
    " 'bph.52808',\n",
    " 'bph.53008',\n",
    " 'bph.53208',\n",
    " 'bph.53408',\n",
    " 'bph.53608',\n",
    " 'bph.60208',\n",
    " 'bph.60408',\n",
    " 'bph.60608',\n",
    " 'bph.60808',\n",
    " 'bph.61008',\n",
    " 'bph.61208',\n",
    " 'bph.61408',\n",
    " 'bph.61608',\n",
    " 'bpce.61705',\n",
    " 'bpce.61804',\n",
    " 'bpce.61931',\n",
    " 'bph.62008',\n",
    " 'bph.62208',\n",
    " 'bph.62408',\n",
    " 'bph.62608',\n",
    " 'bph.62808',\n",
    " 'bph.63008',\n",
    " 'bph.63208',\n",
    " 'bph.63408',\n",
    " 'bph.63608']"
   ]
  },
  {
   "cell_type": "code",
   "execution_count": null,
   "id": "55e7ca81",
   "metadata": {},
   "outputs": [],
   "source": [
    "monitors = []\n",
    "for bpm in bpms_hor:\n",
    "    if bpm in line.element_names:\n",
    "        monitors.append(xc.EmittanceMonitor.install(line, f'{bpm}_monitor', at_s=line.get_s_position(bpm), \n",
    "                                                    stop_at_turn=num_turns, num_particles=num_particles, monitor_delta=True))\n",
    "    else:\n",
    "        monitors.append(xc.EmittanceMonitor.install(line, f'{bpm}_monitor', at_s=line.get_s_position(f'{bpm}..0'), \n",
    "                                                    stop_at_turn=num_turns, num_particles=num_particles, monitor_delta=True))"
   ]
  },
  {
   "cell_type": "code",
   "execution_count": null,
   "id": "d9f37194",
   "metadata": {},
   "outputs": [],
   "source": [
    "tw = line.twiss()\n",
    "tt = line.get_table()"
   ]
  },
  {
   "cell_type": "code",
   "execution_count": null,
   "id": "619b78cb",
   "metadata": {},
   "outputs": [],
   "source": [
    "line.build_tracker()\n",
    "part = xp.generate_matched_gaussian_bunch(nemitt_x=nemitt, nemitt_y=nemitt,\n",
    "                                          sigma_z=sigma_z, num_particles=num_particles, line=line) #sigma_z=0.224\n",
    "part.delta = delta"
   ]
  },
  {
   "cell_type": "code",
   "execution_count": null,
   "id": "f7402b98",
   "metadata": {},
   "outputs": [
    {
     "name": "stdout",
     "output_type": "stream",
     "text": [
      "The current frequency is 200000000.0Hz, adding -1.0Hz per turn until 199994000.0 (for 6000 turns).\n",
      "This sweep will move the center of the bucket with Δδ = 0.01689694767965286 (2.664416947099336 buckets).\n",
      "Compiling ContextCpu kernels...\n"
     ]
    },
    {
     "name": "stderr",
     "output_type": "stream",
     "text": [
      "ld: warning: duplicate -rpath '/Users/lisepauwels/miniforge3/envs/xcoll/lib' ignored\n",
      "ld: warning: duplicate -rpath '/Users/lisepauwels/miniforge3/envs/xcoll/lib' ignored\n"
     ]
    },
    {
     "name": "stdout",
     "output_type": "stream",
     "text": [
      "Done compiling ContextCpu kernels.\n"
     ]
    },
    {
     "data": {
      "application/vnd.jupyter.widget-view+json": {
       "model_id": "8bea82a8ec294b3fb423e5873311b4b0",
       "version_major": 2,
       "version_minor": 0
      },
      "text/plain": [
       "Tracking:   0%|          | 0/6000 [00:00<?, ?it/s]"
      ]
     },
     "metadata": {},
     "output_type": "display_data"
    }
   ],
   "source": [
    "rf_sweep = xc.RFSweep(line)\n",
    "rf_sweep.info(sweep=sweep, num_turns=num_turns)\n",
    "\n",
    "line.discard_tracker()\n",
    "line.build_tracker(_context=xo.ContextCpu(omp_num_threads='auto'))\n",
    "line.scattering.enable()\n",
    "rf_sweep.track(sweep=sweep, particles=part, num_turns=num_turns, time=True, with_progress=5)\n",
    "line.scattering.disable()"
   ]
  },
  {
   "cell_type": "code",
   "execution_count": null,
   "id": "f45f3039",
   "metadata": {},
   "outputs": [
    {
     "name": "stderr",
     "output_type": "stream",
     "text": [
      "/Users/lisepauwels/Xsuite/xcoll/xcoll/beam_elements/monitor.py:452: RuntimeWarning: invalid value encountered in sqrt\n",
      "  gemitt_zeta = np.sqrt(self.zeta_zeta_var * self.pzeta_pzeta_var - self.zeta_pzeta_var**2)\n"
     ]
    }
   ],
   "source": [
    "x = []\n",
    "x2 = []\n",
    "delta = []\n",
    "y = []\n",
    "y2 = []\n",
    "delta_calc = []\n",
    "for monitor in monitors:\n",
    "    x.append(monitor.x_mean)\n",
    "    x2.append(monitor.x_x_var)\n",
    "    y.append(monitor.y_mean)\n",
    "    y2.append(monitor.y_y_var)\n",
    "    delta.append(monitor.delta_mean)\n",
    "    delta_calc.append((monitor.x_mean - tw.rows[monitor.name].x)/tw.rows[monitor.name].dx)"
   ]
  },
  {
   "cell_type": "code",
   "execution_count": null,
   "id": "0d176838",
   "metadata": {},
   "outputs": [],
   "source": [
    "turns_of_death = sorted(part.at_turn)\n",
    "index_cut = int(0.1 * len(turns_of_death))\n",
    "turn_cut = turns_of_death[index_cut]\n",
    "\n",
    "fig, ax = plt.subplots(1, 3, figsize=(15, 5))\n",
    "ax[0].plot(ak.mean(x, axis=0)[:turn_cut]*1e3, label='x')\n",
    "ax[0].plot(ak.mean(y, axis=0)[:turn_cut]*1e3, label='y', color='darkred')\n",
    "ax[1].plot(ak.mean(x2 + ak.Array(x)*999/1000, axis=0)[:turn_cut]*1e3, label='x2')\n",
    "ax[1].plot(ak.mean(y2+ ak.Array(y)*999/1000, axis=0)[:turn_cut]*1e3, label='y2', color='darkred')\n",
    "ax[2].plot(ak.mean(delta, axis=0)[:turn_cut]*1e3, label='delta')\n",
    "ax[2].plot(ak.mean(delta_calc, axis=0)[:turn_cut]*1e3, label='delta_calc', color='darkgreen')\n",
    "for axis in ax:\n",
    "    axis.grid()\n",
    "fig.tight_layout()\n",
    "plt.savefig(f'{sim_name}.png', dpi=300)"
   ]
  },
  {
   "cell_type": "markdown",
   "id": "d41d4c05",
   "metadata": {},
   "source": [
    "# Matched gaussian bunch, $\\epsilon = 2e-6$, $\\sigma_z = 0$, $\\delta = 4e-3$, DPneg"
   ]
  },
  {
   "cell_type": "code",
   "execution_count": null,
   "id": "c2309dab",
   "metadata": {},
   "outputs": [],
   "source": [
    "# Settings\n",
    "plane = 'DPneg'\n",
    "chroma = 0.5\n",
    "nemitt = 2e-6\n",
    "sigma_z = 0\n",
    "delta = 4e-3\n",
    "\n",
    "sim_name = f'gaussian_{plane}_nemitt{nemitt}_sigma_z{sigma_z}_delta{delta}'"
   ]
  },
  {
   "cell_type": "code",
   "execution_count": null,
   "id": "23a055ab",
   "metadata": {},
   "outputs": [
    {
     "data": {
      "application/vnd.jupyter.widget-view+json": {
       "model_id": "5532ca8cee364073a05bb1458cf8ea1d",
       "version_major": 2,
       "version_minor": 0
      },
      "text/plain": [
       "Loading line from dict:   0%|          | 0/36395 [00:00<?, ?it/s]"
      ]
     },
     "metadata": {},
     "output_type": "display_data"
    },
    {
     "name": "stdout",
     "output_type": "stream",
     "text": [
      "Done loading line from dict.           \n"
     ]
    }
   ],
   "source": [
    "#Line\n",
    "line = xt.Line.from_json('../../injection_lines/sps_with_aperture_inj_q20_beam_sagitta2.json')\n",
    "\n",
    "line.vars['qph_setvalue'] = chroma\n",
    "line.vars['qpv_setvalue'] = chroma\n",
    "line.vars['qh_setvalue'] = line.vars['qx0']._value + 0.05\n",
    "line.vars['qv_setvalue'] = line.vars['qy0']._value + 0.05\n",
    "\n",
    "cavity_elements, cavity_names = line.get_elements_of_type(xt.Cavity)\n",
    "\n",
    "for name in cavity_names:\n",
    "    line[name].frequency = 200e6\n",
    "    line[name].lag = 180\n",
    "line['actcse.31632'].voltage = 3e6"
   ]
  },
  {
   "cell_type": "code",
   "execution_count": null,
   "id": "004fb798",
   "metadata": {},
   "outputs": [],
   "source": [
    "context = xo.ContextCpu()\n",
    "\n",
    "num_particles  = 1000\n",
    "sweep = 6000\n",
    "sweep = -abs(sweep) if plane == 'DPpos' else abs(sweep)\n",
    "num_turns = 6000"
   ]
  },
  {
   "cell_type": "code",
   "execution_count": null,
   "id": "413737f9",
   "metadata": {},
   "outputs": [],
   "source": [
    "#Installing TIDP\n",
    "tidp_ap_tot = 147\n",
    "block_mvt = 29\n",
    "\n",
    "tidp = xc.EverestCollimator(length=4.3, material=xc.materials.Carbon, jaw_L= tidp_ap_tot/2 + block_mvt, jaw_R = -tidp_ap_tot/2 + block_mvt)\n",
    "line.collimators.install(names=['tidp.11434'], elements=[tidp])"
   ]
  },
  {
   "cell_type": "code",
   "execution_count": null,
   "id": "54e6dcd2",
   "metadata": {},
   "outputs": [],
   "source": [
    "bpms_hor = ['bph.10208',\n",
    " 'bph.10408',\n",
    " 'bph.10608',\n",
    " 'bph.10808',\n",
    " 'bph.11008',\n",
    " 'bph.11208',\n",
    " 'bph.11408',\n",
    " 'bph.11608',\n",
    " 'bph.11831',\n",
    " 'bph.12008',\n",
    " 'bph.12208',\n",
    " 'bph.12408',\n",
    " 'bph.12608',\n",
    " 'bph.12808',\n",
    " 'bph.13008',\n",
    " 'bph.13208',\n",
    " 'bph.13408',\n",
    " 'bph.13608',\n",
    " 'bph.20208',\n",
    " 'bph.20408',\n",
    " 'bph.20608',\n",
    " 'bph.20808',\n",
    " 'bph.21008',\n",
    " 'bph.21208',\n",
    " 'bph.21408',\n",
    " 'bpce.21604',\n",
    " 'bpce.21706',\n",
    " 'bpce.21803',\n",
    " 'bph.22008',\n",
    " 'bph.22208',\n",
    " 'bph.22408',\n",
    " 'bph.22608',\n",
    " 'bph.22808',\n",
    " 'bph.23008',\n",
    " 'bph.23208',\n",
    " 'bph.23408',\n",
    " 'bph.23608',\n",
    " 'bph.30208',\n",
    " 'bph.30408',\n",
    " 'bph.30608',\n",
    " 'bph.30808',\n",
    " 'bph.31008',\n",
    " 'bph.31208',\n",
    " 'bph.31408',\n",
    " 'bph.31608',\n",
    " 'bph.31808',\n",
    " 'bph.32008',\n",
    " 'bph.32208',\n",
    " 'bph.32408',\n",
    " 'bph.32608',\n",
    " 'bph.32808',\n",
    " 'bph.33008',\n",
    " 'bph.33208',\n",
    " 'bph.33408',\n",
    " 'bph.33608',\n",
    " 'bph.40208',\n",
    " 'bph.40408',\n",
    " 'bph.40608',\n",
    " 'bph.40808',\n",
    " 'bph.41008',\n",
    " 'bph.41208',\n",
    " 'bph.41408',\n",
    " 'bpce.41705',\n",
    " 'bpce.41801',\n",
    " 'bpce.41931',\n",
    " 'bph.42008',\n",
    " 'bph.42208',\n",
    " 'bph.42408',\n",
    " 'bph.42608',\n",
    " 'bph.42808',\n",
    " 'bph.43008',\n",
    " 'bph.43208',\n",
    " 'bph.43408',\n",
    " 'bph.43608',\n",
    " 'bph.50208',\n",
    " 'bph.50408',\n",
    " 'bph.50608',\n",
    " 'bph.50808',\n",
    " 'bph.51008',\n",
    " 'bph.51208',\n",
    " 'bph.51408',\n",
    " 'bpce.51604',\n",
    " 'bpce.51833',\n",
    " 'bph.52008',\n",
    " 'bph.52208',\n",
    " 'bph.52408',\n",
    " 'bph.52608',\n",
    " 'bph.52808',\n",
    " 'bph.53008',\n",
    " 'bph.53208',\n",
    " 'bph.53408',\n",
    " 'bph.53608',\n",
    " 'bph.60208',\n",
    " 'bph.60408',\n",
    " 'bph.60608',\n",
    " 'bph.60808',\n",
    " 'bph.61008',\n",
    " 'bph.61208',\n",
    " 'bph.61408',\n",
    " 'bph.61608',\n",
    " 'bpce.61705',\n",
    " 'bpce.61804',\n",
    " 'bpce.61931',\n",
    " 'bph.62008',\n",
    " 'bph.62208',\n",
    " 'bph.62408',\n",
    " 'bph.62608',\n",
    " 'bph.62808',\n",
    " 'bph.63008',\n",
    " 'bph.63208',\n",
    " 'bph.63408',\n",
    " 'bph.63608']"
   ]
  },
  {
   "cell_type": "code",
   "execution_count": null,
   "id": "de2358a3",
   "metadata": {},
   "outputs": [],
   "source": [
    "monitors = []\n",
    "for bpm in bpms_hor:\n",
    "    if bpm in line.element_names:\n",
    "        monitors.append(xc.EmittanceMonitor.install(line, f'{bpm}_monitor', at_s=line.get_s_position(bpm), \n",
    "                                                    stop_at_turn=num_turns, num_particles=num_particles, monitor_delta=True))\n",
    "    else:\n",
    "        monitors.append(xc.EmittanceMonitor.install(line, f'{bpm}_monitor', at_s=line.get_s_position(f'{bpm}..0'), \n",
    "                                                    stop_at_turn=num_turns, num_particles=num_particles, monitor_delta=True))"
   ]
  },
  {
   "cell_type": "code",
   "execution_count": null,
   "id": "4e19afa0",
   "metadata": {},
   "outputs": [],
   "source": [
    "tw = line.twiss()\n",
    "tt = line.get_table()"
   ]
  },
  {
   "cell_type": "code",
   "execution_count": null,
   "id": "e39f40ef",
   "metadata": {},
   "outputs": [],
   "source": [
    "line.build_tracker()\n",
    "part = xp.generate_matched_gaussian_bunch(nemitt_x=nemitt, nemitt_y=nemitt,\n",
    "                                          sigma_z=sigma_z, num_particles=num_particles, line=line) #sigma_z=0.224\n",
    "part.delta = delta"
   ]
  },
  {
   "cell_type": "code",
   "execution_count": null,
   "id": "8d76f252",
   "metadata": {},
   "outputs": [
    {
     "name": "stdout",
     "output_type": "stream",
     "text": [
      "The current frequency is 200000000.0Hz, adding -1.0Hz per turn until 199994000.0 (for 6000 turns).\n",
      "This sweep will move the center of the bucket with Δδ = 0.01689694767965286 (2.664416947099336 buckets).\n",
      "Compiling ContextCpu kernels...\n"
     ]
    },
    {
     "name": "stderr",
     "output_type": "stream",
     "text": [
      "ld: warning: duplicate -rpath '/Users/lisepauwels/miniforge3/envs/xcoll/lib' ignored\n",
      "ld: warning: duplicate -rpath '/Users/lisepauwels/miniforge3/envs/xcoll/lib' ignored\n"
     ]
    },
    {
     "name": "stdout",
     "output_type": "stream",
     "text": [
      "Done compiling ContextCpu kernels.\n"
     ]
    },
    {
     "data": {
      "application/vnd.jupyter.widget-view+json": {
       "model_id": "8bea82a8ec294b3fb423e5873311b4b0",
       "version_major": 2,
       "version_minor": 0
      },
      "text/plain": [
       "Tracking:   0%|          | 0/6000 [00:00<?, ?it/s]"
      ]
     },
     "metadata": {},
     "output_type": "display_data"
    }
   ],
   "source": [
    "rf_sweep = xc.RFSweep(line)\n",
    "rf_sweep.info(sweep=sweep, num_turns=num_turns)\n",
    "\n",
    "line.discard_tracker()\n",
    "line.build_tracker(_context=xo.ContextCpu(omp_num_threads='auto'))\n",
    "line.scattering.enable()\n",
    "rf_sweep.track(sweep=sweep, particles=part, num_turns=num_turns, time=True, with_progress=5)\n",
    "line.scattering.disable()"
   ]
  },
  {
   "cell_type": "code",
   "execution_count": null,
   "id": "353468b6",
   "metadata": {},
   "outputs": [
    {
     "name": "stderr",
     "output_type": "stream",
     "text": [
      "/Users/lisepauwels/Xsuite/xcoll/xcoll/beam_elements/monitor.py:452: RuntimeWarning: invalid value encountered in sqrt\n",
      "  gemitt_zeta = np.sqrt(self.zeta_zeta_var * self.pzeta_pzeta_var - self.zeta_pzeta_var**2)\n"
     ]
    }
   ],
   "source": [
    "x = []\n",
    "x2 = []\n",
    "delta = []\n",
    "y = []\n",
    "y2 = []\n",
    "delta_calc = []\n",
    "for monitor in monitors:\n",
    "    x.append(monitor.x_mean)\n",
    "    x2.append(monitor.x_x_var)\n",
    "    y.append(monitor.y_mean)\n",
    "    y2.append(monitor.y_y_var)\n",
    "    delta.append(monitor.delta_mean)\n",
    "    delta_calc.append((monitor.x_mean - tw.rows[monitor.name].x)/tw.rows[monitor.name].dx)"
   ]
  },
  {
   "cell_type": "code",
   "execution_count": null,
   "id": "cca08192",
   "metadata": {},
   "outputs": [],
   "source": [
    "turns_of_death = sorted(part.at_turn)\n",
    "index_cut = int(0.1 * len(turns_of_death))\n",
    "turn_cut = turns_of_death[index_cut]\n",
    "\n",
    "fig, ax = plt.subplots(1, 3, figsize=(15, 5))\n",
    "ax[0].plot(ak.mean(x, axis=0)[:turn_cut]*1e3, label='x')\n",
    "ax[0].plot(ak.mean(y, axis=0)[:turn_cut]*1e3, label='y', color='darkred')\n",
    "ax[1].plot(ak.mean(x2 + ak.Array(x)*999/1000, axis=0)[:turn_cut]*1e3, label='x2')\n",
    "ax[1].plot(ak.mean(y2+ ak.Array(y)*999/1000, axis=0)[:turn_cut]*1e3, label='y2', color='darkred')\n",
    "ax[2].plot(ak.mean(delta, axis=0)[:turn_cut]*1e3, label='delta')\n",
    "ax[2].plot(ak.mean(delta_calc, axis=0)[:turn_cut]*1e3, label='delta_calc', color='darkgreen')\n",
    "for axis in ax:\n",
    "    axis.grid()\n",
    "fig.tight_layout()\n",
    "plt.savefig(f'{sim_name}.png', dpi=300)"
   ]
  },
  {
   "cell_type": "markdown",
   "id": "2ce6cc80",
   "metadata": {},
   "source": [
    "# Matched gaussian bunch, $\\epsilon = 2e-6$, $\\sigma_z = 0$, $\\delta = -4e-3$, DPneg"
   ]
  },
  {
   "cell_type": "code",
   "execution_count": null,
   "id": "d7a29cfb",
   "metadata": {},
   "outputs": [],
   "source": [
    "# Settings\n",
    "plane = 'DPneg'\n",
    "chroma = 0.5\n",
    "nemitt = 2e-6\n",
    "sigma_z = 0.0\n",
    "delta = -4e-3\n",
    "\n",
    "sim_name = f'gaussian_{plane}_nemitt{nemitt}_sigma_z{sigma_z}_delta{delta}'"
   ]
  },
  {
   "cell_type": "code",
   "execution_count": null,
   "id": "12ef1216",
   "metadata": {},
   "outputs": [
    {
     "data": {
      "application/vnd.jupyter.widget-view+json": {
       "model_id": "5532ca8cee364073a05bb1458cf8ea1d",
       "version_major": 2,
       "version_minor": 0
      },
      "text/plain": [
       "Loading line from dict:   0%|          | 0/36395 [00:00<?, ?it/s]"
      ]
     },
     "metadata": {},
     "output_type": "display_data"
    },
    {
     "name": "stdout",
     "output_type": "stream",
     "text": [
      "Done loading line from dict.           \n"
     ]
    }
   ],
   "source": [
    "#Line\n",
    "line = xt.Line.from_json('../../injection_lines/sps_with_aperture_inj_q20_beam_sagitta2.json')\n",
    "\n",
    "line.vars['qph_setvalue'] = chroma\n",
    "line.vars['qpv_setvalue'] = chroma\n",
    "line.vars['qh_setvalue'] = line.vars['qx0']._value + 0.05\n",
    "line.vars['qv_setvalue'] = line.vars['qy0']._value + 0.05\n",
    "\n",
    "cavity_elements, cavity_names = line.get_elements_of_type(xt.Cavity)\n",
    "\n",
    "for name in cavity_names:\n",
    "    line[name].frequency = 200e6\n",
    "    line[name].lag = 180\n",
    "line['actcse.31632'].voltage = 3e6"
   ]
  },
  {
   "cell_type": "code",
   "execution_count": null,
   "id": "aa2e4a2c",
   "metadata": {},
   "outputs": [],
   "source": [
    "context = xo.ContextCpu()\n",
    "\n",
    "num_particles  = 1000\n",
    "sweep = 6000\n",
    "sweep = -abs(sweep) if plane == 'DPpos' else abs(sweep)\n",
    "num_turns = 6000"
   ]
  },
  {
   "cell_type": "code",
   "execution_count": null,
   "id": "07ae02bc",
   "metadata": {},
   "outputs": [],
   "source": [
    "#Installing TIDP\n",
    "tidp_ap_tot = 147\n",
    "block_mvt = 29\n",
    "\n",
    "tidp = xc.EverestCollimator(length=4.3, material=xc.materials.Carbon, jaw_L= tidp_ap_tot/2 + block_mvt, jaw_R = -tidp_ap_tot/2 + block_mvt)\n",
    "line.collimators.install(names=['tidp.11434'], elements=[tidp])"
   ]
  },
  {
   "cell_type": "code",
   "execution_count": null,
   "id": "810275d7",
   "metadata": {},
   "outputs": [],
   "source": [
    "bpms_hor = ['bph.10208',\n",
    " 'bph.10408',\n",
    " 'bph.10608',\n",
    " 'bph.10808',\n",
    " 'bph.11008',\n",
    " 'bph.11208',\n",
    " 'bph.11408',\n",
    " 'bph.11608',\n",
    " 'bph.11831',\n",
    " 'bph.12008',\n",
    " 'bph.12208',\n",
    " 'bph.12408',\n",
    " 'bph.12608',\n",
    " 'bph.12808',\n",
    " 'bph.13008',\n",
    " 'bph.13208',\n",
    " 'bph.13408',\n",
    " 'bph.13608',\n",
    " 'bph.20208',\n",
    " 'bph.20408',\n",
    " 'bph.20608',\n",
    " 'bph.20808',\n",
    " 'bph.21008',\n",
    " 'bph.21208',\n",
    " 'bph.21408',\n",
    " 'bpce.21604',\n",
    " 'bpce.21706',\n",
    " 'bpce.21803',\n",
    " 'bph.22008',\n",
    " 'bph.22208',\n",
    " 'bph.22408',\n",
    " 'bph.22608',\n",
    " 'bph.22808',\n",
    " 'bph.23008',\n",
    " 'bph.23208',\n",
    " 'bph.23408',\n",
    " 'bph.23608',\n",
    " 'bph.30208',\n",
    " 'bph.30408',\n",
    " 'bph.30608',\n",
    " 'bph.30808',\n",
    " 'bph.31008',\n",
    " 'bph.31208',\n",
    " 'bph.31408',\n",
    " 'bph.31608',\n",
    " 'bph.31808',\n",
    " 'bph.32008',\n",
    " 'bph.32208',\n",
    " 'bph.32408',\n",
    " 'bph.32608',\n",
    " 'bph.32808',\n",
    " 'bph.33008',\n",
    " 'bph.33208',\n",
    " 'bph.33408',\n",
    " 'bph.33608',\n",
    " 'bph.40208',\n",
    " 'bph.40408',\n",
    " 'bph.40608',\n",
    " 'bph.40808',\n",
    " 'bph.41008',\n",
    " 'bph.41208',\n",
    " 'bph.41408',\n",
    " 'bpce.41705',\n",
    " 'bpce.41801',\n",
    " 'bpce.41931',\n",
    " 'bph.42008',\n",
    " 'bph.42208',\n",
    " 'bph.42408',\n",
    " 'bph.42608',\n",
    " 'bph.42808',\n",
    " 'bph.43008',\n",
    " 'bph.43208',\n",
    " 'bph.43408',\n",
    " 'bph.43608',\n",
    " 'bph.50208',\n",
    " 'bph.50408',\n",
    " 'bph.50608',\n",
    " 'bph.50808',\n",
    " 'bph.51008',\n",
    " 'bph.51208',\n",
    " 'bph.51408',\n",
    " 'bpce.51604',\n",
    " 'bpce.51833',\n",
    " 'bph.52008',\n",
    " 'bph.52208',\n",
    " 'bph.52408',\n",
    " 'bph.52608',\n",
    " 'bph.52808',\n",
    " 'bph.53008',\n",
    " 'bph.53208',\n",
    " 'bph.53408',\n",
    " 'bph.53608',\n",
    " 'bph.60208',\n",
    " 'bph.60408',\n",
    " 'bph.60608',\n",
    " 'bph.60808',\n",
    " 'bph.61008',\n",
    " 'bph.61208',\n",
    " 'bph.61408',\n",
    " 'bph.61608',\n",
    " 'bpce.61705',\n",
    " 'bpce.61804',\n",
    " 'bpce.61931',\n",
    " 'bph.62008',\n",
    " 'bph.62208',\n",
    " 'bph.62408',\n",
    " 'bph.62608',\n",
    " 'bph.62808',\n",
    " 'bph.63008',\n",
    " 'bph.63208',\n",
    " 'bph.63408',\n",
    " 'bph.63608']"
   ]
  },
  {
   "cell_type": "code",
   "execution_count": null,
   "id": "eedca517",
   "metadata": {},
   "outputs": [],
   "source": [
    "monitors = []\n",
    "for bpm in bpms_hor:\n",
    "    if bpm in line.element_names:\n",
    "        monitors.append(xc.EmittanceMonitor.install(line, f'{bpm}_monitor', at_s=line.get_s_position(bpm), \n",
    "                                                    stop_at_turn=num_turns, num_particles=num_particles, monitor_delta=True))\n",
    "    else:\n",
    "        monitors.append(xc.EmittanceMonitor.install(line, f'{bpm}_monitor', at_s=line.get_s_position(f'{bpm}..0'), \n",
    "                                                    stop_at_turn=num_turns, num_particles=num_particles, monitor_delta=True))"
   ]
  },
  {
   "cell_type": "code",
   "execution_count": null,
   "id": "e733f2df",
   "metadata": {},
   "outputs": [],
   "source": [
    "tw = line.twiss()\n",
    "tt = line.get_table()"
   ]
  },
  {
   "cell_type": "code",
   "execution_count": null,
   "id": "e0121d8a",
   "metadata": {},
   "outputs": [],
   "source": [
    "line.build_tracker()\n",
    "part = xp.generate_matched_gaussian_bunch(nemitt_x=nemitt, nemitt_y=nemitt,\n",
    "                                          sigma_z=sigma_z, num_particles=num_particles, line=line) #sigma_z=0.224\n",
    "part.delta = delta"
   ]
  },
  {
   "cell_type": "code",
   "execution_count": null,
   "id": "15fc1a3e",
   "metadata": {},
   "outputs": [
    {
     "name": "stdout",
     "output_type": "stream",
     "text": [
      "The current frequency is 200000000.0Hz, adding -1.0Hz per turn until 199994000.0 (for 6000 turns).\n",
      "This sweep will move the center of the bucket with Δδ = 0.01689694767965286 (2.664416947099336 buckets).\n",
      "Compiling ContextCpu kernels...\n"
     ]
    },
    {
     "name": "stderr",
     "output_type": "stream",
     "text": [
      "ld: warning: duplicate -rpath '/Users/lisepauwels/miniforge3/envs/xcoll/lib' ignored\n",
      "ld: warning: duplicate -rpath '/Users/lisepauwels/miniforge3/envs/xcoll/lib' ignored\n"
     ]
    },
    {
     "name": "stdout",
     "output_type": "stream",
     "text": [
      "Done compiling ContextCpu kernels.\n"
     ]
    },
    {
     "data": {
      "application/vnd.jupyter.widget-view+json": {
       "model_id": "8bea82a8ec294b3fb423e5873311b4b0",
       "version_major": 2,
       "version_minor": 0
      },
      "text/plain": [
       "Tracking:   0%|          | 0/6000 [00:00<?, ?it/s]"
      ]
     },
     "metadata": {},
     "output_type": "display_data"
    }
   ],
   "source": [
    "rf_sweep = xc.RFSweep(line)\n",
    "rf_sweep.info(sweep=sweep, num_turns=num_turns)\n",
    "\n",
    "line.discard_tracker()\n",
    "line.build_tracker(_context=xo.ContextCpu(omp_num_threads='auto'))\n",
    "line.scattering.enable()\n",
    "rf_sweep.track(sweep=sweep, particles=part, num_turns=num_turns, time=True, with_progress=5)\n",
    "line.scattering.disable()"
   ]
  },
  {
   "cell_type": "code",
   "execution_count": null,
   "id": "3d5c9c11",
   "metadata": {},
   "outputs": [
    {
     "name": "stderr",
     "output_type": "stream",
     "text": [
      "/Users/lisepauwels/Xsuite/xcoll/xcoll/beam_elements/monitor.py:452: RuntimeWarning: invalid value encountered in sqrt\n",
      "  gemitt_zeta = np.sqrt(self.zeta_zeta_var * self.pzeta_pzeta_var - self.zeta_pzeta_var**2)\n"
     ]
    }
   ],
   "source": [
    "x = []\n",
    "x2 = []\n",
    "delta = []\n",
    "y = []\n",
    "y2 = []\n",
    "delta_calc = []\n",
    "for monitor in monitors:\n",
    "    x.append(monitor.x_mean)\n",
    "    x2.append(monitor.x_x_var)\n",
    "    y.append(monitor.y_mean)\n",
    "    y2.append(monitor.y_y_var)\n",
    "    delta.append(monitor.delta_mean)\n",
    "    delta_calc.append((monitor.x_mean - tw.rows[monitor.name].x)/tw.rows[monitor.name].dx)"
   ]
  },
  {
   "cell_type": "code",
   "execution_count": null,
   "id": "89ee66e1",
   "metadata": {},
   "outputs": [],
   "source": [
    "turns_of_death = sorted(part.at_turn)\n",
    "index_cut = int(0.1 * len(turns_of_death))\n",
    "turn_cut = turns_of_death[index_cut]\n",
    "\n",
    "fig, ax = plt.subplots(1, 3, figsize=(15, 5))\n",
    "ax[0].plot(ak.mean(x, axis=0)[:turn_cut]*1e3, label='x')\n",
    "ax[0].plot(ak.mean(y, axis=0)[:turn_cut]*1e3, label='y', color='darkred')\n",
    "ax[1].plot(ak.mean(x2 + ak.Array(x)*999/1000, axis=0)[:turn_cut]*1e3, label='x2')\n",
    "ax[1].plot(ak.mean(y2+ ak.Array(y)*999/1000, axis=0)[:turn_cut]*1e3, label='y2', color='darkred')\n",
    "ax[2].plot(ak.mean(delta, axis=0)[:turn_cut]*1e3, label='delta')\n",
    "ax[2].plot(ak.mean(delta_calc, axis=0)[:turn_cut]*1e3, label='delta_calc', color='darkgreen')\n",
    "for axis in ax:\n",
    "    axis.grid()\n",
    "fig.tight_layout()\n",
    "plt.savefig(f'{sim_name}.png', dpi=300)"
   ]
  },
  {
   "cell_type": "markdown",
   "id": "66c33320",
   "metadata": {},
   "source": []
  }
 ],
 "metadata": {
  "kernelspec": {
   "display_name": "xsuite",
   "language": "python",
   "name": "python3"
  },
  "language_info": {
   "codemirror_mode": {
    "name": "ipython",
    "version": 3
   },
   "file_extension": ".py",
   "mimetype": "text/x-python",
   "name": "python",
   "nbconvert_exporter": "python",
   "pygments_lexer": "ipython3",
   "version": "3.13.2"
  }
 },
 "nbformat": 4,
 "nbformat_minor": 5
}
