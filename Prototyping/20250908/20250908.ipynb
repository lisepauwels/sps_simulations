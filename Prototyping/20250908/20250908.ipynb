{
 "cells": [
  {
   "cell_type": "code",
   "execution_count": 1,
   "id": "d01364ca",
   "metadata": {},
   "outputs": [],
   "source": [
    "import numpy as np\n",
    "import matplotlib.pyplot as plt\n",
    "import xtrack as xt\n",
    "import xcoll as xc\n",
    "import xobjects as xo\n",
    "import xpart as xp\n",
    "from pathlib import Path\n",
    "import time\n",
    "start_time = time.time()"
   ]
  },
  {
   "cell_type": "code",
   "execution_count": 2,
   "id": "a672bac2",
   "metadata": {},
   "outputs": [],
   "source": [
    "def install_tidp(line, block_mvt=29e-3):\n",
    "    tidp_ap_tot = 147e-3\n",
    "    line.discard_tracker()\n",
    "    tidp = xc.EverestCollimator(length=4.3, material=xc.materials.Carbon, jaw_L= tidp_ap_tot/2 + block_mvt, jaw_R = -tidp_ap_tot/2 + block_mvt)\n",
    "    line.collimators.install(names=['tidp.11434'], elements=[tidp])\n",
    "    return tidp\n",
    "\n",
    "def install_tcsm(line):\n",
    "    tcsm = xc.EverestCollimator(length=1.83, gap=5, material=xc.materials.Carbon) # length is 1.83\n",
    "    line.collimators.install(names=['tcsm.51932'], elements=[tcsm])\n",
    "    return tcsm\n",
    "\n",
    "def lin_eq_params(x1, y1, x2, y2):\n",
    "    delta = x1-x2\n",
    "    delta_a = y1-y2\n",
    "    delta_b = x1*y2-x2*y1\n",
    "\n",
    "    a = delta_a/delta\n",
    "    b = delta_b/delta\n",
    "    return a, b\n",
    "\n",
    "def offset_colls_calc(a, b, s_rel):\n",
    "    return a*s_rel + b"
   ]
  },
  {
   "cell_type": "code",
   "execution_count": 3,
   "id": "581f5d43",
   "metadata": {},
   "outputs": [],
   "source": [
    "#Parameters\n",
    "num_turns = 3000\n",
    "num_particles = 1000\n",
    "\n",
    "nemitt_x = 3.5e-6\n",
    "nemitt_y = 3.5e-6\n",
    "amplitude_adt = 0.2"
   ]
  },
  {
   "cell_type": "code",
   "execution_count": 4,
   "id": "cf3e4782",
   "metadata": {},
   "outputs": [
    {
     "data": {
      "application/vnd.jupyter.widget-view+json": {
       "model_id": "a0062a8544f8403d9886f623a2c5ed8e",
       "version_major": 2,
       "version_minor": 0
      },
      "text/plain": [
       "Loading line from dict:   0%|          | 0/36404 [00:00<?, ?it/s]"
      ]
     },
     "metadata": {},
     "output_type": "display_data"
    },
    {
     "name": "stdout",
     "output_type": "stream",
     "text": [
      "Done loading line from dict.           \n"
     ]
    }
   ],
   "source": [
    "context = xo.ContextCpu()\n",
    "line = xt.Line.from_json('../../injection_lines/sps_with_aperture_inj_q20_beam_sagitta5.json')\n",
    "\n",
    "line.vars['qph_setvalue'] = 0.5\n",
    "line.vars['qpv_setvalue'] = 0.5\n",
    "line.vars['qh_setvalue'] = line.vars['qx0']._value + 0.05\n",
    "line.vars['qv_setvalue'] = line.vars['qy0']._value + 0.05\n",
    "\n",
    "cavity_elements, cavity_names = line.get_elements_of_type(xt.Cavity)\n",
    "\n",
    "for name in cavity_names:\n",
    "    line[name].frequency = 200e6\n",
    "    line[name].lag = 180\n",
    "line['acl.31735'].voltage = 0 #setting 800 cav to 0V\n",
    "line['actcse.31632'].voltage = 3.0e6"
   ]
  },
  {
   "cell_type": "code",
   "execution_count": 5,
   "id": "16e20211",
   "metadata": {},
   "outputs": [
    {
     "name": "stdout",
     "output_type": "stream",
     "text": [
      "Compiling ContextCpu kernels...\n"
     ]
    },
    {
     "name": "stderr",
     "output_type": "stream",
     "text": [
      "ld: warning: duplicate -rpath '/Users/lisepauwels/miniforge3/envs/xcoll/lib' ignored\n",
      "ld: warning: duplicate -rpath '/Users/lisepauwels/miniforge3/envs/xcoll/lib' ignored\n"
     ]
    },
    {
     "name": "stdout",
     "output_type": "stream",
     "text": [
      "Done compiling ContextCpu kernels.\n"
     ]
    },
    {
     "data": {
      "application/vnd.jupyter.widget-view+json": {
       "model_id": "25e2185ed0f54665b37a170e368ceca3",
       "version_major": 2,
       "version_minor": 0
      },
      "text/plain": [
       "Slicing line:   0%|          | 0/33012 [00:00<?, ?it/s]"
      ]
     },
     "metadata": {},
     "output_type": "display_data"
    },
    {
     "data": {
      "application/vnd.jupyter.widget-view+json": {
       "model_id": "5722e652f90041bc856fcfb0178dfaa4",
       "version_major": 2,
       "version_minor": 0
      },
      "text/plain": [
       "Slicing line:   0%|          | 0/33012 [00:00<?, ?it/s]"
      ]
     },
     "metadata": {},
     "output_type": "display_data"
    },
    {
     "name": "stdout",
     "output_type": "stream",
     "text": [
      "Compiling ContextCpu kernels...\n"
     ]
    },
    {
     "name": "stderr",
     "output_type": "stream",
     "text": [
      "ld: warning: duplicate -rpath '/Users/lisepauwels/miniforge3/envs/xcoll/lib' ignored\n",
      "ld: warning: duplicate -rpath '/Users/lisepauwels/miniforge3/envs/xcoll/lib' ignored\n"
     ]
    },
    {
     "name": "stdout",
     "output_type": "stream",
     "text": [
      "Done compiling ContextCpu kernels.\n",
      "Compiling ContextCpu kernels...\n"
     ]
    },
    {
     "name": "stderr",
     "output_type": "stream",
     "text": [
      "ld: warning: duplicate -rpath '/Users/lisepauwels/miniforge3/envs/xcoll/lib' ignored\n",
      "ld: warning: duplicate -rpath '/Users/lisepauwels/miniforge3/envs/xcoll/lib' ignored\n"
     ]
    },
    {
     "name": "stdout",
     "output_type": "stream",
     "text": [
      "Done compiling ContextCpu kernels.\n"
     ]
    },
    {
     "name": "stderr",
     "output_type": "stream",
     "text": [
      "/Users/lisepauwels/Xsuite/xcoll/xcoll/beam_elements/base.py:568: RuntimeWarning: invalid value encountered in sqrt\n",
      "  self._cos_yR = np.sqrt(1 - self._sin_yR**2)\n"
     ]
    }
   ],
   "source": [
    "tcsm = install_tcsm(line)\n",
    "tidp = install_tidp(line, block_mvt=29e-3)\n",
    "offset_upstream = -3.314e-3\n",
    "offset_downstream = -2.152e-3\n",
    "\n",
    "tw = line.twiss()\n",
    "idx_tidvg = np.where(tw.name=='tidvg.51872')[0][0]\n",
    "ap_tidvg_x = 78.6e-3/2\n",
    "ap_tidvg_y = 40.8e-3/2\n",
    "\n",
    "# sigma_tidvg_x, sigma_tidvg_y = np.sqrt(tw.betx[idx_tidvg]*nemitt_x/tw.gamma0), np.sqrt(tw.bety[idx_tidvg]*nemitt_y/tw.gamma0)\n",
    "# gap_x, gap_y = ap_tidvg_x/sigma_tidvg_x, ap_tidvg_y/sigma_tidvg_y\n",
    "\n",
    "a,b = lin_eq_params(0, offset_upstream, 4.3, offset_downstream)\n",
    "jaw_RU_positions = [offset_colls_calc(a,b, 0), offset_colls_calc(a,b, 2.5), offset_colls_calc(a,b, 3.5), offset_colls_calc(a,b, 4.0)]\n",
    "jaw_RD_positions = [offset_colls_calc(a,b, 2.5), offset_colls_calc(a,b, 3.5), offset_colls_calc(a,b, 4.0), offset_colls_calc(a,b, 4.3)]\n",
    "\n",
    "tidvg_1 = xc.EverestCollimator(length=2.5, material = xc.materials.Carbon, jaw_RU = -ap_tidvg_y + jaw_RU_positions[0], jaw_RD = -ap_tidvg_y + jaw_RD_positions[0], angle = 90, side = 'right') #it is graphite but apparently that dos not exist (except Molybdenium graphite)\n",
    "tidvg_2 = xc.EverestCollimator(length=1.0, material = xc.materials.Aluminium, jaw_RU = -ap_tidvg_y + jaw_RU_positions[1], jaw_RD = -ap_tidvg_y + jaw_RD_positions[1], angle = 90, side = 'right')\n",
    "tidvg_3 = xc.EverestCollimator(length=0.5, material = xc.materials.Copper, jaw_RU = -ap_tidvg_y + jaw_RU_positions[2], jaw_RD = -ap_tidvg_y + jaw_RD_positions[2], angle = 90, side = 'right')\n",
    "tidvg_4 = xc.EverestCollimator(length=0.3, material = xc.materials.Tungsten, jaw_RU = -ap_tidvg_y + jaw_RU_positions[3], jaw_RD = -ap_tidvg_y + jaw_RD_positions[3], angle = 90, side = 'right')"
   ]
  },
  {
   "cell_type": "code",
   "execution_count": 6,
   "id": "fca4bfab",
   "metadata": {},
   "outputs": [
    {
     "data": {
      "application/vnd.jupyter.widget-view+json": {
       "model_id": "29ccee265250430c9aec9d31a7d84b6a",
       "version_major": 2,
       "version_minor": 0
      },
      "text/plain": [
       "Slicing line:   0%|          | 0/33012 [00:00<?, ?it/s]"
      ]
     },
     "metadata": {},
     "output_type": "display_data"
    },
    {
     "name": "stdout",
     "output_type": "stream",
     "text": [
      "Before:  None None None None\n"
     ]
    }
   ],
   "source": [
    "line.discard_tracker()\n",
    "center_drift = 0.35\n",
    "begin_tidvg = tw.s[idx_tidvg] + center_drift\n",
    "coll_names = ['tidvg.51872..1_C', 'tidvg.51872..2_Al', 'tidvg.51872..3_Cu', 'tidvg.51872..4_W']\n",
    "line.collimators.install(names=coll_names, elements=[tidvg_1, tidvg_2, tidvg_3, tidvg_4], at_s=[begin_tidvg, begin_tidvg+2.5, begin_tidvg+3.5, begin_tidvg+4])\n",
    "print('Before: ', tidvg_1.gap_R, tidvg_2.gap_R, tidvg_3.gap_R, tidvg_4.gap_R)"
   ]
  },
  {
   "cell_type": "code",
   "execution_count": 7,
   "id": "253066f1",
   "metadata": {},
   "outputs": [
    {
     "name": "stdout",
     "output_type": "stream",
     "text": [
      "Compiling ContextCpu kernels...\n"
     ]
    },
    {
     "name": "stderr",
     "output_type": "stream",
     "text": [
      "ld: warning: duplicate -rpath '/Users/lisepauwels/miniforge3/envs/xcoll/lib' ignored\n",
      "ld: warning: duplicate -rpath '/Users/lisepauwels/miniforge3/envs/xcoll/lib' ignored\n"
     ]
    },
    {
     "name": "stdout",
     "output_type": "stream",
     "text": [
      "Done compiling ContextCpu kernels.\n"
     ]
    }
   ],
   "source": [
    "adt = xc.BlowUp.install(line, name=f'adt_H_blowup', at_s=line.get_s_position('adkcv.32171'), plane='H', stop_at_turn=num_turns,\n",
    "                        amplitude=amplitude_adt, use_individual_kicks=True)\n",
    "\n",
    "line.build_tracker()\n",
    "tw= line.twiss()\n",
    "line.collimators.assign_optics(twiss=tw, nemitt_x=nemitt_x, nemitt_y=nemitt_y)\n",
    "\n",
    "adt.calibrate_by_emittance(nemitt=nemitt_x, twiss=tw)"
   ]
  },
  {
   "cell_type": "code",
   "execution_count": 8,
   "id": "f88a72bd",
   "metadata": {},
   "outputs": [
    {
     "name": "stdout",
     "output_type": "stream",
     "text": [
      "*** Maximum RMS bunch length 0.2361011021355421m.\n",
      "... distance to target bunch length: -2.2226e-01\n",
      "... distance to target bunch length: 5.5784e-03\n",
      "... distance to target bunch length: 5.2361e-03\n",
      "... distance to target bunch length: -6.3267e-03\n",
      "... distance to target bunch length: 1.9948e-03\n",
      "... distance to target bunch length: -3.8258e-04\n",
      "... distance to target bunch length: 5.3833e-05\n",
      "... distance to target bunch length: 1.2594e-06\n",
      "... distance to target bunch length: -1.0995e-10\n",
      "... distance to target bunch length: 1.2805e-07\n",
      "--> Bunch length: 0.22399999989004873\n",
      "--> Emittance: 0.2810690751566072\n"
     ]
    }
   ],
   "source": [
    "part = xp.generate_matched_gaussian_bunch(num_particles=num_particles, total_intensity_particles=2.2e11, nemitt_x=nemitt_x, nemitt_y=nemitt_y, sigma_z=0.224, line=line) #He does not like if quadrupoles are shifted/you cannot optimise the line"
   ]
  },
  {
   "cell_type": "code",
   "execution_count": 9,
   "id": "0d04ede9",
   "metadata": {},
   "outputs": [
    {
     "name": "stdout",
     "output_type": "stream",
     "text": [
      "Compiling ContextCpu kernels...\n"
     ]
    },
    {
     "name": "stderr",
     "output_type": "stream",
     "text": [
      "ld: warning: duplicate -rpath '/Users/lisepauwels/miniforge3/envs/xcoll/lib' ignored\n",
      "ld: warning: duplicate -rpath '/Users/lisepauwels/miniforge3/envs/xcoll/lib' ignored\n"
     ]
    },
    {
     "name": "stdout",
     "output_type": "stream",
     "text": [
      "Done compiling ContextCpu kernels.\n"
     ]
    },
    {
     "data": {
      "application/vnd.jupyter.widget-view+json": {
       "model_id": "aa78089a3b954bb59d67f9e369c5ac15",
       "version_major": 2,
       "version_minor": 0
      },
      "text/plain": [
       "Tracking:   0%|          | 0/3000 [00:00<?, ?it/s]"
      ]
     },
     "metadata": {},
     "output_type": "display_data"
    }
   ],
   "source": [
    "line.discard_tracker()\n",
    "line.build_tracker(_context=xo.ContextCpu(omp_num_threads='auto'))\n",
    "\n",
    "line.scattering.enable()\n",
    "adt.activate()\n",
    "line.track(part, num_turns=num_turns, time=True, with_progress=1)\n",
    "adt.deactivate()\n",
    "line.scattering.disable()"
   ]
  },
  {
   "cell_type": "code",
   "execution_count": null,
   "id": "b07f7763",
   "metadata": {},
   "outputs": [],
   "source": [
    "line.discard_tracker()\n",
    "line.build_tracker(_context=xo.ContextCpu())\n",
    "\n",
    "ThisLM = xc.LossMap(line, line_is_reversed=False, part=part)\n",
    "ThisLM.to_json(file=f'LM_blowup.json')"
   ]
  }
 ],
 "metadata": {
  "kernelspec": {
   "display_name": "xcoll",
   "language": "python",
   "name": "python3"
  },
  "language_info": {
   "codemirror_mode": {
    "name": "ipython",
    "version": 3
   },
   "file_extension": ".py",
   "mimetype": "text/x-python",
   "name": "python",
   "nbconvert_exporter": "python",
   "pygments_lexer": "ipython3",
   "version": "3.13.3"
  }
 },
 "nbformat": 4,
 "nbformat_minor": 5
}
