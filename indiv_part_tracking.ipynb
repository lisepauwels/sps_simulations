{
 "cells": [
  {
   "cell_type": "code",
   "execution_count": 1,
   "metadata": {},
   "outputs": [],
   "source": [
    "import numpy as np\n",
    "import xtrack as xt\n",
    "import xcoll as xc\n",
    "import xobjects as xo\n",
    "import xpart as xp"
   ]
  },
  {
   "cell_type": "code",
   "execution_count": 2,
   "metadata": {},
   "outputs": [
    {
     "data": {
      "application/vnd.jupyter.widget-view+json": {
       "model_id": "067ca6670c574544905f23ddb50535c0",
       "version_major": 2,
       "version_minor": 0
      },
      "text/plain": [
       "Loading line from dict:   0%|          | 0/31427 [00:00<?, ?it/s]"
      ]
     },
     "metadata": {},
     "output_type": "display_data"
    },
    {
     "name": "stdout",
     "output_type": "stream",
     "text": [
      "Done loading line from dict.           \n"
     ]
    }
   ],
   "source": [
    "line = xt.Line.from_json('injection_thin_approx_ap2.json')\n",
    "#line = xt.Line.from_json('lhc_run3_b1.json')"
   ]
  },
  {
   "cell_type": "code",
   "execution_count": 3,
   "metadata": {},
   "outputs": [],
   "source": [
    "num_turns = 3000\n",
    "num_particles = 500\n",
    "\n",
    "nemitt_x = 3.5e-6\n",
    "nemitt_y = 3.5e-6\n",
    "amplitude_adt = 0.12"
   ]
  },
  {
   "cell_type": "code",
   "execution_count": 4,
   "metadata": {},
   "outputs": [
    {
     "name": "stdout",
     "output_type": "stream",
     "text": [
      "Install collimator\n"
     ]
    },
    {
     "data": {
      "application/vnd.jupyter.widget-view+json": {
       "model_id": "c969b0b41075473e81a3282b982824cc",
       "version_major": 2,
       "version_minor": 0
      },
      "text/plain": [
       "Slicing line:   0%|          | 0/30277 [00:00<?, ?it/s]"
      ]
     },
     "metadata": {},
     "output_type": "display_data"
    }
   ],
   "source": [
    "print('Install collimator')\n",
    "coll = xc.EverestCollimator(length=1.83, gap=5, material=xc.materials.Carbon) # length is 1.83\n",
    "line.collimators.install('tcsm.51932', coll)\n",
    "\n",
    "#Make aperture for collimator and update line\n",
    "coll_ap = xt.LimitRectEllipse(a=0.05, b=0.05, max_x=0.05, max_y=0.05) \n",
    "coll_ap_names = ['tcsm.51932_aper_upstream', 'tcsm.51932_aper_downstream']\n",
    "coll_ap_idx = [line.element_names.index('tcsm.51932'), line.element_names.index('tcsm.51932') + 1]\n",
    "\n",
    "max_length = max(max(map(len, line.element_names)), max(map(len, coll_ap_names)))\n",
    "element_names = np.array(line.element_names, dtype=f'<U{max_length}')\n",
    "names = np.array(coll_ap_names, dtype=f'<U{max_length}')\n",
    "element_names = np.insert(element_names, coll_ap_idx, coll_ap_names)\n",
    "\n",
    "insert_colls = {name: coll_ap for name in coll_ap_names}\n",
    "\n",
    "line.element_names = element_names.tolist()\n",
    "line.element_dict = {**line.element_dict, **insert_colls}"
   ]
  },
  {
   "cell_type": "code",
   "execution_count": 61,
   "metadata": {},
   "outputs": [
    {
     "data": {
      "text/plain": [
       "np.float64(-0.010301420948652051)"
      ]
     },
     "execution_count": 61,
     "metadata": {},
     "output_type": "execute_result"
    }
   ],
   "source": [
    "coll.jaw_R"
   ]
  },
  {
   "cell_type": "code",
   "execution_count": 5,
   "metadata": {},
   "outputs": [],
   "source": [
    "adt = xc.BlowUp.install(line, name=f'adt_H_blowup', at_s=line.get_s_position('adkcv.32171'), plane='H', stop_at_turn=num_turns,\n",
    "                        amplitude=amplitude_adt, use_individual_kicks=True)"
   ]
  },
  {
   "cell_type": "code",
   "execution_count": 6,
   "metadata": {},
   "outputs": [
    {
     "data": {
      "application/vnd.jupyter.widget-view+json": {
       "model_id": "27a81ec6bcc7403a8a980c3b6599dc44",
       "version_major": 2,
       "version_minor": 0
      },
      "text/plain": [
       "Checking aperture:   0%|          | 0/30280 [00:00<?, ?it/s]"
      ]
     },
     "metadata": {},
     "output_type": "display_data"
    },
    {
     "name": "stdout",
     "output_type": "stream",
     "text": [
      "Done checking aperture.           \n",
      "0 thin elements miss associated aperture (upstream):\n",
      "[]\n",
      "0 thick elements miss associated aperture (upstream or downstream):\n",
      "[]\n"
     ]
    }
   ],
   "source": [
    "df_with_coll = line.check_aperture()"
   ]
  },
  {
   "cell_type": "code",
   "execution_count": 7,
   "metadata": {},
   "outputs": [
    {
     "name": "stdout",
     "output_type": "stream",
     "text": [
      "Disable xdeps expressions\n",
      "Replance slices with equivalent elements\n",
      "Remove markers\n",
      "Remove inactive multipoles\n",
      "Merge consecutive multipoles\n",
      "Remove redundant apertures\n",
      "Remove zero length drifts\n",
      "Merge consecutive drifts\n",
      "Use simple bends\n",
      "Use simple quadrupoles\n",
      "Rebuild tracker data\n"
     ]
    }
   ],
   "source": [
    "line.build_tracker()\n",
    "tw = line.twiss()\n",
    "line.collimators.assign_optics(twiss=tw, nemitt_x=nemitt_x, nemitt_y=nemitt_y)\n",
    "adt.calibrate_by_emittance(nemitt=nemitt_x, twiss=tw)\n",
    "line.optimize_for_tracking()"
   ]
  },
  {
   "cell_type": "code",
   "execution_count": 8,
   "metadata": {},
   "outputs": [
    {
     "name": "stdout",
     "output_type": "stream",
     "text": [
      "*** Maximum RMS bunch length 0.23305719224813928m.\n",
      "... distance to target bunch length: -2.2400e-01\n",
      "... distance to target bunch length: 4.2397e-03\n",
      "... distance to target bunch length: 4.0509e-03\n",
      "... distance to target bunch length: -5.4164e-03\n",
      "... distance to target bunch length: 1.6934e-03\n",
      "... distance to target bunch length: -3.8711e-04\n",
      "... distance to target bunch length: 6.2540e-05\n",
      "... distance to target bunch length: 1.9666e-06\n",
      "... distance to target bunch length: -3.5749e-10\n",
      "... distance to target bunch length: 9.4807e-08\n",
      "--> Bunch length: 0.22399999964250905\n",
      "--> Emittance: 0.34322710188738204\n"
     ]
    }
   ],
   "source": [
    "line.scattering.disable()\n",
    "part = xp.generate_matched_gaussian_bunch(num_particles=num_particles, total_intensity_particles=2.2e11,\n",
    "                                          nemitt_x=3.5e-6, nemitt_y=3.5e-6, sigma_z=0.224, line=line) #Flat bottom: 0.224, flat top: 0.124"
   ]
  },
  {
   "cell_type": "code",
   "execution_count": null,
   "metadata": {},
   "outputs": [
    {
     "name": "stdout",
     "output_type": "stream",
     "text": [
      "Compiling ContextCpu kernels...\n",
      "Done compiling ContextCpu kernels.\n",
      "Turn 0\n",
      "Turn 100\n",
      "Turn 200\n",
      "Turn 300\n",
      "Turn 400\n",
      "Turn 500\n",
      "Turn 600\n",
      "Turn 700\n",
      "Turn 800\n",
      "Turn 900\n",
      "Turn 1000\n",
      "Turn 1100\n",
      "Turn 1200\n",
      "Turn 1300\n",
      "Turn 1400\n",
      "Turn 1500\n",
      "Turn 1600\n",
      "Turn 1700\n",
      "Turn 1800\n",
      "Turn 1900\n",
      "Turn 2000\n",
      "Turn 2100\n",
      "Turn 2200\n",
      "Turn 2300\n",
      "Turn 2400\n",
      "Turn 2500\n",
      "Turn 2600\n",
      "Turn 2700\n",
      "Turn 2800\n",
      "Turn 2900\n"
     ]
    }
   ],
   "source": [
    "final_res = {}\n",
    "dead_idx = []\n",
    "\n",
    "line.discard_tracker()\n",
    "line.build_tracker(_context=xo.ContextCpu(omp_num_threads='auto'))\n",
    "\n",
    "line.scattering.enable()\n",
    "adt.activate()\n",
    "for turn in range(num_turns):\n",
    "    if turn%100==0:\n",
    "        print(f'Turn {turn}')\n",
    "    line.track(part, turn_by_turn_monitor='ONE_TURN_EBE')\n",
    "    res = line.record_last_track\n",
    "    ids = part.particle_id[part.state<=0]\n",
    "    if ids.size>0:\n",
    "        final_res[turn] = {}\n",
    "        for idx in ids:\n",
    "            if idx not in dead_idx:\n",
    "                dead_idx.append(idx)\n",
    "                #this_idx = res.particle_id.index(idx)\n",
    "                this_idx = int(np.where(np.any(res.particle_id==idx, axis=1))[0][0])\n",
    "                final_res[turn][idx] = {\n",
    "                    'x': res.x[this_idx].copy(),\n",
    "                    'y': res.y[this_idx].copy()\n",
    "                }\n",
    "        #remove if no new particle was killed in this turn\n",
    "        if len(final_res[turn])==0:\n",
    "            final_res.pop(turn)\n",
    "    del res\n",
    "adt.deactivate()\n",
    "line.scattering.disable()"
   ]
  },
  {
   "cell_type": "code",
   "execution_count": 30,
   "metadata": {},
   "outputs": [],
   "source": [
    "line.track(part, turn_by_turn_monitor='ONE_TURN_EBE')\n",
    "res = line.record_last_track"
   ]
  },
  {
   "cell_type": "code",
   "execution_count": 40,
   "metadata": {},
   "outputs": [
    {
     "data": {
      "text/plain": [
       "21604"
      ]
     },
     "execution_count": 40,
     "metadata": {},
     "output_type": "execute_result"
    }
   ],
   "source": [
    "len(res.x[0])"
   ]
  },
  {
   "cell_type": "code",
   "execution_count": 22,
   "metadata": {},
   "outputs": [],
   "source": [
    "import pickle"
   ]
  },
  {
   "cell_type": "code",
   "execution_count": 44,
   "metadata": {},
   "outputs": [],
   "source": [
    "with open('final_res.pkl', 'wb') as f:\n",
    "    pickle.dump(final_res, f)"
   ]
  },
  {
   "cell_type": "code",
   "execution_count": 28,
   "metadata": {},
   "outputs": [
    {
     "data": {
      "text/plain": [
       "21604"
      ]
     },
     "execution_count": 28,
     "metadata": {},
     "output_type": "execute_result"
    }
   ],
   "source": [
    "len(line.get_table().s)"
   ]
  },
  {
   "cell_type": "code",
   "execution_count": 41,
   "metadata": {},
   "outputs": [],
   "source": [
    "for turn in final_res:\n",
    "    if len(final_res[turn]) > 0:\n",
    "        for id in final_res[turn]:\n",
    "            if len(final_res[turn][id]['x']) != len(line.get_table().s):\n",
    "                print(f'Turn {turn}, id {id}, len x: {len(final_res[turn][id][\"x\"])}')"
   ]
  },
  {
   "cell_type": "code",
   "execution_count": 42,
   "metadata": {},
   "outputs": [],
   "source": [
    "final_res['s'] = line.get_table().s"
   ]
  },
  {
   "cell_type": "code",
   "execution_count": 43,
   "metadata": {},
   "outputs": [],
   "source": [
    "with open('final_res.pkl', 'rb') as f:\n",
    "    loaded = pickle.load(f)"
   ]
  },
  {
   "cell_type": "code",
   "execution_count": null,
   "metadata": {},
   "outputs": [],
   "source": []
  },
  {
   "cell_type": "code",
   "execution_count": 29,
   "metadata": {},
   "outputs": [
    {
     "ename": "NameError",
     "evalue": "name 'res' is not defined",
     "output_type": "error",
     "traceback": [
      "\u001b[0;31m---------------------------------------------------------------------------\u001b[0m",
      "\u001b[0;31mNameError\u001b[0m                                 Traceback (most recent call last)",
      "Cell \u001b[0;32mIn[29], line 1\u001b[0m\n\u001b[0;32m----> 1\u001b[0m \u001b[43mres\u001b[49m\n",
      "\u001b[0;31mNameError\u001b[0m: name 'res' is not defined"
     ]
    }
   ],
   "source": [
    "res"
   ]
  }
 ],
 "metadata": {
  "kernelspec": {
   "display_name": "xsuite_dev",
   "language": "python",
   "name": "python3"
  },
  "language_info": {
   "codemirror_mode": {
    "name": "ipython",
    "version": 3
   },
   "file_extension": ".py",
   "mimetype": "text/x-python",
   "name": "python",
   "nbconvert_exporter": "python",
   "pygments_lexer": "ipython3",
   "version": "3.11.10"
  }
 },
 "nbformat": 4,
 "nbformat_minor": 2
}
