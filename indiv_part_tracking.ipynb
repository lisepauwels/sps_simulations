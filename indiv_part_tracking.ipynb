{
 "cells": [
  {
   "cell_type": "code",
   "execution_count": 18,
   "metadata": {},
   "outputs": [],
   "source": [
    "import numpy as np\n",
    "import xtrack as xt\n",
    "import xcoll as xc\n",
    "import xobjects as xo\n",
    "import xpart as xp"
   ]
  },
  {
   "cell_type": "code",
   "execution_count": 19,
   "metadata": {},
   "outputs": [
    {
     "data": {
      "application/vnd.jupyter.widget-view+json": {
       "model_id": "6ed59ac424414ae79b946937777106a5",
       "version_major": 2,
       "version_minor": 0
      },
      "text/plain": [
       "Loading line from dict:   0%|          | 0/31427 [00:00<?, ?it/s]"
      ]
     },
     "metadata": {},
     "output_type": "display_data"
    },
    {
     "ename": "KeyboardInterrupt",
     "evalue": "",
     "output_type": "error",
     "traceback": [
      "\u001b[0;31m---------------------------------------------------------------------------\u001b[0m",
      "\u001b[0;31mKeyboardInterrupt\u001b[0m                         Traceback (most recent call last)",
      "Cell \u001b[0;32mIn[19], line 1\u001b[0m\n\u001b[0;32m----> 1\u001b[0m line \u001b[38;5;241m=\u001b[39m \u001b[43mxt\u001b[49m\u001b[38;5;241;43m.\u001b[39;49m\u001b[43mLine\u001b[49m\u001b[38;5;241;43m.\u001b[39;49m\u001b[43mfrom_json\u001b[49m\u001b[43m(\u001b[49m\u001b[38;5;124;43m'\u001b[39;49m\u001b[38;5;124;43minjection_thin_approx_ap2.json\u001b[39;49m\u001b[38;5;124;43m'\u001b[39;49m\u001b[43m)\u001b[49m\n\u001b[1;32m      2\u001b[0m \u001b[38;5;66;03m#line = xt.Line.from_json('lhc_run3_b1.json')\u001b[39;00m\n",
      "File \u001b[0;32m/apps/pythondev/xtrack/xtrack/line.py:311\u001b[0m, in \u001b[0;36mLine.from_json\u001b[0;34m(cls, file, **kwargs)\u001b[0m\n\u001b[1;32m    308\u001b[0m \u001b[38;5;28;01melse\u001b[39;00m:\n\u001b[1;32m    309\u001b[0m     dct_line \u001b[38;5;241m=\u001b[39m dct\n\u001b[0;32m--> 311\u001b[0m \u001b[38;5;28;01mreturn\u001b[39;00m \u001b[38;5;28;43mcls\u001b[39;49m\u001b[38;5;241;43m.\u001b[39;49m\u001b[43mfrom_dict\u001b[49m\u001b[43m(\u001b[49m\u001b[43mdct_line\u001b[49m\u001b[43m,\u001b[49m\u001b[43m \u001b[49m\u001b[38;5;241;43m*\u001b[39;49m\u001b[38;5;241;43m*\u001b[39;49m\u001b[43mkwargs\u001b[49m\u001b[43m)\u001b[49m\n",
      "File \u001b[0;32m/apps/pythondev/xtrack/xtrack/line.py:237\u001b[0m, in \u001b[0;36mLine.from_dict\u001b[0;34m(cls, dct, _context, _buffer, classes, env, verbose)\u001b[0m\n\u001b[1;32m    234\u001b[0m     elements \u001b[38;5;241m=\u001b[39m {}\n\u001b[1;32m    235\u001b[0m     \u001b[38;5;28;01mfor\u001b[39;00m ii, (kk, ee) \u001b[38;5;129;01min\u001b[39;00m \u001b[38;5;28menumerate\u001b[39m(\n\u001b[1;32m    236\u001b[0m             progress(dct[\u001b[38;5;124m'\u001b[39m\u001b[38;5;124melements\u001b[39m\u001b[38;5;124m'\u001b[39m]\u001b[38;5;241m.\u001b[39mitems(), desc\u001b[38;5;241m=\u001b[39m\u001b[38;5;124m'\u001b[39m\u001b[38;5;124mLoading line from dict\u001b[39m\u001b[38;5;124m'\u001b[39m)):\n\u001b[0;32m--> 237\u001b[0m         elements[kk] \u001b[38;5;241m=\u001b[39m \u001b[43m_deserialize_element\u001b[49m\u001b[43m(\u001b[49m\u001b[43mee\u001b[49m\u001b[43m,\u001b[49m\u001b[43m \u001b[49m\u001b[43mclass_dict\u001b[49m\u001b[43m,\u001b[49m\u001b[43m \u001b[49m\u001b[43m_buffer\u001b[49m\u001b[43m)\u001b[49m\n\u001b[1;32m    238\u001b[0m \u001b[38;5;28;01melif\u001b[39;00m \u001b[38;5;28misinstance\u001b[39m(dct[\u001b[38;5;124m'\u001b[39m\u001b[38;5;124melements\u001b[39m\u001b[38;5;124m'\u001b[39m], \u001b[38;5;28mlist\u001b[39m):\n\u001b[1;32m    239\u001b[0m     elements \u001b[38;5;241m=\u001b[39m []\n",
      "File \u001b[0;32m/apps/pythondev/xtrack/xtrack/line.py:4904\u001b[0m, in \u001b[0;36m_deserialize_element\u001b[0;34m(el, class_dict, _buffer)\u001b[0m\n\u001b[1;32m   4902\u001b[0m eltype \u001b[38;5;241m=\u001b[39m class_dict[eldct\u001b[38;5;241m.\u001b[39mpop(\u001b[38;5;124m'\u001b[39m\u001b[38;5;124m__class__\u001b[39m\u001b[38;5;124m'\u001b[39m)]\n\u001b[1;32m   4903\u001b[0m \u001b[38;5;28;01mif\u001b[39;00m \u001b[38;5;28mhasattr\u001b[39m(eltype, \u001b[38;5;124m'\u001b[39m\u001b[38;5;124m_XoStruct\u001b[39m\u001b[38;5;124m'\u001b[39m):\n\u001b[0;32m-> 4904\u001b[0m     \u001b[38;5;28;01mreturn\u001b[39;00m \u001b[43meltype\u001b[49m\u001b[38;5;241;43m.\u001b[39;49m\u001b[43mfrom_dict\u001b[49m\u001b[43m(\u001b[49m\u001b[43meldct\u001b[49m\u001b[43m,\u001b[49m\u001b[43m \u001b[49m\u001b[43m_buffer\u001b[49m\u001b[38;5;241;43m=\u001b[39;49m\u001b[43m_buffer\u001b[49m\u001b[43m)\u001b[49m\n\u001b[1;32m   4905\u001b[0m \u001b[38;5;28;01melse\u001b[39;00m:\n\u001b[1;32m   4906\u001b[0m     \u001b[38;5;28;01mreturn\u001b[39;00m eltype\u001b[38;5;241m.\u001b[39mfrom_dict(eldct)\n",
      "File \u001b[0;32m/apps/pythondev/xtrack/xtrack/base_element.py:604\u001b[0m, in \u001b[0;36mBeamElement.from_dict\u001b[0;34m(cls, dct, **kwargs)\u001b[0m\n\u001b[1;32m    601\u001b[0m \u001b[38;5;28;01melse\u001b[39;00m:\n\u001b[1;32m    602\u001b[0m     name_associated_aperture \u001b[38;5;241m=\u001b[39m \u001b[38;5;28;01mNone\u001b[39;00m\n\u001b[0;32m--> 604\u001b[0m instance \u001b[38;5;241m=\u001b[39m \u001b[43mxo\u001b[49m\u001b[38;5;241;43m.\u001b[39;49m\u001b[43mHybridClass\u001b[49m\u001b[38;5;241;43m.\u001b[39;49m\u001b[43m_static_from_dict\u001b[49m\u001b[43m(\u001b[49m\u001b[38;5;28;43mcls\u001b[39;49m\u001b[43m,\u001b[49m\u001b[43m \u001b[49m\u001b[43mdct\u001b[49m\u001b[43m,\u001b[49m\u001b[43m \u001b[49m\u001b[38;5;241;43m*\u001b[39;49m\u001b[38;5;241;43m*\u001b[39;49m\u001b[43mkwargs\u001b[49m\u001b[43m)\u001b[49m\n\u001b[1;32m    605\u001b[0m instance\u001b[38;5;241m.\u001b[39mname_associated_aperture \u001b[38;5;241m=\u001b[39m name_associated_aperture\n\u001b[1;32m    606\u001b[0m \u001b[38;5;28;01mreturn\u001b[39;00m instance\n",
      "File \u001b[0;32m/apps/pythondev/xobjects/xobjects/hybrid_class.py:320\u001b[0m, in \u001b[0;36mHybridClass._static_from_dict\u001b[0;34m(cls, dct, _context, _buffer, _offset)\u001b[0m\n\u001b[1;32m    318\u001b[0m \u001b[38;5;129m@staticmethod\u001b[39m\n\u001b[1;32m    319\u001b[0m \u001b[38;5;28;01mdef\u001b[39;00m\u001b[38;5;250m \u001b[39m\u001b[38;5;21m_static_from_dict\u001b[39m(\u001b[38;5;28mcls\u001b[39m, dct, _context\u001b[38;5;241m=\u001b[39m\u001b[38;5;28;01mNone\u001b[39;00m, _buffer\u001b[38;5;241m=\u001b[39m\u001b[38;5;28;01mNone\u001b[39;00m, _offset\u001b[38;5;241m=\u001b[39m\u001b[38;5;28;01mNone\u001b[39;00m):\n\u001b[0;32m--> 320\u001b[0m     \u001b[38;5;28;01mreturn\u001b[39;00m \u001b[38;5;28;43mcls\u001b[39;49m\u001b[43m(\u001b[49m\n\u001b[1;32m    321\u001b[0m \u001b[43m        \u001b[49m\u001b[38;5;241;43m*\u001b[39;49m\u001b[38;5;241;43m*\u001b[39;49m\u001b[43mdct\u001b[49m\u001b[43m,\u001b[49m\n\u001b[1;32m    322\u001b[0m \u001b[43m        \u001b[49m\u001b[43m_context\u001b[49m\u001b[38;5;241;43m=\u001b[39;49m\u001b[43m_context\u001b[49m\u001b[43m,\u001b[49m\n\u001b[1;32m    323\u001b[0m \u001b[43m        \u001b[49m\u001b[43m_buffer\u001b[49m\u001b[38;5;241;43m=\u001b[39;49m\u001b[43m_buffer\u001b[49m\u001b[43m,\u001b[49m\n\u001b[1;32m    324\u001b[0m \u001b[43m        \u001b[49m\u001b[43m_offset\u001b[49m\u001b[38;5;241;43m=\u001b[39;49m\u001b[43m_offset\u001b[49m\u001b[43m,\u001b[49m\n\u001b[1;32m    325\u001b[0m \u001b[43m        \u001b[49m\u001b[43m_kwargs_name_check\u001b[49m\u001b[38;5;241;43m=\u001b[39;49m\u001b[38;5;28;43;01mFalse\u001b[39;49;00m\u001b[43m,\u001b[49m\n\u001b[1;32m    326\u001b[0m \u001b[43m    \u001b[49m\u001b[43m)\u001b[49m\n",
      "File \u001b[0;32m/apps/pythondev/xtrack/xtrack/beam_elements/elements.py:849\u001b[0m, in \u001b[0;36mBend.__init__\u001b[0;34m(self, **kwargs)\u001b[0m\n\u001b[1;32m    844\u001b[0m kwargs[\u001b[38;5;124m'\u001b[39m\u001b[38;5;124mknl\u001b[39m\u001b[38;5;124m'\u001b[39m] \u001b[38;5;241m=\u001b[39m np\u001b[38;5;241m.\u001b[39mpad(knl,\n\u001b[1;32m    845\u001b[0m                 (\u001b[38;5;241m0\u001b[39m, ALLOCATED_MULTIPOLE_ORDER \u001b[38;5;241m+\u001b[39m \u001b[38;5;241m1\u001b[39m \u001b[38;5;241m-\u001b[39m \u001b[38;5;28mlen\u001b[39m(knl)), \u001b[38;5;124m'\u001b[39m\u001b[38;5;124mconstant\u001b[39m\u001b[38;5;124m'\u001b[39m)\n\u001b[1;32m    846\u001b[0m kwargs[\u001b[38;5;124m'\u001b[39m\u001b[38;5;124mksl\u001b[39m\u001b[38;5;124m'\u001b[39m] \u001b[38;5;241m=\u001b[39m np\u001b[38;5;241m.\u001b[39mpad(ksl,\n\u001b[1;32m    847\u001b[0m                 (\u001b[38;5;241m0\u001b[39m, ALLOCATED_MULTIPOLE_ORDER \u001b[38;5;241m+\u001b[39m \u001b[38;5;241m1\u001b[39m \u001b[38;5;241m-\u001b[39m \u001b[38;5;28mlen\u001b[39m(ksl)), \u001b[38;5;124m'\u001b[39m\u001b[38;5;124mconstant\u001b[39m\u001b[38;5;124m'\u001b[39m)\n\u001b[0;32m--> 849\u001b[0m \u001b[38;5;28;43mself\u001b[39;49m\u001b[38;5;241;43m.\u001b[39;49m\u001b[43mxoinitialize\u001b[49m\u001b[43m(\u001b[49m\u001b[38;5;241;43m*\u001b[39;49m\u001b[38;5;241;43m*\u001b[39;49m\u001b[43mkwargs\u001b[49m\u001b[43m)\u001b[49m\n\u001b[1;32m    851\u001b[0m \u001b[38;5;28;01mif\u001b[39;00m model \u001b[38;5;129;01mis\u001b[39;00m \u001b[38;5;129;01mnot\u001b[39;00m \u001b[38;5;28;01mNone\u001b[39;00m:\n\u001b[1;32m    852\u001b[0m     \u001b[38;5;28mself\u001b[39m\u001b[38;5;241m.\u001b[39mmodel \u001b[38;5;241m=\u001b[39m model\n",
      "File \u001b[0;32m/apps/pythondev/xtrack/xtrack/base_element.py:577\u001b[0m, in \u001b[0;36mBeamElement.xoinitialize\u001b[0;34m(self, **kwargs)\u001b[0m\n\u001b[1;32m    574\u001b[0m shift_y \u001b[38;5;241m=\u001b[39m kwargs\u001b[38;5;241m.\u001b[39mpop(\u001b[38;5;124m'\u001b[39m\u001b[38;5;124mshift_y\u001b[39m\u001b[38;5;124m'\u001b[39m, \u001b[38;5;28;01mNone\u001b[39;00m)\n\u001b[1;32m    575\u001b[0m shift_s \u001b[38;5;241m=\u001b[39m kwargs\u001b[38;5;241m.\u001b[39mpop(\u001b[38;5;124m'\u001b[39m\u001b[38;5;124mshift_s\u001b[39m\u001b[38;5;124m'\u001b[39m, \u001b[38;5;28;01mNone\u001b[39;00m)\n\u001b[0;32m--> 577\u001b[0m \u001b[43mxo\u001b[49m\u001b[38;5;241;43m.\u001b[39;49m\u001b[43mHybridClass\u001b[49m\u001b[38;5;241;43m.\u001b[39;49m\u001b[43mxoinitialize\u001b[49m\u001b[43m(\u001b[49m\u001b[38;5;28;43mself\u001b[39;49m\u001b[43m,\u001b[49m\u001b[43m \u001b[49m\u001b[38;5;241;43m*\u001b[39;49m\u001b[38;5;241;43m*\u001b[39;49m\u001b[43mkwargs\u001b[49m\u001b[43m)\u001b[49m\n\u001b[1;32m    579\u001b[0m \u001b[38;5;28;01mif\u001b[39;00m rot_s_rad \u001b[38;5;129;01mis\u001b[39;00m \u001b[38;5;129;01mnot\u001b[39;00m \u001b[38;5;28;01mNone\u001b[39;00m:\n\u001b[1;32m    580\u001b[0m     \u001b[38;5;28mself\u001b[39m\u001b[38;5;241m.\u001b[39mrot_s_rad \u001b[38;5;241m=\u001b[39m rot_s_rad\n",
      "File \u001b[0;32m/apps/pythondev/xobjects/xobjects/hybrid_class.py:272\u001b[0m, in \u001b[0;36mHybridClass.xoinitialize\u001b[0;34m(self, _xobject, _kwargs_name_check, **kwargs)\u001b[0m\n\u001b[1;32m    269\u001b[0m     \u001b[38;5;28;01melse\u001b[39;00m:\n\u001b[1;32m    270\u001b[0m         xo_kwargs[\u001b[38;5;28mself\u001b[39m\u001b[38;5;241m.\u001b[39m_inverse_rename\u001b[38;5;241m.\u001b[39mget(kk, kk)] \u001b[38;5;241m=\u001b[39m vv\n\u001b[0;32m--> 272\u001b[0m \u001b[38;5;28mself\u001b[39m\u001b[38;5;241m.\u001b[39m_xobject \u001b[38;5;241m=\u001b[39m \u001b[38;5;28;43mself\u001b[39;49m\u001b[38;5;241;43m.\u001b[39;49m\u001b[43m_XoStruct\u001b[49m\u001b[43m(\u001b[49m\u001b[38;5;241;43m*\u001b[39;49m\u001b[38;5;241;43m*\u001b[39;49m\u001b[43mxo_kwargs\u001b[49m\u001b[43m)\u001b[49m\n\u001b[1;32m    274\u001b[0m \u001b[38;5;66;03m# Handle dressed inputs\u001b[39;00m\n\u001b[1;32m    275\u001b[0m \u001b[38;5;28;01mfor\u001b[39;00m kk, vv \u001b[38;5;129;01min\u001b[39;00m dressed_kwargs\u001b[38;5;241m.\u001b[39mitems():\n",
      "File \u001b[0;32m/apps/pythondev/xobjects/xobjects/struct.py:359\u001b[0m, in \u001b[0;36mStruct.__init__\u001b[0;34m(self, _context, _buffer, _offset, *args, **kwargs)\u001b[0m\n\u001b[1;32m    357\u001b[0m \u001b[38;5;28;01mif\u001b[39;00m \u001b[38;5;28mhasattr\u001b[39m(info, \u001b[38;5;124m\"\u001b[39m\u001b[38;5;124m_offsets\u001b[39m\u001b[38;5;124m\"\u001b[39m):\n\u001b[1;32m    358\u001b[0m     \u001b[38;5;28mself\u001b[39m\u001b[38;5;241m.\u001b[39m_offsets \u001b[38;5;241m=\u001b[39m info\u001b[38;5;241m.\u001b[39m_offsets  \u001b[38;5;66;03m# struct offsets\u001b[39;00m\n\u001b[0;32m--> 359\u001b[0m \u001b[38;5;28;43mcls\u001b[39;49m\u001b[38;5;241;43m.\u001b[39;49m\u001b[43m_to_buffer\u001b[49m\u001b[43m(\u001b[49m\u001b[38;5;28;43mself\u001b[39;49m\u001b[38;5;241;43m.\u001b[39;49m\u001b[43m_buffer\u001b[49m\u001b[43m,\u001b[49m\u001b[43m \u001b[49m\u001b[38;5;28;43mself\u001b[39;49m\u001b[38;5;241;43m.\u001b[39;49m\u001b[43m_offset\u001b[49m\u001b[43m,\u001b[49m\u001b[43m \u001b[49m\u001b[43minfo\u001b[49m\u001b[38;5;241;43m.\u001b[39;49m\u001b[43mvalue\u001b[49m\u001b[43m,\u001b[49m\u001b[43m \u001b[49m\u001b[43minfo\u001b[49m\u001b[43m)\u001b[49m\n\u001b[1;32m    360\u001b[0m \u001b[38;5;28mself\u001b[39m\u001b[38;5;241m.\u001b[39m_post_init()\n",
      "File \u001b[0;32m/apps/pythondev/xobjects/xobjects/struct.py:327\u001b[0m, in \u001b[0;36mStruct._to_buffer\u001b[0;34m(cls, buffer, offset, value, info)\u001b[0m\n\u001b[1;32m    325\u001b[0m     foffset \u001b[38;5;241m=\u001b[39m offset \u001b[38;5;241m+\u001b[39m field\u001b[38;5;241m.\u001b[39moffset\n\u001b[1;32m    326\u001b[0m finfo \u001b[38;5;241m=\u001b[39m extra\u001b[38;5;241m.\u001b[39mget(field\u001b[38;5;241m.\u001b[39mindex)\n\u001b[0;32m--> 327\u001b[0m field\u001b[38;5;241m.\u001b[39mftype\u001b[38;5;241m.\u001b[39m_to_buffer(buffer, foffset, fvalue, finfo)\n",
      "\u001b[0;31mKeyboardInterrupt\u001b[0m: "
     ]
    }
   ],
   "source": [
    "line = xt.Line.from_json('injection_thin_approx_ap2.json')\n",
    "#line = xt.Line.from_json('lhc_run3_b1.json')"
   ]
  },
  {
   "cell_type": "code",
   "execution_count": null,
   "metadata": {},
   "outputs": [],
   "source": [
    "num_turns = 3000\n",
    "num_particles = 500\n",
    "\n",
    "nemitt_x = 3.5e-6\n",
    "nemitt_y = 3.5e-6\n",
    "amplitude_adt = 0.12"
   ]
  },
  {
   "cell_type": "code",
   "execution_count": null,
   "metadata": {},
   "outputs": [
    {
     "name": "stdout",
     "output_type": "stream",
     "text": [
      "Install collimator\n",
      "Compiling ContextCpu kernels...\n",
      "Done compiling ContextCpu kernels.\n"
     ]
    },
    {
     "data": {
      "application/vnd.jupyter.widget-view+json": {
       "model_id": "3631abfbfb164df7901ce05381c835a0",
       "version_major": 2,
       "version_minor": 0
      },
      "text/plain": [
       "Slicing line:   0%|          | 0/30277 [00:00<?, ?it/s]"
      ]
     },
     "metadata": {},
     "output_type": "display_data"
    }
   ],
   "source": [
    "print('Install collimator')\n",
    "coll = xc.EverestCollimator(length=1.83, gap=5, material=xc.materials.Carbon) # length is 1.83\n",
    "line.collimators.install('tcsm.51932', coll)\n",
    "\n",
    "#Make aperture for collimator and update line\n",
    "coll_ap = xt.LimitRectEllipse(a=0.05, b=0.05, max_x=0.05, max_y=0.05) \n",
    "coll_ap_names = ['tcsm.51932_aper_upstream', 'tcsm.51932_aper_downstream']\n",
    "coll_ap_idx = [line.element_names.index('tcsm.51932'), line.element_names.index('tcsm.51932') + 1]\n",
    "\n",
    "max_length = max(max(map(len, line.element_names)), max(map(len, coll_ap_names)))\n",
    "element_names = np.array(line.element_names, dtype=f'<U{max_length}')\n",
    "names = np.array(coll_ap_names, dtype=f'<U{max_length}')\n",
    "element_names = np.insert(element_names, coll_ap_idx, coll_ap_names)\n",
    "\n",
    "insert_colls = {name: coll_ap for name in coll_ap_names}\n",
    "\n",
    "line.element_names = element_names.tolist()\n",
    "line.element_dict = {**line.element_dict, **insert_colls}"
   ]
  },
  {
   "cell_type": "code",
   "execution_count": null,
   "metadata": {},
   "outputs": [],
   "source": [
    "adt = xc.BlowUp.install(line, name=f'adt_H_blowup', at_s=line.get_s_position('adkcv.32171'), plane='H', stop_at_turn=num_turns,\n",
    "                        amplitude=amplitude_adt, use_individual_kicks=True)"
   ]
  },
  {
   "cell_type": "code",
   "execution_count": null,
   "metadata": {},
   "outputs": [
    {
     "data": {
      "application/vnd.jupyter.widget-view+json": {
       "model_id": "8425dcb6c60b4ff892aeb2415913f26a",
       "version_major": 2,
       "version_minor": 0
      },
      "text/plain": [
       "Checking aperture:   0%|          | 0/30280 [00:00<?, ?it/s]"
      ]
     },
     "metadata": {},
     "output_type": "display_data"
    },
    {
     "name": "stdout",
     "output_type": "stream",
     "text": [
      "Done checking aperture.           \n",
      "0 thin elements miss associated aperture (upstream):\n",
      "[]\n",
      "0 thick elements miss associated aperture (upstream or downstream):\n",
      "[]\n"
     ]
    }
   ],
   "source": [
    "df_with_coll = line.check_aperture()"
   ]
  },
  {
   "cell_type": "code",
   "execution_count": null,
   "metadata": {},
   "outputs": [],
   "source": [
    "# Start interaction record\n",
    "impacts = xc.InteractionRecord.start(line=line, record_impacts=True)"
   ]
  },
  {
   "cell_type": "code",
   "execution_count": null,
   "metadata": {},
   "outputs": [
    {
     "name": "stdout",
     "output_type": "stream",
     "text": [
      "Compiling ContextCpu kernels...\n",
      "Done compiling ContextCpu kernels.\n",
      "Compiling ContextCpu kernels...\n",
      "Done compiling ContextCpu kernels.\n",
      "Disable xdeps expressions\n",
      "Replance slices with equivalent elements\n",
      "Remove markers\n",
      "Remove inactive multipoles\n",
      "Merge consecutive multipoles\n",
      "Remove redundant apertures\n",
      "Remove zero length drifts\n",
      "Merge consecutive drifts\n",
      "Use simple bends\n",
      "Use simple quadrupoles\n",
      "Rebuild tracker data\n",
      "Compiling ContextCpu kernels...\n",
      "Done compiling ContextCpu kernels.\n"
     ]
    }
   ],
   "source": [
    "line.build_tracker()\n",
    "tw = line.twiss()\n",
    "line.collimators.assign_optics(twiss=tw, nemitt_x=nemitt_x, nemitt_y=nemitt_y)\n",
    "adt.calibrate_by_emittance(nemitt=nemitt_x, twiss=tw)\n",
    "line.optimize_for_tracking()"
   ]
  },
  {
   "cell_type": "code",
   "execution_count": null,
   "metadata": {},
   "outputs": [
    {
     "name": "stdout",
     "output_type": "stream",
     "text": [
      "*** Maximum RMS bunch length 0.23305718962575075m.\n",
      "... distance to target bunch length: -2.2400e-01\n",
      "... distance to target bunch length: 4.2397e-03\n",
      "... distance to target bunch length: 4.0509e-03\n",
      "... distance to target bunch length: -5.4163e-03\n",
      "... distance to target bunch length: 1.6934e-03\n",
      "... distance to target bunch length: -3.8711e-04\n",
      "... distance to target bunch length: 6.2540e-05\n",
      "... distance to target bunch length: 1.9666e-06\n",
      "... distance to target bunch length: -3.5749e-10\n",
      "... distance to target bunch length: 9.4807e-08\n",
      "--> Bunch length: 0.22399999964250966\n",
      "--> Emittance: 0.34322710188738337\n"
     ]
    }
   ],
   "source": [
    "line.scattering.disable()\n",
    "part = xp.generate_matched_gaussian_bunch(num_particles=num_particles, total_intensity_particles=2.2e11,\n",
    "                                          nemitt_x=3.5e-6, nemitt_y=3.5e-6, sigma_z=0.224, line=line) #Flat bottom: 0.224, flat top: 0.124"
   ]
  },
  {
   "cell_type": "code",
   "execution_count": 20,
   "metadata": {},
   "outputs": [
    {
     "name": "stdout",
     "output_type": "stream",
     "text": [
      "Compiling ContextCpu kernels...\n",
      "Done compiling ContextCpu kernels.\n",
      "Turn 0\n",
      "Turn 100\n"
     ]
    },
    {
     "ename": "KeyboardInterrupt",
     "evalue": "",
     "output_type": "error",
     "traceback": [
      "\u001b[0;31m---------------------------------------------------------------------------\u001b[0m",
      "\u001b[0;31mKeyboardInterrupt\u001b[0m                         Traceback (most recent call last)",
      "Cell \u001b[0;32mIn[20], line 13\u001b[0m\n\u001b[1;32m     11\u001b[0m \u001b[38;5;28;01mif\u001b[39;00m turn\u001b[38;5;241m%\u001b[39m\u001b[38;5;241m100\u001b[39m\u001b[38;5;241m==\u001b[39m\u001b[38;5;241m0\u001b[39m:\n\u001b[1;32m     12\u001b[0m     \u001b[38;5;28mprint\u001b[39m(\u001b[38;5;124mf\u001b[39m\u001b[38;5;124m'\u001b[39m\u001b[38;5;124mTurn \u001b[39m\u001b[38;5;132;01m{\u001b[39;00mturn\u001b[38;5;132;01m}\u001b[39;00m\u001b[38;5;124m'\u001b[39m)\n\u001b[0;32m---> 13\u001b[0m \u001b[43mline\u001b[49m\u001b[38;5;241;43m.\u001b[39;49m\u001b[43mtrack\u001b[49m\u001b[43m(\u001b[49m\u001b[43mpart\u001b[49m\u001b[43m,\u001b[49m\u001b[43m \u001b[49m\u001b[43mturn_by_turn_monitor\u001b[49m\u001b[38;5;241;43m=\u001b[39;49m\u001b[38;5;124;43m'\u001b[39;49m\u001b[38;5;124;43mONE_TURN_EBE\u001b[39;49m\u001b[38;5;124;43m'\u001b[39;49m\u001b[43m)\u001b[49m\n\u001b[1;32m     14\u001b[0m res \u001b[38;5;241m=\u001b[39m line\u001b[38;5;241m.\u001b[39mrecord_last_track\n\u001b[1;32m     15\u001b[0m ids \u001b[38;5;241m=\u001b[39m part\u001b[38;5;241m.\u001b[39mparticle_id[part\u001b[38;5;241m.\u001b[39mstate\u001b[38;5;241m<\u001b[39m\u001b[38;5;241m=\u001b[39m\u001b[38;5;241m0\u001b[39m]\n",
      "File \u001b[0;32m/apps/pythondev/xtrack/xtrack/line.py:1044\u001b[0m, in \u001b[0;36mLine.track\u001b[0;34m(self, particles, ele_start, ele_stop, num_elements, num_turns, turn_by_turn_monitor, freeze_longitudinal, time, with_progress, **kwargs)\u001b[0m\n\u001b[1;32m   1041\u001b[0m     kwargs\u001b[38;5;241m.\u001b[39mpop(\u001b[38;5;124m'\u001b[39m\u001b[38;5;124m_called_by_pipeline\u001b[39m\u001b[38;5;124m'\u001b[39m)\n\u001b[1;32m   1043\u001b[0m \u001b[38;5;28mself\u001b[39m\u001b[38;5;241m.\u001b[39m_check_valid_tracker()\n\u001b[0;32m-> 1044\u001b[0m \u001b[38;5;28;01mreturn\u001b[39;00m \u001b[38;5;28;43mself\u001b[39;49m\u001b[38;5;241;43m.\u001b[39;49m\u001b[43mtracker\u001b[49m\u001b[38;5;241;43m.\u001b[39;49m\u001b[43m_track\u001b[49m\u001b[43m(\u001b[49m\n\u001b[1;32m   1045\u001b[0m \u001b[43m    \u001b[49m\u001b[43mparticles\u001b[49m\u001b[43m,\u001b[49m\n\u001b[1;32m   1046\u001b[0m \u001b[43m    \u001b[49m\u001b[43mele_start\u001b[49m\u001b[38;5;241;43m=\u001b[39;49m\u001b[43mele_start\u001b[49m\u001b[43m,\u001b[49m\n\u001b[1;32m   1047\u001b[0m \u001b[43m    \u001b[49m\u001b[43mele_stop\u001b[49m\u001b[38;5;241;43m=\u001b[39;49m\u001b[43mele_stop\u001b[49m\u001b[43m,\u001b[49m\n\u001b[1;32m   1048\u001b[0m \u001b[43m    \u001b[49m\u001b[43mnum_elements\u001b[49m\u001b[38;5;241;43m=\u001b[39;49m\u001b[43mnum_elements\u001b[49m\u001b[43m,\u001b[49m\n\u001b[1;32m   1049\u001b[0m \u001b[43m    \u001b[49m\u001b[43mnum_turns\u001b[49m\u001b[38;5;241;43m=\u001b[39;49m\u001b[43mnum_turns\u001b[49m\u001b[43m,\u001b[49m\n\u001b[1;32m   1050\u001b[0m \u001b[43m    \u001b[49m\u001b[43mturn_by_turn_monitor\u001b[49m\u001b[38;5;241;43m=\u001b[39;49m\u001b[43mturn_by_turn_monitor\u001b[49m\u001b[43m,\u001b[49m\n\u001b[1;32m   1051\u001b[0m \u001b[43m    \u001b[49m\u001b[43mfreeze_longitudinal\u001b[49m\u001b[38;5;241;43m=\u001b[39;49m\u001b[43mfreeze_longitudinal\u001b[49m\u001b[43m,\u001b[49m\n\u001b[1;32m   1052\u001b[0m \u001b[43m    \u001b[49m\u001b[43mtime\u001b[49m\u001b[38;5;241;43m=\u001b[39;49m\u001b[43mtime\u001b[49m\u001b[43m,\u001b[49m\n\u001b[1;32m   1053\u001b[0m \u001b[43m    \u001b[49m\u001b[43mwith_progress\u001b[49m\u001b[38;5;241;43m=\u001b[39;49m\u001b[43mwith_progress\u001b[49m\u001b[43m,\u001b[49m\n\u001b[1;32m   1054\u001b[0m \u001b[43m    \u001b[49m\u001b[38;5;241;43m*\u001b[39;49m\u001b[38;5;241;43m*\u001b[39;49m\u001b[43mkwargs\u001b[49m\u001b[43m)\u001b[49m\n",
      "File \u001b[0;32m/apps/pythondev/xtrack/xtrack/tracker.py:377\u001b[0m, in \u001b[0;36mTracker._track\u001b[0;34m(self, particles, with_progress, time, *args, **kwargs)\u001b[0m\n\u001b[1;32m    374\u001b[0m         tracking_func(particles, \u001b[38;5;241m*\u001b[39margs, \u001b[38;5;241m*\u001b[39m\u001b[38;5;241m*\u001b[39mone_turn_kwargs)\n\u001b[1;32m    375\u001b[0m         \u001b[38;5;66;03m# particles.reorganize() # could be done in the future to optimize GPU usage\u001b[39;00m\n\u001b[1;32m    376\u001b[0m \u001b[38;5;28;01melse\u001b[39;00m:\n\u001b[0;32m--> 377\u001b[0m     out \u001b[38;5;241m=\u001b[39m \u001b[43mtracking_func\u001b[49m\u001b[43m(\u001b[49m\u001b[43mparticles\u001b[49m\u001b[43m,\u001b[49m\u001b[43m \u001b[49m\u001b[38;5;241;43m*\u001b[39;49m\u001b[43margs\u001b[49m\u001b[43m,\u001b[49m\u001b[43m \u001b[49m\u001b[38;5;241;43m*\u001b[39;49m\u001b[38;5;241;43m*\u001b[39;49m\u001b[43mkwargs\u001b[49m\u001b[43m)\u001b[49m\n\u001b[1;32m    379\u001b[0m \u001b[38;5;28;01mif\u001b[39;00m time:\n\u001b[1;32m    380\u001b[0m     t1 \u001b[38;5;241m=\u001b[39m perf_counter()\n",
      "File \u001b[0;32m/apps/pythondev/xtrack/xtrack/tracker.py:1227\u001b[0m, in \u001b[0;36mTracker._track_no_collective\u001b[0;34m(self, particles, ele_start, ele_stop, num_elements, num_turns, turn_by_turn_monitor, freeze_longitudinal, backtrack, log, _force_no_end_turn_actions, _reset_log)\u001b[0m\n\u001b[1;32m   1222\u001b[0m \u001b[38;5;28;01melse\u001b[39;00m:\n\u001b[1;32m   1223\u001b[0m     \u001b[38;5;66;03m# One monitor record for the initial turn, and num_middle_turns record for the middle turns\u001b[39;00m\n\u001b[1;32m   1224\u001b[0m     monitor_turns \u001b[38;5;241m=\u001b[39m num_middle_turns \u001b[38;5;241m+\u001b[39m \u001b[38;5;241m1\u001b[39m\n\u001b[1;32m   1226\u001b[0m (flag_monitor, monitor, buffer_monitor, offset_monitor\n\u001b[0;32m-> 1227\u001b[0m     ) \u001b[38;5;241m=\u001b[39m \u001b[38;5;28;43mself\u001b[39;49m\u001b[38;5;241;43m.\u001b[39;49m\u001b[43m_get_monitor\u001b[49m\u001b[43m(\u001b[49m\u001b[43mparticles\u001b[49m\u001b[43m,\u001b[49m\u001b[43m \u001b[49m\u001b[43mturn_by_turn_monitor\u001b[49m\u001b[43m,\u001b[49m\u001b[43m \u001b[49m\u001b[43mmonitor_turns\u001b[49m\u001b[43m)\u001b[49m\n\u001b[1;32m   1229\u001b[0m \u001b[38;5;28;01mif\u001b[39;00m \u001b[38;5;28mself\u001b[39m\u001b[38;5;241m.\u001b[39mline\u001b[38;5;241m.\u001b[39m_needs_rng \u001b[38;5;129;01mand\u001b[39;00m \u001b[38;5;129;01mnot\u001b[39;00m particles\u001b[38;5;241m.\u001b[39m_has_valid_rng_state():\n\u001b[1;32m   1230\u001b[0m     particles\u001b[38;5;241m.\u001b[39m_init_random_number_generator()\n",
      "File \u001b[0;32m/apps/pythondev/xtrack/xtrack/tracker.py:1320\u001b[0m, in \u001b[0;36mTracker._get_monitor\u001b[0;34m(self, particles, turn_by_turn_monitor, num_turns)\u001b[0m\n\u001b[1;32m   1317\u001b[0m     offset_monitor \u001b[38;5;241m=\u001b[39m monitor\u001b[38;5;241m.\u001b[39m_offset\n\u001b[1;32m   1318\u001b[0m \u001b[38;5;28;01melif\u001b[39;00m turn_by_turn_monitor \u001b[38;5;241m==\u001b[39m \u001b[38;5;124m'\u001b[39m\u001b[38;5;124mONE_TURN_EBE\u001b[39m\u001b[38;5;124m'\u001b[39m:\n\u001b[1;32m   1319\u001b[0m     (_, monitor, buffer_monitor, offset_monitor\n\u001b[0;32m-> 1320\u001b[0m         ) \u001b[38;5;241m=\u001b[39m \u001b[38;5;28;43mself\u001b[39;49m\u001b[38;5;241;43m.\u001b[39;49m\u001b[43m_get_monitor\u001b[49m\u001b[43m(\u001b[49m\u001b[43mparticles\u001b[49m\u001b[43m,\u001b[49m\u001b[43m \u001b[49m\u001b[43mturn_by_turn_monitor\u001b[49m\u001b[38;5;241;43m=\u001b[39;49m\u001b[38;5;28;43;01mTrue\u001b[39;49;00m\u001b[43m,\u001b[49m\n\u001b[1;32m   1321\u001b[0m \u001b[43m                              \u001b[49m\u001b[43mnum_turns\u001b[49m\u001b[38;5;241;43m=\u001b[39;49m\u001b[38;5;28;43mlen\u001b[39;49m\u001b[43m(\u001b[49m\u001b[38;5;28;43mself\u001b[39;49m\u001b[38;5;241;43m.\u001b[39;49m\u001b[43mline\u001b[49m\u001b[38;5;241;43m.\u001b[39;49m\u001b[43melement_names\u001b[49m\u001b[43m)\u001b[49m\u001b[38;5;241;43m+\u001b[39;49m\u001b[38;5;241;43m1\u001b[39;49m\u001b[43m)\u001b[49m\n\u001b[1;32m   1322\u001b[0m     monitor\u001b[38;5;241m.\u001b[39mebe_mode \u001b[38;5;241m=\u001b[39m \u001b[38;5;241m1\u001b[39m\n\u001b[1;32m   1323\u001b[0m     flag_monitor \u001b[38;5;241m=\u001b[39m \u001b[38;5;241m2\u001b[39m\n",
      "File \u001b[0;32m/apps/pythondev/xtrack/xtrack/tracker.py:1310\u001b[0m, in \u001b[0;36mTracker._get_monitor\u001b[0;34m(self, particles, turn_by_turn_monitor, num_turns)\u001b[0m\n\u001b[1;32m   1308\u001b[0m flag_monitor \u001b[38;5;241m=\u001b[39m \u001b[38;5;241m1\u001b[39m\n\u001b[1;32m   1309\u001b[0m \u001b[38;5;66;03m# TODO Assumes at_turn starts from zero, to be generalized\u001b[39;00m\n\u001b[0;32m-> 1310\u001b[0m monitor \u001b[38;5;241m=\u001b[39m \u001b[38;5;28;43mself\u001b[39;49m\u001b[38;5;241;43m.\u001b[39;49m\u001b[43mparticles_monitor_class\u001b[49m\u001b[43m(\u001b[49m\n\u001b[1;32m   1311\u001b[0m \u001b[43m    \u001b[49m\u001b[43m_context\u001b[49m\u001b[38;5;241;43m=\u001b[39;49m\u001b[43mparticles\u001b[49m\u001b[38;5;241;43m.\u001b[39;49m\u001b[43m_buffer\u001b[49m\u001b[38;5;241;43m.\u001b[39;49m\u001b[43mcontext\u001b[49m\u001b[43m,\u001b[49m\n\u001b[1;32m   1312\u001b[0m \u001b[43m    \u001b[49m\u001b[43mstart_at_turn\u001b[49m\u001b[38;5;241;43m=\u001b[39;49m\u001b[38;5;241;43m0\u001b[39;49m\u001b[43m,\u001b[49m\n\u001b[1;32m   1313\u001b[0m \u001b[43m    \u001b[49m\u001b[43mstop_at_turn\u001b[49m\u001b[38;5;241;43m=\u001b[39;49m\u001b[43mnum_turns\u001b[49m\u001b[43m,\u001b[49m\n\u001b[1;32m   1314\u001b[0m \u001b[43m    \u001b[49m\u001b[43mparticle_id_range\u001b[49m\u001b[38;5;241;43m=\u001b[39;49m\u001b[43mparticles\u001b[49m\u001b[38;5;241;43m.\u001b[39;49m\u001b[43mget_active_particle_id_range\u001b[49m\u001b[43m(\u001b[49m\u001b[43m)\u001b[49m\n\u001b[1;32m   1315\u001b[0m \u001b[43m\u001b[49m\u001b[43m)\u001b[49m\n\u001b[1;32m   1316\u001b[0m buffer_monitor \u001b[38;5;241m=\u001b[39m monitor\u001b[38;5;241m.\u001b[39m_buffer\u001b[38;5;241m.\u001b[39mbuffer\n\u001b[1;32m   1317\u001b[0m offset_monitor \u001b[38;5;241m=\u001b[39m monitor\u001b[38;5;241m.\u001b[39m_offset\n",
      "File \u001b[0;32m/apps/pythondev/xtrack/xtrack/monitors/particles_monitor.py:102\u001b[0m, in \u001b[0;36m_monitor_init\u001b[0;34m(self, _context, _buffer, _offset, _xobject, start_at_turn, stop_at_turn, n_repetitions, repetition_period, num_particles, particle_id_range, auto_to_numpy)\u001b[0m\n\u001b[1;32m    100\u001b[0m \u001b[38;5;28;01mwith\u001b[39;00m \u001b[38;5;28mself\u001b[39m\u001b[38;5;241m.\u001b[39mdata\u001b[38;5;241m.\u001b[39m_bypass_linked_vars():\n\u001b[1;32m    101\u001b[0m     \u001b[38;5;28;01mfor\u001b[39;00m tt, nn \u001b[38;5;129;01min\u001b[39;00m \u001b[38;5;28mself\u001b[39m\u001b[38;5;241m.\u001b[39m_ParticlesClass\u001b[38;5;241m.\u001b[39mper_particle_vars:\n\u001b[0;32m--> 102\u001b[0m         \u001b[38;5;28;43mgetattr\u001b[39;49m\u001b[43m(\u001b[49m\u001b[38;5;28;43mself\u001b[39;49m\u001b[38;5;241;43m.\u001b[39;49m\u001b[43mdata\u001b[49m\u001b[43m,\u001b[49m\u001b[43m \u001b[49m\u001b[43mnn\u001b[49m\u001b[43m)\u001b[49m\u001b[43m[\u001b[49m\u001b[43m:\u001b[49m\u001b[43m]\u001b[49m \u001b[38;5;241m=\u001b[39m \u001b[38;5;241m0\u001b[39m\n",
      "File \u001b[0;32m/apps/pythondev/xobjects/xobjects/linkedarray.py:32\u001b[0m, in \u001b[0;36mBaseLinkedArray.__setitem__\u001b[0;34m(self, indx, val)\u001b[0m\n\u001b[1;32m     27\u001b[0m \u001b[38;5;28;01mdef\u001b[39;00m\u001b[38;5;250m \u001b[39m\u001b[38;5;21m__setitem__\u001b[39m(\u001b[38;5;28mself\u001b[39m, indx, val):\n\u001b[1;32m     28\u001b[0m     \u001b[38;5;28;01mif\u001b[39;00m \u001b[38;5;28mself\u001b[39m\u001b[38;5;241m.\u001b[39mmode \u001b[38;5;129;01mis\u001b[39;00m \u001b[38;5;28;01mNone\u001b[39;00m \u001b[38;5;129;01mor\u001b[39;00m (\n\u001b[1;32m     29\u001b[0m         \u001b[38;5;28mhasattr\u001b[39m(\u001b[38;5;28mself\u001b[39m\u001b[38;5;241m.\u001b[39mcontainer, \u001b[38;5;124m\"\u001b[39m\u001b[38;5;124m_flag_bypass_linked\u001b[39m\u001b[38;5;124m\"\u001b[39m)\n\u001b[1;32m     30\u001b[0m         \u001b[38;5;129;01mand\u001b[39;00m \u001b[38;5;28mself\u001b[39m\u001b[38;5;241m.\u001b[39mcontainer\u001b[38;5;241m.\u001b[39m_flag_bypass_linked\n\u001b[1;32m     31\u001b[0m     ):\n\u001b[0;32m---> 32\u001b[0m         \u001b[38;5;28;43mself\u001b[39;49m\u001b[38;5;241;43m.\u001b[39;49m\u001b[43m_basic_setitem\u001b[49m\u001b[43m(\u001b[49m\u001b[43mindx\u001b[49m\u001b[43m,\u001b[49m\u001b[43m \u001b[49m\u001b[43mval\u001b[49m\u001b[43m)\u001b[49m\n\u001b[1;32m     33\u001b[0m     \u001b[38;5;28;01melif\u001b[39;00m \u001b[38;5;28mself\u001b[39m\u001b[38;5;241m.\u001b[39mmode \u001b[38;5;241m==\u001b[39m \u001b[38;5;124m\"\u001b[39m\u001b[38;5;124msetitem_from_container\u001b[39m\u001b[38;5;124m\"\u001b[39m:\n\u001b[1;32m     34\u001b[0m         \u001b[38;5;28mgetattr\u001b[39m(\u001b[38;5;28mself\u001b[39m\u001b[38;5;241m.\u001b[39mcontainer, \u001b[38;5;28mself\u001b[39m\u001b[38;5;241m.\u001b[39mcontainer_setitem_name)(indx, val)\n",
      "File \u001b[0;32m/apps/pythondev/xobjects/xobjects/linkedarray.py:25\u001b[0m, in \u001b[0;36mBaseLinkedArray._basic_setitem\u001b[0;34m(self, indx, val)\u001b[0m\n\u001b[1;32m     24\u001b[0m \u001b[38;5;28;01mdef\u001b[39;00m\u001b[38;5;250m \u001b[39m\u001b[38;5;21m_basic_setitem\u001b[39m(\u001b[38;5;28mself\u001b[39m, indx, val):\n\u001b[0;32m---> 25\u001b[0m     \u001b[38;5;28;43msuper\u001b[39;49m\u001b[43m(\u001b[49m\u001b[43m)\u001b[49m\u001b[38;5;241;43m.\u001b[39;49m\u001b[38;5;21;43m__setitem__\u001b[39;49m\u001b[43m(\u001b[49m\u001b[43mindx\u001b[49m\u001b[43m,\u001b[49m\u001b[43m \u001b[49m\u001b[43mval\u001b[49m\u001b[43m)\u001b[49m\n",
      "\u001b[0;31mKeyboardInterrupt\u001b[0m: "
     ]
    }
   ],
   "source": [
    "final_res = {}\n",
    "prev_res = {}\n",
    "dead_idx = []\n",
    "\n",
    "line.discard_tracker()\n",
    "line.build_tracker(_context=xo.ContextCpu(omp_num_threads=26))\n",
    "\n",
    "line.scattering.enable()\n",
    "adt.activate()\n",
    "for turn in range(num_turns):\n",
    "    if turn%100==0:\n",
    "        print(f'Turn {turn}')\n",
    "    line.track(part, turn_by_turn_monitor='ONE_TURN_EBE')\n",
    "    res = line.record_last_track\n",
    "    ids = part.particle_id[part.state<=0]\n",
    "    if ids.size>0:\n",
    "        for idx in ids:\n",
    "            if idx not in dead_idx:\n",
    "                dead_idx.append(idx)\n",
    "                if turn not in final_res:\n",
    "                    final_res[turn] = {}\n",
    "                #this_idx = res.particle_id.index(idx)\n",
    "                this_idx = int(np.where(np.any(res.particle_id==idx, axis=1))[0][0])\n",
    "                final_res[turn][idx] = {\n",
    "                    'x': res.x[this_idx].copy(),\n",
    "                    'y': res.y[this_idx].copy()\n",
    "                }\n",
    "                if turn > 0:\n",
    "                    if turn-1 not in final_res:\n",
    "                        final_res[turn-1] = {}\n",
    "                    prev_idx = int(np.where(np.any(prev_res['pid']==idx, axis=1))[0][0])\n",
    "                    final_res[turn-1][idx] = {\n",
    "                        'x': prev_res['x'][prev_idx].copy(),\n",
    "                        'y': prev_res['y'][prev_idx].copy()\n",
    "                    }\n",
    "    prev_res = {\n",
    "        'x': res.x.copy(),\n",
    "        'y': res.y.copy(),\n",
    "        'pid': res.particle_id.copy()\n",
    "    }\n",
    "    del res\n",
    "adt.deactivate()\n",
    "line.scattering.disable()"
   ]
  },
  {
   "cell_type": "code",
   "execution_count": null,
   "metadata": {},
   "outputs": [],
   "source": [
    "line.track(part, turn_by_turn_monitor='ONE_TURN_EBE')\n",
    "res = line.record_last_track"
   ]
  },
  {
   "cell_type": "code",
   "execution_count": null,
   "metadata": {},
   "outputs": [
    {
     "data": {
      "text/plain": [
       "21604"
      ]
     },
     "execution_count": 40,
     "metadata": {},
     "output_type": "execute_result"
    }
   ],
   "source": [
    "len(res.x[0])"
   ]
  },
  {
   "cell_type": "code",
   "execution_count": null,
   "metadata": {},
   "outputs": [],
   "source": [
    "import pickle"
   ]
  },
  {
   "cell_type": "code",
   "execution_count": null,
   "metadata": {},
   "outputs": [],
   "source": [
    "with open('final_res.pkl', 'wb') as f:\n",
    "    pickle.dump(final_res, f)"
   ]
  },
  {
   "cell_type": "code",
   "execution_count": null,
   "metadata": {},
   "outputs": [
    {
     "data": {
      "text/plain": [
       "21604"
      ]
     },
     "execution_count": 28,
     "metadata": {},
     "output_type": "execute_result"
    }
   ],
   "source": [
    "len(line.get_table().s)"
   ]
  },
  {
   "cell_type": "code",
   "execution_count": null,
   "metadata": {},
   "outputs": [],
   "source": [
    "for turn in final_res:\n",
    "    if len(final_res[turn]) > 0:\n",
    "        for id in final_res[turn]:\n",
    "            if len(final_res[turn][id]['x']) != len(line.get_table().s):\n",
    "                print(f'Turn {turn}, id {id}, len x: {len(final_res[turn][id][\"x\"])}')"
   ]
  },
  {
   "cell_type": "code",
   "execution_count": null,
   "metadata": {},
   "outputs": [],
   "source": [
    "final_res['s'] = line.get_table().s"
   ]
  },
  {
   "cell_type": "code",
   "execution_count": null,
   "metadata": {},
   "outputs": [],
   "source": [
    "with open('final_res.pkl', 'rb') as f:\n",
    "    loaded = pickle.load(f)"
   ]
  },
  {
   "cell_type": "code",
   "execution_count": null,
   "metadata": {},
   "outputs": [],
   "source": []
  },
  {
   "cell_type": "code",
   "execution_count": null,
   "metadata": {},
   "outputs": [
    {
     "ename": "NameError",
     "evalue": "name 'res' is not defined",
     "output_type": "error",
     "traceback": [
      "\u001b[0;31m---------------------------------------------------------------------------\u001b[0m",
      "\u001b[0;31mNameError\u001b[0m                                 Traceback (most recent call last)",
      "Cell \u001b[0;32mIn[29], line 1\u001b[0m\n\u001b[0;32m----> 1\u001b[0m \u001b[43mres\u001b[49m\n",
      "\u001b[0;31mNameError\u001b[0m: name 'res' is not defined"
     ]
    }
   ],
   "source": [
    "res"
   ]
  }
 ],
 "metadata": {
  "kernelspec": {
   "display_name": "xcoll",
   "language": "python",
   "name": "python3"
  },
  "language_info": {
   "codemirror_mode": {
    "name": "ipython",
    "version": 3
   },
   "file_extension": ".py",
   "mimetype": "text/x-python",
   "name": "python",
   "nbconvert_exporter": "python",
   "pygments_lexer": "ipython3",
   "version": "3.11.11"
  }
 },
 "nbformat": 4,
 "nbformat_minor": 2
}
