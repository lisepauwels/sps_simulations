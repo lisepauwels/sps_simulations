{
 "cells": [
  {
   "cell_type": "code",
   "execution_count": 1,
   "metadata": {},
   "outputs": [],
   "source": [
    "import numpy as np\n",
    "import matplotlib.pyplot as plt\n",
    "%matplotlib tk"
   ]
  },
  {
   "cell_type": "code",
   "execution_count": 2,
   "metadata": {},
   "outputs": [],
   "source": [
    "# Inventing a reference trajectory that is straight, through a bend, and straight again\n",
    "bend_length = 3\n",
    "bend_angle = np.deg2rad(60.)\n",
    "side_angle = np.pi/2 - bend_angle\n",
    "bend_R = bend_length / bend_angle\n",
    "\n",
    "def bend_start():\n",
    "    return -bend_R*np.sin(bend_angle/2), bend_R*np.cos(bend_angle/2) - bend_R\n",
    "\n",
    "def reference_trajectory(s):\n",
    "    s1x, s1y = bend_start()\n",
    "    s2x, s2y = -s1x, s1y\n",
    "    if s < -bend_length/2:\n",
    "        # straight\n",
    "        return s1x + (s+bend_length/2)*np.cos(bend_angle/2), s1y + (s+bend_length/2)*np.sin(bend_angle/2)\n",
    "    elif s < bend_length/2:\n",
    "        # bend\n",
    "        return bend_R*np.sin(s/bend_R), bend_R*np.cos(s/bend_R) - bend_R\n",
    "    else:\n",
    "        # straight\n",
    "        return s2x + (s-bend_length/2)*np.cos(bend_angle/2), s2y - (s-bend_length/2)*np.sin(bend_angle/2)\n",
    "\n",
    "def reference_perp_angle(s):\n",
    "    if s < -bend_length/2:\n",
    "        return np.pi/2 + bend_angle/2\n",
    "    elif s < bend_length/2:\n",
    "        return np.pi/2 + bend_angle/2 - (s + bend_length/2)/bend_R\n",
    "    else:\n",
    "        return np.pi/2 - bend_angle/2\n",
    "        "
   ]
  },
  {
   "cell_type": "code",
   "execution_count": 3,
   "metadata": {},
   "outputs": [],
   "source": [
    "# Getting the closest distance to the aperture\n",
    "def find_perp_distance(s, aper):\n",
    "    sin_t = np.sin(reference_perp_angle(s))\n",
    "    cos_t = np.cos(reference_perp_angle(s))\n",
    "    sx, sy = reference_trajectory(s)\n",
    "    for p1, p2 in zip(aper[:-1], aper[1:]):\n",
    "        # SOLVE( [l*p1[0] + (1-l)*p2[0] == sx + u*np.cos(t), l*p1[1] + (1-l)*p2[1] == sy + u*np.sin(t)], [l,u] )\n",
    "        l = ((sy - p2[1])*cos_t - (sx - p2[0])*sin_t)/((p1[1] - p2[1])*cos_t - (p1[0] - p2[0])*sin_t)\n",
    "        if 0 <= l <= 1:\n",
    "            # Crossed the segment\n",
    "            u = (p1[1]*(p2[0] - sx) + p2[1]*sx - p2[0]*sy - p1[0]*(p2[1] - sy))/((p1[1] - p2[1])*cos_t - (p1[0] - p2[0])*sin_t)\n",
    "            return u"
   ]
  },
  {
   "cell_type": "code",
   "execution_count": 4,
   "metadata": {},
   "outputs": [],
   "source": [
    "# Create points for a dipole\n",
    "dipole_upper = np.array([[-1,0.2], [1,0.2], [1,1.2], [-1,1.2], [-1,0.2]])\n",
    "dipole_lower = np.array([[-1,-0.8], [1,-0.8], [1,-1.8], [-1,-1.8], [-1,-0.8]])\n",
    "\n",
    "# Create points for a quadrupole\n",
    "x_q, y_q = reference_trajectory(3)\n",
    "xu_q  = x_q + 0.5*np.cos(bend_angle)\n",
    "xl_q  = x_q - 0.5*np.cos(bend_angle)\n",
    "yu_q  = y_q + 0.5*np.sin(bend_angle)\n",
    "yl_q  = y_q - 0.5*np.sin(bend_angle)\n",
    "dx_q  = 2*np.cos(side_angle)\n",
    "dy_q  = 2*np.sin(side_angle)\n",
    "dlx_q = np.cos(bend_angle)\n",
    "dly_q = np.sin(bend_angle)\n",
    "quad_upper = np.array([[xu_q, yu_q], [xu_q+dx_q, yu_q-dy_q], [xu_q+dx_q+dlx_q, yu_q-dy_q+dly_q], [xu_q+dlx_q, yu_q+dly_q], [xu_q, yu_q]])\n",
    "quad_lower = np.array([[xl_q, yl_q], [xl_q+dx_q, yl_q-dy_q], [xl_q+dx_q-dlx_q, yl_q-dy_q-dly_q], [xl_q-dlx_q, yl_q-dly_q], [xl_q, yl_q]])"
   ]
  },
  {
   "cell_type": "code",
   "execution_count": 5,
   "metadata": {},
   "outputs": [],
   "source": [
    "# Create points for the aperture\n",
    "first_u = dipole_upper[0] + [(-3.5+bend_length/2)*np.cos(bend_angle/2), (-3.5+bend_length/2)*np.sin(bend_angle/2)]\n",
    "first_l = dipole_lower[0] + [(-3.5+bend_length/2)*np.cos(bend_angle/2), (-3.5+bend_length/2)*np.sin(bend_angle/2)]\n",
    "pipe_upper = np.array([first_u ,\n",
    "                       dipole_upper[0] + [-0.3,0], dipole_upper[1] + [0.3,0], dipole_upper[1] + [0.8,0],\n",
    "                       quad_upper[0] + [-0.3*np.sin(bend_angle), 0.3*np.cos(bend_angle)], quad_upper[1]\n",
    "                      ])\n",
    "pipe_lower = np.array([first_l,\n",
    "                       dipole_lower[0] + [-0.3,0], dipole_lower[1] + [0.3,0], dipole_lower[1] + [0.8,0],\n",
    "                       quad_lower[0] + [-0.3*np.sin(bend_angle), 0.3*np.cos(bend_angle)], quad_lower[1]\n",
    "                       ])"
   ]
  },
  {
   "cell_type": "code",
   "execution_count": 6,
   "metadata": {},
   "outputs": [
    {
     "data": {
      "text/plain": [
       "Text(0, 0.5, '$d_\\\\text{aper}$')"
      ]
     },
     "execution_count": 6,
     "metadata": {},
     "output_type": "execute_result"
    }
   ],
   "source": [
    "s = np.linspace(-3, 5, 100)\n",
    "fig, ax = plt.subplots(2, 1, figsize=(6.5, 9))\n",
    "\n",
    "ax[0].plot(*dipole_upper.T, c='tab:blue')\n",
    "ax[0].plot(*dipole_lower.T, c='tab:blue')\n",
    "ax[0].plot(*quad_upper.T, c='tab:blue')\n",
    "ax[0].plot(*quad_lower.T, c='tab:blue')\n",
    "ax[0].plot(*pipe_upper.T, c='k')\n",
    "ax[0].plot(*pipe_lower.T, c='k')\n",
    "ax[0].plot(*np.array([pipe_lower[1],pipe_upper[1]]).T, c='tab:gray', ls='--', lw=0.75)\n",
    "ax[0].plot(*np.array([pipe_lower[2],pipe_upper[2]]).T, c='tab:gray', ls='--', lw=0.75)\n",
    "ax[0].plot(*np.array([pipe_lower[4],pipe_upper[4]]).T, c='tab:gray', ls='--', lw=0.75)\n",
    "ax[0].set_aspect('equal', 'box')\n",
    "ax[0].set_xlabel('x')\n",
    "ax[0].set_ylabel('y')\n",
    "\n",
    "traj = np.array([reference_trajectory(ss) for ss in s])\n",
    "ax[0].plot(*traj.T, c='tab:green')\n",
    "bend_points = np.array([reference_trajectory(ss) for ss in [-bend_length/2, bend_length/2]])\n",
    "ax[0].scatter(*bend_points.T, c='tab:green')\n",
    "\n",
    "ax[1].plot(s, np.zeros(len(s)), c='tab:green')\n",
    "ax[1].scatter([-bend_length/2, bend_length/2], np.zeros(2), c='tab:green')\n",
    "aper_upper = np.array([find_perp_distance(ss, pipe_upper) for ss in s])\n",
    "aper_lower = np.array([find_perp_distance(ss, pipe_lower) for ss in s])\n",
    "ax[1].plot(s, aper_upper, c='k')\n",
    "ax[1].plot(s, aper_lower, c='k')\n",
    "ax[1].set_xlabel('s')\n",
    "ax[1].set_ylabel(r'$d_\\text{aper}$')"
   ]
  },
  {
   "cell_type": "code",
   "execution_count": null,
   "metadata": {},
   "outputs": [],
   "source": []
  }
 ],
 "metadata": {
  "kernelspec": {
   "display_name": "Python 3 (ipykernel)",
   "language": "python",
   "name": "python3"
  },
  "language_info": {
   "codemirror_mode": {
    "name": "ipython",
    "version": 3
   },
   "file_extension": ".py",
   "mimetype": "text/x-python",
   "name": "python",
   "nbconvert_exporter": "python",
   "pygments_lexer": "ipython3",
   "version": "3.11.8"
  }
 },
 "nbformat": 4,
 "nbformat_minor": 4
}
