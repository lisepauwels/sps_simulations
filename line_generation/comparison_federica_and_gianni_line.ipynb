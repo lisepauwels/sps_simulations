{
 "cells": [
  {
   "cell_type": "code",
   "execution_count": 1,
   "metadata": {},
   "outputs": [],
   "source": [
    "import apertls\n",
    "import matplotlib.pyplot as plt\n",
    "import numpy as np\n",
    "import xtrack as xt\n",
    "from pathlib import Path"
   ]
  },
  {
   "cell_type": "code",
   "execution_count": 9,
   "metadata": {},
   "outputs": [
    {
     "data": {
      "application/vnd.jupyter.widget-view+json": {
       "model_id": "99c36a5fd0014b449bfb1cac3c6df11e",
       "version_major": 2,
       "version_minor": 0
      },
      "text/plain": [
       "Loading line from dict:   0%|          | 0/16808 [00:00<?, ?it/s]"
      ]
     },
     "metadata": {},
     "output_type": "display_data"
    },
    {
     "name": "stdout",
     "output_type": "stream",
     "text": [
      "Done loading line from dict.           \n"
     ]
    },
    {
     "data": {
      "application/vnd.jupyter.widget-view+json": {
       "model_id": "aba8fb026f4d45d884455cb29c50466e",
       "version_major": 2,
       "version_minor": 0
      },
      "text/plain": [
       "Loading line from dict:   0%|          | 0/20921 [00:00<?, ?it/s]"
      ]
     },
     "metadata": {},
     "output_type": "display_data"
    },
    {
     "name": "stdout",
     "output_type": "stream",
     "text": [
      "Done loading line from dict.           \n"
     ]
    }
   ],
   "source": [
    "path_lines = Path('/Users/gebruiker/sps_simulations/injection_lines')\n",
    "line_gianni = xt.Line.from_json(Path(path_lines, 'sps_with_apertures_ldb_model.json.gz'))\n",
    "line_federica = xt.Line.from_json(Path(path_lines, 'federica_line_with_ap.json'))"
   ]
  },
  {
   "cell_type": "code",
   "execution_count": 12,
   "metadata": {},
   "outputs": [],
   "source": [
    "ap_calc_federica = apertls.ApertureCalculator(line_federica)"
   ]
  },
  {
   "cell_type": "code",
   "execution_count": 15,
   "metadata": {},
   "outputs": [],
   "source": [
    "x_ext_federica = ap_calc_federica.compute_x_extent()\n",
    "y_ext_federica = ap_calc_federica.compute_y_extent()"
   ]
  },
  {
   "cell_type": "code",
   "execution_count": 16,
   "metadata": {},
   "outputs": [
    {
     "name": "stdout",
     "output_type": "stream",
     "text": [
      "Compiling ContextCpu kernels...\n",
      "Done compiling ContextCpu kernels.\n"
     ]
    }
   ],
   "source": [
    "tt = line_gianni.get_aperture_table()"
   ]
  },
  {
   "cell_type": "code",
   "execution_count": 17,
   "metadata": {},
   "outputs": [
    {
     "data": {
      "text/plain": [
       "Table: 14451 rows, 10 cols\n",
       "name                          s    x_aper_low   x_aper_high x_aper_low_discrete ...\n",
       "begi.10010                    0       -0.0765        0.0755                 nan\n",
       "qf.10010                      0       -0.0765        0.0755                 nan\n",
       "drift_1..0                3.085       -0.0765        0.0755                 nan\n",
       "veqf.10010.b_aper          3.25       -0.0765        0.0755             -0.0765\n",
       "drift_1..1                 3.25       -0.0765        0.0755                 nan\n",
       "veba.10030.a_aper         3.252       -0.0765        0.0755             -0.0765\n",
       "drift_1..2                3.252       -0.0765        0.0755                 nan\n",
       "mba.10030                 3.445       -0.0765        0.0755                 nan\n",
       "drift_2..0              9.70502       -0.0765        0.0755                 nan\n",
       "veba.10030.b_aper          9.91       -0.0765        0.0755             -0.0765\n",
       "...\n",
       "mdh.63607.b_aper       6911.11       -0.0765        0.0755             -0.0765\n",
       "drift_1905..1          6911.11       -0.0765        0.0755                 nan\n",
       "bph.63608.a_aper       6911.13       -0.0725        0.0725             -0.0725\n",
       "drift_1905..2          6911.13       -0.0725        0.0725                 nan\n",
       "bph.63608..0           6911.15       -0.0725        0.0725                 nan\n",
       "bph.63608.b_aper       6911.41       -0.0725        0.0725             -0.0725\n",
       "bph.63608..1           6911.41       -0.0725        0.0725                 nan\n",
       "drift_1906             6911.42       -0.0725        0.0725                 nan\n",
       "end.10010              6911.52       -0.0725        0.0725                 nan\n",
       "_end_point             6911.52       -0.0725        0.0725                 nan"
      ]
     },
     "execution_count": 17,
     "metadata": {},
     "output_type": "execute_result"
    }
   ],
   "source": [
    "tt"
   ]
  },
  {
   "cell_type": "code",
   "execution_count": null,
   "metadata": {},
   "outputs": [
    {
     "data": {
      "text/plain": [
       "array([-0.0765, -0.0765, -0.0765, ..., -0.0725, -0.0725, -0.0725],\n",
       "      shape=(14451,))"
      ]
     },
     "execution_count": 18,
     "metadata": {},
     "output_type": "execute_result"
    }
   ],
   "source": [
    "plt.figure()\n",
    "plt.scatter()"
   ]
  },
  {
   "cell_type": "code",
   "execution_count": 21,
   "metadata": {},
   "outputs": [
    {
     "data": {
      "application/vnd.jupyter.widget-view+json": {
       "model_id": "f52cc153141446c6a4b86bf2ed616a18",
       "version_major": 2,
       "version_minor": 0
      },
      "text/plain": [
       "Loading line from dict:   0%|          | 0/7477 [00:00<?, ?it/s]"
      ]
     },
     "metadata": {},
     "output_type": "display_data"
    },
    {
     "name": "stdout",
     "output_type": "stream",
     "text": [
      "Done loading line from dict.           \n"
     ]
    },
    {
     "name": "stderr",
     "output_type": "stream",
     "text": [
      "2025-04-07 15:29:17.618 python[86365:2260879] +[IMKClient subclass]: chose IMKClient_Modern\n",
      "2025-04-07 15:29:17.618 python[86365:2260879] +[IMKInputSession subclass]: chose IMKInputSession_Modern\n"
     ]
    }
   ],
   "source": [
    "line_thick = xt.Line.from_json(Path(path_lines, 'injection_thick_approx_ap.json'))\n",
    "%matplotlib tk\n",
    "plotter = apertls.InteractiveAperturePlotter(line_federica, line_thick)"
   ]
  },
  {
   "cell_type": "code",
   "execution_count": 23,
   "metadata": {},
   "outputs": [
    {
     "data": {
      "text/plain": [
       "[<matplotlib.lines.Line2D at 0x11ea3d810>]"
      ]
     },
     "execution_count": 23,
     "metadata": {},
     "output_type": "execute_result"
    }
   ],
   "source": [
    "plotter.ax_aperture_x.plot(tt['s'], tt['x_aper_low'], color='tab:blue')\n",
    "plotter.ax_aperture_x.plot(tt['s'], tt['x_aper_high'], color='tab:blue')\n",
    "plotter.ax_aperture_y.plot(tt['s'], tt['y_aper_low'], color='tab:blue')\n",
    "plotter.ax_aperture_y.plot(tt['s'], tt['y_aper_high'], color='tab:blue')"
   ]
  },
  {
   "cell_type": "code",
   "execution_count": null,
   "metadata": {},
   "outputs": [],
   "source": []
  }
 ],
 "metadata": {
  "kernelspec": {
   "display_name": "xsuite2",
   "language": "python",
   "name": "python3"
  },
  "language_info": {
   "codemirror_mode": {
    "name": "ipython",
    "version": 3
   },
   "file_extension": ".py",
   "mimetype": "text/x-python",
   "name": "python",
   "nbconvert_exporter": "python",
   "pygments_lexer": "ipython3",
   "version": "3.13.1"
  }
 },
 "nbformat": 4,
 "nbformat_minor": 2
}
