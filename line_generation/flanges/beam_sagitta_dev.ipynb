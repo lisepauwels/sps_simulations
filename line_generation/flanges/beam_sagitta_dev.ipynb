{
 "cells": [
  {
   "cell_type": "code",
   "execution_count": 1,
   "metadata": {},
   "outputs": [],
   "source": [
    "import xtrack as xt\n",
    "import numpy as np\n",
    "import matplotlib.pyplot as plt\n",
    "from pathlib import Path\n",
    "import apertls"
   ]
  },
  {
   "cell_type": "code",
   "execution_count": 8,
   "metadata": {},
   "outputs": [
    {
     "data": {
      "application/vnd.jupyter.widget-view+json": {
       "model_id": "57356dbdccb54b5698dffdfd4ad09407",
       "version_major": 2,
       "version_minor": 0
      },
      "text/plain": [
       "Loading line from dict:   0%|          | 0/17488 [00:00<?, ?it/s]"
      ]
     },
     "metadata": {},
     "output_type": "display_data"
    },
    {
     "name": "stdout",
     "output_type": "stream",
     "text": [
      "Done loading line from dict.           \n"
     ]
    },
    {
     "data": {
      "application/vnd.jupyter.widget-view+json": {
       "model_id": "b24f9797c16c407581c28a16d0780449",
       "version_major": 2,
       "version_minor": 0
      },
      "text/plain": [
       "Loading line from dict:   0%|          | 0/17781 [00:00<?, ?it/s]"
      ]
     },
     "metadata": {},
     "output_type": "display_data"
    },
    {
     "name": "stdout",
     "output_type": "stream",
     "text": [
      "Done loading line from dict.           \n"
     ]
    }
   ],
   "source": [
    "path_lines = Path('../../injection_lines')\n",
    "line = xt.Line.from_json(path_lines / 'sps_errors_with_aperture_inj_q20.json')\n",
    "#line = xt.Line.from_json(path_lines / 'injection_thin_approx_ap_with_deferred_expressions.json')\n",
    "#line = xt.Line.from_json(path_lines / 'sps_lhc_q20_rf_with_ap.json')\n",
    "\n",
    "tw_bef = line.twiss4d()\n",
    "#Set cavitiy voltages correctly\n",
    "line['acl.31735'].frequency = 800e6\n",
    "line['acl.31735'].voltage = 2 * 0.18e6\n",
    "line['acl.31735'].lag = 180\n",
    "\n",
    "line['actcse.31632'].frequency = 200e6\n",
    "line['actcse.31632'].voltage = 4.5e6\n",
    "line['actcse.31632'].lag = 180\n",
    "\n",
    "line_ref = xt.Line.from_json(path_lines / 'sps_with_aperture_inj_q20.json')\n",
    "tw_ref = line.twiss4d()\n",
    "\n",
    "for name in line.element_names:\n",
    "    cls = line[name].__class__.__name__\n",
    "    if cls.startswith('Multipole') or cls.startswith('Limit') or cls.startswith('ThinSliceQuadrupole') or cls.startswith('Quadrupole'):\n",
    "        #Dogleg in LSS5 for extraction\n",
    "        if 'qd.51710' in name:\n",
    "            line[name].shift_y = -5.273e-3\n",
    "        elif 'qfa.51810' in name:\n",
    "            line[name].shift_y = -17.369e-3\n",
    "        elif 'qd.51910' in name:\n",
    "            line[name].shift_y = -5.273e-3\n",
    "        #Dogleg in LSS1 for injection\n",
    "        elif 'qd.11710' in name:   #Hannes Thesis says qda.\n",
    "            line[name].shift_x = -4.80e-3\n",
    "        elif 'qf.11810' in name:   #Hannes Thesis says qfa.\n",
    "            line[name].shift_x = -2.97e-3\n",
    "        elif 'qda.11910' in name:\n",
    "            line[name].shift_x = -4.80e-3"
   ]
  },
  {
   "cell_type": "code",
   "execution_count": null,
   "metadata": {},
   "outputs": [
    {
     "name": "stderr",
     "output_type": "stream",
     "text": [
      "<>:9: SyntaxWarning: invalid escape sequence '\\.'\n",
      "<>:9: SyntaxWarning: invalid escape sequence '\\.'\n",
      "<>:14: SyntaxWarning: invalid escape sequence '\\.'\n",
      "<>:14: SyntaxWarning: invalid escape sequence '\\.'\n",
      "<>:9: SyntaxWarning: invalid escape sequence '\\.'\n",
      "<>:9: SyntaxWarning: invalid escape sequence '\\.'\n",
      "<>:14: SyntaxWarning: invalid escape sequence '\\.'\n",
      "<>:14: SyntaxWarning: invalid escape sequence '\\.'\n",
      "/var/folders/b5/swvf1qzj6l36gcd1zzs4_g8h0000gn/T/ipykernel_52775/1695815419.py:9: SyntaxWarning: invalid escape sequence '\\.'\n",
      "  tt_h_correctors = tt.rows['mdh\\..*'].rows['.*h\\..*']\n",
      "/var/folders/b5/swvf1qzj6l36gcd1zzs4_g8h0000gn/T/ipykernel_52775/1695815419.py:9: SyntaxWarning: invalid escape sequence '\\.'\n",
      "  tt_h_correctors = tt.rows['mdh\\..*'].rows['.*h\\..*']\n",
      "/var/folders/b5/swvf1qzj6l36gcd1zzs4_g8h0000gn/T/ipykernel_52775/1695815419.py:14: SyntaxWarning: invalid escape sequence '\\.'\n",
      "  tt_v_correctors = tt.rows['mdv\\..*'].rows['.*v\\..*']\n",
      "/var/folders/b5/swvf1qzj6l36gcd1zzs4_g8h0000gn/T/ipykernel_52775/1695815419.py:14: SyntaxWarning: invalid escape sequence '\\.'\n",
      "  tt_v_correctors = tt.rows['mdv\\..*'].rows['.*v\\..*']\n",
      "/var/folders/b5/swvf1qzj6l36gcd1zzs4_g8h0000gn/T/ipykernel_52775/1695815419.py:9: SyntaxWarning: invalid escape sequence '\\.'\n",
      "  tt_h_correctors = tt.rows['mdh\\..*'].rows['.*h\\..*']\n",
      "/var/folders/b5/swvf1qzj6l36gcd1zzs4_g8h0000gn/T/ipykernel_52775/1695815419.py:9: SyntaxWarning: invalid escape sequence '\\.'\n",
      "  tt_h_correctors = tt.rows['mdh\\..*'].rows['.*h\\..*']\n",
      "/var/folders/b5/swvf1qzj6l36gcd1zzs4_g8h0000gn/T/ipykernel_52775/1695815419.py:14: SyntaxWarning: invalid escape sequence '\\.'\n",
      "  tt_v_correctors = tt.rows['mdv\\..*'].rows['.*v\\..*']\n",
      "/var/folders/b5/swvf1qzj6l36gcd1zzs4_g8h0000gn/T/ipykernel_52775/1695815419.py:14: SyntaxWarning: invalid escape sequence '\\.'\n",
      "  tt_v_correctors = tt.rows['mdv\\..*'].rows['.*v\\..*']\n"
     ]
    },
    {
     "ename": "AssertionError",
     "evalue": "",
     "output_type": "error",
     "traceback": [
      "\u001b[31m---------------------------------------------------------------------------\u001b[39m",
      "\u001b[31mAssertionError\u001b[39m                            Traceback (most recent call last)",
      "\u001b[36mCell\u001b[39m\u001b[36m \u001b[39m\u001b[32mIn[12]\u001b[39m\u001b[32m, line 20\u001b[39m\n\u001b[32m     17\u001b[39m line.steering_correctors_y = tt_v_correctors.name[~mask_ap_v & mask_v2]\n\u001b[32m     18\u001b[39m \u001b[38;5;66;03m# line.steering_correctors_y = tt_v_correctors.name[~mask_ap_v]\u001b[39;00m\n\u001b[32m---> \u001b[39m\u001b[32m20\u001b[39m orbit_correction = \u001b[43mline\u001b[49m\u001b[43m.\u001b[49m\u001b[43mcorrect_trajectory\u001b[49m\u001b[43m(\u001b[49m\u001b[43mtwiss_table\u001b[49m\u001b[43m=\u001b[49m\u001b[43mtw_ref\u001b[49m\u001b[43m,\u001b[49m\u001b[43mn_micado\u001b[49m\u001b[43m=\u001b[49m\u001b[32;43m5\u001b[39;49m\u001b[43m,\u001b[49m\u001b[43m \u001b[49m\u001b[43mn_iter\u001b[49m\u001b[43m=\u001b[49m\u001b[32;43m10\u001b[39;49m\u001b[43m)\u001b[49m\n\u001b[32m     22\u001b[39m \u001b[38;5;66;03m#Plot orbits to verify\u001b[39;00m\n\u001b[32m     23\u001b[39m tw = line.twiss()\n",
      "\u001b[36mFile \u001b[39m\u001b[32m~/Xsuite/xtrack/xtrack/line.py:1721\u001b[39m, in \u001b[36mLine.correct_trajectory\u001b[39m\u001b[34m(self, run, n_iter, start, end, twiss_table, planes, monitor_names_x, corrector_names_x, monitor_names_y, corrector_names_y, n_micado, n_singular_values, rcond, monitor_alignment, corrector_limits_x, corrector_limits_y)\u001b[39m\n\u001b[32m   1648\u001b[39m \u001b[38;5;28;01mdef\u001b[39;00m\u001b[38;5;250m \u001b[39m\u001b[34mcorrect_trajectory\u001b[39m(\u001b[38;5;28mself\u001b[39m, run=\u001b[38;5;28;01mTrue\u001b[39;00m, n_iter=\u001b[33m'\u001b[39m\u001b[33mauto\u001b[39m\u001b[33m'\u001b[39m, start=\u001b[38;5;28;01mNone\u001b[39;00m, end=\u001b[38;5;28;01mNone\u001b[39;00m,\n\u001b[32m   1649\u001b[39m              twiss_table=\u001b[38;5;28;01mNone\u001b[39;00m, planes=\u001b[38;5;28;01mNone\u001b[39;00m,\n\u001b[32m   1650\u001b[39m              monitor_names_x=\u001b[38;5;28;01mNone\u001b[39;00m, corrector_names_x=\u001b[38;5;28;01mNone\u001b[39;00m,\n\u001b[32m   (...)\u001b[39m\u001b[32m   1653\u001b[39m              monitor_alignment=\u001b[38;5;28;01mNone\u001b[39;00m, corrector_limits_x=\u001b[38;5;28;01mNone\u001b[39;00m,\n\u001b[32m   1654\u001b[39m              corrector_limits_y=\u001b[38;5;28;01mNone\u001b[39;00m):\n\u001b[32m   1656\u001b[39m \u001b[38;5;250m    \u001b[39m\u001b[33;03m'''\u001b[39;00m\n\u001b[32m   1657\u001b[39m \u001b[33;03m    Correct the beam trajectory using linearized response matrix from optics\u001b[39;00m\n\u001b[32m   1658\u001b[39m \u001b[33;03m    table.\u001b[39;00m\n\u001b[32m   (...)\u001b[39m\u001b[32m   1718\u001b[39m \n\u001b[32m   1719\u001b[39m \u001b[33;03m    '''\u001b[39;00m\n\u001b[32m-> \u001b[39m\u001b[32m1721\u001b[39m     correction = \u001b[43mTrajectoryCorrection\u001b[49m\u001b[43m(\u001b[49m\u001b[43mline\u001b[49m\u001b[43m=\u001b[49m\u001b[38;5;28;43mself\u001b[39;49m\u001b[43m,\u001b[49m\n\u001b[32m   1722\u001b[39m \u001b[43m             \u001b[49m\u001b[43mstart\u001b[49m\u001b[43m=\u001b[49m\u001b[43mstart\u001b[49m\u001b[43m,\u001b[49m\u001b[43m \u001b[49m\u001b[43mend\u001b[49m\u001b[43m=\u001b[49m\u001b[43mend\u001b[49m\u001b[43m,\u001b[49m\u001b[43m \u001b[49m\u001b[43mtwiss_table\u001b[49m\u001b[43m=\u001b[49m\u001b[43mtwiss_table\u001b[49m\u001b[43m,\u001b[49m\n\u001b[32m   1723\u001b[39m \u001b[43m             \u001b[49m\u001b[43mmonitor_names_x\u001b[49m\u001b[43m=\u001b[49m\u001b[43mmonitor_names_x\u001b[49m\u001b[43m,\u001b[49m\n\u001b[32m   1724\u001b[39m \u001b[43m             \u001b[49m\u001b[43mcorrector_names_x\u001b[49m\u001b[43m=\u001b[49m\u001b[43mcorrector_names_x\u001b[49m\u001b[43m,\u001b[49m\n\u001b[32m   1725\u001b[39m \u001b[43m             \u001b[49m\u001b[43mmonitor_names_y\u001b[49m\u001b[43m=\u001b[49m\u001b[43mmonitor_names_y\u001b[49m\u001b[43m,\u001b[49m\n\u001b[32m   1726\u001b[39m \u001b[43m             \u001b[49m\u001b[43mcorrector_names_y\u001b[49m\u001b[43m=\u001b[49m\u001b[43mcorrector_names_y\u001b[49m\u001b[43m,\u001b[49m\n\u001b[32m   1727\u001b[39m \u001b[43m             \u001b[49m\u001b[43mn_micado\u001b[49m\u001b[43m=\u001b[49m\u001b[43mn_micado\u001b[49m\u001b[43m,\u001b[49m\u001b[43m \u001b[49m\u001b[43mn_singular_values\u001b[49m\u001b[43m=\u001b[49m\u001b[43mn_singular_values\u001b[49m\u001b[43m,\u001b[49m\n\u001b[32m   1728\u001b[39m \u001b[43m             \u001b[49m\u001b[43mrcond\u001b[49m\u001b[43m=\u001b[49m\u001b[43mrcond\u001b[49m\u001b[43m,\u001b[49m\n\u001b[32m   1729\u001b[39m \u001b[43m             \u001b[49m\u001b[43mmonitor_alignment\u001b[49m\u001b[43m=\u001b[49m\u001b[43mmonitor_alignment\u001b[49m\u001b[43m,\u001b[49m\n\u001b[32m   1730\u001b[39m \u001b[43m             \u001b[49m\u001b[43mcorrector_limits_x\u001b[49m\u001b[43m=\u001b[49m\u001b[43mcorrector_limits_x\u001b[49m\u001b[43m,\u001b[49m\n\u001b[32m   1731\u001b[39m \u001b[43m             \u001b[49m\u001b[43mcorrector_limits_y\u001b[49m\u001b[43m=\u001b[49m\u001b[43mcorrector_limits_y\u001b[49m\u001b[43m)\u001b[49m\n\u001b[32m   1733\u001b[39m     \u001b[38;5;28;01mif\u001b[39;00m run:\n\u001b[32m   1734\u001b[39m         correction.correct(planes=planes, n_iter=n_iter)\n",
      "\u001b[36mFile \u001b[39m\u001b[32m~/Xsuite/xtrack/xtrack/trajectory_correction.py:519\u001b[39m, in \u001b[36mTrajectoryCorrection.__init__\u001b[39m\u001b[34m(self, line, start, end, twiss_table, monitor_names_x, corrector_names_x, monitor_names_y, corrector_names_y, monitor_alignment, x_init, px_init, y_init, py_init, zeta_init, delta_init, n_micado, n_singular_values, rcond, corrector_limits_x, corrector_limits_y)\u001b[39m\n\u001b[32m    514\u001b[39m \u001b[38;5;28mself\u001b[39m.monitor_alignment = monitor_alignment\n\u001b[32m    516\u001b[39m \u001b[38;5;28;01mif\u001b[39;00m (monitor_names_x \u001b[38;5;129;01mis\u001b[39;00m \u001b[38;5;129;01mnot\u001b[39;00m \u001b[38;5;28;01mNone\u001b[39;00m \u001b[38;5;129;01mor\u001b[39;00m corrector_names_x \u001b[38;5;129;01mis\u001b[39;00m \u001b[38;5;129;01mnot\u001b[39;00m \u001b[38;5;28;01mNone\u001b[39;00m\n\u001b[32m    517\u001b[39m     \u001b[38;5;129;01mor\u001b[39;00m line.steering_correctors_x \u001b[38;5;129;01mis\u001b[39;00m \u001b[38;5;129;01mnot\u001b[39;00m \u001b[38;5;28;01mNone\u001b[39;00m\n\u001b[32m    518\u001b[39m     \u001b[38;5;129;01mor\u001b[39;00m line.steering_monitors_x \u001b[38;5;129;01mis\u001b[39;00m \u001b[38;5;129;01mnot\u001b[39;00m \u001b[38;5;28;01mNone\u001b[39;00m):\n\u001b[32m--> \u001b[39m\u001b[32m519\u001b[39m     \u001b[38;5;28mself\u001b[39m.x_correction = \u001b[43mOrbitCorrectionSinglePlane\u001b[49m\u001b[43m(\u001b[49m\n\u001b[32m    520\u001b[39m \u001b[43m        \u001b[49m\u001b[43mline\u001b[49m\u001b[43m=\u001b[49m\u001b[43mline\u001b[49m\u001b[43m,\u001b[49m\u001b[43m \u001b[49m\u001b[43mplane\u001b[49m\u001b[43m=\u001b[49m\u001b[33;43m'\u001b[39;49m\u001b[33;43mx\u001b[39;49m\u001b[33;43m'\u001b[39;49m\u001b[43m,\u001b[49m\u001b[43m \u001b[49m\u001b[43mmonitor_names\u001b[49m\u001b[43m=\u001b[49m\u001b[43mmonitor_names_x\u001b[49m\u001b[43m,\u001b[49m\n\u001b[32m    521\u001b[39m \u001b[43m        \u001b[49m\u001b[43mcorrector_names\u001b[49m\u001b[43m=\u001b[49m\u001b[43mcorrector_names_x\u001b[49m\u001b[43m,\u001b[49m\u001b[43m \u001b[49m\u001b[43mstart\u001b[49m\u001b[43m=\u001b[49m\u001b[43mstart\u001b[49m\u001b[43m,\u001b[49m\u001b[43m \u001b[49m\u001b[43mend\u001b[49m\u001b[43m=\u001b[49m\u001b[43mend\u001b[49m\u001b[43m,\u001b[49m\n\u001b[32m    522\u001b[39m \u001b[43m        \u001b[49m\u001b[43mtwiss_table\u001b[49m\u001b[43m=\u001b[49m\u001b[43mtwiss_table\u001b[49m\u001b[43m,\u001b[49m\u001b[43m \u001b[49m\u001b[43mn_micado\u001b[49m\u001b[43m=\u001b[49m\u001b[43mn_micado_x\u001b[49m\u001b[43m,\u001b[49m\n\u001b[32m    523\u001b[39m \u001b[43m        \u001b[49m\u001b[43mn_singular_values\u001b[49m\u001b[43m=\u001b[49m\u001b[43mn_singular_values_x\u001b[49m\u001b[43m,\u001b[49m\u001b[43m \u001b[49m\u001b[43mrcond\u001b[49m\u001b[43m=\u001b[49m\u001b[43mrcond_x\u001b[49m\u001b[43m,\u001b[49m\n\u001b[32m    524\u001b[39m \u001b[43m        \u001b[49m\u001b[43mcorrector_limits\u001b[49m\u001b[43m=\u001b[49m\u001b[43mcorrector_limits_x\u001b[49m\u001b[43m,\u001b[49m\n\u001b[32m    525\u001b[39m \u001b[43m        \u001b[49m\u001b[43mx_init\u001b[49m\u001b[43m=\u001b[49m\u001b[43mx_init\u001b[49m\u001b[43m,\u001b[49m\u001b[43m \u001b[49m\u001b[43mpx_init\u001b[49m\u001b[43m=\u001b[49m\u001b[43mpx_init\u001b[49m\u001b[43m,\u001b[49m\u001b[43m \u001b[49m\u001b[43my_init\u001b[49m\u001b[43m=\u001b[49m\u001b[43my_init\u001b[49m\u001b[43m,\u001b[49m\u001b[43m \u001b[49m\u001b[43mpy_init\u001b[49m\u001b[43m=\u001b[49m\u001b[43mpy_init\u001b[49m\u001b[43m,\u001b[49m\n\u001b[32m    526\u001b[39m \u001b[43m        \u001b[49m\u001b[43mzeta_init\u001b[49m\u001b[43m=\u001b[49m\u001b[43mzeta_init\u001b[49m\u001b[43m,\u001b[49m\u001b[43m \u001b[49m\u001b[43mdelta_init\u001b[49m\u001b[43m=\u001b[49m\u001b[43mdelta_init\u001b[49m\u001b[43m,\u001b[49m\n\u001b[32m    527\u001b[39m \u001b[43m        \u001b[49m\u001b[43mmonitor_alignment\u001b[49m\u001b[43m=\u001b[49m\u001b[43mmonitor_alignment\u001b[49m\u001b[43m)\u001b[49m\n\u001b[32m    528\u001b[39m \u001b[38;5;28;01melse\u001b[39;00m:\n\u001b[32m    529\u001b[39m     \u001b[38;5;28mself\u001b[39m.x_correction = \u001b[38;5;28;01mNone\u001b[39;00m\n",
      "\u001b[36mFile \u001b[39m\u001b[32m~/Xsuite/xtrack/xtrack/trajectory_correction.py:257\u001b[39m, in \u001b[36mOrbitCorrectionSinglePlane.__init__\u001b[39m\u001b[34m(self, line, plane, monitor_names, corrector_names, start, end, twiss_table, n_micado, n_singular_values, rcond, corrector_limits, x_init, px_init, y_init, py_init, zeta_init, delta_init, monitor_alignment)\u001b[39m\n\u001b[32m    254\u001b[39m             \u001b[38;5;28mself\u001b[39m.shift_y_monitors[i_monitor] = alignment.get(\u001b[33m'\u001b[39m\u001b[33mshift_y\u001b[39m\u001b[33m'\u001b[39m, \u001b[32m0\u001b[39m)\n\u001b[32m    255\u001b[39m             \u001b[38;5;28mself\u001b[39m.rot_s_rad_monitors[i_monitor] = alignment.get(\u001b[33m'\u001b[39m\u001b[33mrot_s_rad\u001b[39m\u001b[33m'\u001b[39m, \u001b[32m0\u001b[39m)\n\u001b[32m--> \u001b[39m\u001b[32m257\u001b[39m \u001b[38;5;28;43mself\u001b[39;49m\u001b[43m.\u001b[49m\u001b[43m_add_correction_knobs\u001b[49m\u001b[43m(\u001b[49m\u001b[43m)\u001b[49m\n",
      "\u001b[36mFile \u001b[39m\u001b[32m~/Xsuite/xtrack/xtrack/trajectory_correction.py:378\u001b[39m, in \u001b[36mOrbitCorrectionSinglePlane._add_correction_knobs\u001b[39m\u001b[34m(self)\u001b[39m\n\u001b[32m    376\u001b[39m \u001b[38;5;28;01mfor\u001b[39;00m nn_kick \u001b[38;5;129;01min\u001b[39;00m \u001b[38;5;28mself\u001b[39m.corrector_names:\n\u001b[32m    377\u001b[39m     corr_knob_name = \u001b[33mf\u001b[39m\u001b[33m'\u001b[39m\u001b[33morbit_corr_\u001b[39m\u001b[38;5;132;01m{\u001b[39;00mnn_kick\u001b[38;5;132;01m}\u001b[39;00m\u001b[33m_\u001b[39m\u001b[38;5;132;01m{\u001b[39;00m\u001b[38;5;28mself\u001b[39m.plane\u001b[38;5;132;01m}\u001b[39;00m\u001b[33m'\u001b[39m\n\u001b[32m--> \u001b[39m\u001b[32m378\u001b[39m     \u001b[38;5;28;01massert\u001b[39;00m \u001b[38;5;28mhasattr\u001b[39m(\u001b[38;5;28mself\u001b[39m.line[nn_kick], \u001b[33m'\u001b[39m\u001b[33mknl\u001b[39m\u001b[33m'\u001b[39m)\n\u001b[32m    379\u001b[39m     \u001b[38;5;28;01massert\u001b[39;00m \u001b[38;5;28mhasattr\u001b[39m(\u001b[38;5;28mself\u001b[39m.line[nn_kick], \u001b[33m'\u001b[39m\u001b[33mksl\u001b[39m\u001b[33m'\u001b[39m)\n\u001b[32m    381\u001b[39m     \u001b[38;5;28;01mif\u001b[39;00m corr_knob_name \u001b[38;5;129;01mnot\u001b[39;00m \u001b[38;5;129;01min\u001b[39;00m \u001b[38;5;28mself\u001b[39m.line.vars:\n",
      "\u001b[31mAssertionError\u001b[39m: "
     ]
    }
   ],
   "source": [
    "tt = line.get_table()\n",
    "tw = line.twiss()\n",
    "\n",
    "#Orbit correction\n",
    "tt_monitors = tt.rows['bp.*'].rows['.*(?<!_entry)$'].rows['.*(?<!_exit)$']\n",
    "line.steering_monitors_x = tt_monitors.name\n",
    "line.steering_monitors_y = tt_monitors.name\n",
    "\n",
    "tt_h_correctors = tt.rows['mdh\\..*'].rows['.*h\\..*']\n",
    "mask_ap_h = np.array([el.startswith('Limit') for el in tt_h_correctors.element_type])\n",
    "line.steering_correctors_x = tt_h_correctors.name[~mask_ap_h]\n",
    "\n",
    "tt_v_correctors = tt.rows['mdv\\..*'].rows['.*v\\..*']\n",
    "mask_ap_v = np.array([el.startswith('Limit') for el in tt_v_correctors.element_type])\n",
    "line.steering_correctors_y = tt_v_correctors.name[~mask_ap_v]\n",
    "# line.steering_correctors_y = tt_v_correctors.name[~mask_ap_v]\n",
    "\n",
    "orbit_correction = line.correct_trajectory(twiss_table=tw_ref,n_micado=5, n_iter=10)\n",
    "\n",
    "#Plot orbits to verify\n",
    "tw = line.twiss()\n",
    "fig, ax = plt.subplots(1,2, figsize=(10,4))\n",
    "ax[0].plot(tw.s, tw.x)\n",
    "ax[0].set_title('Closed orbit x after orbit correction')\n",
    "ax[0].grid()\n",
    "ax[1].plot(tw.s, tw.y)\n",
    "ax[1].set_title('Closed orbit y after orbit correction')\n",
    "ax[1].grid()"
   ]
  },
  {
   "cell_type": "code",
   "execution_count": 11,
   "metadata": {},
   "outputs": [
    {
     "data": {
      "text/plain": [
       "array(['mdh.10207_entry', 'mdh.10207..0', 'mdh.10207..1', 'mdh.10207..2',\n",
       "       'mdh.10207_exit', 'mdh.10407_entry', 'mdh.10407..0',\n",
       "       'mdh.10407..1', 'mdh.10407_exit', 'mdh.10607_entry',\n",
       "       'mdh.10607..0', 'mdh.10607..1', 'mdh.10607_exit',\n",
       "       'mdh.10807_entry', 'mdh.10807..0', 'mdh.10807..1',\n",
       "       'mdh.10807_exit', 'mdh.11007_entry', 'mdh.11007..0',\n",
       "       'mdh.11007..1', 'mdh.11007_exit', 'mdh.11207_entry',\n",
       "       'mdh.11207..0', 'mdh.11207..1', 'mdh.11207_exit',\n",
       "       'mdh.11407_entry', 'mdh.11407..0', 'mdh.11407..1',\n",
       "       'mdh.11407_exit', 'mdh.11607_entry', 'mdh.11607..0',\n",
       "       'mdh.11607..1', 'mdh.11607_exit', 'mdh.11820_entry',\n",
       "       'mdh.11820..0', 'mdh.11820..1', 'mdh.11820_exit',\n",
       "       'mdh.12007_entry', 'mdh.12007..0', 'mdh.12007..1',\n",
       "       'mdh.12007_exit', 'mdh.12207_entry', 'mdh.12207..0',\n",
       "       'mdh.12207..1', 'mdh.12207_exit', 'mdh.12407_entry',\n",
       "       'mdh.12407..0', 'mdh.12407..1', 'mdh.12407_exit',\n",
       "       'mdh.12607_entry', 'mdh.12607..0', 'mdh.12607..1',\n",
       "       'mdh.12607_exit', 'mdh.12807_entry', 'mdh.12807..0',\n",
       "       'mdh.12807..1', 'mdh.12807_exit', 'mdh.13007_entry',\n",
       "       'mdh.13007..0', 'mdh.13007..1', 'mdh.13007_exit',\n",
       "       'mdh.13207_entry', 'mdh.13207..0', 'mdh.13207..1',\n",
       "       'mdh.13207_exit', 'mdh.13407_entry', 'mdh.13407..0',\n",
       "       'mdh.13407..1', 'mdh.13407_exit', 'mdh.13607_entry',\n",
       "       'mdh.13607..0', 'mdh.13607..1', 'mdh.13607_exit',\n",
       "       'mdh.20207_entry', 'mdh.20207..0', 'mdh.20207..1',\n",
       "       'mdh.20207_exit', 'mdh.20407_entry', 'mdh.20407..0',\n",
       "       'mdh.20407..1', 'mdh.20407_exit', 'mdh.20607_entry',\n",
       "       'mdh.20607..0', 'mdh.20607..1', 'mdh.20607_exit',\n",
       "       'mdh.20807_entry', 'mdh.20807..0', 'mdh.20807..1',\n",
       "       'mdh.20807_exit', 'mdh.21007_entry', 'mdh.21007..0',\n",
       "       'mdh.21007..1', 'mdh.21007_exit', 'mdh.21207_entry',\n",
       "       'mdh.21207..0', 'mdh.21207..1', 'mdh.21207_exit',\n",
       "       'mdh.21407_entry', 'mdh.21407..0', 'mdh.21407..1',\n",
       "       'mdh.21407_exit', 'mdh.22007_entry', 'mdh.22007..0',\n",
       "       'mdh.22007..1', 'mdh.22007_exit', 'mdh.22207_entry',\n",
       "       'mdh.22207..0', 'mdh.22207..1', 'mdh.22207_exit',\n",
       "       'mdh.22407_entry', 'mdh.22407..0', 'mdh.22407..1',\n",
       "       'mdh.22407_exit', 'mdh.22607_entry', 'mdh.22607..0',\n",
       "       'mdh.22607..1', 'mdh.22607_exit', 'mdh.22807_entry',\n",
       "       'mdh.22807..0', 'mdh.22807..1', 'mdh.22807_exit',\n",
       "       'mdh.23007_entry', 'mdh.23007..0', 'mdh.23007..1',\n",
       "       'mdh.23007_exit', 'mdh.23207_entry', 'mdh.23207..0',\n",
       "       'mdh.23207..1', 'mdh.23207_exit', 'mdh.23407_entry',\n",
       "       'mdh.23407..0', 'mdh.23407..1', 'mdh.23407_exit',\n",
       "       'mdh.23607_entry', 'mdh.23607..0', 'mdh.23607..1',\n",
       "       'mdh.23607_exit', 'mdh.30207_entry', 'mdh.30207..0',\n",
       "       'mdh.30207..1', 'mdh.30207_exit', 'mdh.30407_entry',\n",
       "       'mdh.30407..0', 'mdh.30407..1', 'mdh.30407_exit',\n",
       "       'mdh.30607_entry', 'mdh.30607..0', 'mdh.30607..1',\n",
       "       'mdh.30607_exit', 'mdh.30807_entry', 'mdh.30807..0',\n",
       "       'mdh.30807..1', 'mdh.30807_exit', 'mdh.31007_entry',\n",
       "       'mdh.31007..0', 'mdh.31007..1', 'mdh.31007_exit',\n",
       "       'mdh.31207_entry', 'mdh.31207..0', 'mdh.31207..1',\n",
       "       'mdh.31207_exit', 'mdh.31407_entry', 'mdh.31407..0',\n",
       "       'mdh.31407..1', 'mdh.31407_exit', 'mdh.31607_entry',\n",
       "       'mdh.31607..0', 'mdh.31607..1', 'mdh.31607_exit',\n",
       "       'mdh.31807_entry', 'mdh.31807..0', 'mdh.31807..1',\n",
       "       'mdh.31807_exit', 'mdh.32007_entry', 'mdh.32007..0',\n",
       "       'mdh.32007..1', 'mdh.32007_exit', 'mdh.32207_entry',\n",
       "       'mdh.32207..0', 'mdh.32207..1', 'mdh.32207_exit',\n",
       "       'mdh.32407_entry', 'mdh.32407..0', 'mdh.32407..1',\n",
       "       'mdh.32407_exit', 'mdh.32607_entry', 'mdh.32607..0',\n",
       "       'mdh.32607..1', 'mdh.32607_exit', 'mdh.32807_entry',\n",
       "       'mdh.32807..0', 'mdh.32807..1', 'mdh.32807_exit',\n",
       "       'mdh.33007_entry', 'mdh.33007..0', 'mdh.33007..1',\n",
       "       'mdh.33007_exit', 'mdh.33207_entry', 'mdh.33207..0',\n",
       "       'mdh.33207..1', 'mdh.33207_exit', 'mdh.33407_entry',\n",
       "       'mdh.33407..0', 'mdh.33407..1', 'mdh.33407_exit',\n",
       "       'mdh.33607_entry', 'mdh.33607..0', 'mdh.33607..1',\n",
       "       'mdh.33607_exit', 'mdh.40207_entry', 'mdh.40207..0',\n",
       "       'mdh.40207..1', 'mdh.40207_exit', 'mdh.40407_entry',\n",
       "       'mdh.40407..0', 'mdh.40407..1', 'mdh.40407_exit',\n",
       "       'mdh.40607_entry', 'mdh.40607..0', 'mdh.40607..1',\n",
       "       'mdh.40607_exit', 'mdh.40807_entry', 'mdh.40807..0',\n",
       "       'mdh.40807..1', 'mdh.40807_exit', 'mdh.41007_entry',\n",
       "       'mdh.41007..0', 'mdh.41007..1', 'mdh.41007_exit',\n",
       "       'mdh.41207_entry', 'mdh.41207..0', 'mdh.41207..1',\n",
       "       'mdh.41207_exit', 'mdh.41407_entry', 'mdh.41407..0',\n",
       "       'mdh.41407..1', 'mdh.41407_exit', 'mdh.41607_entry',\n",
       "       'mdh.41607..0', 'mdh.41607..1', 'mdh.41607_exit',\n",
       "       'mdh.42007_entry', 'mdh.42007..0', 'mdh.42007..1',\n",
       "       'mdh.42007_exit', 'mdh.42207_entry', 'mdh.42207..0',\n",
       "       'mdh.42207..1', 'mdh.42207_exit', 'mdh.42407_entry',\n",
       "       'mdh.42407..0', 'mdh.42407..1', 'mdh.42407_exit',\n",
       "       'mdh.42607_entry', 'mdh.42607..0', 'mdh.42607..1',\n",
       "       'mdh.42607_exit', 'mdh.42807_entry', 'mdh.42807..0',\n",
       "       'mdh.42807..1', 'mdh.42807_exit', 'mdh.43007_entry',\n",
       "       'mdh.43007..0', 'mdh.43007..1', 'mdh.43007_exit',\n",
       "       'mdh.43207_entry', 'mdh.43207..0', 'mdh.43207..1',\n",
       "       'mdh.43207_exit', 'mdh.43407_entry', 'mdh.43407..0',\n",
       "       'mdh.43407..1', 'mdh.43407_exit', 'mdh.43607_entry',\n",
       "       'mdh.43607..0', 'mdh.43607..1', 'mdh.43607_exit',\n",
       "       'mdh.50207_entry', 'mdh.50207..0', 'mdh.50207..1',\n",
       "       'mdh.50207_exit', 'mdh.50407_entry', 'mdh.50407..0',\n",
       "       'mdh.50407..1', 'mdh.50407_exit', 'mdh.50607_entry',\n",
       "       'mdh.50607..0', 'mdh.50607..1', 'mdh.50607_exit',\n",
       "       'mdh.50807_entry', 'mdh.50807..0', 'mdh.50807..1',\n",
       "       'mdh.50807_exit', 'mdh.51007_entry', 'mdh.51007..0',\n",
       "       'mdh.51007..1', 'mdh.51007_exit', 'mdh.51207_entry',\n",
       "       'mdh.51207..0', 'mdh.51207..1', 'mdh.51207_exit',\n",
       "       'mdh.51407_entry', 'mdh.51407..0', 'mdh.51407..1',\n",
       "       'mdh.51407_exit', 'mdh.52007_entry', 'mdh.52007..0',\n",
       "       'mdh.52007..1', 'mdh.52007_exit', 'mdh.52207_entry',\n",
       "       'mdh.52207..0', 'mdh.52207..1', 'mdh.52207_exit',\n",
       "       'mdh.52407_entry', 'mdh.52407..0', 'mdh.52407..1',\n",
       "       'mdh.52407_exit', 'mdh.52607_entry', 'mdh.52607..0',\n",
       "       'mdh.52607..1', 'mdh.52607_exit', 'mdh.52807_entry',\n",
       "       'mdh.52807..0', 'mdh.52807..1', 'mdh.52807_exit',\n",
       "       'mdh.53007_entry', 'mdh.53007..0', 'mdh.53007..1',\n",
       "       'mdh.53007_exit', 'mdh.53207_entry', 'mdh.53207..0',\n",
       "       'mdh.53207..1', 'mdh.53207_exit', 'mdh.53407_entry',\n",
       "       'mdh.53407..0', 'mdh.53407..1', 'mdh.53407_exit',\n",
       "       'mdh.53607_entry', 'mdh.53607..0', 'mdh.53607..1',\n",
       "       'mdh.53607_exit', 'mdh.60207_entry', 'mdh.60207..0',\n",
       "       'mdh.60207..1', 'mdh.60207_exit', 'mdh.60407_entry',\n",
       "       'mdh.60407..0', 'mdh.60407..1', 'mdh.60407_exit',\n",
       "       'mdh.60607_entry', 'mdh.60607..0', 'mdh.60607..1',\n",
       "       'mdh.60607_exit', 'mdh.60807_entry', 'mdh.60807..0',\n",
       "       'mdh.60807..1', 'mdh.60807_exit', 'mdh.61007_entry',\n",
       "       'mdh.61007..0', 'mdh.61007..1', 'mdh.61007_exit',\n",
       "       'mdh.61207_entry', 'mdh.61207..0', 'mdh.61207..1',\n",
       "       'mdh.61207_exit', 'mdh.61407_entry', 'mdh.61407..0',\n",
       "       'mdh.61407..1', 'mdh.61407..2', 'mdh.61407_exit',\n",
       "       'mdh.61607_entry', 'mdh.61607..0', 'mdh.61607..1', 'mdh.61607..2',\n",
       "       'mdh.61607_exit', 'mdh.62007_entry', 'mdh.62007..0',\n",
       "       'mdh.62007..1', 'mdh.62007..2', 'mdh.62007_exit',\n",
       "       'mdh.62207_entry', 'mdh.62207..0', 'mdh.62207..1', 'mdh.62207..2',\n",
       "       'mdh.62207_exit', 'mdh.62407_entry', 'mdh.62407..0',\n",
       "       'mdh.62407..1', 'mdh.62407..2', 'mdh.62407_exit',\n",
       "       'mdh.62607_entry', 'mdh.62607..0', 'mdh.62607..1', 'mdh.62607..2',\n",
       "       'mdh.62607_exit', 'mdh.62807_entry', 'mdh.62807..0',\n",
       "       'mdh.62807..1', 'mdh.62807..2', 'mdh.62807_exit',\n",
       "       'mdh.63007_entry', 'mdh.63007..0', 'mdh.63007..1', 'mdh.63007..2',\n",
       "       'mdh.63007_exit', 'mdh.63207_entry', 'mdh.63207..0',\n",
       "       'mdh.63207..1', 'mdh.63207..2', 'mdh.63207_exit',\n",
       "       'mdh.63407_entry', 'mdh.63407..0', 'mdh.63407..1', 'mdh.63407..2',\n",
       "       'mdh.63407_exit', 'mdh.63607_entry', 'mdh.63607..0',\n",
       "       'mdh.63607..1', 'mdh.63607..2', 'mdh.63607_exit'], dtype=object)"
      ]
     },
     "execution_count": 11,
     "metadata": {},
     "output_type": "execute_result"
    }
   ],
   "source": [
    "tt_h_correctors.name[~mask_ap_h]"
   ]
  },
  {
   "cell_type": "code",
   "execution_count": 5,
   "metadata": {},
   "outputs": [
    {
     "data": {
      "text/plain": [
       "<xtrack.twissplot.TwissPlot object at 0x17f3add30>"
      ]
     },
     "execution_count": 5,
     "metadata": {},
     "output_type": "execute_result"
    },
    {
     "data": {
      "image/png": "[encoded data removed]",
      "text/plain": [
       "<Figure size 768x480 with 2 Axes>"
      ]
     },
     "metadata": {},
     "output_type": "display_data"
    }
   ],
   "source": [
    "tw.plot('x')"
   ]
  },
  {
   "cell_type": "code",
   "execution_count": 4,
   "metadata": {},
   "outputs": [],
   "source": [
    "try:\n",
    "    acos = np.acos\n",
    "except AttributeError:\n",
    "    acos = np.arccos\n",
    "\n",
    "def circle(radius, x_0, y_0, t):\n",
    "    x = x_0 + radius*np.cos(t)\n",
    "    y = y_0 + radius*np.sin(t)\n",
    "\n",
    "    return x, y\n",
    "\n",
    "def circle_vertical_coord(radius, x_0, y_0, x):\n",
    "    t = acos((x-x_0)/radius)\n",
    "    y = y_0 + radius*np.sin(t)\n",
    "\n",
    "    return y\n",
    "\n",
    "def straight_line(alpha, x_0, y_0, x):\n",
    "    return alpha*(x-x_0) + y_0\n",
    "\n",
    "def get_sagitta_effect_on_aperture(s, length, bending_radius, offset_middle_dipole, s_start_dipole = 0):\n",
    "    #center of the bending circle\n",
    "    s0 = s_start_dipole + length/2 \n",
    "    x0 = -(bending_radius-offset_middle_dipole)\n",
    "\n",
    "    #getting x position for that circle\n",
    "    x = circle_vertical_coord(bending_radius, s0, x0, s)\n",
    "\n",
    "    return x"
   ]
  },
  {
   "cell_type": "code",
   "execution_count": 5,
   "metadata": {},
   "outputs": [],
   "source": [
    "def make_sagitta_dipole_apertures(x_orbits, aper_element):\n",
    "    aperture_slices = []\n",
    "\n",
    "    for x_pos in x_orbits:\n",
    "        aper_pos = aper_element.copy()\n",
    "        #aper_pos = make_non_replica_element(aper_element)\n",
    "        aper_pos.shift_x = -x_pos\n",
    "        aperture_slices.append(aper_pos)\n",
    "\n",
    "    return np.array(aperture_slices)\n",
    "\n",
    "def generate_aperture_slices_names(name_element, nb_slices):\n",
    "    slices_names = []\n",
    "\n",
    "    for i in range(nb_slices):\n",
    "        slices_names.append(f'{name_element}..{i}_aper2')\n",
    "        #slices_names.append(f'{name_element}_aper..{i}')\n",
    "\n",
    "    return slices_names"
   ]
  },
  {
   "cell_type": "code",
   "execution_count": 6,
   "metadata": {},
   "outputs": [
    {
     "data": {
      "application/vnd.jupyter.widget-view+json": {
       "model_id": "987a446009724e8c9af6e96e1ba47042",
       "version_major": 2,
       "version_minor": 0
      },
      "text/plain": [
       "Slicing line:   0%|          | 0/15184 [00:00<?, ?it/s]"
      ]
     },
     "metadata": {},
     "output_type": "display_data"
    }
   ],
   "source": [
    "env = line.env\n",
    "\n",
    "nb_slices = 11\n",
    "\n",
    "#Defining bending radius\n",
    "R_mba = 1/line['mba.10030'].k0\n",
    "R_mbb = 1/line['mbb.10070'].k0\n",
    "assert R_mba == R_mbb\n",
    "bending_radius = 1/line['mba.10030'].k0\n",
    "\n",
    "#Defining magnetic length which is considered as the length of the magnet\n",
    "assert line['mba.10030'].length == line['mbb.10070'].length\n",
    "length = line['mba.10030'].length\n",
    "\n",
    "#Sagitta offsets (predefined)\n",
    "offset_end_dipole=4.4e-3\n",
    "offset_middle_dipole=2.2e-3\n",
    "\n",
    "#mba magnets\n",
    "names_mba = tt.rows['mba.*'].name\n",
    "positions_mba = tt.rows['mba.*'].s\n",
    "s_positions_generic_mba = np.linspace(0, length, nb_slices)\n",
    "x_orbits_mba = get_sagitta_effect_on_aperture(s_positions_generic_mba, length, bending_radius, offset_middle_dipole)\n",
    "dim_x_mba = 0.076\n",
    "dim_y_mba = 0.0193\n",
    "# mba_sagitta_apertures = [xt.LimitRect(min_x=-dim_x_mba, max_x=dim_x_mba, min_y=-dim_y_mba, max_y=dim_y_mba, shift_x=-x_orbits_mba[i], shift_y=0) for i in range(len(x_orbits_mba))]\n",
    "mba_sagitta_apertures = [xt.LimitRect(min_x=-dim_x_mba-x_orbits_mba[i], max_x=dim_x_mba-x_orbits_mba[i], min_y=-dim_y_mba, max_y=dim_y_mba) for i in range(len(x_orbits_mba))]\n",
    "\n",
    "#mbb magnets\n",
    "names_mbb = tt.rows['mbb.*'].name\n",
    "positions_mbb = tt.rows['mbb.*'].s\n",
    "s_positions_generic_mbb = np.linspace(0, length, nb_slices)\n",
    "x_orbits_mbb = get_sagitta_effect_on_aperture(s_positions_generic_mbb, length, bending_radius, offset_middle_dipole)\n",
    "dim_x_mbb = 0.0645\n",
    "dim_y_mbb = 0.0267\n",
    "# mbb_sagitta_apertures = [xt.LimitRect(min_x=-dim_x_mbb, max_x=dim_x_mbb, min_y=-dim_y_mbb, max_y=dim_y_mbb, shift_x=-x_orbits_mbb[i], shift_y=0) for i in range(len(x_orbits_mbb))]\n",
    "mbb_sagitta_apertures = [xt.LimitRect(min_x=-dim_x_mbb-x_orbits_mbb[i], max_x=dim_x_mbb-x_orbits_mbb[i], min_y=-dim_y_mbb, max_y=dim_y_mbb) for i in range(len(x_orbits_mbb))]\n",
    "\n",
    "insertions = []\n",
    "\n",
    "for i in range(len(names_mba)):\n",
    "    s_positions = np.linspace(positions_mba[i], positions_mba[i] + length, nb_slices)\n",
    "    aperture_slices_names = generate_aperture_slices_names(names_mba[i], nb_slices)\n",
    "\n",
    "    for nn, ee, ss in zip(aperture_slices_names, mba_sagitta_apertures, s_positions):\n",
    "        env.elements[nn] = ee.copy()\n",
    "        insertions.append(env.place(nn, at=ss))\n",
    "\n",
    "\n",
    "for i in range(len(names_mbb)):\n",
    "    s_positions = np.linspace(positions_mbb[i], positions_mbb[i] + length, nb_slices)\n",
    "    aperture_slices_names = generate_aperture_slices_names(names_mbb[i], nb_slices)\n",
    "\n",
    "    # for nn, ee, ss in zip(aperture_slices_names, mbb_sagitta_apertures, s_positions):\n",
    "    #     s_positions = np.linspace(positions_mbb[i], positions_mbb[i] + length, nb_slices)\n",
    "    #     aperture_slices_names = generate_aperture_slices_names(names_mbb[i], nb_slices)\n",
    "\n",
    "    for nn, ee, ss in zip(aperture_slices_names, mbb_sagitta_apertures, s_positions):\n",
    "        env.elements[nn] = ee.copy()\n",
    "        insertions.append(env.place(nn, at=ss))\n",
    "\n",
    "line.insert(insertions)"
   ]
  },
  {
   "cell_type": "code",
   "execution_count": 7,
   "metadata": {},
   "outputs": [],
   "source": [
    "def move_list_element_n_backwards(lst, elems, n):\n",
    "    for elem in elems:\n",
    "        idx = lst.index(elem)\n",
    "        if idx < n or idx >= len(lst):\n",
    "            raise IndexError(f'Index {idx} of element {elem} out of valid range for moving back {n} steps.')\n",
    "\n",
    "        elem_check = lst.pop(idx)\n",
    "        assert elem == elem_check\n",
    "        lst.insert(idx-n, elem)\n",
    "    return lst"
   ]
  },
  {
   "cell_type": "code",
   "execution_count": 8,
   "metadata": {},
   "outputs": [],
   "source": [
    "tt = line.get_table()\n",
    "line.discard_tracker()\n",
    "\n",
    "#remove replica apertures\n",
    "replica_apertures_mb_names= tt.rows['^mb[ab]\\\\.[^_]*_aper\\\\.\\\\.\\\\d+$'].name\n",
    "for name in replica_apertures_mb_names:\n",
    "    idx = line.element_names.index(name)\n",
    "    line.element_names.pop(idx)\n",
    "    del line.element_dict[name]\n",
    "\n",
    "#Move last aperture of each dipole before exit fringe map\n",
    "exit_mb_apertures = tt.rows['^mb[ab]\\\\..*\\\\.\\\\.10_aper2$'].name\n",
    "line.element_names = move_list_element_n_backwards(line.element_names, list(exit_mb_apertures), 2)"
   ]
  },
  {
   "cell_type": "code",
   "execution_count": null,
   "metadata": {},
   "outputs": [],
   "source": [
    "line.to_json('../../injection_lines/sps_errors_with_aperture_inj_q20_beam_sagitta.json')"
   ]
  },
  {
   "cell_type": "code",
   "execution_count": 9,
   "metadata": {},
   "outputs": [
    {
     "data": {
      "application/vnd.jupyter.widget-view+json": {
       "model_id": "8975ed90fa3a44feb65e7862e46a0f93",
       "version_major": 2,
       "version_minor": 0
      },
      "text/plain": [
       "Loading line from dict:   0%|          | 0/7477 [00:00<?, ?it/s]"
      ]
     },
     "metadata": {},
     "output_type": "display_data"
    },
    {
     "name": "stdout",
     "output_type": "stream",
     "text": [
      "Done loading line from dict.           \n"
     ]
    }
   ],
   "source": [
    "%matplotlib tk\n",
    "line_thick = xt.Line.from_json('../../injection_lines/injection_thick_approx_ap.json')\n",
    "plotter = apertls.InteractiveAperturePlotter(line, line_thick)"
   ]
  },
  {
   "cell_type": "code",
   "execution_count": 10,
   "metadata": {},
   "outputs": [],
   "source": [
    "tt = line.get_table()"
   ]
  },
  {
   "cell_type": "code",
   "execution_count": 11,
   "metadata": {},
   "outputs": [
    {
     "data": {
      "text/plain": [
       "Table: 11 rows, 11 cols\n",
       "name                            s element_type isthick isreplica parent_name iscollective ...\n",
       "mba.11030..0_aper2        323.422 LimitRect      False     False None               False\n",
       "mba.11030..1_aper2        324.048 LimitRect      False     False None               False\n",
       "mba.11030..2_aper2        324.674 LimitRect      False     False None               False\n",
       "mba.11030..3_aper2          325.3 LimitRect      False     False None               False\n",
       "mba.11030..4_aper2        325.926 LimitRect      False     False None               False\n",
       "mba.11030..5_aper2        326.552 LimitRect      False     False None               False\n",
       "mba.11030..6_aper2        327.178 LimitRect      False     False None               False\n",
       "mba.11030..7_aper2        327.804 LimitRect      False     False None               False\n",
       "mba.11030..8_aper2         328.43 LimitRect      False     False None               False\n",
       "mba.11030..9_aper2        329.056 LimitRect      False     False None               False\n",
       "mba.11030..10_aper2       329.682 LimitRect      False     False None               False"
      ]
     },
     "execution_count": 11,
     "metadata": {},
     "output_type": "execute_result"
    }
   ],
   "source": [
    "tt.rows['mba.11030.*_aper2']"
   ]
  },
  {
   "cell_type": "code",
   "execution_count": null,
   "metadata": {},
   "outputs": [],
   "source": []
  }
 ],
 "metadata": {
  "kernelspec": {
   "display_name": "xcoll",
   "language": "python",
   "name": "python3"
  },
  "language_info": {
   "codemirror_mode": {
    "name": "ipython",
    "version": 3
   },
   "file_extension": ".py",
   "mimetype": "text/x-python",
   "name": "python",
   "nbconvert_exporter": "python",
   "pygments_lexer": "ipython3",
   "version": "3.13.3"
  }
 },
 "nbformat": 4,
 "nbformat_minor": 2
}
