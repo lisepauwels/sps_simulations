{
 "cells": [
  {
   "cell_type": "code",
   "execution_count": 2,
   "metadata": {},
   "outputs": [],
   "source": [
    "import xtrack as xt\n",
    "import numpy as np\n",
    "import matplotlib.pyplot as plt\n",
    "import matplotlib.patches as patches\n",
    "from pathlib import Path\n",
    "import apertls"
   ]
  },
  {
   "cell_type": "markdown",
   "metadata": {},
   "source": [
    "**MBB**\n",
    "\\\n",
    "*rect aperture*:\n",
    "50.14 mm - 126.12 mm\n",
    "\\\n",
    "*circle*:\n",
    "103.00 mm\n",
    "\\\n",
    "**VCAK**\n",
    "*big circle*:\n",
    "103.00 mm\n",
    "\\\n",
    "*small circle*:\n",
    "43.00 mm\n",
    "\\\n",
    "*limit aperture*\n",
    "r = 41.5mm, displacement of center of 5.3mm to the left"
   ]
  },
  {
   "cell_type": "code",
   "execution_count": 4,
   "metadata": {},
   "outputs": [
    {
     "data": {
      "application/vnd.jupyter.widget-view+json": {
       "model_id": "2c3cc9d7dac04b1db53486a0b7625344",
       "version_major": 2,
       "version_minor": 0
      },
      "text/plain": [
       "Loading line from dict:   0%|          | 0/17781 [00:00<?, ?it/s]"
      ]
     },
     "metadata": {},
     "output_type": "display_data"
    },
    {
     "name": "stdout",
     "output_type": "stream",
     "text": [
      "Done loading line from dict.           \n"
     ]
    }
   ],
   "source": [
    "path_lines = Path('/Users/gebruiker/sps_simulations/injection_lines')\n",
    "line = xt.Line.from_json(Path(path_lines, 'sps_with_aperture_inj_q20.json'))"
   ]
  },
  {
   "cell_type": "code",
   "execution_count": null,
   "metadata": {},
   "outputs": [
    {
     "name": "stdout",
     "output_type": "stream",
     "text": [
      "Compiling ContextCpu kernels...\n"
     ]
    },
    {
     "name": "stderr",
     "output_type": "stream",
     "text": [
      "ld: warning: duplicate -rpath '/Users/gebruiker/miniforge3/envs/xsuite2/lib' ignored\n",
      "ld: warning: duplicate -rpath '/Users/gebruiker/miniforge3/envs/xsuite2/lib' ignored\n"
     ]
    },
    {
     "name": "stdout",
     "output_type": "stream",
     "text": [
      "Done compiling ContextCpu kernels.\n"
     ]
    }
   ],
   "source": [
    "tt = line.get_table()\n",
    "tt.rows['mbb.*']"
   ]
  },
  {
   "cell_type": "code",
   "execution_count": 16,
   "metadata": {},
   "outputs": [],
   "source": [
    "x_aper_vebb = 0.0645*2 #width of rectangular aperture\n",
    "x_aper_vebb_in = 92.5e-3 #radius\n",
    "x_aper_vebb_out = 79.82*2e-3 #radius\n",
    "x_aper_vebb_contour = 103*2e-3 #radius of output link with vcad\n",
    "x_aper_vcad = 0.083 #diameter\n",
    "x_aper_vcad_middle = 102e-3 #diameter of larger part bellow\n",
    "\n",
    "l_mec_mbb = 6.2\n",
    "l_magn_mbb = 6.260018602780449\n",
    "bending_radius = 1/0.0013490601351007177\n",
    "\n",
    "offset_middle_mbb = 2.2e-3\n",
    "offset_end_mbb = -4.4e-3\n",
    "offset_nom = -5.3e-3\n",
    "\n",
    "l_vebb = 6.6410\n",
    "l_vebb_in = 109e-3\n",
    "l_vebb_out = 119e-3\n",
    "l_vcad = 296e-3#1.422 #should be 296.6e-3? yes ...\n",
    "l_vcad1 = 21e-3\n",
    "l_vcad_middle = 70e-3\n",
    "l_vcad_tube = 179e-3\n",
    "l_vcad_link = 13e-3  \n"
   ]
  },
  {
   "cell_type": "code",
   "execution_count": 13,
   "metadata": {},
   "outputs": [],
   "source": [
    "def circle(radius, x_0, y_0, t):\n",
    "    x = x_0 + radius*np.cos(t)\n",
    "    y = y_0 + radius*np.sin(t)\n",
    "\n",
    "    return x, y\n",
    "\n",
    "def find_y_circle(radius, x_0, y_0, x):\n",
    "    t = np.acos((x-x_0)/radius)\n",
    "    y = y_0 + radius*np.sin(t)\n",
    "\n",
    "    return y\n",
    "\n",
    "def find_curvature_offset():\n",
    "    pass\n",
    "def find_y_sagitta_circle(radius, x_0, y_0, x):\n",
    "    return find_y_circle(radius, x_0, y_0, x) + find_curvature_offset()\n",
    "    \n",
    "def droite(alpha, x_0, y_0, x):\n",
    "    return alpha*(x-x_0) + y_0"
   ]
  },
  {
   "cell_type": "code",
   "execution_count": 17,
   "metadata": {},
   "outputs": [
    {
     "ename": "NameError",
     "evalue": "name 'tt' is not defined",
     "output_type": "error",
     "traceback": [
      "\u001b[0;31m---------------------------------------------------------------------------\u001b[0m",
      "\u001b[0;31mNameError\u001b[0m                                 Traceback (most recent call last)",
      "Cell \u001b[0;32mIn[17], line 1\u001b[0m\n\u001b[0;32m----> 1\u001b[0m nb_bends \u001b[38;5;241m=\u001b[39m \u001b[38;5;28mlen\u001b[39m(\u001b[43mtt\u001b[49m\u001b[38;5;241m.\u001b[39mrows[\u001b[38;5;124m'\u001b[39m\u001b[38;5;124mmb.*\u001b[39m\u001b[38;5;124m'\u001b[39m]\u001b[38;5;241m.\u001b[39mname)\n\u001b[1;32m      2\u001b[0m angle_per_bend \u001b[38;5;241m=\u001b[39m \u001b[38;5;241m2\u001b[39m\u001b[38;5;241m*\u001b[39mnp\u001b[38;5;241m.\u001b[39mpi\u001b[38;5;241m/\u001b[39mnb_bends\n\u001b[1;32m      3\u001b[0m s_end_mbb, x_end_mbb \u001b[38;5;241m=\u001b[39m circle(bending_radius, \u001b[38;5;241m0\u001b[39m, \u001b[38;5;241m0\u001b[39m, np\u001b[38;5;241m.\u001b[39mpi\u001b[38;5;241m/\u001b[39m\u001b[38;5;241m2\u001b[39m \u001b[38;5;241m-\u001b[39m angle_per_bend\u001b[38;5;241m/\u001b[39m\u001b[38;5;241m2\u001b[39m)\n",
      "\u001b[0;31mNameError\u001b[0m: name 'tt' is not defined"
     ]
    }
   ],
   "source": [
    "nb_bends = len(tt.rows['mb.*'].name)\n",
    "angle_per_bend = 2*np.pi/nb_bends\n",
    "s_end_mbb, x_end_mbb = circle(bending_radius, 0, 0, np.pi/2 - angle_per_bend/2)\n",
    "subtracted_circle_part = find_y_circle(1/0.0013490601351007177, 0,0, l_magn_mbb/2) - offset_end_mbb\n",
    "x_end_mbb -= subtracted_circle_part\n",
    "\n",
    "s_arr_mbb = np.linspace(-s_end_mbb, s_end_mbb, 100)\n",
    "circle_points = find_y_circle(bending_radius, 0, 0, s_arr_mbb) - subtracted_circle_part\n",
    "\n",
    "s_arr_vebb1 = np.linspace(-l_vebb/2, -s_end_mbb, 10)\n",
    "s_arr_vebb2 = np.linspace(s_end_mbb, l_vebb/2, 10)\n",
    "h = (s_arr_mbb[-1]-s_arr_mbb[0])/100\n",
    "der0 = (circle_points[1]-circle_points[0])/h\n",
    "\n",
    "s_arr_vcad = np.linspace(l_vebb/2, l_vebb/2 + l_vcad, 10)"
   ]
  },
  {
   "cell_type": "code",
   "execution_count": 18,
   "metadata": {},
   "outputs": [
    {
     "data": {
      "text/plain": [
       "[<matplotlib.lines.Line2D at 0x128f656d0>]"
      ]
     },
     "execution_count": 18,
     "metadata": {},
     "output_type": "execute_result"
    }
   ],
   "source": [
    "%matplotlib tk\n",
    "fig, ax = plt.subplots(1,1)\n",
    "\n",
    "#reference orbit in MBB with sagitta\n",
    "ax.plot(s_arr_mbb, circle_points, '--', color='black')\n",
    "ax.scatter([-s_end_mbb, s_end_mbb], [x_end_mbb, x_end_mbb], color='black')\n",
    "ax.plot(s_arr_vebb1, droite(der0, -s_end_mbb, x_end_mbb, s_arr_vebb1), '--', color='black')\n",
    "ax.plot(s_arr_vebb2, droite(-der0, s_end_mbb, x_end_mbb, s_arr_vebb2), '--', color='black')\n",
    "ax.plot(s_arr_vcad, droite(-der0, s_end_mbb, x_end_mbb, s_arr_vcad), '--', color='black')\n",
    "# ax.axis('equal')\n",
    "\n",
    "#MBB and VEBB patches\n",
    "mbb_up_patch = patches.Rectangle(xy=(-l_mec_mbb/2, x_aper_vebb/2), width=l_mec_mbb, height=0.2, color='red', alpha=0.7)\n",
    "mbb_down_patch = patches.Rectangle(xy=(-l_mec_mbb/2, -x_aper_vebb/2), width=l_mec_mbb, height=-0.2, color='red', alpha=0.7)\n",
    "vebb_patch = patches.Rectangle(xy=(-l_vebb/2, -x_aper_vebb/2), width=l_vebb, height=x_aper_vebb, color='green', alpha=0.3)\n",
    "vebb_patch_in = patches.Rectangle(xy=(-l_vebb/2 - l_vebb_in, -x_aper_vebb_in), width=l_vebb_in, height=2*x_aper_vebb_in, color='green', alpha=0.3)\n",
    "vebb_patch_out = patches.Rectangle(xy=(l_vebb/2, -x_aper_vebb_out), width=l_vebb_out, height=2*x_aper_vebb_out, color='green', alpha=0.3)\n",
    "vcad_patch_in = patches.Rectangle(xy=(l_vebb/2 + l_vebb_out, -x_aper_vcad/2), width=l_vcad_link + l_vcad1, height=x_aper_vcad, color='tab:blue', alpha=0.3)\n",
    "vcad_patch_middle = patches.Rectangle(xy=(l_vebb/2 + l_vebb_out + l_vcad_link + l_vcad1, -x_aper_vcad_middle/2 - np.abs(offset_nom)), width=l_vcad_middle, height=x_aper_vcad_middle, angle=angle_per_bend/2, color='tab:blue', alpha=0.3)\n",
    "vcad_patch_tube = patches.Rectangle(xy=(l_vebb/2 + l_vebb_out + l_vcad_link + l_vcad1 +l_vcad_middle, -x_aper_vcad/2 - np.abs(offset_nom)), width=l_vcad_tube, height=x_aper_vcad, angle=angle_per_bend/2, color='tab:blue', alpha=0.3)\n",
    "ax.add_patch(mbb_up_patch)\n",
    "ax.add_patch(mbb_down_patch)\n",
    "ax.add_patch(vebb_patch)\n",
    "ax.add_patch(vebb_patch_in)\n",
    "ax.add_patch(vebb_patch_out)\n",
    "ax.add_patch(vcad_patch_in)\n",
    "ax.add_patch(vcad_patch_middle)\n",
    "ax.add_patch(vcad_patch_tube)\n",
    "\n",
    "ax.plot(s_arr_vcad, droite(-der0, s_end_mbb, offset_end_mbb, s_arr_vcad), '--', color='tab:orange')\n",
    "# ax.hlines(offset_nom, l_vebb/2, l_vebb/2 + l_vcad, color='tab:orange', linestyles='--')"
   ]
  },
  {
   "cell_type": "code",
   "execution_count": null,
   "metadata": {},
   "outputs": [],
   "source": []
  }
 ],
 "metadata": {
  "kernelspec": {
   "display_name": "xsuite2",
   "language": "python",
   "name": "python3"
  },
  "language_info": {
   "codemirror_mode": {
    "name": "ipython",
    "version": 3
   },
   "file_extension": ".py",
   "mimetype": "text/x-python",
   "name": "python",
   "nbconvert_exporter": "python",
   "pygments_lexer": "ipython3",
   "version": "3.13.1"
  }
 },
 "nbformat": 4,
 "nbformat_minor": 2
}
