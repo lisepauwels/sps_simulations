{
 "cells": [
  {
   "cell_type": "code",
   "execution_count": 1,
   "id": "0e8cd5be",
   "metadata": {},
   "outputs": [],
   "source": [
    "import xtrack as xt\n",
    "import numpy as np\n",
    "import matplotlib.pyplot as plt\n",
    "from pathlib import Path\n",
    "import apertls"
   ]
  },
  {
   "cell_type": "code",
   "execution_count": 2,
   "id": "4dc1fd1d",
   "metadata": {},
   "outputs": [
    {
     "data": {
      "application/vnd.jupyter.widget-view+json": {
       "model_id": "c47aaaaf9ce345719ad40a22b1992ad6",
       "version_major": 2,
       "version_minor": 0
      },
      "text/plain": [
       "Loading line from dict:   0%|          | 0/36381 [00:00<?, ?it/s]"
      ]
     },
     "metadata": {},
     "output_type": "display_data"
    },
    {
     "name": "stdout",
     "output_type": "stream",
     "text": [
      "Done loading line from dict.           \n"
     ]
    }
   ],
   "source": [
    "line = xt.Line.from_json('../../injection_lines/sps_with_aperture_inj_q20_beam_sagitta.json')"
   ]
  },
  {
   "cell_type": "code",
   "execution_count": 3,
   "id": "e9136fff",
   "metadata": {},
   "outputs": [],
   "source": [
    "tt = line.get_table()"
   ]
  },
  {
   "cell_type": "code",
   "execution_count": 5,
   "id": "c4019bf9",
   "metadata": {},
   "outputs": [
    {
     "data": {
      "text/plain": [
       "Table: 62 rows, 11 cols\n",
       "name                          s element_type isthick isreplica parent_name iscollective ...\n",
       "vcak.10101.a_aper       29.8516 LimitEllipse   False     False None               False\n",
       "vcak.10101.b_aper       30.1487 LimitEllipse   False     False None               False\n",
       "vcak.11101.a_aper       349.828 LimitEllipse   False     False None               False\n",
       "vcak.11101.b_aper       350.687 LimitEllipse   False     False None               False\n",
       "vcak.11301.a_aper       413.824 LimitEllipse   False     False None               False\n",
       "vcak.11301.b_aper       414.121 LimitEllipse   False     False None               False\n",
       "vcak.12501.a_aper       797.796 LimitEllipse   False     False None               False\n",
       "vcak.12501.b_aper       798.655 LimitEllipse   False     False None               False\n",
       "vcak.13501.a_aper       1117.77 LimitEllipse   False     False None               False\n",
       "vcak.13501.b_aper       1118.63 LimitEllipse   False     False None               False\n",
       "...\n",
       "vcak.53501.a_aper       5725.44 LimitEllipse   False     False None               False\n",
       "vcak.53501.b_aper        5726.3 LimitEllipse   False     False None               False\n",
       "vcak.60101.a_aper       5789.44 LimitEllipse   False     False None               False\n",
       "vcak.60101.b_aper       5789.74 LimitEllipse   False     False None               False\n",
       "vcak.61101.a_aper       6109.41 LimitEllipse   False     False None               False\n",
       "vcak.61101.b_aper       6110.27 LimitEllipse   False     False None               False\n",
       "vcak.62501.a_aper       6557.38 LimitEllipse   False     False None               False\n",
       "vcak.62501.b_aper       6558.24 LimitEllipse   False     False None               False\n",
       "vcak.63501.a_aper       6877.36 LimitEllipse   False     False None               False\n",
       "vcak.63501.b_aper       6878.22 LimitEllipse   False     False None               False"
      ]
     },
     "execution_count": 5,
     "metadata": {},
     "output_type": "execute_result"
    }
   ],
   "source": [
    "tt.rows['vcak.*']"
   ]
  },
  {
   "cell_type": "code",
   "execution_count": 6,
   "id": "e2b09607",
   "metadata": {},
   "outputs": [
    {
     "data": {
      "text/plain": [
       "View of LimitEllipse(a=0.0415, b=0.0415)"
      ]
     },
     "execution_count": 6,
     "metadata": {},
     "output_type": "execute_result"
    }
   ],
   "source": [
    "line['vcak.10101.a_aper']"
   ]
  },
  {
   "cell_type": "code",
   "execution_count": 7,
   "id": "12eec982",
   "metadata": {},
   "outputs": [
    {
     "data": {
      "text/plain": [
       "0.29710000000000036"
      ]
     },
     "execution_count": 7,
     "metadata": {},
     "output_type": "execute_result"
    }
   ],
   "source": [
    "30.1487-29.8516"
   ]
  },
  {
   "cell_type": "code",
   "execution_count": 9,
   "id": "539ffcc3",
   "metadata": {},
   "outputs": [
    {
     "data": {
      "text/plain": [
       "346"
      ]
     },
     "execution_count": 9,
     "metadata": {},
     "output_type": "execute_result"
    }
   ],
   "source": [
    "line.element_names.index('vcak.10101.a_aper')"
   ]
  },
  {
   "cell_type": "code",
   "execution_count": 14,
   "id": "2a7b51ff",
   "metadata": {},
   "outputs": [
    {
     "data": {
      "text/plain": [
       "['mbb.10090..10_aper2',\n",
       " 'mbb.10090..10_aper2',\n",
       " 'mbb.10090..10_aper2',\n",
       " 'mbb.10090..10_aper2',\n",
       " 'mbb.10090..10_aper2',\n",
       " 'mbb.10090..10_aper2',\n",
       " 'mbb.10090..10_aper2',\n",
       " 'mbb.10090..10_aper2',\n",
       " 'drift_4..0',\n",
       " 'vebb.10090.b_aper',\n",
       " 'drift_4..1',\n",
       " 'vcak.10101.a_aper',\n",
       " 'drift_4..2',\n",
       " 'vcak.10101.b_aper',\n",
       " 'drift_4..3',\n",
       " 'vvsa.10103..0',\n",
       " 'vvsa.10103.a_aper',\n",
       " 'vvsa.10103..1',\n",
       " 'vvsa.10103.b_aper',\n",
       " 'vvsa.10103..2',\n",
       " 'drift_5..0',\n",
       " 'vcae.10103.a_aper',\n",
       " 'drift_5..1',\n",
       " 'vcae.10103.b_aper',\n",
       " 'drift_5..2',\n",
       " 'vtto.10105.a_aper',\n",
       " 'drift_5..3',\n",
       " 'lsd.10105',\n",
       " 'drift_6..0',\n",
       " 'vtto.10105.b_aper',\n",
       " 'drift_6..1',\n",
       " 'drift_mdv.10107..1..0',\n",
       " 'mdv.10107.a_aper',\n",
       " 'drift_mdv.10107..1..1',\n",
       " 'mdv.10107',\n",
       " 'drift_mdv.10107..2..0',\n",
       " 'mdv.10107.b_aper',\n",
       " 'drift_mdv.10107..2..1',\n",
       " 'drift_7',\n",
       " 'bpv.10108..0',\n",
       " 'bpv.10108.a_aper',\n",
       " 'bpv.10108..1',\n",
       " 'bpv.10108.b_aper',\n",
       " 'bpv.10108..2',\n",
       " 'drift_8..0',\n",
       " 'veqd.10110.a_aper',\n",
       " 'drift_8..1',\n",
       " 'qd.10110',\n",
       " 'drift_9..0',\n",
       " 'veqd.10110.b_aper']"
      ]
     },
     "execution_count": 14,
     "metadata": {},
     "output_type": "execute_result"
    }
   ],
   "source": [
    "line.element_names[335:385]"
   ]
  },
  {
   "cell_type": "code",
   "execution_count": 11,
   "id": "41ca5116",
   "metadata": {},
   "outputs": [
    {
     "data": {
      "text/plain": [
       "[np.float64(29.8504), np.float64(29.851599999999998)]"
      ]
     },
     "execution_count": 11,
     "metadata": {},
     "output_type": "execute_result"
    }
   ],
   "source": [
    "line.get_s_position(['vebb.10090.b_aper','vcak.10101.a_aper'])"
   ]
  },
  {
   "cell_type": "code",
   "execution_count": 4,
   "id": "f29b19fc",
   "metadata": {},
   "outputs": [],
   "source": [
    "env = line.env"
   ]
  },
  {
   "cell_type": "code",
   "execution_count": null,
   "id": "af8e8f54",
   "metadata": {},
   "outputs": [],
   "source": [
    "r_vcak_entry_tube = 43e-3-1.5e-3 #1.5 is thickness of tube wall, we want interior\n",
    "r_vcak_middle_tube = 60e-3-9e-3 #9 mm is thickness according to drawing\n",
    "r_vcak_out_tube = 43e-3-1.5e-3\n",
    "\n",
    "vcak_entry_tube = xt.LimitEllipse(a=r_vcak_entry_tube, b=r_vcak_entry_tube, shift_x=5.3e-3)\n",
    "vcak_middle_tube = xt.LimitEllipse(a=r_vcak_middle_tube, b=r_vcak_middle_tube)\n",
    "vcak_out_tube = xt.LimitEllipse(a=r_vcak_out_tube, b=r_vcak_out_tube)\n",
    "\n",
    "l_vcak_entry_tube = 13e-3+21e-3\n",
    "l_vcak_middle_tube = 70e-3\n",
    "l_vcak_out_tube"
   ]
  },
  {
   "cell_type": "code",
   "execution_count": 5,
   "id": "2b40055e",
   "metadata": {},
   "outputs": [
    {
     "data": {
      "text/plain": [
       "1130"
      ]
     },
     "execution_count": 5,
     "metadata": {},
     "output_type": "execute_result"
    }
   ],
   "source": [
    "line.element_names.index('qd.10310')"
   ]
  },
  {
   "cell_type": "code",
   "execution_count": 7,
   "id": "b13df3dc",
   "metadata": {},
   "outputs": [
    {
     "data": {
      "text/plain": [
       "View of LimitRect(min_x=-0.0645, max_x=0.0645, min_y=-0.0267, max_y=0.0267, _sin_rot_s=-999, _cos_rot_s=-999, _shift_x=0, _shift_y=0, _shift_s=0)"
      ]
     },
     "execution_count": 7,
     "metadata": {},
     "output_type": "execute_result"
    }
   ],
   "source": [
    "line['vebb.10290.b_aper']"
   ]
  },
  {
   "cell_type": "code",
   "execution_count": 9,
   "id": "75f02c28",
   "metadata": {},
   "outputs": [],
   "source": [
    "quad_elems, quad_names = line.get_elements_of_type(xt.Quadrupole)"
   ]
  },
  {
   "cell_type": "code",
   "execution_count": 12,
   "id": "7a0b9b8e",
   "metadata": {},
   "outputs": [
    {
     "name": "stdout",
     "output_type": "stream",
     "text": [
      "vebb.10090.b_aper\n",
      "View of LimitRect(min_x=-0.0645, max_x=0.0645, min_y=-0.0267, max_y=0.0267, _sin_rot_s=-999, _cos_rot_s=-999, _shift_x=0, _shift_y=0, _shift_s=0)\n",
      " \n",
      "vebb.10190.b_aper\n"
     ]
    },
    {
     "ename": "KeyError",
     "evalue": "'Name vebb.10190.b_aper not found'",
     "output_type": "error",
     "traceback": [
      "\u001b[31m---------------------------------------------------------------------------\u001b[39m",
      "\u001b[31mKeyError\u001b[39m                                  Traceback (most recent call last)",
      "\u001b[36mCell\u001b[39m\u001b[36m \u001b[39m\u001b[32mIn[12]\u001b[39m\u001b[32m, line 6\u001b[39m\n\u001b[32m      3\u001b[39m val_mbb = val_quad-\u001b[32m20\u001b[39m\n\u001b[32m      5\u001b[39m \u001b[38;5;28mprint\u001b[39m(\u001b[33mf\u001b[39m\u001b[33m'\u001b[39m\u001b[33mvebb.\u001b[39m\u001b[38;5;132;01m{\u001b[39;00mval_mbb\u001b[38;5;132;01m}\u001b[39;00m\u001b[33m.b_aper\u001b[39m\u001b[33m'\u001b[39m)\n\u001b[32m----> \u001b[39m\u001b[32m6\u001b[39m \u001b[38;5;28mprint\u001b[39m(\u001b[43mline\u001b[49m\u001b[43m[\u001b[49m\u001b[33;43mf\u001b[39;49m\u001b[33;43m'\u001b[39;49m\u001b[33;43mvebb.\u001b[39;49m\u001b[38;5;132;43;01m{\u001b[39;49;00m\u001b[43mval_mbb\u001b[49m\u001b[38;5;132;43;01m}\u001b[39;49;00m\u001b[33;43m.b_aper\u001b[39;49m\u001b[33;43m'\u001b[39;49m\u001b[43m]\u001b[49m)\n\u001b[32m      7\u001b[39m \u001b[38;5;28mprint\u001b[39m(\u001b[33m'\u001b[39m\u001b[33m \u001b[39m\u001b[33m'\u001b[39m)\n",
      "\u001b[36mFile \u001b[39m\u001b[32m~/miniforge3/envs/xsuite/lib/python3.13/site-packages/xtrack/line.py:4566\u001b[39m, in \u001b[36mLine.__getitem__\u001b[39m\u001b[34m(self, key)\u001b[39m\n\u001b[32m   4564\u001b[39m     \u001b[38;5;28;01mreturn\u001b[39;00m \u001b[38;5;28mself\u001b[39m[env_name]\n\u001b[32m   4565\u001b[39m \u001b[38;5;28;01melse\u001b[39;00m:\n\u001b[32m-> \u001b[39m\u001b[32m4566\u001b[39m     \u001b[38;5;28;01mraise\u001b[39;00m \u001b[38;5;167;01mKeyError\u001b[39;00m(\u001b[33mf\u001b[39m\u001b[33m'\u001b[39m\u001b[33mName \u001b[39m\u001b[38;5;132;01m{\u001b[39;00mkey\u001b[38;5;132;01m}\u001b[39;00m\u001b[33m not found\u001b[39m\u001b[33m'\u001b[39m)\n",
      "\u001b[31mKeyError\u001b[39m: 'Name vebb.10190.b_aper not found'"
     ]
    }
   ],
   "source": [
    "for name in quad_names[1:]:\n",
    "    val_quad = int(name.split('.')[1])\n",
    "    val_mbb = val_quad-20\n",
    "\n",
    "    print(f'vebb.{val_mbb}.b_aper')\n",
    "    print(line[f'vebb.{val_mbb}.b_aper'])\n",
    "    print(' ')"
   ]
  },
  {
   "cell_type": "code",
   "execution_count": 11,
   "id": "feb5c1de",
   "metadata": {},
   "outputs": [
    {
     "data": {
      "text/plain": [
       "10010"
      ]
     },
     "execution_count": 11,
     "metadata": {},
     "output_type": "execute_result"
    }
   ],
   "source": [
    "val_quad"
   ]
  },
  {
   "cell_type": "code",
   "execution_count": 19,
   "id": "9cd78124",
   "metadata": {},
   "outputs": [
    {
     "data": {
      "text/plain": [
       "View of LimitRect(min_x=-0.0645, max_x=0.0645, min_y=-0.0267, max_y=0.0267, _sin_rot_s=-999, _cos_rot_s=-999, _shift_x=0, _shift_y=0, _shift_s=0)"
      ]
     },
     "execution_count": 19,
     "metadata": {},
     "output_type": "execute_result"
    }
   ],
   "source": [
    "line['vebb.11490.b_aper']"
   ]
  },
  {
   "cell_type": "code",
   "execution_count": null,
   "id": "e7f65b8e",
   "metadata": {},
   "outputs": [],
   "source": []
  }
 ],
 "metadata": {
  "kernelspec": {
   "display_name": "xsuite",
   "language": "python",
   "name": "python3"
  },
  "language_info": {
   "codemirror_mode": {
    "name": "ipython",
    "version": 3
   },
   "file_extension": ".py",
   "mimetype": "text/x-python",
   "name": "python",
   "nbconvert_exporter": "python",
   "pygments_lexer": "ipython3",
   "version": "3.13.2"
  }
 },
 "nbformat": 4,
 "nbformat_minor": 5
}
