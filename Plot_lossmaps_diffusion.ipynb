{
 "cells": [
  {
   "cell_type": "code",
   "execution_count": 1,
   "metadata": {},
   "outputs": [
    {
     "name": "stdout",
     "output_type": "stream",
     "text": [
      "Warning: Packages pyspark or cern.nxcals are not installed. Data retrieval from NXCALS is not possible.\n",
      " If you are on SWAN and did not expect this warning, then restart and load the 'NXCals Pro' software stack.\n"
     ]
    }
   ],
   "source": [
    "import os\n",
    "import subprocess\n",
    "\n",
    "import numpy as np\n",
    "from pathlib import Path\n",
    "import lossmaps as lm\n",
    "import matplotlib.pyplot as plt"
   ]
  },
  {
   "cell_type": "code",
   "execution_count": 3,
   "metadata": {},
   "outputs": [],
   "source": [
    "path_dir = Path('/eos/user/l/lpauwels/ht_condor_sps_tracking_results/no_blowup_imperfections/run_25.02.2025')"
   ]
  },
  {
   "cell_type": "code",
   "execution_count": 11,
   "metadata": {},
   "outputs": [],
   "source": [
    "lm_dir = Path('/eos/user/l/lpauwels/ht_condor_sps_tracking_results/no_blowup_imperfections/lossmaps_diffusion')"
   ]
  },
  {
   "cell_type": "code",
   "execution_count": 6,
   "metadata": {},
   "outputs": [],
   "source": [
    "def get_lossmap_paths(path, file_name_base):\n",
    "\n",
    "    n_jobs = int(subprocess.check_output(f'find {path}/job* -maxdepth 0 -type d | wc -l', shell=True))\n",
    "    n_jobs_succeeded = int(subprocess.check_output(f'find {path}/job* -maxdepth 0 -type d -not -empty | wc -l', shell=True))\n",
    "    \n",
    "    job_files_list = []\n",
    "    for i in range(n_jobs):\n",
    "        current_file_path = (subprocess.check_output(f'echo {path}/job_{i}/{file_name_base}.json', shell=True)).decode('ascii').strip()\n",
    "        #current_file_path = (subprocess.check_output(f'echo {path}/job_{i}/{file_name_base}_{plane}.json', shell=True)).decode('ascii').strip()\n",
    "        \n",
    "        if os.path.exists(current_file_path):\n",
    "            job_files_list.append(current_file_path)\n",
    "        else:\n",
    "            print(f'Job {i} failed')\n",
    "    \n",
    "    print(f'{n_jobs_succeeded} out of a total of {n_jobs} succeeded')\n",
    "    if n_jobs_succeeded != len(job_files_list):\n",
    "        print('ERROR: not all succeeded jobs paths were retrieved')\n",
    "        \n",
    "    return job_files_list"
   ]
  },
  {
   "cell_type": "markdown",
   "metadata": {},
   "source": [
    "# Paths to subdirectories"
   ]
  },
  {
   "cell_type": "code",
   "execution_count": 16,
   "metadata": {},
   "outputs": [],
   "source": [
    "paths_subdirs = {\n",
    "    'ripple_errors': {\n",
    "        'xhsell' : Path(path_dir, 'ripple_errors/xshell'), \n",
    "        'lshell' : Path(path_dir, 'ripple_errors/lshell'),\n",
    "        'xlshell' : Path(path_dir, 'ripple_errors/xlshell')\n",
    "    },\n",
    "    'ripple': {\n",
    "        'xhsell' : Path(path_dir, 'ripple/xshell'), \n",
    "        'lshell' : Path(path_dir, 'ripple/lshell'),\n",
    "        'xlshell' : Path(path_dir, 'ripple/xlshell')\n",
    "    },\n",
    "    'errors' : {\n",
    "        'xhsell' : Path(path_dir, 'errors/xshell'), \n",
    "        'lshell' : Path(path_dir, 'errors/lshell'),\n",
    "        'xlshell' : Path(path_dir, 'errors/xlshell')\n",
    "    }\n",
    "}"
   ]
  },
  {
   "cell_type": "code",
   "execution_count": null,
   "metadata": {},
   "outputs": [
    {
     "name": "stdout",
     "output_type": "stream",
     "text": [
      "5000 out of a total of 5000 succeeded\n",
      "Job 2924 failed\n",
      "5000 out of a total of 5000 succeeded\n",
      "ERROR: not all succeeded jobs paths were retrieved\n",
      "5000 out of a total of 5000 succeeded\n",
      "5000 out of a total of 5000 succeeded\n",
      "5000 out of a total of 5000 succeeded\n",
      "Job 4719 failed\n",
      "4999 out of a total of 5000 succeeded\n",
      "5000 out of a total of 5000 succeeded\n",
      "5000 out of a total of 5000 succeeded\n",
      "5000 out of a total of 5000 succeeded\n"
     ]
    }
   ],
   "source": [
    "lms_paths = {\n",
    "    'ripple_errors': {\n",
    "        'xhsell' : get_lossmap_paths(paths_subdirs['ripple_errors']['xshell'], 'LM_ripple_errors_xshell'),\n",
    "        'lshell' : get_lossmap_paths(paths_subdirs['ripple_errors']['lshell'], 'LM_ripple_errors_lshell'),\n",
    "        'xlshell' : get_lossmap_paths(paths_subdirs['ripple_errors']['xlshell'], 'LM_ripple_errors_xlshell')\n",
    "    },\n",
    "    'ripple': {\n",
    "        'xhsell' : get_lossmap_paths(paths_subdirs['ripple']['xhsell'], 'LM_ripple_xshell'),\n",
    "        'lshell' : get_lossmap_paths(paths_subdirs['ripple']['lshell'], 'LM_ripple_lshell'),\n",
    "        'xlshell' : get_lossmap_paths(paths_subdirs['ripple']['xlshell'], 'LM_ripple_xlshell')\n",
    "    },\n",
    "    'errors' : {\n",
    "        'xhsell' : get_lossmap_paths(paths_subdirs['errors']['xhsell'], 'LM_errors_xshell'),\n",
    "        'lshell' : get_lossmap_paths(paths_subdirs['errors']['lshell'], 'LM_errors_lshell'),\n",
    "        'xlshell' : get_lossmap_paths(paths_subdirs['errors']['xlshell'], 'LM_errors_xlshell')\n",
    "    }\n",
    "}"
   ]
  },
  {
   "cell_type": "code",
   "execution_count": 21,
   "metadata": {},
   "outputs": [],
   "source": [
    "lms_paths['ripple_errors']['xshell'] = lms_paths['ripple_errors']['xhsell']"
   ]
  },
  {
   "cell_type": "markdown",
   "metadata": {},
   "source": [
    "# Ripple and errors"
   ]
  },
  {
   "cell_type": "code",
   "execution_count": 19,
   "metadata": {},
   "outputs": [],
   "source": [
    "sim_type = 'ripple_errors'"
   ]
  },
  {
   "cell_type": "markdown",
   "metadata": {},
   "source": [
    "## X shell"
   ]
  },
  {
   "cell_type": "code",
   "execution_count": 20,
   "metadata": {},
   "outputs": [
    {
     "ename": "KeyError",
     "evalue": "'xshell'",
     "output_type": "error",
     "traceback": [
      "\u001b[0;31m---------------------------------------------------------------------------\u001b[0m",
      "\u001b[0;31mKeyError\u001b[0m                                  Traceback (most recent call last)",
      "Cell \u001b[0;32mIn[20], line 3\u001b[0m\n\u001b[1;32m      1\u001b[0m shell \u001b[38;5;241m=\u001b[39m \u001b[38;5;124m'\u001b[39m\u001b[38;5;124mxshell\u001b[39m\u001b[38;5;124m'\u001b[39m\n\u001b[1;32m      2\u001b[0m ThisLM \u001b[38;5;241m=\u001b[39m lm\u001b[38;5;241m.\u001b[39mSimulatedLossMap(lmtype\u001b[38;5;241m=\u001b[39mlm\u001b[38;5;241m.\u001b[39mLMType\u001b[38;5;241m.\u001b[39mB1H, machine\u001b[38;5;241m=\u001b[39mlm\u001b[38;5;241m.\u001b[39mMachine\u001b[38;5;241m.\u001b[39mSPS)\n\u001b[0;32m----> 3\u001b[0m ThisLM\u001b[38;5;241m.\u001b[39mload_data_json(json_files\u001b[38;5;241m=\u001b[39m\u001b[43mlms_paths\u001b[49m\u001b[43m[\u001b[49m\u001b[43msim_type\u001b[49m\u001b[43m]\u001b[49m\u001b[43m[\u001b[49m\u001b[43mshell\u001b[49m\u001b[43m]\u001b[49m)\n\u001b[1;32m      4\u001b[0m fig \u001b[38;5;241m=\u001b[39m lm\u001b[38;5;241m.\u001b[39mplot_lossmap(ThisLM, xlim\u001b[38;5;241m=\u001b[39m(\u001b[38;5;241m0\u001b[39m,\u001b[38;5;241m7000\u001b[39m), show_zoom\u001b[38;5;241m=\u001b[39m\u001b[38;5;28;01mFalse\u001b[39;00m, ylim\u001b[38;5;241m=\u001b[39m[\u001b[38;5;241m0.0000001\u001b[39m,\u001b[38;5;241m1\u001b[39m], outfile\u001b[38;5;241m=\u001b[39m\u001b[38;5;124mf\u001b[39m\u001b[38;5;124m'\u001b[39m\u001b[38;5;124mlossmaps_diffusion/LM_\u001b[39m\u001b[38;5;132;01m{\u001b[39;00msim_type\u001b[38;5;132;01m}\u001b[39;00m\u001b[38;5;124m_\u001b[39m\u001b[38;5;132;01m{\u001b[39;00mshell\u001b[38;5;132;01m}\u001b[39;00m\u001b[38;5;124m.png\u001b[39m\u001b[38;5;124m'\u001b[39m)\n\u001b[1;32m      5\u001b[0m plt\u001b[38;5;241m.\u001b[39mshow()\n",
      "\u001b[0;31mKeyError\u001b[0m: 'xshell'"
     ]
    }
   ],
   "source": [
    "shell = 'xshell'\n",
    "ThisLM = lm.SimulatedLossMap(lmtype=lm.LMType.B1H, machine=lm.Machine.SPS)\n",
    "ThisLM.load_data_json(json_files=lms_paths[sim_type][shell])\n",
    "fig = lm.plot_lossmap(ThisLM, xlim=(0,7000), show_zoom=False, ylim=[0.0000001,1], outfile=f'lossmaps_diffusion/LM_{sim_type}_{shell}.png')\n",
    "plt.show()"
   ]
  },
  {
   "cell_type": "markdown",
   "metadata": {},
   "source": [
    "## L shell"
   ]
  },
  {
   "cell_type": "code",
   "execution_count": null,
   "metadata": {},
   "outputs": [],
   "source": [
    "shell = 'lshell'\n",
    "ThisLM = lm.SimulatedLossMap(lmtype=lm.LMType.B1H, machine=lm.Machine.SPS)\n",
    "ThisLM.load_data_json(json_files=lms_paths[sim_type][shell])\n",
    "fig = lm.plot_lossmap(ThisLM, xlim=(0,7000), show_zoom=False, ylim=[0.0000001,1], outfile=f'lossmaps_diffusion/LM_{sim_type}_{shell}.png')\n",
    "plt.show()"
   ]
  },
  {
   "cell_type": "markdown",
   "metadata": {},
   "source": [
    "## XL shell"
   ]
  },
  {
   "cell_type": "code",
   "execution_count": null,
   "metadata": {},
   "outputs": [],
   "source": [
    "shell = 'xlshell'\n",
    "ThisLM = lm.SimulatedLossMap(lmtype=lm.LMType.B1H, machine=lm.Machine.SPS)\n",
    "ThisLM.load_data_json(json_files=lms_paths[sim_type][shell])\n",
    "fig = lm.plot_lossmap(ThisLM, xlim=(0,7000), show_zoom=False, ylim=[0.0000001,1], outfile=f'lossmaps_diffusion/LM_{sim_type}_{shell}.png')\n",
    "plt.show()"
   ]
  },
  {
   "cell_type": "markdown",
   "metadata": {},
   "source": [
    "# Ripple"
   ]
  },
  {
   "cell_type": "code",
   "execution_count": null,
   "metadata": {},
   "outputs": [],
   "source": [
    "sim_type = 'ripple'"
   ]
  },
  {
   "cell_type": "markdown",
   "metadata": {},
   "source": [
    "## X shell"
   ]
  },
  {
   "cell_type": "code",
   "execution_count": null,
   "metadata": {},
   "outputs": [],
   "source": [
    "shell = 'xshell'\n",
    "ThisLM = lm.SimulatedLossMap(lmtype=lm.LMType.B1H, machine=lm.Machine.SPS)\n",
    "ThisLM.load_data_json(json_files=lms_paths[sim_type][shell])\n",
    "fig = lm.plot_lossmap(ThisLM, xlim=(0,7000), show_zoom=False, ylim=[0.0000001,1], outfile=f'lossmaps_diffusion/LM_{sim_type}_{shell}.png')\n",
    "plt.show()"
   ]
  },
  {
   "cell_type": "markdown",
   "metadata": {},
   "source": [
    "## L shell"
   ]
  },
  {
   "cell_type": "code",
   "execution_count": null,
   "metadata": {},
   "outputs": [],
   "source": [
    "shell = 'lshell'\n",
    "ThisLM = lm.SimulatedLossMap(lmtype=lm.LMType.B1H, machine=lm.Machine.SPS)\n",
    "ThisLM.load_data_json(json_files=lms_paths[sim_type][shell])\n",
    "fig = lm.plot_lossmap(ThisLM, xlim=(0,7000), show_zoom=False, ylim=[0.0000001,1], outfile=f'lossmaps_diffusion/LM_{sim_type}_{shell}.png')\n",
    "plt.show()"
   ]
  },
  {
   "cell_type": "markdown",
   "metadata": {},
   "source": [
    "## XL shell"
   ]
  },
  {
   "cell_type": "code",
   "execution_count": null,
   "metadata": {},
   "outputs": [],
   "source": [
    "shell = 'xlshell'\n",
    "ThisLM = lm.SimulatedLossMap(lmtype=lm.LMType.B1H, machine=lm.Machine.SPS)\n",
    "ThisLM.load_data_json(json_files=lms_paths[sim_type][shell])\n",
    "fig = lm.plot_lossmap(ThisLM, xlim=(0,7000), show_zoom=False, ylim=[0.0000001,1], outfile=f'lossmaps_diffusion/LM_{sim_type}_{shell}.png')\n",
    "plt.show()"
   ]
  },
  {
   "cell_type": "markdown",
   "metadata": {},
   "source": [
    "# Errors"
   ]
  },
  {
   "cell_type": "code",
   "execution_count": null,
   "metadata": {},
   "outputs": [],
   "source": [
    "sim_type = 'errors'"
   ]
  },
  {
   "cell_type": "markdown",
   "metadata": {},
   "source": [
    "## Xshell"
   ]
  },
  {
   "cell_type": "code",
   "execution_count": null,
   "metadata": {},
   "outputs": [],
   "source": [
    "shell = 'xshell'\n",
    "ThisLM = lm.SimulatedLossMap(lmtype=lm.LMType.B1H, machine=lm.Machine.SPS)\n",
    "ThisLM.load_data_json(json_files=lms_paths[sim_type][shell])\n",
    "fig = lm.plot_lossmap(ThisLM, xlim=(0,7000), show_zoom=False, ylim=[0.0000001,1], outfile=f'lossmaps_diffusion/LM_{sim_type}_{shell}.png')\n",
    "plt.show()"
   ]
  },
  {
   "cell_type": "markdown",
   "metadata": {},
   "source": [
    "## L shell"
   ]
  },
  {
   "cell_type": "code",
   "execution_count": null,
   "metadata": {},
   "outputs": [],
   "source": [
    "shell = 'lshell'\n",
    "ThisLM = lm.SimulatedLossMap(lmtype=lm.LMType.B1H, machine=lm.Machine.SPS)\n",
    "ThisLM.load_data_json(json_files=lms_paths[sim_type][shell])\n",
    "fig = lm.plot_lossmap(ThisLM, xlim=(0,7000), show_zoom=False, ylim=[0.0000001,1], outfile=f'lossmaps_diffusion/LM_{sim_type}_{shell}.png')\n",
    "plt.show()"
   ]
  },
  {
   "cell_type": "markdown",
   "metadata": {},
   "source": [
    "## XL shell"
   ]
  },
  {
   "cell_type": "code",
   "execution_count": null,
   "metadata": {},
   "outputs": [],
   "source": [
    "shell = 'xlshell'\n",
    "ThisLM = lm.SimulatedLossMap(lmtype=lm.LMType.B1H, machine=lm.Machine.SPS)\n",
    "ThisLM.load_data_json(json_files=lms_paths[sim_type][shell])\n",
    "fig = lm.plot_lossmap(ThisLM, xlim=(0,7000), show_zoom=False, ylim=[0.0000001,1], outfile=f'lossmaps_diffusion/LM_{sim_type}_{shell}.png')\n",
    "plt.show()"
   ]
  },
  {
   "cell_type": "markdown",
   "metadata": {},
   "source": []
  }
 ],
 "metadata": {
  "kernelspec": {
   "display_name": "xsuite_dev",
   "language": "python",
   "name": "python3"
  },
  "language_info": {
   "codemirror_mode": {
    "name": "ipython",
    "version": 3
   },
   "file_extension": ".py",
   "mimetype": "text/x-python",
   "name": "python",
   "nbconvert_exporter": "python",
   "pygments_lexer": "ipython3",
   "version": "3.11.10"
  }
 },
 "nbformat": 4,
 "nbformat_minor": 2
}
