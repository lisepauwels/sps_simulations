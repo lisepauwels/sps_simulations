{
 "cells": [
  {
   "cell_type": "code",
   "execution_count": 1,
   "id": "3331ddec",
   "metadata": {},
   "outputs": [],
   "source": [
    "import xtrack as xt\n",
    "import numpy as np\n",
    "import scipy.constants as sc\n",
    "import matplotlib.pyplot as plt\n",
    "import matplotlib.colors as mcolors\n",
    "import mplcursors\n",
    "# %matplotlib tk\n",
    "\n",
    "import matplotlib\n",
    "# prevent NoneType error for versions of matplotlib 3.1.0rc1+ by calling matplotlib.use()\n",
    "# For more on why it's nececessary, see\n",
    "# https://stackoverflow.com/questions/59656632/using-qt5agg-backend-with-matplotlib-3-1-2-get-backend-changes-behavior\n",
    "matplotlib.use('qt5agg')\n",
    "\n",
    "from matplotlib.backends.backend_qt5agg import FigureCanvasQTAgg as FigureCanvas\n",
    "from matplotlib.backends.backend_qt5agg import NavigationToolbar2QT as NavigationToolbar\n",
    "from PyQt5.QtWidgets import QMainWindow, QApplication, QWidget, QTabWidget, QVBoxLayout\n",
    "import matplotlib.pyplot as plt\n",
    "import sys\n",
    "\n",
    "class plotWindow():\n",
    "    def __init__(self, parent=None):\n",
    "        self.app = QApplication(sys.argv)\n",
    "        self.MainWindow = QMainWindow()\n",
    "        self.MainWindow.__init__()\n",
    "        self.MainWindow.setWindowTitle(\"plot window\")\n",
    "        self.canvases = []\n",
    "        self.figure_handles = []\n",
    "        self.toolbar_handles = []\n",
    "        self.tab_handles = []\n",
    "        self.current_window = -1\n",
    "        self.tabs = QTabWidget()\n",
    "        self.MainWindow.setCentralWidget(self.tabs)\n",
    "        self.MainWindow.resize(1280, 900)\n",
    "        self.MainWindow.show()\n",
    "\n",
    "    def addPlot(self, title, figure):\n",
    "        new_tab = QWidget()\n",
    "        layout = QVBoxLayout()\n",
    "        new_tab.setLayout(layout)\n",
    "\n",
    "        figure.subplots_adjust(left=0.05, right=0.99, bottom=0.05, top=0.91, wspace=0.2, hspace=0.2)\n",
    "        new_canvas = FigureCanvas(figure)\n",
    "        new_toolbar = NavigationToolbar(new_canvas, new_tab)\n",
    "\n",
    "        layout.addWidget(new_canvas)\n",
    "        layout.addWidget(new_toolbar)\n",
    "        self.tabs.addTab(new_tab, title)\n",
    "\n",
    "        self.toolbar_handles.append(new_toolbar)\n",
    "        self.canvases.append(new_canvas)\n",
    "        self.figure_handles.append(figure)\n",
    "        self.tab_handles.append(new_tab)\n",
    "\n",
    "    def show(self):\n",
    "        self.app.exec_()"
   ]
  },
  {
   "cell_type": "code",
   "execution_count": 2,
   "id": "5ba6ac6c",
   "metadata": {},
   "outputs": [
    {
     "data": {
      "application/vnd.jupyter.widget-view+json": {
       "model_id": "17ae1a2b6a2343db886ee8a7ce617d60",
       "version_major": 2,
       "version_minor": 0
      },
      "text/plain": [
       "Loading line from dict:   0%|          | 0/36381 [00:00<?, ?it/s]"
      ]
     },
     "metadata": {},
     "output_type": "display_data"
    },
    {
     "name": "stdout",
     "output_type": "stream",
     "text": [
      "Done loading line from dict.           \n"
     ]
    }
   ],
   "source": [
    "line = xt.Line.from_json('../injection_lines/sps_with_aperture_inj_q20_beam_sagitta3.json')\n",
    "line['qph_setvalue'] = 0.5\n",
    "line['qpv_setvalue'] = 0.5\n",
    "line_no_aper = xt.Line(elements=[], element_names=[])\n",
    "\n",
    "for ee, nn in zip(line.elements, line.element_names):\n",
    "    if xt.line._is_aperture(ee, line):\n",
    "        line_no_aper.append_element(xt.Marker(), nn)\n",
    "    else:\n",
    "        line_no_aper.append_element(ee, nn)\n",
    "        # We are missing the parents of the slices\n",
    "        if hasattr(ee, 'parent_name'):\n",
    "            # If the parent is not in the line, we add it\n",
    "            if ee.parent_name not in line_no_aper.element_dict:\n",
    "                line_no_aper.env.element_dict[ee.parent_name] = line.get(ee.parent_name)\n",
    "line_no_aper.particle_ref = line.particle_ref\n"
   ]
  },
  {
   "cell_type": "code",
   "execution_count": 3,
   "id": "b2803392",
   "metadata": {},
   "outputs": [
    {
     "name": "stdout",
     "output_type": "stream",
     "text": [
      "Compiling ContextCpu kernels...\n",
      "Done compiling ContextCpu kernels.\n",
      "Compiling ContextCpu kernels...\n",
      "Done compiling ContextCpu kernels.\n"
     ]
    }
   ],
   "source": [
    "# Calculate bucket height\n",
    "tw_ref = line.twiss()\n",
    "beta0 = line.particle_ref.beta0[0]\n",
    "E = line.particle_ref.energy0[0]\n",
    "q = line.particle_ref.q0\n",
    "f_RF = 200e6\n",
    "h = f_RF * line.get_length() / beta0 / sc.c\n",
    "eta = tw_ref.slip_factor\n",
    "\n",
    "V_RF = 3e6\n",
    "bucket_height_3MV = np.sqrt(2*q*V_RF / (np.pi*h*abs(eta)*E*beta0**2))\n",
    "\n",
    "V_RF = 4.5e6\n",
    "bucket_height_4_5MV = np.sqrt(2*q*V_RF / (np.pi*h*abs(eta)*E*beta0**2))"
   ]
  },
  {
   "cell_type": "code",
   "execution_count": 4,
   "id": "0439cbd2",
   "metadata": {},
   "outputs": [
    {
     "name": "stdout",
     "output_type": "stream",
     "text": [
      "Compiling ContextCpu kernels...\n",
      "Done compiling ContextCpu kernels.\n",
      "Compiling ContextCpu kernels...\n",
      "Done compiling ContextCpu kernels.\n"
     ]
    }
   ],
   "source": [
    "# Perform a bunch of twisses for different delta0\n",
    "tw = {}\n",
    "beam_sizes = {}\n",
    "nemitt = 2e-6\n",
    "for delta in np.linspace(-0.0075, 0.0075, 101):\n",
    "    this_delta = round(delta,6)\n",
    "    tw[this_delta] = line_no_aper.twiss(delta0=delta)\n",
    "    beam_sizes[this_delta] = tw[this_delta].get_beam_covariance(nemitt_x=nemitt, nemitt_y=nemitt)\n"
   ]
  },
  {
   "cell_type": "code",
   "execution_count": 5,
   "id": "bb4080f8",
   "metadata": {},
   "outputs": [],
   "source": [
    "def get_aper_x(ee):\n",
    "    if isinstance(ee, xt.LimitPolygon):\n",
    "        raise NotImplementedError\n",
    "    max_x = 100\n",
    "    min_x = -100\n",
    "    if hasattr(ee, 'max_x'):\n",
    "        max_x = ee.max_x\n",
    "    if hasattr(ee, 'min_x'):\n",
    "        min_x = ee.min_x\n",
    "    if hasattr(ee, 'a_squ'):\n",
    "        max_x = min(np.sqrt(ee.a_squ), max_x)\n",
    "        min_x = max(-np.sqrt(ee.a_squ), min_x)\n",
    "    if hasattr(ee, '_shift_x'):\n",
    "        max_x += ee._shift_x\n",
    "        min_x += ee._shift_x\n",
    "    return max_x, min_x\n",
    "\n",
    "def get_aper_y(ee):\n",
    "    if isinstance(ee, xt.LimitPolygon):\n",
    "        raise NotImplementedError\n",
    "    max_y = 100\n",
    "    min_y = -100\n",
    "    if hasattr(ee, 'max_y'):\n",
    "        max_y = ee.max_y\n",
    "    if hasattr(ee, 'min_y'):\n",
    "        min_y = ee.min_y\n",
    "    if hasattr(ee, 'b_squ'):\n",
    "        max_y = min(np.sqrt(ee.b_squ), max_y)\n",
    "        min_y = max(-np.sqrt(ee.b_squ), min_y)\n",
    "    if hasattr(ee, '_shift_y'):\n",
    "        max_y += ee._shift_y\n",
    "        min_y += ee._shift_y\n",
    "    return max_y, min_y"
   ]
  },
  {
   "cell_type": "code",
   "execution_count": 14,
   "id": "ab1b29b0",
   "metadata": {},
   "outputs": [],
   "source": [
    "tt = line.get_table()\n",
    "tt_aper = tt.rows[[ttt.startswith('Limit') for ttt in tt.element_type]].cols['name s']\n",
    "tt_aper.aper_max_x, tt_aper.aper_min_x = np.array([list(get_aper_x(line[nn]))  for nn in tt_aper.name]).T\n",
    "tt_aper.aper_max_y, tt_aper.aper_min_y = np.array([list(get_aper_y(line[nn]))  for nn in tt_aper.name]).T"
   ]
  },
  {
   "cell_type": "code",
   "execution_count": 8,
   "id": "ba659948",
   "metadata": {},
   "outputs": [],
   "source": [
    "n_limit = 20\n",
    "delta = np.array(list(tw.keys()))\n",
    "aper_L = np.array([(tt_aper.aper_max_x - tw[dd].rows[tt_aper.name].x) / beam_sizes[dd].rows[tt_aper.name].sigma_x for dd in delta]).T\n",
    "aper_R = np.array([(tt_aper.aper_min_x - tw[dd].rows[tt_aper.name].x) / beam_sizes[dd].rows[tt_aper.name].sigma_x for dd in delta]).T\n",
    "aper_L = aper_L[[np.any((aa < n_limit) & (aa > -n_limit)) for aa in aper_L]]\n",
    "aper_R = aper_R[[np.any((aa < n_limit) & (aa > -n_limit)) for aa in aper_R]]\n",
    "\n",
    "fig, ax = plt.subplots(figsize=(10, 6))\n",
    "\n",
    "figs = []\n",
    "\n",
    "# 1) Make a custom cyclic colormap: green → red → green\n",
    "cmap = mcolors.LinearSegmentedColormap.from_list(\n",
    "    \"green_red_cycle\",\n",
    "    [\"tab:green\", \"tab:red\", \"tab:green\"]\n",
    ")\n",
    "# 2) Normalize s so 0→7000 maps to 0→1\n",
    "norm = mcolors.Normalize(vmin=0, vmax=line.get_length())\n",
    "\n",
    "# plot left apertures\n",
    "for idx, data in enumerate(aper_L):\n",
    "    # grab the Line2D object\n",
    "    fig, = ax.plot(data, delta, color=cmap(norm(tt_aper.s[idx])), picker=5)\n",
    "    # stash the name on the fig’s \"label\" field\n",
    "    fig.set_label(f\"{tt_aper.name[idx]}  ({tt_aper.s[idx]}m)\")\n",
    "    figs.append(fig)\n",
    "\n",
    "# plot right apertures\n",
    "for idx, data in enumerate(aper_R):\n",
    "    fig, = ax.plot(data, delta, color=cmap(norm(tt_aper.s[idx])), picker=5)\n",
    "    fig.set_label(f\"{tt_aper.name[idx]}  ({tt_aper.s[idx]}m)\")\n",
    "    figs.append(fig)\n",
    "\n",
    "ax.set_xlim((-n_limit,n_limit))\n",
    "ax.hlines(-bucket_height_4_5MV, -n_limit, n_limit, color='gray', linestyle='--')\n",
    "ax.hlines(bucket_height_4_5MV, -n_limit, n_limit, color='gray', linestyle='--')\n",
    "ax.hlines(-2*bucket_height_4_5MV, -n_limit, n_limit, color='lightgray', linestyle='--')\n",
    "ax.hlines(2*bucket_height_4_5MV, -n_limit, n_limit, color='lightgray', linestyle='--')\n",
    "\n",
    "# now attach the hover‐tootip\n",
    "cursor = mplcursors.cursor(figs)\n",
    "@cursor.connect(\"add\")\n",
    "def _(sel):\n",
    "    sel.annotation.set_text(sel.artist.get_label())\n",
    "\n",
    "plt.show()"
   ]
  },
  {
   "cell_type": "code",
   "execution_count": null,
   "id": "ba0a8d52",
   "metadata": {},
   "outputs": [],
   "source": [
    "# for i in range(6):\n",
    "#     fig, ax = plt.subplots(figsize=(20, 5))\n",
    "#     delta = list(tw.keys())\n",
    "#     for dd in delta:\n",
    "#         if abs(dd) > 0.00375:\n",
    "#             ax.plot(tw[dd].s, tw[dd].x + np.sign(dd)*2*i*beam_sizes[dd].sigma_x, 'r-')\n",
    "#         else:\n",
    "#             ax.plot(tw[dd].s, tw[dd].x + np.sign(dd)*2*i*beam_sizes[dd].sigma_x, 'g-')\n",
    "#     line1, = ax.plot(tt_aper.s, tt_aper.aper_max_x, 'k-')\n",
    "#     line2, = ax.plot(tt_aper.s, tt_aper.aper_min_x, 'k-')\n",
    "#     ax.set_xlabel('s [m]')\n",
    "#     ax.set_ylabel('Aperture $x$ [m]')\n",
    "#     ax.set_title(f'Betatron {2*i}' + r'$\\sigma_x$   $\\delta$ within 1 bucket (green) and 2 buckets (red)')\n",
    "#     cursor = mplcursors.cursor([line1, line2])\n",
    "#     @cursor.connect(\"add\")\n",
    "#     def on_add(sel):\n",
    "#         if hasattr(sel, 'index'):\n",
    "#             raw_idx = sel.index\n",
    "#         else:\n",
    "#             raw_idx = sel.target.index\n",
    "#         idx = int(raw_idx)\n",
    "#         sel.annotation.set_text(tt_aper.name[idx])\n",
    "#     plt.show()"
   ]
  },
  {
   "cell_type": "code",
   "execution_count": 33,
   "id": "08a2610a",
   "metadata": {},
   "outputs": [
    {
     "ename": "",
     "evalue": "",
     "output_type": "error",
     "traceback": [
      "\u001b[1;31mThe Kernel crashed while executing code in the current cell or a previous cell. \n",
      "\u001b[1;31mPlease review the code in the cell(s) to identify a possible cause of the failure. \n",
      "\u001b[1;31mClick <a href='https://aka.ms/vscodeJupyterKernelCrash'>here</a> for more info. \n",
      "\u001b[1;31mView Jupyter <a href='command:jupyter.viewOutput'>log</a> for further details."
     ]
    }
   ],
   "source": [
    "pw = plotWindow()\n",
    "for i in range(6):\n",
    "    fig, ax = plt.subplots(figsize=(20, 4))\n",
    "    delta = list(tw.keys())\n",
    "    for dd in delta:\n",
    "        if abs(dd) > 0.00375:\n",
    "            ax.plot(tw[dd].s, tw[dd].x + np.sign(dd)*2*i*beam_sizes[dd].sigma_x, 'r-')\n",
    "        else:\n",
    "            ax.plot(tw[dd].s, tw[dd].x + np.sign(dd)*2*i*beam_sizes[dd].sigma_x, 'g-')\n",
    "    line1, = ax.plot(tt_aper.s, tt_aper.aper_max_x, 'k-')\n",
    "    line2, = ax.plot(tt_aper.s, tt_aper.aper_min_x, 'k-')\n",
    "    ax.set_xlabel('s [m]')\n",
    "    ax.set_ylabel('Aperture $x$ [m]')\n",
    "    ax.set_title(f'Betatron {2*i}' + r'$\\sigma_x$   $\\delta$ within 1 bucket (green) and 2 buckets (red)')\n",
    "    cursor = mplcursors.cursor([line1, line2])\n",
    "    @cursor.connect(\"add\")\n",
    "    def on_add(sel):\n",
    "        if hasattr(sel, 'index'):\n",
    "            raw_idx = sel.index\n",
    "        else:\n",
    "            raw_idx = sel.target.index\n",
    "        idx = int(raw_idx)\n",
    "        sel.annotation.set_text(tt_aper.name[idx])\n",
    "    pw.addPlot(f\"{2*i}\" + r'$\\sigma_x$', fig)\n",
    "pw.show()"
   ]
  },
  {
   "cell_type": "code",
   "execution_count": 12,
   "id": "8d1932b1",
   "metadata": {},
   "outputs": [
    {
     "data": {
      "text/plain": [
       "Table: 0 rows, 6 cols"
      ]
     },
     "execution_count": 12,
     "metadata": {},
     "output_type": "execute_result"
    }
   ],
   "source": [
    "tt_aper.rows['qf.*']"
   ]
  },
  {
   "cell_type": "code",
   "execution_count": 15,
   "id": "7ffd6744",
   "metadata": {},
   "outputs": [
    {
     "data": {
      "text/plain": [
       "Table: 108 rows, 11 cols\n",
       "name                 s element_type isthick isreplica parent_name iscollective       s_start ...\n",
       "qf.10010             0 Quadrupole      True     False None               False             0\n",
       "qf.10210       63.9954 Quadrupole      True     False None               False       63.9954\n",
       "qf.10410       127.991 Quadrupole      True     False None               False       127.991\n",
       "qf.10610       191.986 Quadrupole      True     False None               False       191.986\n",
       "qf.10810       255.982 Quadrupole      True     False None               False       255.982\n",
       "qf.11010       319.977 Quadrupole      True     False None               False       319.977\n",
       "qf.11210       383.972 Quadrupole      True     False None               False       383.972\n",
       "qf.11410       447.968 Quadrupole      True     False None               False       447.968\n",
       "qf.11610       511.963 Quadrupole      True     False None               False       511.963\n",
       "qf.11810       575.959 Quadrupole      True     False None               False       575.959\n",
       "...\n",
       "qf.61610        6271.55 Quadrupole      True     False None               False       6271.55\n",
       "qfa.61810       6335.19 Quadrupole      True     False None               False       6335.19\n",
       "qf.62010        6399.54 Quadrupole      True     False None               False       6399.54\n",
       "qf.62210        6463.54 Quadrupole      True     False None               False       6463.54\n",
       "qf.62410        6527.53 Quadrupole      True     False None               False       6527.53\n",
       "qf.62610        6591.53 Quadrupole      True     False None               False       6591.53\n",
       "qf.62810        6655.52 Quadrupole      True     False None               False       6655.52\n",
       "qf.63010        6719.52 Quadrupole      True     False None               False       6719.52\n",
       "qf.63210        6783.51 Quadrupole      True     False None               False       6783.51\n",
       "qf.63410        6847.51 Quadrupole      True     False None               False       6847.51"
      ]
     },
     "execution_count": 15,
     "metadata": {},
     "output_type": "execute_result"
    }
   ],
   "source": [
    "tt.rows['qf.*']"
   ]
  },
  {
   "cell_type": "code",
   "execution_count": 32,
   "id": "b0b9ecec",
   "metadata": {},
   "outputs": [],
   "source": [
    "fig, ax = plt.subplots(figsize=(20, 5))\n",
    "lines = []\n",
    "this_tw = tw[-0.0036].rows['qf.*']\n",
    "line, = ax.plot(this_tw.s, this_tw.x, 'b.'); lines.append(line)\n",
    "line, = ax.plot(this_tw.s, this_tw.x - 5*np.sqrt(this_tw.betx *2e-6/28), 'b.'); lines.append(line)\n",
    "line, = ax.plot(this_tw.s, this_tw.x - 10*np.sqrt(this_tw.betx *2e-6/28), 'b.'); lines.append(line)\n",
    "this_tw = tw[-0.0072].rows['qf.*']\n",
    "line, = ax.plot(this_tw.s, this_tw.x, 'b.'); lines.append(line)\n",
    "line, = ax.plot(this_tw.s, this_tw.x - 5*np.sqrt(this_tw.betx *2e-6/28), 'b.'); lines.append(line)\n",
    "line, = ax.plot(this_tw.s, this_tw.x - 10*np.sqrt(this_tw.betx *2e-6/28), 'b.'); lines.append(line)\n",
    "this_tw = tw[-0.0036].rows['qd.*']\n",
    "line, = ax.plot(this_tw.s, this_tw.x, 'm.'); lines.append(line)\n",
    "line, = ax.plot(this_tw.s, this_tw.x - 5*np.sqrt(this_tw.betx *2e-6/28), 'm.'); lines.append(line)\n",
    "line, = ax.plot(this_tw.s, this_tw.x - 10*np.sqrt(this_tw.betx *2e-6/28), 'm.'); lines.append(line)\n",
    "this_tw = tw[-0.0072].rows['qd.*']\n",
    "line, = ax.plot(this_tw.s, this_tw.x, 'm.'); lines.append(line)\n",
    "line, = ax.plot(this_tw.s, this_tw.x - 5*np.sqrt(this_tw.betx *2e-6/28), 'm.'); lines.append(line)\n",
    "line, = ax.plot(this_tw.s, this_tw.x - 10*np.sqrt(this_tw.betx *2e-6/28), 'm.'); lines.append(line)\n",
    "this_tw = tw[-0.0036].rows['mba.*']\n",
    "line, = ax.plot(this_tw.s, this_tw.x, 'g.'); lines.append(line)\n",
    "line, = ax.plot(this_tw.s, this_tw.x - 5*np.sqrt(this_tw.betx *2e-6/28), 'g.'); lines.append(line)\n",
    "line, = ax.plot(this_tw.s, this_tw.x - 10*np.sqrt(this_tw.betx *2e-6/28), 'g.'); lines.append(line)\n",
    "this_tw = tw[-0.0072].rows['mba.*']\n",
    "line, = ax.plot(this_tw.s, this_tw.x, 'g.'); lines.append(line)\n",
    "line, = ax.plot(this_tw.s, this_tw.x - 5*np.sqrt(this_tw.betx *2e-6/28), 'g.'); lines.append(line)\n",
    "line, = ax.plot(this_tw.s, this_tw.x - 10*np.sqrt(this_tw.betx *2e-6/28), 'g.'); lines.append(line)\n",
    "this_tw = tw[-0.0036].rows['mbb.*']\n",
    "line, = ax.plot(this_tw.s, this_tw.x, 'r.'); lines.append(line)\n",
    "line, = ax.plot(this_tw.s, this_tw.x - 5*np.sqrt(this_tw.betx *2e-6/28), 'r.'); lines.append(line)\n",
    "line, = ax.plot(this_tw.s, this_tw.x - 10*np.sqrt(this_tw.betx *2e-6/28), 'r.'); lines.append(line)\n",
    "this_tw = tw[-0.0072].rows['mbb.*']\n",
    "line, = ax.plot(this_tw.s, this_tw.x, 'r.'); lines.append(line)\n",
    "line, = ax.plot(this_tw.s, this_tw.x - 5*np.sqrt(this_tw.betx *2e-6/28), 'r.'); lines.append(line)\n",
    "line, = ax.plot(this_tw.s, this_tw.x - 10*np.sqrt(this_tw.betx *2e-6/28), 'r.'); lines.append(line)\n",
    "ax.hlines(-7.6e-2, 0, 7000, color='b', linestyle='--') # QF\n",
    "ax.hlines(-4e-2, 0, 7000, color='m', linestyle='--') # QD\n",
    "ax.hlines(-7.6e-2-2.2e-3, 0, 7000, color='g', linestyle='--') # MBA\n",
    "ax.hlines(-7.6e-2+4.4e-3, 0, 7000, color='g', linestyle='--') # MBA\n",
    "ax.hlines(-6.45e-2-2.2e-3, 0, 7000, color='r', linestyle='--') # MBB\n",
    "ax.hlines(-6.45e-2+4.4e-3, 0, 7000, color='r', linestyle='--') # MBB\n",
    "\n",
    "cursor = mplcursors.cursor(lines)\n",
    "@cursor.connect(\"add\")\n",
    "def on_add(sel):\n",
    "    if hasattr(sel, 'index'):\n",
    "        raw_idx = sel.index\n",
    "    else:\n",
    "        raw_idx = sel.target.index\n",
    "    idx = int(raw_idx)\n",
    "    sel.annotation.set_text(tw[0].rows['q[df].*'].name[idx])\n",
    "plt.show()"
   ]
  },
  {
   "cell_type": "code",
   "execution_count": null,
   "id": "aafbba15",
   "metadata": {},
   "outputs": [],
   "source": [
    "offset_end_dipole=4.4e-3\n",
    "offset_middle_dipole=2.2e-3"
   ]
  },
  {
   "cell_type": "code",
   "execution_count": null,
   "id": "039957a3",
   "metadata": {},
   "outputs": [
    {
     "data": {
      "text/plain": [
       "Table: 3960 rows, 11 cols\n",
       "name                           s element_type isthick isreplica parent_name iscollective ...\n",
       "mba.10030..0_aper2       3.44499 LimitRect      False     False None               False\n",
       "mba.10030..1_aper2       4.07099 LimitRect      False     False None               False\n",
       "mba.10030..2_aper2       4.69699 LimitRect      False     False None               False\n",
       "mba.10030..3_aper2         5.323 LimitRect      False     False None               False\n",
       "mba.10030..4_aper2         5.949 LimitRect      False     False None               False\n",
       "mba.10030..5_aper2         6.575 LimitRect      False     False None               False\n",
       "mba.10030..6_aper2         7.201 LimitRect      False     False None               False\n",
       "mba.10030..7_aper2         7.827 LimitRect      False     False None               False\n",
       "mba.10030..8_aper2       8.45301 LimitRect      False     False None               False\n",
       "mba.10030..9_aper2       9.07901 LimitRect      False     False None               False\n",
       "...\n",
       "mba.63590..1_aper2        6903.52 LimitRect      False     False None               False\n",
       "mba.63590..2_aper2        6904.14 LimitRect      False     False None               False\n",
       "mba.63590..3_aper2        6904.77 LimitRect      False     False None               False\n",
       "mba.63590..4_aper2         6905.4 LimitRect      False     False None               False\n",
       "mba.63590..5_aper2        6906.02 LimitRect      False     False None               False\n",
       "mba.63590..6_aper2        6906.65 LimitRect      False     False None               False\n",
       "mba.63590..7_aper2        6907.27 LimitRect      False     False None               False\n",
       "mba.63590..8_aper2         6907.9 LimitRect      False     False None               False\n",
       "mba.63590..9_aper2        6908.53 LimitRect      False     False None               False\n",
       "mba.63590..10_aper2       6909.15 LimitRect      False     False None               False"
      ]
     },
     "execution_count": 31,
     "metadata": {},
     "output_type": "execute_result"
    }
   ],
   "source": [
    "mba_names = np.unique([ttt.split('_')[0].split('.')[:2] for ttt in tt.name if ttt.startswith('mba')])\n",
    "tt.rows['mba.*_aper2']"
   ]
  },
  {
   "cell_type": "code",
   "execution_count": null,
   "id": "da3aea10",
   "metadata": {},
   "outputs": [
    {
     "data": {
      "text/plain": [
       "array(['10030', '10050', '10170', '10190', '10230', '10250', '10370',\n",
       "       '10390', '10430', '10450', '10570', '10590', '10630', '10650',\n",
       "       '10770', '10790', '10830', '10850', '10970', '10990', '11030',\n",
       "       '11050', '11170', '11190', '11230', '11250', '11370', '11390',\n",
       "       '11570', '11590', '12030', '12050', '12230', '12250', '12370',\n",
       "       '12390', '12430', '12450', '12570', '12590', '12630', '12650',\n",
       "       '12770', '12790', '12830', '12850', '12970', '12990', '13030',\n",
       "       '13050', '13170', '13190', '13230', '13250', '13370', '13390',\n",
       "       '13430', '13450', '13570', '13590', '20030', '20050', '20170',\n",
       "       '20190', '20230', '20250', '20370', '20390', '20430', '20450',\n",
       "       '20570', '20590', '20630', '20650', '20770', '20790', '20830',\n",
       "       '20850', '20970', '20990', '21030', '21050', '21170', '21190',\n",
       "       '21230', '21250', '21370', '21390', '21570', '21590', '22030',\n",
       "       '22050', '22230', '22250', '22370', '22390', '22430', '22450',\n",
       "       '22570', '22590', '22630', '22650', '22770', '22790', '22830',\n",
       "       '22850', '22970', '22990', '23030', '23050', '23170', '23190',\n",
       "       '23230', '23250', '23370', '23390', '23430', '23450', '23570',\n",
       "       '23590', '30030', '30050', '30170', '30190', '30230', '30250',\n",
       "       '30370', '30390', '30430', '30450', '30570', '30590', '30630',\n",
       "       '30650', '30770', '30790', '30830', '30850', '30970', '30990',\n",
       "       '31030', '31050', '31170', '31190', '31230', '31250', '31370',\n",
       "       '31390', '31570', '31590', '32030', '32050', '32230', '32250',\n",
       "       '32370', '32390', '32430', '32450', '32570', '32590', '32630',\n",
       "       '32650', '32770', '32790', '32830', '32850', '32970', '32990',\n",
       "       '33030', '33050', '33170', '33190', '33230', '33250', '33370',\n",
       "       '33390', '33430', '33450', '33570', '33590', '40030', '40050',\n",
       "       '40170', '40190', '40230', '40250', '40370', '40390', '40430',\n",
       "       '40450', '40570', '40590', '40630', '40650', '40770', '40790',\n",
       "       '40830', '40850', '40970', '40990', '41030', '41050', '41170',\n",
       "       '41190', '41230', '41250', '41370', '41390', '41570', '41590',\n",
       "       '42030', '42050', '42230', '42250', '42370', '42390', '42430',\n",
       "       '42450', '42570', '42590', '42630', '42650', '42770', '42790',\n",
       "       '42830', '42850', '42970', '42990', '43030', '43050', '43170',\n",
       "       '43190', '43230', '43250', '43370', '43390', '43430', '43450',\n",
       "       '43570', '43590', '50030', '50050', '50170', '50190', '50230',\n",
       "       '50250', '50370', '50390', '50430', '50450', '50570', '50590',\n",
       "       '50630', '50650', '50770', '50790', '50830', '50850', '50970',\n",
       "       '50990', '51030', '51050', '51170', '51190', '51230', '51250',\n",
       "       '51370', '51390', '51570', '51590', '52030', '52050', '52230',\n",
       "       '52250', '52370', '52390', '52430', '52450', '52570', '52590',\n",
       "       '52630', '52650', '52770', '52790', '52830', '52850', '52970',\n",
       "       '52990', '53030', '53050', '53170', '53190', '53230', '53250',\n",
       "       '53370', '53390', '53430', '53450', '53570', '53590', '60030',\n",
       "       '60050', '60170', '60190', '60230', '60250', '60370', '60390',\n",
       "       '60430', '60450', '60570', '60590', '60630', '60650', '60770',\n",
       "       '60790', '60830', '60850', '60970', '60990', '61030', '61050',\n",
       "       '61170', '61190', '61230', '61250', '61370', '61390', '61570',\n",
       "       '61590', '62030', '62050', '62230', '62250', '62370', '62390',\n",
       "       '62430', '62450', '62570', '62590', '62630', '62650', '62770',\n",
       "       '62790', '62830', '62850', '62970', '62990', '63030', '63050',\n",
       "       '63170', '63190', '63230', '63250', '63370', '63390', '63430',\n",
       "       '63450', '63570', '63590', 'mba'], dtype='<U5')"
      ]
     },
     "execution_count": 30,
     "metadata": {},
     "output_type": "execute_result"
    }
   ],
   "source": []
  },
  {
   "cell_type": "code",
   "execution_count": null,
   "id": "e8a0c76d",
   "metadata": {},
   "outputs": [],
   "source": []
  }
 ],
 "metadata": {
  "kernelspec": {
   "display_name": "xcoll",
   "language": "python",
   "name": "python3"
  },
  "language_info": {
   "codemirror_mode": {
    "name": "ipython",
    "version": 3
   },
   "file_extension": ".py",
   "mimetype": "text/x-python",
   "name": "python",
   "nbconvert_exporter": "python",
   "pygments_lexer": "ipython3",
   "version": "3.11.8"
  }
 },
 "nbformat": 4,
 "nbformat_minor": 5
}
