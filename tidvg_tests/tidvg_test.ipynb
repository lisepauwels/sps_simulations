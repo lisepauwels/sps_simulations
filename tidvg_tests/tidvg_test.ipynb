{
 "cells": [
  {
   "cell_type": "code",
   "execution_count": 1,
   "metadata": {},
   "outputs": [],
   "source": [
    "import xtrack as xt\n",
    "import xobjects as xo\n",
    "import xpart as xp\n",
    "import xcoll as xc\n",
    "import numpy as np\n",
    "import matplotlib.pyplot as plt\n",
    "import matplotlib.colors as colors"
   ]
  },
  {
   "cell_type": "code",
   "execution_count": 2,
   "metadata": {},
   "outputs": [],
   "source": [
    "def get_k_ripple_summed_signal(num_turns, ripple_periods, kqf_amplitudes, kqd_amplitudes,\n",
    "                                   kqf_phases, kqd_phases):\n",
    "    \"\"\"\n",
    "    Generate noise signal on top of kqf/kqd values, with desired ripple periods and amplitudes.\n",
    "    Phase and frequencies unit must correspond to where it is used, e.g turns\n",
    "    \n",
    "    Parameters:\n",
    "    -----------\n",
    "    ripple_periods : np.ndarray\n",
    "        floats containing the ripple periods of the noise frequencies\n",
    "    kqf_amplitudes : np.ndarray\n",
    "        ripple amplitudes for desired frequencies of kqf --> obtained from normalized FFT spectrum of IQD and IQF. \n",
    "        Default without 50 Hz compensation is 1e-6\n",
    "    kqd_amplitudes : list\n",
    "        ripple amplitudes for desired frequencies of kqd --> obtained from normalized FFT spectrum of IQD and IQF. \n",
    "        Default without 50 Hz compensation is 1e-6\n",
    "    kqf_phases : np.ndarray\n",
    "        ripple phase for desired frequencies of kqf --> obtained from normalized FFT spectrum of IQD and IQF. \n",
    "    kqd_phases : list\n",
    "        ripple phases for desired frequencies of kqd --> obtained from normalized FFT spectrum of IQD and IQF. \n",
    "\n",
    "    Returns:\n",
    "    --------\n",
    "    k_ripple_values : np.ndarray\n",
    "        focusing quadrupole values corresponding to modulate Qx according to dq (if chosen plane)\n",
    "    \"\"\"\n",
    "\n",
    "    turns = np.arange(1, num_turns+1)\n",
    "    kqf_signals = np.zeros([len(ripple_periods), len(turns)])\n",
    "    kqd_signals = np.zeros([len(ripple_periods), len(turns)])\n",
    "    for i, ripple_period in enumerate(ripple_periods):\n",
    "        kqf_signals[i, :] = kqf_amplitudes[i] * np.sin(2 * np.pi * turns / ripple_period + kqf_phases[i])\n",
    "        kqd_signals[i, :] = kqd_amplitudes[i] * np.sin(2 * np.pi * turns / ripple_period + kqd_phases[i])\n",
    "\n",
    "    # Sum the signal\n",
    "    kqf_ripple = np.sum(kqf_signals, axis=0)\n",
    "    kqd_ripple = np.sum(kqd_signals, axis=0)\n",
    "\n",
    "    print('Generated kqf ripple of amplitudes {} and phases {} with ripple periods {}'.format(kqf_amplitudes, kqf_phases, ripple_periods))\n",
    "    print('Generated kqd ripple of amplitudes {} and phases {} with ripple periods {}'.format(kqd_amplitudes, kqd_phases, ripple_periods))\n",
    "\n",
    "    return kqf_ripple, kqd_ripple"
   ]
  },
  {
   "cell_type": "code",
   "execution_count": null,
   "metadata": {},
   "outputs": [
    {
     "data": {
      "application/vnd.jupyter.widget-view+json": {
       "model_id": "7adea4390d16473592b6114a8778be2f",
       "version_major": 2,
       "version_minor": 0
      },
      "text/plain": [
       "Loading line from dict:   0%|          | 0/31362 [00:00<?, ?it/s]"
      ]
     },
     "metadata": {},
     "output_type": "display_data"
    },
    {
     "name": "stdout",
     "output_type": "stream",
     "text": [
      "Done loading line from dict.           \n"
     ]
    }
   ],
   "source": [
    "line = xt.Line.from_json('../injection_lines/injection_thin_approx_ap_with_deferred_expressions.json')\n",
    "\n",
    "#Set cavitiy voltages correctly\n",
    "line['acl.31735'].frequency = 800e6\n",
    "line['acl.31735'].voltage = 2 * 0.18e6\n",
    "line['acl.31735'].lag = 180\n",
    "\n",
    "line['actcse.31632'].frequency = 200e6\n",
    "line['actcse.31632'].voltage = 4.5e6\n",
    "line['actcse.31632'].lag = 180\n",
    "\n",
    "#Add displacment of vertical dogleg in LSS5\n",
    "line['qd.51710'].shift_y = -5.273e-3\n",
    "line['qfa.51810'].shift_y = -17.369e-3\n",
    "line['qd.51910'].shift_y = -5.273e-3\n",
    "\n",
    "tab = line.get_table()\n",
    "mask = [el.startswith('Limit') for el in tab.element_type]\n",
    "\n",
    "for name in tab.name[mask]:\n",
    "    if 'qd.51710' in name:\n",
    "        line[name].shift_y = -5.273e-3\n",
    "    elif 'qfa.51810' in name:\n",
    "        line[name].shift_y = -17.369e-3\n",
    "    elif 'qd.51910' in name:\n",
    "        line[name].shift_y = -5.273e-3\n",
    "\n",
    "tw = line.twiss()"
   ]
  },
  {
   "cell_type": "code",
   "execution_count": null,
   "metadata": {},
   "outputs": [],
   "source": [
    "num_turns = 3000\n",
    "num_particles = 200_000\n",
    "\n",
    "nemitt_x = 3.5e-6\n",
    "nemitt_y = 3.5e-6\n",
    "\n",
    "plane = 'H'\n",
    "amplitude_adt = 0.75\n",
    "name_sim = 'blowup5s'"
   ]
  },
  {
   "cell_type": "code",
   "execution_count": 5,
   "metadata": {},
   "outputs": [],
   "source": [
    "# line.discard_tracker()\n",
    "# coll = xc.EverestCollimator(length=1.83, gap=5, material=xc.materials.Carbon) # length is 1.83\n",
    "# line.collimators.install('tcsm.51932', coll)"
   ]
  },
  {
   "cell_type": "code",
   "execution_count": null,
   "metadata": {},
   "outputs": [],
   "source": [
    "idx_tidvg = np.where(tw.name=='tidvg.51872')[0][0]\n",
    "ap_tidvg_x = 78.6e-3/2\n",
    "ap_tidvg_y = 40.8e-3/2\n",
    "\n",
    "# ap_tidvg_x = 40.8e-3/2\n",
    "# ap_tidvg_y = 78.6e-3/2\n",
    "\n",
    "sigma_tidvg_x, sigma_tidvg_y = np.sqrt(tw.betx[idx_tidvg]*nemitt_x/tw.gamma0), np.sqrt(tw.bety[idx_tidvg]*nemitt_y/tw.gamma0)\n",
    "gap_x, gap_y = ap_tidvg_x/sigma_tidvg_x, ap_tidvg_y/sigma_tidvg_y\n",
    "\n",
    "gap_y = 5\n",
    "tidvg_1 = xc.EverestCollimator(length=2.5, material = xc.materials.Carbon, gap_R = -int(gap_y), angle = 90, side = 'right') #it is graphite but apparently that dos not exist (except Molybdenium graphite)\n",
    "tidvg_2 = xc.EverestCollimator(length=1.0, material = xc.materials.Aluminium, gap_R = -int(gap_y), angle = 90, side = 'right')\n",
    "tidvg_3 = xc.EverestCollimator(length=0.5, material = xc.materials.Copper, gap_R = -int(gap_y), angle = 90, side = 'right')\n",
    "tidvg_4 = xc.EverestCollimator(length=0.3, material = xc.materials.Tungsten, gap_R = -int(gap_y), angle = 90, side = 'right')\n",
    "\n",
    "#How do you know where the gap is ? x or y?"
   ]
  },
  {
   "cell_type": "code",
   "execution_count": null,
   "metadata": {},
   "outputs": [],
   "source": [
    "def lin_eq_params(x1, y1, x2, y2):\n",
    "    delta = x1-x2\n",
    "    delta_a = y1-y2\n",
    "    delta_b = x1*y2-x2*y1\n",
    "\n",
    "    a = delta_a/delta\n",
    "    b = delta_b/delta\n",
    "    return a, b\n",
    "\n",
    "def offset_colls_calc(a, b, s_rel):\n",
    "    return a*s_rel + b"
   ]
  },
  {
   "cell_type": "code",
   "execution_count": null,
   "metadata": {},
   "outputs": [],
   "source": [
    "offset_upstream = -3.314e-3\n",
    "offset_downstream = -2.152e-3\n",
    "\n",
    "idx_tidvg = np.where(tw.name=='tidvg.51872')[0][0]\n",
    "ap_tidvg_x = 78.6e-3/2\n",
    "ap_tidvg_y = 40.8e-3/2\n",
    "\n",
    "# sigma_tidvg_x, sigma_tidvg_y = np.sqrt(tw.betx[idx_tidvg]*nemitt_x/tw.gamma0), np.sqrt(tw.bety[idx_tidvg]*nemitt_y/tw.gamma0)\n",
    "# gap_x, gap_y = ap_tidvg_x/sigma_tidvg_x, ap_tidvg_y/sigma_tidvg_y\n",
    "\n",
    "a,b = lin_eq_params(0, offset_upstream, 4.3, offset_downstream)\n",
    "jaw_RU_positions = [offset_colls_calc(a,b, 0), offset_colls_calc(a,b, 2.5), offset_colls_calc(a,b, 3.5), offset_colls_calc(a,b, 4.0)]\n",
    "jaw_RD_positions = [offset_colls_calc(a,b, 2.5), offset_colls_calc(a,b, 3.5), offset_colls_calc(a,b, 4.0), offset_colls_calc(a,b, 4.3)]\n",
    "\n",
    "tidvg_1 = xc.EverestCollimator(length=2.5, material = xc.materials.Carbon, jaw_RU = ap_tidvg_y + jaw_RU_positions[0], jaw_RD = ap_tidvg_y + jaw_RD_positions[0], angle = 90, side = 'right') #it is graphite but apparently that dos not exist (except Molybdenium graphite)\n",
    "tidvg_2 = xc.EverestCollimator(length=1.0, material = xc.materials.Aluminium, jaw_RU = ap_tidvg_y + jaw_RU_positions[1], jaw_RD = ap_tidvg_y + jaw_RD_positions[1], angle = 90, side = 'right')\n",
    "tidvg_3 = xc.EverestCollimator(length=0.5, material = xc.materials.Copper, jaw_RU = ap_tidvg_y + jaw_RU_positions[2], jaw_RD = ap_tidvg_y + jaw_RD_positions[2], angle = 90, side = 'right')\n",
    "tidvg_4 = xc.EverestCollimator(length=0.3, material = xc.materials.Tungsten, jaw_RU = ap_tidvg_y + jaw_RU_positions[3], jaw_RD = ap_tidvg_y + jaw_RD_positions[3], angle = 90, side = 'right')"
   ]
  },
  {
   "cell_type": "code",
   "execution_count": null,
   "metadata": {},
   "outputs": [
    {
     "data": {
      "application/vnd.jupyter.widget-view+json": {
       "model_id": "a62e6fc8eb56488bb5eceac67629fda5",
       "version_major": 2,
       "version_minor": 0
      },
      "text/plain": [
       "Slicing line:   0%|          | 0/30212 [00:00<?, ?it/s]"
      ]
     },
     "metadata": {},
     "output_type": "display_data"
    }
   ],
   "source": [
    "line.discard_tracker()\n",
    "center_drift = 0.35\n",
    "begin_tidvg = tw.s[idx_tidvg] + center_drift\n",
    "coll_names = ['tidvg.51872..1_C', 'tidvg.51872..2_Al', 'tidvg.51872..3_Cu', 'tidvg.51872..4_W']\n",
    "line.collimators.install(names=coll_names, elements=[tidvg_1, tidvg_2, tidvg_3, tidvg_4], at_s=[begin_tidvg, begin_tidvg+2.5, begin_tidvg+3.5, begin_tidvg+4])\n",
    "\n",
    "coll_ap = xt.LimitRect(min_x = -ap_tidvg_x, max_x=ap_tidvg_x, min_y=-ap_tidvg_y, max_y=ap_tidvg_y) \n",
    "coll_ap_names = [suffix for name in coll_names for suffix in (f\"{name}_aper_upstream\", f\"{name}_aper_downstream\")]\n",
    "coll_ap_idx = [idx for name in coll_names for idx in (line.element_names.index(name), line.element_names.index(name)+1)]\n",
    "\n",
    "max_length = max(max(map(len, line.element_names)), max(map(len, coll_ap_names)))\n",
    "element_names = np.array(line.element_names, dtype=f'<U{max_length}')\n",
    "names = np.array(coll_ap_names, dtype=f'<U{max_length}')\n",
    "element_names = np.insert(element_names, coll_ap_idx, coll_ap_names)\n",
    "\n",
    "insert_colls = {name: coll_ap.copy() for name in coll_ap_names}\n",
    "\n",
    "line.element_names = element_names.tolist()\n",
    "line.element_dict = {**line.element_dict, **insert_colls}\n",
    "\n",
    "idx_upstream, idx_downstream = 0,0\n",
    "for name in coll_ap_names:\n",
    "    if 'upstream' in name:\n",
    "        line[name].shift_y = jaw_RU_positions[idx_upstream]\n",
    "        idx_upstream += 1\n",
    "    elif 'downstream' in name:\n",
    "        line[name].shift_y = jaw_RD_positions[idx_upstream]\n",
    "        idx_downstream += 1\n",
    "    else:\n",
    "        print(f'ERROR: no shift assigned to this aperture ({name})')"
   ]
  },
  {
   "cell_type": "code",
   "execution_count": 8,
   "metadata": {},
   "outputs": [
    {
     "data": {
      "application/vnd.jupyter.widget-view+json": {
       "model_id": "d3efb32d036e43e48d2338716c40f66f",
       "version_major": 2,
       "version_minor": 0
      },
      "text/plain": [
       "Checking aperture:   0%|          | 0/30223 [00:00<?, ?it/s]"
      ]
     },
     "metadata": {},
     "output_type": "display_data"
    },
    {
     "name": "stdout",
     "output_type": "stream",
     "text": [
      "Done checking aperture.           \n",
      "0 thin elements miss associated aperture (upstream):\n",
      "[]\n",
      "0 thick elements miss associated aperture (upstream or downstream):\n",
      "[]\n"
     ]
    }
   ],
   "source": [
    "df_with_coll = line.check_aperture()\n",
    "assert not np.any(df_with_coll.has_aperture_problem)\n",
    "\n",
    "adt = xc.BlowUp.install(line, name=f'adt_{plane}_blowup', at_s=line.get_s_position('adkcv.32171'), plane=plane, stop_at_turn=num_turns,\n",
    "                        amplitude=amplitude_adt, use_individual_kicks=True)\n",
    "\n",
    "line.build_tracker()\n",
    "tw= line.twiss()\n",
    "line.collimators.assign_optics(twiss=tw, nemitt_x=nemitt_x, nemitt_y=nemitt_y)\n",
    "adt.calibrate_by_emittance(nemitt=nemitt_x, twiss=tw)\n",
    "#line.optimize_for_tracking()"
   ]
  },
  {
   "cell_type": "code",
   "execution_count": 9,
   "metadata": {},
   "outputs": [],
   "source": [
    "# #Ripple information\n",
    "# kqf_amplitudes = np.array([9.7892e-7])\n",
    "# kqd_amplitudes = np.array([9.6865e-7])\n",
    "# kqf_phases=np.array([0.5564486])\n",
    "# kqd_phases=np.array([0.47329223])\n",
    "# ripple_freqs=np.array([50.])\n",
    "\n",
    "# # Create ripple in quadrupolar knobs, convert phases to turns\n",
    "# turns_per_sec = 1/tw.T_rev0\n",
    "# ripple_periods = (turns_per_sec/ripple_freqs).astype(int)  # number of turns particle makes during one ripple oscillation\n",
    "# kqf_phases_turns = kqf_phases * turns_per_sec # convert time domain to turn domain, i.e. multiply with turns/sec\n",
    "# kqd_phases_turns = kqd_phases * turns_per_sec # convert time domain to turn domain, i.e. multiply with turns/sec\n",
    "\n",
    "# kqf_ripple, kqd_ripple = get_k_ripple_summed_signal(num_turns, ripple_periods, kqf_amplitudes, kqd_amplitudes, kqf_phases_turns, kqd_phases_turns)\n",
    "\n",
    "# # Save initial values\n",
    "# kqf0 = line.vars['kqf']._value\n",
    "# kqd0 = line.vars['kqd']._value\n",
    "\n",
    "# print('Quadrupolar knobs will oscillate with')\n",
    "# print('kqf =  {:.4e} +/- {:.3e}'.format(kqf0, max(kqf_ripple)))\n",
    "# print('kqd = {:.4e} +/- {:.3e}'.format(kqd0, max(kqd_ripple)))"
   ]
  },
  {
   "cell_type": "code",
   "execution_count": 10,
   "metadata": {},
   "outputs": [
    {
     "name": "stdout",
     "output_type": "stream",
     "text": [
      "*** Maximum RMS bunch length 0.2333673225727757m.\n",
      "... distance to target bunch length: -2.2400e-01\n",
      "... distance to target bunch length: 4.5434e-03\n",
      "... distance to target bunch length: 4.3407e-03\n",
      "... distance to target bunch length: -6.6704e-03\n",
      "... distance to target bunch length: 2.0239e-03\n",
      "... distance to target bunch length: -5.7437e-04\n",
      "... distance to target bunch length: 1.0846e-04\n",
      "... distance to target bunch length: 4.8389e-06\n",
      "... distance to target bunch length: -2.0931e-09\n",
      "... distance to target bunch length: 9.6457e-08\n",
      "--> Bunch length: 0.22399999790691388\n",
      "--> Emittance: 0.34309070052784796\n"
     ]
    }
   ],
   "source": [
    "#part = line['tcsm.51932'].generate_pencil(num_particles)\n",
    "#part = line['tidvg.51872..1_C'].generate_pencil(num_particles)\n",
    "part = xp.generate_matched_gaussian_bunch(num_particles=num_particles, total_intensity_particles=2.2e11, nemitt_x=nemitt_x, nemitt_y=nemitt_y, sigma_z=0.224, line=line) #He does not like if quadrupoles are shifted/you cannot optimise the line"
   ]
  },
  {
   "cell_type": "code",
   "execution_count": 11,
   "metadata": {},
   "outputs": [
    {
     "name": "stdout",
     "output_type": "stream",
     "text": [
      "Compiling ContextCpu kernels...\n",
      "Done compiling ContextCpu kernels.\n"
     ]
    },
    {
     "data": {
      "application/vnd.jupyter.widget-view+json": {
       "model_id": "ecf4edfca81543148b54b49191613fb7",
       "version_major": 2,
       "version_minor": 0
      },
      "text/plain": [
       "Tracking:   0%|          | 0/3000 [00:00<?, ?it/s]"
      ]
     },
     "metadata": {},
     "output_type": "display_data"
    }
   ],
   "source": [
    "line.discard_tracker()\n",
    "line.build_tracker(_context=xo.ContextCpu(omp_num_threads='auto'))\n",
    "\n",
    "line.scattering.enable()\n",
    "adt.activate()\n",
    "line.track(part, num_turns=num_turns, time=True, with_progress=1)\n",
    "adt.deactivate()\n",
    "line.scattering.disable()\n",
    "\n",
    "# line.discard_tracker()\n",
    "# line.build_tracker(_context=xo.ContextCpu(omp_num_threads='auto'))\n",
    "\n",
    "# # Track!\n",
    "# line.scattering.enable()\n",
    "# time = 0\n",
    "# for turn in range(1, num_turns):\n",
    "#     if turn%100 == 0:\n",
    "#         print(f'Turn {turn}')\n",
    "    \n",
    "#     line.vars['kqf'] = kqf0 + kqf_ripple[turn-1]\n",
    "#     line.vars['kqd'] = kqd0 + kqd_ripple[turn-1]\n",
    "    \n",
    "#     line.track(part, num_turns=1, time=True)\n",
    "#     time += line.time_last_track\n",
    "\n",
    "# print(f\"Done tracking in {time:.1f}s.\")\n",
    "# line.scattering.disable()"
   ]
  },
  {
   "cell_type": "code",
   "execution_count": 12,
   "metadata": {},
   "outputs": [
    {
     "data": {
      "text/plain": [
       "(array([0, 1]), array([166381,  33619]))"
      ]
     },
     "execution_count": 12,
     "metadata": {},
     "output_type": "execute_result"
    }
   ],
   "source": [
    "np.unique(part.state, return_counts=True)"
   ]
  },
  {
   "cell_type": "code",
   "execution_count": 13,
   "metadata": {},
   "outputs": [
    {
     "name": "stdout",
     "output_type": "stream",
     "text": [
      "Performing the aperture losses refinement.\n"
     ]
    }
   ],
   "source": [
    "line.discard_tracker()\n",
    "line.build_tracker(_context=xo.ContextCpu())\n",
    "\n",
    "ThisLM = xc.LossMap(line, line_is_reversed=False, part=part)\n",
    "ThisLM.to_json(file=f'LM_{name_sim}.json')"
   ]
  },
  {
   "cell_type": "code",
   "execution_count": 14,
   "metadata": {},
   "outputs": [
    {
     "name": "stdout",
     "output_type": "stream",
     "text": [
      "Warning: Packages pyspark or cern.nxcals are not installed. Data retrieval from NXCALS is not possible.\n",
      " If you are on SWAN and did not expect this warning, then restart and load the 'NXCals Pro' software stack.\n"
     ]
    }
   ],
   "source": [
    "import lossmaps as lm"
   ]
  },
  {
   "cell_type": "code",
   "execution_count": 15,
   "metadata": {},
   "outputs": [
    {
     "name": "stdout",
     "output_type": "stream",
     "text": [
      "Warning: Did not find warm regions for machine SPS. All aperture losses will default to warm losses.\n"
     ]
    },
    {
     "name": "stderr",
     "output_type": "stream",
     "text": [
      "/home/lpauwels/miniforge3/envs/xsuite_dev/lib/python3.11/site-packages/lossmaps/lossmap.py:860: FutureWarning: The behavior of DataFrame concatenation with empty or all-NA entries is deprecated. In a future version, this will no longer exclude empty or all-NA columns when determining the result dtypes. To retain the old behavior, exclude the relevant entries before the concat operation.\n",
      "  self._losses = pd.concat([ coll_df, aper_df ], ignore_index=True)\n"
     ]
    },
    {
     "data": {
      "image/png": "[encoded data removed]",
      "text/plain": [
       "<Figure size 2000x600 with 1 Axes>"
      ]
     },
     "metadata": {},
     "output_type": "display_data"
    }
   ],
   "source": [
    "ThisLM = lm.SimulatedLossMap(lmtype=lm.LMType.B1H, machine=lm.Machine.SPS)\n",
    "ThisLM.load_data_json(json_files=[f'LM_{name_sim}.json'])\n",
    "fig = lm.plot_lossmap(ThisLM, xlim=(0,7000), show_zoom=False, ylim=[0.0000001,10], outfile=f'{name_sim}.png')\n",
    "plt.show()"
   ]
  },
  {
   "cell_type": "code",
   "execution_count": null,
   "metadata": {},
   "outputs": [],
   "source": []
  }
 ],
 "metadata": {
  "kernelspec": {
   "display_name": "xsuite2",
   "language": "python",
   "name": "python3"
  },
  "language_info": {
   "codemirror_mode": {
    "name": "ipython",
    "version": 3
   },
   "file_extension": ".py",
   "mimetype": "text/x-python",
   "name": "python",
   "nbconvert_exporter": "python",
   "pygments_lexer": "ipython3",
   "version": "3.13.1"
  }
 },
 "nbformat": 4,
 "nbformat_minor": 2
}
