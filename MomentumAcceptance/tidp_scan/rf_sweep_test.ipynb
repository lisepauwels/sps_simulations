{
 "cells": [
  {
   "cell_type": "code",
   "execution_count": 2,
   "id": "270e8053",
   "metadata": {},
   "outputs": [],
   "source": [
    "import numpy as np\n",
    "from pathlib import Path\n",
    "import time\n",
    "start_time = time.time()\n",
    "import matplotlib.pyplot as plt\n",
    "\n",
    "import xobjects as xo\n",
    "import xtrack as xt\n",
    "import xpart as xp\n",
    "import xobjects as xo\n",
    "import xcoll as xc"
   ]
  },
  {
   "cell_type": "code",
   "execution_count": 9,
   "id": "1b83bfdb",
   "metadata": {},
   "outputs": [],
   "source": [
    "context = xo.ContextCpu()\n",
    "\n",
    "plane = 'DPpos'\n",
    "\n",
    "num_particles  = 50\n",
    "sweep          = 300\n",
    "sweep          = -abs(sweep) if plane == 'DPpos' else abs(sweep)\n",
    "num_turns      = int(20*abs(sweep))"
   ]
  },
  {
   "cell_type": "code",
   "execution_count": 10,
   "id": "32f08031",
   "metadata": {},
   "outputs": [
    {
     "data": {
      "application/vnd.jupyter.widget-view+json": {
       "model_id": "af2228c10cf24a8290d05a4dbfa81aea",
       "version_major": 2,
       "version_minor": 0
      },
      "text/plain": [
       "Loading line from dict:   0%|          | 0/36395 [00:00<?, ?it/s]"
      ]
     },
     "metadata": {},
     "output_type": "display_data"
    },
    {
     "name": "stdout",
     "output_type": "stream",
     "text": [
      "Done loading line from dict.           \n"
     ]
    }
   ],
   "source": [
    "line = xt.Line.from_json('../../injection_lines/sps_with_aperture_inj_q20_beam_sagitta2.json')"
   ]
  },
  {
   "cell_type": "code",
   "execution_count": null,
   "id": "d4ef05fa",
   "metadata": {},
   "outputs": [
    {
     "name": "stdout",
     "output_type": "stream",
     "text": [
      "Compiling ContextCpu kernels...\n"
     ]
    }
   ],
   "source": [
    "line.build_tracker()\n",
    "part = xp.generate_matched_gaussian_bunch(nemitt_x=3.5e-6,\n",
    "                                          nemitt_y=3.5e-6,\n",
    "                                          sigma_z=0.224, num_particles=num_particles, line=line)\n",
    "line.discard_tracker()\n",
    "line.build_tracker(_context=xo.ContextCpu(omp_num_threads='25'))\n",
    "rf_sweep = xc.RFSweep(line)\n",
    "rf_sweep.info(sweep=sweep, num_turns=num_turns)"
   ]
  },
  {
   "cell_type": "code",
   "execution_count": null,
   "id": "06876b21",
   "metadata": {},
   "outputs": [
    {
     "name": "stdout",
     "output_type": "stream",
     "text": [
      "No xcoll elements found in line.\n"
     ]
    },
    {
     "data": {
      "application/vnd.jupyter.widget-view+json": {
       "model_id": "3642d019bb1f43979653d7dddbf60bf4",
       "version_major": 2,
       "version_minor": 0
      },
      "text/plain": [
       "Tracking:   0%|          | 0/6000 [00:00<?, ?it/s]"
      ]
     },
     "metadata": {},
     "output_type": "display_data"
    },
    {
     "ename": "KeyboardInterrupt",
     "evalue": "",
     "output_type": "error",
     "traceback": [
      "\u001b[31m---------------------------------------------------------------------------\u001b[39m",
      "\u001b[31mKeyboardInterrupt\u001b[39m                         Traceback (most recent call last)",
      "\u001b[36mCell\u001b[39m\u001b[36m \u001b[39m\u001b[32mIn[8]\u001b[39m\u001b[32m, line 2\u001b[39m\n\u001b[32m      1\u001b[39m line.scattering.enable()\n\u001b[32m----> \u001b[39m\u001b[32m2\u001b[39m \u001b[43mrf_sweep\u001b[49m\u001b[43m.\u001b[49m\u001b[43mtrack\u001b[49m\u001b[43m(\u001b[49m\u001b[43msweep\u001b[49m\u001b[43m=\u001b[49m\u001b[43msweep\u001b[49m\u001b[43m,\u001b[49m\u001b[43m \u001b[49m\u001b[43mparticles\u001b[49m\u001b[43m=\u001b[49m\u001b[43mpart\u001b[49m\u001b[43m,\u001b[49m\u001b[43m \u001b[49m\u001b[43mnum_turns\u001b[49m\u001b[43m=\u001b[49m\u001b[43mnum_turns\u001b[49m\u001b[43m,\u001b[49m\u001b[43m \u001b[49m\u001b[43mtime\u001b[49m\u001b[43m=\u001b[49m\u001b[38;5;28;43;01mTrue\u001b[39;49;00m\u001b[43m,\u001b[49m\u001b[43m \u001b[49m\u001b[43mwith_progress\u001b[49m\u001b[43m=\u001b[49m\u001b[32;43m5\u001b[39;49m\u001b[43m)\u001b[49m\n\u001b[32m      3\u001b[39m line.scattering.disable()\n\u001b[32m      4\u001b[39m \u001b[38;5;28mprint\u001b[39m(\u001b[33mf\u001b[39m\u001b[33m\"\u001b[39m\u001b[33mDone sweeping RF in \u001b[39m\u001b[38;5;132;01m{\u001b[39;00mline.time_last_track\u001b[38;5;132;01m:\u001b[39;00m\u001b[33m.1f\u001b[39m\u001b[38;5;132;01m}\u001b[39;00m\u001b[33ms.\u001b[39m\u001b[33m\"\u001b[39m)\n",
      "\u001b[36mFile \u001b[39m\u001b[32m~/Xsuite/xcoll/xcoll/rf_sweep.py:193\u001b[39m, in \u001b[36mRFSweep.track\u001b[39m\u001b[34m(self, sweep, particles, num_turns, verbose, *args, **kwargs)\u001b[39m\n\u001b[32m    191\u001b[39m     one_turn_kwargs[\u001b[33m'\u001b[39m\u001b[33mele_stop\u001b[39m\u001b[33m'\u001b[39m] = \u001b[38;5;28;01mNone\u001b[39;00m\n\u001b[32m    192\u001b[39m     one_turn_kwargs[\u001b[33m'\u001b[39m\u001b[33m_reset_log\u001b[39m\u001b[33m'\u001b[39m] = \u001b[38;5;28;01mFalse\u001b[39;00m\n\u001b[32m--> \u001b[39m\u001b[32m193\u001b[39m \u001b[38;5;28;43mself\u001b[39;49m\u001b[43m.\u001b[49m\u001b[43m_tracking_func\u001b[49m\u001b[43m(\u001b[49m\u001b[43mparticles\u001b[49m\u001b[43m,\u001b[49m\u001b[43m \u001b[49m\u001b[43mrf_shift_per_turn\u001b[49m\u001b[43m,\u001b[49m\u001b[43m \u001b[49m\u001b[43m*\u001b[49m\u001b[43m*\u001b[49m\u001b[43mone_turn_kwargs\u001b[49m\u001b[43m)\u001b[49m\n\u001b[32m    194\u001b[39m \u001b[38;5;28;01mif\u001b[39;00m \u001b[38;5;129;01mnot\u001b[39;00m np.any(particles.state == \u001b[32m1\u001b[39m):\n\u001b[32m    195\u001b[39m     \u001b[38;5;28;01mbreak\u001b[39;00m\n",
      "\u001b[36mFile \u001b[39m\u001b[32m~/Xsuite/xcoll/xcoll/rf_sweep.py:218\u001b[39m, in \u001b[36mRFSweep._tracking_func\u001b[39m\u001b[34m(self, particles, rf_shift_per_turn, num_turns, *args, **kwargs)\u001b[39m\n\u001b[32m    215\u001b[39m             \u001b[38;5;28mself\u001b[39m.line[\u001b[33m'\u001b[39m\u001b[33mrf_sweep\u001b[39m\u001b[33m'\u001b[39m].dzeta = \u001b[38;5;28mself\u001b[39m.L * sweep / (\u001b[38;5;28mself\u001b[39m.f_RF + sweep)\n\u001b[32m    216\u001b[39m \u001b[38;5;66;03m#             for cav in cavities:\u001b[39;00m\n\u001b[32m    217\u001b[39m \u001b[38;5;66;03m#                 self.line[cav].frequency = freq + sweep\u001b[39;00m\n\u001b[32m--> \u001b[39m\u001b[32m218\u001b[39m             \u001b[38;5;28;43mself\u001b[39;49m\u001b[43m.\u001b[49m\u001b[43mline\u001b[49m\u001b[43m.\u001b[49m\u001b[43mtrack\u001b[49m\u001b[43m(\u001b[49m\u001b[43mparticles\u001b[49m\u001b[43m,\u001b[49m\u001b[43m \u001b[49m\u001b[43mnum_turns\u001b[49m\u001b[43m=\u001b[49m\u001b[32;43m1\u001b[39;49m\u001b[43m,\u001b[49m\u001b[43m \u001b[49m\u001b[43m*\u001b[49m\u001b[43margs\u001b[49m\u001b[43m,\u001b[49m\u001b[43m \u001b[49m\u001b[43m*\u001b[49m\u001b[43m*\u001b[49m\u001b[43mkwargs\u001b[49m\u001b[43m)\u001b[49m\n\u001b[32m    219\u001b[39m             \u001b[38;5;28;01mif\u001b[39;00m \u001b[38;5;129;01mnot\u001b[39;00m np.any(particles.state == \u001b[32m1\u001b[39m):\n\u001b[32m    220\u001b[39m                 \u001b[38;5;28;01mbreak\u001b[39;00m\n",
      "\u001b[36mFile \u001b[39m\u001b[32m~/Xsuite/xtrack/xtrack/line.py:1111\u001b[39m, in \u001b[36mLine.track\u001b[39m\u001b[34m(self, particles, ele_start, ele_stop, num_elements, num_turns, turn_by_turn_monitor, freeze_longitudinal, time, with_progress, **kwargs)\u001b[39m\n\u001b[32m   1108\u001b[39m \u001b[38;5;28;01mif\u001b[39;00m \u001b[38;5;129;01mnot\u001b[39;00m \u001b[38;5;28mself\u001b[39m._has_valid_tracker():\n\u001b[32m   1109\u001b[39m     \u001b[38;5;28mself\u001b[39m.build_tracker()\n\u001b[32m-> \u001b[39m\u001b[32m1111\u001b[39m \u001b[38;5;28;01mreturn\u001b[39;00m \u001b[38;5;28;43mself\u001b[39;49m\u001b[43m.\u001b[49m\u001b[43mtracker\u001b[49m\u001b[43m.\u001b[49m\u001b[43m_track\u001b[49m\u001b[43m(\u001b[49m\n\u001b[32m   1112\u001b[39m \u001b[43m    \u001b[49m\u001b[43mparticles\u001b[49m\u001b[43m,\u001b[49m\n\u001b[32m   1113\u001b[39m \u001b[43m    \u001b[49m\u001b[43mele_start\u001b[49m\u001b[43m=\u001b[49m\u001b[43mele_start\u001b[49m\u001b[43m,\u001b[49m\n\u001b[32m   1114\u001b[39m \u001b[43m    \u001b[49m\u001b[43mele_stop\u001b[49m\u001b[43m=\u001b[49m\u001b[43mele_stop\u001b[49m\u001b[43m,\u001b[49m\n\u001b[32m   1115\u001b[39m \u001b[43m    \u001b[49m\u001b[43mnum_elements\u001b[49m\u001b[43m=\u001b[49m\u001b[43mnum_elements\u001b[49m\u001b[43m,\u001b[49m\n\u001b[32m   1116\u001b[39m \u001b[43m    \u001b[49m\u001b[43mnum_turns\u001b[49m\u001b[43m=\u001b[49m\u001b[43mnum_turns\u001b[49m\u001b[43m,\u001b[49m\n\u001b[32m   1117\u001b[39m \u001b[43m    \u001b[49m\u001b[43mturn_by_turn_monitor\u001b[49m\u001b[43m=\u001b[49m\u001b[43mturn_by_turn_monitor\u001b[49m\u001b[43m,\u001b[49m\n\u001b[32m   1118\u001b[39m \u001b[43m    \u001b[49m\u001b[43mfreeze_longitudinal\u001b[49m\u001b[43m=\u001b[49m\u001b[43mfreeze_longitudinal\u001b[49m\u001b[43m,\u001b[49m\n\u001b[32m   1119\u001b[39m \u001b[43m    \u001b[49m\u001b[43mtime\u001b[49m\u001b[43m=\u001b[49m\u001b[43mtime\u001b[49m\u001b[43m,\u001b[49m\n\u001b[32m   1120\u001b[39m \u001b[43m    \u001b[49m\u001b[43mwith_progress\u001b[49m\u001b[43m=\u001b[49m\u001b[43mwith_progress\u001b[49m\u001b[43m,\u001b[49m\n\u001b[32m   1121\u001b[39m \u001b[43m    \u001b[49m\u001b[43m*\u001b[49m\u001b[43m*\u001b[49m\u001b[43mkwargs\u001b[49m\u001b[43m)\u001b[49m\n",
      "\u001b[36mFile \u001b[39m\u001b[32m~/Xsuite/xtrack/xtrack/tracker.py:373\u001b[39m, in \u001b[36mTracker._track\u001b[39m\u001b[34m(self, particles, with_progress, time, *args, **kwargs)\u001b[39m\n\u001b[32m    370\u001b[39m         tracking_func(particles, *args, **one_turn_kwargs)\n\u001b[32m    371\u001b[39m         \u001b[38;5;66;03m# particles.reorganize() # could be done in the future to optimize GPU usage\u001b[39;00m\n\u001b[32m    372\u001b[39m \u001b[38;5;28;01melse\u001b[39;00m:\n\u001b[32m--> \u001b[39m\u001b[32m373\u001b[39m     out = \u001b[43mtracking_func\u001b[49m\u001b[43m(\u001b[49m\u001b[43mparticles\u001b[49m\u001b[43m,\u001b[49m\u001b[43m \u001b[49m\u001b[43m*\u001b[49m\u001b[43margs\u001b[49m\u001b[43m,\u001b[49m\u001b[43m \u001b[49m\u001b[43m*\u001b[49m\u001b[43m*\u001b[49m\u001b[43mkwargs\u001b[49m\u001b[43m)\u001b[49m\n\u001b[32m    375\u001b[39m \u001b[38;5;28;01mif\u001b[39;00m time:\n\u001b[32m    376\u001b[39m     t1 = perf_counter()\n",
      "\u001b[36mFile \u001b[39m\u001b[32m~/Xsuite/xtrack/xtrack/tracker.py:1243\u001b[39m, in \u001b[36mTracker._track_no_collective\u001b[39m\u001b[34m(self, particles, ele_start, ele_stop, num_elements, num_turns, turn_by_turn_monitor, freeze_longitudinal, backtrack, log, _force_no_end_turn_actions, _reset_log)\u001b[39m\n\u001b[32m   1241\u001b[39m \u001b[38;5;66;03m# First turn\u001b[39;00m\n\u001b[32m   1242\u001b[39m \u001b[38;5;28;01massert\u001b[39;00m num_elements_first_turn >= \u001b[32m0\u001b[39m\n\u001b[32m-> \u001b[39m\u001b[32m1243\u001b[39m \u001b[43mtrack_kernel\u001b[49m\u001b[43m(\u001b[49m\n\u001b[32m   1244\u001b[39m \u001b[43m    \u001b[49m\u001b[43mbuffer\u001b[49m\u001b[43m=\u001b[49m\u001b[43mtracker_data\u001b[49m\u001b[43m.\u001b[49m\u001b[43m_buffer\u001b[49m\u001b[43m.\u001b[49m\u001b[43mbuffer\u001b[49m\u001b[43m,\u001b[49m\n\u001b[32m   1245\u001b[39m \u001b[43m    \u001b[49m\u001b[43mtracker_data\u001b[49m\u001b[43m=\u001b[49m\u001b[43mtracker_data\u001b[49m\u001b[43m.\u001b[49m\u001b[43m_element_ref_data\u001b[49m\u001b[43m,\u001b[49m\n\u001b[32m   1246\u001b[39m \u001b[43m    \u001b[49m\u001b[43mparticles\u001b[49m\u001b[43m=\u001b[49m\u001b[43mparticles\u001b[49m\u001b[43m.\u001b[49m\u001b[43m_xobject\u001b[49m\u001b[43m,\u001b[49m\n\u001b[32m   1247\u001b[39m \u001b[43m    \u001b[49m\u001b[43mnum_turns\u001b[49m\u001b[43m=\u001b[49m\u001b[32;43m1\u001b[39;49m\u001b[43m,\u001b[49m\n\u001b[32m   1248\u001b[39m \u001b[43m    \u001b[49m\u001b[43mele_start\u001b[49m\u001b[43m=\u001b[49m\u001b[43mele_start\u001b[49m\u001b[43m,\u001b[49m\n\u001b[32m   1249\u001b[39m \u001b[43m    \u001b[49m\u001b[43mnum_ele_track\u001b[49m\u001b[43m=\u001b[49m\u001b[43mnum_elements_first_turn\u001b[49m\u001b[43m,\u001b[49m\n\u001b[32m   1250\u001b[39m \u001b[43m    \u001b[49m\u001b[43mflag_end_turn_actions\u001b[49m\u001b[43m=\u001b[49m\u001b[43mflag_end_first_turn_actions\u001b[49m\u001b[43m,\u001b[49m\n\u001b[32m   1251\u001b[39m \u001b[43m    \u001b[49m\u001b[43mflag_reset_s_at_end_turn\u001b[49m\u001b[43m=\u001b[49m\u001b[38;5;28;43mself\u001b[39;49m\u001b[43m.\u001b[49m\u001b[43mreset_s_at_end_turn\u001b[49m\u001b[43m,\u001b[49m\n\u001b[32m   1252\u001b[39m \u001b[43m    \u001b[49m\u001b[43mflag_monitor\u001b[49m\u001b[43m=\u001b[49m\u001b[43mflag_monitor\u001b[49m\u001b[43m,\u001b[49m\n\u001b[32m   1253\u001b[39m \u001b[43m    \u001b[49m\u001b[43mnum_ele_line\u001b[49m\u001b[43m=\u001b[49m\u001b[38;5;28;43mlen\u001b[39;49m\u001b[43m(\u001b[49m\u001b[43mtracker_data\u001b[49m\u001b[43m.\u001b[49m\u001b[43melement_names\u001b[49m\u001b[43m)\u001b[49m\u001b[43m,\u001b[49m\n\u001b[32m   1254\u001b[39m \u001b[43m    \u001b[49m\u001b[43mline_length\u001b[49m\u001b[43m=\u001b[49m\u001b[43mtracker_data\u001b[49m\u001b[43m.\u001b[49m\u001b[43mline_length\u001b[49m\u001b[43m,\u001b[49m\n\u001b[32m   1255\u001b[39m \u001b[43m    \u001b[49m\u001b[43mbuffer_tbt_monitor\u001b[49m\u001b[43m=\u001b[49m\u001b[43mbuffer_monitor\u001b[49m\u001b[43m,\u001b[49m\n\u001b[32m   1256\u001b[39m \u001b[43m    \u001b[49m\u001b[43moffset_tbt_monitor\u001b[49m\u001b[43m=\u001b[49m\u001b[43moffset_monitor\u001b[49m\u001b[43m,\u001b[49m\n\u001b[32m   1257\u001b[39m \u001b[43m    \u001b[49m\u001b[43mio_buffer\u001b[49m\u001b[43m=\u001b[49m\u001b[38;5;28;43mself\u001b[39;49m\u001b[43m.\u001b[49m\u001b[43mio_buffer\u001b[49m\u001b[43m.\u001b[49m\u001b[43mbuffer\u001b[49m\u001b[43m,\u001b[49m\n\u001b[32m   1258\u001b[39m \u001b[43m\u001b[49m\u001b[43m)\u001b[49m\n\u001b[32m   1260\u001b[39m \u001b[38;5;66;03m# Middle turns\u001b[39;00m\n\u001b[32m   1261\u001b[39m \u001b[38;5;28;01mif\u001b[39;00m num_middle_turns > \u001b[32m0\u001b[39m:\n",
      "\u001b[36mFile \u001b[39m\u001b[32m~/Xsuite/xobjects/xobjects/context_cpu.py:852\u001b[39m, in \u001b[36mKernelCpu.__call__\u001b[39m\u001b[34m(self, **kwargs)\u001b[39m\n\u001b[32m    849\u001b[39m     \u001b[38;5;28;01mif\u001b[39;00m \u001b[38;5;28misinstance\u001b[39m(\u001b[38;5;28mself\u001b[39m.context.omp_num_threads, \u001b[38;5;28mint\u001b[39m):\n\u001b[32m    850\u001b[39m         \u001b[38;5;28mself\u001b[39m.context.omp_set_num_threads(\u001b[38;5;28mself\u001b[39m.context.omp_num_threads)\n\u001b[32m--> \u001b[39m\u001b[32m852\u001b[39m ret = \u001b[38;5;28;43mself\u001b[39;49m\u001b[43m.\u001b[49m\u001b[43mfunction\u001b[49m\u001b[43m(\u001b[49m\u001b[43m*\u001b[49m\u001b[43marg_list\u001b[49m\u001b[43m)\u001b[49m\n\u001b[32m    854\u001b[39m \u001b[38;5;28;01mif\u001b[39;00m \u001b[38;5;28mself\u001b[39m.description.ret \u001b[38;5;129;01mis\u001b[39;00m \u001b[38;5;129;01mnot\u001b[39;00m \u001b[38;5;28;01mNone\u001b[39;00m:\n\u001b[32m    855\u001b[39m     \u001b[38;5;28;01mreturn\u001b[39;00m \u001b[38;5;28mself\u001b[39m.from_function_arg(\u001b[38;5;28mself\u001b[39m.description.ret, ret)\n",
      "\u001b[31mKeyboardInterrupt\u001b[39m: "
     ]
    }
   ],
   "source": [
    "line.scattering.enable()\n",
    "rf_sweep.track(sweep=sweep, particles=part, num_turns=num_turns, time=True, with_progress=5)\n",
    "line.scattering.disable()\n",
    "print(f\"Done sweeping RF in {line.time_last_track:.1f}s.\")"
   ]
  },
  {
   "cell_type": "code",
   "execution_count": null,
   "id": "2a113882",
   "metadata": {},
   "outputs": [],
   "source": []
  }
 ],
 "metadata": {
  "kernelspec": {
   "display_name": "xsuite",
   "language": "python",
   "name": "python3"
  },
  "language_info": {
   "codemirror_mode": {
    "name": "ipython",
    "version": 3
   },
   "file_extension": ".py",
   "mimetype": "text/x-python",
   "name": "python",
   "nbconvert_exporter": "python",
   "pygments_lexer": "ipython3",
   "version": "3.13.2"
  }
 },
 "nbformat": 4,
 "nbformat_minor": 5
}
