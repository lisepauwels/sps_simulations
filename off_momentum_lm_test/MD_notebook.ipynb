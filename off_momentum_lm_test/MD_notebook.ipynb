{
 "cells": [
  {
   "cell_type": "code",
   "execution_count": null,
   "id": "c3f6fc67",
   "metadata": {},
   "outputs": [],
   "source": [
    "sigma_tcsm = 2067 #position in microns for one sigma\n",
    "centre_tcsm = -443\n",
    "\n",
    "jaw_positions = [round(5.7*sigma_tcsm+centre_tcsm), round(-5.7*sigma_tcsm+centre_tcsm)] #at5.7 sigma beam"
   ]
  },
  {
   "cell_type": "code",
   "execution_count": null,
   "id": "97f9b008",
   "metadata": {},
   "outputs": [],
   "source": []
  }
 ],
 "metadata": {
  "kernelspec": {
   "display_name": "xsuite2",
   "language": "python",
   "name": "python3"
  },
  "language_info": {
   "codemirror_mode": {
    "name": "ipython",
    "version": 3
   },
   "file_extension": ".py",
   "mimetype": "text/x-python",
   "name": "python",
   "nbconvert_exporter": "python",
   "pygments_lexer": "ipython3",
   "version": "3.13.1"
  }
 },
 "nbformat": 4,
 "nbformat_minor": 5
}
