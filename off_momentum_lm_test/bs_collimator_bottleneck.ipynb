{
 "cells": [
  {
   "cell_type": "code",
   "execution_count": 1,
   "id": "f30ee98f",
   "metadata": {},
   "outputs": [],
   "source": [
    "import numpy as np\n",
    "from pathlib import Path\n",
    "import time\n",
    "import matplotlib.pyplot as plt\n",
    "start_time = time.time()\n",
    "\n",
    "import xobjects as xo\n",
    "import xtrack as xt\n",
    "import xpart as xp\n",
    "import xobjects as xo\n",
    "import xcoll as xc\n",
    "\n",
    "import apertls\n",
    "from matplotlib.colors import LogNorm"
   ]
  },
  {
   "cell_type": "code",
   "execution_count": 2,
   "id": "f5279039",
   "metadata": {},
   "outputs": [],
   "source": [
    "# This script takes around 8 minutes on a modern CPU (80s preparation+interpolation, 400s tracking)\n",
    "context = xo.ContextCpu()\n",
    "\n",
    "beam = 1\n",
    "plane = 'DNeg'#'DPpos'\n",
    "\n",
    "num_particles  = 500\n",
    "sweep          = 3500\n",
    "sweep          = -abs(sweep) if plane == 'DPpos' else abs(sweep)\n",
    "#num_turns      = int(20*abs(sweep))\n",
    "num_turns=6000"
   ]
  },
  {
   "cell_type": "code",
   "execution_count": 3,
   "id": "8c422deb",
   "metadata": {},
   "outputs": [],
   "source": [
    "nemitt_x = 3.5e-6\n",
    "nemitt_y = 3.5e-6"
   ]
  },
  {
   "cell_type": "code",
   "execution_count": 4,
   "id": "4833afa0",
   "metadata": {},
   "outputs": [
    {
     "data": {
      "application/vnd.jupyter.widget-view+json": {
       "model_id": "e2efe3841c9b44e3bc84787e0d3bf238",
       "version_major": 2,
       "version_minor": 0
      },
      "text/plain": [
       "Loading line from dict:   0%|          | 0/36381 [00:00<?, ?it/s]"
      ]
     },
     "metadata": {},
     "output_type": "display_data"
    },
    {
     "name": "stdout",
     "output_type": "stream",
     "text": [
      "Done loading line from dict.           \n"
     ]
    }
   ],
   "source": [
    "line = xt.Line.from_json('../injection_lines/sps_with_aperture_inj_q20_beam_sagitta.json')\n",
    "\n",
    "#setting all cavities to 200 (even 800 cavities) because rf sweep not implemented\n",
    "cavity_elements, cavity_names = line.get_elements_of_type(xt.Cavity)\n",
    "for name in cavity_names:\n",
    "    line[name].frequency = 200e6\n",
    "    line[name].lag = 180\n",
    "\n",
    "line['acl.31735'].voltage = 0\n",
    "\n",
    "#Needed to resolve the driftslice parent issues\n",
    "line.build_tracker()\n",
    "line.discard_tracker()"
   ]
  },
  {
   "cell_type": "code",
   "execution_count": 5,
   "id": "a090664a",
   "metadata": {},
   "outputs": [
    {
     "data": {
      "text/plain": [
       "[np.float64(799.5902), np.float64(799.825)]"
      ]
     },
     "execution_count": 5,
     "metadata": {},
     "output_type": "execute_result"
    }
   ],
   "source": [
    "line.get_s_position(['bpcn.12508.a_aper','bpcn.12508.b_aper'])"
   ]
  },
  {
   "cell_type": "code",
   "execution_count": 6,
   "id": "bd43406e",
   "metadata": {},
   "outputs": [
    {
     "name": "stdout",
     "output_type": "stream",
     "text": [
      "0.0053 0.0053\n",
      "0.04202719406674908 0.9579728059332508\n"
     ]
    }
   ],
   "source": [
    "theta = np.atan(5.3/809)\n",
    "L1 = 34e-3\n",
    "L2 = 21e-3\n",
    "L3 = 754e-3\n",
    "h_tot = 5.3e-3\n",
    "\n",
    "x1 = L1/np.cos(theta)\n",
    "x2 = L2/np.cos(theta)\n",
    "x3 = L3/np.cos(theta)\n",
    "\n",
    "print(np.sin(theta)*(x1+x2+x3), h_tot)\n",
    "\n",
    "x_tot = x1+x2+x3\n",
    "w_steel = x1/x_tot\n",
    "w_air = (x2+x3)/x_tot\n",
    "\n",
    "print(w_steel, w_air)"
   ]
  },
  {
   "cell_type": "code",
   "execution_count": 7,
   "id": "a1e8f5f4",
   "metadata": {},
   "outputs": [],
   "source": [
    "d_steel_air = x2+x3\n",
    "\n",
    "X_Be = 35.28e-2\n",
    "X_air = 303.9\n",
    "X_Fe = 1.757e-2\n",
    "X_C = 19.32e-2\n",
    "X_steel = (0.02/X_C + 0.98/X_Fe)**(-1)\n",
    "X_steel_air = (w_steel/X_steel + w_air/X_air)**(-1)\n",
    "\n",
    "d_Be = X_Be/X_steel_air * d_steel_air #shorter than d_steel_air so we can keep angle theta and stop collimator before end of VCAK"
   ]
  },
  {
   "cell_type": "code",
   "execution_count": 8,
   "id": "6e271329",
   "metadata": {},
   "outputs": [
    {
     "data": {
      "application/vnd.jupyter.widget-view+json": {
       "model_id": "94a7c2e27ced47bc9841a344ea8a0393",
       "version_major": 2,
       "version_minor": 0
      },
      "text/plain": [
       "Slicing line:   0%|          | 0/75280 [00:00<?, ?it/s]"
      ]
     },
     "metadata": {},
     "output_type": "display_data"
    }
   ],
   "source": [
    "line.discard_tracker()\n",
    "#collimator jaw positions:\n",
    "ap_vebb_x = 0.0645\n",
    "jaw_ru = -ap_vebb_x\n",
    "jaw_rd = -ap_vebb_x - h_tot\n",
    "jaw_lu = ap_vebb_x\n",
    "jaw_ld = ap_vebb_x - h_tot\n",
    "L_coll = d_Be\n",
    "\n",
    "coll_12501 = xc.EverestCollimator(length=L_coll, material=xc.materials.Beryllium, jaw_RU=jaw_ru, jaw_RD=jaw_rd, jaw_LU=jaw_lu, jaw_LD=jaw_ld)\n",
    "coll_61101 = xc.EverestCollimator(length=L_coll, material=xc.materials.Beryllium, jaw_RU=jaw_ru, jaw_RD=jaw_rd, jaw_LU=jaw_lu, jaw_LD=jaw_ld)\n",
    "name_colls = ['vcak.12501_coll', 'vcak.61101_coll']\n",
    "s_colls = [line.get_s_position('vebb.12490.b_aper'), line.get_s_position('vebb.61090.b_aper')]\n",
    "\n",
    "names_vcak_apers_to_remove = ['vcak.12501.a_aper', 'vcak.12501.b_aper', 'vcak.61101.a_aper', 'vcak.61101.b_aper']\n",
    "# for name in names_vcak_apers_to_remove:\n",
    "#     line.remove(name)\n",
    "\n",
    "line.collimators.install(names=name_colls, elements=[coll_12501, coll_61101], at_s=s_colls)"
   ]
  },
  {
   "cell_type": "code",
   "execution_count": 9,
   "id": "6a4282d8",
   "metadata": {},
   "outputs": [],
   "source": [
    "#optics\n",
    "tw = line.twiss()\n",
    "line.collimators.assign_optics(nemitt_x=nemitt_x, nemitt_y=nemitt_y)"
   ]
  },
  {
   "cell_type": "code",
   "execution_count": 10,
   "id": "a4f89a93",
   "metadata": {},
   "outputs": [
    {
     "name": "stdout",
     "output_type": "stream",
     "text": [
      "*** Maximum RMS bunch length 0.2361011021355421m.\n",
      "... distance to target bunch length: -2.2226e-01\n",
      "... distance to target bunch length: 5.5784e-03\n",
      "... distance to target bunch length: 5.2361e-03\n",
      "... distance to target bunch length: -6.3267e-03\n",
      "... distance to target bunch length: 1.9948e-03\n",
      "... distance to target bunch length: -3.8258e-04\n",
      "... distance to target bunch length: 5.3833e-05\n",
      "... distance to target bunch length: 1.2594e-06\n",
      "... distance to target bunch length: -1.0995e-10\n",
      "... distance to target bunch length: 1.2805e-07\n",
      "--> Bunch length: 0.22399999989004873\n",
      "--> Emittance: 0.34209413293702573\n",
      "Compiling ContextCpu kernels...\n",
      "Done compiling ContextCpu kernels.\n"
     ]
    },
    {
     "data": {
      "text/plain": [
       "<xtrack.tracker.Tracker at 0x7fd3b71e51d0>"
      ]
     },
     "execution_count": 10,
     "metadata": {},
     "output_type": "execute_result"
    }
   ],
   "source": [
    "#particles\n",
    "part = xp.generate_matched_gaussian_bunch(nemitt_x=nemitt_x,\n",
    "                                          nemitt_y=nemitt_y,\n",
    "                                          sigma_z=0.224, num_particles=num_particles, line=line)\n",
    "line.discard_tracker()\n",
    "line.build_tracker(_context=xo.ContextCpu(omp_num_threads='25'))"
   ]
  },
  {
   "cell_type": "code",
   "execution_count": 11,
   "id": "642960c5",
   "metadata": {},
   "outputs": [
    {
     "name": "stdout",
     "output_type": "stream",
     "text": [
      "The current frequency is 200000000.0Hz, adding 0.5833333333333334Hz per turn until 200003500.0 (for 6000 turns).\n",
      "This sweep will move the center of the bucket with Δδ = -0.009734169779084362 (-1.334655851427876 buckets).\n"
     ]
    }
   ],
   "source": [
    "#rf sweep\n",
    "rf_sweep = xc.RFSweep(line)\n",
    "rf_sweep.info(sweep=sweep, num_turns=num_turns)"
   ]
  },
  {
   "cell_type": "code",
   "execution_count": 12,
   "id": "75467838",
   "metadata": {},
   "outputs": [
    {
     "data": {
      "application/vnd.jupyter.widget-view+json": {
       "model_id": "7861747fd8584d6ab4843fef99cca8f7",
       "version_major": 2,
       "version_minor": 0
      },
      "text/plain": [
       "Tracking:   0%|          | 0/6000 [00:00<?, ?it/s]"
      ]
     },
     "metadata": {},
     "output_type": "display_data"
    },
    {
     "name": "stdout",
     "output_type": "stream",
     "text": [
      "All particles lost at turn 5963, stopped sweep at 2783.082936Hz.\n",
      "Done sweeping RF in 5704.5s.\n"
     ]
    }
   ],
   "source": [
    "#tracking\n",
    "line.scattering.enable()\n",
    "rf_sweep.track(sweep=sweep, particles=part, num_turns=num_turns, time=True, with_progress=5)\n",
    "line.scattering.disable()\n",
    "print(f\"Done sweeping RF in {line.time_last_track:.1f}s.\")"
   ]
  },
  {
   "cell_type": "code",
   "execution_count": 13,
   "id": "cd73dab8",
   "metadata": {},
   "outputs": [
    {
     "data": {
      "image/png": "[encoded data removed]",
      "text/plain": [
       "<Figure size 1000x600 with 2 Axes>"
      ]
     },
     "metadata": {},
     "output_type": "display_data"
    }
   ],
   "source": [
    "#Plot\n",
    "turn_bins_resolution = 1000\n",
    "turn_min, turn_max = 0, num_turns\n",
    "turn_bins = np.linspace(turn_min, turn_max, turn_bins_resolution + 1)\n",
    "\n",
    "element_bin_resolution = 1000\n",
    "element_min, element_max = 0, len(line.element_names)\n",
    "element_bins = np.linspace(element_min, element_max, element_bin_resolution + 1)\n",
    "\n",
    "hist2d, element_edges, turn_edges = np.histogram2d(\n",
    "    part.at_element[part.state<=0], part.at_turn[part.state<=0],\n",
    "    bins=[element_bins, turn_bins]\n",
    ")\n",
    "\n",
    "plt.figure(figsize=(10, 6))\n",
    "plt.imshow(hist2d, aspect='auto', interpolation='nearest',\n",
    "           extent=[turn_bins[0], turn_bins[-1], element_bins[0], element_bins[-1]],\n",
    "           origin='lower', norm=LogNorm())\n",
    "\n",
    "plt.colorbar(label='Number of particles (log scale)')\n",
    "plt.xlabel('Turn at which particle is lost')\n",
    "plt.ylabel('Element index')\n",
    "plt.title('Loss Map: Turn vs Element')\n",
    "\n",
    "plt.tight_layout()\n",
    "plt.show()"
   ]
  },
  {
   "cell_type": "code",
   "execution_count": null,
   "id": "e3ed28e9",
   "metadata": {},
   "outputs": [],
   "source": []
  }
 ],
 "metadata": {
  "kernelspec": {
   "display_name": "xsuite",
   "language": "python",
   "name": "python3"
  },
  "language_info": {
   "codemirror_mode": {
    "name": "ipython",
    "version": 3
   },
   "file_extension": ".py",
   "mimetype": "text/x-python",
   "name": "python",
   "nbconvert_exporter": "python",
   "pygments_lexer": "ipython3",
   "version": "3.13.2"
  }
 },
 "nbformat": 4,
 "nbformat_minor": 5
}
