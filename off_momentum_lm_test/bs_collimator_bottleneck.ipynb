{
 "cells": [
  {
   "cell_type": "code",
   "execution_count": 1,
   "id": "f30ee98f",
   "metadata": {},
   "outputs": [],
   "source": [
    "import numpy as np\n",
    "from pathlib import Path\n",
    "import time\n",
    "import matplotlib.pyplot as plt\n",
    "start_time = time.time()\n",
    "\n",
    "import xobjects as xo\n",
    "import xtrack as xt\n",
    "import xpart as xp\n",
    "import xobjects as xo\n",
    "import xcoll as xc\n",
    "\n",
    "import apertls\n",
    "from matplotlib.colors import LogNorm"
   ]
  },
  {
   "cell_type": "code",
   "execution_count": 2,
   "id": "f5279039",
   "metadata": {},
   "outputs": [],
   "source": [
    "# This script takes around 8 minutes on a modern CPU (80s preparation+interpolation, 400s tracking)\n",
    "beam = 1\n",
    "plane = 'DNeg'#'DPpos'\n",
    "\n",
    "num_particles  = 5000\n",
    "sweep          = 3500\n",
    "sweep          = -abs(sweep) if plane == 'DPpos' else abs(sweep)\n",
    "#num_turns      = int(20*abs(sweep))\n",
    "num_turns=6000"
   ]
  },
  {
   "cell_type": "code",
   "execution_count": 3,
   "id": "8c422deb",
   "metadata": {},
   "outputs": [],
   "source": [
    "nemitt_x = 3.5e-6\n",
    "nemitt_y = 3.5e-6"
   ]
  },
  {
   "cell_type": "code",
   "execution_count": 4,
   "id": "4833afa0",
   "metadata": {},
   "outputs": [
    {
     "data": {
      "application/vnd.jupyter.widget-view+json": {
       "model_id": "7822fbde989c4b699110a3a7d775d4b6",
       "version_major": 2,
       "version_minor": 0
      },
      "text/plain": [
       "Loading line from dict:   0%|          | 0/36381 [00:00<?, ?it/s]"
      ]
     },
     "metadata": {},
     "output_type": "display_data"
    },
    {
     "name": "stdout",
     "output_type": "stream",
     "text": [
      "Done loading line from dict.           \n"
     ]
    }
   ],
   "source": [
    "line = xt.Line.from_json('../injection_lines/sps_with_aperture_inj_q20_beam_sagitta.json')\n",
    "\n",
    "#setting all cavities to 200 (even 800 cavities) because rf sweep not implemented\n",
    "cavity_elements, cavity_names = line.get_elements_of_type(xt.Cavity)\n",
    "for name in cavity_names:\n",
    "    line[name].frequency = 200e6\n",
    "    line[name].lag = 180\n",
    "\n",
    "line['acl.31735'].voltage = 0\n"
   ]
  },
  {
   "cell_type": "code",
   "execution_count": 5,
   "id": "a090664a",
   "metadata": {},
   "outputs": [
    {
     "data": {
      "text/plain": [
       "[np.float64(799.5902), np.float64(799.825)]"
      ]
     },
     "execution_count": 5,
     "metadata": {},
     "output_type": "execute_result"
    }
   ],
   "source": [
    "line.get_s_position(['bpcn.12508.a_aper','bpcn.12508.b_aper'])"
   ]
  },
  {
   "cell_type": "code",
   "execution_count": 6,
   "id": "bd43406e",
   "metadata": {},
   "outputs": [
    {
     "name": "stdout",
     "output_type": "stream",
     "text": [
      "0.0053 0.0053\n",
      "0.04202719406674908 0.9579728059332508\n"
     ]
    }
   ],
   "source": [
    "theta = np.atan(5.3/809)\n",
    "L1 = 34e-3\n",
    "L2 = 21e-3\n",
    "L3 = 754e-3\n",
    "h_tot = 5.3e-3\n",
    "\n",
    "x1 = L1/np.cos(theta)\n",
    "x2 = L2/np.cos(theta)\n",
    "x3 = L3/np.cos(theta)\n",
    "\n",
    "print(np.sin(theta)*(x1+x2+x3), h_tot)\n",
    "\n",
    "x_tot = x1+x2+x3\n",
    "w_steel = x1/x_tot\n",
    "w_air = (x2+x3)/x_tot\n",
    "\n",
    "print(w_steel, w_air)"
   ]
  },
  {
   "cell_type": "code",
   "execution_count": 7,
   "id": "a1e8f5f4",
   "metadata": {},
   "outputs": [],
   "source": [
    "d_steel_air = x2+x3\n",
    "\n",
    "X_Be = 35.28e-2\n",
    "X_air = 303.9\n",
    "X_Fe = 1.757e-2\n",
    "X_C = 19.32e-2\n",
    "X_steel = (0.02/X_C + 0.98/X_Fe)**(-1)\n",
    "X_steel_air = (w_steel/X_steel + w_air/X_air)**(-1)\n",
    "\n",
    "d_Be = X_Be/X_steel_air * d_steel_air #shorter than d_steel_air so we can keep angle theta and stop collimator before end of VCAK"
   ]
  },
  {
   "cell_type": "code",
   "execution_count": 9,
   "id": "2331d1c3",
   "metadata": {},
   "outputs": [],
   "source": [
    "import pdb"
   ]
  },
  {
   "cell_type": "code",
   "execution_count": null,
   "id": "6e271329",
   "metadata": {},
   "outputs": [
    {
     "name": "stdout",
     "output_type": "stream",
     "text": [
      "> \u001b[0;32m/Users/gebruiker/Xsuite/xobjects/xobjects/hybrid_class.py\u001b[0m(59)\u001b[0;36m__set__\u001b[0;34m()\u001b[0m\n",
      "\u001b[0;32m     57 \u001b[0;31m            \u001b[0;32mif\u001b[0m \u001b[0misinstance\u001b[0m\u001b[0;34m(\u001b[0m\u001b[0mgetattr\u001b[0m\u001b[0;34m(\u001b[0m\u001b[0mcontainer\u001b[0m\u001b[0;34m.\u001b[0m\u001b[0m_XoStruct\u001b[0m\u001b[0;34m,\u001b[0m \u001b[0mself\u001b[0m\u001b[0;34m.\u001b[0m\u001b[0mname\u001b[0m\u001b[0;34m)\u001b[0m\u001b[0;34m.\u001b[0m\u001b[0mftype\u001b[0m\u001b[0;34m,\u001b[0m \u001b[0mRef\u001b[0m\u001b[0;34m)\u001b[0m\u001b[0;34m:\u001b[0m\u001b[0;34m\u001b[0m\u001b[0;34m\u001b[0m\u001b[0m\n",
      "\u001b[0m\u001b[0;32m     58 \u001b[0;31m                \u001b[0;32mif\u001b[0m \u001b[0mvalue\u001b[0m\u001b[0;34m.\u001b[0m\u001b[0m_buffer\u001b[0m \u001b[0;32mis\u001b[0m \u001b[0;32mnot\u001b[0m \u001b[0mcontainer\u001b[0m\u001b[0;34m.\u001b[0m\u001b[0m_buffer\u001b[0m\u001b[0;34m:\u001b[0m\u001b[0;34m\u001b[0m\u001b[0;34m\u001b[0m\u001b[0m\n",
      "\u001b[0m\u001b[0;32m---> 59 \u001b[0;31m                    raise MemoryError(\n",
      "\u001b[0m\u001b[0;32m     60 \u001b[0;31m                        \u001b[0;34m\"Cannot make a reference to an object in \"\u001b[0m\u001b[0;34m\u001b[0m\u001b[0;34m\u001b[0m\u001b[0m\n",
      "\u001b[0m\u001b[0;32m     61 \u001b[0;31m                        \u001b[0;34m\"a different buffer.\"\u001b[0m\u001b[0;34m\u001b[0m\u001b[0;34m\u001b[0m\u001b[0m\n",
      "\u001b[0m\n"
     ]
    }
   ],
   "source": [
    "# %debug\n",
    "line.discard_tracker()\n",
    "#collimator jaw positions:\n",
    "ap_vebb_x = 0.0645\n",
    "jaw_ru = -ap_vebb_x\n",
    "jaw_rd = -ap_vebb_x - h_tot\n",
    "jaw_lu = ap_vebb_x\n",
    "jaw_ld = ap_vebb_x - h_tot\n",
    "L_coll = d_Be\n",
    "\n",
    "coll_12501 = xc.EverestCollimator(length=L_coll, material=xc.materials.Beryllium, jaw_RU=jaw_ru, jaw_RD=jaw_rd, jaw_LU=jaw_lu, jaw_LD=jaw_ld)\n",
    "coll_61101 = xc.EverestCollimator(length=L_coll, material=xc.materials.Beryllium, jaw_RU=jaw_ru, jaw_RD=jaw_rd, jaw_LU=jaw_lu, jaw_LD=jaw_ld)\n",
    "name_colls = ['vcak.12501_coll', 'vcak.61101_coll']\n",
    "s_colls = [line.get_s_position('vebb.12490.b_aper'), line.get_s_position('vebb.61090.b_aper')]\n",
    "\n",
    "names_vcak_apers_to_remove = ['vcak.12501.a_aper', 'vcak.12501.b_aper', 'vcak.61101.a_aper', 'vcak.61101.b_aper']\n",
    "# for name in names_vcak_apers_to_remove:\n",
    "#     line.remove(name)\n",
    "\n",
    "line.collimators.install(names=name_colls, elements=[coll_12501, coll_61101], at_s=s_colls)\n",
    "# line.collimators.install(names=name_colls[0], elements=[coll_12501], at_s=s_colls[0])\n",
    "# line.insert(name_colls[0], coll_12501, at=s_colls[0])"
   ]
  },
  {
   "cell_type": "code",
   "execution_count": 8,
   "id": "43d1d2d5",
   "metadata": {},
   "outputs": [],
   "source": [
    "tt = line.get_table()"
   ]
  },
  {
   "cell_type": "code",
   "execution_count": 9,
   "id": "19565582",
   "metadata": {},
   "outputs": [
    {
     "data": {
      "text/plain": [
       "['mbb.12490..10_aper2',\n",
       " 'drift_218..0',\n",
       " 'vebb.12490.b_aper',\n",
       " 'drift_218..1',\n",
       " 'vcak.12501.a_aper',\n",
       " 'drift_218..2',\n",
       " 'vcak.12501.b_aper',\n",
       " 'drift_218..3',\n",
       " 'vtto.12505.a_aper',\n",
       " 'drift_218..4',\n",
       " 'lsd.12505',\n",
       " 'drift_219..0']"
      ]
     },
     "execution_count": 9,
     "metadata": {},
     "output_type": "execute_result"
    }
   ],
   "source": [
    "idx = line.element_names.index('vebb.12490.b_aper')\n",
    "line.element_names[idx-2:idx+10]"
   ]
  },
  {
   "cell_type": "code",
   "execution_count": 10,
   "id": "c5b7c493",
   "metadata": {},
   "outputs": [
    {
     "data": {
      "text/plain": [
       "['drift_218..0',\n",
       " 'vebb.12490.b_aper',\n",
       " 'drift_218..1',\n",
       " 'vcak.12501.a_aper',\n",
       " 'drift_218..2',\n",
       " 'vcak.12501.b_aper',\n",
       " 'drift_218..3',\n",
       " 'vtto.12505.a_aper',\n",
       " 'drift_218..4',\n",
       " 'lsd.12505']"
      ]
     },
     "execution_count": 10,
     "metadata": {},
     "output_type": "execute_result"
    }
   ],
   "source": [
    "idx = line.element_names.index('drift_218..0')\n",
    "line.element_names[idx:idx+10]"
   ]
  },
  {
   "cell_type": "code",
   "execution_count": 18,
   "id": "fed4aca7",
   "metadata": {},
   "outputs": [
    {
     "ename": "MemoryError",
     "evalue": "Cannot make a reference to an object in a different buffer.",
     "output_type": "error",
     "traceback": [
      "\u001b[0;31m---------------------------------------------------------------------------\u001b[0m",
      "\u001b[0;31mMemoryError\u001b[0m                               Traceback (most recent call last)",
      "Cell \u001b[0;32mIn[18], line 11\u001b[0m\n\u001b[1;32m      9\u001b[0m \u001b[38;5;28;01mif\u001b[39;00m \u001b[38;5;124m'\u001b[39m\u001b[38;5;124mdrift_218\u001b[39m\u001b[38;5;124m'\u001b[39m \u001b[38;5;129;01min\u001b[39;00m name:\n\u001b[1;32m     10\u001b[0m     \u001b[38;5;28;01massert\u001b[39;00m line[name]\u001b[38;5;241m.\u001b[39m\u001b[38;5;18m__class__\u001b[39m\u001b[38;5;241m.\u001b[39m\u001b[38;5;18m__name__\u001b[39m \u001b[38;5;241m==\u001b[39m \u001b[38;5;124m'\u001b[39m\u001b[38;5;124mDriftSlice\u001b[39m\u001b[38;5;124m'\u001b[39m\n\u001b[0;32m---> 11\u001b[0m     \u001b[43mline\u001b[49m\u001b[43m[\u001b[49m\u001b[43mname\u001b[49m\u001b[43m]\u001b[49m\u001b[38;5;241;43m.\u001b[39;49m\u001b[43m_parent\u001b[49m \u001b[38;5;241m=\u001b[39m env\u001b[38;5;241m.\u001b[39melements[\u001b[38;5;124m'\u001b[39m\u001b[38;5;124mdrift_218\u001b[39m\u001b[38;5;124m'\u001b[39m]\n",
      "File \u001b[0;32m~/Xsuite/xdeps/xdeps/madxutils.py:230\u001b[0m, in \u001b[0;36mView.__setattr__\u001b[0;34m(self, key, value)\u001b[0m\n\u001b[1;32m    228\u001b[0m     \u001b[38;5;28;01melse\u001b[39;00m:\n\u001b[1;32m    229\u001b[0m         value \u001b[38;5;241m=\u001b[39m \u001b[38;5;28mself\u001b[39m\u001b[38;5;241m.\u001b[39m_eval(value)\n\u001b[0;32m--> 230\u001b[0m \u001b[38;5;28;43msetattr\u001b[39;49m\u001b[43m(\u001b[49m\u001b[38;5;28;43mself\u001b[39;49m\u001b[38;5;241;43m.\u001b[39;49m\u001b[43m_ref\u001b[49m\u001b[43m,\u001b[49m\u001b[43m \u001b[49m\u001b[43mkey\u001b[49m\u001b[43m,\u001b[49m\u001b[43m \u001b[49m\u001b[43mvalue\u001b[49m\u001b[43m)\u001b[49m\n",
      "File \u001b[0;32m~/Xsuite/xdeps/xdeps/refs.py:435\u001b[0m, in \u001b[0;36mMutableRef.__setattr__\u001b[0;34m(self, attr, value)\u001b[0m\n\u001b[1;32m    432\u001b[0m         \u001b[38;5;28;01mraise\u001b[39;00m \u001b[38;5;167;01mAttributeError\u001b[39;00m(\u001b[38;5;124mf\u001b[39m\u001b[38;5;124m\"\u001b[39m\u001b[38;5;124mAttribute \u001b[39m\u001b[38;5;132;01m{\u001b[39;00mattr\u001b[38;5;132;01m}\u001b[39;00m\u001b[38;5;124m is read-only.\u001b[39m\u001b[38;5;124m\"\u001b[39m)\n\u001b[1;32m    434\u001b[0m ref \u001b[38;5;241m=\u001b[39m AttrRef(\u001b[38;5;28mself\u001b[39m, attr, \u001b[38;5;28mself\u001b[39m\u001b[38;5;241m.\u001b[39m_manager)\n\u001b[0;32m--> 435\u001b[0m \u001b[38;5;28;43mself\u001b[39;49m\u001b[38;5;241;43m.\u001b[39;49m\u001b[43m_manager\u001b[49m\u001b[38;5;241;43m.\u001b[39;49m\u001b[43mset_value\u001b[49m\u001b[43m(\u001b[49m\u001b[43mref\u001b[49m\u001b[43m,\u001b[49m\u001b[43m \u001b[49m\u001b[43mvalue\u001b[49m\u001b[43m)\u001b[49m\n",
      "File \u001b[0;32m~/Xsuite/xdeps/xdeps/tasks.py:252\u001b[0m, in \u001b[0;36mManager.set_value\u001b[0;34m(self, ref, value)\u001b[0m\n\u001b[1;32m    250\u001b[0m     \u001b[38;5;28mself\u001b[39m\u001b[38;5;241m.\u001b[39mregister(ExprTask(ref, value))\n\u001b[1;32m    251\u001b[0m     value \u001b[38;5;241m=\u001b[39m value\u001b[38;5;241m.\u001b[39m_get_value()  \u001b[38;5;66;03m# to be updated\u001b[39;00m\n\u001b[0;32m--> 252\u001b[0m \u001b[43mref\u001b[49m\u001b[38;5;241;43m.\u001b[39;49m\u001b[43m_set_value\u001b[49m\u001b[43m(\u001b[49m\u001b[43mvalue\u001b[49m\u001b[43m)\u001b[49m\n\u001b[1;32m    253\u001b[0m \u001b[38;5;28mself\u001b[39m\u001b[38;5;241m.\u001b[39mrun_tasks(\u001b[38;5;28mself\u001b[39m\u001b[38;5;241m.\u001b[39mfind_tasks(ref\u001b[38;5;241m.\u001b[39m_get_dependencies()))\n",
      "File \u001b[0;32m~/Xsuite/xdeps/xdeps/refs.py:692\u001b[0m, in \u001b[0;36mAttrRef._set_value\u001b[0;34m(self, value)\u001b[0m\n\u001b[1;32m    690\u001b[0m owner \u001b[38;5;241m=\u001b[39m BaseRef\u001b[38;5;241m.\u001b[39m_mk_value(\u001b[38;5;28mself\u001b[39m\u001b[38;5;241m.\u001b[39m_owner)\n\u001b[1;32m    691\u001b[0m attr \u001b[38;5;241m=\u001b[39m BaseRef\u001b[38;5;241m.\u001b[39m_mk_value(\u001b[38;5;28mself\u001b[39m\u001b[38;5;241m.\u001b[39m_key)\n\u001b[0;32m--> 692\u001b[0m \u001b[38;5;28;43msetattr\u001b[39;49m\u001b[43m(\u001b[49m\u001b[43mowner\u001b[49m\u001b[43m,\u001b[49m\u001b[43m \u001b[49m\u001b[43mattr\u001b[49m\u001b[43m,\u001b[49m\u001b[43m \u001b[49m\u001b[43mvalue\u001b[49m\u001b[43m)\u001b[49m\n",
      "File \u001b[0;32m~/Xsuite/xobjects/xobjects/hybrid_class.py:59\u001b[0m, in \u001b[0;36m_FieldOfDressed.__set__\u001b[0;34m(self, container, value)\u001b[0m\n\u001b[1;32m     57\u001b[0m \u001b[38;5;28;01mif\u001b[39;00m \u001b[38;5;28misinstance\u001b[39m(\u001b[38;5;28mgetattr\u001b[39m(container\u001b[38;5;241m.\u001b[39m_XoStruct, \u001b[38;5;28mself\u001b[39m\u001b[38;5;241m.\u001b[39mname)\u001b[38;5;241m.\u001b[39mftype, Ref):\n\u001b[1;32m     58\u001b[0m     \u001b[38;5;28;01mif\u001b[39;00m value\u001b[38;5;241m.\u001b[39m_buffer \u001b[38;5;129;01mis\u001b[39;00m \u001b[38;5;129;01mnot\u001b[39;00m container\u001b[38;5;241m.\u001b[39m_buffer:\n\u001b[0;32m---> 59\u001b[0m         \u001b[38;5;28;01mraise\u001b[39;00m \u001b[38;5;167;01mMemoryError\u001b[39;00m(\n\u001b[1;32m     60\u001b[0m             \u001b[38;5;124m\"\u001b[39m\u001b[38;5;124mCannot make a reference to an object in \u001b[39m\u001b[38;5;124m\"\u001b[39m\n\u001b[1;32m     61\u001b[0m             \u001b[38;5;124m\"\u001b[39m\u001b[38;5;124ma different buffer.\u001b[39m\u001b[38;5;124m\"\u001b[39m\n\u001b[1;32m     62\u001b[0m         )\n\u001b[1;32m     63\u001b[0m     \u001b[38;5;66;03m# Reference mechanism was used\u001b[39;00m\n\u001b[1;32m     64\u001b[0m     \u001b[38;5;28msetattr\u001b[39m(container, \u001b[38;5;124m\"\u001b[39m\u001b[38;5;124m_dressed_\u001b[39m\u001b[38;5;124m\"\u001b[39m \u001b[38;5;241m+\u001b[39m \u001b[38;5;28mself\u001b[39m\u001b[38;5;241m.\u001b[39mname, value)\n",
      "\u001b[0;31mMemoryError\u001b[0m: Cannot make a reference to an object in a different buffer."
     ]
    }
   ],
   "source": [
    "env = line.env\n",
    "\n",
    "#drift 218\n",
    "l_drift_218 = line.get_s_position('lsd.12505') - line.get_s_position('drift_218..0')\n",
    "env.elements['drift_218'] = xt.Drift(length=l_drift_218)\n",
    "\n",
    "idx = line.element_names.index('drift_218..0')\n",
    "for name in line.element_names[idx:idx+10]:\n",
    "    if 'drift_218' in name:\n",
    "        assert line[name].__class__.__name__ == 'DriftSlice'\n",
    "        line[name]._parent = env.elements['drift_218']"
   ]
  },
  {
   "cell_type": "code",
   "execution_count": 12,
   "id": "bb2f4685",
   "metadata": {},
   "outputs": [
    {
     "name": "stdout",
     "output_type": "stream",
     "text": [
      "Element of type:  Drift\n",
      "name   value              expr\n",
      "length 1.1356906986096647 None\n"
     ]
    }
   ],
   "source": [
    "env.info('drift_218')"
   ]
  },
  {
   "cell_type": "code",
   "execution_count": 17,
   "id": "aadce2c9",
   "metadata": {},
   "outputs": [],
   "source": [
    "line['drift_218..0']._parent"
   ]
  },
  {
   "cell_type": "code",
   "execution_count": null,
   "id": "92a5e1d9",
   "metadata": {},
   "outputs": [
    {
     "data": {
      "text/plain": [
       "Table: 5 rows, 11 cols\n",
       "name                     s element_type isthick isreplica parent_name iscollective       s_start ...\n",
       "drift_218..0         797.6 DriftSlice      True     False drift_218          False         797.6\n",
       "drift_218..1       797.795 DriftSlice      True     False drift_218          False       797.795\n",
       "drift_218..2       797.796 DriftSlice      True     False drift_218          False       797.796\n",
       "drift_218..3       798.655 DriftSlice      True     False drift_218          False       798.655\n",
       "drift_218..4       798.656 DriftSlice      True     False drift_218          False       798.656"
      ]
     },
     "execution_count": 14,
     "metadata": {},
     "output_type": "execute_result"
    }
   ],
   "source": [
    "tt.rows['drift.218.*']"
   ]
  },
  {
   "cell_type": "code",
   "execution_count": null,
   "id": "385973bb",
   "metadata": {},
   "outputs": [],
   "source": [
    "tt = line.get_table()"
   ]
  },
  {
   "cell_type": "code",
   "execution_count": 16,
   "id": "e3a038f9",
   "metadata": {},
   "outputs": [
    {
     "name": "stdout",
     "output_type": "stream",
     "text": [
      "drift_218..0 797.5999093013897\n",
      "vebb.12490.b_aper 797.7953\n",
      "drift_218..1 797.7953\n",
      "vcak.12501.a_aper 797.7962\n",
      "drift_218..2 797.7962\n",
      "vcak.12501.b_aper 798.6550000000001\n",
      "drift_218..3 798.6550000000001\n",
      "vtto.12505.a_aper 798.6562\n",
      "drift_218..4 798.6562\n",
      "lsd.12505 798.7355999999994\n"
     ]
    }
   ],
   "source": [
    "idx = line.element_names.index('drift_218..0')\n",
    "for name in line.element_names[idx:idx+10]:\n",
    "    # if type(line[name]==xt.DriftSlice):\n",
    "    #     print(name, line.get_s_position(name), line[name].weight)\n",
    "   print(name, line.get_s_position(name))"
   ]
  },
  {
   "cell_type": "code",
   "execution_count": null,
   "id": "6af7193d",
   "metadata": {},
   "outputs": [],
   "source": []
  }
 ],
 "metadata": {
  "kernelspec": {
   "display_name": "xsuite2",
   "language": "python",
   "name": "python3"
  },
  "language_info": {
   "codemirror_mode": {
    "name": "ipython",
    "version": 3
   },
   "file_extension": ".py",
   "mimetype": "text/x-python",
   "name": "python",
   "nbconvert_exporter": "python",
   "pygments_lexer": "ipython3",
   "version": "3.13.1"
  }
 },
 "nbformat": 4,
 "nbformat_minor": 5
}
