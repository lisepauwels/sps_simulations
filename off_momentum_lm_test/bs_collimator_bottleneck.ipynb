{
 "cells": [
  {
   "cell_type": "code",
   "execution_count": 1,
   "id": "f30ee98f",
   "metadata": {},
   "outputs": [],
   "source": [
    "import numpy as np\n",
    "from pathlib import Path\n",
    "import time\n",
    "import matplotlib.pyplot as plt\n",
    "start_time = time.time()\n",
    "\n",
    "import xobjects as xo\n",
    "import xtrack as xt\n",
    "import xpart as xp\n",
    "import xobjects as xo\n",
    "import xcoll as xc\n",
    "\n",
    "import apertls\n",
    "from matplotlib.colors import LogNorm"
   ]
  },
  {
   "cell_type": "code",
   "execution_count": 2,
   "id": "f5279039",
   "metadata": {},
   "outputs": [],
   "source": [
    "# This script takes around 8 minutes on a modern CPU (80s preparation+interpolation, 400s tracking)\n",
    "beam = 1\n",
    "plane = 'DNeg'#'DPpos'\n",
    "\n",
    "num_particles  = 5000\n",
    "sweep          = 3500\n",
    "sweep          = -abs(sweep) if plane == 'DPpos' else abs(sweep)\n",
    "#num_turns      = int(20*abs(sweep))\n",
    "num_turns=6000"
   ]
  },
  {
   "cell_type": "code",
   "execution_count": 3,
   "id": "8c422deb",
   "metadata": {},
   "outputs": [],
   "source": [
    "nemitt_x = 3.5e-6\n",
    "nemitt_y = 3.5e-6"
   ]
  },
  {
   "cell_type": "code",
   "execution_count": 4,
   "id": "4833afa0",
   "metadata": {},
   "outputs": [
    {
     "data": {
      "application/vnd.jupyter.widget-view+json": {
       "model_id": "9a56cac1a3ef41de8c3dd67d0c47d37a",
       "version_major": 2,
       "version_minor": 0
      },
      "text/plain": [
       "Loading line from dict:   0%|          | 0/36381 [00:00<?, ?it/s]"
      ]
     },
     "metadata": {},
     "output_type": "display_data"
    },
    {
     "name": "stdout",
     "output_type": "stream",
     "text": [
      "Done loading line from dict.           \n"
     ]
    }
   ],
   "source": [
    "line = xt.Line.from_json('../injection_lines/sps_with_aperture_inj_q20_beam_sagitta.json')\n",
    "\n",
    "#setting all cavities to 200 (even 800 cavities) because rf sweep not implemented\n",
    "cavity_elements, cavity_names = line.get_elements_of_type(xt.Cavity)\n",
    "for name in cavity_names:\n",
    "    line[name].frequency = 200e6\n",
    "    line[name].lag = 180\n",
    "\n",
    "line['acl.31735'].voltage = 0\n"
   ]
  },
  {
   "cell_type": "code",
   "execution_count": 5,
   "id": "a090664a",
   "metadata": {},
   "outputs": [
    {
     "data": {
      "text/plain": [
       "[np.float64(799.5902), np.float64(799.825)]"
      ]
     },
     "execution_count": 5,
     "metadata": {},
     "output_type": "execute_result"
    }
   ],
   "source": [
    "line.get_s_position(['bpcn.12508.a_aper','bpcn.12508.b_aper'])"
   ]
  },
  {
   "cell_type": "code",
   "execution_count": 32,
   "id": "d59f3fc9",
   "metadata": {},
   "outputs": [
    {
     "data": {
      "text/plain": [
       "0.23480000000006385"
      ]
     },
     "execution_count": 32,
     "metadata": {},
     "output_type": "execute_result"
    }
   ],
   "source": [
    "799.825 - 799.5902"
   ]
  },
  {
   "cell_type": "code",
   "execution_count": 16,
   "id": "a029c822",
   "metadata": {},
   "outputs": [],
   "source": [
    "X0 = 1/(0.2857142857142857/1.757 + 0.7142857142857143/3.039e4)"
   ]
  },
  {
   "cell_type": "code",
   "execution_count": 17,
   "id": "7e9b1dd8",
   "metadata": {},
   "outputs": [
    {
     "data": {
      "text/plain": [
       "6.148611294007604"
      ]
     },
     "execution_count": 17,
     "metadata": {},
     "output_type": "execute_result"
    }
   ],
   "source": [
    "X0"
   ]
  },
  {
   "cell_type": "code",
   "execution_count": 15,
   "id": "f9a869f4",
   "metadata": {},
   "outputs": [
    {
     "data": {
      "text/plain": [
       "0.7142857142857143"
      ]
     },
     "execution_count": 15,
     "metadata": {},
     "output_type": "execute_result"
    }
   ],
   "source": [
    "5/7"
   ]
  },
  {
   "cell_type": "code",
   "execution_count": 18,
   "id": "d2603228",
   "metadata": {},
   "outputs": [
    {
     "data": {
      "text/plain": [
       "24.90694748666105"
      ]
     },
     "execution_count": 18,
     "metadata": {},
     "output_type": "execute_result"
    }
   ],
   "source": [
    "1/((2/7)/13.84 + (5/7)/36.62)"
   ]
  },
  {
   "cell_type": "code",
   "execution_count": 30,
   "id": "6b6d0de1",
   "metadata": {},
   "outputs": [],
   "source": [
    "X_Fe = 1.757 #cm\n",
    "X_C = 19.32 \n",
    "X_air = 3.039e4\n",
    "X_steel = (0.98/X_Fe + 0.02/X_C)**(-1)\n",
    "X0 = (5/7 / X_air + 2/7 / X_steel)**(-1)"
   ]
  },
  {
   "cell_type": "code",
   "execution_count": 31,
   "id": "5c4e4d16",
   "metadata": {},
   "outputs": [
    {
     "data": {
      "text/plain": [
       "6.262453505056473"
      ]
     },
     "execution_count": 31,
     "metadata": {},
     "output_type": "execute_result"
    }
   ],
   "source": [
    "X0"
   ]
  },
  {
   "cell_type": "code",
   "execution_count": 27,
   "id": "436f950f",
   "metadata": {},
   "outputs": [
    {
     "data": {
      "text/plain": [
       "1.789535836328612"
      ]
     },
     "execution_count": 27,
     "metadata": {},
     "output_type": "execute_result"
    }
   ],
   "source": [
    "X_steel"
   ]
  },
  {
   "cell_type": "code",
   "execution_count": 29,
   "id": "7a294cff",
   "metadata": {},
   "outputs": [
    {
     "data": {
      "text/plain": [
       "35.75071782483751"
      ]
     },
     "execution_count": 29,
     "metadata": {},
     "output_type": "execute_result"
    }
   ],
   "source": [
    "X0"
   ]
  },
  {
   "cell_type": "code",
   "execution_count": null,
   "id": "62b4cc33",
   "metadata": {},
   "outputs": [],
   "source": []
  }
 ],
 "metadata": {
  "kernelspec": {
   "display_name": "xsuite",
   "language": "python",
   "name": "python3"
  },
  "language_info": {
   "codemirror_mode": {
    "name": "ipython",
    "version": 3
   },
   "file_extension": ".py",
   "mimetype": "text/x-python",
   "name": "python",
   "nbconvert_exporter": "python",
   "pygments_lexer": "ipython3",
   "version": "3.13.2"
  }
 },
 "nbformat": 4,
 "nbformat_minor": 5
}
