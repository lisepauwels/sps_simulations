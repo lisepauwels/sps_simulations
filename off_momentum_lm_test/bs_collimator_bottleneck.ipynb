{
 "cells": [
  {
   "cell_type": "code",
   "execution_count": 1,
   "id": "f30ee98f",
   "metadata": {},
   "outputs": [],
   "source": [
    "import numpy as np\n",
    "from pathlib import Path\n",
    "import time\n",
    "import matplotlib.pyplot as plt\n",
    "start_time = time.time()\n",
    "\n",
    "import xobjects as xo\n",
    "import xtrack as xt\n",
    "import xpart as xp\n",
    "import xobjects as xo\n",
    "import xcoll as xc\n",
    "\n",
    "import apertls\n",
    "from matplotlib.colors import LogNorm"
   ]
  },
  {
   "cell_type": "code",
   "execution_count": 2,
   "id": "f5279039",
   "metadata": {},
   "outputs": [],
   "source": [
    "# This script takes around 8 minutes on a modern CPU (80s preparation+interpolation, 400s tracking)\n",
    "beam = 1\n",
    "plane = 'DNeg'#'DPpos'\n",
    "\n",
    "num_particles  = 5000\n",
    "sweep          = 3500\n",
    "sweep          = -abs(sweep) if plane == 'DPpos' else abs(sweep)\n",
    "#num_turns      = int(20*abs(sweep))\n",
    "num_turns=6000"
   ]
  },
  {
   "cell_type": "code",
   "execution_count": 3,
   "id": "8c422deb",
   "metadata": {},
   "outputs": [],
   "source": [
    "nemitt_x = 3.5e-6\n",
    "nemitt_y = 3.5e-6"
   ]
  },
  {
   "cell_type": "code",
   "execution_count": 4,
   "id": "4833afa0",
   "metadata": {},
   "outputs": [
    {
     "data": {
      "application/vnd.jupyter.widget-view+json": {
       "model_id": "c74df19d3a7e4d22a80d863170d54217",
       "version_major": 2,
       "version_minor": 0
      },
      "text/plain": [
       "Loading line from dict:   0%|          | 0/36381 [00:00<?, ?it/s]"
      ]
     },
     "metadata": {},
     "output_type": "display_data"
    },
    {
     "name": "stdout",
     "output_type": "stream",
     "text": [
      "Done loading line from dict.           \n"
     ]
    }
   ],
   "source": [
    "line = xt.Line.from_json('../injection_lines/sps_with_aperture_inj_q20_beam_sagitta.json')\n",
    "\n",
    "#setting all cavities to 200 (even 800 cavities) because rf sweep not implemented\n",
    "cavity_elements, cavity_names = line.get_elements_of_type(xt.Cavity)\n",
    "for name in cavity_names:\n",
    "    line[name].frequency = 200e6\n",
    "    line[name].lag = 180\n",
    "\n",
    "line['acl.31735'].voltage = 0\n"
   ]
  },
  {
   "cell_type": "code",
   "execution_count": 5,
   "id": "a090664a",
   "metadata": {},
   "outputs": [
    {
     "data": {
      "text/plain": [
       "[np.float64(799.5902), np.float64(799.825)]"
      ]
     },
     "execution_count": 5,
     "metadata": {},
     "output_type": "execute_result"
    }
   ],
   "source": [
    "line.get_s_position(['bpcn.12508.a_aper','bpcn.12508.b_aper'])"
   ]
  },
  {
   "cell_type": "code",
   "execution_count": 6,
   "id": "d59f3fc9",
   "metadata": {},
   "outputs": [
    {
     "data": {
      "text/plain": [
       "0.23480000000006385"
      ]
     },
     "execution_count": 6,
     "metadata": {},
     "output_type": "execute_result"
    }
   ],
   "source": [
    "799.825 - 799.5902"
   ]
  },
  {
   "cell_type": "code",
   "execution_count": 7,
   "id": "bd43406e",
   "metadata": {},
   "outputs": [
    {
     "name": "stdout",
     "output_type": "stream",
     "text": [
      "0.0053 0.0053\n",
      "0.04202719406674908 0.9579728059332508\n"
     ]
    }
   ],
   "source": [
    "theta = np.atan(5.3/809)\n",
    "L1 = 34e-3\n",
    "L2 = 21e-3\n",
    "L3 = 754e-3\n",
    "h_tot = 5.3e-3\n",
    "\n",
    "x1 = L1/np.cos(theta)\n",
    "x2 = L2/np.cos(theta)\n",
    "x3 = L3/np.cos(theta)\n",
    "\n",
    "print(np.sin(theta)*(x1+x2+x3), h_tot)\n",
    "\n",
    "x_tot = x1+x2+x3\n",
    "w_steel = x1/x_tot\n",
    "w_air = (x2+x3)/x_tot\n",
    "\n",
    "print(w_steel, w_air)"
   ]
  },
  {
   "cell_type": "code",
   "execution_count": 8,
   "id": "a1e8f5f4",
   "metadata": {},
   "outputs": [],
   "source": [
    "d_steel_air = x2+x3\n",
    "\n",
    "X_Be = 35.28e-2\n",
    "X_air = 303.9\n",
    "X_Fe = 1.757e-2\n",
    "X_C = 19.32e-2\n",
    "X_steel = (0.02/X_C + 0.98/X_Fe)**(-1)\n",
    "X_steel_air = (w_steel/X_steel + w_air/X_air)**(-1)\n",
    "\n",
    "d_Be = X_Be/X_steel_air * d_steel_air #shorter than d_steel_air so we can keep angle theta and stop collimator before end of VCAK"
   ]
  },
  {
   "cell_type": "code",
   "execution_count": 9,
   "id": "2331d1c3",
   "metadata": {},
   "outputs": [],
   "source": [
    "import pdb"
   ]
  },
  {
   "cell_type": "code",
   "execution_count": 10,
   "id": "6e271329",
   "metadata": {},
   "outputs": [
    {
     "name": "stderr",
     "output_type": "stream",
     "text": [
      "ERROR:root:No traceback has been produced, nothing to debug.\n"
     ]
    },
    {
     "data": {
      "application/vnd.jupyter.widget-view+json": {
       "model_id": "e23c8439c82b4844a1cf6370a18be71b",
       "version_major": 2,
       "version_minor": 0
      },
      "text/plain": [
       "Slicing line:   0%|          | 0/75280 [00:00<?, ?it/s]"
      ]
     },
     "metadata": {},
     "output_type": "display_data"
    },
    {
     "ename": "AttributeError",
     "evalue": "'NoneType' object has no attribute 'length'",
     "output_type": "error",
     "traceback": [
      "\u001b[31m---------------------------------------------------------------------------\u001b[39m",
      "\u001b[31mAttributeError\u001b[39m                            Traceback (most recent call last)",
      "\u001b[36mCell\u001b[39m\u001b[36m \u001b[39m\u001b[32mIn[10]\u001b[39m\u001b[32m, line 20\u001b[39m\n\u001b[32m     16\u001b[39m names_vcak_apers_to_remove = [\u001b[33m'\u001b[39m\u001b[33mvcak.12501.a_aper\u001b[39m\u001b[33m'\u001b[39m, \u001b[33m'\u001b[39m\u001b[33mvcak.12501.b_aper\u001b[39m\u001b[33m'\u001b[39m, \u001b[33m'\u001b[39m\u001b[33mvcak.61101.a_aper\u001b[39m\u001b[33m'\u001b[39m, \u001b[33m'\u001b[39m\u001b[33mvcak.61101.b_aper\u001b[39m\u001b[33m'\u001b[39m]\n\u001b[32m     17\u001b[39m \u001b[38;5;66;03m# for name in names_vcak_apers_to_remove:\u001b[39;00m\n\u001b[32m     18\u001b[39m \u001b[38;5;66;03m#     line.remove(name)\u001b[39;00m\n\u001b[32m---> \u001b[39m\u001b[32m20\u001b[39m \u001b[43mline\u001b[49m\u001b[43m.\u001b[49m\u001b[43mcollimators\u001b[49m\u001b[43m.\u001b[49m\u001b[43minstall\u001b[49m\u001b[43m(\u001b[49m\u001b[43mnames\u001b[49m\u001b[43m=\u001b[49m\u001b[43mname_colls\u001b[49m\u001b[43m,\u001b[49m\u001b[43m \u001b[49m\u001b[43melements\u001b[49m\u001b[43m=\u001b[49m\u001b[43m[\u001b[49m\u001b[43mcoll_12501\u001b[49m\u001b[43m,\u001b[49m\u001b[43m \u001b[49m\u001b[43mcoll_61101\u001b[49m\u001b[43m]\u001b[49m\u001b[43m,\u001b[49m\u001b[43m \u001b[49m\u001b[43mat_s\u001b[49m\u001b[43m=\u001b[49m\u001b[43ms_colls\u001b[49m\u001b[43m)\u001b[49m\n\u001b[32m     21\u001b[39m \u001b[38;5;66;03m# line.collimators.install(names=name_colls[0], elements=[coll_12501], at_s=s_colls[0])\u001b[39;00m\n\u001b[32m     22\u001b[39m \u001b[38;5;66;03m# line.insert(name_colls[0], coll_12501, at=s_colls[0])\u001b[39;00m\n",
      "\u001b[36mFile \u001b[39m\u001b[32m~/Xsuite/xcoll/xcoll/line_tools.py:120\u001b[39m, in \u001b[36mXcollCollimatorAPI.install\u001b[39m\u001b[34m(self, names, elements, at_s, apertures, need_apertures, s_tol)\u001b[39m\n\u001b[32m    117\u001b[39m     el._name = name\n\u001b[32m    119\u001b[39m \u001b[38;5;66;03m# Install\u001b[39;00m\n\u001b[32m--> \u001b[39m\u001b[32m120\u001b[39m \u001b[38;5;28;43mself\u001b[39;49m\u001b[43m.\u001b[49m\u001b[43mline\u001b[49m\u001b[43m.\u001b[49m\u001b[43m_insert_thick_elements_at_s\u001b[49m\u001b[43m(\u001b[49m\u001b[43melement_names\u001b[49m\u001b[43m=\u001b[49m\u001b[38;5;28;43mlist\u001b[39;49m\u001b[43m(\u001b[49m\u001b[43mnames\u001b[49m\u001b[43m)\u001b[49m\u001b[43m,\u001b[49m\u001b[43m \u001b[49m\u001b[43melements\u001b[49m\u001b[43m=\u001b[49m\u001b[43melements\u001b[49m\u001b[43m,\u001b[49m\u001b[43m \u001b[49m\u001b[43mat_s\u001b[49m\u001b[43m=\u001b[49m\u001b[43ms_start\u001b[49m\u001b[43m,\u001b[49m\u001b[43m \u001b[49m\u001b[43ms_tol\u001b[49m\u001b[43m=\u001b[49m\u001b[43ms_tol\u001b[49m\u001b[43m)\u001b[49m\n\u001b[32m    122\u001b[39m \u001b[38;5;66;03m# Install apertures\u001b[39;00m\n\u001b[32m    123\u001b[39m \u001b[38;5;28;01mif\u001b[39;00m need_apertures:\n",
      "\u001b[36mFile \u001b[39m\u001b[32m~/miniforge3/envs/xsuite/lib/python3.13/site-packages/xtrack/line.py:4849\u001b[39m, in \u001b[36mLine._insert_thick_elements_at_s\u001b[39m\u001b[34m(self, element_names, elements, at_s, s_tol)\u001b[39m\n\u001b[32m   4845\u001b[39m name_insert = \u001b[38;5;28mlist\u001b[39m(element_names).copy()\n\u001b[32m   4847\u001b[39m end_insert = np.array(s_insert) + np.array(l_insert)\n\u001b[32m-> \u001b[39m\u001b[32m4849\u001b[39m \u001b[38;5;28;43mself\u001b[39;49m\u001b[43m.\u001b[49m\u001b[43mcut_at_s\u001b[49m\u001b[43m(\u001b[49m\u001b[38;5;28;43mlist\u001b[39;49m\u001b[43m(\u001b[49m\u001b[43ms_insert\u001b[49m\u001b[43m)\u001b[49m\u001b[43m \u001b[49m\u001b[43m+\u001b[49m\u001b[43m \u001b[49m\u001b[38;5;28;43mlist\u001b[39;49m\u001b[43m(\u001b[49m\u001b[43mend_insert\u001b[49m\u001b[43m)\u001b[49m\u001b[43m)\u001b[49m\n\u001b[32m   4851\u001b[39m i_sorted = np.argsort(s_insert)\n\u001b[32m   4852\u001b[39m s_insert_sorted = s_insert[i_sorted]\n",
      "\u001b[36mFile \u001b[39m\u001b[32m~/miniforge3/envs/xsuite/lib/python3.13/site-packages/xtrack/line.py:2197\u001b[39m, in \u001b[36mLine.cut_at_s\u001b[39m\u001b[34m(self, s, s_tol, return_slices)\u001b[39m\n\u001b[32m   2194\u001b[39m     strategies.append(strategy)\n\u001b[32m   2196\u001b[39m slicer = Slicer(\u001b[38;5;28mself\u001b[39m, slicing_strategies=strategies)\n\u001b[32m-> \u001b[39m\u001b[32m2197\u001b[39m slices = \u001b[43mslicer\u001b[49m\u001b[43m.\u001b[49m\u001b[43mslice_in_place\u001b[49m\u001b[43m(\u001b[49m\u001b[43m)\u001b[49m\n\u001b[32m   2199\u001b[39m \u001b[38;5;28;01mif\u001b[39;00m return_slices:\n\u001b[32m   2200\u001b[39m     \u001b[38;5;28;01mreturn\u001b[39;00m slices\n",
      "\u001b[36mFile \u001b[39m\u001b[32m~/miniforge3/envs/xsuite/lib/python3.13/site-packages/xtrack/slicing.py:257\u001b[39m, in \u001b[36mSlicer.slice_in_place\u001b[39m\u001b[34m(self, _edge_markers)\u001b[39m\n\u001b[32m    255\u001b[39m chosen_slicing = \u001b[38;5;28mself\u001b[39m._scheme_for_element(element, nn, \u001b[38;5;28mself\u001b[39m._line)\n\u001b[32m    256\u001b[39m \u001b[38;5;28;01mif\u001b[39;00m chosen_slicing \u001b[38;5;129;01mis\u001b[39;00m \u001b[38;5;129;01mnot\u001b[39;00m \u001b[38;5;28;01mNone\u001b[39;00m:\n\u001b[32m--> \u001b[39m\u001b[32m257\u001b[39m     subsequence = \u001b[38;5;28;43mself\u001b[39;49m\u001b[43m.\u001b[49m\u001b[43m_slice_element\u001b[49m\u001b[43m(\u001b[49m\n\u001b[32m    258\u001b[39m \u001b[43m        \u001b[49m\u001b[43menn\u001b[49m\u001b[43m,\u001b[49m\u001b[43m \u001b[49m\u001b[43melement\u001b[49m\u001b[43m,\u001b[49m\u001b[43m \u001b[49m\u001b[43m_edge_markers\u001b[49m\u001b[43m=\u001b[49m\u001b[43m_edge_markers\u001b[49m\u001b[43m,\u001b[49m\n\u001b[32m    259\u001b[39m \u001b[43m        \u001b[49m\u001b[43mchosen_slicing\u001b[49m\u001b[43m=\u001b[49m\u001b[43mchosen_slicing\u001b[49m\u001b[43m)\u001b[49m\n\u001b[32m    260\u001b[39m \u001b[38;5;28;01mif\u001b[39;00m subsequence \u001b[38;5;129;01mis\u001b[39;00m \u001b[38;5;28;01mNone\u001b[39;00m:\n\u001b[32m    261\u001b[39m     subsequence = [enn]\n",
      "\u001b[36mFile \u001b[39m\u001b[32m~/miniforge3/envs/xsuite/lib/python3.13/site-packages/xtrack/slicing.py:278\u001b[39m, in \u001b[36mSlicer._slice_element\u001b[39m\u001b[34m(self, name, element, chosen_slicing, _edge_markers)\u001b[39m\n\u001b[32m    275\u001b[39m     _edge_markers = \u001b[38;5;28;01mFalse\u001b[39;00m\n\u001b[32m    277\u001b[39m \u001b[38;5;66;03m# Make the slices and add them to line.element_dict (so far inactive)\u001b[39;00m\n\u001b[32m--> \u001b[39m\u001b[32m278\u001b[39m slices_to_add = \u001b[38;5;28;43mself\u001b[39;49m\u001b[43m.\u001b[49m\u001b[43m_make_slices\u001b[49m\u001b[43m(\u001b[49m\n\u001b[32m    279\u001b[39m \u001b[43m    \u001b[49m\u001b[43melement\u001b[49m\u001b[43m=\u001b[49m\u001b[43melement\u001b[49m\u001b[43m,\u001b[49m\n\u001b[32m    280\u001b[39m \u001b[43m    \u001b[49m\u001b[43mchosen_slicing\u001b[49m\u001b[43m=\u001b[49m\u001b[43mchosen_slicing\u001b[49m\u001b[43m,\u001b[49m\n\u001b[32m    281\u001b[39m \u001b[43m    \u001b[49m\u001b[43mname\u001b[49m\u001b[43m=\u001b[49m\u001b[43mname\u001b[49m\u001b[43m,\u001b[49m\n\u001b[32m    282\u001b[39m \u001b[43m\u001b[49m\u001b[43m)\u001b[49m\n\u001b[32m    284\u001b[39m \u001b[38;5;28;01mif\u001b[39;00m _edge_markers:\n\u001b[32m    286\u001b[39m     \u001b[38;5;28;01mif\u001b[39;00m \u001b[38;5;28misinstance\u001b[39m(element, xt.Replica):\n",
      "\u001b[36mFile \u001b[39m\u001b[32m~/miniforge3/envs/xsuite/lib/python3.13/site-packages/xtrack/slicing.py:376\u001b[39m, in \u001b[36mSlicer._make_slices\u001b[39m\u001b[34m(self, element, chosen_slicing, name)\u001b[39m\n\u001b[32m    374\u001b[39m \u001b[38;5;28;01massert\u001b[39;00m \u001b[38;5;28mhasattr\u001b[39m(element, \u001b[33m'\u001b[39m\u001b[33m_parent\u001b[39m\u001b[33m'\u001b[39m)\n\u001b[32m    375\u001b[39m \u001b[38;5;28;01massert\u001b[39;00m element.isthick\n\u001b[32m--> \u001b[39m\u001b[32m376\u001b[39m elem_length = \u001b[43melement\u001b[49m\u001b[43m.\u001b[49m\u001b[43m_parent\u001b[49m\u001b[43m.\u001b[49m\u001b[43mlength\u001b[49m * element.weight\n\u001b[32m    377\u001b[39m elem_weight = element.weight\n\u001b[32m    378\u001b[39m slice_parent_name = element.parent_name\n",
      "\u001b[31mAttributeError\u001b[39m: 'NoneType' object has no attribute 'length'"
     ]
    }
   ],
   "source": [
    "%debug\n",
    "line.discard_tracker()\n",
    "#collimator jaw positions:\n",
    "ap_vebb_x = 0.0645\n",
    "jaw_ru = -ap_vebb_x\n",
    "jaw_rd = -ap_vebb_x - h_tot\n",
    "jaw_lu = ap_vebb_x\n",
    "jaw_ld = ap_vebb_x - h_tot\n",
    "L_coll = d_Be\n",
    "\n",
    "coll_12501 = xc.EverestCollimator(length=L_coll, material=xc.materials.Beryllium, jaw_RU=jaw_ru, jaw_RD=jaw_rd, jaw_LU=jaw_lu, jaw_LD=jaw_ld)\n",
    "coll_61101 = xc.EverestCollimator(length=L_coll, material=xc.materials.Beryllium, jaw_RU=jaw_ru, jaw_RD=jaw_rd, jaw_LU=jaw_lu, jaw_LD=jaw_ld)\n",
    "name_colls = ['vcak.12501_coll', 'vcak.61101_coll']\n",
    "s_colls = [line.get_s_position('vebb.12490.b_aper'), line.get_s_position('vebb.61090.b_aper')]\n",
    "\n",
    "names_vcak_apers_to_remove = ['vcak.12501.a_aper', 'vcak.12501.b_aper', 'vcak.61101.a_aper', 'vcak.61101.b_aper']\n",
    "# for name in names_vcak_apers_to_remove:\n",
    "#     line.remove(name)\n",
    "\n",
    "line.collimators.install(names=name_colls, elements=[coll_12501, coll_61101], at_s=s_colls)\n",
    "# line.collimators.install(names=name_colls[0], elements=[coll_12501], at_s=s_colls[0])\n",
    "# line.insert(name_colls[0], coll_12501, at=s_colls[0])"
   ]
  },
  {
   "cell_type": "code",
   "execution_count": null,
   "id": "a8ac0d34",
   "metadata": {},
   "outputs": [
    {
     "data": {
      "text/plain": [
       "np.float64(797.7962)"
      ]
     },
     "execution_count": 40,
     "metadata": {},
     "output_type": "execute_result"
    }
   ],
   "source": [
    "line.get_s_position('vcak.12501.a_aper')"
   ]
  },
  {
   "cell_type": "code",
   "execution_count": null,
   "id": "43d1d2d5",
   "metadata": {},
   "outputs": [],
   "source": [
    "tt = line.get_table()"
   ]
  },
  {
   "cell_type": "code",
   "execution_count": null,
   "id": "40021b14",
   "metadata": {},
   "outputs": [
    {
     "data": {
      "text/plain": [
       "Table: 2 rows, 11 cols\n",
       "name                          s element_type isthick isreplica parent_name iscollective ...\n",
       "vcak.61101.a_aper       6109.41 Drift           True     False None               False\n",
       "vcak.61101.b_aper       6110.27 LimitEllipse   False     False None               False"
      ]
     },
     "execution_count": 12,
     "metadata": {},
     "output_type": "execute_result"
    }
   ],
   "source": [
    "tt.rows['vcak.61101.*']"
   ]
  },
  {
   "cell_type": "code",
   "execution_count": null,
   "id": "1b4b0edf",
   "metadata": {},
   "outputs": [
    {
     "data": {
      "text/plain": [
       "[np.float64(797.7953), np.float64(6109.4139)]"
      ]
     },
     "execution_count": 49,
     "metadata": {},
     "output_type": "execute_result"
    }
   ],
   "source": [
    "s_colls"
   ]
  },
  {
   "cell_type": "code",
   "execution_count": null,
   "id": "b1dcc291",
   "metadata": {},
   "outputs": [
    {
     "data": {
      "text/plain": [
       "np.float64(6911.50379999983)"
      ]
     },
     "execution_count": 52,
     "metadata": {},
     "output_type": "execute_result"
    }
   ],
   "source": [
    "line.get_length()"
   ]
  },
  {
   "cell_type": "code",
   "execution_count": null,
   "id": "19565582",
   "metadata": {},
   "outputs": [
    {
     "data": {
      "text/plain": [
       "['mbb.12490..10_aper2',\n",
       " 'drift_218..0',\n",
       " 'vebb.12490.b_aper',\n",
       " 'drift_218..1',\n",
       " 'drift_218..2',\n",
       " 'drift_218..3',\n",
       " 'vtto.12505.a_aper',\n",
       " 'drift_218..4',\n",
       " 'lsd.12505',\n",
       " 'drift_219..0',\n",
       " 'vtto.12505.b_aper',\n",
       " 'drift_219..1']"
      ]
     },
     "execution_count": 55,
     "metadata": {},
     "output_type": "execute_result"
    }
   ],
   "source": [
    "idx = line.element_names.index('vebb.12490.b_aper')\n",
    "line.element_names[idx-2:idx+10]"
   ]
  },
  {
   "cell_type": "code",
   "execution_count": 21,
   "id": "c5b7c493",
   "metadata": {},
   "outputs": [
    {
     "data": {
      "text/plain": [
       "['drift_218..0',\n",
       " 'vebb.12490.b_aper',\n",
       " 'drift_218..1',\n",
       " 'vcak.12501.a_aper',\n",
       " 'drift_218..2',\n",
       " 'vcak.12501.b_aper',\n",
       " 'drift_218..3',\n",
       " 'vtto.12505.a_aper',\n",
       " 'drift_218..4',\n",
       " 'lsd.12505']"
      ]
     },
     "execution_count": 21,
     "metadata": {},
     "output_type": "execute_result"
    }
   ],
   "source": [
    "idx = line.element_names.index('drift_218..0')\n",
    "line.element_names[idx:idx+10]"
   ]
  },
  {
   "cell_type": "code",
   "execution_count": 11,
   "id": "e81cea18",
   "metadata": {},
   "outputs": [
    {
     "ename": "KeyError",
     "evalue": "'Name drift.218..1 not found'",
     "output_type": "error",
     "traceback": [
      "\u001b[31m---------------------------------------------------------------------------\u001b[39m",
      "\u001b[31mKeyError\u001b[39m                                  Traceback (most recent call last)",
      "\u001b[36mCell\u001b[39m\u001b[36m \u001b[39m\u001b[32mIn[11]\u001b[39m\u001b[32m, line 1\u001b[39m\n\u001b[32m----> \u001b[39m\u001b[32m1\u001b[39m \u001b[43mline\u001b[49m\u001b[43m[\u001b[49m\u001b[33;43m'\u001b[39;49m\u001b[33;43mdrift.218..1\u001b[39;49m\u001b[33;43m'\u001b[39;49m\u001b[43m]\u001b[49m\n",
      "\u001b[36mFile \u001b[39m\u001b[32m~/miniforge3/envs/xsuite/lib/python3.13/site-packages/xtrack/line.py:4566\u001b[39m, in \u001b[36mLine.__getitem__\u001b[39m\u001b[34m(self, key)\u001b[39m\n\u001b[32m   4564\u001b[39m     \u001b[38;5;28;01mreturn\u001b[39;00m \u001b[38;5;28mself\u001b[39m[env_name]\n\u001b[32m   4565\u001b[39m \u001b[38;5;28;01melse\u001b[39;00m:\n\u001b[32m-> \u001b[39m\u001b[32m4566\u001b[39m     \u001b[38;5;28;01mraise\u001b[39;00m \u001b[38;5;167;01mKeyError\u001b[39;00m(\u001b[33mf\u001b[39m\u001b[33m'\u001b[39m\u001b[33mName \u001b[39m\u001b[38;5;132;01m{\u001b[39;00mkey\u001b[38;5;132;01m}\u001b[39;00m\u001b[33m not found\u001b[39m\u001b[33m'\u001b[39m)\n",
      "\u001b[31mKeyError\u001b[39m: 'Name drift.218..1 not found'"
     ]
    }
   ],
   "source": [
    "line['drift.218..1']"
   ]
  },
  {
   "cell_type": "code",
   "execution_count": 14,
   "id": "92a5e1d9",
   "metadata": {},
   "outputs": [
    {
     "data": {
      "text/plain": [
       "Table: 5 rows, 11 cols\n",
       "name                     s element_type isthick isreplica parent_name iscollective       s_start ...\n",
       "drift_218..0         797.6 DriftSlice      True     False drift_218          False         797.6\n",
       "drift_218..1       797.795 DriftSlice      True     False drift_218          False       797.795\n",
       "drift_218..2       797.796 DriftSlice      True     False drift_218          False       797.796\n",
       "drift_218..3       798.655 DriftSlice      True     False drift_218          False       798.655\n",
       "drift_218..4       798.656 DriftSlice      True     False drift_218          False       798.656"
      ]
     },
     "execution_count": 14,
     "metadata": {},
     "output_type": "execute_result"
    }
   ],
   "source": [
    "tt.rows['drift.218.*']"
   ]
  },
  {
   "cell_type": "code",
   "execution_count": 13,
   "id": "385973bb",
   "metadata": {},
   "outputs": [],
   "source": [
    "tt = line.get_table()"
   ]
  },
  {
   "cell_type": "code",
   "execution_count": 18,
   "id": "e59f7d39",
   "metadata": {},
   "outputs": [
    {
     "data": {
      "text/plain": [
       "View of DriftSlice(parent_name='drift_218', _parent=None, radiation_flag=np.int64(10), delta_taper=0, weight=0.172)"
      ]
     },
     "execution_count": 18,
     "metadata": {},
     "output_type": "execute_result"
    }
   ],
   "source": [
    "line['drift_218..0']"
   ]
  },
  {
   "cell_type": "code",
   "execution_count": null,
   "id": "e3a038f9",
   "metadata": {},
   "outputs": [],
   "source": []
  }
 ],
 "metadata": {
  "kernelspec": {
   "display_name": "xsuite",
   "language": "python",
   "name": "python3"
  },
  "language_info": {
   "codemirror_mode": {
    "name": "ipython",
    "version": 3
   },
   "file_extension": ".py",
   "mimetype": "text/x-python",
   "name": "python",
   "nbconvert_exporter": "python",
   "pygments_lexer": "ipython3",
   "version": "3.13.2"
  }
 },
 "nbformat": 4,
 "nbformat_minor": 5
}
