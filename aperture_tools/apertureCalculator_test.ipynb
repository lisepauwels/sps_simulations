{
 "cells": [
  {
   "cell_type": "code",
   "execution_count": 1,
   "metadata": {},
   "outputs": [],
   "source": [
    "import numpy as np\n",
    "import xtrack as xt\n",
    "import ApertureCalculator as ac"
   ]
  },
  {
   "cell_type": "markdown",
   "metadata": {},
   "source": [
    "# Testing aperture classes"
   ]
  },
  {
   "cell_type": "code",
   "execution_count": 2,
   "metadata": {},
   "outputs": [],
   "source": [
    "ellipse = xt.LimitEllipse(a=0.01, b=0.02)\n",
    "rectangle = xt.LimitRect(min_x = -0.01, max_x=0.01, min_y=-0.02, max_y=-0.02)\n",
    "rectellipse = xt.LimitRectEllipse(a=0.01, b=0.02, max_x=0.02, max_y=0.01)\n",
    "racetrack = xt.LimitRacetrack(a=0.01, b=0.01, min_x = -0.03, max_x=0.03, min_y = -0.02, max_y=0.02)"
   ]
  },
  {
   "cell_type": "code",
   "execution_count": 3,
   "metadata": {},
   "outputs": [],
   "source": [
    "ap_ellipse = ac.EllipseAperture(ellipse, 'test_ellipse_ap')\n",
    "ap_rectangle = ac.RectAperture(rectangle, 'test_rectangle_ap')\n",
    "ap_rectellipse = ac.RectEllipseAperture(rectellipse, 'test_rectellipse_ap')\n",
    "ap_racetrack = ac.RacetrackAperture(racetrack, 'test_racetrack_ap')"
   ]
  },
  {
   "cell_type": "code",
   "execution_count": 4,
   "metadata": {},
   "outputs": [
    {
     "name": "stdout",
     "output_type": "stream",
     "text": [
      "Ellipse: x extent = (np.float64(-0.01), np.float64(0.01)), y extent = (np.float64(-0.02), np.float64(0.02))\n",
      "Rectangle: x extent = (np.float64(-0.01), np.float64(0.01)), y extent = (np.float64(-0.02), np.float64(-0.02))\n",
      "RectEllipse: x extent = (np.float64(-0.01), np.float64(0.01)), y extent = (np.float64(-0.01), np.float64(0.01))\n",
      "Racetrack: x extent = (np.float64(-0.03), np.float64(0.03)), y extent = (np.float64(-0.03), np.float64(0.03))\n"
     ]
    }
   ],
   "source": [
    "print(f'Ellipse: x extent = {ap_ellipse.compute_x_extent()}, y extent = {ap_ellipse.compute_y_extent()}')\n",
    "print(f'Rectangle: x extent = {ap_rectangle.compute_x_extent()}, y extent = {ap_rectangle.compute_y_extent()}')\n",
    "print(f'RectEllipse: x extent = {ap_rectellipse.compute_x_extent()}, y extent = {ap_rectellipse.compute_y_extent()}')\n",
    "print(f'Racetrack: x extent = {ap_racetrack.compute_x_extent()}, y extent = {ap_racetrack.compute_y_extent()}')"
   ]
  },
  {
   "cell_type": "markdown",
   "metadata": {},
   "source": [
    "# Testing Aperture Calculator class"
   ]
  },
  {
   "cell_type": "code",
   "execution_count": 2,
   "metadata": {},
   "outputs": [
    {
     "data": {
      "application/vnd.jupyter.widget-view+json": {
       "model_id": "0e13b36424ad4348bd2eabdf5f268194",
       "version_major": 2,
       "version_minor": 0
      },
      "text/plain": [
       "Loading line from dict:   0%|          | 0/31427 [00:00<?, ?it/s]"
      ]
     },
     "metadata": {},
     "output_type": "display_data"
    },
    {
     "name": "stdout",
     "output_type": "stream",
     "text": [
      "Done loading line from dict.           \n"
     ]
    }
   ],
   "source": [
    "line = xt.Line.from_json('../injection_thin_approx_ap2.json')"
   ]
  },
  {
   "cell_type": "code",
   "execution_count": 3,
   "metadata": {},
   "outputs": [],
   "source": [
    "line_ap_calc = ac.ApertureCalculator(line)"
   ]
  },
  {
   "cell_type": "code",
   "execution_count": 10,
   "metadata": {},
   "outputs": [],
   "source": [
    "x_extent = line_ap_calc.compute_x_extent()\n",
    "y_extent = line_ap_calc.compute_y_extent()\n",
    "\n",
    "x_min = x_extent[:,0]\n",
    "x_max = x_extent[:,1]\n",
    "y_min = y_extent[:,0]\n",
    "y_max = y_extent[:,1]"
   ]
  },
  {
   "cell_type": "markdown",
   "metadata": {},
   "source": [
    "# Comparing with previosu functions"
   ]
  },
  {
   "cell_type": "markdown",
   "metadata": {},
   "source": [
    "## Extent functions"
   ]
  },
  {
   "cell_type": "code",
   "execution_count": 13,
   "metadata": {},
   "outputs": [],
   "source": [
    "def get_ellipse_x_extent(el):\n",
    "    if (np.abs(el._cos_rot_s) > 1 and np.abs(el._sin_rot_s) > 1) or (np.abs(el._sin_rot_s) < 0.00001):\n",
    "        return -el.a + el.shift_x, el.a + el.shift_x\n",
    "    \n",
    "    else:\n",
    "        t_max = np.arctan(-el.b/el.a * el._sin_rot_s/el._cos_rot_s)\n",
    "        ext = el.a*np.cos(t_max)*el._cos_rot_s-el.b*np.sin(t_max)*el._sin_rot_s\n",
    "        \n",
    "        if ext < 0: \n",
    "            print('ERROR: ellipse extent is negatif')\n",
    "            \n",
    "        return -np.abs(ext) + el.shift_x, np.abs(ext) + el.shift_x\n",
    "    \n",
    "def get_rectangle_x_extent(el):\n",
    "    if (np.abs(el._cos_rot_s) > 1 and np.abs(el._sin_rot_s) > 1) or (np.abs(el._sin_rot_s) < 0.00001):\n",
    "        return el.min_x+ el.shift_x, el.max_x + el.shift_x\n",
    "    else:\n",
    "        w, h = el.max_x-el.min_x, el.max_y-el.min_y\n",
    "        corners = np.array([[-w/2, -h/2],\n",
    "                            [w/2, -h/2],\n",
    "                            [w/2, h/2],\n",
    "                            [-w/2, h/2]])\n",
    "        \n",
    "        rotation_matrix = np.array([\n",
    "            [el._cos_rot_s, -el._sin_rot_s],\n",
    "            [el._sin_rot_s,  el._cos_rot_s]\n",
    "        ])\n",
    "        \n",
    "        rotated_corners = corners @ rotation_matrix.T\n",
    "        \n",
    "        min_x_val = np.min(rotated_corners[:,0])\n",
    "        max_x_val = np.max(rotated_corners[:,0])\n",
    "        \n",
    "        return min_x_val + el.shift_x, max_x_val + el.shift_x\n",
    "    \n",
    "def get_rectellipse_x_extent(el):\n",
    "    if (np.abs(el._cos_rot_s) > 1 and np.abs(el._sin_rot_s) > 1) or (np.abs(el._sin_rot_s) < 0.00001):\n",
    "        ext = np.min([el.a, el.max_x])\n",
    "        \n",
    "        if ext < 0: \n",
    "            print('ERROR: ellipse extent is negatif')\n",
    "        \n",
    "        return -np.abs(ext) + el.shift_x, np.abs(ext) + el.shift_x\n",
    "    \n",
    "    else:\n",
    "        #ellipse part\n",
    "        t_max = np.arctan(-el.b/el.a * el._sin_rot_s/el._cos_rot_s)\n",
    "        ext_ellipse = np.abs(el.a*np.cos(t_max)*el._cos_rot_s-el.b*np.sin(t_max)*el._sin_rot_s)\n",
    "        \n",
    "        #rectangle part\n",
    "        corners = np.array([[-el.max_x, -el.max_y],\n",
    "                            [el.max_x, -el.max_y],\n",
    "                            [el.max_x, el.max_y],\n",
    "                            [-el.max_x, el.max_y]])\n",
    "    \n",
    "        rotation_matrix = np.array([\n",
    "            [el._cos_rot_s, -el._sin_rot_s],\n",
    "            [el._sin_rot_s,  el._cos_rot_s]\n",
    "        ])\n",
    "        \n",
    "        rotated_corners = corners @ rotation_matrix.T\n",
    "        ext_rect = np.max(rotated_corners[:,0])\n",
    "        if ext_rect < 0:\n",
    "            print(\"ERROR: rectangle extent from rectellipse is negatif\")\n",
    "        \n",
    "        ext = np.min([ext_ellipse, ext_rect])\n",
    "        if ext < 0:\n",
    "            print(\"ERROR: extent from rectellipse is negatif\")\n",
    "        \n",
    "        return -np.abs(ext) + el.shift_x, np.abs(ext) + el.shift_x\n",
    "\n",
    "def get_racetrack_x_extent(el):\n",
    "    if (np.abs(el._cos_rot_s) > 1 and np.abs(el._sin_rot_s) > 1) or (np.abs(el._sin_rot_s) < 0.00001):\n",
    "        return get_rectangle_x_extent(el)\n",
    "    \n",
    "    else:\n",
    "        rotation_matrix = np.array([\n",
    "                [el._cos_rot_s, -el._sin_rot_s],\n",
    "                [el._sin_rot_s,  el._cos_rot_s]\n",
    "            ])\n",
    "        \n",
    "        ellipse_centers = np.array([[el.min_x+el.a, el.min_y+el.b],\n",
    "                                    [el.max_x -el.a, el.min_y + el.b],\n",
    "                                    [el.max_x - el.a, el.max_y - el.b],\n",
    "                                    [el.min_x + el.a, el.max_y - el.b]])\n",
    "        \n",
    "        ellipse_centers_rot = ellipse_centers @ rotation_matrix.T\n",
    "        ellipses = np.array([xt.LimitEllipse(a= el.a, b=el.b, shift_x = ellipse_centers_rot[i,0], shift_y = ellipse_centers_rot[i,1], _cos_rot_s = el._cos_rot_s, _sin_rot_s = el._sin_rot_s) for i in range(4)])\n",
    "        \n",
    "        x_exts = []\n",
    "        for ellipse in ellipses:\n",
    "            x_min, x_max = get_ellipse_x_extent(ellipse)\n",
    "            x_exts.append(np.array([x_min, x_max]))\n",
    "        \n",
    "        x_exts = np.array(x_exts)\n",
    "            \n",
    "        return np.min(x_exts[:,0]) + el.shift_x, np.max(x_exts[:,1]) + el.shift_x"
   ]
  },
  {
   "cell_type": "code",
   "execution_count": 14,
   "metadata": {},
   "outputs": [],
   "source": [
    "def get_ellipse_y_extent(el):\n",
    "    if (np.abs(el._cos_rot_s) > 1 and np.abs(el._sin_rot_s) > 1) or (np.abs(el._sin_rot_s) < 0.00001):\n",
    "        return -el.b + el.shift_y, el.b + el.shift_y\n",
    "    \n",
    "    else:\n",
    "        t_max = np.arctan(el.b/el.a * el._cos_rot_s/el._sin_rot_s)\n",
    "        ext = el.a*np.cos(t_max)*el._sin_rot_s + el.b*np.sin(t_max)*el._cos_rot_s\n",
    "        \n",
    "        if ext < 0: \n",
    "            print('ERROR: ellipse extent is negatif')\n",
    "            \n",
    "        return -np.abs(ext) + el.shift_y, np.abs(ext) + el.shift_y\n",
    "    \n",
    "def get_rectangle_y_extent(el):\n",
    "    if (np.abs(el._cos_rot_s) > 1 and np.abs(el._sin_rot_s) > 1) or (np.abs(el._sin_rot_s) < 0.00001):\n",
    "        return el.min_y+ el.shift_y, el.max_y + el.shift_y\n",
    "    else:\n",
    "        w, h = el.max_x-el.min_x, el.max_y-el.min_y\n",
    "        corners = np.array([[-w/2, -h/2],\n",
    "                            [w/2, -h/2],\n",
    "                            [w/2, h/2],\n",
    "                            [-w/2, h/2]])\n",
    "        \n",
    "        rotation_matrix = np.array([\n",
    "            [el._cos_rot_s, -el._sin_rot_s],\n",
    "            [el._sin_rot_s,  el._cos_rot_s]\n",
    "        ])\n",
    "        \n",
    "        rotated_corners = corners @ rotation_matrix.T\n",
    "        \n",
    "        min_y_val = np.min(rotated_corners[:,1])\n",
    "        max_y_val = np.max(rotated_corners[:,1])\n",
    "        \n",
    "        return min_y_val + el.shift_y, max_y_val + el.shift_y\n",
    "    \n",
    "def get_rectellipse_y_extent(el):\n",
    "    if (np.abs(el._cos_rot_s) > 1 and np.abs(el._sin_rot_s) > 1) or (np.abs(el._sin_rot_s) < 0.00001):\n",
    "        ext = np.min([el.b, el.max_y])\n",
    "        \n",
    "        if ext < 0: \n",
    "            print('ERROR: ellipse extent is negatif')\n",
    "        \n",
    "        return -np.abs(ext) + el.shift_y, np.abs(ext) + el.shift_y\n",
    "    \n",
    "    else:\n",
    "        #ellipse part\n",
    "        t_max = np.arctan(el.b/el.a * el._cos_rot_s/el._sin_rot_s)\n",
    "        ext_ellipse = el.a*np.cos(t_max)*el._sin_rot_s + el.b*np.sin(t_max)*el._cos_rot_s\n",
    "        \n",
    "        #rectangle part\n",
    "        corners = np.array([[-el.max_x, -el.max_y],\n",
    "                            [el.max_x, -el.max_y],\n",
    "                            [el.max_x, el.max_y],\n",
    "                            [-el.max_x, el.max_y]])\n",
    "        \n",
    "        rotation_matrix = np.array([\n",
    "            [el._cos_rot_s, -el._sin_rot_s],\n",
    "            [el._sin_rot_s,  el._cos_rot_s]\n",
    "        ])\n",
    "        \n",
    "        rotated_corners = corners @ rotation_matrix.T\n",
    "        ext_rect = np.max(rotated_corners[:,1])\n",
    "        \n",
    "        if ext_rect < 0:\n",
    "            print(\"ERROR: rectangle extent from rectellipse is negatif\")\n",
    "        \n",
    "        ext = np.min([ext_ellipse, ext_rect])\n",
    "        if ext < 0:\n",
    "            print(\"ERROR: extent from rectellipse is negatif\")\n",
    "        \n",
    "        return -np.abs(ext) + el.shift_y, np.abs(ext) + el.shift_y\n",
    "\n",
    "def get_racetrack_y_extent(el):\n",
    "    if (np.abs(el._cos_rot_s) > 1 and np.abs(el._sin_rot_s) > 1) or (np.abs(el._sin_rot_s) < 0.00001):\n",
    "        return get_rectangle_y_extent(el)\n",
    "    \n",
    "    else:\n",
    "        rotation_matrix = np.array([\n",
    "                [el._cos_rot_s, -el._sin_rot_s],\n",
    "                [el._sin_rot_s,  el._cos_rot_s]\n",
    "            ])\n",
    "        \n",
    "        ellipse_centers = np.array([[el.min_x+el.a, el.min_y+el.b],\n",
    "                                    [el.max_x -el.a, el.min_y + el.b],\n",
    "                                    [el.max_x - el.a, el.max_y - el.b],\n",
    "                                    [el.min_x + el.a, el.max_y - el.b]])\n",
    "        \n",
    "        ellipse_centers_rot = ellipse_centers @ rotation_matrix.T\n",
    "        ellipses = np.array([xt.LimitEllipse(a= el.a, b=el.b, shift_x = ellipse_centers_rot[i,0], shift_y = ellipse_centers_rot[i,1], _cos_rot_s = el._cos_rot_s, _sin_rot_s = el._sin_rot_s) for i in range(4)])\n",
    "        \n",
    "        y_exts = []\n",
    "        for ellipse in ellipses:\n",
    "            y_min, y_max = get_ellipse_y_extent(ellipse)\n",
    "            y_exts.append(np.array([y_min, y_max]))\n",
    "        \n",
    "        y_exts = np.array(y_exts)\n",
    "            \n",
    "        return np.min(y_exts[:,0]) + el.shift_y, np.max(y_exts[:,1]) + el.shift_y"
   ]
  },
  {
   "cell_type": "code",
   "execution_count": 15,
   "metadata": {},
   "outputs": [],
   "source": [
    "def get_x_extent(el):\n",
    "    if el.__class__.__name__ == 'LimitRect':\n",
    "        return get_rectangle_x_extent(el)\n",
    "    \n",
    "    elif el.__class__.__name__ == 'LimitEllipse':\n",
    "        return get_ellipse_x_extent(el)\n",
    "    \n",
    "    elif el.__class__.__name__ == 'LimitRectEllipse':\n",
    "        return get_rectellipse_x_extent(el)\n",
    "    \n",
    "    elif el.__class__.__name__ == 'LimitRacetrack':\n",
    "        return get_racetrack_x_extent(el)\n",
    "\n",
    "def get_y_extent(el):\n",
    "    if el.__class__.__name__ == 'LimitRect':\n",
    "        return get_rectangle_y_extent(el)\n",
    "    \n",
    "    elif el.__class__.__name__ == 'LimitEllipse':\n",
    "        return get_ellipse_y_extent(el)\n",
    "    \n",
    "    elif el.__class__.__name__ == 'LimitRectEllipse':\n",
    "        return get_rectellipse_y_extent(el)\n",
    "    \n",
    "    elif el.__class__.__name__ == 'LimitRacetrack':\n",
    "        return get_racetrack_y_extent(el)"
   ]
  },
  {
   "cell_type": "markdown",
   "metadata": {},
   "source": [
    "## Making x and y extents from functions"
   ]
  },
  {
   "cell_type": "code",
   "execution_count": 6,
   "metadata": {},
   "outputs": [],
   "source": [
    "tab = line.get_table()\n",
    "mask = [el.startswith('Limit') for el in tab.element_type]"
   ]
  },
  {
   "cell_type": "code",
   "execution_count": 16,
   "metadata": {},
   "outputs": [],
   "source": [
    "x_max_func = np.array([get_x_extent(line[name])[1] for name in tab.name[mask]])\n",
    "x_min_func = np.array([get_x_extent(line[name])[0] for name in tab.name[mask]])\n",
    "\n",
    "y_max_func = np.array([get_y_extent(line[name])[1] for name in tab.name[mask]])\n",
    "y_min_func = np.array([get_y_extent(line[name])[0] for name in tab.name[mask]])\n",
    "\n",
    "names_arr = np.array(tab.name[mask])\n",
    "s_arr = np.array(tab.s[mask])"
   ]
  },
  {
   "cell_type": "markdown",
   "metadata": {},
   "source": [
    "## Comparing"
   ]
  },
  {
   "cell_type": "code",
   "execution_count": 21,
   "metadata": {},
   "outputs": [
    {
     "name": "stdout",
     "output_type": "stream",
     "text": [
      "[0.]\n",
      "[0.]\n",
      "[0.]\n",
      "[0.]\n"
     ]
    }
   ],
   "source": [
    "print(np.unique(np.subtract(x_max, x_max_func)))\n",
    "print(np.unique(np.subtract(x_min, x_min_func)))\n",
    "print(np.unique(np.subtract(y_max, y_max_func)))\n",
    "print(np.unique(np.subtract(y_min, y_min_func)))"
   ]
  }
 ],
 "metadata": {
  "kernelspec": {
   "display_name": "xsuite_dev",
   "language": "python",
   "name": "python3"
  },
  "language_info": {
   "codemirror_mode": {
    "name": "ipython",
    "version": 3
   },
   "file_extension": ".py",
   "mimetype": "text/x-python",
   "name": "python",
   "nbconvert_exporter": "python",
   "pygments_lexer": "ipython3",
   "version": "3.11.10"
  }
 },
 "nbformat": 4,
 "nbformat_minor": 2
}
