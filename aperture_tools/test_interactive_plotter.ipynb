{
 "cells": [
  {
   "cell_type": "code",
   "execution_count": 3,
   "metadata": {},
   "outputs": [
    {
     "data": {
      "application/vnd.jupyter.widget-view+json": {
       "model_id": "f2e49f753b3b4a9c87c868f9c2d13334",
       "version_major": 2,
       "version_minor": 0
      },
      "text/plain": [
       "Loading line from dict:   0%|          | 0/31362 [00:00<?, ?it/s]"
      ]
     },
     "metadata": {},
     "output_type": "display_data"
    },
    {
     "name": "stdout",
     "output_type": "stream",
     "text": [
      "Done loading line from dict.           \n"
     ]
    },
    {
     "data": {
      "application/vnd.jupyter.widget-view+json": {
       "model_id": "eebf142f293c47be8f7455bb9329b3a0",
       "version_major": 2,
       "version_minor": 0
      },
      "text/plain": [
       "Loading line from dict:   0%|          | 0/7477 [00:00<?, ?it/s]"
      ]
     },
     "metadata": {},
     "output_type": "display_data"
    },
    {
     "name": "stdout",
     "output_type": "stream",
     "text": [
      "Done loading line from dict.           \n",
      "Compiling ContextCpu kernels...\n"
     ]
    },
    {
     "name": "stderr",
     "output_type": "stream",
     "text": [
      "/home/lpauwels/miniforge3/envs/xsuite/lib/python3.13/site-packages/setuptools/config/expand.py:128: SetuptoolsWarning: File '/eos/home-l/lpauwels/sps_simulations/aperture_tools/README.md' cannot be found\n",
      "  for path in _filter_existing_files(_filepaths)\n"
     ]
    },
    {
     "name": "stdout",
     "output_type": "stream",
     "text": [
      "Done compiling ContextCpu kernels.\n",
      "Compiling ContextCpu kernels...\n"
     ]
    },
    {
     "name": "stderr",
     "output_type": "stream",
     "text": [
      "/home/lpauwels/miniforge3/envs/xsuite/lib/python3.13/site-packages/setuptools/config/expand.py:128: SetuptoolsWarning: File '/eos/home-l/lpauwels/sps_simulations/aperture_tools/README.md' cannot be found\n",
      "  for path in _filter_existing_files(_filepaths)\n"
     ]
    },
    {
     "name": "stdout",
     "output_type": "stream",
     "text": [
      "Done compiling ContextCpu kernels.\n"
     ]
    }
   ],
   "source": [
    "%matplotlib tk\n",
    "import xtrack as xt\n",
    "# import ApertureCalculator as ac\n",
    "# import InteractivePlotter as ip\n",
    "import apertls\n",
    "line = xt.Line.from_json('../injection_lines/injection_thin_approx_ap_with_deferred_expressions.json')\n",
    "line_thick = xt.Line.from_json('../injection_lines/injection_thick_approx_ap.json')\n",
    "\n",
    "plotter = apertls.InteractiveAperturePlotter(line, line_thick)\n",
    "plotter.plot_5sigma_beam()\n",
    "plotter.plot_5sigma_bucket_heigth()\n",
    "plotter.plot_phase_advance()\n",
    "plotter.show()"
   ]
  },
  {
   "cell_type": "code",
   "execution_count": 5,
   "metadata": {},
   "outputs": [
    {
     "data": {
      "application/vnd.jupyter.widget-view+json": {
       "model_id": "647963141cb24ea393bf27e7d1ec2b9c",
       "version_major": 2,
       "version_minor": 0
      },
      "text/plain": [
       "Loading line from dict:   0%|          | 0/31427 [00:00<?, ?it/s]"
      ]
     },
     "metadata": {},
     "output_type": "display_data"
    },
    {
     "name": "stdout",
     "output_type": "stream",
     "text": [
      "Done loading line from dict.           \n"
     ]
    },
    {
     "data": {
      "application/vnd.jupyter.widget-view+json": {
       "model_id": "2d6da74d53d341949269d97a382b9ed0",
       "version_major": 2,
       "version_minor": 0
      },
      "text/plain": [
       "Loading line from dict:   0%|          | 0/7477 [00:00<?, ?it/s]"
      ]
     },
     "metadata": {},
     "output_type": "display_data"
    },
    {
     "name": "stdout",
     "output_type": "stream",
     "text": [
      "Done loading line from dict.           \n"
     ]
    }
   ],
   "source": [
    "line = xt.Line.from_json('../injection_lines/injection_thin_approx_ap2.json')\n",
    "line_thick = xt.Line.from_json('../injection_lines/injection_thick_approx_ap.json')\n",
    "\n",
    "plotter = ip.InteractiveAperturePlotter(line, line_thick)\n",
    "plotter.plot_5sigma_beam()\n",
    "plotter.plot_phase_advance()\n",
    "plotter.show()"
   ]
  },
  {
   "cell_type": "code",
   "execution_count": 11,
   "metadata": {},
   "outputs": [],
   "source": [
    "import xtrack as xt\n",
    "import ApertureCalculator as ac\n",
    "import InteractivePlotter as ip\n",
    "import numpy as np"
   ]
  },
  {
   "cell_type": "code",
   "execution_count": 6,
   "metadata": {},
   "outputs": [],
   "source": [
    "ap_calc = ac.ApertureCalculator(line)"
   ]
  },
  {
   "cell_type": "code",
   "execution_count": 7,
   "metadata": {},
   "outputs": [],
   "source": [
    "x_ext = ap_calc.compute_x_extent()\n",
    "y_ext = ap_calc.compute_y_extent()"
   ]
  },
  {
   "cell_type": "code",
   "execution_count": 8,
   "metadata": {},
   "outputs": [],
   "source": [
    "tw = line.twiss()"
   ]
  },
  {
   "cell_type": "code",
   "execution_count": 9,
   "metadata": {},
   "outputs": [],
   "source": [
    "tab = line.get_table()\n",
    "mask = [el.startswith('Limit') for el in tab.element_type]"
   ]
  },
  {
   "cell_type": "code",
   "execution_count": 12,
   "metadata": {},
   "outputs": [],
   "source": [
    "exn=3.5e-6\n",
    "sigma_x = np.sqrt(tw.betx*exn/tw.gamma0)\n",
    "sigma_x_restr = np.array([sigma_x[i] for i in range(len(sigma_x)) if mask[i]])\n",
    "sigma_y = np.sqrt(tw.bety*exn/tw.gamma0)\n",
    "sigma_y_restr = np.array([sigma_y[i] for i in range(len(sigma_y)) if mask[i]])"
   ]
  },
  {
   "cell_type": "code",
   "execution_count": null,
   "metadata": {},
   "outputs": [],
   "source": []
  },
  {
   "cell_type": "code",
   "execution_count": 32,
   "metadata": {},
   "outputs": [
    {
     "data": {
      "text/plain": [
       "(np.float64(0.0),\n",
       " np.float64(0.0),\n",
       " np.float64(0.0),\n",
       " np.float64(0.0),\n",
       " np.float64(0.0019786171406957825),\n",
       " np.float64(0.0036915599243004483),\n",
       " np.float64(0.0019734155336182577),\n",
       " np.float64(0.0036989311192460847),\n",
       " array([[-0.076,  0.076],\n",
       "        [-0.076,  0.076],\n",
       "        [-0.076,  0.076],\n",
       "        ...,\n",
       "        [-0.076,  0.076],\n",
       "        [-0.076,  0.076],\n",
       "        [-0.076,  0.076]]),\n",
       " array([[-0.01915,  0.01915],\n",
       "        [-0.01915,  0.01915],\n",
       "        [-0.01915,  0.01915],\n",
       "        ...,\n",
       "        [-0.01915,  0.01915],\n",
       "        [-0.01765,  0.01765],\n",
       "        [-0.01765,  0.01765]]))"
      ]
     },
     "execution_count": 32,
     "metadata": {},
     "output_type": "execute_result"
    }
   ],
   "source": [
    "np.min(tw.x), np.max(tw.x), np.min(tw.y), np.max(tw.y), np.min(sigma_x_restr), np.max(sigma_x_restr), np.min(sigma_y_restr), np.max(sigma_y_restr), x_ext, y_ext"
   ]
  },
  {
   "cell_type": "code",
   "execution_count": 13,
   "metadata": {},
   "outputs": [],
   "source": [
    "ap_s_x = np.array([[x_ext[i, 0]/sigma_x_restr[i], x_ext[i, 1]/sigma_x_restr[i]] for i in range(len(sigma_x_restr))])\n",
    "ap_s_y = np.array([[y_ext[i, 0]/sigma_y_restr[i], y_ext[i, 1]/sigma_y_restr[i]] for i in range(len(sigma_y_restr))])"
   ]
  },
  {
   "cell_type": "code",
   "execution_count": 34,
   "metadata": {},
   "outputs": [
    {
     "data": {
      "text/plain": [
       "np.float64(14.201248241430623)"
      ]
     },
     "execution_count": 34,
     "metadata": {},
     "output_type": "execute_result"
    }
   ],
   "source": [
    "np.min(ap_s_x[:,1])"
   ]
  },
  {
   "cell_type": "code",
   "execution_count": 37,
   "metadata": {},
   "outputs": [
    {
     "data": {
      "text/plain": [
       "(array([10570, 10571, 10572, 10573]),)"
      ]
     },
     "execution_count": 37,
     "metadata": {},
     "output_type": "execute_result"
    }
   ],
   "source": [
    "np.where(ap_s_y[:,1] == np.min(ap_s_y[:,1]))"
   ]
  },
  {
   "cell_type": "code",
   "execution_count": 39,
   "metadata": {},
   "outputs": [
    {
     "data": {
      "text/plain": [
       "array([-0.01725,  0.01725])"
      ]
     },
     "execution_count": 39,
     "metadata": {},
     "output_type": "execute_result"
    }
   ],
   "source": [
    "y_ext[10570]"
   ]
  },
  {
   "cell_type": "code",
   "execution_count": 15,
   "metadata": {},
   "outputs": [
    {
     "data": {
      "text/plain": [
       "np.float64(6.168350156276337)"
      ]
     },
     "execution_count": 15,
     "metadata": {},
     "output_type": "execute_result"
    }
   ],
   "source": [
    "np.min(ap_s_y[:,1])"
   ]
  },
  {
   "cell_type": "code",
   "execution_count": 48,
   "metadata": {},
   "outputs": [
    {
     "data": {
      "image/png": "[encoded data removed]",
      "text/plain": [
       "<Figure size 640x480 with 3 Axes>"
      ]
     },
     "metadata": {},
     "output_type": "display_data"
    }
   ],
   "source": [
    "plotter = ip.InteractiveAperturePlotter(line, line_thick, ap_x=ap_s_x, ap_y=ap_s_y)"
   ]
  },
  {
   "cell_type": "code",
   "execution_count": 105,
   "metadata": {},
   "outputs": [],
   "source": [
    "x_int = np.linspace(-12.7, 12.7, round(12.7*2/0.1)+1)\n",
    "x_ext = np.linspace(-14.7, 14.7, round(14.7*2/0.1)+1)\n",
    "\n",
    "y_int = np.linspace(-4.6683, 4.6683, round(4.6683*2/0.1)+1)\n",
    "y_ext = np.linspace(-6.6683, 6.6683, round(6.6683*2/0.1)+1)\n",
    "\n",
    "X, Y = np.meshgrid(x_ext, y_ext, indexing='xy')\n",
    "\n",
    "x_flat = X.ravel()\n",
    "y_flat = Y.ravel()\n",
    "\n",
    "# Filter out points that fall inside the inner rectangle\n",
    "mask = ~((x_flat >= x_int.min()) & (x_flat <= x_int.max()) &\n",
    "         (y_flat >= y_int.min()) & (y_flat <= y_int.max()))\n",
    "\n",
    "# Apply mask\n",
    "x_hollow = x_flat[mask]\n",
    "y_hollow = y_flat[mask]\n"
   ]
  },
  {
   "cell_type": "code",
   "execution_count": 126,
   "metadata": {},
   "outputs": [
    {
     "data": {
      "text/plain": [
       "15550"
      ]
     },
     "execution_count": 126,
     "metadata": {},
     "output_type": "execute_result"
    }
   ],
   "source": [
    "1555*10"
   ]
  },
  {
   "cell_type": "code",
   "execution_count": 107,
   "metadata": {},
   "outputs": [
    {
     "data": {
      "image/png": "[encoded data removed]",
      "text/plain": [
       "<Figure size 640x480 with 1 Axes>"
      ]
     },
     "metadata": {},
     "output_type": "display_data"
    }
   ],
   "source": [
    "plt.close()\n",
    "plt.scatter(x_hollow, y_hollow)\n",
    "plt.show()"
   ]
  },
  {
   "cell_type": "code",
   "execution_count": 108,
   "metadata": {},
   "outputs": [],
   "source": [
    "part = line.build_particles(x_norm=x_hollow, y_norm=y_hollow, px_norm=np.zeros_like(x_hollow), py_norm=np.zeros_like(x_hollow), nemitt_x=3.5e-6, nemitt_y=3.5e-6)"
   ]
  },
  {
   "cell_type": "code",
   "execution_count": 135,
   "metadata": {},
   "outputs": [
    {
     "data": {
      "image/png": "[encoded data removed]",
      "text/plain": [
       "<Figure size 640x480 with 1 Axes>"
      ]
     },
     "metadata": {},
     "output_type": "display_data"
    }
   ],
   "source": [
    "plt.close()\n",
    "plt.scatter(part.x, part.y)\n",
    "plt.show()"
   ]
  },
  {
   "cell_type": "code",
   "execution_count": 124,
   "metadata": {},
   "outputs": [
    {
     "data": {
      "text/plain": [
       "15560"
      ]
     },
     "execution_count": 124,
     "metadata": {},
     "output_type": "execute_result"
    }
   ],
   "source": [
    "len(part.x)"
   ]
  },
  {
   "cell_type": "code",
   "execution_count": 125,
   "metadata": {},
   "outputs": [
    {
     "data": {
      "text/plain": [
       "46680"
      ]
     },
     "execution_count": 125,
     "metadata": {},
     "output_type": "execute_result"
    }
   ],
   "source": [
    "15560*3"
   ]
  },
  {
   "cell_type": "code",
   "execution_count": 134,
   "metadata": {},
   "outputs": [],
   "source": [
    "step =0\n",
    "x_norm = x_hollow[step*10:step*10+10]\n",
    "y_norm = y_hollow[step*10:step*10+10]\n",
    "px_norm = np.zeros_like(x_norm)\n",
    "py_norm = np.zeros_like(y_norm)\n",
    "part = line.build_particles(x_norm=x_norm, px_norm=px_norm, y_norm=y_norm, py_norm=py_norm, nemitt_x=3.5e-6, nemitt_y=3.5e-6)"
   ]
  },
  {
   "cell_type": "code",
   "execution_count": 128,
   "metadata": {},
   "outputs": [
    {
     "data": {
      "text/plain": [
       "array([-14.7, -14.6, -14.5, -14.4, -14.3, -14.2, -14.1, -14. , -13.9,\n",
       "       -13.8])"
      ]
     },
     "execution_count": 128,
     "metadata": {},
     "output_type": "execute_result"
    }
   ],
   "source": [
    "x_norm"
   ]
  },
  {
   "cell_type": "code",
   "execution_count": 139,
   "metadata": {},
   "outputs": [],
   "source": [
    "import json\n",
    "from pathlib import Path\n",
    "path_out = Path('/eos/user/l/lpauwels/ht_condor_sps_tracking_results/')"
   ]
  },
  {
   "cell_type": "code",
   "execution_count": 143,
   "metadata": {},
   "outputs": [],
   "source": [
    "import pickle"
   ]
  },
  {
   "cell_type": "code",
   "execution_count": 144,
   "metadata": {},
   "outputs": [],
   "source": [
    "with open(Path(path_out, f'particles_test.json'), 'wb') as f:\n",
    "    pickle.dump(part.to_dict(), f)"
   ]
  },
  {
   "cell_type": "code",
   "execution_count": 146,
   "metadata": {},
   "outputs": [],
   "source": [
    "with open(Path(path_out, f'particles_test.json'), 'rb') as f:\n",
    "    d = pickle.load(f)"
   ]
  },
  {
   "cell_type": "code",
   "execution_count": 142,
   "metadata": {},
   "outputs": [
    {
     "data": {
      "text/plain": [
       "{'particle_id': array([0, 1, 2, 3, 4, 5, 6, 7, 8, 9]),\n",
       " 'mass0': np.float64(938272088.1604904),\n",
       " 'parent_particle_id': array([0, 1, 2, 3, 4, 5, 6, 7, 8, 9]),\n",
       " 'pdg_id': array([0, 0, 0, 0, 0, 0, 0, 0, 0, 0]),\n",
       " 'zeta': array([-8.43361021e-05, -8.37623871e-05, -8.31886721e-05, -8.26149571e-05,\n",
       "        -8.20412421e-05, -8.14675272e-05, -8.08938122e-05, -8.03200972e-05,\n",
       "        -7.97463822e-05, -7.91726672e-05]),\n",
       " 'state': array([1, 1, 1, 1, 1, 1, 1, 1, 1, 1]),\n",
       " 'charge_ratio': array([1., 1., 1., 1., 1., 1., 1., 1., 1., 1.]),\n",
       " 'x': array([-0.05319454, -0.05283267, -0.0524708 , -0.05210893, -0.05174707,\n",
       "        -0.0513852 , -0.05102333, -0.05066146, -0.0502996 , -0.04993773]),\n",
       " 'at_turn': array([0, 0, 0, 0, 0, 0, 0, 0, 0, 0]),\n",
       " '_rng_s4': array([0, 0, 0, 0, 0, 0, 0, 0, 0, 0], dtype=uint32),\n",
       " 'weight': array([1., 1., 1., 1., 1., 1., 1., 1., 1., 1.]),\n",
       " '_rng_s2': array([0, 0, 0, 0, 0, 0, 0, 0, 0, 0], dtype=uint32),\n",
       " 'y': array([-0.01348185, -0.01348185, -0.01348185, -0.01348185, -0.01348185,\n",
       "        -0.01348185, -0.01348185, -0.01348185, -0.01348185, -0.01348185]),\n",
       " 'q0': np.float64(1.0),\n",
       " 'ax': array([0., 0., 0., 0., 0., 0., 0., 0., 0., 0.]),\n",
       " 's': array([0., 0., 0., 0., 0., 0., 0., 0., 0., 0.]),\n",
       " 't_sim': np.float64(2.3069321592724075e-05),\n",
       " 'px': array([-0.00095397, -0.00094748, -0.00094099, -0.0009345 , -0.00092801,\n",
       "        -0.00092152, -0.00091503, -0.00090854, -0.00090205, -0.00089556]),\n",
       " 'chi': array([1., 1., 1., 1., 1., 1., 1., 1., 1., 1.]),\n",
       " 'start_tracking_at_element': np.int64(-1),\n",
       " '_rng_s1': array([0, 0, 0, 0, 0, 0, 0, 0, 0, 0], dtype=uint32),\n",
       " '_rng_s3': array([0, 0, 0, 0, 0, 0, 0, 0, 0, 0], dtype=uint32),\n",
       " 'py': array([0.00026246, 0.00026246, 0.00026246, 0.00026246, 0.00026246,\n",
       "        0.00026246, 0.00026246, 0.00026246, 0.00026246, 0.00026246]),\n",
       " 'at_element': array([0, 0, 0, 0, 0, 0, 0, 0, 0, 0]),\n",
       " 'ay': array([0., 0., 0., 0., 0., 0., 0., 0., 0., 0.]),\n",
       " 'delta': LinkedArrayCpu([-2.65130544e-07, -2.63326935e-07, -2.61523326e-07,\n",
       "                 -2.59719716e-07, -2.57916107e-07, -2.56112498e-07,\n",
       "                 -2.54308889e-07, -2.52505280e-07, -2.50701671e-07,\n",
       "                 -2.48898062e-07]),\n",
       " 'ptau': LinkedArrayCpu([-2.64957848e-07, -2.63155414e-07, -2.61352979e-07,\n",
       "                 -2.59550545e-07, -2.57748111e-07, -2.55945676e-07,\n",
       "                 -2.54143242e-07, -2.52340808e-07, -2.50538373e-07,\n",
       "                 -2.48735939e-07]),\n",
       " 'rvv': LinkedArrayCpu([1., 1., 1., 1., 1., 1., 1., 1., 1., 1.]),\n",
       " 'rpp': LinkedArrayCpu([1.00000027, 1.00000026, 1.00000026, 1.00000026,\n",
       "                 1.00000026, 1.00000026, 1.00000025, 1.00000025,\n",
       "                 1.00000025, 1.00000025]),\n",
       " 'p0c': array([2.59830646e+10, 2.59830646e+10, 2.59830646e+10, 2.59830646e+10,\n",
       "        2.59830646e+10, 2.59830646e+10, 2.59830646e+10, 2.59830646e+10,\n",
       "        2.59830646e+10, 2.59830646e+10]),\n",
       " 'beta0': array([0.99934864, 0.99934864, 0.99934864, 0.99934864, 0.99934864,\n",
       "        0.99934864, 0.99934864, 0.99934864, 0.99934864, 0.99934864]),\n",
       " 'gamma0': array([27.71051204, 27.71051204, 27.71051204, 27.71051204, 27.71051204,\n",
       "        27.71051204, 27.71051204, 27.71051204, 27.71051204, 27.71051204])}"
      ]
     },
     "execution_count": 142,
     "metadata": {},
     "output_type": "execute_result"
    }
   ],
   "source": [
    "dic"
   ]
  },
  {
   "cell_type": "code",
   "execution_count": 147,
   "metadata": {},
   "outputs": [
    {
     "data": {
      "text/plain": [
       "{'particle_id': array([0, 1, 2, 3, 4, 5, 6, 7, 8, 9]),\n",
       " 'mass0': np.float64(938272088.1604904),\n",
       " 'parent_particle_id': array([0, 1, 2, 3, 4, 5, 6, 7, 8, 9]),\n",
       " 'pdg_id': array([0, 0, 0, 0, 0, 0, 0, 0, 0, 0]),\n",
       " 'zeta': array([-8.43361021e-05, -8.37623871e-05, -8.31886721e-05, -8.26149571e-05,\n",
       "        -8.20412421e-05, -8.14675272e-05, -8.08938122e-05, -8.03200972e-05,\n",
       "        -7.97463822e-05, -7.91726672e-05]),\n",
       " 'state': array([1, 1, 1, 1, 1, 1, 1, 1, 1, 1]),\n",
       " 'charge_ratio': array([1., 1., 1., 1., 1., 1., 1., 1., 1., 1.]),\n",
       " 'x': array([-0.05319454, -0.05283267, -0.0524708 , -0.05210893, -0.05174707,\n",
       "        -0.0513852 , -0.05102333, -0.05066146, -0.0502996 , -0.04993773]),\n",
       " 'at_turn': array([0, 0, 0, 0, 0, 0, 0, 0, 0, 0]),\n",
       " '_rng_s4': array([0, 0, 0, 0, 0, 0, 0, 0, 0, 0], dtype=uint32),\n",
       " 'weight': array([1., 1., 1., 1., 1., 1., 1., 1., 1., 1.]),\n",
       " '_rng_s2': array([0, 0, 0, 0, 0, 0, 0, 0, 0, 0], dtype=uint32),\n",
       " 'y': array([-0.01348185, -0.01348185, -0.01348185, -0.01348185, -0.01348185,\n",
       "        -0.01348185, -0.01348185, -0.01348185, -0.01348185, -0.01348185]),\n",
       " 'q0': np.float64(1.0),\n",
       " 'ax': array([0., 0., 0., 0., 0., 0., 0., 0., 0., 0.]),\n",
       " 's': array([0., 0., 0., 0., 0., 0., 0., 0., 0., 0.]),\n",
       " 't_sim': np.float64(2.3069321592724075e-05),\n",
       " 'px': array([-0.00095397, -0.00094748, -0.00094099, -0.0009345 , -0.00092801,\n",
       "        -0.00092152, -0.00091503, -0.00090854, -0.00090205, -0.00089556]),\n",
       " 'chi': array([1., 1., 1., 1., 1., 1., 1., 1., 1., 1.]),\n",
       " 'start_tracking_at_element': np.int64(-1),\n",
       " '_rng_s1': array([0, 0, 0, 0, 0, 0, 0, 0, 0, 0], dtype=uint32),\n",
       " '_rng_s3': array([0, 0, 0, 0, 0, 0, 0, 0, 0, 0], dtype=uint32),\n",
       " 'py': array([0.00026246, 0.00026246, 0.00026246, 0.00026246, 0.00026246,\n",
       "        0.00026246, 0.00026246, 0.00026246, 0.00026246, 0.00026246]),\n",
       " 'at_element': array([0, 0, 0, 0, 0, 0, 0, 0, 0, 0]),\n",
       " 'ay': array([0., 0., 0., 0., 0., 0., 0., 0., 0., 0.]),\n",
       " 'delta': LinkedArrayCpu([-2.65130544e-07, -2.63326935e-07, -2.61523326e-07,\n",
       "                 -2.59719716e-07, -2.57916107e-07, -2.56112498e-07,\n",
       "                 -2.54308889e-07, -2.52505280e-07, -2.50701671e-07,\n",
       "                 -2.48898062e-07]),\n",
       " 'ptau': LinkedArrayCpu([-2.64957848e-07, -2.63155414e-07, -2.61352979e-07,\n",
       "                 -2.59550545e-07, -2.57748111e-07, -2.55945676e-07,\n",
       "                 -2.54143242e-07, -2.52340808e-07, -2.50538373e-07,\n",
       "                 -2.48735939e-07]),\n",
       " 'rvv': LinkedArrayCpu([1., 1., 1., 1., 1., 1., 1., 1., 1., 1.]),\n",
       " 'rpp': LinkedArrayCpu([1.00000027, 1.00000026, 1.00000026, 1.00000026,\n",
       "                 1.00000026, 1.00000026, 1.00000025, 1.00000025,\n",
       "                 1.00000025, 1.00000025]),\n",
       " 'p0c': array([2.59830646e+10, 2.59830646e+10, 2.59830646e+10, 2.59830646e+10,\n",
       "        2.59830646e+10, 2.59830646e+10, 2.59830646e+10, 2.59830646e+10,\n",
       "        2.59830646e+10, 2.59830646e+10]),\n",
       " 'beta0': array([0.99934864, 0.99934864, 0.99934864, 0.99934864, 0.99934864,\n",
       "        0.99934864, 0.99934864, 0.99934864, 0.99934864, 0.99934864]),\n",
       " 'gamma0': array([27.71051204, 27.71051204, 27.71051204, 27.71051204, 27.71051204,\n",
       "        27.71051204, 27.71051204, 27.71051204, 27.71051204, 27.71051204])}"
      ]
     },
     "execution_count": 147,
     "metadata": {},
     "output_type": "execute_result"
    }
   ],
   "source": [
    "d"
   ]
  },
  {
   "cell_type": "code",
   "execution_count": null,
   "metadata": {},
   "outputs": [],
   "source": []
  }
 ],
 "metadata": {
  "kernelspec": {
   "display_name": "xsuite",
   "language": "python",
   "name": "python3"
  },
  "language_info": {
   "codemirror_mode": {
    "name": "ipython",
    "version": 3
   },
   "file_extension": ".py",
   "mimetype": "text/x-python",
   "name": "python",
   "nbconvert_exporter": "python",
   "pygments_lexer": "ipython3",
   "version": "3.13.2"
  }
 },
 "nbformat": 4,
 "nbformat_minor": 2
}
